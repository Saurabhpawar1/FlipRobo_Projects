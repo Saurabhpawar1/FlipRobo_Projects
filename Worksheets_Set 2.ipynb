{
 "cells": [
  {
   "cell_type": "markdown",
   "metadata": {},
   "source": [
    "# STATISTICS WORKSHEET-2"
   ]
  },
  {
   "cell_type": "markdown",
   "metadata": {},
   "source": [
    "## Q1 to Q15 have only one correct answer. Choose the correct option to answer your question."
   ]
  },
  {
   "cell_type": "markdown",
   "metadata": {},
   "source": [
    "1. What represent a population parameter?\n",
    "\n",
    "A) SD\n",
    "B) mean\n",
    "C) both\n",
    "D) none\n",
    "\n",
    "--> c) both"
   ]
  },
  {
   "cell_type": "markdown",
   "metadata": {},
   "source": [
    "2. What will be median of following set of scores (18,6,12,10,15)?\n",
    "\n",
    "A) 14\n",
    "B) 18\n",
    "C) 12\n",
    "D) 10\n",
    "\n",
    "--> c)12"
   ]
  },
  {
   "cell_type": "markdown",
   "metadata": {},
   "source": [
    "3. What is standard deviation?\n",
    "\n",
    "A) An approximate indicator of how number vary from the mean\n",
    "B) A measure of variability\n",
    "C) The square root of the variance\n",
    "D) All of the above\n",
    "\n",
    "--> D) All of the above"
   ]
  },
  {
   "cell_type": "markdown",
   "metadata": {},
   "source": [
    "4. The intervals should be ______ in a grouped frequency distribution\n",
    "\n",
    "A) Exhaustive\n",
    "B) Mutually exclusive\n",
    "C) Both of these\n",
    "D) None\n",
    "\n",
    "--> C) Both of these"
   ]
  },
  {
   "cell_type": "markdown",
   "metadata": {},
   "source": [
    "5. What is the goal of descriptive statistics?\n",
    "\n",
    "A) Monitoring and manipulating a specific data\n",
    "B) Summarizing and explaining a specific set of data\n",
    "C) Analyzing and interpreting a set of data\n",
    "D) All of these\n",
    "\n",
    "--> B) Summarizing and explaining a specific set of data"
   ]
  },
  {
   "cell_type": "markdown",
   "metadata": {},
   "source": [
    "6. A set of data organized in a participant by variables format is called\n",
    "\n",
    "A) Data junk\n",
    "B) Data set\n",
    "C) Data view\n",
    "D) Data dodging\n",
    "\n",
    "--> B) Data set"
   ]
  },
  {
   "cell_type": "markdown",
   "metadata": {},
   "source": [
    "7. In multiple regression,_______ dependent variables are used\n",
    "\n",
    "A) 2 or more\n",
    "B) 2\n",
    "C) 1\n",
    "D) 1 or more\n",
    "\n",
    "--> c) 1"
   ]
  },
  {
   "cell_type": "markdown",
   "metadata": {},
   "source": [
    "8. Which of the following is used when you want to visually examine the relationship between 2 quantitative \n",
    "variables?\n",
    "\n",
    "A) Line graph\n",
    "B) Scatterplot\n",
    "C) Bar graph\n",
    "D) Pie graph\n",
    "\n",
    "--> B) Scatterplot"
   ]
  },
  {
   "cell_type": "markdown",
   "metadata": {},
   "source": [
    "9. Two or more groups means are compared by using\n",
    "\n",
    "A) analysis\n",
    "B) Data analysis\n",
    "C) Varied Variance analysis\n",
    "D) Analysis of variance\n",
    "\n",
    "--> D) Anaysis of variance"
   ]
  },
  {
   "cell_type": "markdown",
   "metadata": {},
   "source": [
    "10. _______is a raw score which has been transformed into standard deviation units?\n",
    "\n",
    "A) Z-score\n",
    "B) t-score\n",
    "C) e-score\n",
    "D) SDU score\n",
    "\n",
    "--> A) Z-score"
   ]
  },
  {
   "cell_type": "markdown",
   "metadata": {},
   "source": [
    "11. _______is the value calculated when you want the arithmetic average?\n",
    "\n",
    "A) Median\n",
    "B) mode\n",
    "C) mean\n",
    "D) All\n",
    "\n",
    "--> C) mean"
   ]
  },
  {
   "cell_type": "markdown",
   "metadata": {},
   "source": [
    "12. Find the mean of these set of number (4,6,7,9,2000000)?\n",
    "\n",
    "A) 4\n",
    "B) 7\n",
    "C) 7.5\n",
    "D) 400005.2\n",
    "\n",
    "--> D) 400005.2"
   ]
  },
  {
   "cell_type": "markdown",
   "metadata": {},
   "source": [
    "13. _______ is a measure of central tendency that takes into account the magnitude of scores?\n",
    "\n",
    "A) Range\n",
    "B) Mode\n",
    "C) Median\n",
    "D) Mean\n",
    "\n",
    "--> D) Mean"
   ]
  },
  {
   "cell_type": "markdown",
   "metadata": {},
   "source": [
    "14. ______ focuses on describing or explaining data whereas ______involves going beyond immediate \n",
    "data and making inferences\n",
    "\n",
    "A) Descriptive and inferences\n",
    "B) Mutually exclusive and mutually exhaustive properties\n",
    "C) Positive skew and negative skew\n",
    "D) Central tendency\n",
    "\n",
    "--> A) Descriptive and inferences"
   ]
  },
  {
   "cell_type": "markdown",
   "metadata": {},
   "source": [
    "15. What is the formula for range?\n",
    "\n",
    "A) H+L\n",
    "B) L-H\n",
    "C) LXH\n",
    "D) H-L\n",
    "\n",
    "--> D) H-L"
   ]
  },
  {
   "cell_type": "markdown",
   "metadata": {},
   "source": [
    "# WORKSHEET 2 SQL"
   ]
  },
  {
   "cell_type": "markdown",
   "metadata": {},
   "source": [
    "## Q1 to Q13 have only one correct answer. Choose the correct option to answer your question."
   ]
  },
  {
   "cell_type": "markdown",
   "metadata": {},
   "source": [
    "1. Which of the following constraint requires that there should not be duplicate entries?\n",
    "\n",
    "A) No Duplicity B) Different\n",
    "C) Null D) Unique\n",
    "\n",
    "--> D) Unique"
   ]
  },
  {
   "cell_type": "markdown",
   "metadata": {},
   "source": [
    "2. Which of the following constraint allows null values in a column?\n",
    "\n",
    "A) Primary key B) Empty Value\n",
    "C) Null D) None of them\n",
    "\n",
    "--> D) None of them"
   ]
  },
  {
   "cell_type": "markdown",
   "metadata": {},
   "source": [
    "3. Which of the following statements are true regarding Primary Key?\n",
    "\n",
    "A) Each entry in the primary key uniquely identifies each entry or row in the table\n",
    "B) There can be duplicate values in a primary key column\n",
    "C) There can be null values in Primary key\n",
    "D) None of the above\n",
    "\n",
    "--> A) Each entry in the primary key uniquely identifies each entry or row in the table"
   ]
  },
  {
   "cell_type": "markdown",
   "metadata": {},
   "source": [
    "4. Which of the following statements are true regarding Unique Key?\n",
    "\n",
    "A) There should not be any duplicate entries\n",
    "B) Null values are not allowed\n",
    "C) Multiple columns can make a single unique key together\n",
    "D) All of the above\n",
    "\n",
    "--> A) There should not be any duplicate entries"
   ]
  },
  {
   "cell_type": "markdown",
   "metadata": {},
   "source": [
    "5. Which of the following is/are example of referential constraint?\n",
    "\n",
    "A) Not Null B) Foreign Key\n",
    "C) Referential key D) All of them\n",
    "\n",
    "--> B) Foreign Key"
   ]
  },
  {
   "cell_type": "markdown",
   "metadata": {},
   "source": [
    "## For Questions 6-13 refer to the below diagram and answer the questions:"
   ]
  },
  {
   "cell_type": "markdown",
   "metadata": {},
   "source": [
    "6. How many foreign keys are there in the Supplier table?\n",
    "\n",
    "A) 0 B) 3\n",
    "C) 2 D) 1\n",
    "\n",
    "--> D) 1"
   ]
  },
  {
   "cell_type": "markdown",
   "metadata": {},
   "source": [
    "7. The type of relationship between Supplier table and Product table is:\n",
    "    \n",
    "A) one to many B) many to one\n",
    "C) one to one D) many to many\n",
    "\n",
    "--> A) one to many"
   ]
  },
  {
   "cell_type": "markdown",
   "metadata": {},
   "source": [
    "8. The type of relationship between Order table and Headquarter table is:\n",
    "    \n",
    "A) one to many B) many to one\n",
    "C) one to one D) many to many\n",
    "\n",
    "--> D) many to many"
   ]
  },
  {
   "cell_type": "markdown",
   "metadata": {},
   "source": [
    "9. Which of the following is a foreign key in Delivery table?\n",
    "\n",
    "A) delivery id B) supplier id\n",
    "C) delivery date D) None of them\n",
    "\n",
    "--> B) supplier id"
   ]
  },
  {
   "cell_type": "markdown",
   "metadata": {},
   "source": [
    "10. The number of foreign keys in order details is:\n",
    "    \n",
    "A) 0 B) 1\n",
    "C) 3 D) 2\n",
    "\n",
    "--> D) 2"
   ]
  },
  {
   "cell_type": "markdown",
   "metadata": {},
   "source": [
    "11. The type of relationship between Order Detail table and Product table is:\n",
    "    \n",
    "A) one to many B) many to one\n",
    "C) one to one D) many to many\n",
    "\n",
    "--> A) one to many"
   ]
  },
  {
   "cell_type": "markdown",
   "metadata": {},
   "source": [
    "12. DDL statements perform operation on which of the following database objects?\n",
    "\n",
    "A) Rows of table B) Columns of table\n",
    "C) Table D) None of them\n",
    "\n",
    "--> C) Table"
   ]
  },
  {
   "cell_type": "markdown",
   "metadata": {},
   "source": [
    "13. Which of the following statement is used to enter rows in a table?\n",
    "\n",
    "A) Insert in to B) Update\n",
    "C) Enter into D) Set Row\n",
    "\n",
    "--> A) Insert in to"
   ]
  },
  {
   "cell_type": "markdown",
   "metadata": {},
   "source": [
    "## Q14 and Q15 have one or more correct answer. Choose all the correct option to answer your question."
   ]
  },
  {
   "cell_type": "markdown",
   "metadata": {},
   "source": [
    "14. Which of the following is/are entity constraints in SQL?\n",
    "\n",
    "A) Duplicate B) Unique\n",
    "C) Primary Key D) Null\n",
    "\n",
    "--> B) Unique\n",
    "    C) Primary key\n",
    "    D) Null"
   ]
  },
  {
   "cell_type": "markdown",
   "metadata": {},
   "source": [
    "15. Which of the following statements is an example of semantic Constraint?\n",
    "\n",
    "A) A blood group can contain one of the following values - A, B, AB and O.\n",
    "B) A blood group can only contain characters\n",
    "C) A blood group cannot have null values\n",
    "D) Two or more donors can have same blood group\n",
    "\n",
    "--> A) A blood group can contain one of the following values - A, B, AB and O."
   ]
  },
  {
   "cell_type": "markdown",
   "metadata": {},
   "source": [
    "# MACHINE LEARNING Worskheet 2"
   ]
  },
  {
   "cell_type": "markdown",
   "metadata": {},
   "source": [
    "1. Movie Recommendation systems are an example of:\n",
    "    \n",
    "i) Classification\n",
    "ii) Clustering\n",
    "iii) Regression\n",
    "\n",
    " Options:\n",
    "a) 2 Only\n",
    "b) 1 and 2\n",
    "c) 1 and 3\n",
    "d) 2 and 3\n",
    "\n",
    "--> a) 2 Only"
   ]
  },
  {
   "cell_type": "markdown",
   "metadata": {},
   "source": [
    "2. Sentiment Analysis is an example of:\n",
    "    \n",
    "i) Regression\n",
    "ii) Classification\n",
    "iii) Clustering\n",
    "iv) Reinforcement\n",
    "\n",
    "Options:\n",
    "a) 1 Only\n",
    "b) 1 and 2\n",
    "c) 1 and 3\n",
    "d) 1, 2 and 4\n",
    "\n",
    "--> d) 1, 2 and 4"
   ]
  },
  {
   "cell_type": "markdown",
   "metadata": {},
   "source": [
    "3. Can decision trees be used for performing clustering?\n",
    "\n",
    "a) True\n",
    "b) False\n",
    "\n",
    "--> a) True"
   ]
  },
  {
   "cell_type": "markdown",
   "metadata": {},
   "source": [
    "4. Which of the following is the most appropriate strategy for data cleaning before performing clustering\n",
    "analysis, given less than desirable number of data points:\n",
    "    \n",
    "i) Capping and flooring of variables\n",
    "ii) Removal of outliers\n",
    "\n",
    "Options:\n",
    "a) 1 only\n",
    "b) 2 only\n",
    "c) 1 and 2\n",
    "d) None of the above\n",
    "\n",
    "--> a) 1 only"
   ]
  },
  {
   "cell_type": "markdown",
   "metadata": {},
   "source": [
    "5. What is the minimum no. of variables/ features required to perform clustering?\n",
    "\n",
    "a) 0\n",
    "b) 1\n",
    "c) 2\n",
    "d) 3\n",
    "\n",
    "--> b) 1"
   ]
  },
  {
   "cell_type": "markdown",
   "metadata": {},
   "source": [
    "6. For two runs of K-Mean clustering is it expected to get same clustering results?\n",
    "\n",
    "a) Yes\n",
    "b) No\n",
    "\n",
    "--> b) No"
   ]
  },
  {
   "cell_type": "markdown",
   "metadata": {},
   "source": [
    "7. Is it possible that Assignment of observations to clusters does not change between successive\n",
    "iterations in K-Means?\n",
    "\n",
    "a) Yes\n",
    "b) No\n",
    "c) Can't say\n",
    "d) None of these\n",
    "\n",
    "--> a) Yes"
   ]
  },
  {
   "cell_type": "markdown",
   "metadata": {},
   "source": [
    "8. Which of the following can act as possible termination conditions in K-Means?\n",
    "\n",
    "i) For a fixed number of iterations.\n",
    "ii) Assignment of observations to clusters does not change between iterations. Except for cases \n",
    "witha bad local minimum.\n",
    "iii) Centroids do not change between successive iterations.\n",
    "iv) Terminate when RSS falls below a threshold.\n",
    "\n",
    "Options:\n",
    "a) 1, 3 and 4\n",
    "b) 1, 2 and 3\n",
    "c) 1, 2 and 4\n",
    "d) All of the above\n",
    "\n",
    "--> d) All of the above"
   ]
  },
  {
   "cell_type": "markdown",
   "metadata": {},
   "source": [
    "9. Which of the following can act as possible termination conditions in K-Means?\n",
    "\n",
    "i) K- Means clustering algorithm\n",
    "ii) Agglomerative clustering algorithm\n",
    "iii) Expectation-Maximization clustering algorithm\n",
    "iv) Diverse clustering algorithm\n",
    "\n",
    "Options:\n",
    "a) 1 only\n",
    "b) 2 and 3\n",
    "c) 2 and 4\n",
    "d) 1 and 3\n",
    "\n",
    "--> d) 1 and 3"
   ]
  },
  {
   "cell_type": "markdown",
   "metadata": {},
   "source": [
    "10. Which of the following algorithms is most sensitive to outliers?\n",
    "\n",
    "a) K-means clustering algorithm\n",
    "b) K-medians clustering algorithm\n",
    "c) K-modes clustering algorithm\n",
    "d) K-medoids clustering algorithm\n",
    "\n",
    "--> a) K-means clustering algorithm"
   ]
  },
  {
   "cell_type": "markdown",
   "metadata": {},
   "source": [
    "11. How can Clustering (Unsupervised Learning) be used to improve the accuracy of Linear Regression\n",
    "model (Supervised Learning):\n",
    "    \n",
    "i) Creating different models for different cluster groups.\n",
    "ii) Creating an input feature for cluster ids as an ordinal variable.\n",
    "iii) Creating an input feature for cluster centroids as a continuous variable.\n",
    "iv) Creating an input feature for cluster size as a continuous variable.\n",
    "\n",
    "Options:\n",
    "a) 1 only\n",
    "b) 2 only\n",
    "c) 3 and 4\n",
    "d) All of the above\n",
    "\n",
    "--> d) All of the above"
   ]
  },
  {
   "cell_type": "markdown",
   "metadata": {},
   "source": [
    "12. What could be the possible reason(s) for producing two different dendrograms using agglomerative\n",
    "clustering algorithms for the same dataset?\n",
    "\n",
    "a) Proximity function used\n",
    "b) of data points used\n",
    "c) of variables used\n",
    "d) All of the above\n",
    "\n",
    "--> d) All of the above"
   ]
  },
  {
   "cell_type": "markdown",
   "metadata": {},
   "source": [
    "## Q13 to Q15 are subjective answers type questions, Answers them in their own words briefly"
   ]
  },
  {
   "cell_type": "markdown",
   "metadata": {},
   "source": [
    "13. Is K sensitive to outliers?\n",
    "\n",
    "--> 1. Yes, they are sensitive outliers\n",
    "\n",
    "    2. The k-means algorithm updates the cluster centers by taking the average of all the data points that are closer to each cluster center. When all the points are packed nicely together, the average makes sense. However, when you have outliers, this can affect the average calculation of the whole cluster. As a result, this will push your cluster center closer to the outlier.\n",
    "\n",
    "    An example, is the average of the salaries of the following people:\n",
    "\n",
    "    $50k, $20k, $35k, $65k and $1 Million\n",
    "\n",
    "    The average ends up being ($50k + $20k + $35k + $65k + $1MM) / 5 = $1170k / 5 = $234k.\n",
    "\n",
    "    If we did not have the $1MM outlier, the average would have been ($50k + $20k + $35k + $65k) / 4 = $170k / 4 = $42.5k.\n",
    "\n",
    "    The two average results are wildly different from one another."
   ]
  },
  {
   "cell_type": "markdown",
   "metadata": {},
   "source": [
    "14. Why is K means better?\n",
    "\n",
    "--> K means is better because of the following points,\n",
    "\n",
    "1. Relatively simple to implement.\n",
    "\n",
    "2. Scales to large data sets.\n",
    "\n",
    "3. Guarantees convergence.\n",
    "\n",
    "4. Can warm-start the positions of centroids.\n",
    "\n",
    "5. Easily adapts to new examples.\n",
    "\n",
    "6. Generalizes to clusters of different shapes and sizes, such as elliptical clusters.\n",
    "\n",
    "Other clustering algorithms with better features tend to be more expensive. In this case, k-means becomes a great solution for pre-clustering, reducing the space into disjoint smaller sub-spaces where other clustering algorithms can be applied."
   ]
  },
  {
   "cell_type": "markdown",
   "metadata": {},
   "source": [
    "15. Is K means a deterministic algorithm?\n",
    "\n",
    "--> The basic k-means clustering is based on a non-deterministic algorithm. This means that running the algorithm several times on the same data, could give different results. However, to ensure consistent results, FCS Express performs k-means clustering using a deterministic method.\n",
    "\n",
    "The non-deterministic nature of K-Means is due to its random selection of data points as initial centroids. The key idea of the algorithm is to select data points which belong to dense regions and which are adequately separated in feature space as the initial centroids."
   ]
  },
  {
   "cell_type": "code",
   "execution_count": null,
   "metadata": {},
   "outputs": [],
   "source": []
  }
 ],
 "metadata": {
  "kernelspec": {
   "display_name": "Python 3",
   "language": "python",
   "name": "python3"
  },
  "language_info": {
   "codemirror_mode": {
    "name": "ipython",
    "version": 3
   },
   "file_extension": ".py",
   "mimetype": "text/x-python",
   "name": "python",
   "nbconvert_exporter": "python",
   "pygments_lexer": "ipython3",
   "version": "3.8.3"
  }
 },
 "nbformat": 4,
 "nbformat_minor": 4
}
