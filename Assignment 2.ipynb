{
 "cells": [
  {
   "cell_type": "markdown",
   "metadata": {},
   "source": [
    "# Q1: Write a python program to scrape data for “Data Analyst” Job position in “Bangalore” location. You have to scrape the job-title, job-location, company_name, experience_required. You have to scrape first 10 jobs data."
   ]
  },
  {
   "cell_type": "code",
   "execution_count": 1,
   "metadata": {},
   "outputs": [],
   "source": [
    "#importing all the required libraries\n",
    "import selenium\n",
    "from selenium import webdriver\n",
    "import time\n",
    "import pandas as pd\n",
    "from selenium.common.exceptions import StaleElementReferenceException, NoSuchElementException,ElementNotInteractableException,InvalidArgumentException,InvalidCookieDomainException"
   ]
  },
  {
   "cell_type": "code",
   "execution_count": 2,
   "metadata": {},
   "outputs": [],
   "source": [
    "#connecting to the webdriver\n",
    "driver = webdriver.Chrome(r\"C:\\Users\\saurabh\\Downloads\\chromedriver_win32\\chromedriver.exe\")"
   ]
  },
  {
   "cell_type": "code",
   "execution_count": 3,
   "metadata": {},
   "outputs": [],
   "source": [
    "#specifying the url of the webpage to be scraped\n",
    "url=\"https://www.naukri.com/\""
   ]
  },
  {
   "cell_type": "code",
   "execution_count": 4,
   "metadata": {},
   "outputs": [],
   "source": [
    "#opening the webpage through our driver\n",
    "driver.get(url)"
   ]
  },
  {
   "cell_type": "code",
   "execution_count": 5,
   "metadata": {},
   "outputs": [],
   "source": [
    "#interacting with the webpage\n",
    "driver.find_element_by_xpath('//*[@id=\"qsb-keyword-sugg\"]').send_keys(\"Data Analyst\")\n",
    "driver.find_element_by_xpath('//*[@id=\"qsb-location-sugg\"]').send_keys(\"Bangalore\")\n",
    "driver.find_element_by_xpath('//*[@id=\"root\"]/div[3]/div[2]/section/div/form/div[3]/button').click()"
   ]
  },
  {
   "cell_type": "code",
   "execution_count": 6,
   "metadata": {},
   "outputs": [],
   "source": [
    "#creating the empty lists\n",
    "job_title=[]\n",
    "job_location=[]\n",
    "company_name=[]\n",
    "experience_required=[]"
   ]
  },
  {
   "cell_type": "code",
   "execution_count": 7,
   "metadata": {},
   "outputs": [
    {
     "data": {
      "text/plain": [
       "[<selenium.webdriver.remote.webelement.WebElement (session=\"f806e061eba51001a8719df670e9d765\", element=\"57c35bad-1fee-402b-a76b-e2b88068a940\")>,\n",
       " <selenium.webdriver.remote.webelement.WebElement (session=\"f806e061eba51001a8719df670e9d765\", element=\"c9b3e67f-a83b-4baa-a000-1926f1a1fa48\")>,\n",
       " <selenium.webdriver.remote.webelement.WebElement (session=\"f806e061eba51001a8719df670e9d765\", element=\"e619bf41-3537-4dfb-9491-67e7ec227490\")>]"
      ]
     },
     "execution_count": 7,
     "metadata": {},
     "output_type": "execute_result"
    }
   ],
   "source": [
    "#extracting first 10 tags having job-titles\n",
    "titles=driver.find_elements_by_xpath(\"//a[@class='title fw500 ellipsis']\")[0:10]\n",
    "titles[0:3]"
   ]
  },
  {
   "cell_type": "code",
   "execution_count": 8,
   "metadata": {},
   "outputs": [
    {
     "data": {
      "text/plain": [
       "['Business Analyst/ Data Analyst/ MIS Executive (On Contract)',\n",
       " 'Data Scientist/Data Analyst-immediate',\n",
       " 'Data Analyst',\n",
       " 'Data Analyst',\n",
       " 'Data Analyst - Research Team',\n",
       " 'Data Analyst',\n",
       " 'Data Analyst - O2C - Bangalore',\n",
       " 'Business Data Analyst - Database Design/Mining',\n",
       " 'Data Analyst - MySQL/PostgreSQL',\n",
       " 'Hiring For Data Analyst On Contractual Role']"
      ]
     },
     "execution_count": 8,
     "metadata": {},
     "output_type": "execute_result"
    }
   ],
   "source": [
    "#running a loop to extract the texts inside the tags\n",
    "\n",
    "for i in titles:\n",
    "    title=i.text\n",
    "    job_title.append(title)\n",
    "job_title"
   ]
  },
  {
   "cell_type": "code",
   "execution_count": 9,
   "metadata": {},
   "outputs": [
    {
     "data": {
      "text/plain": [
       "[<selenium.webdriver.remote.webelement.WebElement (session=\"f806e061eba51001a8719df670e9d765\", element=\"e9c60fc5-7f17-4d75-801b-5b6995d77ac9\")>,\n",
       " <selenium.webdriver.remote.webelement.WebElement (session=\"f806e061eba51001a8719df670e9d765\", element=\"613c0fcb-412b-4bd7-8e93-d41f40b72a73\")>,\n",
       " <selenium.webdriver.remote.webelement.WebElement (session=\"f806e061eba51001a8719df670e9d765\", element=\"7bbfdf0a-00be-4d2a-92bf-646e6ac793d8\")>]"
      ]
     },
     "execution_count": 9,
     "metadata": {},
     "output_type": "execute_result"
    }
   ],
   "source": [
    "#extracting first 10 tags having company-names\n",
    "companies=driver.find_elements_by_xpath(\"//a[@class='subTitle ellipsis fleft']\")[0:10]\n",
    "companies[0:3]"
   ]
  },
  {
   "cell_type": "code",
   "execution_count": 10,
   "metadata": {},
   "outputs": [
    {
     "data": {
      "text/plain": [
       "['Schneider Electric',\n",
       " 'CAIA-Center For Artificial Intelligence & Advanced Analytics',\n",
       " 'Applied Materials',\n",
       " 'GlaxoSmithKline Pharmaceuticals Limited',\n",
       " 'CBRE South Asia Pvt Ltd',\n",
       " 'Cognizant Technology Solutions India Pvt Ltd',\n",
       " 'RANDSTAD INDIA PVT LTD',\n",
       " 'AugmatrixGo',\n",
       " 'Astegic',\n",
       " 'Flipkart Internet Private Limited']"
      ]
     },
     "execution_count": 10,
     "metadata": {},
     "output_type": "execute_result"
    }
   ],
   "source": [
    "#running a loop to extract the texts inside the companies-tags\n",
    "\n",
    "for i in companies:\n",
    "    company_names=i.text\n",
    "    company_name.append(company_names)\n",
    "company_name"
   ]
  },
  {
   "cell_type": "code",
   "execution_count": 11,
   "metadata": {},
   "outputs": [
    {
     "data": {
      "text/plain": [
       "[<selenium.webdriver.remote.webelement.WebElement (session=\"f806e061eba51001a8719df670e9d765\", element=\"70a8789a-b0d1-4154-a5d4-29472d398c30\")>,\n",
       " <selenium.webdriver.remote.webelement.WebElement (session=\"f806e061eba51001a8719df670e9d765\", element=\"981bdae2-9a9e-46b3-880d-60dd89dd7e6d\")>,\n",
       " <selenium.webdriver.remote.webelement.WebElement (session=\"f806e061eba51001a8719df670e9d765\", element=\"47acddd6-6d5b-40de-bd72-3ae4215952cc\")>]"
      ]
     },
     "execution_count": 11,
     "metadata": {},
     "output_type": "execute_result"
    }
   ],
   "source": [
    "#extracting first 10 tags having experience-required\n",
    "experience_tags=driver.find_elements_by_xpath(\"//li[@class='fleft grey-text br2 placeHolderLi experience']/span[1]\")[0:10]\n",
    "experience_tags[0:3]"
   ]
  },
  {
   "cell_type": "code",
   "execution_count": 12,
   "metadata": {},
   "outputs": [
    {
     "data": {
      "text/plain": [
       "['2-5 Yrs',\n",
       " '0-3 Yrs',\n",
       " '6-11 Yrs',\n",
       " '2-7 Yrs',\n",
       " '1-4 Yrs',\n",
       " '3-4 Yrs',\n",
       " '2-4 Yrs',\n",
       " '2-5 Yrs',\n",
       " '5-10 Yrs',\n",
       " '1-3 Yrs']"
      ]
     },
     "execution_count": 12,
     "metadata": {},
     "output_type": "execute_result"
    }
   ],
   "source": [
    "#running a loop to extract the texts inside the experience_required-tags\n",
    "\n",
    "for i in experience_tags:\n",
    "    experience=i.text\n",
    "    experience_required.append(experience)\n",
    "experience_required"
   ]
  },
  {
   "cell_type": "code",
   "execution_count": 13,
   "metadata": {},
   "outputs": [
    {
     "data": {
      "text/plain": [
       "[<selenium.webdriver.remote.webelement.WebElement (session=\"f806e061eba51001a8719df670e9d765\", element=\"361ee830-575c-4407-9553-0462f4323761\")>,\n",
       " <selenium.webdriver.remote.webelement.WebElement (session=\"f806e061eba51001a8719df670e9d765\", element=\"8a4e6d6c-97ce-4328-89e9-ea0d4b27adc1\")>,\n",
       " <selenium.webdriver.remote.webelement.WebElement (session=\"f806e061eba51001a8719df670e9d765\", element=\"5d577609-c212-4499-ba33-9256ea305e46\")>]"
      ]
     },
     "execution_count": 13,
     "metadata": {},
     "output_type": "execute_result"
    }
   ],
   "source": [
    "#extracting first 10 tags having job-locations\n",
    "location_tags=driver.find_elements_by_xpath(\"//li[@class='fleft grey-text br2 placeHolderLi location']/span[1]\")[0:10]\n",
    "location_tags[0:3]"
   ]
  },
  {
   "cell_type": "code",
   "execution_count": 14,
   "metadata": {},
   "outputs": [
    {
     "data": {
      "text/plain": [
       "['Bengaluru / Bangalore',\n",
       " 'Chennai, Pune, Bengaluru, Hyderabad',\n",
       " 'Bengaluru',\n",
       " 'Bengaluru',\n",
       " 'Bengaluru',\n",
       " 'Bengaluru, Kolkata',\n",
       " 'Bengaluru',\n",
       " 'Bengaluru',\n",
       " 'Pune, Mumbai, Bengaluru, Hyderabad, Noida, Jaipur',\n",
       " 'Bengaluru']"
      ]
     },
     "execution_count": 14,
     "metadata": {},
     "output_type": "execute_result"
    }
   ],
   "source": [
    "#running a loop to extract the texts inside the location_tags\n",
    "\n",
    "for i in location_tags:\n",
    "    locations=i.text\n",
    "    job_location.append(locations)\n",
    "job_location"
   ]
  },
  {
   "cell_type": "code",
   "execution_count": 16,
   "metadata": {},
   "outputs": [],
   "source": [
    "#creating a dataframe\n",
    "\n",
    "Data_analyst=pd.DataFrame({})\n",
    "Data_analyst['job_title']=job_title\n",
    "Data_analyst['job_location']=job_location\n",
    "Data_analyst['company_name']=company_name\n",
    "Data_analyst['experience_required']=experience_required"
   ]
  },
  {
   "cell_type": "code",
   "execution_count": 17,
   "metadata": {},
   "outputs": [
    {
     "data": {
      "text/html": [
       "<div>\n",
       "<style scoped>\n",
       "    .dataframe tbody tr th:only-of-type {\n",
       "        vertical-align: middle;\n",
       "    }\n",
       "\n",
       "    .dataframe tbody tr th {\n",
       "        vertical-align: top;\n",
       "    }\n",
       "\n",
       "    .dataframe thead th {\n",
       "        text-align: right;\n",
       "    }\n",
       "</style>\n",
       "<table border=\"1\" class=\"dataframe\">\n",
       "  <thead>\n",
       "    <tr style=\"text-align: right;\">\n",
       "      <th></th>\n",
       "      <th>job_title</th>\n",
       "      <th>job_location</th>\n",
       "      <th>company_name</th>\n",
       "      <th>experience_required</th>\n",
       "    </tr>\n",
       "  </thead>\n",
       "  <tbody>\n",
       "    <tr>\n",
       "      <th>0</th>\n",
       "      <td>Business Analyst/ Data Analyst/ MIS Executive ...</td>\n",
       "      <td>Bengaluru / Bangalore</td>\n",
       "      <td>Schneider Electric</td>\n",
       "      <td>2-5 Yrs</td>\n",
       "    </tr>\n",
       "    <tr>\n",
       "      <th>1</th>\n",
       "      <td>Data Scientist/Data Analyst-immediate</td>\n",
       "      <td>Chennai, Pune, Bengaluru, Hyderabad</td>\n",
       "      <td>CAIA-Center For Artificial Intelligence &amp; Adva...</td>\n",
       "      <td>0-3 Yrs</td>\n",
       "    </tr>\n",
       "    <tr>\n",
       "      <th>2</th>\n",
       "      <td>Data Analyst</td>\n",
       "      <td>Bengaluru</td>\n",
       "      <td>Applied Materials</td>\n",
       "      <td>6-11 Yrs</td>\n",
       "    </tr>\n",
       "    <tr>\n",
       "      <th>3</th>\n",
       "      <td>Data Analyst</td>\n",
       "      <td>Bengaluru</td>\n",
       "      <td>GlaxoSmithKline Pharmaceuticals Limited</td>\n",
       "      <td>2-7 Yrs</td>\n",
       "    </tr>\n",
       "    <tr>\n",
       "      <th>4</th>\n",
       "      <td>Data Analyst - Research Team</td>\n",
       "      <td>Bengaluru</td>\n",
       "      <td>CBRE South Asia Pvt Ltd</td>\n",
       "      <td>1-4 Yrs</td>\n",
       "    </tr>\n",
       "    <tr>\n",
       "      <th>5</th>\n",
       "      <td>Data Analyst</td>\n",
       "      <td>Bengaluru, Kolkata</td>\n",
       "      <td>Cognizant Technology Solutions India Pvt Ltd</td>\n",
       "      <td>3-4 Yrs</td>\n",
       "    </tr>\n",
       "    <tr>\n",
       "      <th>6</th>\n",
       "      <td>Data Analyst - O2C - Bangalore</td>\n",
       "      <td>Bengaluru</td>\n",
       "      <td>RANDSTAD INDIA PVT LTD</td>\n",
       "      <td>2-4 Yrs</td>\n",
       "    </tr>\n",
       "    <tr>\n",
       "      <th>7</th>\n",
       "      <td>Business Data Analyst - Database Design/Mining</td>\n",
       "      <td>Bengaluru</td>\n",
       "      <td>AugmatrixGo</td>\n",
       "      <td>2-5 Yrs</td>\n",
       "    </tr>\n",
       "    <tr>\n",
       "      <th>8</th>\n",
       "      <td>Data Analyst - MySQL/PostgreSQL</td>\n",
       "      <td>Pune, Mumbai, Bengaluru, Hyderabad, Noida, Jaipur</td>\n",
       "      <td>Astegic</td>\n",
       "      <td>5-10 Yrs</td>\n",
       "    </tr>\n",
       "    <tr>\n",
       "      <th>9</th>\n",
       "      <td>Hiring For Data Analyst On Contractual Role</td>\n",
       "      <td>Bengaluru</td>\n",
       "      <td>Flipkart Internet Private Limited</td>\n",
       "      <td>1-3 Yrs</td>\n",
       "    </tr>\n",
       "  </tbody>\n",
       "</table>\n",
       "</div>"
      ],
      "text/plain": [
       "                                           job_title  \\\n",
       "0  Business Analyst/ Data Analyst/ MIS Executive ...   \n",
       "1              Data Scientist/Data Analyst-immediate   \n",
       "2                                       Data Analyst   \n",
       "3                                       Data Analyst   \n",
       "4                       Data Analyst - Research Team   \n",
       "5                                       Data Analyst   \n",
       "6                     Data Analyst - O2C - Bangalore   \n",
       "7     Business Data Analyst - Database Design/Mining   \n",
       "8                    Data Analyst - MySQL/PostgreSQL   \n",
       "9        Hiring For Data Analyst On Contractual Role   \n",
       "\n",
       "                                        job_location  \\\n",
       "0                              Bengaluru / Bangalore   \n",
       "1                Chennai, Pune, Bengaluru, Hyderabad   \n",
       "2                                          Bengaluru   \n",
       "3                                          Bengaluru   \n",
       "4                                          Bengaluru   \n",
       "5                                 Bengaluru, Kolkata   \n",
       "6                                          Bengaluru   \n",
       "7                                          Bengaluru   \n",
       "8  Pune, Mumbai, Bengaluru, Hyderabad, Noida, Jaipur   \n",
       "9                                          Bengaluru   \n",
       "\n",
       "                                        company_name experience_required  \n",
       "0                                 Schneider Electric             2-5 Yrs  \n",
       "1  CAIA-Center For Artificial Intelligence & Adva...             0-3 Yrs  \n",
       "2                                  Applied Materials            6-11 Yrs  \n",
       "3            GlaxoSmithKline Pharmaceuticals Limited             2-7 Yrs  \n",
       "4                            CBRE South Asia Pvt Ltd             1-4 Yrs  \n",
       "5       Cognizant Technology Solutions India Pvt Ltd             3-4 Yrs  \n",
       "6                             RANDSTAD INDIA PVT LTD             2-4 Yrs  \n",
       "7                                        AugmatrixGo             2-5 Yrs  \n",
       "8                                            Astegic            5-10 Yrs  \n",
       "9                  Flipkart Internet Private Limited             1-3 Yrs  "
      ]
     },
     "execution_count": 17,
     "metadata": {},
     "output_type": "execute_result"
    }
   ],
   "source": [
    "Data_analyst"
   ]
  },
  {
   "cell_type": "markdown",
   "metadata": {},
   "source": [
    "# Q2: Write a python program to scrape data for “Data Scientist” Job position in“Bangalore” location. You have to scrape the job-title, job-location, company_name, full job-description. You have to scrape first 10 jobs data."
   ]
  },
  {
   "cell_type": "code",
   "execution_count": 34,
   "metadata": {},
   "outputs": [],
   "source": [
    "#specifying the url of the webpage to be scraped\n",
    "url=\"https://www.naukri.com/\""
   ]
  },
  {
   "cell_type": "code",
   "execution_count": 35,
   "metadata": {},
   "outputs": [],
   "source": [
    "#opening the webpage through our driver\n",
    "driver.get(url)"
   ]
  },
  {
   "cell_type": "code",
   "execution_count": 36,
   "metadata": {},
   "outputs": [],
   "source": [
    "#interacting with the webpage\n",
    "driver.find_element_by_xpath('//*[@id=\"qsb-keyword-sugg\"]').send_keys(\"Data Scientist\")\n",
    "driver.find_element_by_xpath('//*[@id=\"qsb-location-sugg\"]').send_keys(\"Bangalore\")\n",
    "driver.find_element_by_xpath('//*[@id=\"root\"]/div[3]/div[2]/section/div/form/div[3]/button').click()"
   ]
  },
  {
   "cell_type": "code",
   "execution_count": 37,
   "metadata": {},
   "outputs": [],
   "source": [
    "#getting the list of url of first 10 data scientist jobs\n",
    "\n",
    "URL=[]\n",
    "job_tags=driver.find_elements_by_xpath(\"//a[@class='title fw500 ellipsis']\")[0:10]\n",
    "for i in job_tags:\n",
    "    URL.append(i.get_attribute('href'))"
   ]
  },
  {
   "cell_type": "code",
   "execution_count": 38,
   "metadata": {},
   "outputs": [
    {
     "data": {
      "text/plain": [
       "['https://www.naukri.com/job-listings-data-scientist-data-analyst-immediate-caia-center-for-artificial-intelligence-advanced-analytics-chennai-pune-bengaluru-bangalore-hyderabad-secunderabad-0-to-3-years-210920000599?src=jobsearchDesk&sid=16110521526022381&xp=1&px=1',\n",
       " 'https://www.naukri.com/job-listings-data-scientist-machine-learning-augmatrixgo-bengaluru-bangalore-2-to-5-years-140121905423?src=jobsearchDesk&sid=16110521526022381&xp=2&px=1',\n",
       " 'https://www.naukri.com/job-listings-data-scientist-machine-learning-blue-yonder-india-private-limited-bengaluru-bangalore-5-to-8-years-130121902169?src=jobsearchDesk&sid=16110521526022381&xp=3&px=1',\n",
       " 'https://www.naukri.com/job-listings-data-scientist-machine-learning-blue-yonder-india-private-limited-bengaluru-bangalore-3-to-5-years-130121902167?src=jobsearchDesk&sid=16110521526022381&xp=4&px=1',\n",
       " 'https://www.naukri.com/job-listings-senior-associate-data-scientist-ml-engineer-pricewaterhouse-coopers-private-limited-bengaluru-bangalore-3-to-8-years-080121501399?src=jobsearchDesk&sid=16110521526022381&xp=5&px=1',\n",
       " 'https://www.naukri.com/job-listings-senior-data-scientist-philips-india-limited-bengaluru-bangalore-8-to-12-years-110121501358?src=jobsearchDesk&sid=16110521526022381&xp=6&px=1',\n",
       " 'https://www.naukri.com/job-listings-senior-data-scientist-fractal-analytics-ltd-bengaluru-bangalore-4-to-8-years-040121501287?src=jobsearchDesk&sid=16110521526022381&xp=7&px=1',\n",
       " 'https://www.naukri.com/job-listings-data-scientist-machine-learning-remote-working-doji-ltd-delhi-ncr-bengaluru-bangalore-anywhere-in-india-2-to-5-years-171220006270?src=jobsearchDesk&sid=16110521526022381&xp=8&px=1',\n",
       " 'https://www.naukri.com/job-listings-hcl-hiring-data-scientist-with-exp-in-machine-learning-sql-bangalore-hcl-technologies-limited-bengaluru-bangalore-5-to-10-years-190121001223?src=jobsearchDesk&sid=16110521526022381&xp=9&px=1',\n",
       " 'https://www.naukri.com/job-listings-software-developer-data-scientist-nlp-machine-learning-cunesoft-india-private-limited-bengaluru-bangalore-3-to-6-years-190121001281?src=jobsearchDesk&sid=16110521526022381&xp=10&px=1']"
      ]
     },
     "execution_count": 38,
     "metadata": {},
     "output_type": "execute_result"
    }
   ],
   "source": [
    "URL"
   ]
  },
  {
   "cell_type": "code",
   "execution_count": 49,
   "metadata": {},
   "outputs": [],
   "source": [
    "#creating the empty lists\n",
    "job_title=[]\n",
    "job_location=[]\n",
    "company_name=[]\n",
    "job_description=[]"
   ]
  },
  {
   "cell_type": "code",
   "execution_count": 50,
   "metadata": {},
   "outputs": [],
   "source": [
    "#opening the webpage of the first job listing  through our driver\n",
    "driver.get(URL[0])"
   ]
  },
  {
   "cell_type": "code",
   "execution_count": 51,
   "metadata": {},
   "outputs": [],
   "source": [
    "#running a loop to extract all the required texts from each individual job listing\n",
    "\n",
    "for i in URL:\n",
    "    driver.get(i)\n",
    "    try:\n",
    "        job_title.append((driver.find_element_by_xpath('//*[@id=\"root\"]/main/div[2]/div[2]/section[1]/div[1]/div[1]/header/h1')).text)\n",
    "        job_location.append((driver.find_element_by_xpath('//*[@id=\"root\"]/main/div[2]/div[2]/section[1]/div[1]/div[2]/div[3]/span')).text)\n",
    "        company_name.append((driver.find_element_by_xpath('//*[@id=\"root\"]/main/div[2]/div[2]/section[1]/div[1]/div[1]/div/a')).text)\n",
    "        job_description.append((driver.find_element_by_xpath('//*[@id=\"root\"]/main/div[2]/div[2]/section[2]')).text.replace(\"\\n\",\"\"))\n",
    "    except NoSuchElementException:\n",
    "        job_title.append(\"Nan\")\n",
    "        job_location.append(\"Nan\")\n",
    "        company_name.append(\"Nan\")\n",
    "        job_description.append(\"Nan\")"
   ]
  },
  {
   "cell_type": "code",
   "execution_count": 52,
   "metadata": {},
   "outputs": [
    {
     "data": {
      "text/plain": [
       "['Data Scientist/Data Analyst-immediate',\n",
       " 'Data Scientist - Machine Learning',\n",
       " 'Nan',\n",
       " 'Nan',\n",
       " 'Senior Associate - Data Scientist/ML Engineer',\n",
       " 'Senior Data Scientist',\n",
       " 'Senior Data Scientist',\n",
       " 'Data Scientist - Machine Learning - Remote Working',\n",
       " 'HCL hiring Data scientist with exp in machine learning &SQL-Bangalore!',\n",
       " 'Software Developer - Data Scientist / NLP / Machine Learning']"
      ]
     },
     "execution_count": 52,
     "metadata": {},
     "output_type": "execute_result"
    }
   ],
   "source": [
    "job_title"
   ]
  },
  {
   "cell_type": "code",
   "execution_count": 53,
   "metadata": {},
   "outputs": [
    {
     "data": {
      "text/plain": [
       "['Chennai, Pune, Bengaluru, Hyderabad',\n",
       " 'Bengaluru',\n",
       " 'Nan',\n",
       " 'Nan',\n",
       " 'Bengaluru',\n",
       " 'Bengaluru',\n",
       " 'Bengaluru',\n",
       " 'Delhi NCR, Bengaluru, Anywhere in India',\n",
       " 'Bengaluru',\n",
       " 'Bengaluru / Bangalore']"
      ]
     },
     "execution_count": 53,
     "metadata": {},
     "output_type": "execute_result"
    }
   ],
   "source": [
    "job_location"
   ]
  },
  {
   "cell_type": "code",
   "execution_count": 54,
   "metadata": {},
   "outputs": [
    {
     "data": {
      "text/plain": [
       "['CAIA-Center For Artificial Intelligence & Advanced Analytics',\n",
       " 'AugmatrixGo',\n",
       " 'Nan',\n",
       " 'Nan',\n",
       " 'Pricewaterhouse Coopers Private Limited',\n",
       " 'Philips India Limited',\n",
       " 'Fractal Analytics',\n",
       " 'Doji Ltd',\n",
       " 'HCL Technologies Limited',\n",
       " 'Cunesoft India Private Limited']"
      ]
     },
     "execution_count": 54,
     "metadata": {},
     "output_type": "execute_result"
    }
   ],
   "source": [
    "company_name"
   ]
  },
  {
   "cell_type": "code",
   "execution_count": 55,
   "metadata": {},
   "outputs": [
    {
     "data": {
      "text/plain": [
       "['Job descriptionDear CandidateSchedule a Telephonic Interview ( Please call for confirmation) : Mon- Sat from 11:00am to 5:00pmOR Walk-In to the Corporate office between Monday to Friday from 11:00am to 5:00pmContact person :Manigandan -+91 7299917200Shantha +91 9790993237Systech SolutionsTemple StepsTower 3, 6th Floor184-187 Anna SalaiSaidapet, Chennai 600015India (Near Little Mount Metro Station)Roles and ResponsibilitiesGreetings from CAIA !A great opportunity to enter the world of future technologies - Data Science, Analytics, AI, Data VisualizationApplications invited from all Freshers and experienced candidates aspiring to make a career in Artificial Intelligence and Advanced Analytics and Data Science.In case you are trying to shift your career to Analytics and/or AI domain please do connect with us to know more.What is needed from you?- An Educational background in any one of the following- BE/B.Tech, ME/M Tech, MSc, BSc/MSc Maths and Statistics, B Com, BCA, BSc CS, BSC IT, MSC IT, MCA- Skills relating to Mathematics/Statistics.- Natural passion towards numbers, business, coding, Analytics and Artificial Intelligence, Machine Learning, visualization- Good verbal and written communication skills- Ability to understand domains in businesses across various sectors- Freshers who wish to start their career in Analytics and AI and professionals who wish to up skill or change their domain to analytics and emerging technologies are free to apply.Selection procedure includes- Online Aptitude Test- Logical Ability Test / Written TestOn being shortlisted, you will be have to undergo a one-one discussion with our counsellor for further evaluation and processing of your Resume.What you can expect from us?You will get trained on the following modules for a period of 12-14 weeks:-SQL & PLSQL-Data Wrangling using Python-Statistics for Machine Learning,-Artificial Intelligence, Data Interpretation-Supervised & Unsupervised Learning,-NLP & Deep Learning-Cloud Data Lake-Business intelligence & Data Visualization-Simulation ProjectsWhat is the expected Outcome?At the end of the Training you are expected to be well versed with the following:- Analysis of large and complex data sets from multiple sources- Development and evaluation of data analytics models, algorithms and solutions- Understanding/implementation of ML algorithms, performance tuning and reporting- Implementation of algorithms to mine targeted data and the ability to convert data into a business story- Translation of business requirements into technical requirements; Data extraction, preparation and transformation- Identification, development and implementation of statistical techniques and algorithms that address business challenges and adds value to the organisation- Requirement Analysis and communication of findings in the form of a meaningful story with the stakeholdersCenter for Artificial Intelligence & Advanced Analytics (CAIA) focuses on the following:1. Global Research on emerging trends, technologies and applications in AI and Advanced Analytics2. Advanced Training programs for readying the future ready workforce3. Solutions to herald the futuristic lifestyle and workspaces in the field of AI and Data Science.http://www.centerforaia.com/Center for Artificial Intelligence and Advanced Analytics (Center for AIA) is the brainchild of experienced and visionary alumni of IIT Madras and Bombay. Digital leaders 5F World and Systech Solutions have joined hands to create a venture for architecting the future of society, workforce, governments and businesses. 5F World specializes in designing solutions around digital platforms and Systech Solutions has an expertise in architecting Artificial Intelligence and Advanced Analytics solutions for Fortune 500 companies through specialized programmed.5F World5F World is a leader in digital transformational journeys and has brought together the best minds in industry, academia and technology domains to develop a unique framework to transform stakeholder journeys through innovation and digitalization of businesses and education institutions.Systech SolutionsSystech Solutions is a leading organisation in Data Strategy, Management & Analytics services provider with deep technology expertise and over 20 years of industry experience. Systech Solutions helps empower clients with innovative, data-driven solutions to reimagine their enterprise and has forged partnerships with industry-leading technology providers to develop a full spectrum of data services.Websitehttp://www.centerforaia.com/https://inflexion-analytix-private-limited.business.site/?m=trueContact PersonShantha/ManigandanPhone Number9790993237 / 7299917200Emailmanigandan@centerforaia.comDesired Candidate ProfilePerks and BenefitsRoleBusiness AnalystIndustry TypeBPO, Call Centre, ITeSFunctional AreaIT Software - DBA, DatawarehousingEmployment TypeFull Time, PermanentRole CategorySystem Design/Implementation/ERP/CRMEducationUG :B.Tech/B.E. in Any Specialization, Other Graduate, Any Graduate in Any Specialization, B.Com in Any Specialization, Diploma in Any Specialization, B.Sc in Any SpecializationPG :M.Com in Any Specialization, MBA/PGDM in Any Specialization, Other, PG Diploma in Any Specialization, MS/M.Sc(Science) in Any Specialization, MCA in Any Specialization, M.Tech in Any Specialization, Post Graduation Not RequiredKey SkillsBusiness IntelligenceArtificial IntelligenceNatural Language ProcessingNeural NetworksData MiningMachine LearningDeep LearningSQLData ScienceRNLPCloud ComputingData AnalysisPLSQLData WarehousingETLPredictive AnalyticsPython',\n",
       " 'Job descriptionRoles and Responsibilities- Selecting features, building and optimizing classifiers using machine learning techniques- Data mining using state-of-the-art methods- Enhancing data collection procedures to include information that is relevant for building analytic systems- Processing, cleansing, and verifying the integrity of data used for analysis- Doing ad-hoc analysis and presenting results in a clear manner- Creating automated anomaly detection systems and constant tracking of its performanceSkills Required :- Excellent understanding of machine learning techniques and algorithms, such as k-NN, Naive Bayes, SVM, Decision Forests, etc.- Experiences with one or more of the following is highly desirable: HPC/Parallelization, operationalizing ML models; cloud computing (e.g. Google Cloud, AWS, etc.); familiarity with ML frameworks such as Tensorflow, Theano, MXNet, etc- Good experience in a few of the following areas: deep neural networks, reinforcement learning, Markov Random Fields, Bayesian networks, semi-supervised learning, computer vision, image processing, signal processing, distributed computing, and/or numerical optimization- 2+ years of experience with computer vision and deep learning solutions, including image classification, object detection, segmentation, and equivalent computer vision-based vision tasks- Experience with common data science toolkits, such as R, Weka, NumPy, etc . Excellence in at least one of these is highly desirable- Proficiency in using query languages such as SQL, Hive, Pig- Good applied statistics skills, such as distributions, statistical testing, regression, etc.- Good scripting and programming skills- Data-oriented personality- B.Tech/M.Tech degree in from reputed institutes like IIT / NIT / BITSRoleData AnalystIndustry TypeIT-Software, Software ServicesFunctional AreaAnalytics & Business IntelligenceEmployment TypeFull Time, PermanentRole CategoryAnalytics & BIEducationUG :B.Tech/B.E. in Any SpecializationPG :M.Tech in Any SpecializationDoctorate :Doctorate Not RequiredKey SkillsHiveRCloud ComputingData ScientistComputer VisionMachine LearningDeep LearningSQLPig',\n",
       " 'Nan',\n",
       " 'Nan',\n",
       " 'Job descriptionDay-to-Day ResponsibilitiesDesign and develop data science, machine learning, natural language processing, deep learning and related solutions to address business needs.Design and implement current state-of-art machine learning, algorithms related to Forecasting, Classification, Data/Text Mining, NLP, Computer Vision, Decision Trees, Adaptive Decision Algorithms, Random Forest, Search Algorithms, Neural Networks, Deep Learning Algorithms.Converting the AI models into microservices and deploy them using dockers.Deploy AI models in production using docker with automated data pipelines.Work creatively and analytically to apply cutting edge techniques to specific challenges.Assist in the management and delivery of large data science projects.Work with a wide range of automation teams to validate findings and proposed analytics solutions.Continuously expand personal skill sets and stay up to speed on the latest A.I. trends, tools, methodologies, and techniques.Skills and Experience:Demonstrates extensive knowledge and/or a proven record of success in data analytics, including the following areas:Ideally at least 8 years of total experience and at least 6 years of relevant experience in the field of AI/ML.Bachelor s or Master s Degree in Computer Science, Engineering or other technical discipline (BE, BTech, MCA).Experience in analyzing complex problems and translating them to data science algorithms with due attention to computational efficiency and testing at scale.Experience in machine learning, supervised and unsupervised: Forecasting,Classification, Data/Text Mining, NLP, Computer Vision, Decision Trees, Adaptive Decision Algorithms, Random Forest, Search Algorithms, Neural Networks, Deep Learning Algorithms.Worked with at least one mainstream machine learning frameworks, including Caffe, ConvNet, Tensor Flow, Keras, Torch.Working proficiency with SQL and relational databases, data warehouse.Experience with big data platforms - Hadoop (Hive, Pig, Map Reduce, HQL) / Spark / H20.Experience with Google Cloud Platform, AWS or Azure.Experience with GPU/CUDA for computational efficiency.Strong implementation experience with languages, such as Python, Java, or Scala and familiarity with Linux/Unix/Shell environments.Strong hands-on skills in sourcing, cleaning, identifying patterns and outliers, manipulating and analyzing large volumes of big data using distributed computing platformUnderstanding of NoSQL (Graph, Document, Columnar) database models, XML, relational and other database models and associated SQL.Demonstrates extensive abilities and/or a proven record of success in the application of statistical modelling, algorithms, data mining and machine learning algorithms problem solving.A track record of delivery within several large-scale projects, demonstrating ownership of architecture solutions and managing change.Leading, training and working with other data scientists in designing effective analytical approaches taking into consideration performance and scalability to large datasets.Experience manipulating and analyzing complex, high-volume, high-dimensionality data from varying sources.Proven ability with NLP, Computer Vision and text-based extraction techniques.Understanding of not only how to develop data science analytic models but how to operationalize and deploy the models as microservices in production using Dockers and automated pipelines.Demonstrates extensive abilities and/or a proven record of success in the application of statistical or numerical methods, data mining, data wrangling and data-driven problem solving, including the following areas:Utilizing and applying knowledge commonly used data science packages including Spark, Pandas, SciPy, and Numpy.Familiarity with deep learning architectures used for text analysis, computer vision and signal processing.Utilizing programming skills and knowledge on how to write models which can be directly used in production as part of a large-scale system.Applying techniques such as multivariate regressions, Bayesian probabilities, clustering algorithms, machine learning, dynamic programming, stochastic-processes, queuing theory, algorithmic knowledge to efficiently research and solve complex development problems and application of engineering methods to define, predict and evaluate the results obtained.Developing end to end deep learning solutions for structured and unstructured data problems.Developing and deploying A.I. solutions as part of a larger automation pipeline.Using common cloud computing platforms including Azure, AWS and GCP in addition to their respective utilities for managing and manipulating large data sources, model, development, and deployment.Visualizing and communicating analytical results, using technologies such as HTML, JavaScript, Tableau, and Power BI.RoleTeam Lead/Technical LeadIndustry TypeStrategy, Management Consulting FirmsFunctional AreaIT Software - OtherEmployment TypeFull Time, PermanentRole CategoryProgramming & DesignEducationUG :Any Graduate in Any Specialization, B.Tech/B.E. in Production/IndustrialPG :MCA in Computers, Any Postgraduate in Any SpecializationKey SkillsUnixComputer scienceAutomationLinuxAnalyticalXMLMachine learningData miningSQLPython',\n",
       " 'Job descriptionJob DescriptionAt Philips, data is in the centre of everything we do. We believe that, every data item has a story of its own. If you have a penchant for unravelling the hidden patterns, then you are the person we are looking for!To build our next generation smarts, you will be working with experts in a variety of fields, including clinical & regulatory specialists, UX designers, dental and skin care professionals, system architects, product management to integrate new technologies and refine system performance. You will help build learning systems, leveraging data sets consisting of user interactions and actions, collected from hundreds of thousands of consumer devices, per day to model, analyse, and predict user behaviours. While some of our algorithms run on resource constrained devices, others require large clusters on our cloud infrastructure. As data scientist you will investigate, discern, and interpret data sets to recognize user behaviour and predict trends.Job ResponsibilitiesUse predictive modeling to increase and optimize customer experiences, revenue generation, campaign optimization and other business outcomesWork with product management to develop data use cases and embed predictive models in workflows on resource constrained platforms and cloud enabled.Selecting features, building and optimizing classifiers using machine learning and deep learning techniquesCollaborates with Data Engineers to enhance data collection and ingestion/curation techniques to include information that is relevant for building analytic systemsProcessing, cleansing, and verifying the integrity of data used for analysisDevelop processes and tools to monitor and analyze model performance and data accuracy. Life cycle management of predictive models.Adherence to compliance procedures in accordance with regulatory standards, requirements, and policies. Managing and designing the reporting environment, including data sources security, and metadata.Job Qualifications:Master’s degree or PhD in Computer Science, Information management, Statistics or related field, with 10+ years of experience in the Consumer or Healthcare industry manipulating data sets and building predictive models with focus on product developmentExperience in statistical modelling, machine learning, data mining, unstructured data analytics and natural language processing. Sound understanding of - Bayesian Modelling, Classification Models, Cluster Analysis, Neural Network, Nonparametric Methods, Multivariate Statistics, etc.Strong hands on knowledge of ML techniques like regression algorithms, K- NN, Nave Bayes, SVM and ensemble techniques like Random forest, AdaBoost etcHaving strong knowledge in unsupervised learning algorithms using Neural networks and Deep- LearningStrong knowledge in Data Wrangling and Exploration techniques to identify the patterns, trends and outliners.Deep knowledge and practical experience with data science toolkits, such as NumPy, Pandas, scikit- learn or equivalentExperience with data visualization tools, such as QlikView, Matplotlib, seaborn or equivalent tools.Proficiency in using query languages, such as SQL, PL/SQLHands on experience in the one or more databases like Hadoop, AWS Redshift, Snowflake etc.Good applied statistics skills, such as distributions, statistical testing, regression, etc.Good ETL scripting and programming skills, such as Python, R or Scala to integrate developed solution into the proposition.A team player capable of working and integrating across cross- functional team for implementing project requirements. Experience in technical requirements gathering and documentation.Ability to work effectively and independently in a fast- paced global collaborative agile team environment with tight deadlinesA flexible, pragmatic and collaborative team player with innate ability to engage with stakeholders at all levels in the organization.A self- starter with high levels of drive, energy, resilience and a desire for professional excellence with a passion for data and data scienceRoleSoftware DeveloperIndustry TypeMedical, Healthcare, HospitalsFunctional AreaIT Software - Application Programming, MaintenanceEmployment TypeFull Time, PermanentRole CategoryProgramming & DesignEducationUG :B.Tech/B.E. in ComputersPG :M.Tech in ComputersKey SkillsProduct managementComputer sciencemetadataMachine learningAgileHealthcareQlikViewInformation managementData miningPython',\n",
       " 'Job descriptionRole BriefAs a Senior data scientist you will primarily develop machine learning solutions that will predict a customer s needs/intentions in real-time at the moment of interaction, in batch prior to the event, or in batch after the event for analytical labeling/categorization. The outputs of these models will then be used to determine the optimal engagement and experience to provide to the customer.You will partner with functional and channel stakeholders, work with domain experts, design and execute experiments on the data to achieve predefined outcomes.In addition to model development, you may, independently or within a team, need to build solutions to support the overall project, including label generation, data schemas, ad hoc analytics, output structure/packaging, or end-to-end prototype demos. You will be responsible for presenting your own work to team members, peers, and leadership, and will build any visualizations or presentations necessary for those communications.The Person : Qualification ExperienceKnowledge of predictive/prescriptive analytics including Machine Learning algorithms (Supervised and Unsupervised) and deep learning algorithms, Artificial Neural Networks (CUDA, Keras, Tensorflow) or Combinatorics (Mixed Integer Programming).Experience leading the end-to-end design, development, and deployment of predictive modeling solutions.Advanced SQL skills with Teradata, SQL Server, Hive and Spark experience.Experience with Natural Language Processing (NLTK) and text analytics for information extraction, parsing and topic modeling.Six or more years of relevant work experienceAbility to plan work and meet deadlinesExperience with using big data to develop models.Experience with Spark.Experience presenting to and influencing functional leaders and stakeholders.Deep expertise in applying machine learning to solve a class of AI problems such as NLU/NLP, Reinforcement Learning, Voice Biometrics, Text Mining, and Intelligent Process Automation.RoleTechnical ArchitectIndustry TypeStrategy, Management Consulting FirmsFunctional AreaIT Software - OtherEmployment TypeFull Time, PermanentRole CategoryProgramming & DesignEducationUG :Any Graduate in Any SpecializationPG :Post Graduation Not RequiredKey SkillsProcess automationBiometricscustomer analyticsPrototypeDiagnosticsAnalyticalArtificial IntelligenceMachine learningPackagingPredictive modeling',\n",
       " \"Job descriptionPlease note that this role will be Remote / Home-based for next 6 to 12 months.In DOJI, we are building a next generation marketplace and setting new standards for e-commerce buyers and sellers worldwide. We are a UK based tech start-up, founded by three passionate entrepreneurs with a track record of building and exiting successful ventures.We're excited to build this world-class team that is going to reshape the way people buy and sell consumer goods.Roles and ResponsibilitiesPerform exploratory and statistical analyses to understand and predict our customer behaviours, identify bottlenecks, and answer critical business questions.Build and deploy scalable machine learning models and oversee their performance against KPIs.Forecast our users conversion, engagement, and churn with rigorous statistical modelsBuild overall data capability of our organisation by performing complex data processing, building data pipelines and developing data products which can be directly used by our business users such as marketing and product teamsRequirementsFollowing are the mandatory skills & experience requirements for this role:Been a data scientist for 2+ years in a commercial set-upDirect experience in performing statistical analyses or building a variety of machine learning models from complex, specialised or large data pools.Passion for understanding user behaviour and building solutions to optimise customer experience and growth.Demonstrated competency with unsupervised machine learning algorithms (k-means clustering, isolation forests etc.) and / or supervised algorithms (logistic regression, SVM, Random Forests, GBM etc.)Direct experience using programming languages such as Python or R for statistical and/or numeric computingUndergraduate degree in a quantitative discipline (maths, statistics, econometrics etc.) or computer scienceAlthough the following requirements are not mandatory, however we would strongly prefer candidates with this skill and experience.We would prefer someone who also has experience in: data engineering, building data pipelines and cloud (AWS, Azure or GCP).Experience with additional programming languages used for data processing such as SQL, Hive, PySpark, Scala etc.Experience with consumer retail or e-commerce dataPostgraduate degree in a quantitative discipline or computer sciencePerks and BenefitsA very competitive package of 15 to 20 LacsBe part of a start-up with an entrepreneurial mindset that thinks big, with a long-term vision.Be the owner of your own development in an environment that is full of opportunities, learning, growth, expansion and challenging projects.Share and learn with the team, amongst great professionals and experts.An excellent work environment, with everything that you need to enjoy a great experienceSince this role will be 'Remote' (e.g. home office) during the initial stages, you will be responsible to ensure proper working conditions (computer and related equipment, reliable internet connection, etc) and availability during normal business working hours. As per business needs, you could be asked to work from an office based office location in the future.In Doji, we work hard to promote a culture of inclusiveness and diversity that seeks equality and values from different perspectives. We believe in building trust and fairness amongst people and making a positive impact on the environment.Should you require reasonable adjustments throughout the hiring process, please don't hesitate to get in touch with us.RoleData AnalystIndustry TypeInternet, EcommerceFunctional AreaAnalytics & Business IntelligenceEmployment TypeFull Time, PermanentRole CategoryAnalytics & BIEducationUG :Any Graduate in Any SpecializationKey SkillsData ScienceMachine LearningPythonPysparkRHiveLogistic RegressionData Engineeringdata scientistSVMStatisticsSQLSkills highlighted with ‘‘ are preferred keyskills\",\n",
       " \"Job descriptionDear Candidate,Greetings from HCL!!!We are looking for Data scientists with experience in machine learning algorithms and strong SQL experience.If you are Keen with Below Skill Set. Please do send the Updated CV with details such as current ctc, expected ctc and notice period to m_divvya@hcl.com / 8754448290.We are looking only for immediate joiners. Candidates with more than 30 days notice please don't apply.Technical Skills:Overall 5+ years of experience in advanced analytics and leading/mentoring team membersProficient in Python & SQL with minimum 2-3 years of hands on experienceSolid fundamentals, knowledge of supervised, unsupervised, reinforcement learning machine learning and deep learning algorithms, such as classifiers, cluster analysis, dimension reduction, regression, CNN, RNN, DQN, temporal difference methods, sequence modeling, probability theory, algorithm design and theory of computation, information retrievalAbility to work and execute projects on both structured and unstructured data in a big data environment • Strong at preparing data for analysis using SQL and experience working with the industry leading BI tools like Tableau, visualizing the data and executing to specificationsExperience of end to end implementation of predictive analytics projects for at least 1-3 years • Exposure to text analytics, web scraping, big data technologies and graph databases would be desirable • Exposure to visualization tools • Experience of intent to learn software domain related to VMware products and the way virtualization software/hardwarePreferred Skills:Good understanding of API connections and data pipelining • Knowledge with Natural Language Processing (e.g. word2vec, doc2vec, attention, LDA) • Understanding of different model performance metrics and hyperparameter optimization • Business Acumen, ability to translate business needs into a set of workable, specific requirements • Well versed with MS PowerPoint/VisioAbility to understand business requirements, KPIs and convert into analytical hypothesis in a structured and logical manner along with solution identification • Ability to handle multiple projects at a time in terms of multitasking, prioritization, allocation and team management • Ability to coordinate and work within multiple business units from project management perspective • Ability to work across geographies and interact with global stakeholders • Prior experience working in Agile methodologies/JIRA would be a plusWhat we are looking for:BS/BE in Computer Sciences, Math, Statistics or related field. Masters preferred.Proficient in SQL and experience with efficient processing of large data sets. Ability to write sophisticated and optimized queries against large databases • Proficient in data visualization tools such as Mode Analytics or Tableau • Proficient in Excel • Experience in statistical computing with Python/R • Ability to handle several concurrent activities with strong organizational skills and attention to detail We're team players. You'll do well if you're one tooRoleIT/Technical Content DeveloperIndustry TypeIT-Software, Software ServicesFunctional AreaIT Software - Application Programming, MaintenanceEmployment TypeFull Time, PermanentRole CategoryOtherEducationUG :B.Tech/B.E. in Any SpecializationKey SkillsMachine LearningSQL\",\n",
       " 'Job descriptionRoles and ResponsibilitiesWe are looking for a competent and enthusiastic candidate with the below requirement. This vital role ensures Cunesoft India Pvt Ltd (a Phlexglobal Company) Bangalore can provide a high-quality end product to internal and external users. This position requires strong technical and communication skills as well as both independent and team working, including working closely with all other areas of the software delivery team and the rest of the Technology department.Roles and ResponsibilitiesKey ActivitiesDevelop and improve the existing data mining and NLP related processes within our Regulatory Data Management platformDevelop new ways of improving and transforming the regulatory processes of Phlexglobal customers.Interact with product management, project management and development teams to develop additional modules and functions within the Phlexglobal Cloud PlatformDesign and create solutions for pre specified modules and functionsUse existing tools and techniques to develop and test new and existing workDefine, create and execute automated test cases, i.e. unit testsParticipate in troubleshooting and triaging of issues with different teams to drive towards root cause identification and resolutionSupport production deployment of applications and perform validation testing during the off-hours maintenance windowsSupport and fix existing and new identified issues by either customers or internal test teams.Desired Candidate ProfileRequired Skills & ExperienceMinimum 3+ years working experience in NLP, Artificial Intelligence, Machine Learning, Text Mining, Neural NetworksStrong programming skills using PYTHONIn depth experience with OpenNLP, Stanford NLP or related NLP / data mining technologiesIn depth experience with Python and data libraries such as scikit learn, pandas, numpy, etc.Selecting features, building and optimizing classifiers using machine learning techniquesExcellent understanding of Machine Learning Techniques and Algorithms.Must have Data mining / Natural Language Processing experienceMust have very good understanding ofGITProcessing, Cleansing, and verifying the integrity of dataDevelop custom data models and algorithms to apply to data sets.Defining validation strategiesDefining the preprocessing or feature engineering to be done on a given datasetDefining data augmentation pipelinesTraining models and tuning their hyperparametersAnalyzing the errors of the model and designing strategies to overcome themDeploying models to productionAdded advantages3+ years experience using Microsoft .NET / C#Exposure to ML.Net, AutoML, NimbusML, etcGood knowledge of Microsoft Visual Studio is preferredGood to have Microsoft SQL Server, preferably Microsoft SQL AzurePrevious experience in the Life sciences areaOther requirementsExcellent verbal and written communication skillsMust be flexible, independent and self motivatedPunctual, Regular and consistent attendanceEducation:BS degree in Information Systems, Computer Science, Web Systems, Electrical Engineering, Mathematics or domain related working experienceAs part of the Interview process, could you please complete the Titanic project and share the predication results on Kaggle.com to move forward with interview.https://www.kaggle.com/c/titanicCandidates with relevant experience kindly contact me.We are looking for a candidate who can join us immediately or in less than 15-20 daysSrini+91 9731007277sarumugam@phlexglobal.comRoleSoftware DeveloperIndustry TypePharma, Biotech, Clinical ResearchFunctional AreaIT Software - Application Programming, MaintenanceEmployment TypeFull Time, PermanentRole CategoryProgramming & DesignEducationUG :Any Graduate in Any SpecializationPG :OtherDoctorate :Other DoctorateKey Skillspandaspythonnlpscikitlearndataminingneuralnetworkdeeplearningmachinelearningdatasciencenumpynaturallanguageprocessingartificialintelligence']"
      ]
     },
     "execution_count": 55,
     "metadata": {},
     "output_type": "execute_result"
    }
   ],
   "source": [
    "job_description"
   ]
  },
  {
   "cell_type": "code",
   "execution_count": 56,
   "metadata": {},
   "outputs": [],
   "source": [
    "#creating a dataframe\n",
    "\n",
    "Data_scientist=pd.DataFrame({})\n",
    "Data_scientist['job_title']=job_title\n",
    "Data_scientist['job_location']=job_location\n",
    "Data_scientist['company_name']=company_name\n",
    "Data_scientist['job_description']=job_description"
   ]
  },
  {
   "cell_type": "code",
   "execution_count": 57,
   "metadata": {},
   "outputs": [
    {
     "data": {
      "text/html": [
       "<div>\n",
       "<style scoped>\n",
       "    .dataframe tbody tr th:only-of-type {\n",
       "        vertical-align: middle;\n",
       "    }\n",
       "\n",
       "    .dataframe tbody tr th {\n",
       "        vertical-align: top;\n",
       "    }\n",
       "\n",
       "    .dataframe thead th {\n",
       "        text-align: right;\n",
       "    }\n",
       "</style>\n",
       "<table border=\"1\" class=\"dataframe\">\n",
       "  <thead>\n",
       "    <tr style=\"text-align: right;\">\n",
       "      <th></th>\n",
       "      <th>job_title</th>\n",
       "      <th>job_location</th>\n",
       "      <th>company_name</th>\n",
       "      <th>job_description</th>\n",
       "    </tr>\n",
       "  </thead>\n",
       "  <tbody>\n",
       "    <tr>\n",
       "      <th>0</th>\n",
       "      <td>Data Scientist/Data Analyst-immediate</td>\n",
       "      <td>Chennai, Pune, Bengaluru, Hyderabad</td>\n",
       "      <td>CAIA-Center For Artificial Intelligence &amp; Adva...</td>\n",
       "      <td>Job descriptionDear CandidateSchedule a Teleph...</td>\n",
       "    </tr>\n",
       "    <tr>\n",
       "      <th>1</th>\n",
       "      <td>Data Scientist - Machine Learning</td>\n",
       "      <td>Bengaluru</td>\n",
       "      <td>AugmatrixGo</td>\n",
       "      <td>Job descriptionRoles and Responsibilities- Sel...</td>\n",
       "    </tr>\n",
       "    <tr>\n",
       "      <th>2</th>\n",
       "      <td>Nan</td>\n",
       "      <td>Nan</td>\n",
       "      <td>Nan</td>\n",
       "      <td>Nan</td>\n",
       "    </tr>\n",
       "    <tr>\n",
       "      <th>3</th>\n",
       "      <td>Nan</td>\n",
       "      <td>Nan</td>\n",
       "      <td>Nan</td>\n",
       "      <td>Nan</td>\n",
       "    </tr>\n",
       "    <tr>\n",
       "      <th>4</th>\n",
       "      <td>Senior Associate - Data Scientist/ML Engineer</td>\n",
       "      <td>Bengaluru</td>\n",
       "      <td>Pricewaterhouse Coopers Private Limited</td>\n",
       "      <td>Job descriptionDay-to-Day ResponsibilitiesDesi...</td>\n",
       "    </tr>\n",
       "    <tr>\n",
       "      <th>5</th>\n",
       "      <td>Senior Data Scientist</td>\n",
       "      <td>Bengaluru</td>\n",
       "      <td>Philips India Limited</td>\n",
       "      <td>Job descriptionJob DescriptionAt Philips, data...</td>\n",
       "    </tr>\n",
       "    <tr>\n",
       "      <th>6</th>\n",
       "      <td>Senior Data Scientist</td>\n",
       "      <td>Bengaluru</td>\n",
       "      <td>Fractal Analytics</td>\n",
       "      <td>Job descriptionRole BriefAs a Senior data scie...</td>\n",
       "    </tr>\n",
       "    <tr>\n",
       "      <th>7</th>\n",
       "      <td>Data Scientist - Machine Learning - Remote Wor...</td>\n",
       "      <td>Delhi NCR, Bengaluru, Anywhere in India</td>\n",
       "      <td>Doji Ltd</td>\n",
       "      <td>Job descriptionPlease note that this role will...</td>\n",
       "    </tr>\n",
       "    <tr>\n",
       "      <th>8</th>\n",
       "      <td>HCL hiring Data scientist with exp in machine ...</td>\n",
       "      <td>Bengaluru</td>\n",
       "      <td>HCL Technologies Limited</td>\n",
       "      <td>Job descriptionDear Candidate,Greetings from H...</td>\n",
       "    </tr>\n",
       "    <tr>\n",
       "      <th>9</th>\n",
       "      <td>Software Developer - Data Scientist / NLP / Ma...</td>\n",
       "      <td>Bengaluru / Bangalore</td>\n",
       "      <td>Cunesoft India Private Limited</td>\n",
       "      <td>Job descriptionRoles and ResponsibilitiesWe ar...</td>\n",
       "    </tr>\n",
       "  </tbody>\n",
       "</table>\n",
       "</div>"
      ],
      "text/plain": [
       "                                           job_title  \\\n",
       "0              Data Scientist/Data Analyst-immediate   \n",
       "1                  Data Scientist - Machine Learning   \n",
       "2                                                Nan   \n",
       "3                                                Nan   \n",
       "4      Senior Associate - Data Scientist/ML Engineer   \n",
       "5                              Senior Data Scientist   \n",
       "6                              Senior Data Scientist   \n",
       "7  Data Scientist - Machine Learning - Remote Wor...   \n",
       "8  HCL hiring Data scientist with exp in machine ...   \n",
       "9  Software Developer - Data Scientist / NLP / Ma...   \n",
       "\n",
       "                              job_location  \\\n",
       "0      Chennai, Pune, Bengaluru, Hyderabad   \n",
       "1                                Bengaluru   \n",
       "2                                      Nan   \n",
       "3                                      Nan   \n",
       "4                                Bengaluru   \n",
       "5                                Bengaluru   \n",
       "6                                Bengaluru   \n",
       "7  Delhi NCR, Bengaluru, Anywhere in India   \n",
       "8                                Bengaluru   \n",
       "9                    Bengaluru / Bangalore   \n",
       "\n",
       "                                        company_name  \\\n",
       "0  CAIA-Center For Artificial Intelligence & Adva...   \n",
       "1                                        AugmatrixGo   \n",
       "2                                                Nan   \n",
       "3                                                Nan   \n",
       "4            Pricewaterhouse Coopers Private Limited   \n",
       "5                              Philips India Limited   \n",
       "6                                  Fractal Analytics   \n",
       "7                                           Doji Ltd   \n",
       "8                           HCL Technologies Limited   \n",
       "9                     Cunesoft India Private Limited   \n",
       "\n",
       "                                     job_description  \n",
       "0  Job descriptionDear CandidateSchedule a Teleph...  \n",
       "1  Job descriptionRoles and Responsibilities- Sel...  \n",
       "2                                                Nan  \n",
       "3                                                Nan  \n",
       "4  Job descriptionDay-to-Day ResponsibilitiesDesi...  \n",
       "5  Job descriptionJob DescriptionAt Philips, data...  \n",
       "6  Job descriptionRole BriefAs a Senior data scie...  \n",
       "7  Job descriptionPlease note that this role will...  \n",
       "8  Job descriptionDear Candidate,Greetings from H...  \n",
       "9  Job descriptionRoles and ResponsibilitiesWe ar...  "
      ]
     },
     "execution_count": 57,
     "metadata": {},
     "output_type": "execute_result"
    }
   ],
   "source": [
    "Data_scientist"
   ]
  },
  {
   "cell_type": "markdown",
   "metadata": {},
   "source": [
    "# Q3: In this question you have to scrape data using the filters available on the webpage"
   ]
  },
  {
   "cell_type": "code",
   "execution_count": 63,
   "metadata": {},
   "outputs": [],
   "source": [
    "#specifying the url of the webpage to be scraped\n",
    "url=\"https://www.naukri.com/\""
   ]
  },
  {
   "cell_type": "code",
   "execution_count": 64,
   "metadata": {},
   "outputs": [],
   "source": [
    "#opening the webpage through our driver\n",
    "driver.get(url)"
   ]
  },
  {
   "cell_type": "code",
   "execution_count": 65,
   "metadata": {},
   "outputs": [],
   "source": [
    "#interacting with the webpage\n",
    "driver.find_element_by_xpath('//*[@id=\"qsb-keyword-sugg\"]').send_keys(\"Data Scientist\")\n",
    "driver.find_element_by_xpath('//*[@id=\"root\"]/div[3]/div[2]/section/div/form/div[3]/button').click()"
   ]
  },
  {
   "cell_type": "code",
   "execution_count": 66,
   "metadata": {},
   "outputs": [],
   "source": [
    "#applying location filter on the webpage\n",
    "driver.find_element_by_xpath('//*[@id=\"root\"]/div[3]/div[2]/section[1]/div[2]/div[2]/div[2]/div[2]/label/i').click()"
   ]
  },
  {
   "cell_type": "code",
   "execution_count": 67,
   "metadata": {},
   "outputs": [],
   "source": [
    "#applying salary filter on the webpage\n",
    "driver.find_element_by_xpath('//*[@id=\"root\"]/div[3]/div[2]/section[1]/div[2]/div[3]/div[2]/div[2]/label/i').click()"
   ]
  },
  {
   "cell_type": "code",
   "execution_count": 68,
   "metadata": {},
   "outputs": [],
   "source": [
    "#creating the empty lists\n",
    "job_title=[]\n",
    "job_location=[]\n",
    "company_name=[]\n",
    "experience_required=[]"
   ]
  },
  {
   "cell_type": "code",
   "execution_count": 69,
   "metadata": {},
   "outputs": [
    {
     "data": {
      "text/plain": [
       "[<selenium.webdriver.remote.webelement.WebElement (session=\"f806e061eba51001a8719df670e9d765\", element=\"1304f9d2-ea1b-4eeb-92ff-d6d631ff4abd\")>,\n",
       " <selenium.webdriver.remote.webelement.WebElement (session=\"f806e061eba51001a8719df670e9d765\", element=\"d50151c1-7d69-48ac-91f4-dde351f4fef0\")>,\n",
       " <selenium.webdriver.remote.webelement.WebElement (session=\"f806e061eba51001a8719df670e9d765\", element=\"f5ecf8e6-c494-4797-a3a5-af516b52644f\")>]"
      ]
     },
     "execution_count": 69,
     "metadata": {},
     "output_type": "execute_result"
    }
   ],
   "source": [
    "#extracting first 10 tags having job-titles\n",
    "titles=driver.find_elements_by_xpath(\"//a[@class='title fw500 ellipsis']\")[0:10]\n",
    "titles[0:3]"
   ]
  },
  {
   "cell_type": "code",
   "execution_count": 70,
   "metadata": {},
   "outputs": [
    {
     "data": {
      "text/plain": [
       "['Data Scientist - Python/Machine Learning',\n",
       " 'Data Scientist',\n",
       " 'Tech Mahindra hiring For Data Scientist- Noida',\n",
       " 'Data Scientist - Commercial Planning and Analysis',\n",
       " 'Data Scientist',\n",
       " 'Data Scientist',\n",
       " 'Data Scientist - Machine Learning/ Artificial Intelligence - IT',\n",
       " 'GCP Skilled Analytics Resources (Data engineer / Data scientists)',\n",
       " 'Data Scientist Machine Learning',\n",
       " 'Data Scientist']"
      ]
     },
     "execution_count": 70,
     "metadata": {},
     "output_type": "execute_result"
    }
   ],
   "source": [
    "#running a loop to extract the texts inside the job-title tags\n",
    "\n",
    "for i in titles:\n",
    "    title=i.text\n",
    "    job_title.append(title)\n",
    "job_title"
   ]
  },
  {
   "cell_type": "code",
   "execution_count": 71,
   "metadata": {},
   "outputs": [
    {
     "data": {
      "text/plain": [
       "[<selenium.webdriver.remote.webelement.WebElement (session=\"f806e061eba51001a8719df670e9d765\", element=\"fd133881-a98c-42d4-b894-0b4157a27370\")>,\n",
       " <selenium.webdriver.remote.webelement.WebElement (session=\"f806e061eba51001a8719df670e9d765\", element=\"f4cc0658-1a74-45ed-a7a9-29f5c5c9df73\")>,\n",
       " <selenium.webdriver.remote.webelement.WebElement (session=\"f806e061eba51001a8719df670e9d765\", element=\"69bb7324-0777-44c4-a033-e78de7cb3dee\")>]"
      ]
     },
     "execution_count": 71,
     "metadata": {},
     "output_type": "execute_result"
    }
   ],
   "source": [
    "#extracting first 10 tags having company-names\n",
    "companies=driver.find_elements_by_xpath(\"//a[@class='subTitle ellipsis fleft']\")[0:10]\n",
    "companies[0:3]"
   ]
  },
  {
   "cell_type": "code",
   "execution_count": 72,
   "metadata": {},
   "outputs": [
    {
     "data": {
      "text/plain": [
       "['Jubna',\n",
       " 'IBM India Pvt. Limited',\n",
       " 'tech mahindra ltd',\n",
       " 'Air Asia India Limited',\n",
       " 'Amity University',\n",
       " 'World Wide Technology',\n",
       " 'Talent Acceleration Corridor',\n",
       " 'Aerial Telecom Solutions Pvt. Ltd.',\n",
       " 'Delhivery',\n",
       " 'Eighteen Pixels India Private Limited']"
      ]
     },
     "execution_count": 72,
     "metadata": {},
     "output_type": "execute_result"
    }
   ],
   "source": [
    "#running a loop to extract the texts inside the companies-tags\n",
    "\n",
    "for i in companies:\n",
    "    company_names=i.text\n",
    "    company_name.append(company_names)\n",
    "company_name"
   ]
  },
  {
   "cell_type": "code",
   "execution_count": 73,
   "metadata": {},
   "outputs": [
    {
     "data": {
      "text/plain": [
       "[<selenium.webdriver.remote.webelement.WebElement (session=\"f806e061eba51001a8719df670e9d765\", element=\"78d2d301-a29c-4230-8867-73b58dac8a34\")>,\n",
       " <selenium.webdriver.remote.webelement.WebElement (session=\"f806e061eba51001a8719df670e9d765\", element=\"2e74b4d5-264e-4b35-99fe-729b5297fb82\")>,\n",
       " <selenium.webdriver.remote.webelement.WebElement (session=\"f806e061eba51001a8719df670e9d765\", element=\"2b40025e-fe33-42ec-af98-66065ceaee3c\")>]"
      ]
     },
     "execution_count": 73,
     "metadata": {},
     "output_type": "execute_result"
    }
   ],
   "source": [
    "#extracting first 10 tags having experience-required\n",
    "experience_tags=driver.find_elements_by_xpath(\"//li[@class='fleft grey-text br2 placeHolderLi experience']/span[1]\")[0:10]\n",
    "experience_tags[0:3]"
   ]
  },
  {
   "cell_type": "code",
   "execution_count": 74,
   "metadata": {},
   "outputs": [
    {
     "data": {
      "text/plain": [
       "['5-8 Yrs',\n",
       " '3-5 Yrs',\n",
       " '5-10 Yrs',\n",
       " '1-6 Yrs',\n",
       " '6-8 Yrs',\n",
       " '3-8 Yrs',\n",
       " '6-11 Yrs',\n",
       " '3-8 Yrs',\n",
       " '1-3 Yrs',\n",
       " '2-6 Yrs']"
      ]
     },
     "execution_count": 74,
     "metadata": {},
     "output_type": "execute_result"
    }
   ],
   "source": [
    "#running a loop to extract the texts inside the experience_required-tags\n",
    "\n",
    "for i in experience_tags:\n",
    "    experience=i.text\n",
    "    experience_required.append(experience)\n",
    "experience_required"
   ]
  },
  {
   "cell_type": "code",
   "execution_count": 75,
   "metadata": {},
   "outputs": [
    {
     "data": {
      "text/plain": [
       "[<selenium.webdriver.remote.webelement.WebElement (session=\"f806e061eba51001a8719df670e9d765\", element=\"3f6c3c82-dba5-4c86-af10-71b53cdb216d\")>,\n",
       " <selenium.webdriver.remote.webelement.WebElement (session=\"f806e061eba51001a8719df670e9d765\", element=\"96aeb181-9f72-4f5a-a3ad-0debbb072daa\")>,\n",
       " <selenium.webdriver.remote.webelement.WebElement (session=\"f806e061eba51001a8719df670e9d765\", element=\"bc479fe8-0e23-4da8-8ced-ace6c00278a3\")>]"
      ]
     },
     "execution_count": 75,
     "metadata": {},
     "output_type": "execute_result"
    }
   ],
   "source": [
    "#extracting first 10 tags having job-locations\n",
    "location_tags=driver.find_elements_by_xpath(\"//li[@class='fleft grey-text br2 placeHolderLi location']/span[1]\")[0:10]\n",
    "location_tags[0:3]"
   ]
  },
  {
   "cell_type": "code",
   "execution_count": 76,
   "metadata": {},
   "outputs": [
    {
     "data": {
      "text/plain": [
       "['Noida',\n",
       " 'Gurgaon Gurugram',\n",
       " 'Noida',\n",
       " 'Delhi NCR, Gurgaon',\n",
       " 'Faridabad, Delhi NCR, Ghaziabad',\n",
       " 'Gurgaon',\n",
       " 'Delhi/NCR Delhi NCR, Noida',\n",
       " 'Pune, Bengaluru, Gurgaon',\n",
       " 'Gurgaon',\n",
       " 'Delhi NCR']"
      ]
     },
     "execution_count": 76,
     "metadata": {},
     "output_type": "execute_result"
    }
   ],
   "source": [
    "#running a loop to extract the texts inside the location_tags\n",
    "\n",
    "for i in location_tags:\n",
    "    locations=i.text\n",
    "    job_location.append(locations)\n",
    "job_location"
   ]
  },
  {
   "cell_type": "code",
   "execution_count": 77,
   "metadata": {},
   "outputs": [
    {
     "name": "stdout",
     "output_type": "stream",
     "text": [
      "10 10 10 10\n"
     ]
    }
   ],
   "source": [
    "print(len(job_title),len(company_name),len(experience_required),len(job_location))"
   ]
  },
  {
   "cell_type": "code",
   "execution_count": 78,
   "metadata": {},
   "outputs": [],
   "source": [
    "#creating a dataframe\n",
    "\n",
    "Data_Scientist=pd.DataFrame({})\n",
    "Data_Scientist['job_title']=job_title\n",
    "Data_Scientist['job_location']=job_location\n",
    "Data_Scientist['company_name']=company_name\n",
    "Data_Scientist['experience_required']=experience_required"
   ]
  },
  {
   "cell_type": "code",
   "execution_count": 79,
   "metadata": {},
   "outputs": [
    {
     "data": {
      "text/html": [
       "<div>\n",
       "<style scoped>\n",
       "    .dataframe tbody tr th:only-of-type {\n",
       "        vertical-align: middle;\n",
       "    }\n",
       "\n",
       "    .dataframe tbody tr th {\n",
       "        vertical-align: top;\n",
       "    }\n",
       "\n",
       "    .dataframe thead th {\n",
       "        text-align: right;\n",
       "    }\n",
       "</style>\n",
       "<table border=\"1\" class=\"dataframe\">\n",
       "  <thead>\n",
       "    <tr style=\"text-align: right;\">\n",
       "      <th></th>\n",
       "      <th>job_title</th>\n",
       "      <th>job_location</th>\n",
       "      <th>company_name</th>\n",
       "      <th>experience_required</th>\n",
       "    </tr>\n",
       "  </thead>\n",
       "  <tbody>\n",
       "    <tr>\n",
       "      <th>0</th>\n",
       "      <td>Data Scientist - Python/Machine Learning</td>\n",
       "      <td>Noida</td>\n",
       "      <td>Jubna</td>\n",
       "      <td>5-8 Yrs</td>\n",
       "    </tr>\n",
       "    <tr>\n",
       "      <th>1</th>\n",
       "      <td>Data Scientist</td>\n",
       "      <td>Gurgaon Gurugram</td>\n",
       "      <td>IBM India Pvt. Limited</td>\n",
       "      <td>3-5 Yrs</td>\n",
       "    </tr>\n",
       "    <tr>\n",
       "      <th>2</th>\n",
       "      <td>Tech Mahindra hiring For Data Scientist- Noida</td>\n",
       "      <td>Noida</td>\n",
       "      <td>tech mahindra ltd</td>\n",
       "      <td>5-10 Yrs</td>\n",
       "    </tr>\n",
       "    <tr>\n",
       "      <th>3</th>\n",
       "      <td>Data Scientist - Commercial Planning and Analysis</td>\n",
       "      <td>Delhi NCR, Gurgaon</td>\n",
       "      <td>Air Asia India Limited</td>\n",
       "      <td>1-6 Yrs</td>\n",
       "    </tr>\n",
       "    <tr>\n",
       "      <th>4</th>\n",
       "      <td>Data Scientist</td>\n",
       "      <td>Faridabad, Delhi NCR, Ghaziabad</td>\n",
       "      <td>Amity University</td>\n",
       "      <td>6-8 Yrs</td>\n",
       "    </tr>\n",
       "    <tr>\n",
       "      <th>5</th>\n",
       "      <td>Data Scientist</td>\n",
       "      <td>Gurgaon</td>\n",
       "      <td>World Wide Technology</td>\n",
       "      <td>3-8 Yrs</td>\n",
       "    </tr>\n",
       "    <tr>\n",
       "      <th>6</th>\n",
       "      <td>Data Scientist - Machine Learning/ Artificial ...</td>\n",
       "      <td>Delhi/NCR Delhi NCR, Noida</td>\n",
       "      <td>Talent Acceleration Corridor</td>\n",
       "      <td>6-11 Yrs</td>\n",
       "    </tr>\n",
       "    <tr>\n",
       "      <th>7</th>\n",
       "      <td>GCP Skilled Analytics Resources (Data engineer...</td>\n",
       "      <td>Pune, Bengaluru, Gurgaon</td>\n",
       "      <td>Aerial Telecom Solutions Pvt. Ltd.</td>\n",
       "      <td>3-8 Yrs</td>\n",
       "    </tr>\n",
       "    <tr>\n",
       "      <th>8</th>\n",
       "      <td>Data Scientist Machine Learning</td>\n",
       "      <td>Gurgaon</td>\n",
       "      <td>Delhivery</td>\n",
       "      <td>1-3 Yrs</td>\n",
       "    </tr>\n",
       "    <tr>\n",
       "      <th>9</th>\n",
       "      <td>Data Scientist</td>\n",
       "      <td>Delhi NCR</td>\n",
       "      <td>Eighteen Pixels India Private Limited</td>\n",
       "      <td>2-6 Yrs</td>\n",
       "    </tr>\n",
       "  </tbody>\n",
       "</table>\n",
       "</div>"
      ],
      "text/plain": [
       "                                           job_title  \\\n",
       "0           Data Scientist - Python/Machine Learning   \n",
       "1                                     Data Scientist   \n",
       "2     Tech Mahindra hiring For Data Scientist- Noida   \n",
       "3  Data Scientist - Commercial Planning and Analysis   \n",
       "4                                     Data Scientist   \n",
       "5                                     Data Scientist   \n",
       "6  Data Scientist - Machine Learning/ Artificial ...   \n",
       "7  GCP Skilled Analytics Resources (Data engineer...   \n",
       "8                    Data Scientist Machine Learning   \n",
       "9                                     Data Scientist   \n",
       "\n",
       "                      job_location                           company_name  \\\n",
       "0                            Noida                                  Jubna   \n",
       "1                 Gurgaon Gurugram                 IBM India Pvt. Limited   \n",
       "2                            Noida                      tech mahindra ltd   \n",
       "3               Delhi NCR, Gurgaon                 Air Asia India Limited   \n",
       "4  Faridabad, Delhi NCR, Ghaziabad                       Amity University   \n",
       "5                          Gurgaon                  World Wide Technology   \n",
       "6       Delhi/NCR Delhi NCR, Noida           Talent Acceleration Corridor   \n",
       "7         Pune, Bengaluru, Gurgaon     Aerial Telecom Solutions Pvt. Ltd.   \n",
       "8                          Gurgaon                              Delhivery   \n",
       "9                        Delhi NCR  Eighteen Pixels India Private Limited   \n",
       "\n",
       "  experience_required  \n",
       "0             5-8 Yrs  \n",
       "1             3-5 Yrs  \n",
       "2            5-10 Yrs  \n",
       "3             1-6 Yrs  \n",
       "4             6-8 Yrs  \n",
       "5             3-8 Yrs  \n",
       "6            6-11 Yrs  \n",
       "7             3-8 Yrs  \n",
       "8             1-3 Yrs  \n",
       "9             2-6 Yrs  "
      ]
     },
     "execution_count": 79,
     "metadata": {},
     "output_type": "execute_result"
    }
   ],
   "source": [
    "Data_Scientist"
   ]
  },
  {
   "cell_type": "markdown",
   "metadata": {},
   "source": [
    "# Q4: Write a python program to scrape data for first 10 job results for Data scientist Designation in Noida location. You have to scrape company_name, No. of days ago when job was posted, Rating of the company."
   ]
  },
  {
   "cell_type": "code",
   "execution_count": 89,
   "metadata": {},
   "outputs": [],
   "source": [
    "#connecting to the webdriver\n",
    "driver = webdriver.Chrome(r\"C:\\Users\\saurabh\\Downloads\\chromedriver_win32\\chromedriver.exe\")"
   ]
  },
  {
   "cell_type": "code",
   "execution_count": 90,
   "metadata": {},
   "outputs": [],
   "source": [
    "#specifying the url of the webpage to be scraped\n",
    "url=\" https://www.glassdoor.co.in/index.htm\""
   ]
  },
  {
   "cell_type": "code",
   "execution_count": 91,
   "metadata": {},
   "outputs": [],
   "source": [
    "#opening the webpage through our driver\n",
    "driver.get(url)"
   ]
  },
  {
   "cell_type": "code",
   "execution_count": 95,
   "metadata": {},
   "outputs": [],
   "source": [
    "#interacting with the webpage\n",
    "driver.find_element_by_id(\"sc.keyword\").send_keys(\"Data Scientist\")\n",
    "driver.find_element_by_xpath('//*[@id=\"sc.location\"]').send_keys(\"Noida\")\n",
    "driver.find_element_by_xpath('//*[@id=\"scBar\"]/div/button/span').click()"
   ]
  },
  {
   "cell_type": "code",
   "execution_count": 96,
   "metadata": {},
   "outputs": [],
   "source": [
    "#creating the empty lists\n",
    "company_name=[]\n",
    "days_jobposted=[]\n",
    "company_rating=[]"
   ]
  },
  {
   "cell_type": "code",
   "execution_count": 97,
   "metadata": {},
   "outputs": [
    {
     "data": {
      "text/plain": [
       "[<selenium.webdriver.remote.webelement.WebElement (session=\"774c679ac1debbbd0a10a29af4c1b59d\", element=\"87b8a099-8d21-4faa-be00-d7b83836ab75\")>,\n",
       " <selenium.webdriver.remote.webelement.WebElement (session=\"774c679ac1debbbd0a10a29af4c1b59d\", element=\"252d1ac9-49e4-4fa9-86ae-720bbddddba0\")>,\n",
       " <selenium.webdriver.remote.webelement.WebElement (session=\"774c679ac1debbbd0a10a29af4c1b59d\", element=\"8fe6c402-7fb7-4dea-911c-54dea9d05646\")>]"
      ]
     },
     "execution_count": 97,
     "metadata": {},
     "output_type": "execute_result"
    }
   ],
   "source": [
    "#extracting first 10 tags having company-names\n",
    "companies=driver.find_elements_by_xpath(\"//a[@class=' css-10l5u4p e1n63ojh0 jobLink']/span[1]\")[0:10]\n",
    "companies[0:3]"
   ]
  },
  {
   "cell_type": "code",
   "execution_count": 98,
   "metadata": {},
   "outputs": [
    {
     "data": {
      "text/plain": [
       "['QuantumIT',\n",
       " 'DcodeAI',\n",
       " 'Biz2Credit Inc',\n",
       " 'Genpact',\n",
       " 'Salasar New Age Technologies',\n",
       " 'Emerging India Group',\n",
       " 'Salasar New Age Technologies',\n",
       " 'Techlive',\n",
       " 'Dürr Somac GmbH',\n",
       " 'adidas']"
      ]
     },
     "execution_count": 98,
     "metadata": {},
     "output_type": "execute_result"
    }
   ],
   "source": [
    "#running a loop to extract the texts inside the companies-tags\n",
    "\n",
    "for i in companies:\n",
    "    company_names=i.text\n",
    "    company_name.append(company_names)\n",
    "company_name"
   ]
  },
  {
   "cell_type": "code",
   "execution_count": 99,
   "metadata": {},
   "outputs": [
    {
     "data": {
      "text/plain": [
       "[<selenium.webdriver.remote.webelement.WebElement (session=\"774c679ac1debbbd0a10a29af4c1b59d\", element=\"79206d85-b9c5-4a02-9722-4a07fc5c8228\")>,\n",
       " <selenium.webdriver.remote.webelement.WebElement (session=\"774c679ac1debbbd0a10a29af4c1b59d\", element=\"e0f7491d-ba5f-4748-aeb2-ade7f50b1083\")>,\n",
       " <selenium.webdriver.remote.webelement.WebElement (session=\"774c679ac1debbbd0a10a29af4c1b59d\", element=\"d915e4a7-ec0b-48d7-9a6c-72e62642353c\")>]"
      ]
     },
     "execution_count": 99,
     "metadata": {},
     "output_type": "execute_result"
    }
   ],
   "source": [
    "#extracting first 10 tags having job days posted ago\n",
    "days=driver.find_elements_by_xpath(\"//div[@class='d-flex align-items-end pl-std css-mi55ob']\")[0:10]\n",
    "days[0:3]"
   ]
  },
  {
   "cell_type": "code",
   "execution_count": 100,
   "metadata": {},
   "outputs": [
    {
     "data": {
      "text/plain": [
       "['7d', '13d', '30d+', '24h', '30d+', '18d', '30d+', '30d+', '30d+', '3d']"
      ]
     },
     "execution_count": 100,
     "metadata": {},
     "output_type": "execute_result"
    }
   ],
   "source": [
    "#running a loop to extract the texts inside the job days posted ago tags\n",
    "\n",
    "for i in days:\n",
    "    day=i.text\n",
    "    days_jobposted.append(day)\n",
    "days_jobposted"
   ]
  },
  {
   "cell_type": "code",
   "execution_count": 104,
   "metadata": {},
   "outputs": [],
   "source": [
    "#getting the list of url of first 10 data scientist jobs to extract company rating\n",
    "\n",
    "URL=[]\n",
    "rating_tags=driver.find_elements_by_xpath(\"//a[@class='jobInfoItem jobTitle css-13w0lq6 eigr9kq1 jobLink']\")[0:10]\n",
    "for i in rating_tags:\n",
    "    URL.append(i.get_attribute('href'))"
   ]
  },
  {
   "cell_type": "code",
   "execution_count": 105,
   "metadata": {},
   "outputs": [
    {
     "data": {
      "text/plain": [
       "['https://www.glassdoor.co.in/partner/jobListing.htm?pos=101&ao=1136043&s=58&guid=000001771b272bc6a01af4d490d7fc4e&src=GD_JOB_AD&t=SR&vt=w&uido=3B209A0920CB1401CB2F3844EEDAA1C8&ea=1&cs=1_c71cabcc&cb=1611068288387&jobListingId=1006837939775&jrtk=1-1esdieavbu1b6801-1esdieavvu4a3800-5198672f18adcd49',\n",
       " 'https://www.glassdoor.co.in/partner/jobListing.htm?pos=102&ao=1110586&s=58&guid=000001771b272bc6a01af4d490d7fc4e&src=GD_JOB_AD&t=SR&vt=w&uido=3B209A0920CB1401CB2F3844EEDAA1C8&ea=1&cs=1_e7e1fc45&cb=1611068288385&jobListingId=1006828910537&cpc=3BA4CE39D5B5DEF5&jrtk=1-1esdieavbu1b6801-1esdieavvu4a3800-b8caf97bd17bfceb&jvt=aHR0cHM6Ly9pbi5pbmRlZWQuY29tL3JjL2dkL3BuZz9hPUh5MlI4ekNxUWl3MTFuQ3dKRDZlWUh3RlZEYUJyUWlpeldIM2VBR1ZHTUh2TXN5MlRNMFVoMnh1MEVnUXFuNWNsWnRnNWJCZWw1aE5sV3ZLT2pRTHFIZU5KTHpPLUhLeEFRSERmeE5CdHNRN29DdDF0TFZWMThkZFFTOWlqSE4zTFFzRXlKLXF4bkRMVDlrLVVBSF9NWktsdHJLbTltRldxODVNN21KXzV6VW56MkpkTXZSaVVDaTU0dk4zckl5YXYzYXpNX01wUHoxWnRlVDlPTTRqdWhOcjhXT2k0Nm5EbWVYaDUtZ3ZJZ0xSR3RFRV9SamhBNHBFUW5JclNrZUVQbXcwNlFVaV9lY1pWTUdxNzMyWkdpQ1JYaGQyUFlERmN5dUxvNENhYkhoWlEzNG13WkV0Y1RxZXdTVVZYSVhTTS0xbkhfQmVYYTh1VmZfWVRkUGlPRTFSeTVTbDBOSHJNTkJKSkFXN1luQXZiQ0o3aVFrR19sbjJVMzNfVC1qT1Fad0JVYU1BNTJMNWcycUVIWDZRcWczbF92YmFramsycDdYelBlVEFNVks0c3puQ0t0X3Q4Zl9rM3lYU2xxRHR1LW81RUFyUnJHLTRiOVQzM3dLRmE3cTdEZFBuZy1Zb2hoemMtdFZ0Q3FWbUtnc2tCR2I0YzBhSHFpNFRaLVdocW5pUTM2c1ZiQy0zWU41TzFBZ0ExLTZKRVVmdHNsYVNqaFpLU2d0dkRUeUZNa1lCRnpGVHdORjhaNU1RdVFiVjBQaVlSZ2RpYzRqMm51RFVYNEphU0VlSVVXTXpjU285NXpFNEROc3VaYkhxenJfMWZqVFJrMjA4MTlxdEVYbEJkQlRhcTBfT01TQjg4ZGJJYy1TRVQ4VzFCN09MVmZqdU9NM0x4RTJGY19iRzVJNEtEd2FJS0FaeWk0MDc2dzVaYll3N1pMQVloRk16N1djZjhGNWRyeTVWXzloTjAtSTRWQnRmMGgtWWEyd1k1NEpYWXl5eTYyeFhjcVhTeTRXblJuU2MzRWlmUFMyZS1vTF9wZHMtY1g4d3ZCTWZpZ3BRVXAwZXdXREJJdU1EdThCSkRieF82Zw',\n",
       " 'https://www.glassdoor.co.in/partner/jobListing.htm?pos=103&ao=1136043&s=58&guid=000001771b272bc6a01af4d490d7fc4e&src=GD_JOB_AD&t=SR&vt=w&uido=3B209A0920CB1401CB2F3844EEDAA1C8&ea=1&cs=1_b2a1041d&cb=1611068288387&jobListingId=1006687249100&jrtk=1-1esdieavbu1b6801-1esdieavvu4a3800-94036c835379de77',\n",
       " 'https://www.glassdoor.co.in/partner/jobListing.htm?pos=104&ao=1136043&s=58&guid=000001771b272bc6a01af4d490d7fc4e&src=GD_JOB_AD&t=SR&vt=w&uido=3B209A0920CB1401CB2F3844EEDAA1C8&cs=1_93c47b73&cb=1611068288382&jobListingId=1006849244265&jrtk=1-1esdieavbu1b6801-1esdieavvu4a3800-6eb1016eed28ffd0',\n",
       " 'https://www.glassdoor.co.in/partner/jobListing.htm?pos=105&ao=1136043&s=58&guid=000001771b272bc6a01af4d490d7fc4e&src=GD_JOB_AD&t=SR&vt=w&uido=3B209A0920CB1401CB2F3844EEDAA1C8&cs=1_981415ee&cb=1611068288383&jobListingId=1006624054035&jrtk=1-1esdieavbu1b6801-1esdieavvu4a3800-c47c5ae51c2ed2ee',\n",
       " 'https://www.glassdoor.co.in/partner/jobListing.htm?pos=106&ao=1136043&s=58&guid=000001771b272bc6a01af4d490d7fc4e&src=GD_JOB_AD&t=SR&vt=w&uido=3B209A0920CB1401CB2F3844EEDAA1C8&cs=1_273b2030&cb=1611068288386&jobListingId=1006822191155&jrtk=1-1esdieavbu1b6801-1esdieavvu4a3800-9afa23640c51a448',\n",
       " 'https://www.glassdoor.co.in/partner/jobListing.htm?pos=107&ao=1136043&s=58&guid=000001771b272bc6a01af4d490d7fc4e&src=GD_JOB_AD&t=SR&vt=w&uido=3B209A0920CB1401CB2F3844EEDAA1C8&cs=1_eca578fa&cb=1611068288384&jobListingId=1006624053994&jrtk=1-1esdieavbu1b6801-1esdieavvu4a3800-a8cb856cd397a474',\n",
       " 'https://www.glassdoor.co.in/partner/jobListing.htm?pos=108&ao=1136043&s=58&guid=000001771b272bc6a01af4d490d7fc4e&src=GD_JOB_AD&t=SR&vt=w&uido=3B209A0920CB1401CB2F3844EEDAA1C8&cs=1_f71307df&cb=1611068288385&jobListingId=1006461286442&jrtk=1-1esdieavbu1b6801-1esdieavvu4a3800-a1ea358f023a69b7',\n",
       " 'https://www.glassdoor.co.in/partner/jobListing.htm?pos=109&ao=1136043&s=58&guid=000001771b272bc6a01af4d490d7fc4e&src=GD_JOB_AD&t=SR&vt=w&uido=3B209A0920CB1401CB2F3844EEDAA1C8&cs=1_3960d70f&cb=1611068288388&jobListingId=1006770247300&jrtk=1-1esdieavbu1b6801-1esdieavvu4a3800-a8e20ca07f58cb0b',\n",
       " 'https://www.glassdoor.co.in/partner/jobListing.htm?pos=110&ao=1136043&s=58&guid=000001771b272bc6a01af4d490d7fc4e&src=GD_JOB_AD&t=SR&vt=w&uido=3B209A0920CB1401CB2F3844EEDAA1C8&cs=1_aabf1f9f&cb=1611068288389&jobListingId=1006845611660&jrtk=1-1esdieavbu1b6801-1esdieavvu4a3800-ff322e5c77ae5dc8']"
      ]
     },
     "execution_count": 105,
     "metadata": {},
     "output_type": "execute_result"
    }
   ],
   "source": [
    "URL"
   ]
  },
  {
   "cell_type": "code",
   "execution_count": 127,
   "metadata": {},
   "outputs": [],
   "source": [
    "#creating empty list to store company ratings\n",
    "ratings=[]"
   ]
  },
  {
   "cell_type": "code",
   "execution_count": 128,
   "metadata": {},
   "outputs": [],
   "source": [
    "#opening the webpage of the first job listing  through our driver\n",
    "driver.get(URL[0])"
   ]
  },
  {
   "cell_type": "code",
   "execution_count": 129,
   "metadata": {},
   "outputs": [],
   "source": [
    "#running a loop to extract first10 company ratings from each individual job listing\n",
    "\n",
    "for i in URL:\n",
    "    driver.get(i)\n",
    "    try:\n",
    "        ratings.append((driver.find_element_by_xpath(\"//span[@class='css-1pmc6te e11nt52q4']\")).text.replace(\"\\n★\",\"\"))\n",
    "    except NoSuchElementException:\n",
    "        ratings.append(\"Nan\")"
   ]
  },
  {
   "cell_type": "code",
   "execution_count": 130,
   "metadata": {},
   "outputs": [
    {
     "data": {
      "text/plain": [
       "['3.3', 'Nan', '3.7', '3.8', 'Nan', '1.0', 'Nan', '5.0', 'Nan', '3.9']"
      ]
     },
     "execution_count": 130,
     "metadata": {},
     "output_type": "execute_result"
    }
   ],
   "source": [
    "ratings"
   ]
  },
  {
   "cell_type": "code",
   "execution_count": 131,
   "metadata": {},
   "outputs": [
    {
     "name": "stdout",
     "output_type": "stream",
     "text": [
      "10 10 10\n"
     ]
    }
   ],
   "source": [
    "print(len(company_name),len(days_jobposted),len(ratings))"
   ]
  },
  {
   "cell_type": "code",
   "execution_count": 132,
   "metadata": {},
   "outputs": [],
   "source": [
    "#creating a dataframe\n",
    "\n",
    "Data_Scientist=pd.DataFrame({})\n",
    "Data_Scientist['company_name']=company_name\n",
    "Data_Scientist['days_jobposted']=days_jobposted\n",
    "Data_Scientist['ratings']=ratings"
   ]
  },
  {
   "cell_type": "code",
   "execution_count": 133,
   "metadata": {},
   "outputs": [
    {
     "data": {
      "text/html": [
       "<div>\n",
       "<style scoped>\n",
       "    .dataframe tbody tr th:only-of-type {\n",
       "        vertical-align: middle;\n",
       "    }\n",
       "\n",
       "    .dataframe tbody tr th {\n",
       "        vertical-align: top;\n",
       "    }\n",
       "\n",
       "    .dataframe thead th {\n",
       "        text-align: right;\n",
       "    }\n",
       "</style>\n",
       "<table border=\"1\" class=\"dataframe\">\n",
       "  <thead>\n",
       "    <tr style=\"text-align: right;\">\n",
       "      <th></th>\n",
       "      <th>company_name</th>\n",
       "      <th>days_jobposted</th>\n",
       "      <th>ratings</th>\n",
       "    </tr>\n",
       "  </thead>\n",
       "  <tbody>\n",
       "    <tr>\n",
       "      <th>0</th>\n",
       "      <td>QuantumIT</td>\n",
       "      <td>7d</td>\n",
       "      <td>3.3</td>\n",
       "    </tr>\n",
       "    <tr>\n",
       "      <th>1</th>\n",
       "      <td>DcodeAI</td>\n",
       "      <td>13d</td>\n",
       "      <td>Nan</td>\n",
       "    </tr>\n",
       "    <tr>\n",
       "      <th>2</th>\n",
       "      <td>Biz2Credit Inc</td>\n",
       "      <td>30d+</td>\n",
       "      <td>3.7</td>\n",
       "    </tr>\n",
       "    <tr>\n",
       "      <th>3</th>\n",
       "      <td>Genpact</td>\n",
       "      <td>24h</td>\n",
       "      <td>3.8</td>\n",
       "    </tr>\n",
       "    <tr>\n",
       "      <th>4</th>\n",
       "      <td>Salasar New Age Technologies</td>\n",
       "      <td>30d+</td>\n",
       "      <td>Nan</td>\n",
       "    </tr>\n",
       "    <tr>\n",
       "      <th>5</th>\n",
       "      <td>Emerging India Group</td>\n",
       "      <td>18d</td>\n",
       "      <td>1.0</td>\n",
       "    </tr>\n",
       "    <tr>\n",
       "      <th>6</th>\n",
       "      <td>Salasar New Age Technologies</td>\n",
       "      <td>30d+</td>\n",
       "      <td>Nan</td>\n",
       "    </tr>\n",
       "    <tr>\n",
       "      <th>7</th>\n",
       "      <td>Techlive</td>\n",
       "      <td>30d+</td>\n",
       "      <td>5.0</td>\n",
       "    </tr>\n",
       "    <tr>\n",
       "      <th>8</th>\n",
       "      <td>Dürr Somac GmbH</td>\n",
       "      <td>30d+</td>\n",
       "      <td>Nan</td>\n",
       "    </tr>\n",
       "    <tr>\n",
       "      <th>9</th>\n",
       "      <td>adidas</td>\n",
       "      <td>3d</td>\n",
       "      <td>3.9</td>\n",
       "    </tr>\n",
       "  </tbody>\n",
       "</table>\n",
       "</div>"
      ],
      "text/plain": [
       "                   company_name days_jobposted ratings\n",
       "0                     QuantumIT             7d     3.3\n",
       "1                       DcodeAI            13d     Nan\n",
       "2                Biz2Credit Inc           30d+     3.7\n",
       "3                       Genpact            24h     3.8\n",
       "4  Salasar New Age Technologies           30d+     Nan\n",
       "5          Emerging India Group            18d     1.0\n",
       "6  Salasar New Age Technologies           30d+     Nan\n",
       "7                      Techlive           30d+     5.0\n",
       "8               Dürr Somac GmbH           30d+     Nan\n",
       "9                        adidas             3d     3.9"
      ]
     },
     "execution_count": 133,
     "metadata": {},
     "output_type": "execute_result"
    }
   ],
   "source": [
    "Data_Scientist"
   ]
  },
  {
   "cell_type": "markdown",
   "metadata": {},
   "source": [
    "# Q5: Write a python program to scrape the salary data for Data Scientist designation in Noida location."
   ]
  },
  {
   "cell_type": "code",
   "execution_count": 134,
   "metadata": {},
   "outputs": [],
   "source": [
    "#specifying the url of the webpage to be scraped\n",
    "url=\"https://www.glassdoor.co.in/Salaries/index.htm\""
   ]
  },
  {
   "cell_type": "code",
   "execution_count": 135,
   "metadata": {},
   "outputs": [],
   "source": [
    "#opening the webpage through our driver\n",
    "driver.get(url)"
   ]
  },
  {
   "cell_type": "code",
   "execution_count": 136,
   "metadata": {},
   "outputs": [],
   "source": [
    "#interacting with the webpage\n",
    "driver.find_element_by_xpath('//*[@id=\"KeywordSearch\"]').send_keys(\"Data Scientist\")\n",
    "driver.find_element_by_xpath('//*[@id=\"LocationSearch\"]').send_keys(\"Noida\")\n",
    "driver.find_element_by_xpath('//*[@id=\"HeroSearchButton\"]').click()"
   ]
  },
  {
   "cell_type": "code",
   "execution_count": 137,
   "metadata": {},
   "outputs": [],
   "source": [
    "#creating the empty lists\n",
    "company_name=[]\n",
    "min_salary=[]\n",
    "max_salary=[]\n",
    "Average_salary=[]\n",
    "company_rating=[]"
   ]
  },
  {
   "cell_type": "code",
   "execution_count": 170,
   "metadata": {},
   "outputs": [],
   "source": [
    "#getting the list of url of first 10 data scientist jobs\n",
    "\n",
    "URL=[]\n",
    "company_tags=driver.find_elements_by_xpath(\"//div[@class='d-flex']\")[0:10]\n",
    "for i in company_tags:\n",
    "    company_tags1=i.find_element_by_tag_name(\"p\")\n",
    "    company_tags2=company_tags1.find_element_by_tag_name(\"a\")\n",
    "    URL.append(company_tags2.get_property('href'))"
   ]
  },
  {
   "cell_type": "code",
   "execution_count": 171,
   "metadata": {},
   "outputs": [
    {
     "data": {
      "text/plain": [
       "['https://www.glassdoor.co.in/Salary/Delhivery-Data-Scientist-New-Delhi-Salaries-EJI_IE513409.0,9_KO10,24_IL.25,34_IM1083.htm',\n",
       " 'https://www.glassdoor.co.in/Salary/Ericsson-Worldwide-Data-Scientist-New-Delhi-Salaries-EJI_IE3472.0,18_KO19,33_IL.34,43_IM1083.htm',\n",
       " 'https://www.glassdoor.co.in/Salary/Tata-Consultancy-Services-Data-Scientist-New-Delhi-Salaries-EJI_IE13461.0,25_KO26,40_IL.41,50_IM1083.htm',\n",
       " 'https://www.glassdoor.co.in/Salary/Accenture-Data-Scientist-New-Delhi-Salaries-EJI_IE4138.0,9_KO10,24_IL.25,34_IM1083.htm',\n",
       " 'https://www.glassdoor.co.in/Salary/IBM-Data-Scientist-New-Delhi-Salaries-EJI_IE354.0,3_KO4,18_IL.19,28_IM1083.htm',\n",
       " 'https://www.glassdoor.co.in/Salary/UnitedHealth-Group-Data-Scientist-New-Delhi-Salaries-EJI_IE1991.0,18_KO19,33_IL.34,43_IM1083.htm',\n",
       " 'https://www.glassdoor.co.in/Salary/Valiance-Solutions-Data-Scientist-New-Delhi-Salaries-EJI_IE895637.0,18_KO19,33_IL.34,43_IM1083.htm',\n",
       " 'https://www.glassdoor.co.in/Salary/Innovaccer-Data-Scientist-New-Delhi-Salaries-EJI_IE721552.0,10_KO11,25_IL.26,35_IM1083.htm',\n",
       " 'https://www.glassdoor.co.in/Salary/Cognizant-Technology-Solutions-Data-Scientist-New-Delhi-Salaries-EJI_IE8014.0,30_KO31,45_IL.46,55_IM1083.htm',\n",
       " 'https://www.glassdoor.co.in/Salary/OYO-Data-Scientist-New-Delhi-Salaries-EJI_IE953789.0,3_KO4,18_IL.19,28_IM1083.htm']"
      ]
     },
     "execution_count": 171,
     "metadata": {},
     "output_type": "execute_result"
    }
   ],
   "source": [
    "URL"
   ]
  },
  {
   "cell_type": "code",
   "execution_count": 183,
   "metadata": {},
   "outputs": [],
   "source": [
    "#going to the url of first company through our driver\n",
    "driver.get(URL[0])"
   ]
  },
  {
   "cell_type": "code",
   "execution_count": 184,
   "metadata": {},
   "outputs": [
    {
     "name": "stderr",
     "output_type": "stream",
     "text": [
      "100%|██████████| 10/10 [01:26<00:00,  8.63s/it]\n"
     ]
    }
   ],
   "source": [
    "#running a loop to extract all the required information from the url's\n",
    "from tqdm import tqdm\n",
    "for i in tqdm(URL):\n",
    "    driver.get(i)\n",
    "    company=driver.find_element_by_xpath('//*[@id=\"DivisionsDropdownComponent\"]').text\n",
    "    company_name.append(company)\n",
    "    minimum_salary=driver.find_element_by_xpath('//*[@id=\"nodeReplace\"]/main/div/div/div[1]/div[4]/div/div[1]/div/div[3]/div[2]/span[1]').text\n",
    "    min_salary.append(minimum_salary)\n",
    "    maximum_salary=driver.find_element_by_xpath('//*[@id=\"nodeReplace\"]/main/div/div/div[1]/div[4]/div/div[1]/div/div[3]/div[2]/span[2]').text\n",
    "    max_salary.append(maximum_salary)\n",
    "    average_salary=driver.find_element_by_xpath('//*[@id=\"nodeReplace\"]/main/div/div/div[1]/div[4]/div/div[1]/div/div[2]').text\n",
    "    Average_salary.append(average_salary)\n",
    "    try:\n",
    "        driver.find_element_by_xpath('//*[@id=\"EIProductHeaders\"]/div/a[1]').click()\n",
    "        company_rating.append(driver.find_element_by_xpath('//*[@id=\"EmpStats\"]/div/div[1]/div/div/div').text.replace(\"\\n★\",\"\"))\n",
    "    except NoSuchElementException:\n",
    "        company_rating.append(\"Nan\")"
   ]
  },
  {
   "cell_type": "code",
   "execution_count": 185,
   "metadata": {},
   "outputs": [
    {
     "data": {
      "text/plain": [
       "['Delhivery',\n",
       " 'Ericsson-Worldwide',\n",
       " 'Tata Consultancy Services',\n",
       " 'Accenture',\n",
       " 'IBM',\n",
       " 'UnitedHealth Group',\n",
       " 'Valiance Solutions',\n",
       " 'Innovaccer',\n",
       " 'Cognizant Technology Solutions',\n",
       " 'OYO']"
      ]
     },
     "execution_count": 185,
     "metadata": {},
     "output_type": "execute_result"
    }
   ],
   "source": [
    "company_name"
   ]
  },
  {
   "cell_type": "code",
   "execution_count": 186,
   "metadata": {},
   "outputs": [
    {
     "data": {
      "text/plain": [
       "['₹456K',\n",
       " '₹420K',\n",
       " '₹336K',\n",
       " '₹585K',\n",
       " '₹595K',\n",
       " '₹727K',\n",
       " '₹509K',\n",
       " '₹629K',\n",
       " '₹804K',\n",
       " '₹985K']"
      ]
     },
     "execution_count": 186,
     "metadata": {},
     "output_type": "execute_result"
    }
   ],
   "source": [
    "min_salary"
   ]
  },
  {
   "cell_type": "code",
   "execution_count": 187,
   "metadata": {},
   "outputs": [
    {
     "data": {
      "text/plain": [
       "['₹11,789K',\n",
       " '₹1,636K',\n",
       " '₹1,024K',\n",
       " '₹2,200K',\n",
       " '₹2,769K',\n",
       " '₹1,597K',\n",
       " '₹1,168K',\n",
       " '₹1,719K',\n",
       " '₹1,281K',\n",
       " '₹1,911K']"
      ]
     },
     "execution_count": 187,
     "metadata": {},
     "output_type": "execute_result"
    }
   ],
   "source": [
    "max_salary"
   ]
  },
  {
   "cell_type": "code",
   "execution_count": 188,
   "metadata": {},
   "outputs": [
    {
     "data": {
      "text/plain": [
       "['3.8', '4.0', '3.9', '3.9', '4.0', '3.5', '3.8', '3.4', '3.7', '3.1']"
      ]
     },
     "execution_count": 188,
     "metadata": {},
     "output_type": "execute_result"
    }
   ],
   "source": [
    "company_rating"
   ]
  },
  {
   "cell_type": "code",
   "execution_count": 190,
   "metadata": {},
   "outputs": [
    {
     "data": {
      "text/plain": [
       "['₹ 12,81,419',\n",
       " '₹ 7,90,026',\n",
       " '₹ 6,02,000',\n",
       " '₹ 11,47,851',\n",
       " '₹ 7,71,657',\n",
       " '₹ 12,22,902',\n",
       " '₹ 7,91,015',\n",
       " '₹ 12,15,138',\n",
       " '₹ 10,21,889',\n",
       " '₹ 14,33,387']"
      ]
     },
     "execution_count": 190,
     "metadata": {},
     "output_type": "execute_result"
    }
   ],
   "source": [
    "Average_salary"
   ]
  },
  {
   "cell_type": "code",
   "execution_count": 191,
   "metadata": {},
   "outputs": [
    {
     "name": "stdout",
     "output_type": "stream",
     "text": [
      "10 10 10 10 10\n"
     ]
    }
   ],
   "source": [
    "print(len(company_name),len(min_salary),len(max_salary),len(Average_salary),len(company_rating))"
   ]
  },
  {
   "cell_type": "code",
   "execution_count": 192,
   "metadata": {},
   "outputs": [],
   "source": [
    "#creating a dataframe\n",
    "\n",
    "Data_Scientist=pd.DataFrame({})\n",
    "Data_Scientist['company_name']=company_name\n",
    "Data_Scientist['min_salary']=min_salary\n",
    "Data_Scientist['max_salary']=max_salary\n",
    "Data_Scientist['Average_salary']=Average_salary\n",
    "Data_Scientist['company_rating']=company_rating"
   ]
  },
  {
   "cell_type": "code",
   "execution_count": 193,
   "metadata": {},
   "outputs": [
    {
     "data": {
      "text/html": [
       "<div>\n",
       "<style scoped>\n",
       "    .dataframe tbody tr th:only-of-type {\n",
       "        vertical-align: middle;\n",
       "    }\n",
       "\n",
       "    .dataframe tbody tr th {\n",
       "        vertical-align: top;\n",
       "    }\n",
       "\n",
       "    .dataframe thead th {\n",
       "        text-align: right;\n",
       "    }\n",
       "</style>\n",
       "<table border=\"1\" class=\"dataframe\">\n",
       "  <thead>\n",
       "    <tr style=\"text-align: right;\">\n",
       "      <th></th>\n",
       "      <th>company_name</th>\n",
       "      <th>min_salary</th>\n",
       "      <th>max_salary</th>\n",
       "      <th>Average_salary</th>\n",
       "      <th>company_rating</th>\n",
       "    </tr>\n",
       "  </thead>\n",
       "  <tbody>\n",
       "    <tr>\n",
       "      <th>0</th>\n",
       "      <td>Delhivery</td>\n",
       "      <td>₹456K</td>\n",
       "      <td>₹11,789K</td>\n",
       "      <td>₹ 12,81,419</td>\n",
       "      <td>3.8</td>\n",
       "    </tr>\n",
       "    <tr>\n",
       "      <th>1</th>\n",
       "      <td>Ericsson-Worldwide</td>\n",
       "      <td>₹420K</td>\n",
       "      <td>₹1,636K</td>\n",
       "      <td>₹ 7,90,026</td>\n",
       "      <td>4.0</td>\n",
       "    </tr>\n",
       "    <tr>\n",
       "      <th>2</th>\n",
       "      <td>Tata Consultancy Services</td>\n",
       "      <td>₹336K</td>\n",
       "      <td>₹1,024K</td>\n",
       "      <td>₹ 6,02,000</td>\n",
       "      <td>3.9</td>\n",
       "    </tr>\n",
       "    <tr>\n",
       "      <th>3</th>\n",
       "      <td>Accenture</td>\n",
       "      <td>₹585K</td>\n",
       "      <td>₹2,200K</td>\n",
       "      <td>₹ 11,47,851</td>\n",
       "      <td>3.9</td>\n",
       "    </tr>\n",
       "    <tr>\n",
       "      <th>4</th>\n",
       "      <td>IBM</td>\n",
       "      <td>₹595K</td>\n",
       "      <td>₹2,769K</td>\n",
       "      <td>₹ 7,71,657</td>\n",
       "      <td>4.0</td>\n",
       "    </tr>\n",
       "    <tr>\n",
       "      <th>5</th>\n",
       "      <td>UnitedHealth Group</td>\n",
       "      <td>₹727K</td>\n",
       "      <td>₹1,597K</td>\n",
       "      <td>₹ 12,22,902</td>\n",
       "      <td>3.5</td>\n",
       "    </tr>\n",
       "    <tr>\n",
       "      <th>6</th>\n",
       "      <td>Valiance Solutions</td>\n",
       "      <td>₹509K</td>\n",
       "      <td>₹1,168K</td>\n",
       "      <td>₹ 7,91,015</td>\n",
       "      <td>3.8</td>\n",
       "    </tr>\n",
       "    <tr>\n",
       "      <th>7</th>\n",
       "      <td>Innovaccer</td>\n",
       "      <td>₹629K</td>\n",
       "      <td>₹1,719K</td>\n",
       "      <td>₹ 12,15,138</td>\n",
       "      <td>3.4</td>\n",
       "    </tr>\n",
       "    <tr>\n",
       "      <th>8</th>\n",
       "      <td>Cognizant Technology Solutions</td>\n",
       "      <td>₹804K</td>\n",
       "      <td>₹1,281K</td>\n",
       "      <td>₹ 10,21,889</td>\n",
       "      <td>3.7</td>\n",
       "    </tr>\n",
       "    <tr>\n",
       "      <th>9</th>\n",
       "      <td>OYO</td>\n",
       "      <td>₹985K</td>\n",
       "      <td>₹1,911K</td>\n",
       "      <td>₹ 14,33,387</td>\n",
       "      <td>3.1</td>\n",
       "    </tr>\n",
       "  </tbody>\n",
       "</table>\n",
       "</div>"
      ],
      "text/plain": [
       "                     company_name min_salary max_salary Average_salary  \\\n",
       "0                       Delhivery      ₹456K   ₹11,789K    ₹ 12,81,419   \n",
       "1              Ericsson-Worldwide      ₹420K    ₹1,636K     ₹ 7,90,026   \n",
       "2       Tata Consultancy Services      ₹336K    ₹1,024K     ₹ 6,02,000   \n",
       "3                       Accenture      ₹585K    ₹2,200K    ₹ 11,47,851   \n",
       "4                             IBM      ₹595K    ₹2,769K     ₹ 7,71,657   \n",
       "5              UnitedHealth Group      ₹727K    ₹1,597K    ₹ 12,22,902   \n",
       "6              Valiance Solutions      ₹509K    ₹1,168K     ₹ 7,91,015   \n",
       "7                      Innovaccer      ₹629K    ₹1,719K    ₹ 12,15,138   \n",
       "8  Cognizant Technology Solutions      ₹804K    ₹1,281K    ₹ 10,21,889   \n",
       "9                             OYO      ₹985K    ₹1,911K    ₹ 14,33,387   \n",
       "\n",
       "  company_rating  \n",
       "0            3.8  \n",
       "1            4.0  \n",
       "2            3.9  \n",
       "3            3.9  \n",
       "4            4.0  \n",
       "5            3.5  \n",
       "6            3.8  \n",
       "7            3.4  \n",
       "8            3.7  \n",
       "9            3.1  "
      ]
     },
     "execution_count": 193,
     "metadata": {},
     "output_type": "execute_result"
    }
   ],
   "source": [
    "Data_Scientist"
   ]
  },
  {
   "cell_type": "markdown",
   "metadata": {},
   "source": [
    "# Q6 : Scrape data of first 100 sunglasses listings on flipkart.com. You have toscrape four attributes:\n",
    "1. Brand\n",
    "2. Product Description\n",
    "3. Price\n",
    "4. Discount %"
   ]
  },
  {
   "cell_type": "code",
   "execution_count": 295,
   "metadata": {},
   "outputs": [],
   "source": [
    "#connecting to the webdriver\n",
    "driver = webdriver.Chrome(r\"C:\\Users\\saurabh\\Downloads\\chromedriver_win32\\chromedriver.exe\")"
   ]
  },
  {
   "cell_type": "code",
   "execution_count": 296,
   "metadata": {},
   "outputs": [],
   "source": [
    "#specifying the url of the webpage to be scraped\n",
    "url=\"https://www.flipkart.com/\""
   ]
  },
  {
   "cell_type": "code",
   "execution_count": 297,
   "metadata": {},
   "outputs": [],
   "source": [
    "#opening the webpage through our driver\n",
    "driver.get(url)"
   ]
  },
  {
   "cell_type": "code",
   "execution_count": 298,
   "metadata": {},
   "outputs": [],
   "source": [
    "#interacting with the webpage\n",
    "driver.find_element_by_xpath('//*[@id=\"container\"]/div/div[1]/div[1]/div[2]/div[2]/form/div/div/input').send_keys(\"sunglasses\")\n",
    "driver.find_element_by_xpath('//*[@id=\"container\"]/div/div[1]/div[1]/div[2]/div[2]/form/div/button').click()"
   ]
  },
  {
   "cell_type": "code",
   "execution_count": 299,
   "metadata": {},
   "outputs": [],
   "source": [
    "#creating the empty lists\n",
    "Brand=[]\n",
    "Product_Description=[]\n",
    "Price=[]\n",
    "Discount=[]"
   ]
  },
  {
   "cell_type": "code",
   "execution_count": 300,
   "metadata": {},
   "outputs": [],
   "source": [
    "#getting the list of url of first 100 sunglasses\n",
    "URL=[]\n",
    "for i in range(0,3):\n",
    "    sunglasses=driver.find_elements_by_xpath(\"//a[@class='_2UzuFa']\")[0:100]\n",
    "    for i in sunglasses:\n",
    "        URL.append(i.get_attribute('href'))\n",
    "    driver.find_element_by_xpath('//*[@id=\"container\"]/div/div[3]/div[1]/div[2]/div[12]/div/div/nav/a[11]').click()\n",
    "    time.sleep(3)"
   ]
  },
  {
   "cell_type": "code",
   "execution_count": 301,
   "metadata": {},
   "outputs": [
    {
     "data": {
      "text/plain": [
       "['https://www.flipkart.com/bull-i-wayfarer-sunglasses/p/itm389f4808827de?pid=SGLFWF2PV48RYKQK&lid=LSTSGLFWF2PV48RYKQKW414AH&marketplace=FLIPKART&srno=s_1_1&otracker=search&otracker1=search&fm=SEARCH&iid=en_%2B6w8gfTr7e3o8pgxNG3NFxyOY7f8pEDmIyKN9vtGrwt5rFtUNX2C7rTTgOPdLcT59RxfMTXMWtG6nNQTwhrEzQ%3D%3D&ppt=hp&ppn=homepage&ssid=fvqyhjgppc0000001611163711455&qH=2cc465e3eef5bff0',\n",
       " 'https://www.flipkart.com/royal-son-retro-square-sunglasses/p/itm1ee1a06a92476?pid=SGLFH3QZHHC7UYYF&lid=LSTSGLFH3QZHHC7UYYF9LDNRC&marketplace=FLIPKART&srno=s_1_2&otracker=search&otracker1=search&fm=SEARCH&iid=en_%2B6w8gfTr7e3o8pgxNG3NFxyOY7f8pEDmIyKN9vtGrwtT9GBgJkxaFNMaSa9HGExegFa4DVh4NEIxr9QWo5ku8A%3D%3D&ppt=hp&ppn=homepage&ssid=fvqyhjgppc0000001611163711455&qH=2cc465e3eef5bff0',\n",
       " 'https://www.flipkart.com/fda-collection-round-round-sunglasses/p/itm77b8cdc99164f?pid=SGLFQFNKAYGHHH7B&lid=LSTSGLFQFNKAYGHHH7BSYUPEP&marketplace=FLIPKART&spotlightTagId=BestsellerId_26x&srno=s_1_3&otracker=search&otracker1=search&fm=SEARCH&iid=aedb932e-2b93-4180-92ad-edc3e63167d8.SGLFQFNKAYGHHH7B.SEARCH&ppt=hp&ppn=homepage&ssid=fvqyhjgppc0000001611163711455&qH=2cc465e3eef5bff0',\n",
       " 'https://www.flipkart.com/riffko-wayfarer-sunglasses/p/itm7eeda8c7f404a?pid=SGLFK5PNPMJUFEWP&lid=LSTSGLFK5PNPMJUFEWP83WKXF&marketplace=FLIPKART&srno=s_1_4&otracker=search&otracker1=search&fm=SEARCH&iid=aedb932e-2b93-4180-92ad-edc3e63167d8.SGLFK5PNPMJUFEWP.SEARCH&ppt=hp&ppn=homepage&ssid=fvqyhjgppc0000001611163711455&qH=2cc465e3eef5bff0',\n",
       " 'https://www.flipkart.com/phenomenal-retro-square-sunglasses/p/itma634ea0dca90c?pid=SGLFUBFWNBFEAVD3&lid=LSTSGLFUBFWNBFEAVD31E0HIC&marketplace=FLIPKART&srno=s_1_5&otracker=search&otracker1=search&fm=SEARCH&iid=aedb932e-2b93-4180-92ad-edc3e63167d8.SGLFUBFWNBFEAVD3.SEARCH&ppt=hp&ppn=homepage&ssid=fvqyhjgppc0000001611163711455&qH=2cc465e3eef5bff0',\n",
       " 'https://www.flipkart.com/shah-collections-rectangular-sunglasses/p/itm9b197a46755ef?pid=SGLFXXKC3RYXQWFG&lid=LSTSGLFXXKC3RYXQWFGB3OAUU&marketplace=FLIPKART&srno=s_1_6&otracker=search&otracker1=search&fm=SEARCH&iid=aedb932e-2b93-4180-92ad-edc3e63167d8.SGLFXXKC3RYXQWFG.SEARCH&ppt=hp&ppn=homepage&ssid=fvqyhjgppc0000001611163711455&qH=2cc465e3eef5bff0',\n",
       " 'https://www.flipkart.com/deixels-wayfarer-sunglasses/p/itmc64784efe307c?pid=SGLEWQ7E55ZRP8J2&lid=LSTSGLEWQ7E55ZRP8J2RTHLCT&marketplace=FLIPKART&srno=s_1_7&otracker=search&otracker1=search&fm=SEARCH&iid=aedb932e-2b93-4180-92ad-edc3e63167d8.SGLEWQ7E55ZRP8J2.SEARCH&ppt=hp&ppn=homepage&ssid=fvqyhjgppc0000001611163711455&qH=2cc465e3eef5bff0',\n",
       " 'https://www.flipkart.com/fastrack-wayfarer-sunglasses/p/itm7fa8f646f7590?pid=SGLFG94C8PAHZ3SH&lid=LSTSGLFG94C8PAHZ3SHAFCJXO&marketplace=FLIPKART&srno=s_1_8&otracker=search&otracker1=search&fm=SEARCH&iid=aedb932e-2b93-4180-92ad-edc3e63167d8.SGLFG94C8PAHZ3SH.SEARCH&ppt=hp&ppn=homepage&ssid=fvqyhjgppc0000001611163711455&qH=2cc465e3eef5bff0',\n",
       " 'https://www.flipkart.com/rozzetta-craft-rectangular-sunglasses/p/itm4c9025d5f7741?pid=SGLFSZV6PXGZGZGX&lid=LSTSGLFSZV6PXGZGZGXNWELSX&marketplace=FLIPKART&srno=s_1_9&otracker=search&otracker1=search&fm=SEARCH&iid=aedb932e-2b93-4180-92ad-edc3e63167d8.SGLFSZV6PXGZGZGX.SEARCH&ppt=hp&ppn=homepage&ssid=fvqyhjgppc0000001611163711455&qH=2cc465e3eef5bff0',\n",
       " 'https://www.flipkart.com/shah-collections-round-sunglasses/p/itmb8546706d53b2?pid=SGLFSHGG3S8YYBUG&lid=LSTSGLFSHGG3S8YYBUGHRQO2Z&marketplace=FLIPKART&srno=s_1_10&otracker=search&otracker1=search&fm=SEARCH&iid=aedb932e-2b93-4180-92ad-edc3e63167d8.SGLFSHGG3S8YYBUG.SEARCH&ppt=hp&ppn=homepage&ssid=fvqyhjgppc0000001611163711455&qH=2cc465e3eef5bff0',\n",
       " 'https://www.flipkart.com/funglasses-round-sunglasses/p/itm662c8f6ab74c7?pid=SGLFZBYYEHCPNRW3&lid=LSTSGLFZBYYEHCPNRW37HBBJE&marketplace=FLIPKART&srno=s_1_11&otracker=search&otracker1=search&fm=SEARCH&iid=aedb932e-2b93-4180-92ad-edc3e63167d8.SGLFZBYYEHCPNRW3.SEARCH&ppt=hp&ppn=homepage&ssid=fvqyhjgppc0000001611163711455&qH=2cc465e3eef5bff0',\n",
       " 'https://www.flipkart.com/like-future-aviator-sunglasses/p/itm8e47f2847c299?pid=SGLFF335BFZVK42U&lid=LSTSGLFF335BFZVK42UCIDGJX&marketplace=FLIPKART&srno=s_1_12&otracker=search&otracker1=search&fm=SEARCH&iid=aedb932e-2b93-4180-92ad-edc3e63167d8.SGLFF335BFZVK42U.SEARCH&ppt=hp&ppn=homepage&ssid=fvqyhjgppc0000001611163711455&qH=2cc465e3eef5bff0',\n",
       " 'https://www.flipkart.com/hamiw-collection-wayfarer-sports-shield-rectangular-retro-square-sunglasses/p/itm83836c529a2f2?pid=SGLFX9FFSBSGV9DB&lid=LSTSGLFX9FFSBSGV9DBITLBWZ&marketplace=FLIPKART&srno=s_1_13&otracker=search&otracker1=search&fm=SEARCH&iid=aedb932e-2b93-4180-92ad-edc3e63167d8.SGLFX9FFSBSGV9DB.SEARCH&ppt=hp&ppn=homepage&ssid=fvqyhjgppc0000001611163711455&qH=2cc465e3eef5bff0',\n",
       " 'https://www.flipkart.com/specsmakers-oval-sunglasses/p/itm7cab05d5b1b26?pid=SGLFVGXK9P638CAV&lid=LSTSGLFVGXK9P638CAVW3IJJW&marketplace=FLIPKART&srno=s_1_14&otracker=search&otracker1=search&fm=SEARCH&iid=en_%2B6w8gfTr7e3o8pgxNG3NFxyOY7f8pEDmIyKN9vtGrwv95dHb1DfdqT%2FRMEw%2FlrGKEw34JcUlCPnAMA12Z2Rk8A%3D%3D&ppt=hp&ppn=homepage&ssid=fvqyhjgppc0000001611163711455&qH=2cc465e3eef5bff0',\n",
       " 'https://www.flipkart.com/lopo-retro-square-over-sized-rectangular-sunglasses/p/itmec27878bbd45b?pid=SGLFXBGYZ4PHRX4E&lid=LSTSGLFXBGYZ4PHRX4E84QLGN&marketplace=FLIPKART&srno=s_1_15&otracker=search&otracker1=search&fm=SEARCH&iid=aedb932e-2b93-4180-92ad-edc3e63167d8.SGLFXBGYZ4PHRX4E.SEARCH&ppt=hp&ppn=homepage&ssid=fvqyhjgppc0000001611163711455&qH=2cc465e3eef5bff0',\n",
       " 'https://www.flipkart.com/johaena-oval-sunglasses/p/itmfcc0147fd7ff2?pid=SGLFGFF3MHNFHFVG&lid=LSTSGLFGFF3MHNFHFVGV0ZOV4&marketplace=FLIPKART&srno=s_1_16&otracker=search&otracker1=search&fm=SEARCH&iid=aedb932e-2b93-4180-92ad-edc3e63167d8.SGLFGFF3MHNFHFVG.SEARCH&ppt=hp&ppn=homepage&ssid=fvqyhjgppc0000001611163711455&qH=2cc465e3eef5bff0',\n",
       " 'https://www.flipkart.com/hipe-wayfarer-sunglasses/p/itmcfa0921116a10?pid=SGLFZA3AXMDG4SNE&lid=LSTSGLFZA3AXMDG4SNECB01OR&marketplace=FLIPKART&srno=s_1_17&otracker=search&otracker1=search&fm=SEARCH&iid=aedb932e-2b93-4180-92ad-edc3e63167d8.SGLFZA3AXMDG4SNE.SEARCH&ppt=hp&ppn=homepage&ssid=fvqyhjgppc0000001611163711455&qH=2cc465e3eef5bff0',\n",
       " 'https://www.flipkart.com/piraso-aviator-sunglasses/p/itm777be73e93834?pid=SGLFTYY5NWNKSC64&lid=LSTSGLFTYY5NWNKSC64YLGIVW&marketplace=FLIPKART&srno=s_1_18&otracker=search&otracker1=search&fm=SEARCH&iid=aedb932e-2b93-4180-92ad-edc3e63167d8.SGLFTYY5NWNKSC64.SEARCH&ppt=hp&ppn=homepage&ssid=fvqyhjgppc0000001611163711455&qH=2cc465e3eef5bff0',\n",
       " 'https://www.flipkart.com/rozzetta-craft-retro-square-sunglasses/p/itm67f9956ea8ff6?pid=SGLFZFZNAQNZHYB7&lid=LSTSGLFZFZNAQNZHYB7GZ3YO5&marketplace=FLIPKART&srno=s_1_19&otracker=search&otracker1=search&fm=SEARCH&iid=aedb932e-2b93-4180-92ad-edc3e63167d8.SGLFZFZNAQNZHYB7.SEARCH&ppt=hp&ppn=homepage&ssid=fvqyhjgppc0000001611163711455&qH=2cc465e3eef5bff0',\n",
       " 'https://www.flipkart.com/stylish-guys-retro-square-sunglasses/p/itma531a774581ee?pid=SGLFUAJ99C6UXYRN&lid=LSTSGLFUAJ99C6UXYRNYESBMW&marketplace=FLIPKART&srno=s_1_20&otracker=search&otracker1=search&fm=SEARCH&iid=en_%2B6w8gfTr7e3o8pgxNG3NFxyOY7f8pEDmIyKN9vtGrwt1orVSGNYZPpPrVnKiPN1oysCcdm1F%2FYfvc81OlRaE0Q%3D%3D&ppt=hp&ppn=homepage&ssid=fvqyhjgppc0000001611163711455&qH=2cc465e3eef5bff0',\n",
       " 'https://www.flipkart.com/etrg-aviator-sunglasses/p/itm10ad01b813032?pid=SGLFHEKQPWE84PNW&lid=LSTSGLFHEKQPWE84PNWJBXWYF&marketplace=FLIPKART&srno=s_1_21&otracker=search&otracker1=search&fm=SEARCH&iid=aedb932e-2b93-4180-92ad-edc3e63167d8.SGLFHEKQPWE84PNW.SEARCH&ppt=hp&ppn=homepage&ssid=fvqyhjgppc0000001611163711455&qH=2cc465e3eef5bff0',\n",
       " 'https://www.flipkart.com/fda-collection-round-round-sunglasses/p/itmc0c63e2ace5ab?pid=SGLFX7QS2U4PZEKZ&lid=LSTSGLFX7QS2U4PZEKZGZVMBR&marketplace=FLIPKART&srno=s_1_22&otracker=search&otracker1=search&fm=SEARCH&iid=aedb932e-2b93-4180-92ad-edc3e63167d8.SGLFX7QS2U4PZEKZ.SEARCH&ppt=hp&ppn=homepage&ssid=fvqyhjgppc0000001611163711455&qH=2cc465e3eef5bff0',\n",
       " 'https://www.flipkart.com/eyellusion-retro-square-sunglasses/p/itm41f89afecae1c?pid=SGLFYN4VAT8KNFTW&lid=LSTSGLFYN4VAT8KNFTWR3KIUO&marketplace=FLIPKART&srno=s_1_23&otracker=search&otracker1=search&fm=SEARCH&iid=aedb932e-2b93-4180-92ad-edc3e63167d8.SGLFYN4VAT8KNFTW.SEARCH&ppt=hp&ppn=homepage&ssid=fvqyhjgppc0000001611163711455&qH=2cc465e3eef5bff0',\n",
       " 'https://www.flipkart.com/specsmakers-aviator-sunglasses/p/itme9a60d49286ba?pid=SGLFVGXEYDKJUFUB&lid=LSTSGLFVGXEYDKJUFUBBASRKA&marketplace=FLIPKART&srno=s_1_24&otracker=search&otracker1=search&fm=SEARCH&iid=en_%2B6w8gfTr7e3o8pgxNG3NFxyOY7f8pEDmIyKN9vtGrwvKtl39l0eNepIhV86OHGI2oqoXA%2BxW8H1IeMcahArWKw%3D%3D&ppt=hp&ppn=homepage&ssid=fvqyhjgppc0000001611163711455&qH=2cc465e3eef5bff0',\n",
       " 'https://www.flipkart.com/creative-group-spectacle-sunglasses/p/itm3221dd65eea24?pid=SGLFV66KSD9J97PC&lid=LSTSGLFV66KSD9J97PCKNPHS2&marketplace=FLIPKART&srno=s_1_25&otracker=search&otracker1=search&fm=SEARCH&iid=aedb932e-2b93-4180-92ad-edc3e63167d8.SGLFV66KSD9J97PC.SEARCH&ppt=hp&ppn=homepage&ssid=fvqyhjgppc0000001611163711455&qH=2cc465e3eef5bff0',\n",
       " 'https://www.flipkart.com/dannilo-aviator-sunglasses/p/itm477e72b05e067?pid=SGLFFJ9MGBHREUPY&lid=LSTSGLFFJ9MGBHREUPYYKLDKZ&marketplace=FLIPKART&srno=s_1_26&otracker=search&otracker1=search&fm=SEARCH&iid=aedb932e-2b93-4180-92ad-edc3e63167d8.SGLFFJ9MGBHREUPY.SEARCH&ppt=hp&ppn=homepage&ssid=fvqyhjgppc0000001611163711455&qH=2cc465e3eef5bff0',\n",
       " 'https://www.flipkart.com/phenomenal-retro-square-sunglasses/p/itm43f0d4d953607?pid=SGLFUXYAXFHYQAK4&lid=LSTSGLFUXYAXFHYQAK4VF4MKG&marketplace=FLIPKART&srno=s_1_27&otracker=search&otracker1=search&fm=SEARCH&iid=aedb932e-2b93-4180-92ad-edc3e63167d8.SGLFUXYAXFHYQAK4.SEARCH&ppt=hp&ppn=homepage&ssid=fvqyhjgppc0000001611163711455&qH=2cc465e3eef5bff0',\n",
       " 'https://www.flipkart.com/shadz-wayfarer-sunglasses/p/itm6fc1966ea7983?pid=SGLFFHTFKEDKMRVK&lid=LSTSGLFFHTFKEDKMRVKL6DNBQ&marketplace=FLIPKART&spotlightTagId=TrendingId_26x&srno=s_1_28&otracker=search&otracker1=search&fm=SEARCH&iid=aedb932e-2b93-4180-92ad-edc3e63167d8.SGLFFHTFKEDKMRVK.SEARCH&ppt=hp&ppn=homepage&ssid=fvqyhjgppc0000001611163711455&qH=2cc465e3eef5bff0',\n",
       " 'https://www.flipkart.com/insh-rectangular-sunglasses/p/itm77aad73ffe1b5?pid=SGLFSYZTWFWGDUHP&lid=LSTSGLFSYZTWFWGDUHPJCCIHQ&marketplace=FLIPKART&srno=s_1_29&otracker=search&otracker1=search&fm=SEARCH&iid=aedb932e-2b93-4180-92ad-edc3e63167d8.SGLFSYZTWFWGDUHP.SEARCH&ppt=hp&ppn=homepage&ssid=fvqyhjgppc0000001611163711455&qH=2cc465e3eef5bff0',\n",
       " 'https://www.flipkart.com/specsmakers-aviator-sunglasses/p/itm24a68140fde36?pid=SGLFWG4WMWGDCVBF&lid=LSTSGLFWG4WMWGDCVBFKENJQZ&marketplace=FLIPKART&srno=s_1_30&otracker=search&otracker1=search&fm=SEARCH&iid=en_%2B6w8gfTr7e3o8pgxNG3NFxyOY7f8pEDmIyKN9vtGrwutseWubcww7NYkYAWt40g9BstX%2FWHd8p%2FBhq1Jl2keqw%3D%3D&ppt=hp&ppn=homepage&ssid=fvqyhjgppc0000001611163711455&qH=2cc465e3eef5bff0',\n",
       " 'https://www.flipkart.com/trendy-glasses-retro-square-sunglasses/p/itm6ca0447ebf995?pid=SGLFMBYCEGBHG6KM&lid=LSTSGLFMBYCEGBHG6KMJWYNWD&marketplace=FLIPKART&srno=s_1_31&otracker=search&otracker1=search&fm=SEARCH&iid=aedb932e-2b93-4180-92ad-edc3e63167d8.SGLFMBYCEGBHG6KM.SEARCH&ppt=hp&ppn=homepage&ssid=fvqyhjgppc0000001611163711455&qH=2cc465e3eef5bff0',\n",
       " 'https://www.flipkart.com/peter-india-spectacle-sunglasses/p/itmda5347adf8a5d?pid=SGLF2FHGZDTGHGHV&lid=LSTSGLF2FHGZDTGHGHVWROPYQ&marketplace=FLIPKART&srno=s_1_32&otracker=search&otracker1=search&fm=SEARCH&iid=aedb932e-2b93-4180-92ad-edc3e63167d8.SGLF2FHGZDTGHGHV.SEARCH&ppt=hp&ppn=homepage&ssid=fvqyhjgppc0000001611163711455&qH=2cc465e3eef5bff0',\n",
       " 'https://www.flipkart.com/fastrack-wayfarer-sunglasses/p/itma78a37a91cbfd?pid=SGLFJATQEBK8Y2JX&lid=LSTSGLFJATQEBK8Y2JXMXHE5L&marketplace=FLIPKART&srno=s_1_33&otracker=search&otracker1=search&fm=SEARCH&iid=aedb932e-2b93-4180-92ad-edc3e63167d8.SGLFJATQEBK8Y2JX.SEARCH&ppt=hp&ppn=homepage&ssid=fvqyhjgppc0000001611163711455&qH=2cc465e3eef5bff0',\n",
       " 'https://www.flipkart.com/nuvew-aviator-sunglasses/p/itmc4e00e755b019?pid=SGLFKJW88FPXSRBE&lid=LSTSGLFKJW88FPXSRBERYP90K&marketplace=FLIPKART&srno=s_1_34&otracker=search&otracker1=search&fm=SEARCH&iid=en_%2B6w8gfTr7e3o8pgxNG3NFxyOY7f8pEDmIyKN9vtGrwsOzGxcAMVxAZRKjRqzPZel1h5MswuUG%2FdfjN6kBYsRHA%3D%3D&ppt=hp&ppn=homepage&ssid=fvqyhjgppc0000001611163711455&qH=2cc465e3eef5bff0',\n",
       " 'https://www.flipkart.com/fastrack-wayfarer-sunglasses/p/itmfdf3be1128270?pid=SGLFG94CQZ4AYS2F&lid=LSTSGLFG94CQZ4AYS2FQ3AXTH&marketplace=FLIPKART&srno=s_1_35&otracker=search&otracker1=search&fm=SEARCH&iid=aedb932e-2b93-4180-92ad-edc3e63167d8.SGLFG94CQZ4AYS2F.SEARCH&ppt=hp&ppn=homepage&ssid=fvqyhjgppc0000001611163711455&qH=2cc465e3eef5bff0',\n",
       " 'https://www.flipkart.com/fastrack-aviator-sunglasses/p/itmf667ccd8780bb?pid=SGLFKYGHKP4BXEMH&lid=LSTSGLFKYGHKP4BXEMHAL1IED&marketplace=FLIPKART&spotlightTagId=TrendingId_26x&srno=s_1_36&otracker=search&otracker1=search&fm=SEARCH&iid=aedb932e-2b93-4180-92ad-edc3e63167d8.SGLFKYGHKP4BXEMH.SEARCH&ppt=hp&ppn=homepage&ssid=fvqyhjgppc0000001611163711455&qH=2cc465e3eef5bff0',\n",
       " 'https://www.flipkart.com/kingsunglasses-wayfarer-wayfarer-sunglasses/p/itm5e49d1c34d7ce?pid=SGLFPSNCXVVP78AA&lid=LSTSGLFPSNCXVVP78AAWQUOML&marketplace=FLIPKART&srno=s_1_37&otracker=search&otracker1=search&fm=SEARCH&iid=aedb932e-2b93-4180-92ad-edc3e63167d8.SGLFPSNCXVVP78AA.SEARCH&ppt=hp&ppn=homepage&ssid=fvqyhjgppc0000001611163711455&qH=2cc465e3eef5bff0',\n",
       " 'https://www.flipkart.com/rozzetta-craft-rectangular-sunglasses/p/itma164ab70be768?pid=SGLFX84MT48ZH7RZ&lid=LSTSGLFX84MT48ZH7RZPN64SZ&marketplace=FLIPKART&srno=s_1_38&otracker=search&otracker1=search&fm=SEARCH&iid=aedb932e-2b93-4180-92ad-edc3e63167d8.SGLFX84MT48ZH7RZ.SEARCH&ppt=hp&ppn=homepage&ssid=fvqyhjgppc0000001611163711455&qH=2cc465e3eef5bff0',\n",
       " 'https://www.flipkart.com/rozzetta-craft-rectangular-sunglasses/p/itm86f40b1ca4f26?pid=SGLFSSFAYTD858TY&lid=LSTSGLFSSFAYTD858TYZROTZL&marketplace=FLIPKART&srno=s_1_39&otracker=search&otracker1=search&fm=SEARCH&iid=aedb932e-2b93-4180-92ad-edc3e63167d8.SGLFSSFAYTD858TY.SEARCH&ppt=hp&ppn=homepage&ssid=fvqyhjgppc0000001611163711455&qH=2cc465e3eef5bff0',\n",
       " 'https://www.flipkart.com/specsmakers-aviator-sunglasses/p/itmdf21804cdddbe?pid=SGLFWG4XHSYS4HJ8&lid=LSTSGLFWG4XHSYS4HJ876NJEK&marketplace=FLIPKART&srno=s_1_40&otracker=search&otracker1=search&fm=SEARCH&iid=en_%2B6w8gfTr7e3o8pgxNG3NFxyOY7f8pEDmIyKN9vtGrwvXDsOVbGYMBijJRmltkSFIHXxkCvaKy6Cu%2FNVZ7pgi%2FA%3D%3D&ppt=hp&ppn=homepage&ssid=fvqyhjgppc0000001611163711455&qH=2cc465e3eef5bff0',\n",
       " 'https://www.flipkart.com/riffko-round-sunglasses/p/itm441f0d331753e?pid=SGLFDZTY7QM2AY7F&lid=LSTSGLFDZTY7QM2AY7FPDCMN4&marketplace=FLIPKART&srno=s_2_41&otracker=search&otracker1=search&fm=SEARCH&iid=a6c3d4f9-6ce2-4fc4-8aad-9c95cb0d643f.SGLFDZTY7QM2AY7F.SEARCH&ppt=sp&ppn=sp&ssid=fvqyhjgppc0000001611163711455&qH=2cc465e3eef5bff0',\n",
       " 'https://www.flipkart.com/funglasses-round-round-sunglasses/p/itmaa714a979436a?pid=SGLFSFT4PFQJZQDA&lid=LSTSGLFSFT4PFQJZQDABPALBA&marketplace=FLIPKART&srno=s_2_42&otracker=search&otracker1=search&fm=SEARCH&iid=a6c3d4f9-6ce2-4fc4-8aad-9c95cb0d643f.SGLFSFT4PFQJZQDA.SEARCH&ppt=sp&ppn=sp&ssid=fvqyhjgppc0000001611163711455&qH=2cc465e3eef5bff0',\n",
       " 'https://www.flipkart.com/like-future-rectangular-retro-square-sunglasses/p/itm7451d4b3fa5e8?pid=SGLFXXF9B6QTFAX9&lid=LSTSGLFXXF9B6QTFAX9KEPGWF&marketplace=FLIPKART&srno=s_2_43&otracker=search&otracker1=search&fm=SEARCH&iid=a6c3d4f9-6ce2-4fc4-8aad-9c95cb0d643f.SGLFXXF9B6QTFAX9.SEARCH&ppt=sp&ppn=sp&ssid=fvqyhjgppc0000001611163711455&qH=2cc465e3eef5bff0',\n",
       " 'https://www.flipkart.com/bull-i-wayfarer-sunglasses/p/itm8e41984c8d15a?pid=SGLFW6EZGGVGFTMQ&lid=LSTSGLFW6EZGGVGFTMQ9QRN6K&marketplace=FLIPKART&srno=s_2_44&otracker=search&otracker1=search&fm=SEARCH&iid=en_jWsZlnL4ZIu1TkED%2Bq2iVSex1WTc3aiNvbWe6LWAiXAc%2FUfTTQn5eVj7crT%2BA1JvW%2FrUeCngfIKik2Bz2CmoKg%3D%3D&ppt=sp&ppn=sp&ssid=fvqyhjgppc0000001611163711455&qH=2cc465e3eef5bff0',\n",
       " 'https://www.flipkart.com/fastrack-aviator-sunglasses/p/itm8a53dd9c740fc?pid=SGLF79DQH32QQTGS&lid=LSTSGLF79DQH32QQTGSZR2EZE&marketplace=FLIPKART&srno=s_2_45&otracker=search&otracker1=search&fm=SEARCH&iid=a6c3d4f9-6ce2-4fc4-8aad-9c95cb0d643f.SGLF79DQH32QQTGS.SEARCH&ppt=sp&ppn=sp&ssid=fvqyhjgppc0000001611163711455&qH=2cc465e3eef5bff0',\n",
       " 'https://www.flipkart.com/royal-son-wayfarer-sunglasses/p/itm1d4a8c5f290e2?pid=SGLFGAYYFCAGPJ2N&lid=LSTSGLFGAYYFCAGPJ2NUDBKSR&marketplace=FLIPKART&srno=s_2_46&otracker=search&otracker1=search&fm=SEARCH&iid=a6c3d4f9-6ce2-4fc4-8aad-9c95cb0d643f.SGLFGAYYFCAGPJ2N.SEARCH&ppt=sp&ppn=sp&ssid=fvqyhjgppc0000001611163711455&qH=2cc465e3eef5bff0',\n",
       " 'https://www.flipkart.com/shah-collections-round-sunglasses/p/itm314474b0aeb63?pid=SGLFCJPB8SGZZYGG&lid=LSTSGLFCJPB8SGZZYGGHLVGGW&marketplace=FLIPKART&srno=s_2_47&otracker=search&otracker1=search&fm=SEARCH&iid=a6c3d4f9-6ce2-4fc4-8aad-9c95cb0d643f.SGLFCJPB8SGZZYGG.SEARCH&ppt=sp&ppn=sp&ssid=fvqyhjgppc0000001611163711455&qH=2cc465e3eef5bff0',\n",
       " 'https://www.flipkart.com/flash-round-sunglasses/p/itm29dc9b2f0c91c?pid=SGLFGHZSYJAE4MKB&lid=LSTSGLFGHZSYJAE4MKBTOQGD2&marketplace=FLIPKART&srno=s_2_48&otracker=search&otracker1=search&fm=SEARCH&iid=a6c3d4f9-6ce2-4fc4-8aad-9c95cb0d643f.SGLFGHZSYJAE4MKB.SEARCH&ppt=sp&ppn=sp&ssid=fvqyhjgppc0000001611163711455&qH=2cc465e3eef5bff0',\n",
       " 'https://www.flipkart.com/silver-kartz-oval-sunglasses/p/itmb49df2b23de7b?pid=SGLFJV3GWTUZSANC&lid=LSTSGLFJV3GWTUZSANCNBLT6O&marketplace=FLIPKART&srno=s_2_49&otracker=search&otracker1=search&fm=SEARCH&iid=a6c3d4f9-6ce2-4fc4-8aad-9c95cb0d643f.SGLFJV3GWTUZSANC.SEARCH&ppt=sp&ppn=sp&ssid=fvqyhjgppc0000001611163711455&qH=2cc465e3eef5bff0',\n",
       " 'https://www.flipkart.com/specsmakers-sports-sunglasses/p/itm1822180e0236e?pid=SGLFWG4U7QT7FQGY&lid=LSTSGLFWG4U7QT7FQGYWSDJQ0&marketplace=FLIPKART&srno=s_2_50&otracker=search&otracker1=search&fm=SEARCH&iid=en_jWsZlnL4ZIu1TkED%2Bq2iVSex1WTc3aiNvbWe6LWAiXDLcJGSa7KzMZHA6ykqDl9umlcQNBExxRSS5IUqv02SHQ%3D%3D&ppt=sp&ppn=sp&ssid=fvqyhjgppc0000001611163711455&qH=2cc465e3eef5bff0',\n",
       " 'https://www.flipkart.com/fastrack-aviator-sunglasses/p/itm3da2520c163af?pid=SGLFKYGH5RNKQFHZ&lid=LSTSGLFKYGH5RNKQFHZDPLMHA&marketplace=FLIPKART&srno=s_2_51&otracker=search&otracker1=search&fm=SEARCH&iid=a6c3d4f9-6ce2-4fc4-8aad-9c95cb0d643f.SGLFKYGH5RNKQFHZ.SEARCH&ppt=sp&ppn=sp&ssid=fvqyhjgppc0000001611163711455&qH=2cc465e3eef5bff0',\n",
       " 'https://www.flipkart.com/royal-son-aviator-sunglasses/p/itm418da716317c0?pid=SGLED3YHZDMUUYJY&lid=LSTSGLED3YHZDMUUYJYLHV233&marketplace=FLIPKART&srno=s_2_52&otracker=search&otracker1=search&fm=SEARCH&iid=a6c3d4f9-6ce2-4fc4-8aad-9c95cb0d643f.SGLED3YHZDMUUYJY.SEARCH&ppt=sp&ppn=sp&ssid=fvqyhjgppc0000001611163711455&qH=2cc465e3eef5bff0',\n",
       " 'https://www.flipkart.com/trend-round-sunglasses/p/itmca141d0d746dc?pid=SGLFZGCMGW43MYYP&lid=LSTSGLFZGCMGW43MYYPNIIR5J&marketplace=FLIPKART&srno=s_2_53&otracker=search&otracker1=search&fm=SEARCH&iid=a6c3d4f9-6ce2-4fc4-8aad-9c95cb0d643f.SGLFZGCMGW43MYYP.SEARCH&ppt=sp&ppn=sp&ssid=fvqyhjgppc0000001611163711455&qH=2cc465e3eef5bff0',\n",
       " 'https://www.flipkart.com/aislin-aviator-sunglasses/p/itmf699cb1bf115e?pid=SGLFRGUWYHHFNQZH&lid=LSTSGLFRGUWYHHFNQZHSKTLVD&marketplace=FLIPKART&srno=s_2_54&otracker=search&otracker1=search&fm=SEARCH&iid=en_jWsZlnL4ZIu1TkED%2Bq2iVSex1WTc3aiNvbWe6LWAiXAIbRtLVo0bYgWjsVbZKRk7FN0mUlYdvuidsSbiH9Qvvw%3D%3D&ppt=sp&ppn=sp&ssid=fvqyhjgppc0000001611163711455&qH=2cc465e3eef5bff0',\n",
       " 'https://www.flipkart.com/singco-india-aviator-sunglasses/p/itm3c43aab41940c?pid=SGLFF9BTZUQZGZ3H&lid=LSTSGLFF9BTZUQZGZ3HMQDMDM&marketplace=FLIPKART&srno=s_2_55&otracker=search&otracker1=search&fm=SEARCH&iid=a6c3d4f9-6ce2-4fc4-8aad-9c95cb0d643f.SGLFF9BTZUQZGZ3H.SEARCH&ppt=sp&ppn=sp&ssid=fvqyhjgppc0000001611163711455&qH=2cc465e3eef5bff0',\n",
       " 'https://www.flipkart.com/fastrack-shield-sunglasses/p/itmbe5e81906b585?pid=SGLF79DPQHKPREWV&lid=LSTSGLF79DPQHKPREWVC9ACB3&marketplace=FLIPKART&srno=s_2_56&otracker=search&otracker1=search&fm=SEARCH&iid=a6c3d4f9-6ce2-4fc4-8aad-9c95cb0d643f.SGLF79DPQHKPREWV.SEARCH&ppt=sp&ppn=sp&ssid=fvqyhjgppc0000001611163711455&qH=2cc465e3eef5bff0',\n",
       " 'https://www.flipkart.com/winsome-round-sunglasses/p/itma9fb90daac5aa?pid=SGLFUTGBH8X44VDC&lid=LSTSGLFUTGBH8X44VDC4FCBSY&marketplace=FLIPKART&srno=s_2_57&otracker=search&otracker1=search&fm=SEARCH&iid=a6c3d4f9-6ce2-4fc4-8aad-9c95cb0d643f.SGLFUTGBH8X44VDC.SEARCH&ppt=sp&ppn=sp&ssid=fvqyhjgppc0000001611163711455&qH=2cc465e3eef5bff0',\n",
       " 'https://www.flipkart.com/bedst-round-sunglasses/p/itmc22200c894244?pid=SGLFXXRUEZ3HFTSG&lid=LSTSGLFXXRUEZ3HFTSGXFAAX4&marketplace=FLIPKART&srno=s_2_58&otracker=search&otracker1=search&fm=SEARCH&iid=a6c3d4f9-6ce2-4fc4-8aad-9c95cb0d643f.SGLFXXRUEZ3HFTSG.SEARCH&ppt=sp&ppn=sp&ssid=fvqyhjgppc0000001611163711455&qH=2cc465e3eef5bff0',\n",
       " 'https://www.flipkart.com/royal-son-retro-square-sunglasses/p/itmfdd03fdfcd8b7?pid=SGLFNFU4MMKYSCFH&lid=LSTSGLFNFU4MMKYSCFHCNIBKD&marketplace=FLIPKART&srno=s_2_59&otracker=search&otracker1=search&fm=SEARCH&iid=a6c3d4f9-6ce2-4fc4-8aad-9c95cb0d643f.SGLFNFU4MMKYSCFH.SEARCH&ppt=sp&ppn=sp&ssid=fvqyhjgppc0000001611163711455&qH=2cc465e3eef5bff0',\n",
       " 'https://www.flipkart.com/swiss-military-aviator-sunglasses/p/itmd505f60b5db64?pid=SGLERG4HYTC5AH3G&lid=LSTSGLERG4HYTC5AH3GDUCYG9&marketplace=FLIPKART&srno=s_2_60&otracker=search&otracker1=search&fm=SEARCH&iid=en_jWsZlnL4ZIu1TkED%2Bq2iVSex1WTc3aiNvbWe6LWAiXDhWsuyyVGCpopJA6xfzXIBpNHBn%2BVcxPmkEmP%2BtthC6g%3D%3D&ppt=sp&ppn=sp&ssid=fvqyhjgppc0000001611163711455&qH=2cc465e3eef5bff0',\n",
       " 'https://www.flipkart.com/singco-india-sports-sunglasses/p/itm400ad754e77c2?pid=SGLFVYKGREY28QVK&lid=LSTSGLFVYKGREY28QVKRAX3RH&marketplace=FLIPKART&srno=s_2_61&otracker=search&otracker1=search&fm=SEARCH&iid=a6c3d4f9-6ce2-4fc4-8aad-9c95cb0d643f.SGLFVYKGREY28QVK.SEARCH&ppt=sp&ppn=sp&ssid=fvqyhjgppc0000001611163711455&qH=2cc465e3eef5bff0',\n",
       " 'https://www.flipkart.com/rich-club-round-sunglasses/p/itm800d85b46315a?pid=SGLFZGR9GSPMZFGU&lid=LSTSGLFZGR9GSPMZFGUCPHP8S&marketplace=FLIPKART&srno=s_2_62&otracker=search&otracker1=search&fm=SEARCH&iid=a6c3d4f9-6ce2-4fc4-8aad-9c95cb0d643f.SGLFZGR9GSPMZFGU.SEARCH&ppt=sp&ppn=sp&ssid=fvqyhjgppc0000001611163711455&qH=2cc465e3eef5bff0',\n",
       " 'https://www.flipkart.com/shadz-round-round-sunglasses/p/itma3ae320b2cb5f?pid=SGLFTK76NZTRQG4A&lid=LSTSGLFTK76NZTRQG4ATLTHL2&marketplace=FLIPKART&srno=s_2_63&otracker=search&otracker1=search&fm=SEARCH&iid=a6c3d4f9-6ce2-4fc4-8aad-9c95cb0d643f.SGLFTK76NZTRQG4A.SEARCH&ppt=sp&ppn=sp&ssid=fvqyhjgppc0000001611163711455&qH=2cc465e3eef5bff0',\n",
       " 'https://www.flipkart.com/aislin-oval-sunglasses/p/itmb257b6236950d?pid=SGLFDQYRAYHNPCHD&lid=LSTSGLFDQYRAYHNPCHDOKITLW&marketplace=FLIPKART&srno=s_2_64&otracker=search&otracker1=search&fm=SEARCH&iid=en_jWsZlnL4ZIu1TkED%2Bq2iVSex1WTc3aiNvbWe6LWAiXAopMZZVN%2BMjqy2tNprc8%2FFEsbzYEuIXlI1JodaT7Mlsg%3D%3D&ppt=sp&ppn=sp&ssid=fvqyhjgppc0000001611163711455&qH=2cc465e3eef5bff0',\n",
       " 'https://www.flipkart.com/gansta-wayfarer-sunglasses/p/itm86877f4f1aa3c?pid=SGLFV93BGGJUCHMY&lid=LSTSGLFV93BGGJUCHMY3JBAIL&marketplace=FLIPKART&srno=s_2_65&otracker=search&otracker1=search&fm=SEARCH&iid=a6c3d4f9-6ce2-4fc4-8aad-9c95cb0d643f.SGLFV93BGGJUCHMY.SEARCH&ppt=sp&ppn=sp&ssid=fvqyhjgppc0000001611163711455&qH=2cc465e3eef5bff0',\n",
       " 'https://www.flipkart.com/pc-star-rectangular-sunglasses/p/itm6371cb4bd88f7?pid=SGLFUURFFVJDFRVC&lid=LSTSGLFUURFFVJDFRVCJWYWB8&marketplace=FLIPKART&srno=s_2_66&otracker=search&otracker1=search&fm=SEARCH&iid=a6c3d4f9-6ce2-4fc4-8aad-9c95cb0d643f.SGLFUURFFVJDFRVC.SEARCH&ppt=sp&ppn=sp&ssid=fvqyhjgppc0000001611163711455&qH=2cc465e3eef5bff0',\n",
       " 'https://www.flipkart.com/piraso-aviator-sunglasses/p/itm327dc5d7f2250?pid=SGLFV8YYCEA8RWAC&lid=LSTSGLFV8YYCEA8RWACIACICJ&marketplace=FLIPKART&srno=s_2_67&otracker=search&otracker1=search&fm=SEARCH&iid=a6c3d4f9-6ce2-4fc4-8aad-9c95cb0d643f.SGLFV8YYCEA8RWAC.SEARCH&ppt=sp&ppn=sp&ssid=fvqyhjgppc0000001611163711455&qH=2cc465e3eef5bff0',\n",
       " 'https://www.flipkart.com/elligator-round-sunglasses/p/itm8cfedd8c4ad9b?pid=SGLFPHP5BVBJTCDB&lid=LSTSGLFPHP5BVBJTCDB7P4T6G&marketplace=FLIPKART&srno=s_2_68&otracker=search&otracker1=search&fm=SEARCH&iid=a6c3d4f9-6ce2-4fc4-8aad-9c95cb0d643f.SGLFPHP5BVBJTCDB.SEARCH&ppt=sp&ppn=sp&ssid=fvqyhjgppc0000001611163711455&qH=2cc465e3eef5bff0',\n",
       " 'https://www.flipkart.com/aleybee-round-sunglasses/p/itm5202d30d7d588?pid=SGLFZ5ZBPF7GGVHK&lid=LSTSGLFZ5ZBPF7GGVHKKOLHOO&marketplace=FLIPKART&srno=s_2_69&otracker=search&otracker1=search&fm=SEARCH&iid=a6c3d4f9-6ce2-4fc4-8aad-9c95cb0d643f.SGLFZ5ZBPF7GGVHK.SEARCH&ppt=sp&ppn=sp&ssid=fvqyhjgppc0000001611163711455&qH=2cc465e3eef5bff0',\n",
       " 'https://www.flipkart.com/aislin-rectangular-sunglasses/p/itm63b8129250a2d?pid=SGLEYQUHQCGASH5U&lid=LSTSGLEYQUHQCGASH5USRUKBN&marketplace=FLIPKART&srno=s_2_70&otracker=search&otracker1=search&fm=SEARCH&iid=en_jWsZlnL4ZIu1TkED%2Bq2iVSex1WTc3aiNvbWe6LWAiXBOP25CrVFX6G6UT1oeIkav9wVYISRlakNH4B7UJUb0EQ%3D%3D&ppt=sp&ppn=sp&ssid=fvqyhjgppc0000001611163711455&qH=2cc465e3eef5bff0',\n",
       " 'https://www.flipkart.com/lee-topper-round-sunglasses/p/itm83c49904f3b0f?pid=SGLF6PM6JXVWTZHG&lid=LSTSGLF6PM6JXVWTZHGTJ5KM4&marketplace=FLIPKART&srno=s_2_71&otracker=search&otracker1=search&fm=SEARCH&iid=a6c3d4f9-6ce2-4fc4-8aad-9c95cb0d643f.SGLF6PM6JXVWTZHG.SEARCH&ppt=sp&ppn=sp&ssid=fvqyhjgppc0000001611163711455&qH=2cc465e3eef5bff0',\n",
       " 'https://www.flipkart.com/ayezent-retro-square-sunglasses/p/itm22a5e8f60c445?pid=SGLFUSFGEGN8YQGU&lid=LSTSGLFUSFGEGN8YQGUQN2RVA&marketplace=FLIPKART&srno=s_2_72&otracker=search&otracker1=search&fm=SEARCH&iid=a6c3d4f9-6ce2-4fc4-8aad-9c95cb0d643f.SGLFUSFGEGN8YQGU.SEARCH&ppt=sp&ppn=sp&ssid=fvqyhjgppc0000001611163711455&qH=2cc465e3eef5bff0',\n",
       " 'https://www.flipkart.com/funglasses-round-sunglasses/p/itm360b8b1eda819?pid=SGLFUHW5YSHC9WMG&lid=LSTSGLFUHW5YSHC9WMGTE37AG&marketplace=FLIPKART&srno=s_2_73&otracker=search&otracker1=search&fm=SEARCH&iid=a6c3d4f9-6ce2-4fc4-8aad-9c95cb0d643f.SGLFUHW5YSHC9WMG.SEARCH&ppt=sp&ppn=sp&ssid=fvqyhjgppc0000001611163711455&qH=2cc465e3eef5bff0',\n",
       " 'https://www.flipkart.com/aislin-wayfarer-retro-square-sunglasses/p/itmbc39e4e90eb9e?pid=SGLFRHGS8ZSZ4VBH&lid=LSTSGLFRHGS8ZSZ4VBHKR3BYF&marketplace=FLIPKART&srno=s_2_74&otracker=search&otracker1=search&fm=SEARCH&iid=en_jWsZlnL4ZIu1TkED%2Bq2iVSex1WTc3aiNvbWe6LWAiXBuN3zeu99nMpcyoo62xCVgJd7wyM6sO5DUdplZKg1rAA%3D%3D&ppt=sp&ppn=sp&ssid=fvqyhjgppc0000001611163711455&qH=2cc465e3eef5bff0',\n",
       " 'https://www.flipkart.com/fda-collection-round-round-sunglasses/p/itm6e3ec6c8bab23?pid=SGLFPXN9AJCFSTE5&lid=LSTSGLFPXN9AJCFSTE5SMOA3S&marketplace=FLIPKART&srno=s_2_75&otracker=search&otracker1=search&fm=SEARCH&iid=a6c3d4f9-6ce2-4fc4-8aad-9c95cb0d643f.SGLFPXN9AJCFSTE5.SEARCH&ppt=sp&ppn=sp&ssid=fvqyhjgppc0000001611163711455&qH=2cc465e3eef5bff0',\n",
       " 'https://www.flipkart.com/trendy-glasses-retro-square-sunglasses/p/itm3ffc8479b23e6?pid=SGLFH2SXVRYC8ZG6&lid=LSTSGLFH2SXVRYC8ZG6AC1WIJ&marketplace=FLIPKART&srno=s_2_76&otracker=search&otracker1=search&fm=SEARCH&iid=a6c3d4f9-6ce2-4fc4-8aad-9c95cb0d643f.SGLFH2SXVRYC8ZG6.SEARCH&ppt=sp&ppn=sp&ssid=fvqyhjgppc0000001611163711455&qH=2cc465e3eef5bff0',\n",
       " 'https://www.flipkart.com/fastrack-wayfarer-sunglasses/p/itmf1640c7b89931?pid=SGLFJATRZAUJGZGQ&lid=LSTSGLFJATRZAUJGZGQVHIHKU&marketplace=FLIPKART&srno=s_2_77&otracker=search&otracker1=search&fm=SEARCH&iid=a6c3d4f9-6ce2-4fc4-8aad-9c95cb0d643f.SGLFJATRZAUJGZGQ.SEARCH&ppt=sp&ppn=sp&ssid=fvqyhjgppc0000001611163711455&qH=2cc465e3eef5bff0',\n",
       " 'https://www.flipkart.com/piraso-aviator-sunglasses/p/itmef5d8b91f2947?pid=SGLFPFD7WRNASWSV&lid=LSTSGLFPFD7WRNASWSVJLGDDX&marketplace=FLIPKART&srno=s_2_78&otracker=search&otracker1=search&fm=SEARCH&iid=a6c3d4f9-6ce2-4fc4-8aad-9c95cb0d643f.SGLFPFD7WRNASWSV.SEARCH&ppt=sp&ppn=sp&ssid=fvqyhjgppc0000001611163711455&qH=2cc465e3eef5bff0',\n",
       " 'https://www.flipkart.com/phenomenal-retro-square-sunglasses/p/itm4866ee5b5a670?pid=SGLFUWZTAWHY9CB6&lid=LSTSGLFUWZTAWHY9CB6ZMETGU&marketplace=FLIPKART&srno=s_2_79&otracker=search&otracker1=search&fm=SEARCH&iid=a6c3d4f9-6ce2-4fc4-8aad-9c95cb0d643f.SGLFUWZTAWHY9CB6.SEARCH&ppt=sp&ppn=sp&ssid=fvqyhjgppc0000001611163711455&qH=2cc465e3eef5bff0',\n",
       " 'https://www.flipkart.com/specsmakers-wayfarer-sunglasses/p/itm6bc42fa3c2419?pid=SGLFWG4XUZTQ56Z8&lid=LSTSGLFWG4XUZTQ56Z8LCY8ZL&marketplace=FLIPKART&srno=s_2_80&otracker=search&otracker1=search&fm=SEARCH&iid=en_jWsZlnL4ZIu1TkED%2Bq2iVSex1WTc3aiNvbWe6LWAiXAUo1NEa3iACH5byuBqxd89xHRmim6DkRbCCR%2BrF2sewQ%3D%3D&ppt=sp&ppn=sp&ssid=fvqyhjgppc0000001611163711455&qH=2cc465e3eef5bff0',\n",
       " 'https://www.flipkart.com/piraso-round-sunglasses/p/itm898cedd6b0d44?pid=SGLFP9AYSZFDR26U&lid=LSTSGLFP9AYSZFDR26UY1IFFM&marketplace=FLIPKART&srno=s_10_361&otracker=search&otracker1=search&fm=SEARCH&iid=07acc8d9-72ad-4cc4-9242-e44ec1672c5e.SGLFP9AYSZFDR26U.SEARCH&ppt=sp&ppn=sp&ssid=fvqyhjgppc0000001611163711455&qH=2cc465e3eef5bff0',\n",
       " 'https://www.flipkart.com/azmani-round-sunglasses/p/itm1774964a4525b?pid=SGLF7GSJEANHHGUY&lid=LSTSGLF7GSJEANHHGUY1JUKYO&marketplace=FLIPKART&srno=s_10_362&otracker=search&otracker1=search&fm=SEARCH&iid=07acc8d9-72ad-4cc4-9242-e44ec1672c5e.SGLF7GSJEANHHGUY.SEARCH&ppt=sp&ppn=sp&ssid=fvqyhjgppc0000001611163711455&qH=2cc465e3eef5bff0',\n",
       " 'https://www.flipkart.com/like-future-round-sunglasses/p/itm5f7d6884bdc58?pid=SGLFTGGXKKXT3DFZ&lid=LSTSGLFTGGXKKXT3DFZPXEUVT&marketplace=FLIPKART&srno=s_10_363&otracker=search&otracker1=search&fm=SEARCH&iid=07acc8d9-72ad-4cc4-9242-e44ec1672c5e.SGLFTGGXKKXT3DFZ.SEARCH&ppt=sp&ppn=sp&ssid=fvqyhjgppc0000001611163711455&qH=2cc465e3eef5bff0',\n",
       " 'https://www.flipkart.com/riffko-wayfarer-sunglasses/p/itm7eeda8c7f404a?pid=SGLFK5PNPMJUFEWP&lid=LSTSGLFK5PNPMJUFEWP83WKXF&marketplace=FLIPKART&srno=s_10_364&otracker=search&otracker1=search&fm=SEARCH&iid=en_TLWCAhPg5WFzAqi%2B2u7K8kX65%2FgBrNhqd6Yd%2Bhq8WpYqo75c1A%2BXVEGnUiYzN4oNrQVJnUCN9Btfnp0DxkT8qQ%3D%3D&ppt=sp&ppn=sp&ssid=fvqyhjgppc0000001611163711455&qH=2cc465e3eef5bff0',\n",
       " 'https://www.flipkart.com/blue-pink-aviator-sunglasses/p/itm786c325d5698a?pid=SGLEVGCHDHGBJYZZ&lid=LSTSGLEVGCHDHGBJYZZ0KGUHX&marketplace=FLIPKART&srno=s_10_365&otracker=search&otracker1=search&fm=SEARCH&iid=07acc8d9-72ad-4cc4-9242-e44ec1672c5e.SGLEVGCHDHGBJYZZ.SEARCH&ppt=sp&ppn=sp&ssid=fvqyhjgppc0000001611163711455&qH=2cc465e3eef5bff0',\n",
       " 'https://www.flipkart.com/nuvew-retro-square-sunglasses/p/itmce79915d6e8cd?pid=SGLFT4FG29DF2GUU&lid=LSTSGLFT4FG29DF2GUU91OJFM&marketplace=FLIPKART&srno=s_10_366&otracker=search&otracker1=search&fm=SEARCH&iid=07acc8d9-72ad-4cc4-9242-e44ec1672c5e.SGLFT4FG29DF2GUU.SEARCH&ppt=sp&ppn=sp&ssid=fvqyhjgppc0000001611163711455&qH=2cc465e3eef5bff0',\n",
       " 'https://www.flipkart.com/magjons-retro-square-sunglasses/p/itm69cf907c8cb2f?pid=SGLFWGBEYXJFGRJB&lid=LSTSGLFWGBEYXJFGRJB9ZOUND&marketplace=FLIPKART&srno=s_10_367&otracker=search&otracker1=search&fm=SEARCH&iid=07acc8d9-72ad-4cc4-9242-e44ec1672c5e.SGLFWGBEYXJFGRJB.SEARCH&ppt=sp&ppn=sp&ssid=fvqyhjgppc0000001611163711455&qH=2cc465e3eef5bff0',\n",
       " 'https://www.flipkart.com/okals-international-retro-square-over-sized-sunglasses/p/itmc076673fd8eb6?pid=SGLFY6WGZPAWSYFZ&lid=LSTSGLFY6WGZPAWSYFZPWBJG7&marketplace=FLIPKART&srno=s_10_368&otracker=search&otracker1=search&fm=SEARCH&iid=07acc8d9-72ad-4cc4-9242-e44ec1672c5e.SGLFY6WGZPAWSYFZ.SEARCH&ppt=sp&ppn=sp&ssid=fvqyhjgppc0000001611163711455&qH=2cc465e3eef5bff0',\n",
       " 'https://www.flipkart.com/piraso-aviator-sunglasses/p/itm69a485df0eabb?pid=SGLFZGEFHQCHHAF3&lid=LSTSGLFZGEFHQCHHAF3P2FDNS&marketplace=FLIPKART&srno=s_10_369&otracker=search&otracker1=search&fm=SEARCH&iid=07acc8d9-72ad-4cc4-9242-e44ec1672c5e.SGLFZGEFHQCHHAF3.SEARCH&ppt=sp&ppn=sp&ssid=fvqyhjgppc0000001611163711455&qH=2cc465e3eef5bff0',\n",
       " 'https://www.flipkart.com/riffko-aviator-sunglasses/p/itm2145ab914ec55?pid=SGLFHX9WE6RRYUCG&lid=LSTSGLFHX9WE6RRYUCGPFJT2A&marketplace=FLIPKART&srno=s_10_370&otracker=search&otracker1=search&fm=SEARCH&iid=en_TLWCAhPg5WFzAqi%2B2u7K8kX65%2FgBrNhqd6Yd%2Bhq8WpZ8gVS7kap88z6jitdpO9Y5T0GCx2GVsVNftRrubudRBg%3D%3D&ppt=sp&ppn=sp&ssid=fvqyhjgppc0000001611163711455&qH=2cc465e3eef5bff0',\n",
       " 'https://www.flipkart.com/criba-round-sunglasses/p/itm89b3faf3a55b0?pid=SGLFGXGZ9FKEWMZY&lid=LSTSGLFGXGZ9FKEWMZYW7VJUW&marketplace=FLIPKART&srno=s_10_371&otracker=search&otracker1=search&fm=SEARCH&iid=07acc8d9-72ad-4cc4-9242-e44ec1672c5e.SGLFGXGZ9FKEWMZY.SEARCH&ppt=sp&ppn=sp&ssid=fvqyhjgppc0000001611163711455&qH=2cc465e3eef5bff0',\n",
       " 'https://www.flipkart.com/shadz-wayfarer-sunglasses/p/itm86a9768cf77bf?pid=SGLF7HUD6V5DGSUN&lid=LSTSGLF7HUD6V5DGSUN27EIS8&marketplace=FLIPKART&srno=s_10_372&otracker=search&otracker1=search&fm=SEARCH&iid=07acc8d9-72ad-4cc4-9242-e44ec1672c5e.SGLF7HUD6V5DGSUN.SEARCH&ppt=sp&ppn=sp&ssid=fvqyhjgppc0000001611163711455&qH=2cc465e3eef5bff0',\n",
       " 'https://www.flipkart.com/elligator-round-sunglasses/p/itm134d443f6218d?pid=SGLFWYHYGPV3SVXU&lid=LSTSGLFWYHYGPV3SVXUSG0H42&marketplace=FLIPKART&srno=s_10_373&otracker=search&otracker1=search&fm=SEARCH&iid=07acc8d9-72ad-4cc4-9242-e44ec1672c5e.SGLFWYHYGPV3SVXU.SEARCH&ppt=sp&ppn=sp&ssid=fvqyhjgppc0000001611163711455&qH=2cc465e3eef5bff0',\n",
       " 'https://www.flipkart.com/riffko-round-sunglasses/p/itm441f0d331753e?pid=SGLFDZTY7QM2AY7F&lid=LSTSGLFDZTY7QM2AY7FPDCMN4&marketplace=FLIPKART&srno=s_10_374&otracker=search&otracker1=search&fm=SEARCH&iid=en_TLWCAhPg5WFzAqi%2B2u7K8kX65%2FgBrNhqd6Yd%2Bhq8Wpb4Sw3uc3Vhwg8rVMIsBPD9q%2Fg9gyg3nI8gXStQ6jaI3g%3D%3D&ppt=sp&ppn=sp&ssid=fvqyhjgppc0000001611163711455&qH=2cc465e3eef5bff0',\n",
       " 'https://www.flipkart.com/fastrack-aviator-sunglasses/p/itm8ec1f54ac4233?pid=SGLF26MSBHYZ6B37&lid=LSTSGLF26MSBHYZ6B371DB4FC&marketplace=FLIPKART&srno=s_10_375&otracker=search&otracker1=search&fm=SEARCH&iid=07acc8d9-72ad-4cc4-9242-e44ec1672c5e.SGLF26MSBHYZ6B37.SEARCH&ppt=sp&ppn=sp&ssid=fvqyhjgppc0000001611163711455&qH=2cc465e3eef5bff0',\n",
       " 'https://www.flipkart.com/david-martin-round-sunglasses/p/itma189539e3cec9?pid=SGLFKJKKHVCC5MNR&lid=LSTSGLFKJKKHVCC5MNR0JIAJW&marketplace=FLIPKART&srno=s_10_376&otracker=search&otracker1=search&fm=SEARCH&iid=07acc8d9-72ad-4cc4-9242-e44ec1672c5e.SGLFKJKKHVCC5MNR.SEARCH&ppt=sp&ppn=sp&ssid=fvqyhjgppc0000001611163711455&qH=2cc465e3eef5bff0',\n",
       " 'https://www.flipkart.com/nuvew-cat-eye-sunglasses/p/itm18b21defb05c0?pid=SGLFKGFPVJ49ZJHB&lid=LSTSGLFKGFPVJ49ZJHBVBBKP1&marketplace=FLIPKART&srno=s_10_377&otracker=search&otracker1=search&fm=SEARCH&iid=07acc8d9-72ad-4cc4-9242-e44ec1672c5e.SGLFKGFPVJ49ZJHB.SEARCH&ppt=sp&ppn=sp&ssid=fvqyhjgppc0000001611163711455&qH=2cc465e3eef5bff0',\n",
       " 'https://www.flipkart.com/aislin-cat-eye-sunglasses/p/itmfeb72b0c3560e?pid=SGLFRGT79QE8WFHZ&lid=LSTSGLFRGT79QE8WFHZBH5URU&marketplace=FLIPKART&srno=s_10_378&otracker=search&otracker1=search&fm=SEARCH&iid=07acc8d9-72ad-4cc4-9242-e44ec1672c5e.SGLFRGT79QE8WFHZ.SEARCH&ppt=sp&ppn=sp&ssid=fvqyhjgppc0000001611163711455&qH=2cc465e3eef5bff0',\n",
       " 'https://www.flipkart.com/tazzx-aviator-sunglasses/p/itm9e6eafa331d90?pid=SGLFKYGPRRQHBTHX&lid=LSTSGLFKYGPRRQHBTHXFV0MEW&marketplace=FLIPKART&srno=s_10_379&otracker=search&otracker1=search&fm=SEARCH&iid=07acc8d9-72ad-4cc4-9242-e44ec1672c5e.SGLFKYGPRRQHBTHX.SEARCH&ppt=sp&ppn=sp&ssid=fvqyhjgppc0000001611163711455&qH=2cc465e3eef5bff0',\n",
       " 'https://www.flipkart.com/specsmakers-wayfarer-sunglasses/p/itmb841e6ace3a4c?pid=SGLFWHEUGFF9G9JK&lid=LSTSGLFWHEUGFF9G9JKGNFFID&marketplace=FLIPKART&srno=s_10_380&otracker=search&otracker1=search&fm=SEARCH&iid=en_TLWCAhPg5WFzAqi%2B2u7K8kX65%2FgBrNhqd6Yd%2Bhq8Wpa8XggMKvD4Tsbh%2FHe%2FhsS21z%2FEz77V%2FNsVEmTfKBmPHw%3D%3D&ppt=sp&ppn=sp&ssid=fvqyhjgppc0000001611163711455&qH=2cc465e3eef5bff0',\n",
       " 'https://www.flipkart.com/scaglia-round-sunglasses/p/itmcd2aaff78312f?pid=SGLF8MSTJBH9HF5Q&lid=LSTSGLF8MSTJBH9HF5QDRYNAJ&marketplace=FLIPKART&srno=s_10_381&otracker=search&otracker1=search&fm=SEARCH&iid=07acc8d9-72ad-4cc4-9242-e44ec1672c5e.SGLF8MSTJBH9HF5Q.SEARCH&ppt=sp&ppn=sp&ssid=fvqyhjgppc0000001611163711455&qH=2cc465e3eef5bff0',\n",
       " 'https://www.flipkart.com/piraso-round-sunglasses/p/itm058ecb0323471?pid=SGLEV75UNHZHVE5V&lid=LSTSGLEV75UNHZHVE5VRJ7P4T&marketplace=FLIPKART&srno=s_10_382&otracker=search&otracker1=search&fm=SEARCH&iid=07acc8d9-72ad-4cc4-9242-e44ec1672c5e.SGLEV75UNHZHVE5V.SEARCH&ppt=sp&ppn=sp&ssid=fvqyhjgppc0000001611163711455&qH=2cc465e3eef5bff0',\n",
       " 'https://www.flipkart.com/aislin-retro-square-over-sized-sunglasses/p/itm82270a7930640?pid=SGLFRGSVNVBDY26T&lid=LSTSGLFRGSVNVBDY26TMTOVMV&marketplace=FLIPKART&srno=s_10_383&otracker=search&otracker1=search&fm=SEARCH&iid=07acc8d9-72ad-4cc4-9242-e44ec1672c5e.SGLFRGSVNVBDY26T.SEARCH&ppt=sp&ppn=sp&ssid=fvqyhjgppc0000001611163711455&qH=2cc465e3eef5bff0',\n",
       " 'https://www.flipkart.com/royal-son-aviator-sunglasses/p/itm3e691987a70c7?pid=SGLFZJV9PHZXUJW5&lid=LSTSGLFZJV9PHZXUJW5DPHMOX&marketplace=FLIPKART&srno=s_10_384&otracker=search&otracker1=search&fm=SEARCH&iid=en_TLWCAhPg5WFzAqi%2B2u7K8kX65%2FgBrNhqd6Yd%2Bhq8WpaFCh8orqGmBhBoEAAdDo2um0GYxvdBzfalWZuFXLKjTA%3D%3D&ppt=sp&ppn=sp&ssid=fvqyhjgppc0000001611163711455&qH=2cc465e3eef5bff0',\n",
       " 'https://www.flipkart.com/criba-retro-square-sunglasses/p/itm40ab722375806?pid=SGLFSVCZBGRGMMNQ&lid=LSTSGLFSVCZBGRGMMNQXB3RPZ&marketplace=FLIPKART&srno=s_10_385&otracker=search&otracker1=search&fm=SEARCH&iid=07acc8d9-72ad-4cc4-9242-e44ec1672c5e.SGLFSVCZBGRGMMNQ.SEARCH&ppt=sp&ppn=sp&ssid=fvqyhjgppc0000001611163711455&qH=2cc465e3eef5bff0',\n",
       " 'https://www.flipkart.com/gland-sports-sunglasses/p/itm121dff40b0864?pid=SGLFAHGHJX3C4XZD&lid=LSTSGLFAHGHJX3C4XZDFYIWG2&marketplace=FLIPKART&srno=s_10_386&otracker=search&otracker1=search&fm=SEARCH&iid=07acc8d9-72ad-4cc4-9242-e44ec1672c5e.SGLFAHGHJX3C4XZD.SEARCH&ppt=sp&ppn=sp&ssid=fvqyhjgppc0000001611163711455&qH=2cc465e3eef5bff0',\n",
       " 'https://www.flipkart.com/singco-aviator-sunglasses/p/itm8cf16a3aaa97a?pid=SGLEVYQYEFUEWDYH&lid=LSTSGLEVYQYEFUEWDYHBZ8S0D&marketplace=FLIPKART&srno=s_10_387&otracker=search&otracker1=search&fm=SEARCH&iid=07acc8d9-72ad-4cc4-9242-e44ec1672c5e.SGLEVYQYEFUEWDYH.SEARCH&ppt=sp&ppn=sp&ssid=fvqyhjgppc0000001611163711455&qH=2cc465e3eef5bff0',\n",
       " 'https://www.flipkart.com/flynn-clubmaster-sunglasses/p/itm2caf5df7deb15?pid=SGLF92AGFQ7HSQZP&lid=LSTSGLF92AGFQ7HSQZP1NSRTN&marketplace=FLIPKART&srno=s_10_388&otracker=search&otracker1=search&fm=SEARCH&iid=07acc8d9-72ad-4cc4-9242-e44ec1672c5e.SGLF92AGFQ7HSQZP.SEARCH&ppt=sp&ppn=sp&ssid=fvqyhjgppc0000001611163711455&qH=2cc465e3eef5bff0',\n",
       " 'https://www.flipkart.com/shah-collections-round-sunglasses/p/itmd2999f10d5243?pid=SGLFNSGKGZGGGAXC&lid=LSTSGLFNSGKGZGGGAXCYXJ7SK&marketplace=FLIPKART&srno=s_10_389&otracker=search&otracker1=search&fm=SEARCH&iid=07acc8d9-72ad-4cc4-9242-e44ec1672c5e.SGLFNSGKGZGGGAXC.SEARCH&ppt=sp&ppn=sp&ssid=fvqyhjgppc0000001611163711455&qH=2cc465e3eef5bff0',\n",
       " 'https://www.flipkart.com/aislin-aviator-sunglasses/p/itm1ecd573b1cc94?pid=SGLFR4F77XQSFZDY&lid=LSTSGLFR4F77XQSFZDYIGS0MF&marketplace=FLIPKART&srno=s_10_390&otracker=search&otracker1=search&fm=SEARCH&iid=en_TLWCAhPg5WFzAqi%2B2u7K8kX65%2FgBrNhqd6Yd%2Bhq8Wpa275%2Fae%2BU%2Bzn07KgdrawgWCfwpHL3pRRPdfmfVOLSXIw%3D%3D&ppt=sp&ppn=sp&ssid=fvqyhjgppc0000001611163711455&qH=2cc465e3eef5bff0',\n",
       " 'https://www.flipkart.com/fastrack-retro-square-sunglasses/p/itm06e65a9ea0e68?pid=SGLFHBY3MFFYWZHT&lid=LSTSGLFHBY3MFFYWZHTKZLDCW&marketplace=FLIPKART&srno=s_10_391&otracker=search&otracker1=search&fm=SEARCH&iid=07acc8d9-72ad-4cc4-9242-e44ec1672c5e.SGLFHBY3MFFYWZHT.SEARCH&ppt=sp&ppn=sp&ssid=fvqyhjgppc0000001611163711455&qH=2cc465e3eef5bff0',\n",
       " 'https://www.flipkart.com/azmani-round-sunglasses/p/itm4f9e8a400bf66?pid=SGLFHXYNHKRN5CPC&lid=LSTSGLFHXYNHKRN5CPCUVWIMW&marketplace=FLIPKART&srno=s_10_392&otracker=search&otracker1=search&fm=SEARCH&iid=07acc8d9-72ad-4cc4-9242-e44ec1672c5e.SGLFHXYNHKRN5CPC.SEARCH&ppt=sp&ppn=sp&ssid=fvqyhjgppc0000001611163711455&qH=2cc465e3eef5bff0',\n",
       " 'https://www.flipkart.com/flash-round-sunglasses/p/itmcba72670e3ae0?pid=SGLFGGY6WGHDDHYY&lid=LSTSGLFGGY6WGHDDHYYVIPRGM&marketplace=FLIPKART&srno=s_10_393&otracker=search&otracker1=search&fm=SEARCH&iid=07acc8d9-72ad-4cc4-9242-e44ec1672c5e.SGLFGGY6WGHDDHYY.SEARCH&ppt=sp&ppn=sp&ssid=fvqyhjgppc0000001611163711455&qH=2cc465e3eef5bff0',\n",
       " 'https://www.flipkart.com/aislin-aviator-sunglasses/p/itmcd8fe3aa510e7?pid=SGLEGRSGEGNFACFJ&lid=LSTSGLEGRSGEGNFACFJA3OOEQ&marketplace=FLIPKART&srno=s_10_394&otracker=search&otracker1=search&fm=SEARCH&iid=en_TLWCAhPg5WFzAqi%2B2u7K8kX65%2FgBrNhqd6Yd%2Bhq8WpbH%2FSWFW5%2FbUsUDEnnH3Fu7gtDfHR4C94R%2FskEAvhC2gg%3D%3D&ppt=sp&ppn=sp&ssid=fvqyhjgppc0000001611163711455&qH=2cc465e3eef5bff0',\n",
       " 'https://www.flipkart.com/piraso-round-sunglasses/p/itm93019b410ae49?pid=SGLFQ77RNKGPYHYF&lid=LSTSGLFQ77RNKGPYHYFEOT27M&marketplace=FLIPKART&srno=s_10_395&otracker=search&otracker1=search&fm=SEARCH&iid=07acc8d9-72ad-4cc4-9242-e44ec1672c5e.SGLFQ77RNKGPYHYF.SEARCH&ppt=sp&ppn=sp&ssid=fvqyhjgppc0000001611163711455&qH=2cc465e3eef5bff0',\n",
       " 'https://www.flipkart.com/reyda-basic-retro-square-sunglasses/p/itm11f2c14a4e1e7?pid=SGLFXVZ7FWUTNGYG&lid=LSTSGLFXVZ7FWUTNGYGJV8WMR&marketplace=FLIPKART&srno=s_10_396&otracker=search&otracker1=search&fm=SEARCH&iid=07acc8d9-72ad-4cc4-9242-e44ec1672c5e.SGLFXVZ7FWUTNGYG.SEARCH&ppt=sp&ppn=sp&ssid=fvqyhjgppc0000001611163711455&qH=2cc465e3eef5bff0',\n",
       " 'https://www.flipkart.com/eyexack-butterfly-sunglasses/p/itm65b00da668fe1?pid=SGLFU9N4PEKXYQNH&lid=LSTSGLFU9N4PEKXYQNHNV5Z1H&marketplace=FLIPKART&srno=s_10_397&otracker=search&otracker1=search&fm=SEARCH&iid=07acc8d9-72ad-4cc4-9242-e44ec1672c5e.SGLFU9N4PEKXYQNH.SEARCH&ppt=sp&ppn=sp&ssid=fvqyhjgppc0000001611163711455&qH=2cc465e3eef5bff0',\n",
       " 'https://www.flipkart.com/piraso-aviator-sunglasses/p/itm46ab5467ab7e4?pid=SGLFHBFMMWHZCATJ&lid=LSTSGLFHBFMMWHZCATJ2UX7NL&marketplace=FLIPKART&srno=s_10_398&otracker=search&otracker1=search&fm=SEARCH&iid=07acc8d9-72ad-4cc4-9242-e44ec1672c5e.SGLFHBFMMWHZCATJ.SEARCH&ppt=sp&ppn=sp&ssid=fvqyhjgppc0000001611163711455&qH=2cc465e3eef5bff0',\n",
       " 'https://www.flipkart.com/phenomenal-retro-square-sunglasses/p/itm039e1dc1473e4?pid=SGLFUBFWUAVHMZXD&lid=LSTSGLFUBFWUAVHMZXDKUXWZS&marketplace=FLIPKART&srno=s_10_399&otracker=search&otracker1=search&fm=SEARCH&iid=07acc8d9-72ad-4cc4-9242-e44ec1672c5e.SGLFUBFWUAVHMZXD.SEARCH&ppt=sp&ppn=sp&ssid=fvqyhjgppc0000001611163711455&qH=2cc465e3eef5bff0',\n",
       " 'https://www.flipkart.com/aislin-wayfarer-retro-square-sunglasses/p/itm7bfc971170e11?pid=SGLFEFVPACMA862K&lid=LSTSGLFEFVPACMA862K7G5ZGX&marketplace=FLIPKART&srno=s_10_400&otracker=search&otracker1=search&fm=SEARCH&iid=en_TLWCAhPg5WFzAqi%2B2u7K8kX65%2FgBrNhqd6Yd%2Bhq8WpZQl7HNOIJbALloV9sxxZft%2F%2FqyOJiaBXWqwRdY8LP7kQ%3D%3D&ppt=sp&ppn=sp&ssid=fvqyhjgppc0000001611163711455&qH=2cc465e3eef5bff0']"
      ]
     },
     "execution_count": 301,
     "metadata": {},
     "output_type": "execute_result"
    }
   ],
   "source": [
    "URL"
   ]
  },
  {
   "cell_type": "code",
   "execution_count": 303,
   "metadata": {},
   "outputs": [],
   "source": [
    "list_of_url=URL[0:100]"
   ]
  },
  {
   "cell_type": "code",
   "execution_count": 304,
   "metadata": {},
   "outputs": [
    {
     "data": {
      "text/plain": [
       "100"
      ]
     },
     "execution_count": 304,
     "metadata": {},
     "output_type": "execute_result"
    }
   ],
   "source": [
    "len(list_of_url)"
   ]
  },
  {
   "cell_type": "code",
   "execution_count": 357,
   "metadata": {},
   "outputs": [],
   "source": [
    "#going to the url of first sunglasses through our driver\n",
    "driver.get(list_of_url[0])"
   ]
  },
  {
   "cell_type": "code",
   "execution_count": 358,
   "metadata": {},
   "outputs": [
    {
     "name": "stderr",
     "output_type": "stream",
     "text": [
      "100%|██████████| 100/100 [02:26<00:00,  1.46s/it]\n"
     ]
    }
   ],
   "source": [
    "#running a loop to extract all the required information from the list_of_url\n",
    "from tqdm import tqdm\n",
    "for i in tqdm(list_of_url):\n",
    "    driver.get(i)\n",
    "    try:\n",
    "        brand=driver.find_element_by_xpath(\"//span[@class='G6XhRU']\").text\n",
    "        Brand.append(brand)\n",
    "        description=driver.find_element_by_xpath(\"//span[@class='B_NuCI']\").text\n",
    "        Product_Description.append(description)\n",
    "        price=driver.find_element_by_xpath(\"//div[@class='_30jeq3 _16Jk6d']\").text\n",
    "        Price.append(price)\n",
    "        discount=driver.find_element_by_xpath(\"//div[@class='_3Ay6Sb _31Dcoz pZkvcx']/span\").text\n",
    "        Discount.append(discount)\n",
    "    except NoSuchElementException:\n",
    "        Brand.append(\"Null\")\n",
    "        Product_Description.append(\"Null\")\n",
    "        Price.append(\"Null\")\n",
    "        Discount.append('Null')"
   ]
  },
  {
   "cell_type": "code",
   "execution_count": 359,
   "metadata": {},
   "outputs": [
    {
     "data": {
      "text/plain": [
       "['BULL-i ',\n",
       " 'Royal Son ',\n",
       " 'FDA COLLECTION ',\n",
       " 'Riffko ',\n",
       " 'Phenomenal ',\n",
       " 'shah collections ',\n",
       " 'Deixels ',\n",
       " 'Fastrack ',\n",
       " 'ROZZETTA CRAFT ',\n",
       " 'shah collections ',\n",
       " 'funglasses ',\n",
       " 'like future ',\n",
       " 'HAMIW COLLECTION ',\n",
       " 'Specsmakers ',\n",
       " 'LOPO ',\n",
       " 'JOHAENA ',\n",
       " 'hipe ',\n",
       " 'PIRASO ',\n",
       " 'ROZZETTA CRAFT ',\n",
       " 'STYLISH GUYS ',\n",
       " 'ETRG ',\n",
       " 'FDA COLLECTION ',\n",
       " 'EYELLUSION ',\n",
       " 'Specsmakers ',\n",
       " 'Creative Group ',\n",
       " 'Dannilo ',\n",
       " 'Phenomenal ',\n",
       " 'shadz ',\n",
       " 'INSH ',\n",
       " 'Specsmakers ',\n",
       " 'Trendy Glasses ',\n",
       " 'peter india ',\n",
       " 'Fastrack ',\n",
       " 'NuVew ',\n",
       " 'Fastrack ',\n",
       " 'Fastrack ',\n",
       " 'kingsunglasses ',\n",
       " 'ROZZETTA CRAFT ',\n",
       " 'Rozzetta Craft ',\n",
       " 'Specsmakers ',\n",
       " 'Riffko ',\n",
       " 'funglasses ',\n",
       " 'like future ',\n",
       " 'BULL-i ',\n",
       " 'Fastrack ',\n",
       " 'Royal Son ',\n",
       " 'shah collections ',\n",
       " 'I Flash ',\n",
       " 'Silver Kartz ',\n",
       " 'Specsmakers ',\n",
       " 'Fastrack ',\n",
       " 'Royal Son ',\n",
       " 'TREND ',\n",
       " 'Aislin ',\n",
       " 'Singco India ',\n",
       " 'Fastrack ',\n",
       " 'Winsome ',\n",
       " 'Bedst ',\n",
       " 'ROYAL SON ',\n",
       " 'Swiss Military ',\n",
       " 'Singco India ',\n",
       " 'Rich Club ',\n",
       " 'shadz ',\n",
       " 'Aislin ',\n",
       " 'Gansta ',\n",
       " 'PC STAR ',\n",
       " 'PIRASO ',\n",
       " 'Elligator ',\n",
       " 'ALEYBEE ',\n",
       " 'Aislin ',\n",
       " 'Lee Topper ',\n",
       " 'Ayezent ',\n",
       " 'funglasses ',\n",
       " 'Aislin ',\n",
       " 'FDA COLLECTION ',\n",
       " 'Trendy Glasses ',\n",
       " 'Fastrack ',\n",
       " 'PIRASO ',\n",
       " 'Phenomenal ',\n",
       " 'Specsmakers ',\n",
       " 'PIRASO ',\n",
       " 'Azmani ',\n",
       " 'like future ',\n",
       " 'Riffko ',\n",
       " 'The Blue Pink ',\n",
       " 'NuVew ',\n",
       " 'Magjons ',\n",
       " 'OKALS INTERNATIONAL ',\n",
       " 'PIRASO ',\n",
       " 'Riffko ',\n",
       " 'Criba ',\n",
       " 'shadz ',\n",
       " 'Elligator ',\n",
       " 'Riffko ',\n",
       " 'Fastrack ',\n",
       " 'David Martin ',\n",
       " 'NuVew ',\n",
       " 'Aislin ',\n",
       " 'Tazzx ',\n",
       " 'Specsmakers ']"
      ]
     },
     "execution_count": 359,
     "metadata": {},
     "output_type": "execute_result"
    }
   ],
   "source": [
    "Brand"
   ]
  },
  {
   "cell_type": "code",
   "execution_count": 360,
   "metadata": {},
   "outputs": [
    {
     "data": {
      "text/plain": [
       "['UV Protection Wayfarer Sunglasses (52)  (For Boys & Girls)',\n",
       " 'UV Protection Retro Square Sunglasses (49)  (Silver)',\n",
       " 'Gradient, Mirrored, UV Protection Round, Round, Round Sunglasses (50)  (Black, Silver, Blue)',\n",
       " 'UV Protection Wayfarer Sunglasses (55)  (For Boys & Girls)',\n",
       " 'UV Protection, Mirrored Retro Square Sunglasses (53)  (Red, Black)',\n",
       " 'UV Protection, Polarized, Mirrored Rectangular Sunglasses (Free Size)  (Black)',\n",
       " 'UV Protection Wayfarer Sunglasses (Free Size)  (Blue)',\n",
       " 'Gradient, UV Protection Wayfarer Sunglasses (Free Size)  (Green)',\n",
       " 'UV Protection, Gradient Rectangular Sunglasses (Free Size)  (Blue)',\n",
       " 'UV Protection Round Sunglasses (Free Size)  (Red, Yellow, Blue, Violet, Blue, Green)',\n",
       " 'UV Protection, Night Vision, Riding Glasses Round Sunglasses (50)  (For Boys & Girls)',\n",
       " 'Mirrored Aviator Sunglasses (Free Size)  (Silver, Black)',\n",
       " 'UV Protection Wayfarer, Sports, Shield, Rectangular, Retro Square Sunglasses (Free Size)  (For Boys & Girls)',\n",
       " 'Mirrored Oval Sunglasses (50)  (Black)',\n",
       " 'Polarized, Mirrored, UV Protection Retro Square, Over-sized, Rectangular Sunglasses (Free Size)  (Black)',\n",
       " 'Riding Glasses, UV Protection Oval Sunglasses (52)  (For Boys & Girls)',\n",
       " 'Mirrored Wayfarer Sunglasses (55)  (Blue)',\n",
       " 'UV Protection Aviator Sunglasses (58)  (Black)',\n",
       " 'UV Protection Retro Square Sunglasses (Free Size)  (Blue)',\n",
       " 'UV Protection, Mirrored, Gradient Retro Square Sunglasses (Free Size)  (Black, Black)',\n",
       " 'Gradient, UV Protection Aviator Sunglasses (99)  (Blue)',\n",
       " 'Gradient, Mirrored, UV Protection Round, Round, Round Sunglasses (50)  (Black, Red, Blue)',\n",
       " 'Night Vision, Polarized, UV Protection, Riding Glasses Retro Square Sunglasses (Free Size)  (For Boys)',\n",
       " 'Polarized Aviator Sunglasses (57)  (Black)',\n",
       " 'Gradient Spectacle Sunglasses (Free Size)  (Blue)',\n",
       " 'Gradient, UV Protection, Others Aviator Sunglasses (Free Size)  (Brown, Blue, Black)',\n",
       " 'UV Protection Retro Square Sunglasses (Free Size)  (Yellow, Red)',\n",
       " 'UV Protection Wayfarer Sunglasses (50)  (Black)',\n",
       " 'UV Protection Rectangular Sunglasses (54)  (For Boys & Girls)',\n",
       " 'Polarized Aviator Sunglasses (58)  (Grey)',\n",
       " 'UV Protection, Night Vision Retro Square Sunglasses (Free Size)  (Red)',\n",
       " 'UV Protection Spectacle Sunglasses (Free Size)  (Clear)',\n",
       " 'UV Protection Wayfarer Sunglasses (53)  (Black)',\n",
       " 'UV Protection Aviator Sunglasses (57)  (Blue, Green, Grey, Violet)',\n",
       " 'Gradient, UV Protection Wayfarer Sunglasses (Free Size)  (Green)',\n",
       " 'UV Protection Aviator Sunglasses (58)  (Green)',\n",
       " 'Mirrored, UV Protection Wayfarer, Wayfarer, Wayfarer, Wayfarer, Wayfarer Sunglasses (Free Size)  (Yellow, Blue, Silver, Green, Black)',\n",
       " 'UV Protection, Riding Glasses Rectangular Sunglasses (Free Size)  (Clear)',\n",
       " 'UV Protection Rectangular Sunglasses (Free Size)  (Red, Blue)',\n",
       " 'Polarized Aviator Sunglasses (58)  (Brown)',\n",
       " 'UV Protection Round Sunglasses (55)  (Blue, Silver)',\n",
       " 'Riding Glasses, Night Vision Round, Round Sunglasses (50)  (For Boys & Girls)',\n",
       " 'UV Protection, Polarized, Gradient Rectangular, Retro Square Sunglasses (Free Size)  (Black)',\n",
       " 'UV Protection Wayfarer Sunglasses (54)  (Red)',\n",
       " 'UV Protection Aviator Sunglasses (Free Size)  (Grey)',\n",
       " 'UV Protection Wayfarer Sunglasses (55)  (Black, Brown, Clear)',\n",
       " 'Mirrored Round Sunglasses (53)  (Black, Silver, Blue)',\n",
       " 'Gradient, UV Protection Round Sunglasses (Free Size)  (For Boys & Girls)',\n",
       " 'UV Protection Oval Sunglasses (56)  (Green)',\n",
       " 'Polarized Sports Sunglasses (70)  (Orange)',\n",
       " 'UV Protection Aviator Sunglasses (58)  (Green)',\n",
       " 'Mirrored Aviator Sunglasses (58)  (Black)',\n",
       " 'UV Protection Round Sunglasses (47)  (Blue)',\n",
       " 'UV Protection, Gradient Aviator Sunglasses (61)  (Grey)',\n",
       " 'UV Protection, Polarized Aviator Sunglasses (Free Size)  (Black, Black)',\n",
       " 'UV Protection Shield Sunglasses (Free Size)  (Grey)',\n",
       " 'UV Protection Round Sunglasses (54)  (Red, Blue)',\n",
       " 'Others Round Sunglasses (59)  (Clear)',\n",
       " 'UV Protection Retro Square Sunglasses (88)  (Blue)',\n",
       " 'UV Protection Aviator Sunglasses (Free Size)  (Brown)',\n",
       " 'Mirrored, Riding Glasses, Others Sports Sunglasses (50)  (Black, Blue, Silver)',\n",
       " 'UV Protection, Mirrored, Gradient Round Sunglasses (51)  (Black)',\n",
       " 'UV Protection, Gradient Round, Round Sunglasses (50)  (Clear, Clear)',\n",
       " 'UV Protection Oval Sunglasses (58)  (Brown)',\n",
       " 'Night Vision, Riding Glasses Wayfarer Sunglasses (53)  (Yellow, Red)',\n",
       " 'UV Protection, Riding Glasses, Mirrored Rectangular Sunglasses (Free Size)  (Blue, Black)',\n",
       " 'UV Protection Aviator Sunglasses (54)  (Black)',\n",
       " 'UV Protection Round Sunglasses (54)  (Multicolor)',\n",
       " 'UV Protection Round Sunglasses (54)  (Black)',\n",
       " 'UV Protection Rectangular Sunglasses (61)  (Green)',\n",
       " 'UV Protection Round Sunglasses (Free Size)  (Clear)',\n",
       " 'UV Protection Retro Square Sunglasses (52)  (Black)',\n",
       " 'UV Protection, Night Vision, Riding Glasses Round Sunglasses (50)  (For Boys & Girls)',\n",
       " 'UV Protection Wayfarer, Retro Square Sunglasses (52)  (Black)',\n",
       " 'Gradient, UV Protection Round, Round Sunglasses (20)  (Black, Blue)',\n",
       " 'UV Protection Retro Square Sunglasses (Free Size)  (Blue)',\n",
       " 'UV Protection Wayfarer Sunglasses (56)  (Green)',\n",
       " 'UV Protection Aviator Sunglasses (54)  (Green)',\n",
       " 'UV Protection, Mirrored Retro Square Sunglasses (Free Size)  (Red, Blue)',\n",
       " 'Polarized Wayfarer Sunglasses (51)  (Blue)',\n",
       " 'UV Protection Round Sunglasses (Free Size)  (Black, Golden)',\n",
       " 'UV Protection Round Sunglasses (Free Size)  (Clear)',\n",
       " 'UV Protection Round Sunglasses (Free Size)  (Red, Yellow, Blue, Black, Blue)',\n",
       " 'UV Protection Wayfarer Sunglasses (55)  (For Boys & Girls)',\n",
       " 'UV Protection Aviator Sunglasses (Free Size)  (For Boys & Girls)',\n",
       " 'UV Protection, Night Vision, Riding Glasses Retro Square Sunglasses (58)  (Blue, Green, Orange, Red, Yellow)',\n",
       " 'UV Protection Retro Square Sunglasses (56)  (Multicolor)',\n",
       " 'UV Protection Retro Square, Over-sized Sunglasses (Free Size)  (Black)',\n",
       " 'UV Protection Aviator Sunglasses (Free Size)  (Golden, Brown)',\n",
       " 'UV Protection, Mirrored Aviator Sunglasses (55)  (Blue, Black)',\n",
       " 'UV Protection Round Sunglasses (47)  (Yellow, Red)',\n",
       " 'Gradient Wayfarer Sunglasses (55)  (Black)',\n",
       " 'UV Protection Round Sunglasses (54)  (Black, Pink, Blue, Red, Yellow)',\n",
       " 'UV Protection Round Sunglasses (55)  (Blue, Silver)',\n",
       " 'UV Protection Aviator Sunglasses (Free Size)  (Brown)',\n",
       " 'UV Protection, Gradient Round Sunglasses (50)  (Grey)',\n",
       " 'UV Protection, Gradient Cat-eye Sunglasses (60)  (Violet, Grey)',\n",
       " 'UV Protection, Gradient Cat-eye Sunglasses (58)  (Pink)',\n",
       " 'UV Protection Aviator Sunglasses (54)  (Black, Blue, Blue, Blue)',\n",
       " 'Polarized Wayfarer Sunglasses (51)  (Black)']"
      ]
     },
     "execution_count": 360,
     "metadata": {},
     "output_type": "execute_result"
    }
   ],
   "source": [
    "Product_Description"
   ]
  },
  {
   "cell_type": "code",
   "execution_count": 361,
   "metadata": {},
   "outputs": [
    {
     "data": {
      "text/plain": [
       "['₹268',\n",
       " '₹615',\n",
       " '₹199',\n",
       " '₹170',\n",
       " '₹399',\n",
       " '₹219',\n",
       " '₹179',\n",
       " '₹559',\n",
       " '₹404',\n",
       " '₹331',\n",
       " '₹161',\n",
       " '₹181',\n",
       " '₹239',\n",
       " '₹445',\n",
       " '₹143',\n",
       " '₹169',\n",
       " '₹187',\n",
       " '₹349',\n",
       " '₹449',\n",
       " '₹798',\n",
       " '₹188',\n",
       " '₹188',\n",
       " '₹349',\n",
       " '₹715',\n",
       " '₹245',\n",
       " '₹233',\n",
       " '₹399',\n",
       " '₹99',\n",
       " '₹269',\n",
       " '₹792',\n",
       " '₹245',\n",
       " '₹165',\n",
       " '₹674',\n",
       " '₹265',\n",
       " '₹599',\n",
       " '₹909',\n",
       " '₹284',\n",
       " '₹426',\n",
       " '₹398',\n",
       " '₹841',\n",
       " '₹163',\n",
       " '₹160',\n",
       " '₹218',\n",
       " '₹238',\n",
       " '₹629',\n",
       " '₹224',\n",
       " '₹214',\n",
       " '₹123',\n",
       " '₹251',\n",
       " '₹841',\n",
       " '₹1,039',\n",
       " '₹351',\n",
       " '₹115',\n",
       " '₹658',\n",
       " '₹189',\n",
       " '₹629',\n",
       " '₹172',\n",
       " '₹125',\n",
       " '₹527',\n",
       " '₹790',\n",
       " '₹199',\n",
       " '₹189',\n",
       " '₹156',\n",
       " '₹568',\n",
       " '₹198',\n",
       " '₹238',\n",
       " '₹250',\n",
       " '₹284',\n",
       " '₹189',\n",
       " '₹917',\n",
       " '₹236',\n",
       " '₹282',\n",
       " '₹125',\n",
       " '₹924',\n",
       " '₹161',\n",
       " '₹238',\n",
       " '₹674',\n",
       " '₹250',\n",
       " '₹399',\n",
       " '₹841',\n",
       " '₹404',\n",
       " '₹425',\n",
       " '₹274',\n",
       " '₹170',\n",
       " '₹109',\n",
       " '₹450',\n",
       " '₹448',\n",
       " '₹299',\n",
       " '₹314',\n",
       " '₹179',\n",
       " '₹175',\n",
       " '₹170',\n",
       " '₹349',\n",
       " '₹163',\n",
       " '₹607',\n",
       " '₹199',\n",
       " '₹309',\n",
       " '₹425',\n",
       " '₹267',\n",
       " '₹796']"
      ]
     },
     "execution_count": 361,
     "metadata": {},
     "output_type": "execute_result"
    }
   ],
   "source": [
    "Price"
   ]
  },
  {
   "cell_type": "code",
   "execution_count": 362,
   "metadata": {},
   "outputs": [
    {
     "data": {
      "text/plain": [
       "['61% off',\n",
       " '69% off',\n",
       " '84% off',\n",
       " '85% off',\n",
       " '80% off',\n",
       " '78% off',\n",
       " '90% off',\n",
       " '30% off',\n",
       " '79% off',\n",
       " '80% off',\n",
       " '83% off',\n",
       " '83% off',\n",
       " '84% off',\n",
       " '55% off',\n",
       " '79% off',\n",
       " '88% off',\n",
       " '81% off',\n",
       " '86% off',\n",
       " '79% off',\n",
       " '77% off',\n",
       " '76% off',\n",
       " '87% off',\n",
       " '84% off',\n",
       " '55% off',\n",
       " '87% off',\n",
       " '80% off',\n",
       " '80% off',\n",
       " '85% off',\n",
       " '86% off',\n",
       " '60% off',\n",
       " '87% off',\n",
       " '87% off',\n",
       " '25% off',\n",
       " '71% off',\n",
       " '25% off',\n",
       " '30% off',\n",
       " '81% off',\n",
       " '80% off',\n",
       " '73% off',\n",
       " '57% off',\n",
       " '83% off',\n",
       " '83% off',\n",
       " '83% off',\n",
       " '76% off',\n",
       " '30% off',\n",
       " '82% off',\n",
       " '85% off',\n",
       " '87% off',\n",
       " '79% off',\n",
       " '57% off',\n",
       " '20% off',\n",
       " '76% off',\n",
       " '61% off',\n",
       " '69% off',\n",
       " '72% off',\n",
       " '30% off',\n",
       " '82% off',\n",
       " '74% off',\n",
       " '73% off',\n",
       " '63% off',\n",
       " '86% off',\n",
       " '76% off',\n",
       " '87% off',\n",
       " '77% off',\n",
       " '88% off',\n",
       " '76% off',\n",
       " '84% off',\n",
       " '88% off',\n",
       " '87% off',\n",
       " '71% off',\n",
       " '76% off',\n",
       " '85% off',\n",
       " '83% off',\n",
       " '76% off',\n",
       " '83% off',\n",
       " '81% off',\n",
       " '25% off',\n",
       " '84% off',\n",
       " '80% off',\n",
       " '57% off',\n",
       " '84% off',\n",
       " '69% off',\n",
       " '78% off',\n",
       " '85% off',\n",
       " '63% off',\n",
       " '73% off',\n",
       " '64% off',\n",
       " '80% off',\n",
       " '80% off',\n",
       " '82% off',\n",
       " '64% off',\n",
       " '85% off',\n",
       " '73% off',\n",
       " '83% off',\n",
       " '24% off',\n",
       " '83% off',\n",
       " '78% off',\n",
       " '72% off',\n",
       " '86% off',\n",
       " '60% off']"
      ]
     },
     "execution_count": 362,
     "metadata": {},
     "output_type": "execute_result"
    }
   ],
   "source": [
    "Discount"
   ]
  },
  {
   "cell_type": "code",
   "execution_count": 363,
   "metadata": {},
   "outputs": [
    {
     "name": "stdout",
     "output_type": "stream",
     "text": [
      "100 100 100 100\n"
     ]
    }
   ],
   "source": [
    "#printing length\n",
    "print(len(Brand),len(Product_Description),len(Price),len(Discount))"
   ]
  },
  {
   "cell_type": "code",
   "execution_count": 367,
   "metadata": {},
   "outputs": [],
   "source": [
    "#creating a dataframe\n",
    "\n",
    "Sunglasses=pd.DataFrame({})\n",
    "Sunglasses['Brand']=Brand\n",
    "Sunglasses['Product_Description']=Product_Description\n",
    "Sunglasses['Price']=Price\n",
    "Sunglasses['Discount']=Discount"
   ]
  },
  {
   "cell_type": "code",
   "execution_count": 368,
   "metadata": {},
   "outputs": [
    {
     "data": {
      "text/html": [
       "<div>\n",
       "<style scoped>\n",
       "    .dataframe tbody tr th:only-of-type {\n",
       "        vertical-align: middle;\n",
       "    }\n",
       "\n",
       "    .dataframe tbody tr th {\n",
       "        vertical-align: top;\n",
       "    }\n",
       "\n",
       "    .dataframe thead th {\n",
       "        text-align: right;\n",
       "    }\n",
       "</style>\n",
       "<table border=\"1\" class=\"dataframe\">\n",
       "  <thead>\n",
       "    <tr style=\"text-align: right;\">\n",
       "      <th></th>\n",
       "      <th>Brand</th>\n",
       "      <th>Product_Description</th>\n",
       "      <th>Price</th>\n",
       "      <th>Discount</th>\n",
       "    </tr>\n",
       "  </thead>\n",
       "  <tbody>\n",
       "    <tr>\n",
       "      <th>0</th>\n",
       "      <td>BULL-i</td>\n",
       "      <td>UV Protection Wayfarer Sunglasses (52)  (For B...</td>\n",
       "      <td>₹268</td>\n",
       "      <td>61% off</td>\n",
       "    </tr>\n",
       "    <tr>\n",
       "      <th>1</th>\n",
       "      <td>Royal Son</td>\n",
       "      <td>UV Protection Retro Square Sunglasses (49)  (S...</td>\n",
       "      <td>₹615</td>\n",
       "      <td>69% off</td>\n",
       "    </tr>\n",
       "    <tr>\n",
       "      <th>2</th>\n",
       "      <td>FDA COLLECTION</td>\n",
       "      <td>Gradient, Mirrored, UV Protection Round, Round...</td>\n",
       "      <td>₹199</td>\n",
       "      <td>84% off</td>\n",
       "    </tr>\n",
       "    <tr>\n",
       "      <th>3</th>\n",
       "      <td>Riffko</td>\n",
       "      <td>UV Protection Wayfarer Sunglasses (55)  (For B...</td>\n",
       "      <td>₹170</td>\n",
       "      <td>85% off</td>\n",
       "    </tr>\n",
       "    <tr>\n",
       "      <th>4</th>\n",
       "      <td>Phenomenal</td>\n",
       "      <td>UV Protection, Mirrored Retro Square Sunglasse...</td>\n",
       "      <td>₹399</td>\n",
       "      <td>80% off</td>\n",
       "    </tr>\n",
       "    <tr>\n",
       "      <th>...</th>\n",
       "      <td>...</td>\n",
       "      <td>...</td>\n",
       "      <td>...</td>\n",
       "      <td>...</td>\n",
       "    </tr>\n",
       "    <tr>\n",
       "      <th>95</th>\n",
       "      <td>David Martin</td>\n",
       "      <td>UV Protection, Gradient Round Sunglasses (50) ...</td>\n",
       "      <td>₹199</td>\n",
       "      <td>83% off</td>\n",
       "    </tr>\n",
       "    <tr>\n",
       "      <th>96</th>\n",
       "      <td>NuVew</td>\n",
       "      <td>UV Protection, Gradient Cat-eye Sunglasses (60...</td>\n",
       "      <td>₹309</td>\n",
       "      <td>78% off</td>\n",
       "    </tr>\n",
       "    <tr>\n",
       "      <th>97</th>\n",
       "      <td>Aislin</td>\n",
       "      <td>UV Protection, Gradient Cat-eye Sunglasses (58...</td>\n",
       "      <td>₹425</td>\n",
       "      <td>72% off</td>\n",
       "    </tr>\n",
       "    <tr>\n",
       "      <th>98</th>\n",
       "      <td>Tazzx</td>\n",
       "      <td>UV Protection Aviator Sunglasses (54)  (Black,...</td>\n",
       "      <td>₹267</td>\n",
       "      <td>86% off</td>\n",
       "    </tr>\n",
       "    <tr>\n",
       "      <th>99</th>\n",
       "      <td>Specsmakers</td>\n",
       "      <td>Polarized Wayfarer Sunglasses (51)  (Black)</td>\n",
       "      <td>₹796</td>\n",
       "      <td>60% off</td>\n",
       "    </tr>\n",
       "  </tbody>\n",
       "</table>\n",
       "<p>100 rows × 4 columns</p>\n",
       "</div>"
      ],
      "text/plain": [
       "              Brand                                Product_Description Price  \\\n",
       "0           BULL-i   UV Protection Wayfarer Sunglasses (52)  (For B...  ₹268   \n",
       "1        Royal Son   UV Protection Retro Square Sunglasses (49)  (S...  ₹615   \n",
       "2   FDA COLLECTION   Gradient, Mirrored, UV Protection Round, Round...  ₹199   \n",
       "3           Riffko   UV Protection Wayfarer Sunglasses (55)  (For B...  ₹170   \n",
       "4       Phenomenal   UV Protection, Mirrored Retro Square Sunglasse...  ₹399   \n",
       "..              ...                                                ...   ...   \n",
       "95    David Martin   UV Protection, Gradient Round Sunglasses (50) ...  ₹199   \n",
       "96           NuVew   UV Protection, Gradient Cat-eye Sunglasses (60...  ₹309   \n",
       "97          Aislin   UV Protection, Gradient Cat-eye Sunglasses (58...  ₹425   \n",
       "98           Tazzx   UV Protection Aviator Sunglasses (54)  (Black,...  ₹267   \n",
       "99     Specsmakers         Polarized Wayfarer Sunglasses (51)  (Black)  ₹796   \n",
       "\n",
       "   Discount  \n",
       "0   61% off  \n",
       "1   69% off  \n",
       "2   84% off  \n",
       "3   85% off  \n",
       "4   80% off  \n",
       "..      ...  \n",
       "95  83% off  \n",
       "96  78% off  \n",
       "97  72% off  \n",
       "98  86% off  \n",
       "99  60% off  \n",
       "\n",
       "[100 rows x 4 columns]"
      ]
     },
     "execution_count": 368,
     "metadata": {},
     "output_type": "execute_result"
    }
   ],
   "source": [
    "Sunglasses"
   ]
  },
  {
   "cell_type": "markdown",
   "metadata": {},
   "source": [
    "# Q7: Scrape 100 reviews data from flipkart.com for iphone11 phone."
   ]
  },
  {
   "cell_type": "code",
   "execution_count": 785,
   "metadata": {},
   "outputs": [],
   "source": [
    "#connecting to the webdriver\n",
    "driver = webdriver.Chrome(r\"C:\\Users\\saurabh\\Downloads\\chromedriver_win32\\chromedriver.exe\")"
   ]
  },
  {
   "cell_type": "code",
   "execution_count": 555,
   "metadata": {},
   "outputs": [],
   "source": [
    "#specifying the url of the webpage to be scraped\n",
    "url=\" https://www.flipkart.com/apple-iphone-11-black-64-gb-includesearpods-poweradapter/p/itm0f37c2240b217?pid=MOBFKCTSVZAXUHGR&lid=LSTMOBFKCTSVZAXUHGREPBFGI&marketplace\""
   ]
  },
  {
   "cell_type": "code",
   "execution_count": 556,
   "metadata": {},
   "outputs": [],
   "source": [
    "#opening the webpage through our driver\n",
    "driver.get(url)"
   ]
  },
  {
   "cell_type": "code",
   "execution_count": 557,
   "metadata": {},
   "outputs": [],
   "source": [
    "#clicking on all reviews\n",
    "driver.find_element_by_xpath('//*[@id=\"container\"]/div/div[3]/div[1]/div[2]/div[9]/div/div/div[5]/div/a/div/span').click()"
   ]
  },
  {
   "cell_type": "code",
   "execution_count": 558,
   "metadata": {},
   "outputs": [],
   "source": [
    "#creating empty lists\n",
    "Rating=[]\n",
    "Review_summary=[]\n",
    "Full_review=[]"
   ]
  },
  {
   "cell_type": "code",
   "execution_count": 566,
   "metadata": {},
   "outputs": [],
   "source": [
    "URL=[]\n",
    "for j in range(0,12):\n",
    "    review_tags=driver.find_elements_by_xpath(\"//nav[@class='yFHi8N']\")\n",
    "    for i in review_tags:\n",
    "        review_tags1=i.find_element_by_tag_name(\"a\")\n",
    "        URL.append(review_tags1.get_attribute('href'))\n",
    "        try:\n",
    "            driver.find_element_by_xpath('//*[@id=\"container\"]/div/div[3]/div/div/div[2]/div[13]/div/div/nav/a[11]/span').click()\n",
    "        except NoSuchElementException:\n",
    "            driver.find_element_by_xpath('//*[@id=\"container\"]/div/div[3]/div/div/div[2]/div[13]/div/div/nav/a[12]/span').click()\n",
    "        time.sleep(3)"
   ]
  },
  {
   "cell_type": "code",
   "execution_count": 567,
   "metadata": {},
   "outputs": [
    {
     "data": {
      "text/plain": [
       "['https://www.flipkart.com/apple-iphone-11-black-64-gb-includes-earpods-power-adapter/product-reviews/itm0f37c2240b217?pid=MOBFKCTSVZAXUHGR&lid=LSTMOBFKCTSVZAXUHGREPBFGI&marketplace=FLIPKART&page=1',\n",
       " 'https://www.flipkart.com/apple-iphone-11-black-64-gb-includes-earpods-power-adapter/product-reviews/itm0f37c2240b217?pid=MOBFKCTSVZAXUHGR&lid=LSTMOBFKCTSVZAXUHGREPBFGI&marketplace=FLIPKART&page=1',\n",
       " 'https://www.flipkart.com/apple-iphone-11-black-64-gb-includes-earpods-power-adapter/product-reviews/itm0f37c2240b217?pid=MOBFKCTSVZAXUHGR&lid=LSTMOBFKCTSVZAXUHGREPBFGI&marketplace=FLIPKART&page=1',\n",
       " 'https://www.flipkart.com/apple-iphone-11-black-64-gb-includes-earpods-power-adapter/product-reviews/itm0f37c2240b217?pid=MOBFKCTSVZAXUHGR&lid=LSTMOBFKCTSVZAXUHGREPBFGI&marketplace=FLIPKART&page=2',\n",
       " 'https://www.flipkart.com/apple-iphone-11-black-64-gb-includes-earpods-power-adapter/product-reviews/itm0f37c2240b217?pid=MOBFKCTSVZAXUHGR&lid=LSTMOBFKCTSVZAXUHGREPBFGI&marketplace=FLIPKART&page=3',\n",
       " 'https://www.flipkart.com/apple-iphone-11-black-64-gb-includes-earpods-power-adapter/product-reviews/itm0f37c2240b217?pid=MOBFKCTSVZAXUHGR&lid=LSTMOBFKCTSVZAXUHGREPBFGI&marketplace=FLIPKART&page=4',\n",
       " 'https://www.flipkart.com/apple-iphone-11-black-64-gb-includes-earpods-power-adapter/product-reviews/itm0f37c2240b217?pid=MOBFKCTSVZAXUHGR&lid=LSTMOBFKCTSVZAXUHGREPBFGI&marketplace=FLIPKART&page=5',\n",
       " 'https://www.flipkart.com/apple-iphone-11-black-64-gb-includes-earpods-power-adapter/product-reviews/itm0f37c2240b217?pid=MOBFKCTSVZAXUHGR&lid=LSTMOBFKCTSVZAXUHGREPBFGI&marketplace=FLIPKART&page=6',\n",
       " 'https://www.flipkart.com/apple-iphone-11-black-64-gb-includes-earpods-power-adapter/product-reviews/itm0f37c2240b217?pid=MOBFKCTSVZAXUHGR&lid=LSTMOBFKCTSVZAXUHGREPBFGI&marketplace=FLIPKART&page=7',\n",
       " 'https://www.flipkart.com/apple-iphone-11-black-64-gb-includes-earpods-power-adapter/product-reviews/itm0f37c2240b217?pid=MOBFKCTSVZAXUHGR&lid=LSTMOBFKCTSVZAXUHGREPBFGI&marketplace=FLIPKART&page=8',\n",
       " 'https://www.flipkart.com/apple-iphone-11-black-64-gb-includes-earpods-power-adapter/product-reviews/itm0f37c2240b217?pid=MOBFKCTSVZAXUHGR&lid=LSTMOBFKCTSVZAXUHGREPBFGI&marketplace=FLIPKART&page=9',\n",
       " 'https://www.flipkart.com/apple-iphone-11-black-64-gb-includes-earpods-power-adapter/product-reviews/itm0f37c2240b217?pid=MOBFKCTSVZAXUHGR&lid=LSTMOBFKCTSVZAXUHGREPBFGI&marketplace=FLIPKART&page=10']"
      ]
     },
     "execution_count": 567,
     "metadata": {},
     "output_type": "execute_result"
    }
   ],
   "source": [
    "URL"
   ]
  },
  {
   "cell_type": "code",
   "execution_count": 568,
   "metadata": {},
   "outputs": [],
   "source": [
    "List_of_url=URL[2:]"
   ]
  },
  {
   "cell_type": "code",
   "execution_count": 569,
   "metadata": {},
   "outputs": [
    {
     "data": {
      "text/plain": [
       "['https://www.flipkart.com/apple-iphone-11-black-64-gb-includes-earpods-power-adapter/product-reviews/itm0f37c2240b217?pid=MOBFKCTSVZAXUHGR&lid=LSTMOBFKCTSVZAXUHGREPBFGI&marketplace=FLIPKART&page=1',\n",
       " 'https://www.flipkart.com/apple-iphone-11-black-64-gb-includes-earpods-power-adapter/product-reviews/itm0f37c2240b217?pid=MOBFKCTSVZAXUHGR&lid=LSTMOBFKCTSVZAXUHGREPBFGI&marketplace=FLIPKART&page=2',\n",
       " 'https://www.flipkart.com/apple-iphone-11-black-64-gb-includes-earpods-power-adapter/product-reviews/itm0f37c2240b217?pid=MOBFKCTSVZAXUHGR&lid=LSTMOBFKCTSVZAXUHGREPBFGI&marketplace=FLIPKART&page=3',\n",
       " 'https://www.flipkart.com/apple-iphone-11-black-64-gb-includes-earpods-power-adapter/product-reviews/itm0f37c2240b217?pid=MOBFKCTSVZAXUHGR&lid=LSTMOBFKCTSVZAXUHGREPBFGI&marketplace=FLIPKART&page=4',\n",
       " 'https://www.flipkart.com/apple-iphone-11-black-64-gb-includes-earpods-power-adapter/product-reviews/itm0f37c2240b217?pid=MOBFKCTSVZAXUHGR&lid=LSTMOBFKCTSVZAXUHGREPBFGI&marketplace=FLIPKART&page=5',\n",
       " 'https://www.flipkart.com/apple-iphone-11-black-64-gb-includes-earpods-power-adapter/product-reviews/itm0f37c2240b217?pid=MOBFKCTSVZAXUHGR&lid=LSTMOBFKCTSVZAXUHGREPBFGI&marketplace=FLIPKART&page=6',\n",
       " 'https://www.flipkart.com/apple-iphone-11-black-64-gb-includes-earpods-power-adapter/product-reviews/itm0f37c2240b217?pid=MOBFKCTSVZAXUHGR&lid=LSTMOBFKCTSVZAXUHGREPBFGI&marketplace=FLIPKART&page=7',\n",
       " 'https://www.flipkart.com/apple-iphone-11-black-64-gb-includes-earpods-power-adapter/product-reviews/itm0f37c2240b217?pid=MOBFKCTSVZAXUHGR&lid=LSTMOBFKCTSVZAXUHGREPBFGI&marketplace=FLIPKART&page=8',\n",
       " 'https://www.flipkart.com/apple-iphone-11-black-64-gb-includes-earpods-power-adapter/product-reviews/itm0f37c2240b217?pid=MOBFKCTSVZAXUHGR&lid=LSTMOBFKCTSVZAXUHGREPBFGI&marketplace=FLIPKART&page=9',\n",
       " 'https://www.flipkart.com/apple-iphone-11-black-64-gb-includes-earpods-power-adapter/product-reviews/itm0f37c2240b217?pid=MOBFKCTSVZAXUHGR&lid=LSTMOBFKCTSVZAXUHGREPBFGI&marketplace=FLIPKART&page=10']"
      ]
     },
     "execution_count": 569,
     "metadata": {},
     "output_type": "execute_result"
    }
   ],
   "source": [
    "List_of_url"
   ]
  },
  {
   "cell_type": "code",
   "execution_count": 593,
   "metadata": {},
   "outputs": [],
   "source": [
    "#going to the first url through our driver\n",
    "driver.get(List_of_url[0])"
   ]
  },
  {
   "cell_type": "code",
   "execution_count": 596,
   "metadata": {},
   "outputs": [],
   "source": [
    "#extracting the required texts through loop\n",
    "for i in List_of_url:\n",
    "    for i in driver.find_elements_by_xpath(\"//p[@class='_2-N8zT']\"):\n",
    "        Review_summary.append(i.text)\n",
    "        \n",
    "    for j in driver.find_elements_by_xpath(\"//div[@class='_3LWZlK _1BLPMq']\"):\n",
    "        Rating.append(j.text)\n",
    "    \n",
    "    time.sleep(3)\n",
    "    #for k in driver.find_elements_by_xpath(\"//span[@class='a-size-medium a-color-base a-text-beside-button a-text-bold']\"):\n",
    "        #Full_review.append(k.text)"
   ]
  },
  {
   "cell_type": "code",
   "execution_count": 597,
   "metadata": {},
   "outputs": [
    {
     "data": {
      "text/plain": [
       "['Great product',\n",
       " 'Perfect product!',\n",
       " 'Perfect product!',\n",
       " 'Highly recommended',\n",
       " 'Perfect product!',\n",
       " 'Worth every penny',\n",
       " 'Worth every penny',\n",
       " 'Wonderful',\n",
       " 'Perfect product!',\n",
       " 'Nice product',\n",
       " 'Great product',\n",
       " 'Perfect product!',\n",
       " 'Perfect product!',\n",
       " 'Highly recommended',\n",
       " 'Perfect product!',\n",
       " 'Worth every penny',\n",
       " 'Worth every penny',\n",
       " 'Wonderful',\n",
       " 'Perfect product!',\n",
       " 'Nice product',\n",
       " 'Great product',\n",
       " 'Perfect product!',\n",
       " 'Perfect product!',\n",
       " 'Highly recommended',\n",
       " 'Perfect product!',\n",
       " 'Worth every penny',\n",
       " 'Worth every penny',\n",
       " 'Wonderful',\n",
       " 'Perfect product!',\n",
       " 'Nice product',\n",
       " 'Great product',\n",
       " 'Perfect product!',\n",
       " 'Perfect product!',\n",
       " 'Highly recommended',\n",
       " 'Perfect product!',\n",
       " 'Worth every penny',\n",
       " 'Worth every penny',\n",
       " 'Wonderful',\n",
       " 'Perfect product!',\n",
       " 'Nice product',\n",
       " 'Great product',\n",
       " 'Perfect product!',\n",
       " 'Perfect product!',\n",
       " 'Highly recommended',\n",
       " 'Perfect product!',\n",
       " 'Worth every penny',\n",
       " 'Worth every penny',\n",
       " 'Wonderful',\n",
       " 'Perfect product!',\n",
       " 'Nice product',\n",
       " 'Great product',\n",
       " 'Perfect product!',\n",
       " 'Perfect product!',\n",
       " 'Highly recommended',\n",
       " 'Perfect product!',\n",
       " 'Worth every penny',\n",
       " 'Worth every penny',\n",
       " 'Wonderful',\n",
       " 'Perfect product!',\n",
       " 'Nice product',\n",
       " 'Great product',\n",
       " 'Perfect product!',\n",
       " 'Perfect product!',\n",
       " 'Highly recommended',\n",
       " 'Perfect product!',\n",
       " 'Worth every penny',\n",
       " 'Worth every penny',\n",
       " 'Wonderful',\n",
       " 'Perfect product!',\n",
       " 'Nice product',\n",
       " 'Great product',\n",
       " 'Perfect product!',\n",
       " 'Perfect product!',\n",
       " 'Highly recommended',\n",
       " 'Perfect product!',\n",
       " 'Worth every penny',\n",
       " 'Worth every penny',\n",
       " 'Wonderful',\n",
       " 'Perfect product!',\n",
       " 'Nice product',\n",
       " 'Great product',\n",
       " 'Perfect product!',\n",
       " 'Perfect product!',\n",
       " 'Highly recommended',\n",
       " 'Perfect product!',\n",
       " 'Worth every penny',\n",
       " 'Worth every penny',\n",
       " 'Wonderful',\n",
       " 'Perfect product!',\n",
       " 'Nice product',\n",
       " 'Great product',\n",
       " 'Perfect product!',\n",
       " 'Perfect product!',\n",
       " 'Highly recommended',\n",
       " 'Perfect product!',\n",
       " 'Worth every penny',\n",
       " 'Worth every penny',\n",
       " 'Wonderful',\n",
       " 'Perfect product!',\n",
       " 'Nice product']"
      ]
     },
     "execution_count": 597,
     "metadata": {},
     "output_type": "execute_result"
    }
   ],
   "source": [
    "Review_summary"
   ]
  },
  {
   "cell_type": "code",
   "execution_count": 599,
   "metadata": {},
   "outputs": [
    {
     "data": {
      "text/plain": [
       "['5',\n",
       " '5',\n",
       " '5',\n",
       " '5',\n",
       " '5',\n",
       " '5',\n",
       " '5',\n",
       " '5',\n",
       " '5',\n",
       " '4',\n",
       " '5',\n",
       " '5',\n",
       " '5',\n",
       " '5',\n",
       " '5',\n",
       " '5',\n",
       " '5',\n",
       " '5',\n",
       " '5',\n",
       " '4',\n",
       " '5',\n",
       " '5',\n",
       " '5',\n",
       " '5',\n",
       " '5',\n",
       " '5',\n",
       " '5',\n",
       " '5',\n",
       " '5',\n",
       " '4',\n",
       " '5',\n",
       " '5',\n",
       " '5',\n",
       " '5',\n",
       " '5',\n",
       " '5',\n",
       " '5',\n",
       " '5',\n",
       " '5',\n",
       " '4',\n",
       " '5',\n",
       " '5',\n",
       " '5',\n",
       " '5',\n",
       " '5',\n",
       " '5',\n",
       " '5',\n",
       " '5',\n",
       " '5',\n",
       " '4',\n",
       " '5',\n",
       " '5',\n",
       " '5',\n",
       " '5',\n",
       " '5',\n",
       " '5',\n",
       " '5',\n",
       " '5',\n",
       " '5',\n",
       " '4',\n",
       " '5',\n",
       " '5',\n",
       " '5',\n",
       " '5',\n",
       " '5',\n",
       " '5',\n",
       " '5',\n",
       " '5',\n",
       " '5',\n",
       " '4',\n",
       " '5',\n",
       " '5',\n",
       " '5',\n",
       " '5',\n",
       " '5',\n",
       " '5',\n",
       " '5',\n",
       " '5',\n",
       " '5',\n",
       " '4',\n",
       " '5',\n",
       " '5',\n",
       " '5',\n",
       " '5',\n",
       " '5',\n",
       " '5',\n",
       " '5',\n",
       " '5',\n",
       " '5',\n",
       " '4',\n",
       " '5',\n",
       " '5',\n",
       " '5',\n",
       " '5',\n",
       " '5',\n",
       " '5',\n",
       " '5',\n",
       " '5',\n",
       " '5',\n",
       " '4']"
      ]
     },
     "execution_count": 599,
     "metadata": {},
     "output_type": "execute_result"
    }
   ],
   "source": [
    "Rating"
   ]
  },
  {
   "cell_type": "code",
   "execution_count": 791,
   "metadata": {},
   "outputs": [],
   "source": [
    "#going to the first url through our driver\n",
    "driver.get(List_of_url[0])"
   ]
  },
  {
   "cell_type": "code",
   "execution_count": 792,
   "metadata": {},
   "outputs": [],
   "source": [
    "#extracting full reviews from list of url through loops\n",
    "for r in List_of_url:\n",
    "    driver.get(r)\n",
    "    read_more_btns=driver.find_elements_by_xpath(\"//span[@class='_1BWGvX']/span\")\n",
    "    for rm in read_more_btns:\n",
    "        try:\n",
    "            rm.click()\n",
    "            for r in driver.find_elements_by_xpath(\"//div[@class='t-ZTKy']/div/div\"):\n",
    "                Full_review.append(r.text.replace(\"\\n\",\" \"))\n",
    "        except NoSuchElementException:\n",
    "            for r in driver.find_elements_by_xpath(\"//div[@class='t-ZTKy']/div/div\"):\n",
    "                Full_review.append(r.text.replace(\"\\n\",\" \"))\n",
    "    time.sleep(3)"
   ]
  },
  {
   "cell_type": "code",
   "execution_count": 793,
   "metadata": {},
   "outputs": [
    {
     "data": {
      "text/plain": [
       "['Amazing phone with great cameras and better battery which gives you the best performance. I just love the camera .',\n",
       " 'Amazing Powerful and Durable Gadget.  I’m am very happy with the camera picture quality, Amazing face id unlocked in dark room, Strong battery with perfect screen size as you can carry easily in pocket. This is my third iPhone.  I shifted from android Samsung Note series to iPhone because of the strong build quality and peace of mind for next 3-4 years.  Don’t think to much just go for it and I suggest you to go for minimum 128gb variant or more 256gb.  I’ve attached my puppy pics and no filter used just in day light capture and see the quality for comparison.',\n",
       " 'iphone 11 is a very good phone to buy only if you can compromise for the display. The display on this is device is pretty good but you can get other options with better displays in this price segment. If you can survive with an HD+ LCD panel with thicker bezels and a notch up top then this is a very good phone for you. Cameras are awesome, battery backup excellent, great performance and a decent premium look. Good job Apple !',\n",
       " 'It’s a must buy who is looking for an upgrade from previous generation of iPhones. If you are using XR then still you can hold on for sometime and upgrade to 2020 model else this phone is a must buy . Camera quality is amazing and wide angle is something to count upon. Performance wise it’s amazing and feels premium while holding in hand. So a big YES for this device. Go for 128 GB variant as the 4K videos will occupy lots of space and the storage can get over very quickly. Try to buy it with...',\n",
       " 'Value for money❤️❤️ Its awesome mobile phone in the world ... Display was very good and bright .. Trust me freinds you r never regret after Buying.. Just go for it.... I love this phone and i switch to iphone x to 11',\n",
       " 'Best budget Iphone till date ❤️ go for it guys without second thought. Let me explain you guys about Camera, Display, battery, and performance.  Camera: at this price range there is no comparison of camera, you’ll love the picture quality as well as video quality. I am a Vlogger I wanted an iPhone with 4k video by front camera and I got this phone and I am more than happy 😃  Battery: I use this phone roughly as I am active social media person and I have a youtube channel. so the battery ba...',\n",
       " 'It’s been almost a month since I have been using this phone. I upgraded from an iPhone 8. The main issue with my 8 was battery and this phone is just awesome when it comes to battery. It lasts a day and a half for me with my regular use , internet connected always with 4g Can’t move forward without saying this. Battery of this phone is a life saver when I am traveling or at work when I don’t get the option to charge Camera is superb. Front cam selfies and back cam photos are just awesome. ...',\n",
       " '*Review after 10 months of usage* Doesn\\'t seem bulky with decent touch and camera. The \"standard maintained\" quality of IPhone. Go for it, if your budget is not more enough for pro models. It\\'s a value for money among the 11 series Stereo speakers are so good, you will love the stereo sound. Battery backup is not decent but still better than Iphone 7 and 8.Processor is fast, the phone doesn\\'t lag at all even with heavy games, waterproof, faster face id and with no fingerprint scanners. The ca...',\n",
       " 'Awesome Phone. Slightly high price but worth. Better than iPhone XR. Camera is superb and wide angle camera is very clear. 12MP selfie camera is also very good. A13 Chip gives a very good and smooth performance.',\n",
       " \"Iphone is just awesome.. battery backup is very very nice.. continuously for 10 hours we can use it.camera is just awesome.. display is just fab.i love it alot..i had to wait 15 days for it as i pre ordered it..overalll it's worth the price..these all images are clicked by my iPhone..and i love it.\",\n",
       " 'Amazing phone with great cameras and better battery which gives you the best performance. I just love the camera .',\n",
       " 'Amazing Powerful and Durable Gadget.  I’m am very happy with the camera picture quality, Amazing face id unlocked in dark room, Strong battery with perfect screen size as you can carry easily in pocket. This is my third iPhone.  I shifted from android Samsung Note series to iPhone because of the strong build quality and peace of mind for next 3-4 years.  Don’t think to much just go for it and I suggest you to go for minimum 128gb variant or more 256gb.  I’ve attached my puppy pics and no filter used just in day light capture and see the quality for comparison.',\n",
       " 'iphone 11 is a very good phone to buy only if you can compromise for the display. The display on this is device is pretty good but you can get other options with better displays in this price segment. If you can survive with an HD+ LCD panel with thicker bezels and a notch up top then this is a very good phone for you. Cameras are awesome, battery backup excellent, great performance and a decent premium look. Good job Apple !',\n",
       " 'It’s a must buy who is looking for an upgrade from previous generation of iPhones. If you are using XR then still you can hold on for sometime and upgrade to 2020 model else this phone is a must buy . Camera quality is amazing and wide angle is something to count upon. Performance wise it’s amazing and feels premium while holding in hand. So a big YES for this device. Go for 128 GB variant as the 4K videos will occupy lots of space and the storage can get over very quickly. Try to buy it within some offer to get the best value for money.',\n",
       " 'Value for money❤️❤️ Its awesome mobile phone in the world ... Display was very good and bright .. Trust me freinds you r never regret after Buying.. Just go for it.... I love this phone and i switch to iphone x to 11',\n",
       " 'Best budget Iphone till date ❤️ go for it guys without second thought. Let me explain you guys about Camera, Display, battery, and performance.  Camera: at this price range there is no comparison of camera, you’ll love the picture quality as well as video quality. I am a Vlogger I wanted an iPhone with 4k video by front camera and I got this phone and I am more than happy 😃  Battery: I use this phone roughly as I am active social media person and I have a youtube channel. so the battery ba...',\n",
       " 'It’s been almost a month since I have been using this phone. I upgraded from an iPhone 8. The main issue with my 8 was battery and this phone is just awesome when it comes to battery. It lasts a day and a half for me with my regular use , internet connected always with 4g Can’t move forward without saying this. Battery of this phone is a life saver when I am traveling or at work when I don’t get the option to charge Camera is superb. Front cam selfies and back cam photos are just awesome. ...',\n",
       " '*Review after 10 months of usage* Doesn\\'t seem bulky with decent touch and camera. The \"standard maintained\" quality of IPhone. Go for it, if your budget is not more enough for pro models. It\\'s a value for money among the 11 series Stereo speakers are so good, you will love the stereo sound. Battery backup is not decent but still better than Iphone 7 and 8.Processor is fast, the phone doesn\\'t lag at all even with heavy games, waterproof, faster face id and with no fingerprint scanners. The ca...',\n",
       " 'Awesome Phone. Slightly high price but worth. Better than iPhone XR. Camera is superb and wide angle camera is very clear. 12MP selfie camera is also very good. A13 Chip gives a very good and smooth performance.',\n",
       " \"Iphone is just awesome.. battery backup is very very nice.. continuously for 10 hours we can use it.camera is just awesome.. display is just fab.i love it alot..i had to wait 15 days for it as i pre ordered it..overalll it's worth the price..these all images are clicked by my iPhone..and i love it.\",\n",
       " 'Amazing phone with great cameras and better battery which gives you the best performance. I just love the camera .',\n",
       " 'Amazing Powerful and Durable Gadget.  I’m am very happy with the camera picture quality, Amazing face id unlocked in dark room, Strong battery with perfect screen size as you can carry easily in pocket. This is my third iPhone.  I shifted from android Samsung Note series to iPhone because of the strong build quality and peace of mind for next 3-4 years.  Don’t think to much just go for it and I suggest you to go for minimum 128gb variant or more 256gb.  I’ve attached my puppy pics and no filter used just in day light capture and see the quality for comparison.',\n",
       " 'iphone 11 is a very good phone to buy only if you can compromise for the display. The display on this is device is pretty good but you can get other options with better displays in this price segment. If you can survive with an HD+ LCD panel with thicker bezels and a notch up top then this is a very good phone for you. Cameras are awesome, battery backup excellent, great performance and a decent premium look. Good job Apple !',\n",
       " 'It’s a must buy who is looking for an upgrade from previous generation of iPhones. If you are using XR then still you can hold on for sometime and upgrade to 2020 model else this phone is a must buy . Camera quality is amazing and wide angle is something to count upon. Performance wise it’s amazing and feels premium while holding in hand. So a big YES for this device. Go for 128 GB variant as the 4K videos will occupy lots of space and the storage can get over very quickly. Try to buy it within some offer to get the best value for money.',\n",
       " 'Value for money❤️❤️ Its awesome mobile phone in the world ... Display was very good and bright .. Trust me freinds you r never regret after Buying.. Just go for it.... I love this phone and i switch to iphone x to 11',\n",
       " 'Best budget Iphone till date ❤️ go for it guys without second thought. Let me explain you guys about Camera, Display, battery, and performance.  Camera: at this price range there is no comparison of camera, you’ll love the picture quality as well as video quality. I am a Vlogger I wanted an iPhone with 4k video by front camera and I got this phone and I am more than happy 😃  Battery: I use this phone roughly as I am active social media person and I have a youtube channel. so the battery backup of this phone is far far better than Iphone x and I charge this phone once in a day despite of using this roughly.   Display: don’t go on negative reviews about display. Earlier, I was using Iphone X since 1 n half years. I didn’t see any major difference in display. The display quality is superb as it’s Apple device. You can compare one plus amoled display with Iphone 11 display you’ll get to know that Iphone 11 display is much better.   Performance: the performance of this phone as same as Iphone 11 pro, there is 3 difference between Iphone 11 pro and Iphone 11. First is display, second you’ll get ultra wide angle camera in iphone 11 pro, and third is display Resolution. Except these things there is no difference and performance remains the same.  When you’ll hold this phone you’ll feel that you are holding a premium device ❤️  Like if my review helps.',\n",
       " 'It’s been almost a month since I have been using this phone. I upgraded from an iPhone 8. The main issue with my 8 was battery and this phone is just awesome when it comes to battery. It lasts a day and a half for me with my regular use , internet connected always with 4g Can’t move forward without saying this. Battery of this phone is a life saver when I am traveling or at work when I don’t get the option to charge Camera is superb. Front cam selfies and back cam photos are just awesome. ...',\n",
       " '*Review after 10 months of usage* Doesn\\'t seem bulky with decent touch and camera. The \"standard maintained\" quality of IPhone. Go for it, if your budget is not more enough for pro models. It\\'s a value for money among the 11 series Stereo speakers are so good, you will love the stereo sound. Battery backup is not decent but still better than Iphone 7 and 8.Processor is fast, the phone doesn\\'t lag at all even with heavy games, waterproof, faster face id and with no fingerprint scanners. The ca...',\n",
       " 'Awesome Phone. Slightly high price but worth. Better than iPhone XR. Camera is superb and wide angle camera is very clear. 12MP selfie camera is also very good. A13 Chip gives a very good and smooth performance.',\n",
       " \"Iphone is just awesome.. battery backup is very very nice.. continuously for 10 hours we can use it.camera is just awesome.. display is just fab.i love it alot..i had to wait 15 days for it as i pre ordered it..overalll it's worth the price..these all images are clicked by my iPhone..and i love it.\",\n",
       " 'Amazing phone with great cameras and better battery which gives you the best performance. I just love the camera .',\n",
       " 'Amazing Powerful and Durable Gadget.  I’m am very happy with the camera picture quality, Amazing face id unlocked in dark room, Strong battery with perfect screen size as you can carry easily in pocket. This is my third iPhone.  I shifted from android Samsung Note series to iPhone because of the strong build quality and peace of mind for next 3-4 years.  Don’t think to much just go for it and I suggest you to go for minimum 128gb variant or more 256gb.  I’ve attached my puppy pics and no filter used just in day light capture and see the quality for comparison.',\n",
       " 'iphone 11 is a very good phone to buy only if you can compromise for the display. The display on this is device is pretty good but you can get other options with better displays in this price segment. If you can survive with an HD+ LCD panel with thicker bezels and a notch up top then this is a very good phone for you. Cameras are awesome, battery backup excellent, great performance and a decent premium look. Good job Apple !',\n",
       " 'It’s a must buy who is looking for an upgrade from previous generation of iPhones. If you are using XR then still you can hold on for sometime and upgrade to 2020 model else this phone is a must buy . Camera quality is amazing and wide angle is something to count upon. Performance wise it’s amazing and feels premium while holding in hand. So a big YES for this device. Go for 128 GB variant as the 4K videos will occupy lots of space and the storage can get over very quickly. Try to buy it within some offer to get the best value for money.',\n",
       " 'Value for money❤️❤️ Its awesome mobile phone in the world ... Display was very good and bright .. Trust me freinds you r never regret after Buying.. Just go for it.... I love this phone and i switch to iphone x to 11',\n",
       " 'Best budget Iphone till date ❤️ go for it guys without second thought. Let me explain you guys about Camera, Display, battery, and performance.  Camera: at this price range there is no comparison of camera, you’ll love the picture quality as well as video quality. I am a Vlogger I wanted an iPhone with 4k video by front camera and I got this phone and I am more than happy 😃  Battery: I use this phone roughly as I am active social media person and I have a youtube channel. so the battery backup of this phone is far far better than Iphone x and I charge this phone once in a day despite of using this roughly.   Display: don’t go on negative reviews about display. Earlier, I was using Iphone X since 1 n half years. I didn’t see any major difference in display. The display quality is superb as it’s Apple device. You can compare one plus amoled display with Iphone 11 display you’ll get to know that Iphone 11 display is much better.   Performance: the performance of this phone as same as Iphone 11 pro, there is 3 difference between Iphone 11 pro and Iphone 11. First is display, second you’ll get ultra wide angle camera in iphone 11 pro, and third is display Resolution. Except these things there is no difference and performance remains the same.  When you’ll hold this phone you’ll feel that you are holding a premium device ❤️  Like if my review helps.',\n",
       " 'It’s been almost a month since I have been using this phone. I upgraded from an iPhone 8. The main issue with my 8 was battery and this phone is just awesome when it comes to battery. It lasts a day and a half for me with my regular use , internet connected always with 4g Can’t move forward without saying this. Battery of this phone is a life saver when I am traveling or at work when I don’t get the option to charge Camera is superb. Front cam selfies and back cam photos are just awesome. Since i came from the smaller phone category which was an iPhone 8 , I found it difficult to adjust first with the size of this phone, but after the days of usage, I got very much used to it. Watching a video or reading online is awesome with this bigger screen. I am very much happy with this upgrade I am adding few photos I have clicked. Night photography is awesome The pic in which the guy is stading was clicked at midnight 1.',\n",
       " '*Review after 10 months of usage* Doesn\\'t seem bulky with decent touch and camera. The \"standard maintained\" quality of IPhone. Go for it, if your budget is not more enough for pro models. It\\'s a value for money among the 11 series Stereo speakers are so good, you will love the stereo sound. Battery backup is not decent but still better than Iphone 7 and 8.Processor is fast, the phone doesn\\'t lag at all even with heavy games, waterproof, faster face id and with no fingerprint scanners. The ca...',\n",
       " 'Awesome Phone. Slightly high price but worth. Better than iPhone XR. Camera is superb and wide angle camera is very clear. 12MP selfie camera is also very good. A13 Chip gives a very good and smooth performance.',\n",
       " \"Iphone is just awesome.. battery backup is very very nice.. continuously for 10 hours we can use it.camera is just awesome.. display is just fab.i love it alot..i had to wait 15 days for it as i pre ordered it..overalll it's worth the price..these all images are clicked by my iPhone..and i love it.\",\n",
       " 'Amazing phone with great cameras and better battery which gives you the best performance. I just love the camera .',\n",
       " 'Amazing Powerful and Durable Gadget.  I’m am very happy with the camera picture quality, Amazing face id unlocked in dark room, Strong battery with perfect screen size as you can carry easily in pocket. This is my third iPhone.  I shifted from android Samsung Note series to iPhone because of the strong build quality and peace of mind for next 3-4 years.  Don’t think to much just go for it and I suggest you to go for minimum 128gb variant or more 256gb.  I’ve attached my puppy pics and no filter used just in day light capture and see the quality for comparison.',\n",
       " 'iphone 11 is a very good phone to buy only if you can compromise for the display. The display on this is device is pretty good but you can get other options with better displays in this price segment. If you can survive with an HD+ LCD panel with thicker bezels and a notch up top then this is a very good phone for you. Cameras are awesome, battery backup excellent, great performance and a decent premium look. Good job Apple !',\n",
       " 'It’s a must buy who is looking for an upgrade from previous generation of iPhones. If you are using XR then still you can hold on for sometime and upgrade to 2020 model else this phone is a must buy . Camera quality is amazing and wide angle is something to count upon. Performance wise it’s amazing and feels premium while holding in hand. So a big YES for this device. Go for 128 GB variant as the 4K videos will occupy lots of space and the storage can get over very quickly. Try to buy it within some offer to get the best value for money.',\n",
       " 'Value for money❤️❤️ Its awesome mobile phone in the world ... Display was very good and bright .. Trust me freinds you r never regret after Buying.. Just go for it.... I love this phone and i switch to iphone x to 11',\n",
       " 'Best budget Iphone till date ❤️ go for it guys without second thought. Let me explain you guys about Camera, Display, battery, and performance.  Camera: at this price range there is no comparison of camera, you’ll love the picture quality as well as video quality. I am a Vlogger I wanted an iPhone with 4k video by front camera and I got this phone and I am more than happy 😃  Battery: I use this phone roughly as I am active social media person and I have a youtube channel. so the battery backup of this phone is far far better than Iphone x and I charge this phone once in a day despite of using this roughly.   Display: don’t go on negative reviews about display. Earlier, I was using Iphone X since 1 n half years. I didn’t see any major difference in display. The display quality is superb as it’s Apple device. You can compare one plus amoled display with Iphone 11 display you’ll get to know that Iphone 11 display is much better.   Performance: the performance of this phone as same as Iphone 11 pro, there is 3 difference between Iphone 11 pro and Iphone 11. First is display, second you’ll get ultra wide angle camera in iphone 11 pro, and third is display Resolution. Except these things there is no difference and performance remains the same.  When you’ll hold this phone you’ll feel that you are holding a premium device ❤️  Like if my review helps.',\n",
       " 'It’s been almost a month since I have been using this phone. I upgraded from an iPhone 8. The main issue with my 8 was battery and this phone is just awesome when it comes to battery. It lasts a day and a half for me with my regular use , internet connected always with 4g Can’t move forward without saying this. Battery of this phone is a life saver when I am traveling or at work when I don’t get the option to charge Camera is superb. Front cam selfies and back cam photos are just awesome. Since i came from the smaller phone category which was an iPhone 8 , I found it difficult to adjust first with the size of this phone, but after the days of usage, I got very much used to it. Watching a video or reading online is awesome with this bigger screen. I am very much happy with this upgrade I am adding few photos I have clicked. Night photography is awesome The pic in which the guy is stading was clicked at midnight 1.',\n",
       " '*Review after 10 months of usage* Doesn\\'t seem bulky with decent touch and camera. The \"standard maintained\" quality of IPhone. Go for it, if your budget is not more enough for pro models. It\\'s a value for money among the 11 series Stereo speakers are so good, you will love the stereo sound. Battery backup is not decent but still better than Iphone 7 and 8.Processor is fast, the phone doesn\\'t lag at all even with heavy games, waterproof, faster face id and with no fingerprint scanners. The camera modes especially the Portrait modes \"studio light\" and \"stage light\", are way too good. So natural pics not filtered ones which you get with OnePlus phones. Go for it, you won\\'t be disappointed',\n",
       " 'Awesome Phone. Slightly high price but worth. Better than iPhone XR. Camera is superb and wide angle camera is very clear. 12MP selfie camera is also very good. A13 Chip gives a very good and smooth performance.',\n",
       " \"Iphone is just awesome.. battery backup is very very nice.. continuously for 10 hours we can use it.camera is just awesome.. display is just fab.i love it alot..i had to wait 15 days for it as i pre ordered it..overalll it's worth the price..these all images are clicked by my iPhone..and i love it.\",\n",
       " 'Upgraded from iphone 6 to 11 best phone for iphone users battery is much better than other iphones camera is awesome love to use it.camera is so clear in night.',\n",
       " 'I have migrated from OP 7pro... and trust me, iPhone 11 is totally worth it.. following are the reasons:- 1)there is ABSOLUTELY NO ISSUE WITH THE DISPLAY... its crisp, sharp and I found it to be much much better than OP7 pro. Netflix, Prime video all run crisply... you won’t miss a thing. True Tone works flawlessly...the display brightness is perfect. OP have not calibrated their screens properly. 2) iPhone 11 series have really good cameras... others have spoken in depth about them. 3) battery back up is fabulous 4) Screen is FLAT... Hence no accidental touches 5) ABUNDANCE OF ACCESSORY products like TEMPERED SCREEN PROTECTORS, back covers. Best is Spigen. 6) Phone is going to be updated for next 3 years at least. 7) the Face ID works fast. 8) All apps are designed better for iPhones. 9) the Phone is beautiful and people will notice.',\n",
       " 'This is my first ever I phone. Before this I was using my google nexus 5. But moving from android to iOS is a great experience. It’s worth at this price. I will highly recommend it if you want to move to iOS. The best part of this phone is it’s camera and it’s battery life. This two things have won my heart. I loved it. Happy to have it in my hand. Still exploring its features. And can’t forget to mention Flipkart service. Very prompt service and fast delivery.',\n",
       " 'Well you all know the specifications . One of a kind. Best iPhone till date. Many enhancements to the camera app with many options. Love the glass body with matte finish in the lens area on the back. Lovely colours to choose from. Best battery in an iPhone till date, enough to last more than a day in normal usage. I tested my iPhone 11 battery and lasted for than 24 hours after full charge still with 30% battery charge left. Watched movies for some time. Normal usage on calls, browsing, musi...',\n",
       " 'This will help you more. See if you are planning to buy iPhone 11. I will say. Yes. But there are some plans I just want to disclose before you buy. 1) If you are an existing iPhone X/XS/XS Max/ XR user, better you guys do not think it to buy. You guys have more or less better gadget. 2) If you are an android user and planning to buy premium phone. I will suggest them to please buy iPhone instead of buying an Android. I bet you will never go back to android after using IOS. Now I want to shar...',\n",
       " \"It's my first time to use iOS phone and I am loving my upgradation 😍😍 I love the color, I love the assebility of the phone....I need to learn more about its functionality, but as far as I have seen, it's quite easy and it has a lot of functions to work on, specially if you are a content writer or a blogger you get a lot of content creation platforms and they are really amazing.  This phone not only for good quality photography but a lot of other task too.😍💯\",\n",
       " 'The built quality is not very premium. The battery back is great . The LCD panel is not so sharp but the brightness level is very High . Camera is super duper awesome. The red colour which people think is bright is actually very soothing and excellent colour to choose from . The A13 Bionic chip is really a flagship processor and can beat any phone which even has 12 gb ram . Camera module is very great and looks very stylish.',\n",
       " 'First thanks to Flipkart for this amazing deal and phone is outstanding. I upgraded from iPhone 7 and this is like very big upgrade. But the packaging was very basic I expected a good packaging as they only wrapped one layer of bubble wrap which I don’t think is enough to protect this expensive phone. And I recommend this phone and seller as well.  And I’m posting this review after using it for 4 days.',\n",
       " 'Excellent camera, good performance, no lag. The lcd display is also good.. but difference come when we watch movie in prime and Netflix, the colours are not vibrant.. as we see in amoled display.. and the charger in box is of 5 watts.. takes more than 3 hours to charge from 0 to 100.. so guys be prepare to buy 18 watts charger . Finally I am an android user, it was my first Iapple phone, I promise u guys the iOS is so smooth.. overall the phone is damn good.... close eyes to buy it.. thanks t...',\n",
       " 'I just directly switch from iphone 6s to iphone 11 .The best premium smartphone I recommend to everyone. Excellent quality and colors the iphone have in 11 series. Camera quality is just awesome and the major feel when we hold in our hands. The sound quality and volume is also higher then the previous models. I will recommend to buy iphone 11 instead of pro models , there is nothing much difference as this model contains everything which fulfill our needs.  Only one thing that I dislike abo...',\n",
       " 'Upgraded from iphone 6 to 11 best phone for iphone users battery is much better than other iphones camera is awesome love to use it.camera is so clear in night.',\n",
       " 'I have migrated from OP 7pro... and trust me, iPhone 11 is totally worth it.. following are the reasons:- 1)there is ABSOLUTELY NO ISSUE WITH THE DISPLAY... its crisp, sharp and I found it to be much much better than OP7 pro. Netflix, Prime video all run crisply... you won’t miss a thing. True Tone works flawlessly...the display brightness is perfect. OP have not calibrated their screens properly. 2) iPhone 11 series have really good cameras... others have spoken in depth about them. 3) battery back up is fabulous 4) Screen is FLAT... Hence no accidental touches 5) ABUNDANCE OF ACCESSORY products like TEMPERED SCREEN PROTECTORS, back covers. Best is Spigen. 6) Phone is going to be updated for next 3 years at least. 7) the Face ID works fast. 8) All apps are designed better for iPhones. 9) the Phone is beautiful and people will notice.',\n",
       " 'This is my first ever I phone. Before this I was using my google nexus 5. But moving from android to iOS is a great experience. It’s worth at this price. I will highly recommend it if you want to move to iOS. The best part of this phone is it’s camera and it’s battery life. This two things have won my heart. I loved it. Happy to have it in my hand. Still exploring its features. And can’t forget to mention Flipkart service. Very prompt service and fast delivery.',\n",
       " 'Well you all know the specifications . One of a kind. Best iPhone till date. Many enhancements to the camera app with many options. Love the glass body with matte finish in the lens area on the back. Lovely colours to choose from. Best battery in an iPhone till date, enough to last more than a day in normal usage. I tested my iPhone 11 battery and lasted for than 24 hours after full charge still with 30% battery charge left. Watched movies for some time. Normal usage on calls, browsing, music , connected to WiFi most of the time, even Bluetooth is on the entire time as it is connected to my Apple Watch series 5. Love the True Tone display option . Voice control option is cool where in you can control your iPhone via voice even offline. I recommend it.',\n",
       " 'This will help you more. See if you are planning to buy iPhone 11. I will say. Yes. But there are some plans I just want to disclose before you buy. 1) If you are an existing iPhone X/XS/XS Max/ XR user, better you guys do not think it to buy. You guys have more or less better gadget. 2) If you are an android user and planning to buy premium phone. I will suggest them to please buy iPhone instead of buying an Android. I bet you will never go back to android after using IOS. Now I want to shar...',\n",
       " \"It's my first time to use iOS phone and I am loving my upgradation 😍😍 I love the color, I love the assebility of the phone....I need to learn more about its functionality, but as far as I have seen, it's quite easy and it has a lot of functions to work on, specially if you are a content writer or a blogger you get a lot of content creation platforms and they are really amazing.  This phone not only for good quality photography but a lot of other task too.😍💯\",\n",
       " 'The built quality is not very premium. The battery back is great . The LCD panel is not so sharp but the brightness level is very High . Camera is super duper awesome. The red colour which people think is bright is actually very soothing and excellent colour to choose from . The A13 Bionic chip is really a flagship processor and can beat any phone which even has 12 gb ram . Camera module is very great and looks very stylish.',\n",
       " 'First thanks to Flipkart for this amazing deal and phone is outstanding. I upgraded from iPhone 7 and this is like very big upgrade. But the packaging was very basic I expected a good packaging as they only wrapped one layer of bubble wrap which I don’t think is enough to protect this expensive phone. And I recommend this phone and seller as well.  And I’m posting this review after using it for 4 days.',\n",
       " 'Excellent camera, good performance, no lag. The lcd display is also good.. but difference come when we watch movie in prime and Netflix, the colours are not vibrant.. as we see in amoled display.. and the charger in box is of 5 watts.. takes more than 3 hours to charge from 0 to 100.. so guys be prepare to buy 18 watts charger . Finally I am an android user, it was my first Iapple phone, I promise u guys the iOS is so smooth.. overall the phone is damn good.... close eyes to buy it.. thanks t...',\n",
       " 'I just directly switch from iphone 6s to iphone 11 .The best premium smartphone I recommend to everyone. Excellent quality and colors the iphone have in 11 series. Camera quality is just awesome and the major feel when we hold in our hands. The sound quality and volume is also higher then the previous models. I will recommend to buy iphone 11 instead of pro models , there is nothing much difference as this model contains everything which fulfill our needs.  Only one thing that I dislike abo...',\n",
       " 'Upgraded from iphone 6 to 11 best phone for iphone users battery is much better than other iphones camera is awesome love to use it.camera is so clear in night.',\n",
       " 'I have migrated from OP 7pro... and trust me, iPhone 11 is totally worth it.. following are the reasons:- 1)there is ABSOLUTELY NO ISSUE WITH THE DISPLAY... its crisp, sharp and I found it to be much much better than OP7 pro. Netflix, Prime video all run crisply... you won’t miss a thing. True Tone works flawlessly...the display brightness is perfect. OP have not calibrated their screens properly. 2) iPhone 11 series have really good cameras... others have spoken in depth about them. 3) battery back up is fabulous 4) Screen is FLAT... Hence no accidental touches 5) ABUNDANCE OF ACCESSORY products like TEMPERED SCREEN PROTECTORS, back covers. Best is Spigen. 6) Phone is going to be updated for next 3 years at least. 7) the Face ID works fast. 8) All apps are designed better for iPhones. 9) the Phone is beautiful and people will notice.',\n",
       " 'This is my first ever I phone. Before this I was using my google nexus 5. But moving from android to iOS is a great experience. It’s worth at this price. I will highly recommend it if you want to move to iOS. The best part of this phone is it’s camera and it’s battery life. This two things have won my heart. I loved it. Happy to have it in my hand. Still exploring its features. And can’t forget to mention Flipkart service. Very prompt service and fast delivery.',\n",
       " 'Well you all know the specifications . One of a kind. Best iPhone till date. Many enhancements to the camera app with many options. Love the glass body with matte finish in the lens area on the back. Lovely colours to choose from. Best battery in an iPhone till date, enough to last more than a day in normal usage. I tested my iPhone 11 battery and lasted for than 24 hours after full charge still with 30% battery charge left. Watched movies for some time. Normal usage on calls, browsing, music , connected to WiFi most of the time, even Bluetooth is on the entire time as it is connected to my Apple Watch series 5. Love the True Tone display option . Voice control option is cool where in you can control your iPhone via voice even offline. I recommend it.',\n",
       " \"This will help you more. See if you are planning to buy iPhone 11. I will say. Yes. But there are some plans I just want to disclose before you buy. 1) If you are an existing iPhone X/XS/XS Max/ XR user, better you guys do not think it to buy. You guys have more or less better gadget. 2) If you are an android user and planning to buy premium phone. I will suggest them to please buy iPhone instead of buying an Android. I bet you will never go back to android after using IOS. Now I want to share my 1 week experience with iPhone 11. 1) Battery backup is 19 hours as I used it for 1 week. 2) Mind blowing Camera. Best is slow motion. 3) Very Handy. And look premium. If you have huge money then please go for Pro max. 4) Display is more or less good. Worth it because it is not Premium display and you are not paying for 11 Pro max. 5) You will love the sound when your phone is ringing. 6) Front camera is awesome and must try slow motion selfie. That's it. Should provide Fast Charging.\",\n",
       " \"It's my first time to use iOS phone and I am loving my upgradation 😍😍 I love the color, I love the assebility of the phone....I need to learn more about its functionality, but as far as I have seen, it's quite easy and it has a lot of functions to work on, specially if you are a content writer or a blogger you get a lot of content creation platforms and they are really amazing.  This phone not only for good quality photography but a lot of other task too.😍💯\",\n",
       " 'The built quality is not very premium. The battery back is great . The LCD panel is not so sharp but the brightness level is very High . Camera is super duper awesome. The red colour which people think is bright is actually very soothing and excellent colour to choose from . The A13 Bionic chip is really a flagship processor and can beat any phone which even has 12 gb ram . Camera module is very great and looks very stylish.',\n",
       " 'First thanks to Flipkart for this amazing deal and phone is outstanding. I upgraded from iPhone 7 and this is like very big upgrade. But the packaging was very basic I expected a good packaging as they only wrapped one layer of bubble wrap which I don’t think is enough to protect this expensive phone. And I recommend this phone and seller as well.  And I’m posting this review after using it for 4 days.',\n",
       " 'Excellent camera, good performance, no lag. The lcd display is also good.. but difference come when we watch movie in prime and Netflix, the colours are not vibrant.. as we see in amoled display.. and the charger in box is of 5 watts.. takes more than 3 hours to charge from 0 to 100.. so guys be prepare to buy 18 watts charger . Finally I am an android user, it was my first Iapple phone, I promise u guys the iOS is so smooth.. overall the phone is damn good.... close eyes to buy it.. thanks t...',\n",
       " 'I just directly switch from iphone 6s to iphone 11 .The best premium smartphone I recommend to everyone. Excellent quality and colors the iphone have in 11 series. Camera quality is just awesome and the major feel when we hold in our hands. The sound quality and volume is also higher then the previous models. I will recommend to buy iphone 11 instead of pro models , there is nothing much difference as this model contains everything which fulfill our needs.  Only one thing that I dislike abo...',\n",
       " 'Upgraded from iphone 6 to 11 best phone for iphone users battery is much better than other iphones camera is awesome love to use it.camera is so clear in night.',\n",
       " 'I have migrated from OP 7pro... and trust me, iPhone 11 is totally worth it.. following are the reasons:- 1)there is ABSOLUTELY NO ISSUE WITH THE DISPLAY... its crisp, sharp and I found it to be much much better than OP7 pro. Netflix, Prime video all run crisply... you won’t miss a thing. True Tone works flawlessly...the display brightness is perfect. OP have not calibrated their screens properly. 2) iPhone 11 series have really good cameras... others have spoken in depth about them. 3) battery back up is fabulous 4) Screen is FLAT... Hence no accidental touches 5) ABUNDANCE OF ACCESSORY products like TEMPERED SCREEN PROTECTORS, back covers. Best is Spigen. 6) Phone is going to be updated for next 3 years at least. 7) the Face ID works fast. 8) All apps are designed better for iPhones. 9) the Phone is beautiful and people will notice.',\n",
       " 'This is my first ever I phone. Before this I was using my google nexus 5. But moving from android to iOS is a great experience. It’s worth at this price. I will highly recommend it if you want to move to iOS. The best part of this phone is it’s camera and it’s battery life. This two things have won my heart. I loved it. Happy to have it in my hand. Still exploring its features. And can’t forget to mention Flipkart service. Very prompt service and fast delivery.',\n",
       " 'Well you all know the specifications . One of a kind. Best iPhone till date. Many enhancements to the camera app with many options. Love the glass body with matte finish in the lens area on the back. Lovely colours to choose from. Best battery in an iPhone till date, enough to last more than a day in normal usage. I tested my iPhone 11 battery and lasted for than 24 hours after full charge still with 30% battery charge left. Watched movies for some time. Normal usage on calls, browsing, music , connected to WiFi most of the time, even Bluetooth is on the entire time as it is connected to my Apple Watch series 5. Love the True Tone display option . Voice control option is cool where in you can control your iPhone via voice even offline. I recommend it.',\n",
       " \"This will help you more. See if you are planning to buy iPhone 11. I will say. Yes. But there are some plans I just want to disclose before you buy. 1) If you are an existing iPhone X/XS/XS Max/ XR user, better you guys do not think it to buy. You guys have more or less better gadget. 2) If you are an android user and planning to buy premium phone. I will suggest them to please buy iPhone instead of buying an Android. I bet you will never go back to android after using IOS. Now I want to share my 1 week experience with iPhone 11. 1) Battery backup is 19 hours as I used it for 1 week. 2) Mind blowing Camera. Best is slow motion. 3) Very Handy. And look premium. If you have huge money then please go for Pro max. 4) Display is more or less good. Worth it because it is not Premium display and you are not paying for 11 Pro max. 5) You will love the sound when your phone is ringing. 6) Front camera is awesome and must try slow motion selfie. That's it. Should provide Fast Charging.\",\n",
       " \"It's my first time to use iOS phone and I am loving my upgradation 😍😍 I love the color, I love the assebility of the phone....I need to learn more about its functionality, but as far as I have seen, it's quite easy and it has a lot of functions to work on, specially if you are a content writer or a blogger you get a lot of content creation platforms and they are really amazing.  This phone not only for good quality photography but a lot of other task too.😍💯\",\n",
       " 'The built quality is not very premium. The battery back is great . The LCD panel is not so sharp but the brightness level is very High . Camera is super duper awesome. The red colour which people think is bright is actually very soothing and excellent colour to choose from . The A13 Bionic chip is really a flagship processor and can beat any phone which even has 12 gb ram . Camera module is very great and looks very stylish.',\n",
       " 'First thanks to Flipkart for this amazing deal and phone is outstanding. I upgraded from iPhone 7 and this is like very big upgrade. But the packaging was very basic I expected a good packaging as they only wrapped one layer of bubble wrap which I don’t think is enough to protect this expensive phone. And I recommend this phone and seller as well.  And I’m posting this review after using it for 4 days.',\n",
       " 'Excellent camera, good performance, no lag. The lcd display is also good.. but difference come when we watch movie in prime and Netflix, the colours are not vibrant.. as we see in amoled display.. and the charger in box is of 5 watts.. takes more than 3 hours to charge from 0 to 100.. so guys be prepare to buy 18 watts charger . Finally I am an android user, it was my first Iapple phone, I promise u guys the iOS is so smooth.. overall the phone is damn good.... close eyes to buy it.. thanks to Flipkart to deliver this amazing genuine product on time.. at last the iPhone 11 make me smile',\n",
       " 'I just directly switch from iphone 6s to iphone 11 .The best premium smartphone I recommend to everyone. Excellent quality and colors the iphone have in 11 series. Camera quality is just awesome and the major feel when we hold in our hands. The sound quality and volume is also higher then the previous models. I will recommend to buy iphone 11 instead of pro models , there is nothing much difference as this model contains everything which fulfill our needs.  Only one thing that I dislike abo...',\n",
       " 'Upgraded from iphone 6 to 11 best phone for iphone users battery is much better than other iphones camera is awesome love to use it.camera is so clear in night.',\n",
       " 'I have migrated from OP 7pro... and trust me, iPhone 11 is totally worth it.. following are the reasons:- 1)there is ABSOLUTELY NO ISSUE WITH THE DISPLAY... its crisp, sharp and I found it to be much much better than OP7 pro. Netflix, Prime video all run crisply... you won’t miss a thing. True Tone works flawlessly...the display brightness is perfect. OP have not calibrated their screens properly. 2) iPhone 11 series have really good cameras... others have spoken in depth about them. 3) battery back up is fabulous 4) Screen is FLAT... Hence no accidental touches 5) ABUNDANCE OF ACCESSORY products like TEMPERED SCREEN PROTECTORS, back covers. Best is Spigen. 6) Phone is going to be updated for next 3 years at least. 7) the Face ID works fast. 8) All apps are designed better for iPhones. 9) the Phone is beautiful and people will notice.',\n",
       " 'This is my first ever I phone. Before this I was using my google nexus 5. But moving from android to iOS is a great experience. It’s worth at this price. I will highly recommend it if you want to move to iOS. The best part of this phone is it’s camera and it’s battery life. This two things have won my heart. I loved it. Happy to have it in my hand. Still exploring its features. And can’t forget to mention Flipkart service. Very prompt service and fast delivery.',\n",
       " 'Well you all know the specifications . One of a kind. Best iPhone till date. Many enhancements to the camera app with many options. Love the glass body with matte finish in the lens area on the back. Lovely colours to choose from. Best battery in an iPhone till date, enough to last more than a day in normal usage. I tested my iPhone 11 battery and lasted for than 24 hours after full charge still with 30% battery charge left. Watched movies for some time. Normal usage on calls, browsing, music , connected to WiFi most of the time, even Bluetooth is on the entire time as it is connected to my Apple Watch series 5. Love the True Tone display option . Voice control option is cool where in you can control your iPhone via voice even offline. I recommend it.',\n",
       " \"This will help you more. See if you are planning to buy iPhone 11. I will say. Yes. But there are some plans I just want to disclose before you buy. 1) If you are an existing iPhone X/XS/XS Max/ XR user, better you guys do not think it to buy. You guys have more or less better gadget. 2) If you are an android user and planning to buy premium phone. I will suggest them to please buy iPhone instead of buying an Android. I bet you will never go back to android after using IOS. Now I want to share my 1 week experience with iPhone 11. 1) Battery backup is 19 hours as I used it for 1 week. 2) Mind blowing Camera. Best is slow motion. 3) Very Handy. And look premium. If you have huge money then please go for Pro max. 4) Display is more or less good. Worth it because it is not Premium display and you are not paying for 11 Pro max. 5) You will love the sound when your phone is ringing. 6) Front camera is awesome and must try slow motion selfie. That's it. Should provide Fast Charging.\",\n",
       " \"It's my first time to use iOS phone and I am loving my upgradation 😍😍 I love the color, I love the assebility of the phone....I need to learn more about its functionality, but as far as I have seen, it's quite easy and it has a lot of functions to work on, specially if you are a content writer or a blogger you get a lot of content creation platforms and they are really amazing.  This phone not only for good quality photography but a lot of other task too.😍💯\",\n",
       " 'The built quality is not very premium. The battery back is great . The LCD panel is not so sharp but the brightness level is very High . Camera is super duper awesome. The red colour which people think is bright is actually very soothing and excellent colour to choose from . The A13 Bionic chip is really a flagship processor and can beat any phone which even has 12 gb ram . Camera module is very great and looks very stylish.',\n",
       " 'First thanks to Flipkart for this amazing deal and phone is outstanding. I upgraded from iPhone 7 and this is like very big upgrade. But the packaging was very basic I expected a good packaging as they only wrapped one layer of bubble wrap which I don’t think is enough to protect this expensive phone. And I recommend this phone and seller as well.  And I’m posting this review after using it for 4 days.',\n",
       " 'Excellent camera, good performance, no lag. The lcd display is also good.. but difference come when we watch movie in prime and Netflix, the colours are not vibrant.. as we see in amoled display.. and the charger in box is of 5 watts.. takes more than 3 hours to charge from 0 to 100.. so guys be prepare to buy 18 watts charger . Finally I am an android user, it was my first Iapple phone, I promise u guys the iOS is so smooth.. overall the phone is damn good.... close eyes to buy it.. thanks to Flipkart to deliver this amazing genuine product on time.. at last the iPhone 11 make me smile',\n",
       " 'I just directly switch from iphone 6s to iphone 11 .The best premium smartphone I recommend to everyone. Excellent quality and colors the iphone have in 11 series. Camera quality is just awesome and the major feel when we hold in our hands. The sound quality and volume is also higher then the previous models. I will recommend to buy iphone 11 instead of pro models , there is nothing much difference as this model contains everything which fulfill our needs.  Only one thing that I dislike about Apple that it should give fast charger for this price of the iphone',\n",
       " 'It’s an amazing product from apple and the camera is simply superb. Phone is faster.Night shot is simply superb and detailing and colour differentiation from camera is an added advantage  This review I have written from iPhone 11 only and I am glad to say outside.  Cons wise if we see HD+ display only, no battery percentage indicator as in older iPhone 8. No assistive touch control button in it No oleophobic coating on back panel glass and finger prints are visible but since I bought mint green colour I felt lucky as it won’t be visible.',\n",
       " 'Reviewing again after 5 months. At the beginning the battery and performance was good but it degraded soon. Also I was facing heating issues. The mobile will heat up like a stove sometimes. You cannot even play Pubg even in low settings properly, performance is not a problem but heating is. Also if you play that game for 10 mins the brightness will be automatically down due to over heating even when the auto brightness is set to off. This will not be solved even if u manually increase the bri...',\n",
       " 'Well while switching from android to iOS the first thing you need to be careful about is that you will loose all your whatsapp chat backups as both are different operating systems. Camera clarity is awesome and though being an lcd screen clarity and resolution is good. Battery backup is also good unlike previous gen iPhone. So far the experience is good will Padre after a few months of usage.  P.S the black is more of a dark grey shade and not jet black',\n",
       " 'In love with this iphone great performance,camera ,battery everything. Go for it have a uncompareble battery backup, no doubts in iPhone camera here You can see the picture which is shot on my iPhone In love with this iphone great performance,camera ,battery everything. Go for it have a uncompareble battery backup, no doubts in iPhone camera here You can see the picture which is shot on my iPhone In love with this iphone great performance,camera ,battery everything. Go for it have a uncompare...',\n",
       " 'The Best Phone for the Money  The iPhone 11 offers superb cameras, a more durable design and excellent battery life for an affordable price.  Compelling ultra-wide camera New Night mode is excellent Long battery life',\n",
       " 'Very excited to have this phone. This phone has the real power unlike the android phones having SD 855 . The battery life is very good and the camera quality is excellent as comapred to redmi and other phones except google pixel. I M enjoying every single bit of it. Would recommed only if you have the budget.',\n",
       " 'So far it’s been an AMAZING experience coming back to iOS after nearly a decade but it’s not as versatile as android though phone is sturdy dropped it accidentally a couple of times and nothing happened fortunately camera is awesome',\n",
       " 'What a camera .....just awesome ..you can feel this iPhone just awesome . Good for gaming also ...try pubg in hd it’s just wow',\n",
       " 'Amazing camera and feel super machine I am not describe my feeling but this is amazing Phone I am so lucky I have this',\n",
       " 'Really good actually this is my first apple product am using its really awesome performance wise excellent. Am really happy with this iphone11',\n",
       " 'It’s an amazing product from apple and the camera is simply superb. Phone is faster.Night shot is simply superb and detailing and colour differentiation from camera is an added advantage  This review I have written from iPhone 11 only and I am glad to say outside.  Cons wise if we see HD+ display only, no battery percentage indicator as in older iPhone 8. No assistive touch control button in it No oleophobic coating on back panel glass and finger prints are visible but since I bought mint green colour I felt lucky as it won’t be visible.',\n",
       " \"Reviewing again after 5 months. At the beginning the battery and performance was good but it degraded soon. Also I was facing heating issues. The mobile will heat up like a stove sometimes. You cannot even play Pubg even in low settings properly, performance is not a problem but heating is. Also if you play that game for 10 mins the brightness will be automatically down due to over heating even when the auto brightness is set to off. This will not be solved even if u manually increase the brightness. Cameras are the only saving grace. But for this cost it's not worth it. Finally not good for playing games like PubG.\",\n",
       " 'Well while switching from android to iOS the first thing you need to be careful about is that you will loose all your whatsapp chat backups as both are different operating systems. Camera clarity is awesome and though being an lcd screen clarity and resolution is good. Battery backup is also good unlike previous gen iPhone. So far the experience is good will Padre after a few months of usage.  P.S the black is more of a dark grey shade and not jet black',\n",
       " 'In love with this iphone great performance,camera ,battery everything. Go for it have a uncompareble battery backup, no doubts in iPhone camera here You can see the picture which is shot on my iPhone In love with this iphone great performance,camera ,battery everything. Go for it have a uncompareble battery backup, no doubts in iPhone camera here You can see the picture which is shot on my iPhone In love with this iphone great performance,camera ,battery everything. Go for it have a uncompare...',\n",
       " 'The Best Phone for the Money  The iPhone 11 offers superb cameras, a more durable design and excellent battery life for an affordable price.  Compelling ultra-wide camera New Night mode is excellent Long battery life',\n",
       " 'Very excited to have this phone. This phone has the real power unlike the android phones having SD 855 . The battery life is very good and the camera quality is excellent as comapred to redmi and other phones except google pixel. I M enjoying every single bit of it. Would recommed only if you have the budget.',\n",
       " 'So far it’s been an AMAZING experience coming back to iOS after nearly a decade but it’s not as versatile as android though phone is sturdy dropped it accidentally a couple of times and nothing happened fortunately camera is awesome',\n",
       " 'What a camera .....just awesome ..you can feel this iPhone just awesome . Good for gaming also ...try pubg in hd it’s just wow',\n",
       " 'Amazing camera and feel super machine I am not describe my feeling but this is amazing Phone I am so lucky I have this',\n",
       " 'Really good actually this is my first apple product am using its really awesome performance wise excellent. Am really happy with this iphone11',\n",
       " 'It’s an amazing product from apple and the camera is simply superb. Phone is faster.Night shot is simply superb and detailing and colour differentiation from camera is an added advantage  This review I have written from iPhone 11 only and I am glad to say outside.  Cons wise if we see HD+ display only, no battery percentage indicator as in older iPhone 8. No assistive touch control button in it No oleophobic coating on back panel glass and finger prints are visible but since I bought mint green colour I felt lucky as it won’t be visible.',\n",
       " \"Reviewing again after 5 months. At the beginning the battery and performance was good but it degraded soon. Also I was facing heating issues. The mobile will heat up like a stove sometimes. You cannot even play Pubg even in low settings properly, performance is not a problem but heating is. Also if you play that game for 10 mins the brightness will be automatically down due to over heating even when the auto brightness is set to off. This will not be solved even if u manually increase the brightness. Cameras are the only saving grace. But for this cost it's not worth it. Finally not good for playing games like PubG.\",\n",
       " 'Well while switching from android to iOS the first thing you need to be careful about is that you will loose all your whatsapp chat backups as both are different operating systems. Camera clarity is awesome and though being an lcd screen clarity and resolution is good. Battery backup is also good unlike previous gen iPhone. So far the experience is good will Padre after a few months of usage.  P.S the black is more of a dark grey shade and not jet black',\n",
       " 'In love with this iphone great performance,camera ,battery everything. Go for it have a uncompareble battery backup, no doubts in iPhone camera here You can see the picture which is shot on my iPhone In love with this iphone great performance,camera ,battery everything. Go for it have a uncompareble battery backup, no doubts in iPhone camera here You can see the picture which is shot on my iPhone In love with this iphone great performance,camera ,battery everything. Go for it have a uncompareble battery backup, no doubts in iPhone camera here You can see the picture which is shot on my iPhone In love with this iphone great performance,camera ,battery everything. Go for it have a uncompareble battery backup, no doubts in iPhone camera here You can see the picture which is shot on my iPhone 11',\n",
       " 'The Best Phone for the Money  The iPhone 11 offers superb cameras, a more durable design and excellent battery life for an affordable price.  Compelling ultra-wide camera New Night mode is excellent Long battery life',\n",
       " 'Very excited to have this phone. This phone has the real power unlike the android phones having SD 855 . The battery life is very good and the camera quality is excellent as comapred to redmi and other phones except google pixel. I M enjoying every single bit of it. Would recommed only if you have the budget.',\n",
       " 'So far it’s been an AMAZING experience coming back to iOS after nearly a decade but it’s not as versatile as android though phone is sturdy dropped it accidentally a couple of times and nothing happened fortunately camera is awesome',\n",
       " 'What a camera .....just awesome ..you can feel this iPhone just awesome . Good for gaming also ...try pubg in hd it’s just wow',\n",
       " 'Amazing camera and feel super machine I am not describe my feeling but this is amazing Phone I am so lucky I have this',\n",
       " 'Really good actually this is my first apple product am using its really awesome performance wise excellent. Am really happy with this iphone11',\n",
       " 'awesome phone to have. it has got many smart features apart from mind blowing looks, camera, display, battery and sound. have fallen in love with this phone. must buy phone if you have got enough money. thanks to flipkart and apple of course..',\n",
       " \"It's very high performances devise i am like the service of flipkart delevary very fast and packing very nice perfect phone\",\n",
       " 'This is my first iOS phone. I am very happy with this product. Very much satisfied with this. I love this phone.',\n",
       " 'Superb Product !!! A big and worthy upgrade from mi 3S to iphone 11 . Totally loved it !',\n",
       " 'Really worth of money. i just love it. It is the best phone ever.',\n",
       " \"Best Quality Product OF iPhone Series , Sound Quality & Camera quality is very awesome, Battery Life is very Sufficient for 24 hr Backup With Full Internet Access , I love this this Product too much , It is very fast & making me Very fast in all my daily Routine Highlights; 1.Camera: 5 STAR 2.Video Recording: 5 star 3.Night mODE sHOOTING & Camera:4 star 4. Audio Quality: Awesome 5. Battery : 5 Star 6. Touch:5 Star 7. Processor: Very Fast The Most Amazing is our Iphone Assistant Siri 's Support.\",\n",
       " 'awesome Phone Smooth Touch Too good Sexyy looks one word Awesome',\n",
       " 'Awesome purchase. Amazing phone with good battery backup. It’s a top notch device. White colour looks amazing. Phone has a few extra feature than iPhone XR. Overall, this is value for money',\n",
       " 'After 1 month use I found camera quality best compared to my previous Samsung note 10+.Display not good as note 10 also charging too slow.Apple should add fast charger like 11 plus and pro.Best phone for daily use',\n",
       " 'i11 is worthy to buy, too much happy with the product. Thank u flipkart I received the item on time..loved it..',\n",
       " 'Previously I was using one plus 3t it was a great phone And then I decided to upgrade I am stuck between Samsung s10 plus or iPhone 11 I have seen the specs and everything were good except the display it’s somewhere between 720-1080 and it’s not even an amoled it’s an LCD display But I decided to go with iPhone because I have never used an IOS device I have Been an android user from the past 9 years I ordered IPhone 11 (128gb) product red My experience after using 3 weeks 1. The delivery was on time and I came in good packaging 2. First impression were awesome the display is not as bad as it is written in the spec list it’s the high quality LCD Panel that you will get in any phone and using dark made/light mode will not make any difference since it’s an LCD panel 3. Cameras were excellent even in the night 5? I have also uploaded some sample images 4. Performance mind blowing Apple A13 chip is super fast everything is buttery smooth 5. Battery 3110 mah and the optimisation of Apple and IOS 13 you will get good battery life and you will not get fast charger out of box you have to buy this separately  The final thing I wanna say is if you are on a budget of 60-70 go for the iPhone 11 and If you have enough money go for the iPhone 11 Pro Max don’t buy the iPhone 11 Pro (My opinion) Or you can get iPhone 11 and Apple Watch series 5 with same price of 11 pro The phone is great you will not regret after buying it go for it ??',\n",
       " \"Just an awesome phone...upgraded from 6s to 11 and trust me guys it's super cool with amazing features..loved it ♥️ and a big thank you to Flipkart for delivering it in just 2 days ?\",\n",
       " 'I purchased the iPhone 11 a month back. I must say Apple has impressed me yet again . I have been an Apple user for past 5 years . The phone is power packed with amazing features . What impressed me the most was the battery backup the phone offers . Battery can easily run upto 1.5 days in single charge with moderate to Heavy usage . If you’re looking for a value for money device , I don’t see any other phone in the price range which can match the iPhone 11 . One thing I didn’t like was that ...',\n",
       " 'Excellent camera and display touching very nice and smooth very improvement against iPhone XR and new processor is very fast',\n",
       " 'The phone is completely good As far as camera Apple is king of it And its a beast in performance And the battery is pretty good too',\n",
       " 'Everything u ll like it when u use this iPhone. Simple changes only not many to lower models but it’s nice to use. Little heavy compared to previous models like 7,8',\n",
       " 'Value for money product. This iphone 11 is really amazing. Again nice release by apple. Great camera, battery backup is excellent. I just love this phone',\n",
       " 'Really satisfied with the Product I received... It’s totally genuine and the packaging was also really good so if ur planning to buy just go for it.',\n",
       " 'Battery backup is extraordinary, camera is decent & performance offered by A13 bionic is awsome. The display is good in practical usage like the visibility of display is very good in direct sun light compare to pro models. Iam extremely satisfied for the money I spent.',\n",
       " 'Well , as we all know if its not an Iphone , its not an iphone . The iphones are always beast . The camera game has been level up . The A13 Bionic is just fabulous . The update this year are certainly the camera which is damn good with d addition of wide angle lens as well as ultra wide . If anyones purchasing an iphone for the first time , do opt for the black color . Its just feels more than premium . Battery life is damn good with lasting fully a day . Overall a nice package . Well managed...',\n",
       " 'Previously I was using one plus 3t it was a great phone And then I decided to upgrade I am stuck between Samsung s10 plus or iPhone 11 I have seen the specs and everything were good except the display it’s somewhere between 720-1080 and it’s not even an amoled it’s an LCD display But I decided to go with iPhone because I have never used an IOS device I have Been an android user from the past 9 years I ordered IPhone 11 (128gb) product red My experience after using 3 weeks 1. The delivery was on time and I came in good packaging 2. First impression were awesome the display is not as bad as it is written in the spec list it’s the high quality LCD Panel that you will get in any phone and using dark made/light mode will not make any difference since it’s an LCD panel 3. Cameras were excellent even in the night 5? I have also uploaded some sample images 4. Performance mind blowing Apple A13 chip is super fast everything is buttery smooth 5. Battery 3110 mah and the optimisation of Apple and IOS 13 you will get good battery life and you will not get fast charger out of box you have to buy this separately  The final thing I wanna say is if you are on a budget of 60-70 go for the iPhone 11 and If you have enough money go for the iPhone 11 Pro Max don’t buy the iPhone 11 Pro (My opinion) Or you can get iPhone 11 and Apple Watch series 5 with same price of 11 pro The phone is great you will not regret after buying it go for it ??',\n",
       " \"Just an awesome phone...upgraded from 6s to 11 and trust me guys it's super cool with amazing features..loved it ♥️ and a big thank you to Flipkart for delivering it in just 2 days ?\",\n",
       " 'I purchased the iPhone 11 a month back. I must say Apple has impressed me yet again . I have been an Apple user for past 5 years . The phone is power packed with amazing features . What impressed me the most was the battery backup the phone offers . Battery can easily run upto 1.5 days in single charge with moderate to Heavy usage . If you’re looking for a value for money device , I don’t see any other phone in the price range which can match the iPhone 11 . One thing I didn’t like was that the charger which comes with the phone is a normal charge and not a fast charger . Special mention for flipkart as well . I got the phone writhing 12 hours of ordering . Packaging was decent and delivery was hassle free',\n",
       " 'Excellent camera and display touching very nice and smooth very improvement against iPhone XR and new processor is very fast',\n",
       " 'The phone is completely good As far as camera Apple is king of it And its a beast in performance And the battery is pretty good too',\n",
       " 'Everything u ll like it when u use this iPhone. Simple changes only not many to lower models but it’s nice to use. Little heavy compared to previous models like 7,8',\n",
       " 'Value for money product. This iphone 11 is really amazing. Again nice release by apple. Great camera, battery backup is excellent. I just love this phone',\n",
       " 'Really satisfied with the Product I received... It’s totally genuine and the packaging was also really good so if ur planning to buy just go for it.',\n",
       " 'Battery backup is extraordinary, camera is decent & performance offered by A13 bionic is awsome. The display is good in practical usage like the visibility of display is very good in direct sun light compare to pro models. Iam extremely satisfied for the money I spent.',\n",
       " 'Well , as we all know if its not an Iphone , its not an iphone . The iphones are always beast . The camera game has been level up . The A13 Bionic is just fabulous . The update this year are certainly the camera which is damn good with d addition of wide angle lens as well as ultra wide . If anyones purchasing an iphone for the first time , do opt for the black color . Its just feels more than premium . Battery life is damn good with lasting fully a day . Overall a nice package . Well managed...',\n",
       " 'Previously I was using one plus 3t it was a great phone And then I decided to upgrade I am stuck between Samsung s10 plus or iPhone 11 I have seen the specs and everything were good except the display it’s somewhere between 720-1080 and it’s not even an amoled it’s an LCD display But I decided to go with iPhone because I have never used an IOS device I have Been an android user from the past 9 years I ordered IPhone 11 (128gb) product red My experience after using 3 weeks 1. The delivery was on time and I came in good packaging 2. First impression were awesome the display is not as bad as it is written in the spec list it’s the high quality LCD Panel that you will get in any phone and using dark made/light mode will not make any difference since it’s an LCD panel 3. Cameras were excellent even in the night 5? I have also uploaded some sample images 4. Performance mind blowing Apple A13 chip is super fast everything is buttery smooth 5. Battery 3110 mah and the optimisation of Apple and IOS 13 you will get good battery life and you will not get fast charger out of box you have to buy this separately  The final thing I wanna say is if you are on a budget of 60-70 go for the iPhone 11 and If you have enough money go for the iPhone 11 Pro Max don’t buy the iPhone 11 Pro (My opinion) Or you can get iPhone 11 and Apple Watch series 5 with same price of 11 pro The phone is great you will not regret after buying it go for it ??',\n",
       " \"Just an awesome phone...upgraded from 6s to 11 and trust me guys it's super cool with amazing features..loved it ♥️ and a big thank you to Flipkart for delivering it in just 2 days ?\",\n",
       " 'I purchased the iPhone 11 a month back. I must say Apple has impressed me yet again . I have been an Apple user for past 5 years . The phone is power packed with amazing features . What impressed me the most was the battery backup the phone offers . Battery can easily run upto 1.5 days in single charge with moderate to Heavy usage . If you’re looking for a value for money device , I don’t see any other phone in the price range which can match the iPhone 11 . One thing I didn’t like was that the charger which comes with the phone is a normal charge and not a fast charger . Special mention for flipkart as well . I got the phone writhing 12 hours of ordering . Packaging was decent and delivery was hassle free',\n",
       " 'Excellent camera and display touching very nice and smooth very improvement against iPhone XR and new processor is very fast',\n",
       " 'The phone is completely good As far as camera Apple is king of it And its a beast in performance And the battery is pretty good too',\n",
       " 'Everything u ll like it when u use this iPhone. Simple changes only not many to lower models but it’s nice to use. Little heavy compared to previous models like 7,8',\n",
       " 'Value for money product. This iphone 11 is really amazing. Again nice release by apple. Great camera, battery backup is excellent. I just love this phone',\n",
       " 'Really satisfied with the Product I received... It’s totally genuine and the packaging was also really good so if ur planning to buy just go for it.',\n",
       " 'Battery backup is extraordinary, camera is decent & performance offered by A13 bionic is awsome. The display is good in practical usage like the visibility of display is very good in direct sun light compare to pro models. Iam extremely satisfied for the money I spent.',\n",
       " 'Well , as we all know if its not an Iphone , its not an iphone . The iphones are always beast . The camera game has been level up . The A13 Bionic is just fabulous . The update this year are certainly the camera which is damn good with d addition of wide angle lens as well as ultra wide . If anyones purchasing an iphone for the first time , do opt for the black color . Its just feels more than premium . Battery life is damn good with lasting fully a day . Overall a nice package . Well managed...',\n",
       " 'I use a Note10+ and have been using both iOS and Android devices.  Camera has really good features and portraits are super good, better than Samsung flagship. Overall camera setup can still be enhanced and hopeful for better upgrades on software in next release  Operating system is quite a breeze and user experience of daily usage is very high as compared to Android. I moved to iOS very swiftly in 2 days for all my office work from Note10+  Battery holds up quite well with 4 hrs of call and some light social media usage  Fast charger not available is a big let down and my Note10+ charges in 30 mins with 40% higher Battery capacity and Iphone 11 takes min of 2 hrs  Got this 128gb for under 59k with exchange and quite happy with performance',\n",
       " 'As usual a great product from Apple. but the look wise there were some scope to make it more attractive. from the back it looks nice. picture quality is awesome . face id is blazing fast. The lightning fast bionic processor makes the phone butter smooth.Battery back up is unbeatable and best of the released iPhone.full display is still missing. however, a iPhone is a iPhone. The iPhone lovers know the value of an iPhone 🙂',\n",
       " \"i was confused between 11 and 11 pro. i was going towards 11 pro, but the screen size was not enough for me. And i saw 11 in the showroom. i didn't find much difference in screen quality.And cameras seems to be ok with me. And i saw offer's in flipkart and made the purchase. the device is fabulous. The hardware and software quality is excellent. The new iOS is something you need to experience yourself. The drawback i found was absence of fast charger, but the pricing can compensate that. Am...\",\n",
       " 'Great iphone. I am writing this review after 2 months of usage. Camera is excellent, especially the nightmode Display perfect Battery backup awesome Sound quality very good Overall Apple gives you a perfect iphone in this range. Really in love with iPhone 11',\n",
       " 'Superfast delivery by Flipkart. Thanks.  1. iPhone 11 is a pretty solid phone for the money you are paying. 2. All the bad reviews about the display is confusing. It’s not that bad. 3. I switched from a Oneplus 7t. I have no complaints about the display quality of iPhone. Yes, it’s not OLED, so, we are missing on the deep blacks. But that’s it. It is a very colour accurate display. Gets adequately bright and I could not find any pixelation. 4. Performance is one of the best, if not best, in ...',\n",
       " 'I really liked the budget iPhone. First I thought display would be issue as it is a LCD with less pixels, then after using my perception changed and I never felt like I am using an outdated display. Though I also use S 10+ with Amoled display.  So this is perfect iPhone and a real value for money.',\n",
       " 'Best in class. Battery backup is good especially when you play games like Pubg COD. But it is sort of heavy when you hold in hands. Portrait mode is best to click pictures. Stage light effect is awesome. Try to click photos outside in nature because photos inside home or room will not give you the quality in any phone even in DSLR.',\n",
       " 'I’d like to start by saying that the overall experience with the iPhone 11 is super smooth and amazing in every aspect. It’s an absolute powerhouse.  Performance - The Apple A13 Bionic is super optimised. You will not face any performance issue at all. You will never have to worry about the lag on this one.  Battery - Battery life is one of the best you can get in a iPhone at this time. It’s better than the XR. Average use can get you more than a day and heavy use will get you through the da...',\n",
       " 'Can’t beat the software and hardware integration of apple. Performs like a beast. Great quality camera 6-7 hours screen on time which is good. Nothing much to complaint about the screen. Good connectivity speeds. Great buy and Flipkart’s delivery top notch as usual',\n",
       " 'I will just say its an awesome phone. Starting from speed , battery life, resolutions, camera quality, features it is superior in all department versus its predecessor. Also would like to state that at this price point it is an extraordinary value product. Recommend anyone who is looking for a highend smart phone within a range of 60k to 100K. .',\n",
       " 'I use a Note10+ and have been using both iOS and Android devices.  Camera has really good features and portraits are super good, better than Samsung flagship. Overall camera setup can still be enhanced and hopeful for better upgrades on software in next release  Operating system is quite a breeze and user experience of daily usage is very high as compared to Android. I moved to iOS very swiftly in 2 days for all my office work from Note10+  Battery holds up quite well with 4 hrs of call and some light social media usage  Fast charger not available is a big let down and my Note10+ charges in 30 mins with 40% higher Battery capacity and Iphone 11 takes min of 2 hrs  Got this 128gb for under 59k with exchange and quite happy with performance',\n",
       " 'As usual a great product from Apple. but the look wise there were some scope to make it more attractive. from the back it looks nice. picture quality is awesome . face id is blazing fast. The lightning fast bionic processor makes the phone butter smooth.Battery back up is unbeatable and best of the released iPhone.full display is still missing. however, a iPhone is a iPhone. The iPhone lovers know the value of an iPhone 🙂',\n",
       " \"i was confused between 11 and 11 pro. i was going towards 11 pro, but the screen size was not enough for me. And i saw 11 in the showroom. i didn't find much difference in screen quality.And cameras seems to be ok with me. And i saw offer's in flipkart and made the purchase. the device is fabulous. The hardware and software quality is excellent. The new iOS is something you need to experience yourself. The drawback i found was absence of fast charger, but the pricing can compensate that. Am using Mi fast charger and things are smooth. if you are more focused to an iPhone than a show off device, this is the best iphone you should purchase.\",\n",
       " 'Great iphone. I am writing this review after 2 months of usage. Camera is excellent, especially the nightmode Display perfect Battery backup awesome Sound quality very good Overall Apple gives you a perfect iphone in this range. Really in love with iPhone 11',\n",
       " 'Superfast delivery by Flipkart. Thanks.  1. iPhone 11 is a pretty solid phone for the money you are paying. 2. All the bad reviews about the display is confusing. It’s not that bad. 3. I switched from a Oneplus 7t. I have no complaints about the display quality of iPhone. Yes, it’s not OLED, so, we are missing on the deep blacks. But that’s it. It is a very colour accurate display. Gets adequately bright and I could not find any pixelation. 4. Performance is one of the best, if not best, in ...',\n",
       " 'I really liked the budget iPhone. First I thought display would be issue as it is a LCD with less pixels, then after using my perception changed and I never felt like I am using an outdated display. Though I also use S 10+ with Amoled display.  So this is perfect iPhone and a real value for money.',\n",
       " 'Best in class. Battery backup is good especially when you play games like Pubg COD. But it is sort of heavy when you hold in hands. Portrait mode is best to click pictures. Stage light effect is awesome. Try to click photos outside in nature because photos inside home or room will not give you the quality in any phone even in DSLR.',\n",
       " 'I’d like to start by saying that the overall experience with the iPhone 11 is super smooth and amazing in every aspect. It’s an absolute powerhouse.  Performance - The Apple A13 Bionic is super optimised. You will not face any performance issue at all. You will never have to worry about the lag on this one.  Battery - Battery life is one of the best you can get in a iPhone at this time. It’s better than the XR. Average use can get you more than a day and heavy use will get you through the da...',\n",
       " 'Can’t beat the software and hardware integration of apple. Performs like a beast. Great quality camera 6-7 hours screen on time which is good. Nothing much to complaint about the screen. Good connectivity speeds. Great buy and Flipkart’s delivery top notch as usual',\n",
       " 'I will just say its an awesome phone. Starting from speed , battery life, resolutions, camera quality, features it is superior in all department versus its predecessor. Also would like to state that at this price point it is an extraordinary value product. Recommend anyone who is looking for a highend smart phone within a range of 60k to 100K. .',\n",
       " 'I use a Note10+ and have been using both iOS and Android devices.  Camera has really good features and portraits are super good, better than Samsung flagship. Overall camera setup can still be enhanced and hopeful for better upgrades on software in next release  Operating system is quite a breeze and user experience of daily usage is very high as compared to Android. I moved to iOS very swiftly in 2 days for all my office work from Note10+  Battery holds up quite well with 4 hrs of call and some light social media usage  Fast charger not available is a big let down and my Note10+ charges in 30 mins with 40% higher Battery capacity and Iphone 11 takes min of 2 hrs  Got this 128gb for under 59k with exchange and quite happy with performance',\n",
       " 'As usual a great product from Apple. but the look wise there were some scope to make it more attractive. from the back it looks nice. picture quality is awesome . face id is blazing fast. The lightning fast bionic processor makes the phone butter smooth.Battery back up is unbeatable and best of the released iPhone.full display is still missing. however, a iPhone is a iPhone. The iPhone lovers know the value of an iPhone 🙂',\n",
       " \"i was confused between 11 and 11 pro. i was going towards 11 pro, but the screen size was not enough for me. And i saw 11 in the showroom. i didn't find much difference in screen quality.And cameras seems to be ok with me. And i saw offer's in flipkart and made the purchase. the device is fabulous. The hardware and software quality is excellent. The new iOS is something you need to experience yourself. The drawback i found was absence of fast charger, but the pricing can compensate that. Am using Mi fast charger and things are smooth. if you are more focused to an iPhone than a show off device, this is the best iphone you should purchase.\",\n",
       " 'Great iphone. I am writing this review after 2 months of usage. Camera is excellent, especially the nightmode Display perfect Battery backup awesome Sound quality very good Overall Apple gives you a perfect iphone in this range. Really in love with iPhone 11',\n",
       " 'Superfast delivery by Flipkart. Thanks.  1. iPhone 11 is a pretty solid phone for the money you are paying. 2. All the bad reviews about the display is confusing. It’s not that bad. 3. I switched from a Oneplus 7t. I have no complaints about the display quality of iPhone. Yes, it’s not OLED, so, we are missing on the deep blacks. But that’s it. It is a very colour accurate display. Gets adequately bright and I could not find any pixelation. 4. Performance is one of the best, if not best, in any any phone in 2019. 5. Nice cameras, solid battery life.  If you are looking for a phone in this budget, it’s the best bet for most of the people.',\n",
       " 'I really liked the budget iPhone. First I thought display would be issue as it is a LCD with less pixels, then after using my perception changed and I never felt like I am using an outdated display. Though I also use S 10+ with Amoled display.  So this is perfect iPhone and a real value for money.',\n",
       " 'Best in class. Battery backup is good especially when you play games like Pubg COD. But it is sort of heavy when you hold in hands. Portrait mode is best to click pictures. Stage light effect is awesome. Try to click photos outside in nature because photos inside home or room will not give you the quality in any phone even in DSLR.',\n",
       " 'I’d like to start by saying that the overall experience with the iPhone 11 is super smooth and amazing in every aspect. It’s an absolute powerhouse.  Performance - The Apple A13 Bionic is super optimised. You will not face any performance issue at all. You will never have to worry about the lag on this one.  Battery - Battery life is one of the best you can get in a iPhone at this time. It’s better than the XR. Average use can get you more than a day and heavy use will get you through the da...',\n",
       " 'Can’t beat the software and hardware integration of apple. Performs like a beast. Great quality camera 6-7 hours screen on time which is good. Nothing much to complaint about the screen. Good connectivity speeds. Great buy and Flipkart’s delivery top notch as usual',\n",
       " 'I will just say its an awesome phone. Starting from speed , battery life, resolutions, camera quality, features it is superior in all department versus its predecessor. Also would like to state that at this price point it is an extraordinary value product. Recommend anyone who is looking for a highend smart phone within a range of 60k to 100K. .',\n",
       " 'I use a Note10+ and have been using both iOS and Android devices.  Camera has really good features and portraits are super good, better than Samsung flagship. Overall camera setup can still be enhanced and hopeful for better upgrades on software in next release  Operating system is quite a breeze and user experience of daily usage is very high as compared to Android. I moved to iOS very swiftly in 2 days for all my office work from Note10+  Battery holds up quite well with 4 hrs of call and some light social media usage  Fast charger not available is a big let down and my Note10+ charges in 30 mins with 40% higher Battery capacity and Iphone 11 takes min of 2 hrs  Got this 128gb for under 59k with exchange and quite happy with performance',\n",
       " 'As usual a great product from Apple. but the look wise there were some scope to make it more attractive. from the back it looks nice. picture quality is awesome . face id is blazing fast. The lightning fast bionic processor makes the phone butter smooth.Battery back up is unbeatable and best of the released iPhone.full display is still missing. however, a iPhone is a iPhone. The iPhone lovers know the value of an iPhone 🙂',\n",
       " \"i was confused between 11 and 11 pro. i was going towards 11 pro, but the screen size was not enough for me. And i saw 11 in the showroom. i didn't find much difference in screen quality.And cameras seems to be ok with me. And i saw offer's in flipkart and made the purchase. the device is fabulous. The hardware and software quality is excellent. The new iOS is something you need to experience yourself. The drawback i found was absence of fast charger, but the pricing can compensate that. Am using Mi fast charger and things are smooth. if you are more focused to an iPhone than a show off device, this is the best iphone you should purchase.\",\n",
       " 'Great iphone. I am writing this review after 2 months of usage. Camera is excellent, especially the nightmode Display perfect Battery backup awesome Sound quality very good Overall Apple gives you a perfect iphone in this range. Really in love with iPhone 11',\n",
       " 'Superfast delivery by Flipkart. Thanks.  1. iPhone 11 is a pretty solid phone for the money you are paying. 2. All the bad reviews about the display is confusing. It’s not that bad. 3. I switched from a Oneplus 7t. I have no complaints about the display quality of iPhone. Yes, it’s not OLED, so, we are missing on the deep blacks. But that’s it. It is a very colour accurate display. Gets adequately bright and I could not find any pixelation. 4. Performance is one of the best, if not best, in any any phone in 2019. 5. Nice cameras, solid battery life.  If you are looking for a phone in this budget, it’s the best bet for most of the people.',\n",
       " 'I really liked the budget iPhone. First I thought display would be issue as it is a LCD with less pixels, then after using my perception changed and I never felt like I am using an outdated display. Though I also use S 10+ with Amoled display.  So this is perfect iPhone and a real value for money.',\n",
       " 'Best in class. Battery backup is good especially when you play games like Pubg COD. But it is sort of heavy when you hold in hands. Portrait mode is best to click pictures. Stage light effect is awesome. Try to click photos outside in nature because photos inside home or room will not give you the quality in any phone even in DSLR.',\n",
       " 'I’d like to start by saying that the overall experience with the iPhone 11 is super smooth and amazing in every aspect. It’s an absolute powerhouse.  Performance - The Apple A13 Bionic is super optimised. You will not face any performance issue at all. You will never have to worry about the lag on this one.  Battery - Battery life is one of the best you can get in a iPhone at this time. It’s better than the XR. Average use can get you more than a day and heavy use will get you through the day. Although I would suggest you to buy an 12W Apple charger (iPad technically). It won’t heat your iPhone much as the 18W and will get the job done.  Camera - Camera is top notch. The wide angle and night mode are amazing to click photos and they give an artistic touch to your photos. Although the front camera has a slight smoothing feature which is basically due to smart HDR that smoothens your pictures like some beauty plus application. But still the camera is amazing and one of the best in market right now.  Display - Display isn’t bad at all. Do not believe what they say go and see for yourselves. I know it’s a 820p display but if you’re coming from an OLED you will notice the difference otherwise it works fine for most of the people. You will get used to it after a few weeks and the vessels aren’t that noticeable too. Overall display is good.  Storage - I’d recommend going for the 128GB variant as the iPhone 11 is capable of capturing in 4K 60fps you’ll run out soon if you click or shoot videos regularly. 128Gb is the sweet spot for all.  Colour - Purple and Green are my favourites. I personally dig the green which is technically teal so I bought the green 128gb variant. The iPhone 11s red is not similar to XRs red. The 11s red is lighter compared to XR.  Overall - If you’re thinking to buy an iPhone I’d suggest you go for this one instead of the Pro version as the price isn’t worth it when the iPhone 11 version is getting the job done. Pro isn’t worth the money. You can keep this phone for coming 3-4 years with you considering the updates and performance.',\n",
       " 'Can’t beat the software and hardware integration of apple. Performs like a beast. Great quality camera 6-7 hours screen on time which is good. Nothing much to complaint about the screen. Good connectivity speeds. Great buy and Flipkart’s delivery top notch as usual',\n",
       " 'I will just say its an awesome phone. Starting from speed , battery life, resolutions, camera quality, features it is superior in all department versus its predecessor. Also would like to state that at this price point it is an extraordinary value product. Recommend anyone who is looking for a highend smart phone within a range of 60k to 100K. .',\n",
       " 'I was torn between the oneplus 8 pro and the iphone 11. I had to shell out extra money for this, but I say if you can afford it, this truely is the best package. Mind blowing camera, battery and overall performance. Face Id works like magic even in complete darkness without firing up the screen brightness. The phones with in display fingerprint scanners do this at night time and it really burns your eyes. I wanted the oneplus for its display but tbh the OLEDs on oneplus is really bad. Flickering and tint issues are really irritating. It doesn’t matter if its LCD, this display works like a charm. Especially if you use it at late night the screen is kind to your eyes. Many OLEDs have this issue, thats a downside no one talks about. I say go for it. You will not regret it. Cheers🤜🏻🤛🏻',\n",
       " 'Very good smartphone and value for smoother and speedy response and work',\n",
       " 'Awesome camera, smooth and fast UI, display is great (though not LED) but the black area at the top could have been reduced. Battery remains a day even if used heavily. Charger in the box is ok, but 12 or 18W could have been nothing like anything. Overall an excellent product and comfortable to use. I have got it almost a month back and so far so good.',\n",
       " 'This is very nice phone with great camera, performance, battery but their display is not good as their price overall best iphone to purchase right now',\n",
       " 'Good product nice experience with Flipkart but I am unhappy with the packaging part because such a valuable product comes under normal cover without any additional wrapping and that too for Plus customers. Expecting good Packaging in future from Sellers.',\n",
       " 'Got delivered by good packing from Flipkart with a agreed time line. Apple always stood good and great products towards their customers and this is my 2nd Iphone overall experience with phone is great, Especially when it comes battery gives long-standing performance for applications and gaming purposes, Camera is one of the great features includes in this mobile  I will strongly suggest this !',\n",
       " 'Good buy.. working perfectly !  That was upgrade from 6S to 11. I see no deference in both the phones except: 1. Battery performance 2. Camera quality 3. Face detection unlock  Go for it..!',\n",
       " 'Quite osm more then expected . Purple color truly recommended its lookin so beautiful then others .Someone suggest me and have selected the same color its beautiful.   Performance is far better then my last i phone',\n",
       " 'Excellent service by Flipkart. The phone is true value for money, the camera is great especially the low light night photography. The processor is fast making gaming a lot of fun. I read a lot of negative reviews about the display but I was using a OnePlus before and somehow the iphone 11 display is more easy on the eyes and the adaptive brightness is more effective than any of the other phones that I have used. Charging is a bit slow owing to the smaller charger included in the box inste...',\n",
       " 'It’s a quiet good for new users. And I’m happy with it. Thanks apple and Flipkart too. 😊♥️',\n",
       " 'I was torn between the oneplus 8 pro and the iphone 11. I had to shell out extra money for this, but I say if you can afford it, this truely is the best package. Mind blowing camera, battery and overall performance. Face Id works like magic even in complete darkness without firing up the screen brightness. The phones with in display fingerprint scanners do this at night time and it really burns your eyes. I wanted the oneplus for its display but tbh the OLEDs on oneplus is really bad. Flickering and tint issues are really irritating. It doesn’t matter if its LCD, this display works like a charm. Especially if you use it at late night the screen is kind to your eyes. Many OLEDs have this issue, thats a downside no one talks about. I say go for it. You will not regret it. Cheers🤜🏻🤛🏻',\n",
       " 'Very good smartphone and value for smoother and speedy response and work',\n",
       " 'Awesome camera, smooth and fast UI, display is great (though not LED) but the black area at the top could have been reduced. Battery remains a day even if used heavily. Charger in the box is ok, but 12 or 18W could have been nothing like anything. Overall an excellent product and comfortable to use. I have got it almost a month back and so far so good.',\n",
       " 'This is very nice phone with great camera, performance, battery but their display is not good as their price overall best iphone to purchase right now',\n",
       " 'Good product nice experience with Flipkart but I am unhappy with the packaging part because such a valuable product comes under normal cover without any additional wrapping and that too for Plus customers. Expecting good Packaging in future from Sellers.',\n",
       " 'Got delivered by good packing from Flipkart with a agreed time line. Apple always stood good and great products towards their customers and this is my 2nd Iphone overall experience with phone is great, Especially when it comes battery gives long-standing performance for applications and gaming purposes, Camera is one of the great features includes in this mobile  I will strongly suggest this !',\n",
       " 'Good buy.. working perfectly !  That was upgrade from 6S to 11. I see no deference in both the phones except: 1. Battery performance 2. Camera quality 3. Face detection unlock  Go for it..!',\n",
       " 'Quite osm more then expected . Purple color truly recommended its lookin so beautiful then others .Someone suggest me and have selected the same color its beautiful.   Performance is far better then my last i phone',\n",
       " \"Excellent service by Flipkart. The phone is true value for money, the camera is great especially the low light night photography. The processor is fast making gaming a lot of fun. I read a lot of negative reviews about the display but I was using a OnePlus before and somehow the iphone 11 display is more easy on the eyes and the adaptive brightness is more effective than any of the other phones that I have used. Charging is a bit slow owing to the smaller charger included in the box instead of the 18w fast charger but the long battery life compensates for it. My phone is giving me approximately 8hrs of screen time on a 90% charge. Over-all it's a good buy.\",\n",
       " 'It’s a quiet good for new users. And I’m happy with it. Thanks apple and Flipkart too. 😊♥️',\n",
       " 'My first iPhone. Still wondering where was I lost all this while. Always thought that an iPhone is just to pricey and not worth its cost. Trust me, I didn’t regret once for this mighty purchase. It is a different ecosystem all together and I have become an Apple fan instantly. Now all my gadgets ought to be Apple. Just seamless, timeless, super smooth, flamboyant, style statement, and the list is endless. The back camera is worth the hype not the selfie camera. Sound quality is surround sound, battery works 1.5 days with 4 hours of on screen time. After 15 days of usage, more than just satisfied with Apple. Kudos to Flipkart for genuinely fast delivery.',\n",
       " 'PROS: 1. Ballistic performance 2. Amazing image quality from the camera setup 3. Superb battery performance, 4. Design 5. Fit and finish. 6. iOS 13 integration with the hardware. CONS: 1. Display quality leaves a lot to be desired. The non-1080p display is hardly noticeable during regular usage and is more than a pass. But if you are someone who use their phone for a majority of video playback, you’re in for a disappointment. Otherwise, it’s perfect for every other need. 2. The overall s...',\n",
       " 'iPhone 11 is good but if someone want Superior phone then go for 11 pro because screen display is too good from iPhone 11 and as well as camera quality',\n",
       " 'Everything good as expected from Apple, but only thing thing missing is the 18w power adapter, because if the phone is compatible for fast charging and it takes more than 3 hours for full charge on a normal charger then it should come bundled with the 18w adapter.',\n",
       " 'The only issue is the unavailability of fast charging adapter in the box. It really takes a hell lotta time to get 100%. Apart from that.. it really is a premium smart phone. One can easily fall in love with the fast and efficient performance.',\n",
       " 'Great product as usual. Handy phone with best processor and camera quality in the market. Recommended 128GB storage 👍',\n",
       " 'It’s being awesome to buy an apple product simply awesome first time use so don’t know that much about device still apple clearly wins from android.🤓',\n",
       " 'excellent mobile phone with amazing feautures. 100% value for money.The greatest attribute was its battery(all day long usage). dont hesitate to buy. Only difference between 11pro and 11 is display and its telescope lens remaining all are same',\n",
       " 'Most powerful phone you can buy in 2019, Best Camera, Great Battery life, Decent Display, close your eyes and buy this ultimate phone, you’ll never regret it’s a complete package.',\n",
       " 'impressive super phone and best in class camera ,sound and face unlock is super fast just see and phone is unlock and fast in daily apps use',\n",
       " 'My first iPhone. Still wondering where was I lost all this while. Always thought that an iPhone is just to pricey and not worth its cost. Trust me, I didn’t regret once for this mighty purchase. It is a different ecosystem all together and I have become an Apple fan instantly. Now all my gadgets ought to be Apple. Just seamless, timeless, super smooth, flamboyant, style statement, and the list is endless. The back camera is worth the hype not the selfie camera. Sound quality is surround sound, battery works 1.5 days with 4 hours of on screen time. After 15 days of usage, more than just satisfied with Apple. Kudos to Flipkart for genuinely fast delivery.',\n",
       " 'PROS: 1. Ballistic performance 2. Amazing image quality from the camera setup 3. Superb battery performance, 4. Design 5. Fit and finish. 6. iOS 13 integration with the hardware. CONS: 1. Display quality leaves a lot to be desired. The non-1080p display is hardly noticeable during regular usage and is more than a pass. But if you are someone who use their phone for a majority of video playback, you’re in for a disappointment. Otherwise, it’s perfect for every other need. 2. The overall size and weight of the device is a tad too bulky for my preference. 3. That pathetic 5W charger. Less said the better. Get yourself that 18W ASAP.',\n",
       " 'iPhone 11 is good but if someone want Superior phone then go for 11 pro because screen display is too good from iPhone 11 and as well as camera quality',\n",
       " 'Everything good as expected from Apple, but only thing thing missing is the 18w power adapter, because if the phone is compatible for fast charging and it takes more than 3 hours for full charge on a normal charger then it should come bundled with the 18w adapter.',\n",
       " 'The only issue is the unavailability of fast charging adapter in the box. It really takes a hell lotta time to get 100%. Apart from that.. it really is a premium smart phone. One can easily fall in love with the fast and efficient performance.',\n",
       " 'Great product as usual. Handy phone with best processor and camera quality in the market. Recommended 128GB storage 👍',\n",
       " 'It’s being awesome to buy an apple product simply awesome first time use so don’t know that much about device still apple clearly wins from android.🤓',\n",
       " 'excellent mobile phone with amazing feautures. 100% value for money.The greatest attribute was its battery(all day long usage). dont hesitate to buy. Only difference between 11pro and 11 is display and its telescope lens remaining all are same',\n",
       " 'Most powerful phone you can buy in 2019, Best Camera, Great Battery life, Decent Display, close your eyes and buy this ultimate phone, you’ll never regret it’s a complete package.',\n",
       " 'impressive super phone and best in class camera ,sound and face unlock is super fast just see and phone is unlock and fast in daily apps use',\n",
       " 'it is very good at performance. Camera is best like before and very smooth response even in water. Don’t buy 12 mini buy iPhone 11 , it is far better than 12 mini believe me ! Have a nice day \\uf8ff ☺️',\n",
       " 'Worth the money’ starting first from its performance it beats out all phones , second the smoothness of camera is awesome, contrast ratio is much than expected. Price will not matter if u r a quality person, if not other phones are available with better discount',\n",
       " 'Just go for it without a second thought, if you are looking for a best phone in the market and want to save 40k to not go for iPhone 11 pro, the only thing i think this product is feel missing is Oled display software do the job of portrait, so go for it rather than 11 pro. Everything is at top with this phone. I am writing this review after using this phone for more than 2 months.',\n",
       " \"no complaint against the display it's very crisp , though it is not the OLED but if you put side by side and compare with iPhone xs you hardly notice any difference , i noticed the brightness because 11 has 600 nits compare to 1200 nits on xs . other wise you never feel that its a 720 p display. very very good quality LCD screen you can't compare with any other LCD screen it's far better than any other LCD screen available in market. battery is very impressive , and Love the sound of stereo speakers very loud and clear. this is my first iOS phone and i AM very happy with it, last but not the least the camera it's awesome specifically in night you don't believe that how good quality pictures it's can take. at this price point don't hesitate to buy just by go and grab it.\",\n",
       " 'Its Very awesome product working and good camera quality and all about best product and also flipkart is very great deal and offer nice price',\n",
       " 'This is phone is super duper sexy. You will get in love with this phone the moment you will unbox it. Performance is awesome. So smooth, easy to handle. Sometimes, if working continuously, you will feel that the phone is heavy otherwise you won’t if worked for shorter period of time. I would personally suggest you to go for 128GB version because it will be a true value for money. Talking about colour, I find white colour as a royal one.',\n",
       " \"I got this beast today. And I must say the picture quality of its camera is awesome. Both the cameras works fine.  As for as the processing is concerned, it runs without any lag. You can play and do whatever you want without a glitch.  The battery runs for a day with medium and high workload.  The display is good and the speakers are working fine.  The earphones doesn't have any base and you can use it for calling mostly.  The charging time is approximately for 90 minutes for full charging...\",\n",
       " 'finally an iPhone with very nice battery backup. update from iPhone 7 and happy to have it. camera is not up to the mark in low light but overall a recommended phone if your budget allows 😀',\n",
       " 'Seller - SuperComNet ( my trust in you has grown deeper. Thanks for the genuine product ) The package came packed perfectly. The box was sealed which gave me a big relief.  Apple needs no introduction since its the dominant market player. I just love the way how IPhone 11 stands out so boldly. The moment I took it out from the box, I could feel the premium intensity. The body is remarkable and crafted for giving you a elite vibe.  Camera is to die for. There is no other phone that can beat...',\n",
       " 'Have used both iPhone X and iPhone XR and I can say upgrade only if you want better camera it’s awesome with great display even though lcd but still better than oled on iPhone X or XS. The camera is huge improvement in low light and very nice improvement in less light and times better than iPhone X but not that big improvement on iPhone XR in day light but very big improvement in low light.',\n",
       " 'it is very good at performance. Camera is best like before and very smooth response even in water. Don’t buy 12 mini buy iPhone 11 , it is far better than 12 mini believe me ! Have a nice day \\uf8ff ☺️',\n",
       " 'Worth the money’ starting first from its performance it beats out all phones , second the smoothness of camera is awesome, contrast ratio is much than expected. Price will not matter if u r a quality person, if not other phones are available with better discount',\n",
       " 'Just go for it without a second thought, if you are looking for a best phone in the market and want to save 40k to not go for iPhone 11 pro, the only thing i think this product is feel missing is Oled display software do the job of portrait, so go for it rather than 11 pro. Everything is at top with this phone. I am writing this review after using this phone for more than 2 months.',\n",
       " \"no complaint against the display it's very crisp , though it is not the OLED but if you put side by side and compare with iPhone xs you hardly notice any difference , i noticed the brightness because 11 has 600 nits compare to 1200 nits on xs . other wise you never feel that its a 720 p display. very very good quality LCD screen you can't compare with any other LCD screen it's far better than any other LCD screen available in market. battery is very impressive , and Love the sound of stereo speakers very loud and clear. this is my first iOS phone and i AM very happy with it, last but not the least the camera it's awesome specifically in night you don't believe that how good quality pictures it's can take. at this price point don't hesitate to buy just by go and grab it.\",\n",
       " 'Its Very awesome product working and good camera quality and all about best product and also flipkart is very great deal and offer nice price',\n",
       " 'This is phone is super duper sexy. You will get in love with this phone the moment you will unbox it. Performance is awesome. So smooth, easy to handle. Sometimes, if working continuously, you will feel that the phone is heavy otherwise you won’t if worked for shorter period of time. I would personally suggest you to go for 128GB version because it will be a true value for money. Talking about colour, I find white colour as a royal one.',\n",
       " \"I got this beast today. And I must say the picture quality of its camera is awesome. Both the cameras works fine.  As for as the processing is concerned, it runs without any lag. You can play and do whatever you want without a glitch.  The battery runs for a day with medium and high workload.  The display is good and the speakers are working fine.  The earphones doesn't have any base and you can use it for calling mostly.  The charging time is approximately for 90 minutes for full charging. Hope you enjoy by review.\",\n",
       " 'finally an iPhone with very nice battery backup. update from iPhone 7 and happy to have it. camera is not up to the mark in low light but overall a recommended phone if your budget allows 😀',\n",
       " 'Seller - SuperComNet ( my trust in you has grown deeper. Thanks for the genuine product ) The package came packed perfectly. The box was sealed which gave me a big relief.  Apple needs no introduction since its the dominant market player. I just love the way how IPhone 11 stands out so boldly. The moment I took it out from the box, I could feel the premium intensity. The body is remarkable and crafted for giving you a elite vibe.  Camera is to die for. There is no other phone that can beat...',\n",
       " 'Have used both iPhone X and iPhone XR and I can say upgrade only if you want better camera it’s awesome with great display even though lcd but still better than oled on iPhone X or XS. The camera is huge improvement in low light and very nice improvement in less light and times better than iPhone X but not that big improvement on iPhone XR in day light but very big improvement in low light.',\n",
       " 'it is very good at performance. Camera is best like before and very smooth response even in water. Don’t buy 12 mini buy iPhone 11 , it is far better than 12 mini believe me ! Have a nice day \\uf8ff ☺️',\n",
       " 'Worth the money’ starting first from its performance it beats out all phones , second the smoothness of camera is awesome, contrast ratio is much than expected. Price will not matter if u r a quality person, if not other phones are available with better discount',\n",
       " 'Just go for it without a second thought, if you are looking for a best phone in the market and want to save 40k to not go for iPhone 11 pro, the only thing i think this product is feel missing is Oled display software do the job of portrait, so go for it rather than 11 pro. Everything is at top with this phone. I am writing this review after using this phone for more than 2 months.',\n",
       " \"no complaint against the display it's very crisp , though it is not the OLED but if you put side by side and compare with iPhone xs you hardly notice any difference , i noticed the brightness because 11 has 600 nits compare to 1200 nits on xs . other wise you never feel that its a 720 p display. very very good quality LCD screen you can't compare with any other LCD screen it's far better than any other LCD screen available in market. battery is very impressive , and Love the sound of stereo speakers very loud and clear. this is my first iOS phone and i AM very happy with it, last but not the least the camera it's awesome specifically in night you don't believe that how good quality pictures it's can take. at this price point don't hesitate to buy just by go and grab it.\",\n",
       " 'Its Very awesome product working and good camera quality and all about best product and also flipkart is very great deal and offer nice price',\n",
       " 'This is phone is super duper sexy. You will get in love with this phone the moment you will unbox it. Performance is awesome. So smooth, easy to handle. Sometimes, if working continuously, you will feel that the phone is heavy otherwise you won’t if worked for shorter period of time. I would personally suggest you to go for 128GB version because it will be a true value for money. Talking about colour, I find white colour as a royal one.',\n",
       " \"I got this beast today. And I must say the picture quality of its camera is awesome. Both the cameras works fine.  As for as the processing is concerned, it runs without any lag. You can play and do whatever you want without a glitch.  The battery runs for a day with medium and high workload.  The display is good and the speakers are working fine.  The earphones doesn't have any base and you can use it for calling mostly.  The charging time is approximately for 90 minutes for full charging. Hope you enjoy by review.\",\n",
       " 'finally an iPhone with very nice battery backup. update from iPhone 7 and happy to have it. camera is not up to the mark in low light but overall a recommended phone if your budget allows 😀',\n",
       " 'Seller - SuperComNet ( my trust in you has grown deeper. Thanks for the genuine product ) The package came packed perfectly. The box was sealed which gave me a big relief.  Apple needs no introduction since its the dominant market player. I just love the way how IPhone 11 stands out so boldly. The moment I took it out from the box, I could feel the premium intensity. The body is remarkable and crafted for giving you a elite vibe.  Camera is to die for. There is no other phone that can beat Apple in terms of its processor and the camera. Just flawless. Highly recommend.',\n",
       " 'Have used both iPhone X and iPhone XR and I can say upgrade only if you want better camera it’s awesome with great display even though lcd but still better than oled on iPhone X or XS. The camera is huge improvement in low light and very nice improvement in less light and times better than iPhone X but not that big improvement on iPhone XR in day light but very big improvement in low light.',\n",
       " 'The phone is awesome undoubtedly and worth the purchase .  I had preordered it from Flipkart, but this time I am little disappointed with the packaging from Flipkart . I had preordered iPhone 7 Plus too but that time the packaging was excellent but didn’t get the same experience this time .... hence rating it a little low. Flipkart should have packed it better as it’s worth is much more .... Expecting betterment next time ...',\n",
       " 'Iphone 11 black 64gb is really a cool phone  1. Camera is superb using it long time heats the phone a bit 2. iOS 13 is elegant and nice 3. Video yet to test 4. Charger : Phone has the capability to fast charge but charger is not capable of doing it which frustrates being a top brand and providing and charger like this is worst from Apple 5. Sound quality especially in headphones is wonderful',\n",
       " \"Got mobile @56,990 on 8 oct 2020 when all other platforms were selling iPhone 11 for more than 65k. Thank you Flipkart for bank offer and great discount. Also mobile is delivered under 15 hrs from order. Screen is LCD but won't matter much, and little bit bulky. No Problem phone or you can say Default IPhone for all. I'm using ios devices for last 6 years and this piece is best in every Aspect (using ios 14). No camera comparison with other smartphone in this range. Night mode also works best, and Portraits filter with bokeh effect are at it's best. If you are an IPhone lover this must be your Default iPhone.\",\n",
       " 'Kudos to flipkart, delivered well in time. Phone itself is fab but donot expect any power adapter or headphones inside like apple 12 series. I didnot know that.',\n",
       " \"If I consider it just as a smartphone, it's pretty expensive. Have to admit that I payed a lot of money just for the brand. I understand people use apple products for years and if we consider the time span the phone is also worth for the money. But, there are also phones available under 10k and runs for years. Yes, it is true. Buy, this phone only if you want to show others how much you earn, otherwise it's nothing but just a smartphone like others are.\",\n",
       " \"It is iPhone. There isn't much I could say about the phone that isn't out there already. If you get a good deal including discount or offer on any card, just go for it. Only one major drawback, it comes with 5V basic charging which is a big let down.  From Flipkart POV, the delivery was on time, the product was in proper condition so there is no reason for anything less than 5 star.\",\n",
       " \"It's a great phone. From camera to display everything is best for the price. Best camera , best performance. I think everyone should buy it . This phone has best battery life so far in iphone series which I had used earlier. Happy to have it. Thanks Flipkart\",\n",
       " 'Iphone is best ever but Flipkart delivered is quality on the product is so promising i really satisfied and trust with it by Flipkart assured Tq..🥰',\n",
       " 'I have been using android from last 9 years and this is my first iPhone and they are good camera multitasking games even display is great though an lcd panel but colours are rich and vibrant.  One liner - A premium device with all features. 🙂',\n",
       " 'Works seamlessly, I get an avg 1.5 days battery life with moderate usage. Can’t really notice the low resolution LCD of this phone until you compare it with an AMOLed screen. Usually heats up 10 to 30% when doing high intensive tasks. Camera is no doubt at par with the flagship phones with good low light captures compared to iPhone 8. Overall iPhone 11 is better choice unless you want top notch camera and screen.']"
      ]
     },
     "execution_count": 793,
     "metadata": {},
     "output_type": "execute_result"
    }
   ],
   "source": [
    "Full_review"
   ]
  },
  {
   "cell_type": "markdown",
   "metadata": {},
   "source": [
    "# Q8: Scrape data for first 100 sneakers you find when you visit flipkart.com and search for “sneakers” in the search field."
   ]
  },
  {
   "cell_type": "code",
   "execution_count": 641,
   "metadata": {},
   "outputs": [],
   "source": [
    "#connecting to the webdriver\n",
    "driver = webdriver.Chrome(r\"C:\\Users\\saurabh\\Downloads\\chromedriver_win32\\chromedriver.exe\")"
   ]
  },
  {
   "cell_type": "code",
   "execution_count": 644,
   "metadata": {},
   "outputs": [],
   "source": [
    "#specifying the url of the webpage to be scraped\n",
    "url=\"https://www.flipkart.com/\""
   ]
  },
  {
   "cell_type": "code",
   "execution_count": 659,
   "metadata": {},
   "outputs": [],
   "source": [
    "#opening the webpage through our driver\n",
    "driver.get(url)"
   ]
  },
  {
   "cell_type": "code",
   "execution_count": 660,
   "metadata": {},
   "outputs": [],
   "source": [
    "#interacting with the webpage\n",
    "driver.find_element_by_xpath('//*[@id=\"container\"]/div/div[1]/div[1]/div[2]/div[2]/form/div/div/input').send_keys(\"sneakers\")\n",
    "driver.find_element_by_xpath('//*[@id=\"container\"]/div/div[1]/div[1]/div[2]/div[2]/form/div/button').click()"
   ]
  },
  {
   "cell_type": "code",
   "execution_count": 661,
   "metadata": {},
   "outputs": [],
   "source": [
    "#creating the empty lists\n",
    "Brand=[]\n",
    "Product_Description=[]\n",
    "Price=[]\n",
    "Discount=[]"
   ]
  },
  {
   "cell_type": "code",
   "execution_count": 662,
   "metadata": {},
   "outputs": [],
   "source": [
    "#getting the list of url of first 100 sneakers\n",
    "URL=[]\n",
    "for i in range(0,4):\n",
    "    sneakers=driver.find_elements_by_xpath(\"//a[@class='IRpwTa']\")\n",
    "    for i in sneakers:\n",
    "        URL.append(i.get_attribute('href'))\n",
    "    driver.find_element_by_xpath('//*[@id=\"container\"]/div/div[3]/div[2]/div[1]/div[2]/div[12]/div/div/nav/a[11]').click()\n",
    "    time.sleep(3)"
   ]
  },
  {
   "cell_type": "code",
   "execution_count": 663,
   "metadata": {},
   "outputs": [
    {
     "data": {
      "text/plain": [
       "['https://www.flipkart.com/chevit-combo-pack-4-casual-sneakers-men/p/itmfg2ybzgeygd6t?pid=SHOFGY97JGZTBRHY&lid=LSTSHOFGY97JGZTBRHYNP5E5F&marketplace=FLIPKART&srno=s_1_1&otracker=search&otracker1=search&fm=SEARCH&iid=ce343a6c-0c6d-4dea-9102-cedcb4792579.SHOFGY97JGZTBRHY.SEARCH&ppt=sp&ppn=sp&ssid=jwrjb3cj800000001611328363509&qH=a1743c0d39461290',\n",
       " 'https://www.flipkart.com/world-wear-footwear-combo-pack-4-latest-collection-stylish-casual-loafer-sneakers-shoes-men/p/itm4d7438636eeaa?pid=SHOFZYY2HTUKFGCB&lid=LSTSHOFZYY2HTUKFGCBMWD0RN&marketplace=FLIPKART&srno=s_1_2&otracker=search&otracker1=search&fm=SEARCH&iid=ce343a6c-0c6d-4dea-9102-cedcb4792579.SHOFZYY2HTUKFGCB.SEARCH&ppt=sp&ppn=sp&ssid=jwrjb3cj800000001611328363509&qH=a1743c0d39461290',\n",
       " 'https://www.flipkart.com/robbie-jones-casual-sneakers-shoes-men/p/itm5ee18096b212e?pid=SHOFVJG9EFVZTH9C&lid=LSTSHOFVJG9EFVZTH9C9MIMKJ&marketplace=FLIPKART&srno=s_1_3&otracker=search&otracker1=search&fm=SEARCH&iid=ce343a6c-0c6d-4dea-9102-cedcb4792579.SHOFVJG9EFVZTH9C.SEARCH&ppt=sp&ppn=sp&ssid=jwrjb3cj800000001611328363509&qH=a1743c0d39461290',\n",
       " 'https://www.flipkart.com/chevit-171-smart-tan-lace-ups-casuals-men-sneakers/p/itm388814db0265d?pid=SHOFZD3ZBEQMFH9S&lid=LSTSHOFZD3ZBEQMFH9SVQQRA3&marketplace=FLIPKART&srno=s_1_4&otracker=search&otracker1=search&fm=SEARCH&iid=ce343a6c-0c6d-4dea-9102-cedcb4792579.SHOFZD3ZBEQMFH9S.SEARCH&ppt=sp&ppn=sp&ssid=jwrjb3cj800000001611328363509&qH=a1743c0d39461290',\n",
       " 'https://www.flipkart.com/oricum-combo-pack-2-casual-sneaker-shoes-men-sneakers/p/itma5aedefdee8eb?pid=SHOFQ4KHZZTYGGHX&lid=LSTSHOFQ4KHZZTYGGHXSGBGMF&marketplace=FLIPKART&srno=s_1_5&otracker=search&otracker1=search&fm=SEARCH&iid=ce343a6c-0c6d-4dea-9102-cedcb4792579.SHOFQ4KHZZTYGGHX.SEARCH&ppt=sp&ppn=sp&ssid=jwrjb3cj800000001611328363509&qH=a1743c0d39461290',\n",
       " 'https://www.flipkart.com/chevit-lightweight-combo-pack-02-trendy-sneakers-casuals-men-s-red-yellow-men/p/itm95c046a0abf45?pid=SHOFU8FFSUG8VEKM&lid=LSTSHOFU8FFSUG8VEKMYWJMNO&marketplace=FLIPKART&srno=s_1_6&otracker=search&otracker1=search&fm=SEARCH&iid=ce343a6c-0c6d-4dea-9102-cedcb4792579.SHOFU8FFSUG8VEKM.SEARCH&ppt=sp&ppn=sp&ssid=jwrjb3cj800000001611328363509&qH=a1743c0d39461290',\n",
       " 'https://www.flipkart.com/restinfoot-casual-shoes-sneakers-men-s-shoes-men-s-sneakers-men/p/itmfeuvtqzmpswx7?pid=SHOFEUP9BHCGGXHZ&lid=LSTSHOFEUP9BHCGGXHZ6YCK87&marketplace=FLIPKART&srno=s_1_7&otracker=search&otracker1=search&fm=SEARCH&iid=ce343a6c-0c6d-4dea-9102-cedcb4792579.SHOFEUP9BHCGGXHZ.SEARCH&ppt=sp&ppn=sp&ssid=jwrjb3cj800000001611328363509&qH=a1743c0d39461290',\n",
       " 'https://www.flipkart.com/aura-stylish-comfortable-sneakers-men/p/itmf6hbrgpzb38jk?pid=SHOF6M2NMFSGABP8&lid=LSTSHOF6M2NMFSGABP8MFGLUL&marketplace=FLIPKART&srno=s_1_8&otracker=search&otracker1=search&fm=SEARCH&iid=ce343a6c-0c6d-4dea-9102-cedcb4792579.SHOF6M2NMFSGABP8.SEARCH&ppt=sp&ppn=sp&ssid=jwrjb3cj800000001611328363509&qH=a1743c0d39461290',\n",
       " 'https://www.flipkart.com/clymb-sneakers-men/p/itm32870366df132?pid=SHOFYBDUF8EYHJZM&lid=LSTSHOFYBDUF8EYHJZM58WZHL&marketplace=FLIPKART&srno=s_1_9&otracker=search&otracker1=search&fm=SEARCH&iid=ce343a6c-0c6d-4dea-9102-cedcb4792579.SHOFYBDUF8EYHJZM.SEARCH&ppt=sp&ppn=sp&ssid=jwrjb3cj800000001611328363509&qH=a1743c0d39461290',\n",
       " 'https://www.flipkart.com/shoes-bank-white-sneaker-men-s-boy-s-sneakers-men/p/itmf9p2zdypz2jyt?pid=SHOF9Z76CZH9CXE8&lid=LSTSHOF9Z76CZH9CXE8VEXKFM&marketplace=FLIPKART&srno=s_1_11&otracker=search&otracker1=search&fm=SEARCH&iid=ce343a6c-0c6d-4dea-9102-cedcb4792579.SHOF9Z76CZH9CXE8.SEARCH&ppt=sp&ppn=sp&ssid=jwrjb3cj800000001611328363509&qH=a1743c0d39461290',\n",
       " 'https://www.flipkart.com/armado-casual-shoes-mens-combo-ar-1658-1619-multicolor-pack-2-sneakers-men/p/itm91d58a7e3a586?pid=SHOFY86GWDQPKZX2&lid=LSTSHOFY86GWDQPKZX2PZGZUD&marketplace=FLIPKART&srno=s_1_12&otracker=search&otracker1=search&fm=SEARCH&iid=ce343a6c-0c6d-4dea-9102-cedcb4792579.SHOFY86GWDQPKZX2.SEARCH&ppt=sp&ppn=sp&ssid=jwrjb3cj800000001611328363509&qH=a1743c0d39461290',\n",
       " 'https://www.flipkart.com/chevit-smart-casuals-canvas-shoes-combo-pack-2-sneakers-men/p/itm34f5fdc69a149?pid=SHOFZWYJY2XWTCHN&lid=LSTSHOFZWYJY2XWTCHNCA9CZZ&marketplace=FLIPKART&srno=s_1_13&otracker=search&otracker1=search&fm=SEARCH&iid=ce343a6c-0c6d-4dea-9102-cedcb4792579.SHOFZWYJY2XWTCHN.SEARCH&ppt=sp&ppn=sp&ssid=jwrjb3cj800000001611328363509&qH=a1743c0d39461290',\n",
       " 'https://www.flipkart.com/chevit-168-smart-red-lace-ups-casuals-men-sneakers/p/itm5c134759c0c78?pid=SHOFZD8F3XGYZWSB&lid=LSTSHOFZD8F3XGYZWSBICFOES&marketplace=FLIPKART&srno=s_1_14&otracker=search&otracker1=search&fm=SEARCH&iid=ce343a6c-0c6d-4dea-9102-cedcb4792579.SHOFZD8F3XGYZWSB.SEARCH&ppt=sp&ppn=sp&ssid=jwrjb3cj800000001611328363509&qH=a1743c0d39461290',\n",
       " 'https://www.flipkart.com/chevit-170-smart-grey-lace-ups-casuals-men-sneakers/p/itm043eca6a9ed89?pid=SHOFZD4JSWKZGBF5&lid=LSTSHOFZD4JSWKZGBF5DFQTST&marketplace=FLIPKART&srno=s_1_16&otracker=search&otracker1=search&fm=SEARCH&iid=ce343a6c-0c6d-4dea-9102-cedcb4792579.SHOFZD4JSWKZGBF5.SEARCH&ppt=sp&ppn=sp&ssid=jwrjb3cj800000001611328363509&qH=a1743c0d39461290',\n",
       " 'https://www.flipkart.com/chevit-super-445-fashion-sneakers-men/p/itm66119bb8aece9?pid=SHOFYAT7HUFHBTBE&lid=LSTSHOFYAT7HUFHBTBELSIG7O&marketplace=FLIPKART&srno=s_1_19&otracker=search&otracker1=search&fm=SEARCH&iid=ce343a6c-0c6d-4dea-9102-cedcb4792579.SHOFYAT7HUFHBTBE.SEARCH&ppt=sp&ppn=sp&ssid=jwrjb3cj800000001611328363509&qH=a1743c0d39461290',\n",
       " 'https://www.flipkart.com/red-rose-sneakers-men/p/itmfhp7pq4earagj?pid=SHOFHP3PPQZAA6V5&lid=LSTSHOFHP3PPQZAA6V5WPZLIW&marketplace=FLIPKART&srno=s_1_20&otracker=search&otracker1=search&fm=SEARCH&iid=ce343a6c-0c6d-4dea-9102-cedcb4792579.SHOFHP3PPQZAA6V5.SEARCH&ppt=sp&ppn=sp&ssid=jwrjb3cj800000001611328363509&qH=a1743c0d39461290',\n",
       " 'https://www.flipkart.com/adidas-easy-vulc-2-0-sneakers-men/p/itmfhwp9f5bkbh4g?pid=SHOFU43P2JGPXFHP&lid=LSTSHOFU43P2JGPXFHPBXVUMB&marketplace=FLIPKART&spotlightTagId=TrendingId_osp%2Fcil%2Fe1f&srno=s_1_21&otracker=search&otracker1=search&fm=SEARCH&iid=ce343a6c-0c6d-4dea-9102-cedcb4792579.SHOFU43P2JGPXFHP.SEARCH&ppt=sp&ppn=sp&ssid=jwrjb3cj800000001611328363509&qH=a1743c0d39461290',\n",
       " 'https://www.flipkart.com/scatchite-sneakers-men/p/itmc13680b1d9604?pid=SHOFUDSUHXHE67UG&lid=LSTSHOFUDSUHXHE67UGSXKTQ1&marketplace=FLIPKART&srno=s_1_22&otracker=search&otracker1=search&fm=SEARCH&iid=ce343a6c-0c6d-4dea-9102-cedcb4792579.SHOFUDSUHXHE67UG.SEARCH&ppt=sp&ppn=sp&ssid=jwrjb3cj800000001611328363509&qH=a1743c0d39461290',\n",
       " 'https://www.flipkart.com/kraasa-casuals-canvas-partywear-sneakers-men/p/itm3b6ebb856eb64?pid=SHOFGGF7GVP9C2Q6&lid=LSTSHOFGGF7GVP9C2Q6ZXHY8F&marketplace=FLIPKART&srno=s_1_23&otracker=search&otracker1=search&fm=SEARCH&iid=ce343a6c-0c6d-4dea-9102-cedcb4792579.SHOFGGF7GVP9C2Q6.SEARCH&ppt=sp&ppn=sp&ssid=jwrjb3cj800000001611328363509&qH=a1743c0d39461290',\n",
       " 'https://www.flipkart.com/rockfield-sneakers-men/p/itm2b9ef0a76236b?pid=SHOFVTURVVNXRCGD&lid=LSTSHOFVTURVVNXRCGD5PK34N&marketplace=FLIPKART&srno=s_1_25&otracker=search&otracker1=search&fm=SEARCH&iid=ce343a6c-0c6d-4dea-9102-cedcb4792579.SHOFVTURVVNXRCGD.SEARCH&ppt=sp&ppn=sp&ssid=jwrjb3cj800000001611328363509&qH=a1743c0d39461290',\n",
       " 'https://www.flipkart.com/t-rock-synthetic-leather-casual-partywear-wedding-sneakers-shoes-men/p/itmfhkz7qghnktdg?pid=SHOFHKH6THADSSXU&lid=LSTSHOFHKH6THADSSXUCAWIPU&marketplace=FLIPKART&srno=s_1_26&otracker=search&otracker1=search&fm=SEARCH&iid=ce343a6c-0c6d-4dea-9102-cedcb4792579.SHOFHKH6THADSSXU.SEARCH&ppt=sp&ppn=sp&ssid=jwrjb3cj800000001611328363509&qH=a1743c0d39461290',\n",
       " 'https://www.flipkart.com/world-wear-footwear-5011-latest-collection-stylish-casual-loafer-sneakers-shoes-men/p/itm01930e5430e12?pid=SHOFMY6NYMGEHRHX&lid=LSTSHOFMY6NYMGEHRHXHXJBPN&marketplace=FLIPKART&srno=s_1_27&otracker=search&otracker1=search&fm=SEARCH&iid=ce343a6c-0c6d-4dea-9102-cedcb4792579.SHOFMY6NYMGEHRHX.SEARCH&ppt=sp&ppn=sp&ssid=jwrjb3cj800000001611328363509&qH=a1743c0d39461290',\n",
       " 'https://www.flipkart.com/believe-sneakers-men-black-10-men/p/itmfdyhg8ezwgav9?pid=SHOFDXWHZS9KV99F&lid=LSTSHOFDXWHZS9KV99FKF1OXJ&marketplace=FLIPKART&srno=s_1_28&otracker=search&otracker1=search&fm=SEARCH&iid=ce343a6c-0c6d-4dea-9102-cedcb4792579.SHOFDXWHZS9KV99F.SEARCH&ppt=sp&ppn=sp&ssid=jwrjb3cj800000001611328363509&qH=a1743c0d39461290',\n",
       " 'https://www.flipkart.com/alfiya-shoes-black-color-party-wear-outshoes-wear-outdoor-casual-men-black-door-casual-running-black-sneakers/p/itm687d633f0f63f?pid=SHOFTMQ6MZTD62XJ&lid=LSTSHOFTMQ6MZTD62XJOIC7BU&marketplace=FLIPKART&srno=s_1_29&otracker=search&otracker1=search&fm=SEARCH&iid=ce343a6c-0c6d-4dea-9102-cedcb4792579.SHOFTMQ6MZTD62XJ.SEARCH&ppt=sp&ppn=sp&ssid=jwrjb3cj800000001611328363509&qH=a1743c0d39461290',\n",
       " 'https://www.flipkart.com/chevit-lightweight-combo-pack-02-trendy-casuals-sneakers-men/p/itmd99fa6b3bc55c?pid=SHOFWFZ6HGHHGWES&lid=LSTSHOFWFZ6HGHHGWESC47REZ&marketplace=FLIPKART&srno=s_1_30&otracker=search&otracker1=search&fm=SEARCH&iid=ce343a6c-0c6d-4dea-9102-cedcb4792579.SHOFWFZ6HGHHGWES.SEARCH&ppt=sp&ppn=sp&ssid=jwrjb3cj800000001611328363509&qH=a1743c0d39461290',\n",
       " 'https://www.flipkart.com/essence-sneakers-men/p/itmf7txcbzh4emnr?pid=SHOF7TS7HN4YMWD7&lid=LSTSHOF7TS7HN4YMWD7MC73PZ&marketplace=FLIPKART&srno=s_1_31&otracker=search&otracker1=search&fm=SEARCH&iid=ce343a6c-0c6d-4dea-9102-cedcb4792579.SHOF7TS7HN4YMWD7.SEARCH&ppt=sp&ppn=sp&ssid=jwrjb3cj800000001611328363509&qH=a1743c0d39461290',\n",
       " 'https://www.flipkart.com/sparx-sm-322-sneakers-men/p/itmf27234d02f4d7?pid=SHOFFTAEYYZU6ZDX&lid=LSTSHOFFTAEYYZU6ZDXWH6ANH&marketplace=FLIPKART&srno=s_1_32&otracker=search&otracker1=search&fm=SEARCH&iid=ce343a6c-0c6d-4dea-9102-cedcb4792579.SHOFFTAEYYZU6ZDX.SEARCH&ppt=sp&ppn=sp&ssid=jwrjb3cj800000001611328363509&qH=a1743c0d39461290',\n",
       " 'https://www.flipkart.com/axter-combo-pack-2-latest-collection-stylish-casual-loafer-sneakers-shoes-men/p/itm370f1a4b95164?pid=SHOFN3ZBNGY2Q9C2&lid=LSTSHOFN3ZBNGY2Q9C2FJARWE&marketplace=FLIPKART&srno=s_1_33&otracker=search&otracker1=search&fm=SEARCH&iid=ce343a6c-0c6d-4dea-9102-cedcb4792579.SHOFN3ZBNGY2Q9C2.SEARCH&ppt=sp&ppn=sp&ssid=jwrjb3cj800000001611328363509&qH=a1743c0d39461290',\n",
       " 'https://www.flipkart.com/airland-shoe-sneakers-men/p/itm1afbf93d2e019?pid=SHOFZ37YEQPE4ZG9&lid=LSTSHOFZ37YEQPE4ZG98YACHE&marketplace=FLIPKART&srno=s_1_34&otracker=search&otracker1=search&fm=SEARCH&iid=ce343a6c-0c6d-4dea-9102-cedcb4792579.SHOFZ37YEQPE4ZG9.SEARCH&ppt=sp&ppn=sp&ssid=jwrjb3cj800000001611328363509&qH=a1743c0d39461290',\n",
       " 'https://www.flipkart.com/armado-shoes-mens-combo-ar-1645-1621-multicolor-pack-2-sneakers-men/p/itm6f5c79ff267b5?pid=SHOFY8SWGHTFP9J6&lid=LSTSHOFY8SWGHTFP9J6HTCB1F&marketplace=FLIPKART&srno=s_1_35&otracker=search&otracker1=search&fm=SEARCH&iid=ce343a6c-0c6d-4dea-9102-cedcb4792579.SHOFY8SWGHTFP9J6.SEARCH&ppt=sp&ppn=sp&ssid=jwrjb3cj800000001611328363509&qH=a1743c0d39461290',\n",
       " 'https://www.flipkart.com/rockfield-sneakers-men/p/itmdf791eab3a1e0?pid=SHOFKPYZMVC8ABC4&lid=LSTSHOFKPYZMVC8ABC4MFOZSO&marketplace=FLIPKART&srno=s_1_36&otracker=search&otracker1=search&fm=SEARCH&iid=ce343a6c-0c6d-4dea-9102-cedcb4792579.SHOFKPYZMVC8ABC4.SEARCH&ppt=sp&ppn=sp&ssid=jwrjb3cj800000001611328363509&qH=a1743c0d39461290',\n",
       " 'https://www.flipkart.com/chevit-smart-casuals-canvas-shoes-combo-pack-2-sneakers-men/p/itmccdf09b32e155?pid=SHOFZWYJP2ZEM3YE&lid=LSTSHOFZWYJP2ZEM3YEFUMLDS&marketplace=FLIPKART&srno=s_1_37&otracker=search&otracker1=search&fm=SEARCH&iid=ce343a6c-0c6d-4dea-9102-cedcb4792579.SHOFZWYJP2ZEM3YE.SEARCH&ppt=sp&ppn=sp&ssid=jwrjb3cj800000001611328363509&qH=a1743c0d39461290',\n",
       " 'https://www.flipkart.com/robbie-jones-casual-sneakers-black-shoes-men/p/itm24381c8c53d77?pid=SHOFXU3SQAMZVS6N&lid=LSTSHOFXU3SQAMZVS6NV2CTO8&marketplace=FLIPKART&srno=s_1_38&otracker=search&otracker1=search&fm=SEARCH&iid=ce343a6c-0c6d-4dea-9102-cedcb4792579.SHOFXU3SQAMZVS6N.SEARCH&ppt=sp&ppn=sp&ssid=jwrjb3cj800000001611328363509&qH=a1743c0d39461290',\n",
       " 'https://www.flipkart.com/magnolia-white-sneakers-men/p/itmf7n8d9pspsdvp?pid=SHOF7NYRUSGVHDYU&lid=LSTSHOF7NYRUSGVHDYUFU7LNU&marketplace=FLIPKART&srno=s_1_39&otracker=search&otracker1=search&fm=SEARCH&iid=ce343a6c-0c6d-4dea-9102-cedcb4792579.SHOF7NYRUSGVHDYU.SEARCH&ppt=sp&ppn=sp&ssid=jwrjb3cj800000001611328363509&qH=a1743c0d39461290',\n",
       " 'https://www.flipkart.com/bluemaker-casual-men-blue-06-sneakers/p/itm3f838f669177a?pid=SHOFUSH75ABRTZMY&lid=LSTSHOFUSH75ABRTZMY8H410M&marketplace=FLIPKART&srno=s_1_40&otracker=search&otracker1=search&fm=SEARCH&iid=ce343a6c-0c6d-4dea-9102-cedcb4792579.SHOFUSH75ABRTZMY.SEARCH&ppt=sp&ppn=sp&ssid=jwrjb3cj800000001611328363509&qH=a1743c0d39461290',\n",
       " 'https://www.flipkart.com/numenzo-sneakers-men/p/itm072bfb0c5e869?pid=SHOFZ4RGEGXFYHY9&lid=LSTSHOFZ4RGEGXFYHY9UPNWTY&marketplace=FLIPKART&srno=s_2_41&otracker=search&otracker1=search&fm=SEARCH&iid=9170ee26-06c2-4764-8c72-15c707540bed.SHOFZ4RGEGXFYHY9.SEARCH&ppt=sp&ppn=sp&ssid=jwrjb3cj800000001611328363509&qH=a1743c0d39461290',\n",
       " 'https://www.flipkart.com/shoefly-combo-men-pack-2-loafers-shoes-sneakers/p/itmfg7hatpwyccy4?pid=SHOFG7FKPVZHBF3F&lid=LSTSHOFG7FKPVZHBF3FMRDXLA&marketplace=FLIPKART&srno=s_2_42&otracker=search&otracker1=search&fm=SEARCH&iid=9170ee26-06c2-4764-8c72-15c707540bed.SHOFG7FKPVZHBF3F.SEARCH&ppt=sp&ppn=sp&ssid=jwrjb3cj800000001611328363509&qH=a1743c0d39461290',\n",
       " 'https://www.flipkart.com/red-rose-sneakers-men/p/itmf78bw3sbybtcv?pid=SHOF786PTMSSZBW6&lid=LSTSHOF786PTMSSZBW6BIWMWX&marketplace=FLIPKART&srno=s_2_43&otracker=search&otracker1=search&fm=SEARCH&iid=9170ee26-06c2-4764-8c72-15c707540bed.SHOF786PTMSSZBW6.SEARCH&ppt=sp&ppn=sp&ssid=jwrjb3cj800000001611328363509&qH=a1743c0d39461290',\n",
       " 'https://www.flipkart.com/shoefly-combo-men-pack-2-loafers-shoes-sneakers/p/itmfg7cyzzzega7z?pid=SHOFG7FHAN4RCEGW&lid=LSTSHOFG7FHAN4RCEGWHFGGK9&marketplace=FLIPKART&srno=s_2_44&otracker=search&otracker1=search&fm=SEARCH&iid=9170ee26-06c2-4764-8c72-15c707540bed.SHOFG7FHAN4RCEGW.SEARCH&ppt=sp&ppn=sp&ssid=jwrjb3cj800000001611328363509&qH=a1743c0d39461290',\n",
       " 'https://www.flipkart.com/bruton-combo-pack-5-casual-sneakers-men/p/itm4f67bbbc7f3d0?pid=SHOFKCNSG457GMZ4&lid=LSTSHOFKCNSG457GMZ4SVQ0YU&marketplace=FLIPKART&srno=s_2_45&otracker=search&otracker1=search&fm=SEARCH&iid=9170ee26-06c2-4764-8c72-15c707540bed.SHOFKCNSG457GMZ4.SEARCH&ppt=sp&ppn=sp&ssid=jwrjb3cj800000001611328363509&qH=a1743c0d39461290',\n",
       " 'https://www.flipkart.com/chevit-169-smart-sky-blue-lace-ups-casuals-men-sneakers/p/itme43a672b33ab2?pid=SHOFZD3NZUF6MGYC&lid=LSTSHOFZD3NZUF6MGYCTCDUOY&marketplace=FLIPKART&srno=s_2_46&otracker=search&otracker1=search&fm=SEARCH&iid=9170ee26-06c2-4764-8c72-15c707540bed.SHOFZD3NZUF6MGYC.SEARCH&ppt=sp&ppn=sp&ssid=jwrjb3cj800000001611328363509&qH=a1743c0d39461290',\n",
       " 'https://www.flipkart.com/asteroid-feather-print-new-spring-season-white-shoes-men-running-flat-pu-sneakers-male-board-sports-outdoor-shoes/p/itmde45e29aa3f71?pid=SHOFUZUJKJBFUPYP&lid=LSTSHOFUZUJKJBFUPYP7OXUFB&marketplace=FLIPKART&srno=s_2_47&otracker=search&otracker1=search&fm=SEARCH&iid=9170ee26-06c2-4764-8c72-15c707540bed.SHOFUZUJKJBFUPYP.SEARCH&ppt=sp&ppn=sp&ssid=jwrjb3cj800000001611328363509&qH=a1743c0d39461290',\n",
       " 'https://www.flipkart.com/world-wear-footwear-combo-pack-2-latest-collection-stylish-casual-sports-sneakers-men/p/itm2787d30a17a0a?pid=SHOFZRGWHZPSHYZ5&lid=LSTSHOFZRGWHZPSHYZ5QGW6L0&marketplace=FLIPKART&srno=s_2_48&otracker=search&otracker1=search&fm=SEARCH&iid=9170ee26-06c2-4764-8c72-15c707540bed.SHOFZRGWHZPSHYZ5.SEARCH&ppt=sp&ppn=sp&ssid=jwrjb3cj800000001611328363509&qH=a1743c0d39461290',\n",
       " 'https://www.flipkart.com/shoefly-combo-men-pack-2-loafers-shoes-sneakers/p/itmfg77fcv6y8ge8?pid=SHOFG7FKH4XK5DVZ&lid=LSTSHOFG7FKH4XK5DVZRLQQMH&marketplace=FLIPKART&srno=s_2_49&otracker=search&otracker1=search&fm=SEARCH&iid=9170ee26-06c2-4764-8c72-15c707540bed.SHOFG7FKH4XK5DVZ.SEARCH&ppt=sp&ppn=sp&ssid=jwrjb3cj800000001611328363509&qH=a1743c0d39461290',\n",
       " 'https://www.flipkart.com/d-sneakerz-casual-partywear-sneakers-shoes-men-s-boys-white-color-men/p/itmf3xujnyvhbeqh?pid=SHOFFT35TZJFPTA4&lid=LSTSHOFFT35TZJFPTA4GQXUMX&marketplace=FLIPKART&srno=s_2_50&otracker=search&otracker1=search&fm=SEARCH&iid=9170ee26-06c2-4764-8c72-15c707540bed.SHOFFT35TZJFPTA4.SEARCH&ppt=sp&ppn=sp&ssid=jwrjb3cj800000001611328363509&qH=a1743c0d39461290',\n",
       " 'https://www.flipkart.com/swiggy-casual-loafers-sneakers-shoes-men-pack-5-combo-o-1667-349-466-1224-1258/p/itm0e85c123d5e06?pid=SHOFW9ZQ8HKSWPXB&lid=LSTSHOFW9ZQ8HKSWPXBIMCMFX&marketplace=FLIPKART&srno=s_2_51&otracker=search&otracker1=search&fm=SEARCH&iid=9170ee26-06c2-4764-8c72-15c707540bed.SHOFW9ZQ8HKSWPXB.SEARCH&ppt=sp&ppn=sp&ssid=jwrjb3cj800000001611328363509&qH=a1743c0d39461290',\n",
       " 'https://www.flipkart.com/aadi-sneakers-men/p/itm2b3542f509660?pid=SHOFGHBNZT4NV7BB&lid=LSTSHOFGHBNZT4NV7BBF8NMOD&marketplace=FLIPKART&srno=s_2_52&otracker=search&otracker1=search&fm=SEARCH&iid=9170ee26-06c2-4764-8c72-15c707540bed.SHOFGHBNZT4NV7BB.SEARCH&ppt=sp&ppn=sp&ssid=jwrjb3cj800000001611328363509&qH=a1743c0d39461290',\n",
       " 'https://www.flipkart.com/armado-shoes-mens-combo-ar-1660-1566-multicolor-pack-2-sneakers-men/p/itmf1613e19ab44e?pid=SHOFYC6GXBYHPZ7M&lid=LSTSHOFYC6GXBYHPZ7MJWJOAY&marketplace=FLIPKART&srno=s_2_53&otracker=search&otracker1=search&fm=SEARCH&iid=9170ee26-06c2-4764-8c72-15c707540bed.SHOFYC6GXBYHPZ7M.SEARCH&ppt=sp&ppn=sp&ssid=jwrjb3cj800000001611328363509&qH=a1743c0d39461290',\n",
       " 'https://www.flipkart.com/stinson-combo-5-multicolor-casual-sneakers-shoes-men/p/itm2cba2c1bc54ad?pid=SHOFNYJQQGUDTCBG&lid=LSTSHOFNYJQQGUDTCBGPIVYRH&marketplace=FLIPKART&srno=s_2_55&otracker=search&otracker1=search&fm=SEARCH&iid=9170ee26-06c2-4764-8c72-15c707540bed.SHOFNYJQQGUDTCBG.SEARCH&ppt=sp&ppn=sp&ssid=jwrjb3cj800000001611328363509&qH=a1743c0d39461290',\n",
       " 'https://www.flipkart.com/camfoot-combo-pack-2-latest-collection-stylish-casual-shoes-sneakers-men/p/itmf2f7d9daeb0cb?pid=SHOFNT6YTWUCZSKU&lid=LSTSHOFNT6YTWUCZSKUQKEFXK&marketplace=FLIPKART&srno=s_2_56&otracker=search&otracker1=search&fm=SEARCH&iid=9170ee26-06c2-4764-8c72-15c707540bed.SHOFNT6YTWUCZSKU.SEARCH&ppt=sp&ppn=sp&ssid=jwrjb3cj800000001611328363509&qH=a1743c0d39461290',\n",
       " 'https://www.flipkart.com/sparx-sm-439-sneakers-men/p/itm2fb11e75ce1bf?pid=SHOFKH7ZTDXGFM8Z&lid=LSTSHOFKH7ZTDXGFM8ZGIUMY1&marketplace=FLIPKART&srno=s_2_57&otracker=search&otracker1=search&fm=SEARCH&iid=9170ee26-06c2-4764-8c72-15c707540bed.SHOFKH7ZTDXGFM8Z.SEARCH&ppt=sp&ppn=sp&ssid=jwrjb3cj800000001611328363509&qH=a1743c0d39461290',\n",
       " 'https://www.flipkart.com/nike-court-royale-shoe-sneakers-men/p/itmf3yz45ungeyjh?pid=SHOF3YZ5HQCTVDQK&lid=LSTSHOF3YZ5HQCTVDQKQSF6VS&marketplace=FLIPKART&srno=s_2_58&otracker=search&otracker1=search&fm=SEARCH&iid=9170ee26-06c2-4764-8c72-15c707540bed.SHOF3YZ5HQCTVDQK.SEARCH&ppt=sp&ppn=sp&ssid=jwrjb3cj800000001611328363509&qH=a1743c0d39461290',\n",
       " 'https://www.flipkart.com/axter-combo-pack-2-casual-loafer-sneakers-shoes-men/p/itm58cdd535af339?pid=SHOFGQYAZJSPDCAZ&lid=LSTSHOFGQYAZJSPDCAZDRB1KJ&marketplace=FLIPKART&srno=s_2_60&otracker=search&otracker1=search&fm=SEARCH&iid=9170ee26-06c2-4764-8c72-15c707540bed.SHOFGQYAZJSPDCAZ.SEARCH&ppt=sp&ppn=sp&ssid=jwrjb3cj800000001611328363509&qH=a1743c0d39461290',\n",
       " 'https://www.flipkart.com/wika-sneakers-men/p/itmc8e15465bd1d7?pid=SHOFMD7XUKYGPSPG&lid=LSTSHOFMD7XUKYGPSPGCKNPZ1&marketplace=FLIPKART&srno=s_2_61&otracker=search&otracker1=search&fm=SEARCH&iid=9170ee26-06c2-4764-8c72-15c707540bed.SHOFMD7XUKYGPSPG.SEARCH&ppt=sp&ppn=sp&ssid=jwrjb3cj800000001611328363509&qH=a1743c0d39461290',\n",
       " 'https://www.flipkart.com/edoeviv-sneakers-men-white-men/p/itmb3c9e83f71332?pid=SHOFTXHG5QWSJXAU&lid=LSTSHOFTXHG5QWSJXAUYII0IC&marketplace=FLIPKART&srno=s_2_64&otracker=search&otracker1=search&fm=SEARCH&iid=9170ee26-06c2-4764-8c72-15c707540bed.SHOFTXHG5QWSJXAU.SEARCH&ppt=sp&ppn=sp&ssid=jwrjb3cj800000001611328363509&qH=a1743c0d39461290',\n",
       " 'https://www.flipkart.com/provogue-sneakers-men/p/itmfbtw7zgupnqhr?pid=SHOFBTW77ZMTURHZ&lid=LSTSHOFBTW77ZMTURHZQ3D3EB&marketplace=FLIPKART&srno=s_2_67&otracker=search&otracker1=search&fm=SEARCH&iid=9170ee26-06c2-4764-8c72-15c707540bed.SHOFBTW77ZMTURHZ.SEARCH&ppt=sp&ppn=sp&ssid=jwrjb3cj800000001611328363509&qH=a1743c0d39461290',\n",
       " 'https://www.flipkart.com/chevit-combo-pack-5-casual-sneakers-men/p/itmfhu6fj4zyj5c9?pid=SHOFHTTCTPZGWUDG&lid=LSTSHOFHTTCTPZGWUDGXMFML4&marketplace=FLIPKART&srno=s_2_69&otracker=search&otracker1=search&fm=SEARCH&iid=9170ee26-06c2-4764-8c72-15c707540bed.SHOFHTTCTPZGWUDG.SEARCH&ppt=sp&ppn=sp&ssid=jwrjb3cj800000001611328363509&qH=a1743c0d39461290',\n",
       " 'https://www.flipkart.com/stinson-combo-pack-3-sneakers-men/p/itmf9da40e633d55?pid=SHOFZ2RUVNGG8HRS&lid=LSTSHOFZ2RUVNGG8HRS93TZGA&marketplace=FLIPKART&srno=s_2_70&otracker=search&otracker1=search&fm=SEARCH&iid=9170ee26-06c2-4764-8c72-15c707540bed.SHOFZ2RUVNGG8HRS.SEARCH&ppt=sp&ppn=sp&ssid=jwrjb3cj800000001611328363509&qH=a1743c0d39461290',\n",
       " 'https://www.flipkart.com/sparx-sm-322-sneakers-men/p/itm04d01629290b9?pid=SHOFFTAEWWCNZDTZ&lid=LSTSHOFFTAEWWCNZDTZP203FM&marketplace=FLIPKART&srno=s_2_71&otracker=search&otracker1=search&fm=SEARCH&iid=9170ee26-06c2-4764-8c72-15c707540bed.SHOFFTAEWWCNZDTZ.SEARCH&ppt=sp&ppn=sp&ssid=jwrjb3cj800000001611328363509&qH=a1743c0d39461290',\n",
       " 'https://www.flipkart.com/chevit-smart-casuals-canvas-shoes-combo-pack-2-sneakers-men/p/itm1a786ac446c21?pid=SHOFZWYJCHG9DAZS&lid=LSTSHOFZWYJCHG9DAZSD88SDG&marketplace=FLIPKART&srno=s_2_72&otracker=search&otracker1=search&fm=SEARCH&iid=9170ee26-06c2-4764-8c72-15c707540bed.SHOFZWYJCHG9DAZS.SEARCH&ppt=sp&ppn=sp&ssid=jwrjb3cj800000001611328363509&qH=a1743c0d39461290',\n",
       " 'https://www.flipkart.com/adidas-adiset-m-sneakers-men/p/itm7bbd5df3ea7de?pid=SHOFUN8KQZSRVFFV&lid=LSTSHOFUN8KQZSRVFFVQSXXUU&marketplace=FLIPKART&srno=s_2_74&otracker=search&otracker1=search&fm=SEARCH&iid=9170ee26-06c2-4764-8c72-15c707540bed.SHOFUN8KQZSRVFFV.SEARCH&ppt=sp&ppn=sp&ssid=jwrjb3cj800000001611328363509&qH=a1743c0d39461290',\n",
       " 'https://www.flipkart.com/essence-sneakers-men/p/itmf3xqa3mf5eszu?pid=SHOEYJF7F5URECNE&lid=LSTSHOEYJF7F5URECNEAIKUPK&marketplace=FLIPKART&srno=s_2_76&otracker=search&otracker1=search&fm=SEARCH&iid=9170ee26-06c2-4764-8c72-15c707540bed.SHOEYJF7F5URECNE.SEARCH&ppt=sp&ppn=sp&ssid=jwrjb3cj800000001611328363509&qH=a1743c0d39461290',\n",
       " 'https://www.flipkart.com/chevit-lightweight-combo-pack-02-trendy-casuals-sneakers-men/p/itm752c1d5b82cf7?pid=SHOFWFQCQQXFG6HS&lid=LSTSHOFWFQCQQXFG6HS7AD02J&marketplace=FLIPKART&srno=s_2_77&otracker=search&otracker1=search&fm=SEARCH&iid=9170ee26-06c2-4764-8c72-15c707540bed.SHOFWFQCQQXFG6HS.SEARCH&ppt=sp&ppn=sp&ssid=jwrjb3cj800000001611328363509&qH=a1743c0d39461290',\n",
       " 'https://www.flipkart.com/magnolia-inspired-dectron-sneakers-men/p/itmb4ef566a25293?pid=SHOFTHMF66F2X6YZ&lid=LSTSHOFTHMF66F2X6YZAEJZ66&marketplace=FLIPKART&srno=s_2_78&otracker=search&otracker1=search&fm=SEARCH&iid=9170ee26-06c2-4764-8c72-15c707540bed.SHOFTHMF66F2X6YZ.SEARCH&ppt=sp&ppn=sp&ssid=jwrjb3cj800000001611328363509&qH=a1743c0d39461290',\n",
       " 'https://www.flipkart.com/jabra-sneakers-men/p/itmffwx5jvwya5yy?pid=SHOFFMGYYD23QHQJ&lid=LSTSHOFFMGYYD23QHQJOXQIXN&marketplace=FLIPKART&srno=s_2_79&otracker=search&otracker1=search&fm=SEARCH&iid=9170ee26-06c2-4764-8c72-15c707540bed.SHOFFMGYYD23QHQJ.SEARCH&ppt=sp&ppn=sp&ssid=jwrjb3cj800000001611328363509&qH=a1743c0d39461290',\n",
       " 'https://www.flipkart.com/chevit-lightweight-combo-pack-02-trendy-sneakers-casuals-men-s-men/p/itm78d3acd4aa650?pid=SHOFTZFDKHXH9MGS&lid=LSTSHOFTZFDKHXH9MGSB1B2GG&marketplace=FLIPKART&srno=s_2_80&otracker=search&otracker1=search&fm=SEARCH&iid=9170ee26-06c2-4764-8c72-15c707540bed.SHOFTZFDKHXH9MGS.SEARCH&ppt=sp&ppn=sp&ssid=jwrjb3cj800000001611328363509&qH=a1743c0d39461290',\n",
       " 'https://www.flipkart.com/bacca-bucci-fashion-sneakers-men/p/itmf98ef2f9cdf37?pid=SHOFWBZPGVYFCNHV&lid=LSTSHOFWBZPGVYFCNHVNIHRKL&marketplace=FLIPKART&srno=s_10_361&otracker=search&otracker1=search&fm=SEARCH&iid=76bf2462-e9b2-4aea-98ba-b62b3ae3b501.SHOFWBZPGVYFCNHV.SEARCH&ppt=sp&ppn=sp&ssid=jwrjb3cj800000001611328363509&qH=a1743c0d39461290',\n",
       " 'https://www.flipkart.com/puma-pronto-v2-idp-sneakers-men/p/itm16ab307c1618f?pid=SHOFUBHG7VRFBHCU&lid=LSTSHOFUBHG7VRFBHCUCSXIHQ&marketplace=FLIPKART&srno=s_10_362&otracker=search&otracker1=search&fm=SEARCH&iid=76bf2462-e9b2-4aea-98ba-b62b3ae3b501.SHOFUBHG7VRFBHCU.SEARCH&ppt=sp&ppn=sp&ssid=jwrjb3cj800000001611328363509&qH=a1743c0d39461290',\n",
       " 'https://www.flipkart.com/kavon-sneakers-men/p/itm0c660e5a217c7?pid=SHOFXFEMGHKRR4BU&lid=LSTSHOFXFEMGHKRR4BUZZJMLX&marketplace=FLIPKART&srno=s_10_363&otracker=search&otracker1=search&fm=SEARCH&iid=76bf2462-e9b2-4aea-98ba-b62b3ae3b501.SHOFXFEMGHKRR4BU.SEARCH&ppt=sp&ppn=sp&ssid=jwrjb3cj800000001611328363509&qH=a1743c0d39461290',\n",
       " 'https://www.flipkart.com/united-colors-benetton-sneakers-men/p/itm3d1f954a54c63?pid=SHOFNWJMFHXUFDTE&lid=LSTSHOFNWJMFHXUFDTE6XA3TN&marketplace=FLIPKART&srno=s_10_364&otracker=search&otracker1=search&fm=SEARCH&iid=76bf2462-e9b2-4aea-98ba-b62b3ae3b501.SHOFNWJMFHXUFDTE.SEARCH&ppt=sp&ppn=sp&ssid=jwrjb3cj800000001611328363509&qH=a1743c0d39461290',\n",
       " 'https://www.flipkart.com/zorth-new-fashion-outdoor-trendy-lightweight-casual-canvas-stylish-partywear-sneakers-shoes-boys-men/p/itma91f040e2151a?pid=SHOFTMZQEZHF67TW&lid=LSTSHOFTMZQEZHF67TWNP8GOC&marketplace=FLIPKART&srno=s_10_367&otracker=search&otracker1=search&fm=SEARCH&iid=76bf2462-e9b2-4aea-98ba-b62b3ae3b501.SHOFTMZQEZHF67TW.SEARCH&ppt=sp&ppn=sp&ssid=jwrjb3cj800000001611328363509&qH=a1743c0d39461290',\n",
       " 'https://www.flipkart.com/puma-smash-perf-sneakers-men/p/itmfhdfqhumyqcbc?pid=SHOFHCXZAJUPFV7G&lid=LSTSHOFHCXZAJUPFV7G0QY9A0&marketplace=FLIPKART&srno=s_10_369&otracker=search&otracker1=search&fm=SEARCH&iid=76bf2462-e9b2-4aea-98ba-b62b3ae3b501.SHOFHCXZAJUPFV7G.SEARCH&ppt=sp&ppn=sp&ssid=jwrjb3cj800000001611328363509&qH=a1743c0d39461290',\n",
       " 'https://www.flipkart.com/believe-sneakers-men-blue-6-men/p/itmfdyjh32sag4na?pid=SHOFDXX4MGKD35KU&lid=LSTSHOFDXX4MGKD35KUFUM184&marketplace=FLIPKART&srno=s_10_370&otracker=search&otracker1=search&fm=SEARCH&iid=76bf2462-e9b2-4aea-98ba-b62b3ae3b501.SHOFDXX4MGKD35KU.SEARCH&ppt=sp&ppn=sp&ssid=jwrjb3cj800000001611328363509&qH=a1743c0d39461290',\n",
       " 'https://www.flipkart.com/jootiyapa-live-s-sneakers-men/p/itm0bdf8c3306340?pid=SHOFC9SGMQKSAATB&lid=LSTSHOFC9SGMQKSAATBNFYE15&marketplace=FLIPKART&srno=s_10_371&otracker=search&otracker1=search&fm=SEARCH&iid=76bf2462-e9b2-4aea-98ba-b62b3ae3b501.SHOFC9SGMQKSAATB.SEARCH&ppt=sp&ppn=sp&ssid=jwrjb3cj800000001611328363509&qH=a1743c0d39461290',\n",
       " 'https://www.flipkart.com/puma-cape-idp-sneakers-men/p/itmb578e6bc55c44?pid=SHOFUFGZBSHSCJDV&lid=LSTSHOFUFGZBSHSCJDVY5ZOSM&marketplace=FLIPKART&srno=s_10_373&otracker=search&otracker1=search&fm=SEARCH&iid=76bf2462-e9b2-4aea-98ba-b62b3ae3b501.SHOFUFGZBSHSCJDV.SEARCH&ppt=sp&ppn=sp&ssid=jwrjb3cj800000001611328363509&qH=a1743c0d39461290',\n",
       " 'https://www.flipkart.com/believe-sneakers-men-beige-8-men/p/itmfdy6zzmmbkevg?pid=SHOFDXWP3HZ57KKH&lid=LSTSHOFDXWP3HZ57KKH4BFVDV&marketplace=FLIPKART&srno=s_10_374&otracker=search&otracker1=search&fm=SEARCH&iid=76bf2462-e9b2-4aea-98ba-b62b3ae3b501.SHOFDXWP3HZ57KKH.SEARCH&ppt=sp&ppn=sp&ssid=jwrjb3cj800000001611328363509&qH=a1743c0d39461290',\n",
       " 'https://www.flipkart.com/nike-court-vintagemen-s-shoe-sneakers-men/p/itm7eca1b699eec2?pid=SHOFS5GQMPHBBWQ3&lid=LSTSHOFS5GQMPHBBWQ3LBOSD2&marketplace=FLIPKART&srno=s_10_376&otracker=search&otracker1=search&fm=SEARCH&iid=76bf2462-e9b2-4aea-98ba-b62b3ae3b501.SHOFS5GQMPHBBWQ3.SEARCH&ppt=sp&ppn=sp&ssid=jwrjb3cj800000001611328363509&qH=a1743c0d39461290',\n",
       " 'https://www.flipkart.com/puma-icon-idp-sneakers-men/p/itmfd87ujkrefzfz?pid=SHOFD86WJR2FTH6C&lid=LSTSHOFD86WJR2FTH6CFKSD91&marketplace=FLIPKART&srno=s_10_377&otracker=search&otracker1=search&fm=SEARCH&iid=76bf2462-e9b2-4aea-98ba-b62b3ae3b501.SHOFD86WJR2FTH6C.SEARCH&ppt=sp&ppn=sp&ssid=jwrjb3cj800000001611328363509&qH=a1743c0d39461290',\n",
       " 'https://www.flipkart.com/kraasa-sneakers-men/p/itmc4e0d7c951831?pid=SHOFV93MZXNH43WX&lid=LSTSHOFV93MZXNH43WXIWNW9K&marketplace=FLIPKART&srno=s_10_379&otracker=search&otracker1=search&fm=SEARCH&iid=76bf2462-e9b2-4aea-98ba-b62b3ae3b501.SHOFV93MZXNH43WX.SEARCH&ppt=sp&ppn=sp&ssid=jwrjb3cj800000001611328363509&qH=a1743c0d39461290',\n",
       " 'https://www.flipkart.com/adidas-vs-pace-sneakers-men/p/itm8a0f37fd7f12b?pid=SHOFNZUTVYTXHQYT&lid=LSTSHOFNZUTVYTXHQYTE83UU6&marketplace=FLIPKART&srno=s_10_380&otracker=search&otracker1=search&fm=SEARCH&iid=76bf2462-e9b2-4aea-98ba-b62b3ae3b501.SHOFNZUTVYTXHQYT.SEARCH&ppt=sp&ppn=sp&ssid=jwrjb3cj800000001611328363509&qH=a1743c0d39461290',\n",
       " 'https://www.flipkart.com/chevit-glamorous-desing-combo-pack-2-outdoor-sneakers-men/p/itm929e45acd4bd6?pid=SHOFWWXYHSBV4FF2&lid=LSTSHOFWWXYHSBV4FF29GBQP6&marketplace=FLIPKART&srno=s_10_381&otracker=search&otracker1=search&fm=SEARCH&iid=76bf2462-e9b2-4aea-98ba-b62b3ae3b501.SHOFWWXYHSBV4FF2.SEARCH&ppt=sp&ppn=sp&ssid=jwrjb3cj800000001611328363509&qH=a1743c0d39461290',\n",
       " 'https://www.flipkart.com/nike-sb-check-solar-cnvs-sneakers-men/p/itm9a75eeb7f3fff?pid=SHOFK455EWW9YCZY&lid=LSTSHOFK455EWW9YCZY1XMVVV&marketplace=FLIPKART&srno=s_10_382&otracker=search&otracker1=search&fm=SEARCH&iid=76bf2462-e9b2-4aea-98ba-b62b3ae3b501.SHOFK455EWW9YCZY.SEARCH&ppt=sp&ppn=sp&ssid=jwrjb3cj800000001611328363509&qH=a1743c0d39461290',\n",
       " 'https://www.flipkart.com/ducati-sneakers-men/p/itm9ab5ba055e170?pid=SHOFGNGHG3VNZ9CH&lid=LSTSHOFGNGHG3VNZ9CHD5CVT3&marketplace=FLIPKART&srno=s_10_383&otracker=search&otracker1=search&fm=SEARCH&iid=76bf2462-e9b2-4aea-98ba-b62b3ae3b501.SHOFGNGHG3VNZ9CH.SEARCH&ppt=sp&ppn=sp&ssid=jwrjb3cj800000001611328363509&qH=a1743c0d39461290',\n",
       " 'https://www.flipkart.com/bacca-bucci-men-s-ultraforce-mid-top-athletic-inspired-retro-fashion-casual-outdoor-sneakers-men-tan-men/p/itmfftu4nzu6zfmh?pid=SHOFFTSRYHWGCAKB&lid=LSTSHOFFTSRYHWGCAKBKFEKOP&marketplace=FLIPKART&srno=s_10_384&otracker=search&otracker1=search&fm=SEARCH&iid=76bf2462-e9b2-4aea-98ba-b62b3ae3b501.SHOFFTSRYHWGCAKB.SEARCH&ppt=sp&ppn=sp&ssid=jwrjb3cj800000001611328363509&qH=a1743c0d39461290',\n",
       " 'https://www.flipkart.com/provogue-sneakers-men/p/itm1b85ab503ff4d?pid=SHOFGJBHA29CXTGG&lid=LSTSHOFGJBHA29CXTGGNUUO6V&marketplace=FLIPKART&srno=s_10_385&otracker=search&otracker1=search&fm=SEARCH&iid=76bf2462-e9b2-4aea-98ba-b62b3ae3b501.SHOFGJBHA29CXTGG.SEARCH&ppt=sp&ppn=sp&ssid=jwrjb3cj800000001611328363509&qH=a1743c0d39461290',\n",
       " 'https://www.flipkart.com/rockfield-sneakers-men/p/itm6d696d7ea7cdc?pid=SHOFVZHG7X8YF5JN&lid=LSTSHOFVZHG7X8YF5JNL6NNUO&marketplace=FLIPKART&srno=s_10_386&otracker=search&otracker1=search&fm=SEARCH&iid=76bf2462-e9b2-4aea-98ba-b62b3ae3b501.SHOFVZHG7X8YF5JN.SEARCH&ppt=sp&ppn=sp&ssid=jwrjb3cj800000001611328363509&qH=a1743c0d39461290',\n",
       " 'https://www.flipkart.com/kenamin-sneakers-men/p/itmf3yv3dxzgjygr?pid=SHOF3YZSYSFFY9WK&lid=LSTSHOF3YZSYSFFY9WKXJYXGC&marketplace=FLIPKART&srno=s_10_387&otracker=search&otracker1=search&fm=SEARCH&iid=76bf2462-e9b2-4aea-98ba-b62b3ae3b501.SHOF3YZSYSFFY9WK.SEARCH&ppt=sp&ppn=sp&ssid=jwrjb3cj800000001611328363509&qH=a1743c0d39461290',\n",
       " 'https://www.flipkart.com/stranger-brothers-sneakers-men/p/itmd772ad2b5156c?pid=SHOFT8XHZB9BRGXS&lid=LSTSHOFT8XHZB9BRGXSPSAT5W&marketplace=FLIPKART&srno=s_10_388&otracker=search&otracker1=search&fm=SEARCH&iid=76bf2462-e9b2-4aea-98ba-b62b3ae3b501.SHOFT8XHZB9BRGXS.SEARCH&ppt=sp&ppn=sp&ssid=jwrjb3cj800000001611328363509&qH=a1743c0d39461290',\n",
       " 'https://www.flipkart.com/adidas-vs-pace-sneakers-men/p/itmd1aa4dd4e402a?pid=SHOFU43PHCKESY69&lid=LSTSHOFU43PHCKESY69OLEUMB&marketplace=FLIPKART&srno=s_10_389&otracker=search&otracker1=search&fm=SEARCH&iid=76bf2462-e9b2-4aea-98ba-b62b3ae3b501.SHOFU43PHCKESY69.SEARCH&ppt=sp&ppn=sp&ssid=jwrjb3cj800000001611328363509&qH=a1743c0d39461290',\n",
       " 'https://www.flipkart.com/flying-machine-nicole-sneakers-men/p/itm42e59bf4bee4a?pid=SHOFGNY2GKXGJGW8&lid=LSTSHOFGNY2GKXGJGW8ZH1TP4&marketplace=FLIPKART&srno=s_10_390&otracker=search&otracker1=search&fm=SEARCH&iid=76bf2462-e9b2-4aea-98ba-b62b3ae3b501.SHOFGNY2GKXGJGW8.SEARCH&ppt=sp&ppn=sp&ssid=jwrjb3cj800000001611328363509&qH=a1743c0d39461290',\n",
       " 'https://www.flipkart.com/nike-sb-alleyoopskate-shoe-sneakers-men/p/itmab572a4b56cf2?pid=SHOFS5GQ8MWXBYYK&lid=LSTSHOFS5GQ8MWXBYYKLPG8UO&marketplace=FLIPKART&srno=s_10_391&otracker=search&otracker1=search&fm=SEARCH&iid=76bf2462-e9b2-4aea-98ba-b62b3ae3b501.SHOFS5GQ8MWXBYYK.SEARCH&ppt=sp&ppn=sp&ssid=jwrjb3cj800000001611328363509&qH=a1743c0d39461290',\n",
       " 'https://www.flipkart.com/sparx-sm-162-sneakers-men/p/itmfafycwhxh8ugp?pid=SHOE9CAHZD8GFZQS&lid=LSTSHOE9CAHZD8GFZQSTOMGOL&marketplace=FLIPKART&srno=s_10_392&otracker=search&otracker1=search&fm=SEARCH&iid=76bf2462-e9b2-4aea-98ba-b62b3ae3b501.SHOE9CAHZD8GFZQS.SEARCH&ppt=sp&ppn=sp&ssid=jwrjb3cj800000001611328363509&qH=a1743c0d39461290',\n",
       " 'https://www.flipkart.com/jack-jones-jfwhunter-suede-winter-white-noos-sneakers-men/p/itmdd010ebdc400d?pid=SHOFZ24QCEYM88KW&lid=LSTSHOFZ24QCEYM88KWB2MXRC&marketplace=FLIPKART&srno=s_10_393&otracker=search&otracker1=search&fm=SEARCH&iid=76bf2462-e9b2-4aea-98ba-b62b3ae3b501.SHOFZ24QCEYM88KW.SEARCH&ppt=sp&ppn=sp&ssid=jwrjb3cj800000001611328363509&qH=a1743c0d39461290',\n",
       " 'https://www.flipkart.com/oricum-combo-pack-3-casual-sneakers-loafers-shoes-men/p/itm40f52b05e2ffe?pid=SHOFN4HCDEHWZEYJ&lid=LSTSHOFN4HCDEHWZEYJDHUPA8&marketplace=FLIPKART&srno=s_10_394&otracker=search&otracker1=search&fm=SEARCH&iid=76bf2462-e9b2-4aea-98ba-b62b3ae3b501.SHOFN4HCDEHWZEYJ.SEARCH&ppt=sp&ppn=sp&ssid=jwrjb3cj800000001611328363509&qH=a1743c0d39461290',\n",
       " 'https://www.flipkart.com/d-sneakerz-casual-partywear-sneakers-shoes-men-s-boys-black-color-party-wear-men/p/itmf7f5ap5qzpg8h?pid=SHOF7EZJFVYHFPXG&lid=LSTSHOF7EZJFVYHFPXGEOTZPP&marketplace=FLIPKART&srno=s_10_396&otracker=search&otracker1=search&fm=SEARCH&iid=76bf2462-e9b2-4aea-98ba-b62b3ae3b501.SHOF7EZJFVYHFPXG.SEARCH&ppt=sp&ppn=sp&ssid=jwrjb3cj800000001611328363509&qH=a1743c0d39461290',\n",
       " 'https://www.flipkart.com/oricum-sneakers-shoes-men-pack-2-combo-o-1636-1614/p/itm7b49cbbba208b?pid=SHOFVMGSNFZZPUVT&lid=LSTSHOFVMGSNFZZPUVTCR6PCK&marketplace=FLIPKART&srno=s_10_397&otracker=search&otracker1=search&fm=SEARCH&iid=76bf2462-e9b2-4aea-98ba-b62b3ae3b501.SHOFVMGSNFZZPUVT.SEARCH&ppt=sp&ppn=sp&ssid=jwrjb3cj800000001611328363509&qH=a1743c0d39461290',\n",
       " 'https://www.flipkart.com/arivo-fashion-outdoor-canvas-casual-light-weight-lace-up-evening-walk-sneakers-men/p/itm8fcbaa5e6445f?pid=SHOFNHBEPGAKCQCH&lid=LSTSHOFNHBEPGAKCQCHWBQRLB&marketplace=FLIPKART&srno=s_10_398&otracker=search&otracker1=search&fm=SEARCH&iid=76bf2462-e9b2-4aea-98ba-b62b3ae3b501.SHOFNHBEPGAKCQCH.SEARCH&ppt=sp&ppn=sp&ssid=jwrjb3cj800000001611328363509&qH=a1743c0d39461290',\n",
       " 'https://www.flipkart.com/asian-skypy-31-walking-shoes-training-shoes-sneakers-loafers-canvas-shoes-casual-shoes-sneakers-sneakers-men/p/itmf3yysydvz2gsh?pid=SHOFFPQWGZNZUYVG&lid=LSTSHOFFPQWGZNZUYVGPOJUML&marketplace=FLIPKART&srno=s_10_399&otracker=search&otracker1=search&fm=SEARCH&iid=76bf2462-e9b2-4aea-98ba-b62b3ae3b501.SHOFFPQWGZNZUYVG.SEARCH&ppt=sp&ppn=sp&ssid=jwrjb3cj800000001611328363509&qH=a1743c0d39461290',\n",
       " 'https://www.flipkart.com/puma-electron-street-sneakers-men/p/itmca86003eafa1b?pid=SHOFTZ9ZUSK3492J&lid=LSTSHOFTZ9ZUSK3492JRXJZGX&marketplace=FLIPKART&srno=s_10_400&otracker=search&otracker1=search&fm=SEARCH&iid=76bf2462-e9b2-4aea-98ba-b62b3ae3b501.SHOFTZ9ZUSK3492J.SEARCH&ppt=sp&ppn=sp&ssid=jwrjb3cj800000001611328363509&qH=a1743c0d39461290',\n",
       " 'https://www.flipkart.com/m7-metronaut-sneakers-men/p/itm898ed0feddbc7?pid=SHOFZHY4SXGGGCQZ&lid=LSTSHOFZHY4SXGGGCQZ52EF5D&marketplace=FLIPKART&srno=s_15_561&otracker=search&otracker1=search&fm=SEARCH&iid=d9b9a574-b01c-4bc7-a16e-f7fe5c1d6e42.SHOFZHY4SXGGGCQZ.SEARCH&ppt=sp&ppn=sp&ssid=jwrjb3cj800000001611328363509&qH=a1743c0d39461290',\n",
       " 'https://www.flipkart.com/claptrap-mesh-walking-casual-sneakers-shoes-men-boys/p/itm02f7ef1567011?pid=SHOFGYZ3YJXDWZ9Z&lid=LSTSHOFGYZ3YJXDWZ9ZCWE1CY&marketplace=FLIPKART&srno=s_15_562&otracker=search&otracker1=search&fm=SEARCH&iid=d9b9a574-b01c-4bc7-a16e-f7fe5c1d6e42.SHOFGYZ3YJXDWZ9Z.SEARCH&ppt=sp&ppn=sp&ssid=jwrjb3cj800000001611328363509&qH=a1743c0d39461290',\n",
       " 'https://www.flipkart.com/sparx-sm-482-sneakers-men/p/itm1df81d7fffb9a?pid=SHOFK93VWEEYWX2D&lid=LSTSHOFK93VWEEYWX2D5QAZOC&marketplace=FLIPKART&srno=s_15_563&otracker=search&otracker1=search&fm=SEARCH&iid=d9b9a574-b01c-4bc7-a16e-f7fe5c1d6e42.SHOFK93VWEEYWX2D.SEARCH&ppt=sp&ppn=sp&ssid=jwrjb3cj800000001611328363509&qH=a1743c0d39461290',\n",
       " 'https://www.flipkart.com/wika-sneakers-men/p/itmf38502c1d75df?pid=SHOFMC4KMQHCFJHC&lid=LSTSHOFMC4KMQHCFJHCW243G0&marketplace=FLIPKART&srno=s_15_564&otracker=search&otracker1=search&fm=SEARCH&iid=d9b9a574-b01c-4bc7-a16e-f7fe5c1d6e42.SHOFMC4KMQHCFJHC.SEARCH&ppt=sp&ppn=sp&ssid=jwrjb3cj800000001611328363509&qH=a1743c0d39461290',\n",
       " 'https://www.flipkart.com/nike-sb-delta-force-vulc-sneakers-men/p/itmfcqfkwvhqxtqx?pid=SHOFK455SMF9RRQT&lid=LSTSHOFK455SMF9RRQT2KNP3P&marketplace=FLIPKART&srno=s_15_565&otracker=search&otracker1=search&fm=SEARCH&iid=d9b9a574-b01c-4bc7-a16e-f7fe5c1d6e42.SHOFK455SMF9RRQT.SEARCH&ppt=sp&ppn=sp&ssid=jwrjb3cj800000001611328363509&qH=a1743c0d39461290',\n",
       " 'https://www.flipkart.com/puma-perforated-low-idp-sneakers-men/p/itm4634022fd8574?pid=SHOFNU2WTYVJ2G4M&lid=LSTSHOFNU2WTYVJ2G4MDVH9JW&marketplace=FLIPKART&srno=s_15_566&otracker=search&otracker1=search&fm=SEARCH&iid=d9b9a574-b01c-4bc7-a16e-f7fe5c1d6e42.SHOFNU2WTYVJ2G4M.SEARCH&ppt=sp&ppn=sp&ssid=jwrjb3cj800000001611328363509&qH=a1743c0d39461290',\n",
       " 'https://www.flipkart.com/provogue-sneakers-men/p/itm54e3aba6068a2?pid=SHOFGJAAKWMPVNKY&lid=LSTSHOFGJAAKWMPVNKYTPRSDM&marketplace=FLIPKART&srno=s_15_568&otracker=search&otracker1=search&fm=SEARCH&iid=d9b9a574-b01c-4bc7-a16e-f7fe5c1d6e42.SHOFGJAAKWMPVNKY.SEARCH&ppt=sp&ppn=sp&ssid=jwrjb3cj800000001611328363509&qH=a1743c0d39461290',\n",
       " 'https://www.flipkart.com/ducati-sneakers-men/p/itm6562d67e84764?pid=SHOFGFQHF2GRDXNF&lid=LSTSHOFGFQHF2GRDXNFNSBVSG&marketplace=FLIPKART&srno=s_15_570&otracker=search&otracker1=search&fm=SEARCH&iid=d9b9a574-b01c-4bc7-a16e-f7fe5c1d6e42.SHOFGFQHF2GRDXNF.SEARCH&ppt=sp&ppn=sp&ssid=jwrjb3cj800000001611328363509&qH=a1743c0d39461290',\n",
       " 'https://www.flipkart.com/columbus-men-s-shoes-green-rockstar-01-sneakers-men/p/itm84feb916dcd51?pid=SHOFUF5PHANTP7BG&lid=LSTSHOFUF5PHANTP7BGBOTQOV&marketplace=FLIPKART&srno=s_15_571&otracker=search&otracker1=search&fm=SEARCH&iid=d9b9a574-b01c-4bc7-a16e-f7fe5c1d6e42.SHOFUF5PHANTP7BG.SEARCH&ppt=sp&ppn=sp&ssid=jwrjb3cj800000001611328363509&qH=a1743c0d39461290',\n",
       " 'https://www.flipkart.com/red-tape-classic-sneakers-men/p/itm1bedf79fe98d8?pid=SHOFKGA4KDX4CDEE&lid=LSTSHOFKGA4KDX4CDEEJOG1X1&marketplace=FLIPKART&srno=s_15_572&otracker=search&otracker1=search&fm=SEARCH&iid=d9b9a574-b01c-4bc7-a16e-f7fe5c1d6e42.SHOFKGA4KDX4CDEE.SEARCH&ppt=sp&ppn=sp&ssid=jwrjb3cj800000001611328363509&qH=a1743c0d39461290',\n",
       " 'https://www.flipkart.com/d-sneakerz-casual-partywear-sneakers-shoes-men-s-boys-black-color-party-wear-men/p/itmf7f5akjytbcsg?pid=SHOF7EZJKJDDWCQ2&lid=LSTSHOF7EZJKJDDWCQ2Y7EAOS&marketplace=FLIPKART&srno=s_15_574&otracker=search&otracker1=search&fm=SEARCH&iid=d9b9a574-b01c-4bc7-a16e-f7fe5c1d6e42.SHOF7EZJKJDDWCQ2.SEARCH&ppt=sp&ppn=sp&ssid=jwrjb3cj800000001611328363509&qH=a1743c0d39461290',\n",
       " 'https://www.flipkart.com/nike-explore-strada-sneakers-men/p/itmeea1862cb1f94?pid=SHOFGPRRRWHHZ98W&lid=LSTSHOFGPRRRWHHZ98W8MQTWV&marketplace=FLIPKART&srno=s_15_575&otracker=search&otracker1=search&fm=SEARCH&iid=d9b9a574-b01c-4bc7-a16e-f7fe5c1d6e42.SHOFGPRRRWHHZ98W.SEARCH&ppt=sp&ppn=sp&ssid=jwrjb3cj800000001611328363509&qH=a1743c0d39461290',\n",
       " 'https://www.flipkart.com/woodland-sneakers-men/p/itme32c227babd0b?pid=SHOFM6EZPZZQH97B&lid=LSTSHOFM6EZPZZQH97BPWQXJN&marketplace=FLIPKART&srno=s_15_576&otracker=search&otracker1=search&fm=SEARCH&iid=d9b9a574-b01c-4bc7-a16e-f7fe5c1d6e42.SHOFM6EZPZZQH97B.SEARCH&ppt=sp&ppn=sp&ssid=jwrjb3cj800000001611328363509&qH=a1743c0d39461290',\n",
       " 'https://www.flipkart.com/united-colors-benetton-sneakers-men/p/itm7ce0e56a876dc?pid=SHOFNAE9X97RXDGR&lid=LSTSHOFNAE9X97RXDGRBCZ1XE&marketplace=FLIPKART&srno=s_15_577&otracker=search&otracker1=search&fm=SEARCH&iid=d9b9a574-b01c-4bc7-a16e-f7fe5c1d6e42.SHOFNAE9X97RXDGR.SEARCH&ppt=sp&ppn=sp&ssid=jwrjb3cj800000001611328363509&qH=a1743c0d39461290',\n",
       " 'https://www.flipkart.com/sparx-sm-360-sneakers-men/p/itmf436gayp8ffjf?pid=SHOF433ZYUM2DTNM&lid=LSTSHOF433ZYUM2DTNMU64JPM&marketplace=FLIPKART&srno=s_15_578&otracker=search&otracker1=search&fm=SEARCH&iid=d9b9a574-b01c-4bc7-a16e-f7fe5c1d6e42.SHOF433ZYUM2DTNM.SEARCH&ppt=sp&ppn=sp&ssid=jwrjb3cj800000001611328363509&qH=a1743c0d39461290',\n",
       " 'https://www.flipkart.com/puma-perforated-low-idp-sneakers-men/p/itm963635ca4d540?pid=SHOFNU2WGS8G44WX&lid=LSTSHOFNU2WGS8G44WXEOYWAP&marketplace=FLIPKART&srno=s_15_579&otracker=search&otracker1=search&fm=SEARCH&iid=d9b9a574-b01c-4bc7-a16e-f7fe5c1d6e42.SHOFNU2WGS8G44WX.SEARCH&ppt=sp&ppn=sp&ssid=jwrjb3cj800000001611328363509&qH=a1743c0d39461290',\n",
       " 'https://www.flipkart.com/puma-icon-idp-sneakers-men/p/itmf4a5fjvgrczga?pid=SHOF4FBFB2ZUZ2AY&lid=LSTSHOF4FBFB2ZUZ2AYZOCCBN&marketplace=FLIPKART&srno=s_15_580&otracker=search&otracker1=search&fm=SEARCH&iid=d9b9a574-b01c-4bc7-a16e-f7fe5c1d6e42.SHOF4FBFB2ZUZ2AY.SEARCH&ppt=sp&ppn=sp&ssid=jwrjb3cj800000001611328363509&qH=a1743c0d39461290',\n",
       " 'https://www.flipkart.com/birde-stylish-comfortable-sneakers-men/p/itm1a31432ac61c0?pid=SHOFSPQY69TG69GE&lid=LSTSHOFSPQY69TG69GEFJB5N2&marketplace=FLIPKART&srno=s_15_581&otracker=search&otracker1=search&fm=SEARCH&iid=d9b9a574-b01c-4bc7-a16e-f7fe5c1d6e42.SHOFSPQY69TG69GE.SEARCH&ppt=sp&ppn=sp&ssid=jwrjb3cj800000001611328363509&qH=a1743c0d39461290',\n",
       " 'https://www.flipkart.com/armado-shoes-mens-combo-ar-1658-1620-multicolor-pack-2-sneakers-men/p/itmce25d36de2c4d?pid=SHOFYAR8MSFN7WXK&lid=LSTSHOFYAR8MSFN7WXKWMPK2Y&marketplace=FLIPKART&srno=s_15_582&otracker=search&otracker1=search&fm=SEARCH&iid=d9b9a574-b01c-4bc7-a16e-f7fe5c1d6e42.SHOFYAR8MSFN7WXK.SEARCH&ppt=sp&ppn=sp&ssid=jwrjb3cj800000001611328363509&qH=a1743c0d39461290',\n",
       " 'https://www.flipkart.com/converse-sneakers-men/p/itmfhhha4grafvbk?pid=SHOFH4BYXGVEVWY8&lid=LSTSHOFH4BYXGVEVWY8TKR4OQ&marketplace=FLIPKART&srno=s_15_583&otracker=search&otracker1=search&fm=SEARCH&iid=d9b9a574-b01c-4bc7-a16e-f7fe5c1d6e42.SHOFH4BYXGVEVWY8.SEARCH&ppt=sp&ppn=sp&ssid=jwrjb3cj800000001611328363509&qH=a1743c0d39461290',\n",
       " 'https://www.flipkart.com/bond-street-red-tape-sneakers-men/p/itm4d4317937850c?pid=SHOFNMJHABGV67SD&lid=LSTSHOFNMJHABGV67SDZMVETZ&marketplace=FLIPKART&srno=s_15_584&otracker=search&otracker1=search&fm=SEARCH&iid=d9b9a574-b01c-4bc7-a16e-f7fe5c1d6e42.SHOFNMJHABGV67SD.SEARCH&ppt=sp&ppn=sp&ssid=jwrjb3cj800000001611328363509&qH=a1743c0d39461290',\n",
       " 'https://www.flipkart.com/puma-icon-star-v2-idp-sneakers-men/p/itm186fe85a86397?pid=SHOFNU2V4NASRZHW&lid=LSTSHOFNU2V4NASRZHWLVGCWA&marketplace=FLIPKART&srno=s_15_585&otracker=search&otracker1=search&fm=SEARCH&iid=d9b9a574-b01c-4bc7-a16e-f7fe5c1d6e42.SHOFNU2V4NASRZHW.SEARCH&ppt=sp&ppn=sp&ssid=jwrjb3cj800000001611328363509&qH=a1743c0d39461290',\n",
       " 'https://www.flipkart.com/puma-rebound-layup-sl-sneakers-men/p/itm6f5a3922af4c4?pid=SHOFNU2WFDFV73RG&lid=LSTSHOFNU2WFDFV73RG4JNKTE&marketplace=FLIPKART&srno=s_15_586&otracker=search&otracker1=search&fm=SEARCH&iid=d9b9a574-b01c-4bc7-a16e-f7fe5c1d6e42.SHOFNU2WFDFV73RG.SEARCH&ppt=sp&ppn=sp&ssid=jwrjb3cj800000001611328363509&qH=a1743c0d39461290',\n",
       " 'https://www.flipkart.com/woodland-sneakers-men/p/itmffq2zgtah2hgm?pid=SHOFFQFMYBJMAMU9&lid=LSTSHOFFQFMYBJMAMU9FDLBHV&marketplace=FLIPKART&srno=s_15_588&otracker=search&otracker1=search&fm=SEARCH&iid=d9b9a574-b01c-4bc7-a16e-f7fe5c1d6e42.SHOFFQFMYBJMAMU9.SEARCH&ppt=sp&ppn=sp&ssid=jwrjb3cj800000001611328363509&qH=a1743c0d39461290',\n",
       " 'https://www.flipkart.com/puma-caracal-sd-sneakers-men/p/itmfgf4bmcamnzuz?pid=SHOFGF4MZH7VH3PY&lid=LSTSHOFGF4MZH7VH3PYTSWEQY&marketplace=FLIPKART&srno=s_15_590&otracker=search&otracker1=search&fm=SEARCH&iid=d9b9a574-b01c-4bc7-a16e-f7fe5c1d6e42.SHOFGF4MZH7VH3PY.SEARCH&ppt=sp&ppn=sp&ssid=jwrjb3cj800000001611328363509&qH=a1743c0d39461290',\n",
       " 'https://www.flipkart.com/adidas-pace-vs-sneakers-men/p/itm9630d3cd61673?pid=SHOFNZUTKTX7RAHN&lid=LSTSHOFNZUTKTX7RAHNVHOCYL&marketplace=FLIPKART&srno=s_15_591&otracker=search&otracker1=search&fm=SEARCH&iid=d9b9a574-b01c-4bc7-a16e-f7fe5c1d6e42.SHOFNZUTKTX7RAHN.SEARCH&ppt=sp&ppn=sp&ssid=jwrjb3cj800000001611328363509&qH=a1743c0d39461290',\n",
       " 'https://www.flipkart.com/puma-poise-perf-idp-sneakers-men/p/itmf4a5ftysdgjje?pid=SHOF4FBFFDP3ZVUS&lid=LSTSHOF4FBFFDP3ZVUSHPONWP&marketplace=FLIPKART&srno=s_15_592&otracker=search&otracker1=search&fm=SEARCH&iid=d9b9a574-b01c-4bc7-a16e-f7fe5c1d6e42.SHOF4FBFFDP3ZVUS.SEARCH&ppt=sp&ppn=sp&ssid=jwrjb3cj800000001611328363509&qH=a1743c0d39461290',\n",
       " 'https://www.flipkart.com/earton-sneakers-men/p/itm8da6aae7d1d4b?pid=SHOFTY9594XHEFPK&lid=LSTSHOFTY9594XHEFPKRCA6ZQ&marketplace=FLIPKART&srno=s_15_593&otracker=search&otracker1=search&fm=SEARCH&iid=d9b9a574-b01c-4bc7-a16e-f7fe5c1d6e42.SHOFTY9594XHEFPK.SEARCH&ppt=sp&ppn=sp&ssid=jwrjb3cj800000001611328363509&qH=a1743c0d39461290',\n",
       " 'https://www.flipkart.com/puma-axis-trail-sneakers-men/p/itmfhusztzf3ffsx?pid=SHOFHURGVBGVAB6M&lid=LSTSHOFHURGVBGVAB6MIQDXLN&marketplace=FLIPKART&srno=s_15_594&otracker=search&otracker1=search&fm=SEARCH&iid=d9b9a574-b01c-4bc7-a16e-f7fe5c1d6e42.SHOFHURGVBGVAB6M.SEARCH&ppt=sp&ppn=sp&ssid=jwrjb3cj800000001611328363509&qH=a1743c0d39461290',\n",
       " 'https://www.flipkart.com/nike-sb-solarsoft-portmore-2-sneaker-men/p/itmfg87gu5zuzpnm?pid=SHOFG87HAX46F6QW&lid=LSTSHOFG87HAX46F6QWOPFE6N&marketplace=FLIPKART&srno=s_15_595&otracker=search&otracker1=search&fm=SEARCH&iid=d9b9a574-b01c-4bc7-a16e-f7fe5c1d6e42.SHOFG87HAX46F6QW.SEARCH&ppt=sp&ppn=sp&ssid=jwrjb3cj800000001611328363509&qH=a1743c0d39461290',\n",
       " 'https://www.flipkart.com/doller-men-casuals-shoes-sneaker-new-style-trending-sneakers/p/itm1fb1e738b6858?pid=SHOFWWT8WFCBZCVV&lid=LSTSHOFWWT8WFCBZCVVGBSQXG&marketplace=FLIPKART&srno=s_15_596&otracker=search&otracker1=search&fm=SEARCH&iid=d9b9a574-b01c-4bc7-a16e-f7fe5c1d6e42.SHOFWWT8WFCBZCVV.SEARCH&ppt=sp&ppn=sp&ssid=jwrjb3cj800000001611328363509&qH=a1743c0d39461290',\n",
       " 'https://www.flipkart.com/paris-boy-sneakers-men/p/itm16e0548784742?pid=SHOFUUETTBGFFQMG&lid=LSTSHOFUUETTBGFFQMGYGBNDG&marketplace=FLIPKART&srno=s_15_598&otracker=search&otracker1=search&fm=SEARCH&iid=d9b9a574-b01c-4bc7-a16e-f7fe5c1d6e42.SHOFUUETTBGFFQMG.SEARCH&ppt=sp&ppn=sp&ssid=jwrjb3cj800000001611328363509&qH=a1743c0d39461290',\n",
       " 'https://www.flipkart.com/provogue-pro-np-aw08-sneakers-men/p/itmffuafb87vbffa?pid=SHOF7AW4K2WWDAYT&lid=LSTSHOF7AW4K2WWDAYTEHQW3D&marketplace=FLIPKART&srno=s_15_599&otracker=search&otracker1=search&fm=SEARCH&iid=d9b9a574-b01c-4bc7-a16e-f7fe5c1d6e42.SHOF7AW4K2WWDAYT.SEARCH&ppt=sp&ppn=sp&ssid=jwrjb3cj800000001611328363509&qH=a1743c0d39461290']"
      ]
     },
     "execution_count": 663,
     "metadata": {},
     "output_type": "execute_result"
    }
   ],
   "source": [
    "URL"
   ]
  },
  {
   "cell_type": "code",
   "execution_count": 665,
   "metadata": {},
   "outputs": [],
   "source": [
    "#slicing to get first 100 url's\n",
    "list_of_url=URL[0:100]"
   ]
  },
  {
   "cell_type": "code",
   "execution_count": 666,
   "metadata": {},
   "outputs": [
    {
     "data": {
      "text/plain": [
       "100"
      ]
     },
     "execution_count": 666,
     "metadata": {},
     "output_type": "execute_result"
    }
   ],
   "source": [
    "#confirming the length of url's\n",
    "len(list_of_url)"
   ]
  },
  {
   "cell_type": "code",
   "execution_count": 690,
   "metadata": {},
   "outputs": [],
   "source": [
    "#going to the url of first sneaker through our driver\n",
    "driver.get(list_of_url[0])"
   ]
  },
  {
   "cell_type": "code",
   "execution_count": 692,
   "metadata": {},
   "outputs": [
    {
     "name": "stderr",
     "output_type": "stream",
     "text": [
      "100%|██████████| 100/100 [07:13<00:00,  4.34s/it]\n"
     ]
    }
   ],
   "source": [
    "#running a loop to extract all the required information from the list_of_url\n",
    "from tqdm import tqdm\n",
    "for i in tqdm(list_of_url):\n",
    "    driver.get(i)\n",
    "    try:\n",
    "        brand=driver.find_element_by_xpath(\"//span[@class='G6XhRU']\").text\n",
    "        Brand.append(brand)\n",
    "        description=driver.find_element_by_xpath(\"//span[@class='B_NuCI']\").text\n",
    "        Product_Description.append(description)\n",
    "        price=driver.find_element_by_xpath(\"//div[@class='_30jeq3 _16Jk6d']\").text\n",
    "        Price.append(price)\n",
    "        discount=driver.find_element_by_xpath(\"//div[@class='_3Ay6Sb _31Dcoz pZkvcx']/span\").text\n",
    "        Discount.append(discount)\n",
    "    except NoSuchElementException:\n",
    "        #Brand.append(\"Null\")\n",
    "        #Product_Description.append(\"Null\")\n",
    "        #Price.append(\"Null\")\n",
    "        Discount.append('Null')\n",
    "    time.sleep(3)"
   ]
  },
  {
   "cell_type": "code",
   "execution_count": 693,
   "metadata": {},
   "outputs": [
    {
     "data": {
      "text/plain": [
       "['Chevit ',\n",
       " 'World Wear Footwear ',\n",
       " 'Robbie jones ',\n",
       " 'Chevit ',\n",
       " 'Oricum ',\n",
       " 'Chevit ',\n",
       " 'Restinfoot ',\n",
       " 'Aura ',\n",
       " 'Clymb ',\n",
       " 'Shoes Bank ',\n",
       " 'Armado ',\n",
       " 'Chevit ',\n",
       " 'Chevit ',\n",
       " 'Chevit ',\n",
       " 'Chevit ',\n",
       " 'Red Rose ',\n",
       " 'ADIDAS ',\n",
       " 'SCATCHITE ',\n",
       " 'Kraasa ',\n",
       " 'Rockfield ',\n",
       " 'T-Rock ',\n",
       " 'World Wear Footwear ',\n",
       " 'Believe ',\n",
       " 'ALFIYA ',\n",
       " 'Chevit ',\n",
       " 'Essence ',\n",
       " 'Sparx ',\n",
       " 'Axter ',\n",
       " 'Airland ',\n",
       " 'Armado ',\n",
       " 'Rockfield ',\n",
       " 'Chevit ',\n",
       " 'Robbie Jones ',\n",
       " 'Magnolia ',\n",
       " 'bluemaker ',\n",
       " 'Numenzo ',\n",
       " 'Shoefly ',\n",
       " 'Red Rose ',\n",
       " 'Shoefly ',\n",
       " 'BRUTON ',\n",
       " 'Chevit ',\n",
       " 'ASTEROID ',\n",
       " 'World Wear Footwear ',\n",
       " 'Shoefly ',\n",
       " 'D-SNEAKERZ ',\n",
       " 'Swiggy ',\n",
       " 'Aadi ',\n",
       " 'Armado ',\n",
       " 'Stinson ',\n",
       " 'Camfoot ',\n",
       " 'Sparx ',\n",
       " 'Nike ',\n",
       " 'Axter ',\n",
       " 'Wika ',\n",
       " 'Edoeviv ',\n",
       " 'Provogue ',\n",
       " 'Chevit ',\n",
       " 'Stinson ',\n",
       " 'Sparx ',\n",
       " 'Chevit ',\n",
       " 'ADIDAS ',\n",
       " 'Essence ',\n",
       " 'Chevit ',\n",
       " 'Magnolia ',\n",
       " 'Jabra ',\n",
       " 'Chevit ',\n",
       " 'Bacca Bucci ',\n",
       " 'Puma ',\n",
       " 'Kavon ',\n",
       " 'United Colors of Benetton ',\n",
       " 'Zorth ',\n",
       " 'Puma ',\n",
       " 'Believe ',\n",
       " 'Jootiyapa ',\n",
       " 'Puma ',\n",
       " 'Believe ',\n",
       " 'Nike ',\n",
       " 'Puma ',\n",
       " 'Kraasa ',\n",
       " 'ADIDAS ',\n",
       " 'Chevit ',\n",
       " 'Nike ',\n",
       " 'Ducati ',\n",
       " 'Bacca Bucci ',\n",
       " 'Provogue ',\n",
       " 'Rockfield ',\n",
       " 'Kenamin ',\n",
       " 'Stranger Brothers ',\n",
       " 'ADIDAS ',\n",
       " 'Flying Machine ',\n",
       " 'Nike ',\n",
       " 'Sparx ',\n",
       " 'Jack & Jones ',\n",
       " 'Oricum ',\n",
       " 'D-SNEAKERZ ',\n",
       " 'Oricum ',\n",
       " 'Arivo ',\n",
       " 'Asian ',\n",
       " 'Puma ',\n",
       " 'M7 By Metronaut ']"
      ]
     },
     "execution_count": 693,
     "metadata": {},
     "output_type": "execute_result"
    }
   ],
   "source": [
    "Brand"
   ]
  },
  {
   "cell_type": "code",
   "execution_count": 694,
   "metadata": {},
   "outputs": [
    {
     "data": {
      "text/plain": [
       "['Combo Pack of 4 Casual Sneakers With Sneakers For Men  (Multicolor)',\n",
       " 'Combo Pack of 4 Latest Collection Stylish Casual Loafer Sneakers Shoes Sneakers For Men  (Multicolor)',\n",
       " 'Casual Sneakers Shoes For Men Sneakers For Men  (White)',\n",
       " '171 Smart Tan Lace-Ups Casuals for Men Sneakers For Men  (Tan)',\n",
       " 'Combo pack of 2 casual sneaker shoes for men Sneakers For Men  (Multicolor)',\n",
       " \"Lightweight Combo Pack of 02 Trendy Sneakers Casuals For Men's (Red, Yellow) Sneakers For Men  (Red, Yellow)\",\n",
       " \"Casual shoes,Sneakers for men's,shoes for men's Sneakers For Men  (Grey)\",\n",
       " 'Stylish and Comfortable Sneakers For Men  (Black)',\n",
       " 'Sneakers For Men  (Black)',\n",
       " \"White Sneaker For Men's/Boy's Sneakers For Men  (White)\",\n",
       " 'casual shoes For Mens Combo(AR)-1658-1619 ( Multicolor-Pack of 2) Sneakers For Men  (Multicolor)',\n",
       " 'Smart Casuals Canvas Shoes Combo pack of 2 Sneakers For Men  (Multicolor)',\n",
       " '168 Smart Red Lace-Ups Casuals for Men Sneakers For Men  (Red, Black)',\n",
       " '170 Smart Grey Lace-Ups Casuals for Men Sneakers For Men  (Grey)',\n",
       " 'Super 445 Fashion Sneakers For Men  (Navy)',\n",
       " 'Sneakers For Men  (Blue)',\n",
       " 'EASY VULC 2.0 Sneakers For Men  (Black)',\n",
       " 'Sneakers Sneakers For Men  (White)',\n",
       " 'Casuals, Canvas, Partywear Sneakers For Men  (White)',\n",
       " 'Sneakers For Men  (White)',\n",
       " 'Synthetic Leather Casual Partywear Wedding Sneakers Shoes For Men Sneakers For Men  (Grey)',\n",
       " '5011-Latest Collection Stylish Casual Loafer Sneakers Shoes For Men Sneakers For Men  (Red)',\n",
       " 'Sneakers for men(black_10) Sneakers For Men  (Black)',\n",
       " 'Shoes in Black Color Party wear/OutShoes in Black Color Party wear/Outdoor/Casual Shoes For Men (Black)door/Casual/ Running Shoes For Men (Black) Sneakers For Men  (Black)',\n",
       " 'Lightweight Combo Pack of 02 Trendy Casuals Sneakers For Men  (Orange, Green)',\n",
       " 'Sneakers For Men  (Blue)',\n",
       " 'SM-322 Sneakers For Men  (Black, Grey)',\n",
       " 'Combo Pack of 2 Latest Collection Stylish Casual Loafer Sneakers Shoes For Men Sneakers For Men  (Blue, Red, Black)',\n",
       " 'shoe Sneakers For Men  (Red)',\n",
       " 'shoes For Mens Combo(AR)-1645-1621 ( Multicolor-Pack of 2) Sneakers For Men  (Multicolor)',\n",
       " 'Sneakers For Men  (Black)',\n",
       " 'Smart Casuals Canvas Shoes Combo pack of 2 Sneakers For Men  (Multicolor)',\n",
       " 'Casual Sneakers Black Shoes For Men Sneakers For Men  (Black)',\n",
       " 'White Sneakers Sneakers For Men  (White)',\n",
       " 'casual for men (blue 06) Sneakers For Men  (Blue)',\n",
       " 'Sneakers For Men  (White)',\n",
       " 'Combo Men Pack of 2 Loafers Shoes Sneakers For Men  (Black, Red)',\n",
       " 'Sneakers For Men  (Blue)',\n",
       " 'Combo Men Pack of 2 Loafers Shoes Sneakers For Men  (Black, Red)',\n",
       " 'Combo Pack of 5 Casual Sneakers With Sneakers For Men  (Multicolor)',\n",
       " '169 Smart Sky Blue Lace-Ups Casuals for Men Sneakers For Men  (Blue)',\n",
       " 'Feather Print New Spring Season White Shoes Men Running Flat PU Sneakers Male White Board Shoes Sports Outdoor Shoes  Sneakers For Men  (White)',\n",
       " 'Combo Pack of 2 Latest Collection Stylish casual Sports Sneakers For Men  (Multicolor)',\n",
       " 'Combo Men Pack of 2 Loafers Shoes Sneakers For Men  (Black, Red)',\n",
       " \"Casual , Partywear Sneakers Shoes For Men's And Boys White Color Sneakers For Men  (White)\",\n",
       " 'Casual Loafers, Sneakers Shoes for Men Pack of 5 Combo(O)-1667-349-466-1224-1258 Sneakers For Men  (Multicolor)',\n",
       " 'Sneakers For Men  (Black)',\n",
       " 'shoes For Mens Combo(AR)-1660-1566 ( Multicolor-Pack of 2) Sneakers For Men  (Multicolor)',\n",
       " 'Combo of 5 Multicolor Casual Sneakers Shoes For Men Sneakers For Men  (Multicolor)',\n",
       " 'Combo Pack of 2 Latest Collection Stylish Casual Shoes Sneakers For Men  (Multicolor)',\n",
       " 'SM-439 Sneakers For Men  (White)',\n",
       " 'Court Royale Shoe Sneakers For Men  (White)',\n",
       " 'Combo Pack of 2 Casual Loafer Sneakers Shoes Sneakers For Men  (Multicolor)',\n",
       " 'Sneakers For Men  (White)',\n",
       " 'Sneakers For Men  (White) Sneakers For Men  (White)',\n",
       " 'Sneakers For Men  (Navy)',\n",
       " 'Combo Pack of 5 Casual Sneakers With Sneakers For Men  (Multicolor)',\n",
       " 'Combo Pack Of 3 Sneakers For Men  (Black, Yellow)',\n",
       " 'SM-322 Sneakers For Men  (Blue, Grey)',\n",
       " 'Smart Casuals Canvas Shoes Combo pack of 2 Sneakers For Men  (Multicolor)',\n",
       " 'Adiset M Sneakers For Men  (White)',\n",
       " 'Sneakers For Men  (Navy)',\n",
       " 'Chevit Lightweight Combo Pack of 02 Trendy Casuals Sneakers For Men  (Yellow, Orange)',\n",
       " 'Inspired Dectron Sneakers For Men  (Yellow)',\n",
       " 'Sneakers For Men  (Navy)',\n",
       " \"Chevit Lightweight Combo Pack of 02 Trendy Sneakers Casuals For Men's Sneakers For Men  (Orange, Green)\",\n",
       " 'Fashion Sneakers Sneakers For Men  (Olive)',\n",
       " 'Pronto V2 IDP Sneakers For Men  (White)',\n",
       " 'Sneakers For Men  (Orange)',\n",
       " 'Sneakers For Men  (White)',\n",
       " 'New Fashion Outdoor Trendy Lightweight Casual,Canvas Stylish Partywear Sneakers Shoes Boys Sneakers For Men  (Yellow)',\n",
       " 'Smash Perf Sneakers For Men  (Black)',\n",
       " 'Sneakers for men(blue_6) Sneakers For Men  (Blue)',\n",
       " \"LIVE'S Sneakers For Men  (Blue, Brown)\",\n",
       " 'Cape IDP Sneakers For Men  (Green)',\n",
       " 'Sneakers for men(beige_8) Sneakers For Men  (Beige)',\n",
       " \"Nike Court VintageMen's Shoe Sneakers For Men  (White)\",\n",
       " 'Icon IDP Sneakers For Men  (Green)',\n",
       " 'Sneakers For Men  (Natural)',\n",
       " 'VS PACE Sneakers For Men  (White)',\n",
       " 'Glamorous Desing Combo Pack of 2 Outdoor Sneakers For Men  (Black, Yellow)',\n",
       " 'SB CHECK SOLAR CNVS Sneakers For Men  (Navy)',\n",
       " 'Sneakers For Men  (Tan)',\n",
       " \"Men's Ultraforce Mid-top Athletic-Inspired Retro Fashion Casual/outdoor Sneakers for Men-Tan Sneakers For Men  (Tan)\",\n",
       " 'Sneakers For Men  (Navy)',\n",
       " 'Sneakers For Men  (White)',\n",
       " 'Sneakers For Men  (Blue)',\n",
       " 'Sneakers For Men  (Black)',\n",
       " 'VS PACE Sneakers For Men  (White)',\n",
       " 'NICOLE Sneakers For Men  (Black)',\n",
       " 'Nike SB AlleyoopSkate Shoe Sneakers For Men  (White)',\n",
       " 'SM-162 Sneakers For Men  (Black)',\n",
       " 'JFWHUNTER SUEDE WINTER WHITE NOOS IN Sneakers For Men  (White)',\n",
       " 'combo pack of 3 casual sneakers and loafers shoes for men Sneakers For Men  (Multicolor)',\n",
       " \"Casual , Partywear Sneakers Shoes For Men's And Boys Black Color Party Wear For Men Sneakers For Men  (Grey)\",\n",
       " 'Sneakers Shoes for Men Pack of 2 Combo(O)-1636-1614 Sneakers For Men  (Multicolor)',\n",
       " 'Fashion Outdoor Canvas Casual Light Weight Lace-up Evening Walk Sneakers For Men  (Multicolor)',\n",
       " 'Skypy-31 Walking Shoes,Training Shoes,Sneakers,Loafers,Canvas Shoes,Casual Shoes,Sneakers Sneakers For Men  (Grey)',\n",
       " 'Electron Street Sneakers For Men  (Black)',\n",
       " 'Sneakers For Men  (Black)']"
      ]
     },
     "execution_count": 694,
     "metadata": {},
     "output_type": "execute_result"
    }
   ],
   "source": [
    "Product_Description"
   ]
  },
  {
   "cell_type": "code",
   "execution_count": 695,
   "metadata": {},
   "outputs": [
    {
     "data": {
      "text/plain": [
       "['₹499',\n",
       " '₹499',\n",
       " '₹378',\n",
       " '₹224',\n",
       " '₹398',\n",
       " '₹499',\n",
       " '₹350',\n",
       " '₹279',\n",
       " '₹299',\n",
       " '₹349',\n",
       " '₹498',\n",
       " '₹299',\n",
       " '₹224',\n",
       " '₹224',\n",
       " '₹369',\n",
       " '₹359',\n",
       " '₹1,319',\n",
       " '₹377',\n",
       " '₹424',\n",
       " '₹359',\n",
       " '₹381',\n",
       " '₹240',\n",
       " '₹399',\n",
       " '₹449',\n",
       " '₹499',\n",
       " '₹424',\n",
       " '₹749',\n",
       " '₹297',\n",
       " '₹258',\n",
       " '₹498',\n",
       " '₹359',\n",
       " '₹299',\n",
       " '₹404',\n",
       " '₹311',\n",
       " '₹424',\n",
       " '₹398',\n",
       " '₹299',\n",
       " '₹359',\n",
       " '₹362',\n",
       " '₹759',\n",
       " '₹224',\n",
       " '₹395',\n",
       " '₹499',\n",
       " '₹399',\n",
       " '₹368',\n",
       " '₹759',\n",
       " '₹314',\n",
       " '₹498',\n",
       " '₹599',\n",
       " '₹328',\n",
       " '₹699',\n",
       " '₹2,022',\n",
       " '₹299',\n",
       " '₹398',\n",
       " '₹378',\n",
       " '₹613',\n",
       " '₹634',\n",
       " '₹499',\n",
       " '₹769',\n",
       " '₹299',\n",
       " '₹1,907',\n",
       " '₹424',\n",
       " '₹472',\n",
       " '₹399',\n",
       " '₹479',\n",
       " '₹472',\n",
       " '₹949',\n",
       " '₹2,321',\n",
       " '₹329',\n",
       " '₹1,479',\n",
       " '₹391',\n",
       " '₹1,999',\n",
       " '₹360',\n",
       " '₹294',\n",
       " '₹2,169',\n",
       " '₹402',\n",
       " '₹2,472',\n",
       " '₹1,781',\n",
       " '₹471',\n",
       " '₹2,039',\n",
       " '₹600',\n",
       " '₹1,918',\n",
       " '₹1,699',\n",
       " '₹996',\n",
       " '₹616',\n",
       " '₹399',\n",
       " '₹284',\n",
       " '₹398',\n",
       " '₹2,119',\n",
       " '₹998',\n",
       " '₹3,572',\n",
       " '₹809',\n",
       " '₹2,249',\n",
       " '₹806',\n",
       " '₹430',\n",
       " '₹598',\n",
       " '₹402',\n",
       " '₹539',\n",
       " '₹2,789',\n",
       " '₹590']"
      ]
     },
     "execution_count": 695,
     "metadata": {},
     "output_type": "execute_result"
    }
   ],
   "source": [
    "Price"
   ]
  },
  {
   "cell_type": "code",
   "execution_count": 696,
   "metadata": {},
   "outputs": [
    {
     "data": {
      "text/plain": [
       "['75% off',\n",
       " '75% off',\n",
       " '62% off',\n",
       " '55% off',\n",
       " '60% off',\n",
       " '50% off',\n",
       " '64% off',\n",
       " '44% off',\n",
       " '70% off',\n",
       " '65% off',\n",
       " '50% off',\n",
       " '70% off',\n",
       " '55% off',\n",
       " '55% off',\n",
       " '26% off',\n",
       " '64% off',\n",
       " '67% off',\n",
       " '62% off',\n",
       " '57% off',\n",
       " '64% off',\n",
       " '61% off',\n",
       " '51% off',\n",
       " '60% off',\n",
       " '55% off',\n",
       " '68% off',\n",
       " '57% off',\n",
       " '34% off',\n",
       " '70% off',\n",
       " '48% off',\n",
       " '50% off',\n",
       " '64% off',\n",
       " '70% off',\n",
       " '59% off',\n",
       " '68% off',\n",
       " '57% off',\n",
       " '60% off',\n",
       " '70% off',\n",
       " '28% off',\n",
       " '63% off',\n",
       " '81% off',\n",
       " '55% off',\n",
       " '60% off',\n",
       " '50% off',\n",
       " '60% off',\n",
       " '44% off',\n",
       " '69% off',\n",
       " '68% off',\n",
       " '50% off',\n",
       " '75% off',\n",
       " '67% off',\n",
       " 'Null',\n",
       " '55% off',\n",
       " '70% off',\n",
       " '60% off',\n",
       " '45% off',\n",
       " '70% off',\n",
       " '74% off',\n",
       " '66% off',\n",
       " '23% off',\n",
       " '70% off',\n",
       " '47% off',\n",
       " '57% off',\n",
       " '70% off',\n",
       " '60% off',\n",
       " '52% off',\n",
       " '52% off',\n",
       " '62% off',\n",
       " '46% off',\n",
       " '67% off',\n",
       " '60% off',\n",
       " '60% off',\n",
       " '50% off',\n",
       " '63% off',\n",
       " '41% off',\n",
       " '38% off',\n",
       " '59% off',\n",
       " '45% off',\n",
       " '46% off',\n",
       " '52% off',\n",
       " '49% off',\n",
       " '59% off',\n",
       " '60% off',\n",
       " '54% off',\n",
       " '60% off',\n",
       " '52% off',\n",
       " '60% off',\n",
       " '71% off',\n",
       " '60% off',\n",
       " '47% off',\n",
       " '61% off',\n",
       " '45% off',\n",
       " '10% off',\n",
       " '55% off',\n",
       " '46% off',\n",
       " '56% off',\n",
       " '40% off',\n",
       " '69% off',\n",
       " '10% off',\n",
       " '38% off',\n",
       " '60% off']"
      ]
     },
     "execution_count": 696,
     "metadata": {},
     "output_type": "execute_result"
    }
   ],
   "source": [
    "Discount"
   ]
  },
  {
   "cell_type": "code",
   "execution_count": 697,
   "metadata": {},
   "outputs": [
    {
     "name": "stdout",
     "output_type": "stream",
     "text": [
      "100 100 100 100\n"
     ]
    }
   ],
   "source": [
    "#printing length\n",
    "print(len(Brand),len(Product_Description),len(Price),len(Discount))"
   ]
  },
  {
   "cell_type": "code",
   "execution_count": 698,
   "metadata": {},
   "outputs": [],
   "source": [
    "#creating a dataframe\n",
    "\n",
    "Sneakers=pd.DataFrame({})\n",
    "Sneakers['Brand']=Brand\n",
    "Sneakers['Product_Description']=Product_Description\n",
    "Sneakers['Price']=Price\n",
    "Sneakers['Discount']=Discount"
   ]
  },
  {
   "cell_type": "code",
   "execution_count": 699,
   "metadata": {},
   "outputs": [
    {
     "data": {
      "text/html": [
       "<div>\n",
       "<style scoped>\n",
       "    .dataframe tbody tr th:only-of-type {\n",
       "        vertical-align: middle;\n",
       "    }\n",
       "\n",
       "    .dataframe tbody tr th {\n",
       "        vertical-align: top;\n",
       "    }\n",
       "\n",
       "    .dataframe thead th {\n",
       "        text-align: right;\n",
       "    }\n",
       "</style>\n",
       "<table border=\"1\" class=\"dataframe\">\n",
       "  <thead>\n",
       "    <tr style=\"text-align: right;\">\n",
       "      <th></th>\n",
       "      <th>Brand</th>\n",
       "      <th>Product_Description</th>\n",
       "      <th>Price</th>\n",
       "      <th>Discount</th>\n",
       "    </tr>\n",
       "  </thead>\n",
       "  <tbody>\n",
       "    <tr>\n",
       "      <th>0</th>\n",
       "      <td>Chevit</td>\n",
       "      <td>Combo Pack of 4 Casual Sneakers With Sneakers ...</td>\n",
       "      <td>₹499</td>\n",
       "      <td>75% off</td>\n",
       "    </tr>\n",
       "    <tr>\n",
       "      <th>1</th>\n",
       "      <td>World Wear Footwear</td>\n",
       "      <td>Combo Pack of 4 Latest Collection Stylish Casu...</td>\n",
       "      <td>₹499</td>\n",
       "      <td>75% off</td>\n",
       "    </tr>\n",
       "    <tr>\n",
       "      <th>2</th>\n",
       "      <td>Robbie jones</td>\n",
       "      <td>Casual Sneakers Shoes For Men Sneakers For Men...</td>\n",
       "      <td>₹378</td>\n",
       "      <td>62% off</td>\n",
       "    </tr>\n",
       "    <tr>\n",
       "      <th>3</th>\n",
       "      <td>Chevit</td>\n",
       "      <td>171 Smart Tan Lace-Ups Casuals for Men Sneaker...</td>\n",
       "      <td>₹224</td>\n",
       "      <td>55% off</td>\n",
       "    </tr>\n",
       "    <tr>\n",
       "      <th>4</th>\n",
       "      <td>Oricum</td>\n",
       "      <td>Combo pack of 2 casual sneaker shoes for men S...</td>\n",
       "      <td>₹398</td>\n",
       "      <td>60% off</td>\n",
       "    </tr>\n",
       "    <tr>\n",
       "      <th>...</th>\n",
       "      <td>...</td>\n",
       "      <td>...</td>\n",
       "      <td>...</td>\n",
       "      <td>...</td>\n",
       "    </tr>\n",
       "    <tr>\n",
       "      <th>95</th>\n",
       "      <td>Oricum</td>\n",
       "      <td>Sneakers Shoes for Men Pack of 2 Combo(O)-1636...</td>\n",
       "      <td>₹598</td>\n",
       "      <td>40% off</td>\n",
       "    </tr>\n",
       "    <tr>\n",
       "      <th>96</th>\n",
       "      <td>Arivo</td>\n",
       "      <td>Fashion Outdoor Canvas Casual Light Weight Lac...</td>\n",
       "      <td>₹402</td>\n",
       "      <td>69% off</td>\n",
       "    </tr>\n",
       "    <tr>\n",
       "      <th>97</th>\n",
       "      <td>Asian</td>\n",
       "      <td>Skypy-31 Walking Shoes,Training Shoes,Sneakers...</td>\n",
       "      <td>₹539</td>\n",
       "      <td>10% off</td>\n",
       "    </tr>\n",
       "    <tr>\n",
       "      <th>98</th>\n",
       "      <td>Puma</td>\n",
       "      <td>Electron Street Sneakers For Men  (Black)</td>\n",
       "      <td>₹2,789</td>\n",
       "      <td>38% off</td>\n",
       "    </tr>\n",
       "    <tr>\n",
       "      <th>99</th>\n",
       "      <td>M7 By Metronaut</td>\n",
       "      <td>Sneakers For Men  (Black)</td>\n",
       "      <td>₹590</td>\n",
       "      <td>60% off</td>\n",
       "    </tr>\n",
       "  </tbody>\n",
       "</table>\n",
       "<p>100 rows × 4 columns</p>\n",
       "</div>"
      ],
      "text/plain": [
       "                   Brand                                Product_Description  \\\n",
       "0                Chevit   Combo Pack of 4 Casual Sneakers With Sneakers ...   \n",
       "1   World Wear Footwear   Combo Pack of 4 Latest Collection Stylish Casu...   \n",
       "2          Robbie jones   Casual Sneakers Shoes For Men Sneakers For Men...   \n",
       "3                Chevit   171 Smart Tan Lace-Ups Casuals for Men Sneaker...   \n",
       "4                Oricum   Combo pack of 2 casual sneaker shoes for men S...   \n",
       "..                   ...                                                ...   \n",
       "95               Oricum   Sneakers Shoes for Men Pack of 2 Combo(O)-1636...   \n",
       "96                Arivo   Fashion Outdoor Canvas Casual Light Weight Lac...   \n",
       "97                Asian   Skypy-31 Walking Shoes,Training Shoes,Sneakers...   \n",
       "98                 Puma           Electron Street Sneakers For Men  (Black)   \n",
       "99      M7 By Metronaut                           Sneakers For Men  (Black)   \n",
       "\n",
       "     Price Discount  \n",
       "0     ₹499  75% off  \n",
       "1     ₹499  75% off  \n",
       "2     ₹378  62% off  \n",
       "3     ₹224  55% off  \n",
       "4     ₹398  60% off  \n",
       "..     ...      ...  \n",
       "95    ₹598  40% off  \n",
       "96    ₹402  69% off  \n",
       "97    ₹539  10% off  \n",
       "98  ₹2,789  38% off  \n",
       "99    ₹590  60% off  \n",
       "\n",
       "[100 rows x 4 columns]"
      ]
     },
     "execution_count": 699,
     "metadata": {},
     "output_type": "execute_result"
    }
   ],
   "source": [
    "Sneakers"
   ]
  },
  {
   "cell_type": "markdown",
   "metadata": {},
   "source": [
    "# Q9: Web scraping shoes from myntra.com"
   ]
  },
  {
   "cell_type": "code",
   "execution_count": 725,
   "metadata": {},
   "outputs": [],
   "source": [
    "#connecting to the webdriver\n",
    "driver = webdriver.Chrome(r\"C:\\Users\\saurabh\\Downloads\\chromedriver_win32\\chromedriver.exe\")"
   ]
  },
  {
   "cell_type": "code",
   "execution_count": 726,
   "metadata": {},
   "outputs": [],
   "source": [
    "#specifying the url of the webpage to be scraped\n",
    "url=\"https://www.myntra.com/shoes\""
   ]
  },
  {
   "cell_type": "code",
   "execution_count": 727,
   "metadata": {},
   "outputs": [],
   "source": [
    "#opening the webpage through our driver\n",
    "driver.get(url)"
   ]
  },
  {
   "cell_type": "code",
   "execution_count": 728,
   "metadata": {},
   "outputs": [],
   "source": [
    "#clicking on price filter\n",
    "driver.find_element_by_xpath('//*[@id=\"mountRoot\"]/div/div[1]/main/div[3]/div[1]/section/div/div[5]/ul/li[2]/label/div').click()"
   ]
  },
  {
   "cell_type": "code",
   "execution_count": 729,
   "metadata": {},
   "outputs": [],
   "source": [
    "#clicking on color filter\n",
    "driver.find_element_by_xpath('//*[@id=\"mountRoot\"]/div/div[1]/main/div[3]/div[1]/section/div/div[6]/ul/li[1]/label/div').click()"
   ]
  },
  {
   "cell_type": "code",
   "execution_count": 730,
   "metadata": {},
   "outputs": [],
   "source": [
    "#creating the empty lists\n",
    "Brand=[]\n",
    "Product_Description=[]\n",
    "Price=[]"
   ]
  },
  {
   "cell_type": "code",
   "execution_count": 736,
   "metadata": {},
   "outputs": [],
   "source": [
    "#getting the list of url of first 100 shoes\n",
    "URL=[]\n",
    "for i in range(0,2):\n",
    "    shoes=driver.find_elements_by_xpath(\"//li[@class='product-base']\")\n",
    "    for i in shoes:\n",
    "        #shoes1=i.find_element_by_tag_name(\"div\")\n",
    "        #shoes2=shoes1.find_element_by_tag_name(\"div\")\n",
    "        shoes3=i.find_element_by_tag_name(\"a\")\n",
    "        URL.append(shoes3.get_attribute('href'))\n",
    "    driver.find_element_by_xpath('//*[@id=\"desktopSearchResults\"]/div[2]/section/div[2]/ul/li[3]/a').click()\n",
    "    time.sleep(3)"
   ]
  },
  {
   "cell_type": "code",
   "execution_count": 737,
   "metadata": {},
   "outputs": [
    {
     "data": {
      "text/plain": [
       "['https://www.myntra.com/sports-shoes/nike/nike-men-black-zoom-fly-3-running-shoes/12738346/buy',\n",
       " 'https://www.myntra.com/casual-shoes/adidas-originals/adidas-originals-men-black--white-superstar-textured-detail-sneakers/11353564/buy',\n",
       " 'https://www.myntra.com/sports-shoes/nike/nike-men-black-zoom-winflo-7-running-shoes/11652600/buy',\n",
       " 'https://www.myntra.com/casual-shoes/geox/geox-men-black-solid-leather-sneakers/11107534/buy',\n",
       " 'https://www.myntra.com/sports-shoes/nike/nike-men-black-jordan-delta-basketball-shoes/12738432/buy',\n",
       " 'https://www.myntra.com/sports-shoes/puma/puma-men-black-hybrid-netfit-astro-running-shoes/11418106/buy',\n",
       " 'https://www.myntra.com/sports-shoes/nike/nike-men-black-jordan-zoom-92-leather-mid-top-basketball-shoes/12738330/buy',\n",
       " 'https://www.myntra.com/casual-shoes/aldo/aldo-men-black-leather-loafers/12668052/buy',\n",
       " 'https://www.myntra.com/sports-shoes/nike/nike-men-black--yellow-joyride-running-shoes/11979996/buy',\n",
       " 'https://www.myntra.com/casual-shoes/geox/geox-men-black-solid-leather-sneakers/10884622/buy',\n",
       " 'https://www.myntra.com/sports-shoes/nike/nike-men-black-legend-react-3-running-shoes/11979700/buy',\n",
       " 'https://www.myntra.com/sports-shoes/nike/nike-men-black-air-zoom-pegasus-37-flyease-running-shoes/11980064/buy',\n",
       " 'https://www.myntra.com/sports-shoes/under-armour/under-armour-men-black--grey-woven-design-hovr-phantom-se-glow-running-shoes/10692766/buy',\n",
       " 'https://www.myntra.com/flats/cole-haan/cole-haan-women-black-solid-leather-ballerinas/11426342/buy',\n",
       " 'https://www.myntra.com/casual-shoes/nike/nike-men-black-solid-skyve-max-sneakers/11980126/buy',\n",
       " 'https://www.myntra.com/sports-shoes/nike/nike-men-black-zoom-freak-2-leather-basketball-shoes/12738366/buy',\n",
       " 'https://www.myntra.com/casual-shoes/adidas-originals/adidas-originals-men-black--charcoal-grey-self-design-ozweego-sneakers/11352776/buy',\n",
       " 'https://www.myntra.com/casual-shoes/nike/nike-men-black--beige-jordan-delta-sneakers/11979792/buy',\n",
       " 'https://www.myntra.com/sports-shoes/nike/nike-women-black-air-zoom-pegasus-37-flyease-running-shoes/11979906/buy',\n",
       " 'https://www.myntra.com/casual-shoes/nike/nike-men-black-challenger-og-sneakers/11980128/buy',\n",
       " 'https://www.myntra.com/sports-shoes/nike/nike-men-black-legend-react-3-running-shoes/12738416/buy',\n",
       " 'https://www.myntra.com/casual-shoes/geox/geox-men-black-solid-leather-driving-shoes/11107532/buy',\n",
       " 'https://www.myntra.com/sports-shoes/nike/nike-women-black--beige-react-phantom-running-shoes/12738480/buy',\n",
       " 'https://www.myntra.com/sports-shoes/nike/nike-men-black-air-zoom-pegasus-37-running-shoes/11979982/buy',\n",
       " 'https://www.myntra.com/casual-shoes/tommy-hilfiger/tommy-hilfiger-women-black-leather-sneakers/12448986/buy',\n",
       " 'https://www.myntra.com/formal-shoes/geox/geox-men-black-solid-leather-formal-derbys/11774872/buy',\n",
       " 'https://www.myntra.com/sports-shoes/nike/nike-men-black-kd13-ep-mid-top-basketball-shoes/11980028/buy',\n",
       " 'https://www.myntra.com/sports-shoes/nike/nike-women-black-react-phantom-run-fk-2-running-shoes/11979848/buy',\n",
       " 'https://www.myntra.com/sports-shoes/adidas/adidas-men-black--charcoal-grey-woven-design-solar-drive-19-running-shoes/12031642/buy',\n",
       " 'https://www.myntra.com/casual-shoes/tommy-hilfiger/tommy-hilfiger-women-black-sneakers/12448888/buy',\n",
       " 'https://www.myntra.com/sports-shoes/under-armour/under-armour-men-black--fluorescent-green-ua-hovr-guardian-2-blk-sports-shoes/11373444/buy',\n",
       " 'https://www.myntra.com/formal-shoes/kenneth-cole/kenneth-cole-men-black-solid-leather-formal-brogues/12111708/buy',\n",
       " 'https://www.myntra.com/casual-shoes/nike/nike-women-black-air-max-verona-sneakers/11979820/buy',\n",
       " 'https://www.myntra.com/casual-shoes/cole-haan/cole-haan-women-black-woven-design-synthetic-leather-mid-top-sneakers/11578218/buy',\n",
       " 'https://www.myntra.com/casual-shoes/geox/geox-women-black-solid-leather-flatform-boots/13131904/buy',\n",
       " 'https://www.myntra.com/casual-shoes/nike/nike-women-black-air-max-siren-sneakers/12738322/buy',\n",
       " 'https://www.myntra.com/sports-shoes/under-armour/under-armour-women-black-woven-design-bluetooth-hovr-sonic-3-running-shoes-/11634252/buy',\n",
       " 'https://www.myntra.com/casual-shoes/tommy-hilfiger/tommy-hilfiger-women-black-sneakers/12448786/buy',\n",
       " 'https://www.myntra.com/sports-shoes/puma/puma-men-black-lqdcell-hydra-running-shoes/12282264/buy',\n",
       " 'https://www.myntra.com/casual-shoes/nike/nike-women-black-air-max-vg-r-sneakers/12738364/buy',\n",
       " 'https://www.myntra.com/sports-shoes/adidas-originals/adidas-originals-men-black-woven-design-nite-jogger-shoes/11353040/buy',\n",
       " 'https://www.myntra.com/formal-shoes/kenneth-cole/kenneth-cole-men-black-solid-leather-formal-derbys/12111710/buy',\n",
       " 'https://www.myntra.com/sports-shoes/adidas-originals/adidas-originals-men-black--silver-toned-woven-design-deerupt-running-shoes/11353002/buy',\n",
       " 'https://www.myntra.com/casual-shoes/adidas-originals/adidas-originals-men-black-woven-design-nmd-r1-sneakers/11353616/buy',\n",
       " 'https://www.myntra.com/casual-shoes/nike/nike-women-black--white-air-max-vg-r-colourblocked-sneakers/11980086/buy',\n",
       " 'https://www.myntra.com/formal-shoes/kenneth-cole/kenneth-cole-men-black-solid-leather-formal-derbys/12140872/buy',\n",
       " 'https://www.myntra.com/casual-shoes/cole-haan/cole-haan-men-black--zerogrand-all-day-stitchlite-runner-sneakers/11578266/buy',\n",
       " 'https://www.myntra.com/casual-shoes/aldo/aldo-women-black-sneakers/13285026/buy',\n",
       " 'https://www.myntra.com/casual-shoes/geox/geox-women-black-sequinned-slip-on-sneakers/10018963/buy',\n",
       " 'https://www.myntra.com/casual-shoes/geox/geox-men-black-solid-leather-mid-top-chelsea-boots/13131968/buy',\n",
       " 'https://www.myntra.com/sports-shoes/under-armour/under-armour-women-black-woven-design-charged-impulse-running-shoes/11373518/buy',\n",
       " 'https://www.myntra.com/formal-shoes/kenneth-cole/kenneth-cole-men-black-solid-leather-formal-slip-ons/12164814/buy',\n",
       " 'https://www.myntra.com/flats/cole-haan/cole-haan-women-black-solid-leather-open-toe-flats/13185200/buy',\n",
       " 'https://www.myntra.com/casual-shoes/cole-haan/cole-haan-women-black-woven-design-slip-on-sneakers/11910818/buy',\n",
       " 'https://www.myntra.com/casual-shoes/aldo/aldo-men-black-leather-loafers/12668052/buy',\n",
       " 'https://www.myntra.com/sports-shoes/under-armour/under-armour-women-black-mesh-running-shoes/10692706/buy',\n",
       " 'https://www.myntra.com/sports-shoes/adidas/adidas-men-black-self-striped-alphatorsion-running-shoes/12031738/buy',\n",
       " 'https://www.myntra.com/sports-shoes/under-armour/under-armour-women-black--lavender-woven-design-hovr-sonic-3-running-shoes/12247132/buy',\n",
       " 'https://www.myntra.com/casual-shoes/adidas-originals/adidas-originals-men-black-charcoal-grey-woven-design-nite-jogger-fluid-sneakers/12709294/buy',\n",
       " 'https://www.myntra.com/casual-shoes/kenneth-cole/kenneth-cole-men-black-textured-sneakers/12599738/buy',\n",
       " 'https://www.myntra.com/sports-shoes/under-armour/under-armour-women-black-hovr-rise-2-training-shoes/12247240/buy',\n",
       " 'https://www.myntra.com/sports-shoes/under-armour/under-armour-men-black--pink-woven-design-charged-bandit-5-running-shoes/11373480/buy',\n",
       " 'https://www.myntra.com/formal-shoes/kenneth-cole/kenneth-cole-men-black-solid-leather-formal-loafers/12468756/buy',\n",
       " 'https://www.myntra.com/casual-shoes/cole-haan/cole-haan-men-black-originalgrand-stitchlite-wingtip-oxford-sneakers/11052208/buy',\n",
       " 'https://www.myntra.com/sports-shoes/under-armour/under-armour-women-black--charcoal-grey-woven-design-liquify-rebel-running-shoes/12247064/buy',\n",
       " 'https://www.myntra.com/casual-shoes/cole-haan/cole-haan-men-black-leather-grandpro-tennis-sneakers/11578284/buy',\n",
       " 'https://www.myntra.com/casual-shoes/kenneth-cole/kenneth-cole-women-black-flat-boots/13263502/buy',\n",
       " 'https://www.myntra.com/casual-shoes/adidas-originals/adidas-originals-men-black-zx-2k-boost-solid-sneakers/12031826/buy',\n",
       " 'https://www.myntra.com/sports-shoes/under-armour/under-armour-men-black-woven-design-hovr-sonic-3-running-shoes/11373560/buy',\n",
       " 'https://www.myntra.com/casual-shoes/geox/geox-men-black-textured-leather-mid-top-brogues/11107518/buy',\n",
       " 'https://www.myntra.com/flats/cole-haan/cole-haan-women-black-solid-leather-open-toe-flats/10612998/buy',\n",
       " 'https://www.myntra.com/formal-shoes/davinchi/davinchi-black-solid-formal-leather-slip-on-shoes/13220678/buy',\n",
       " 'https://www.myntra.com/casual-shoes/cole-haan/cole-haan-men-black-generation-zerogrand-stitchlite-sneakers/11052214/buy',\n",
       " 'https://www.myntra.com/casual-shoes/geox/geox-women-black-solid-leather-high-top-flat-boots/10884620/buy',\n",
       " 'https://www.myntra.com/casual-shoes/diesel/diesel-men-black-danny-lc-sneakers/8474819/buy',\n",
       " 'https://www.myntra.com/formal-shoes/kenneth-cole/kenneth-cole-men-black-solid-leather-formal-derbys/12651380/buy',\n",
       " 'https://www.myntra.com/sports-shoes/xtep/xtep-men-black-textile-high-top-running-shoes/12679004/buy',\n",
       " 'https://www.myntra.com/casual-shoes/tommy-hilfiger/tommy-hilfiger-men-black-solid-heritage-seasonal-leather-sneakers/12448966/buy',\n",
       " 'https://www.myntra.com/casual-shoes/geox/geox-men-black-solid-leather-sneakers/11107534/buy',\n",
       " 'https://www.myntra.com/casual-shoes/geox/geox-men-black-solid-leather-sneakers/10884622/buy',\n",
       " 'https://www.myntra.com/casual-shoes/cole-haan/cole-haan-women-black-leather-loafers/11578206/buy',\n",
       " 'https://www.myntra.com/casual-shoes/cole-haan/cole-haan-women-black-sneakers/13077868/buy',\n",
       " 'https://www.myntra.com/sports-shoes/reebok/reebok-men-black-woven-design-forever-floatride-energy-2-running-shoes/12033700/buy',\n",
       " 'https://www.myntra.com/casual-shoes/tommy-hilfiger/tommy-hilfiger-men-black-ts-pro-1-sneakers/12449002/buy',\n",
       " 'https://www.myntra.com/casual-shoes/tommy-hilfiger/tommy-hilfiger-men-black-solid-iconic-mix-runner-sneakers/12448716/buy',\n",
       " 'https://www.myntra.com/formal-shoes/kenneth-cole/kenneth-cole-men-black-solid-formal-genuine-leather-derbys/13135142/buy',\n",
       " 'https://www.myntra.com/casual-shoes/tommy-hilfiger/tommy-hilfiger-men-black-flexi-mix-runner-sneakers/12449118/buy',\n",
       " 'https://www.myntra.com/casual-shoes/tommy-hilfiger/tommy-hilfiger-men-black-solid-essential-leather-detail-vulc-sneakers/12449020/buy',\n",
       " 'https://www.myntra.com/sports-shoes/skechers/skechers-men-black-go-run-ride-7-running-shoes/5648944/buy',\n",
       " 'https://www.myntra.com/formal-shoes/geox/geox-men-black-solid-leather-formal-slip-ons/11708772/buy',\n",
       " 'https://www.myntra.com/casual-shoes/skechers/skechers-women-black-dlites-30-air-sky--sneakers/12470582/buy',\n",
       " 'https://www.myntra.com/sports-shoes/xtep/xtep-men-black-textile-running-shoes/12679010/buy',\n",
       " 'https://www.myntra.com/casual-shoes/cole-haan/cole-haan-women-black-leather-sneakers/8199511/buy',\n",
       " 'https://www.myntra.com/casual-shoes/cole-haan/cole-haan-women-black-zerogrand-global-trainer-sneakers/11910804/buy',\n",
       " 'https://www.myntra.com/flats/cole-haan/cole-haan-women-black-solid-leather-open-toe-flats/11910814/buy',\n",
       " 'https://www.myntra.com/formal-shoes/geox/geox-men-black-solid-leather-formal-oxfords/11774934/buy',\n",
       " 'https://www.myntra.com/formal-shoes/heel--buckle-london/heel--buckle-london-men-black-solid-leather-formal-oxfords/10878290/buy',\n",
       " 'https://www.myntra.com/casual-shoes/fila/fila-women-black--printed-sneakers/11708852/buy',\n",
       " 'https://www.myntra.com/sports-shoes/under-armour/under-armour-women-black-charged-bandit-5-running-shoes/10692684/buy',\n",
       " 'https://www.myntra.com/casual-shoes/clarks/clarks-men-black-solid-leather-mid-top-derbys/9849855/buy']"
      ]
     },
     "execution_count": 737,
     "metadata": {},
     "output_type": "execute_result"
    }
   ],
   "source": [
    "URL"
   ]
  },
  {
   "cell_type": "code",
   "execution_count": 738,
   "metadata": {},
   "outputs": [
    {
     "data": {
      "text/plain": [
       "100"
      ]
     },
     "execution_count": 738,
     "metadata": {},
     "output_type": "execute_result"
    }
   ],
   "source": [
    "#checking the length of url's\n",
    "len(URL)"
   ]
  },
  {
   "cell_type": "code",
   "execution_count": 739,
   "metadata": {},
   "outputs": [],
   "source": [
    "#going to the url of first shoes through our driver\n",
    "driver.get(URL[0])"
   ]
  },
  {
   "cell_type": "code",
   "execution_count": 740,
   "metadata": {},
   "outputs": [
    {
     "name": "stderr",
     "output_type": "stream",
     "text": [
      "100%|██████████| 100/100 [09:01<00:00,  5.41s/it]\n"
     ]
    }
   ],
   "source": [
    "#running a loop to extract all the required information from the list_of_url\n",
    "from tqdm import tqdm\n",
    "for i in tqdm(URL):\n",
    "    driver.get(i)\n",
    "    try:\n",
    "        brand=driver.find_element_by_xpath('//*[@id=\"mountRoot\"]/div/div/div/main/div[2]/div[2]/div[1]/h1[1]').text\n",
    "        Brand.append(brand)\n",
    "    except NoSuchElementException:\n",
    "        Brand.append(\"Null\")\n",
    "    try:\n",
    "        description=driver.find_element_by_xpath('//*[@id=\"mountRoot\"]/div/div/div/main/div[2]/div[2]/div[1]/h1[2]').text\n",
    "        Product_Description.append(description)\n",
    "    except NoSuchElementException:\n",
    "        Product_Description.append(\"Null\")\n",
    "    try:\n",
    "        price=driver.find_element_by_xpath('//*[@id=\"mountRoot\"]/div/div/div/main/div[2]/div[2]/div[1]/p[1]/span[1]/strong').text\n",
    "        Price.append(price)\n",
    "    except NoSuchElementException:\n",
    "        Price.append(\"Null\")\n",
    "    time.sleep(3)"
   ]
  },
  {
   "cell_type": "code",
   "execution_count": 741,
   "metadata": {},
   "outputs": [
    {
     "data": {
      "text/plain": [
       "['Nike',\n",
       " 'ADIDAS Originals',\n",
       " 'Nike',\n",
       " 'Geox',\n",
       " 'Nike',\n",
       " 'Puma',\n",
       " 'Nike',\n",
       " 'ALDO',\n",
       " 'Nike',\n",
       " 'Geox',\n",
       " 'Nike',\n",
       " 'Nike',\n",
       " 'UNDER ARMOUR',\n",
       " 'Cole Haan',\n",
       " 'Nike',\n",
       " 'Nike',\n",
       " 'ADIDAS Originals',\n",
       " 'Nike',\n",
       " 'Nike',\n",
       " 'Nike',\n",
       " 'Nike',\n",
       " 'Geox',\n",
       " 'Nike',\n",
       " 'Nike',\n",
       " 'Tommy Hilfiger',\n",
       " 'Geox',\n",
       " 'Nike',\n",
       " 'Nike',\n",
       " 'ADIDAS',\n",
       " 'Tommy Hilfiger',\n",
       " 'UNDER ARMOUR',\n",
       " 'Kenneth Cole',\n",
       " 'Nike',\n",
       " 'Cole Haan',\n",
       " 'Geox',\n",
       " 'Nike',\n",
       " 'UNDER ARMOUR',\n",
       " 'Tommy Hilfiger',\n",
       " 'Puma',\n",
       " 'Nike',\n",
       " 'ADIDAS Originals',\n",
       " 'Kenneth Cole',\n",
       " 'ADIDAS Originals',\n",
       " 'ADIDAS Originals',\n",
       " 'Nike',\n",
       " 'Kenneth Cole',\n",
       " 'Cole Haan',\n",
       " 'ALDO',\n",
       " 'Geox',\n",
       " 'Geox',\n",
       " 'UNDER ARMOUR',\n",
       " 'Kenneth Cole',\n",
       " 'Cole Haan',\n",
       " 'Cole Haan',\n",
       " 'ALDO',\n",
       " 'UNDER ARMOUR',\n",
       " 'ADIDAS',\n",
       " 'UNDER ARMOUR',\n",
       " 'ADIDAS Originals',\n",
       " 'Kenneth Cole',\n",
       " 'UNDER ARMOUR',\n",
       " 'UNDER ARMOUR',\n",
       " 'Kenneth Cole',\n",
       " 'Cole Haan',\n",
       " 'UNDER ARMOUR',\n",
       " 'Cole Haan',\n",
       " 'Kenneth Cole',\n",
       " 'ADIDAS Originals',\n",
       " 'UNDER ARMOUR',\n",
       " 'Geox',\n",
       " 'Cole Haan',\n",
       " 'DAVINCHI',\n",
       " 'Cole Haan',\n",
       " 'Geox',\n",
       " 'DIESEL',\n",
       " 'Kenneth Cole',\n",
       " 'Xtep',\n",
       " 'Tommy Hilfiger',\n",
       " 'Geox',\n",
       " 'Geox',\n",
       " 'Cole Haan',\n",
       " 'Cole Haan',\n",
       " 'Reebok',\n",
       " 'Tommy Hilfiger',\n",
       " 'Tommy Hilfiger',\n",
       " 'Kenneth Cole',\n",
       " 'Tommy Hilfiger',\n",
       " 'Tommy Hilfiger',\n",
       " 'Skechers',\n",
       " 'Geox',\n",
       " 'Skechers',\n",
       " 'Xtep',\n",
       " 'Cole Haan',\n",
       " 'Cole Haan',\n",
       " 'Cole Haan',\n",
       " 'Geox',\n",
       " 'Heel & Buckle London',\n",
       " 'FILA',\n",
       " 'UNDER ARMOUR',\n",
       " 'Clarks']"
      ]
     },
     "execution_count": 741,
     "metadata": {},
     "output_type": "execute_result"
    }
   ],
   "source": [
    "Brand"
   ]
  },
  {
   "cell_type": "code",
   "execution_count": 742,
   "metadata": {},
   "outputs": [
    {
     "data": {
      "text/plain": [
       "['Men Black ZOOM FLY 3 Running Shoes',\n",
       " 'Men Black & White Superstar Textured Detail Sneakers',\n",
       " 'Men Black ZOOM WINFLO 7 Running Shoes',\n",
       " 'Men Black Solid Leather Sneakers',\n",
       " 'Men Black JORDAN DELTA Basketball Shoes',\n",
       " 'Men Black HYBRID NETFIT Astro Running Shoes',\n",
       " \"Men Black JORDAN ZOOM '92 Leather Mid-Top Basketball Shoes\",\n",
       " 'Men Black Leather Loafers',\n",
       " 'Men Black & Yellow JOYRIDE Running Shoes',\n",
       " 'Men Black Solid Leather Sneakers',\n",
       " 'Men Black LEGEND REACT 3 Running Shoes',\n",
       " 'Men Black AIR ZOOM PEGASUS 37 FLYEASE Running Shoes',\n",
       " 'Men Black & Grey Woven Design HOVR Phantom SE Glow Running Shoes',\n",
       " 'Women Black Solid Leather Ballerinas',\n",
       " 'Men Black Solid SKYVE MAX Sneakers',\n",
       " 'Men Black ZOOM FREAK 2 Leather Basketball Shoes',\n",
       " 'Men Black & Charcoal Grey Self Design Ozweego Sneakers',\n",
       " 'Men Black & Beige JORDAN DELTA Sneakers',\n",
       " 'Women Black AIR ZOOM PEGASUS 37 FLYEASE Running Shoes',\n",
       " 'Men Black CHALLENGER OG Sneakers',\n",
       " 'Men Black LEGEND REACT 3 Running Shoes',\n",
       " 'Men Black Solid Leather Driving Shoes',\n",
       " 'Women Black & Beige REACT PHANTOM Running Shoes',\n",
       " 'Men Black AIR ZOOM PEGASUS 37 Running Shoes',\n",
       " 'Women Black Leather Sneakers',\n",
       " 'Men Black Solid Leather Formal Derbys',\n",
       " 'Men Black KD13 EP Mid-Top Basketball Shoes',\n",
       " 'Women Black REACT PHANTOM RUN FK 2 Running Shoes',\n",
       " 'Men Black & Charcoal Grey Woven Design Solar Drive 19 Running Shoes',\n",
       " 'Women Black Sneakers',\n",
       " 'Men Black & Fluorescent Green UA HOVR Guardian 2-BLK Sports Shoes',\n",
       " 'Men Black Solid Leather Formal Brogues',\n",
       " 'Women Black AIR MAX VERONA Sneakers',\n",
       " 'Women Black Woven Design Synthetic Leather Mid-Top Sneakers',\n",
       " 'Women Black Solid Leather Flatform Boots',\n",
       " 'Women Black Air Max Siren Sneakers',\n",
       " 'Women Black Woven Design Bluetooth HOVR Sonic 3 Running Shoes',\n",
       " 'Women Black Sneakers',\n",
       " 'Men Black LQDCELL Hydra Running Shoes',\n",
       " 'Women Black Air Max VG-R Sneakers',\n",
       " 'Men Black Woven Design Nite Jogger Shoes',\n",
       " 'Men Black Solid Leather Formal Derbys',\n",
       " 'Men Black & Silver-Toned Woven Design Deerupt Running Shoes',\n",
       " 'Men Black Woven Design NMD R1 Sneakers',\n",
       " 'Women Black & White AIR MAX VG-R Colourblocked Sneakers',\n",
       " 'Men Black Solid Leather Formal Derbys',\n",
       " 'Men Black ZeroGrand All Day Stitchlite Runner Sneakers',\n",
       " 'Women Black Sneakers',\n",
       " 'Women Black Sequinned Slip-On Sneakers',\n",
       " 'Men Black Solid Leather Mid-Top Chelsea Boots',\n",
       " 'Women Black WOven Design Charged Impulse Running Shoes',\n",
       " 'Men Black Solid Leather Formal Slip-Ons',\n",
       " 'Women Black Solid Leather Open Toe Flats',\n",
       " 'Women Black Woven Design Slip-On Sneakers',\n",
       " 'Men Black Leather Loafers',\n",
       " 'Women Black Mesh Running Shoes',\n",
       " 'Men Black Self-Striped Alphatorsion Running Shoes',\n",
       " 'Women Black & Lavender Woven Design HOVR Sonic 3 Running Shoes',\n",
       " 'Men Black &Charcoal Grey Woven Design Nite Jogger Fluid Sneakers',\n",
       " 'Men Black Textured Sneakers',\n",
       " 'Women Black HOVR Rise 2 Training Shoes',\n",
       " 'Men Black & Pink Woven Design Charged Bandit 5 Running Shoes',\n",
       " 'Men Black Solid Leather Formal Loafers',\n",
       " 'Men Black Originalgrand Stitchlite Wingtip Oxford Sneakers',\n",
       " 'Women Black & Charcoal Grey Woven Design Liquify Rebel Running Shoes',\n",
       " 'Men Black Leather GrandPro Tennis Sneakers',\n",
       " 'Women Black Flat Boots',\n",
       " 'Men Black ZX 2K Boost Solid Sneakers',\n",
       " 'Men Black Woven Design HOVR Sonic 3 Running Shoes',\n",
       " 'Men Black Textured Leather Mid-Top Brogues',\n",
       " 'Women Black Solid Leather Open Toe Flats',\n",
       " 'Black Solid Formal Leather Slip-On Shoes',\n",
       " 'Men Black Generation ZeroGrand Stitchlite Sneakers',\n",
       " 'Women Black Solid Leather High-Top Flat Boots',\n",
       " 'Men Black DANNY LC Sneakers',\n",
       " 'Men Black Solid Leather Formal Derbys',\n",
       " 'Men Black Textile High-Top Running Shoes',\n",
       " 'Men Black Solid Heritage Seasonal Leather Sneakers',\n",
       " 'Men Black Solid Leather Sneakers',\n",
       " 'Men Black Solid Leather Sneakers',\n",
       " 'Women Black Leather Loafers',\n",
       " 'Women Black Sneakers',\n",
       " 'Men Black Woven Design Forever Floatride Energy 2 Running Shoes',\n",
       " 'Men Black TS PRO 1 Sneakers',\n",
       " 'Men Black Solid Iconic Mix Runner Sneakers',\n",
       " 'Men Black Solid Formal Genuine Leather Derbys',\n",
       " 'Men Black FLEXI MIX RUNNER Sneakers',\n",
       " 'Men Black Solid Essential Leather Detail Vulc Sneakers',\n",
       " 'Men Black Go Run Ride 7 Running Shoes',\n",
       " 'Men Black Solid Leather Formal Slip-Ons',\n",
       " \"Women Black D'LITES 3.0 AIR-SKY Sneakers\",\n",
       " 'Men Black Textile Running Shoes',\n",
       " 'Women Black Leather Sneakers',\n",
       " 'Women Black Zerogrand Global Trainer Sneakers',\n",
       " 'Women Black Solid Leather Open Toe Flats',\n",
       " 'Men Black Solid Leather Formal Oxfords',\n",
       " 'Men Black Solid Leather Formal Oxfords',\n",
       " 'Women Black & Printed Sneakers',\n",
       " 'Women Black Charged Bandit 5 Running Shoes',\n",
       " 'Men Black Solid Leather Mid-Top Derbys']"
      ]
     },
     "execution_count": 742,
     "metadata": {},
     "output_type": "execute_result"
    }
   ],
   "source": [
    "Product_Description"
   ]
  },
  {
   "cell_type": "code",
   "execution_count": 743,
   "metadata": {},
   "outputs": [
    {
     "data": {
      "text/plain": [
       "['Rs. 11199',\n",
       " 'Rs. 6399',\n",
       " 'Rs. 6399',\n",
       " 'Rs. 8999',\n",
       " 'Rs. 9999',\n",
       " 'Rs. 6599',\n",
       " 'Rs. 10799',\n",
       " 'Rs. 6499',\n",
       " 'Rs. 11199',\n",
       " 'Rs. 6599',\n",
       " 'Rs. 6599',\n",
       " 'Rs. 7999',\n",
       " 'Rs. 11199',\n",
       " 'Rs. 10499',\n",
       " 'Rs. 6999',\n",
       " 'Rs. 8199',\n",
       " 'Rs. 8799',\n",
       " 'Rs. 8199',\n",
       " 'Rs. 7999',\n",
       " 'Rs. 6099',\n",
       " 'Rs. 6199',\n",
       " 'Rs. 7999',\n",
       " 'Rs. 10099',\n",
       " 'Rs. 9199',\n",
       " 'Rs. 6999',\n",
       " 'Rs. 8994',\n",
       " 'Rs. 10399',\n",
       " 'Rs. 8999',\n",
       " 'Rs. 8999',\n",
       " 'Rs. 7599',\n",
       " 'Rs. 8999',\n",
       " 'Rs. 6293',\n",
       " 'Rs. 7999',\n",
       " 'Rs. 7999',\n",
       " 'Rs. 8249',\n",
       " 'Rs. 6599',\n",
       " 'Rs. 10999',\n",
       " 'Rs. 6999',\n",
       " 'Rs. 6299',\n",
       " 'Rs. 6599',\n",
       " 'Rs. 11199',\n",
       " 'Rs. 6293',\n",
       " 'Rs. 7199',\n",
       " 'Rs. 10399',\n",
       " 'Rs. 6599',\n",
       " 'Rs. 6293',\n",
       " 'Rs. 9999',\n",
       " 'Rs. 5999',\n",
       " 'Rs. 8499',\n",
       " 'Rs. 8999',\n",
       " 'Rs. 7999',\n",
       " 'Rs. 6293',\n",
       " 'Rs. 5999',\n",
       " 'Rs. 7499',\n",
       " 'Rs. 6499',\n",
       " 'Rs. 6499',\n",
       " 'Rs. 6499',\n",
       " 'Rs. 10999',\n",
       " 'Rs. 8999',\n",
       " 'Rs. 6013',\n",
       " 'Rs. 9999',\n",
       " 'Rs. 7999',\n",
       " 'Rs. 6153',\n",
       " 'Rs. 9749',\n",
       " 'Rs. 8999',\n",
       " 'Rs. 8249',\n",
       " 'Rs. 9513',\n",
       " 'Rs. 9799',\n",
       " 'Rs. 10999',\n",
       " 'Rs. 8999',\n",
       " 'Rs. 8999',\n",
       " 'Rs. 7990',\n",
       " 'Rs. 8999',\n",
       " 'Rs. 9749',\n",
       " 'Rs. 6295',\n",
       " 'Rs. 6293',\n",
       " 'Rs. 9349',\n",
       " 'Rs. 8099',\n",
       " 'Rs. 8999',\n",
       " 'Rs. 6599',\n",
       " 'Rs. 6499',\n",
       " 'Rs. 11249',\n",
       " 'Rs. 7499',\n",
       " 'Rs. 7199',\n",
       " 'Rs. 6799',\n",
       " 'Rs. 6153',\n",
       " 'Rs. 5949',\n",
       " 'Rs. 5949',\n",
       " 'Rs. 6499',\n",
       " 'Rs. 7494',\n",
       " 'Rs. 6999',\n",
       " 'Rs. 5839',\n",
       " 'Rs. 8249',\n",
       " 'Rs. 7499',\n",
       " 'Rs. 6499',\n",
       " 'Rs. 10490',\n",
       " 'Rs. 7143',\n",
       " 'Rs. 7999',\n",
       " 'Rs. 7999',\n",
       " 'Rs. 8999']"
      ]
     },
     "execution_count": 743,
     "metadata": {},
     "output_type": "execute_result"
    }
   ],
   "source": [
    "Price"
   ]
  },
  {
   "cell_type": "code",
   "execution_count": 744,
   "metadata": {},
   "outputs": [
    {
     "name": "stdout",
     "output_type": "stream",
     "text": [
      "100 100 100\n"
     ]
    }
   ],
   "source": [
    "#printing length\n",
    "print(len(Brand),len(Product_Description),len(Price))"
   ]
  },
  {
   "cell_type": "code",
   "execution_count": 745,
   "metadata": {},
   "outputs": [],
   "source": [
    "#creating a dataframe\n",
    "\n",
    "Shoes=pd.DataFrame({})\n",
    "Shoes['Brand']=Brand\n",
    "Shoes['Product_Description']=Product_Description\n",
    "Shoes['Price']=Price"
   ]
  },
  {
   "cell_type": "code",
   "execution_count": 746,
   "metadata": {},
   "outputs": [
    {
     "data": {
      "text/html": [
       "<div>\n",
       "<style scoped>\n",
       "    .dataframe tbody tr th:only-of-type {\n",
       "        vertical-align: middle;\n",
       "    }\n",
       "\n",
       "    .dataframe tbody tr th {\n",
       "        vertical-align: top;\n",
       "    }\n",
       "\n",
       "    .dataframe thead th {\n",
       "        text-align: right;\n",
       "    }\n",
       "</style>\n",
       "<table border=\"1\" class=\"dataframe\">\n",
       "  <thead>\n",
       "    <tr style=\"text-align: right;\">\n",
       "      <th></th>\n",
       "      <th>Brand</th>\n",
       "      <th>Product_Description</th>\n",
       "      <th>Price</th>\n",
       "    </tr>\n",
       "  </thead>\n",
       "  <tbody>\n",
       "    <tr>\n",
       "      <th>0</th>\n",
       "      <td>Nike</td>\n",
       "      <td>Men Black ZOOM FLY 3 Running Shoes</td>\n",
       "      <td>Rs. 11199</td>\n",
       "    </tr>\n",
       "    <tr>\n",
       "      <th>1</th>\n",
       "      <td>ADIDAS Originals</td>\n",
       "      <td>Men Black &amp; White Superstar Textured Detail Sn...</td>\n",
       "      <td>Rs. 6399</td>\n",
       "    </tr>\n",
       "    <tr>\n",
       "      <th>2</th>\n",
       "      <td>Nike</td>\n",
       "      <td>Men Black ZOOM WINFLO 7 Running Shoes</td>\n",
       "      <td>Rs. 6399</td>\n",
       "    </tr>\n",
       "    <tr>\n",
       "      <th>3</th>\n",
       "      <td>Geox</td>\n",
       "      <td>Men Black Solid Leather Sneakers</td>\n",
       "      <td>Rs. 8999</td>\n",
       "    </tr>\n",
       "    <tr>\n",
       "      <th>4</th>\n",
       "      <td>Nike</td>\n",
       "      <td>Men Black JORDAN DELTA Basketball Shoes</td>\n",
       "      <td>Rs. 9999</td>\n",
       "    </tr>\n",
       "    <tr>\n",
       "      <th>...</th>\n",
       "      <td>...</td>\n",
       "      <td>...</td>\n",
       "      <td>...</td>\n",
       "    </tr>\n",
       "    <tr>\n",
       "      <th>95</th>\n",
       "      <td>Geox</td>\n",
       "      <td>Men Black Solid Leather Formal Oxfords</td>\n",
       "      <td>Rs. 10490</td>\n",
       "    </tr>\n",
       "    <tr>\n",
       "      <th>96</th>\n",
       "      <td>Heel &amp; Buckle London</td>\n",
       "      <td>Men Black Solid Leather Formal Oxfords</td>\n",
       "      <td>Rs. 7143</td>\n",
       "    </tr>\n",
       "    <tr>\n",
       "      <th>97</th>\n",
       "      <td>FILA</td>\n",
       "      <td>Women Black &amp; Printed Sneakers</td>\n",
       "      <td>Rs. 7999</td>\n",
       "    </tr>\n",
       "    <tr>\n",
       "      <th>98</th>\n",
       "      <td>UNDER ARMOUR</td>\n",
       "      <td>Women Black Charged Bandit 5 Running Shoes</td>\n",
       "      <td>Rs. 7999</td>\n",
       "    </tr>\n",
       "    <tr>\n",
       "      <th>99</th>\n",
       "      <td>Clarks</td>\n",
       "      <td>Men Black Solid Leather Mid-Top Derbys</td>\n",
       "      <td>Rs. 8999</td>\n",
       "    </tr>\n",
       "  </tbody>\n",
       "</table>\n",
       "<p>100 rows × 3 columns</p>\n",
       "</div>"
      ],
      "text/plain": [
       "                   Brand                                Product_Description  \\\n",
       "0                   Nike                 Men Black ZOOM FLY 3 Running Shoes   \n",
       "1       ADIDAS Originals  Men Black & White Superstar Textured Detail Sn...   \n",
       "2                   Nike              Men Black ZOOM WINFLO 7 Running Shoes   \n",
       "3                   Geox                   Men Black Solid Leather Sneakers   \n",
       "4                   Nike            Men Black JORDAN DELTA Basketball Shoes   \n",
       "..                   ...                                                ...   \n",
       "95                  Geox             Men Black Solid Leather Formal Oxfords   \n",
       "96  Heel & Buckle London             Men Black Solid Leather Formal Oxfords   \n",
       "97                  FILA                     Women Black & Printed Sneakers   \n",
       "98          UNDER ARMOUR         Women Black Charged Bandit 5 Running Shoes   \n",
       "99                Clarks             Men Black Solid Leather Mid-Top Derbys   \n",
       "\n",
       "        Price  \n",
       "0   Rs. 11199  \n",
       "1    Rs. 6399  \n",
       "2    Rs. 6399  \n",
       "3    Rs. 8999  \n",
       "4    Rs. 9999  \n",
       "..        ...  \n",
       "95  Rs. 10490  \n",
       "96   Rs. 7143  \n",
       "97   Rs. 7999  \n",
       "98   Rs. 7999  \n",
       "99   Rs. 8999  \n",
       "\n",
       "[100 rows x 3 columns]"
      ]
     },
     "execution_count": 746,
     "metadata": {},
     "output_type": "execute_result"
    }
   ],
   "source": [
    "Shoes"
   ]
  },
  {
   "cell_type": "markdown",
   "metadata": {},
   "source": [
    "# Q10: Web scraping laptops from amazon.in"
   ]
  },
  {
   "cell_type": "code",
   "execution_count": 747,
   "metadata": {},
   "outputs": [],
   "source": [
    "#connecting to the webdriver\n",
    "driver = webdriver.Chrome(r\"C:\\Users\\saurabh\\Downloads\\chromedriver_win32\\chromedriver.exe\")"
   ]
  },
  {
   "cell_type": "code",
   "execution_count": 749,
   "metadata": {},
   "outputs": [],
   "source": [
    "#specifying the url of the webpage to be scraped\n",
    "url=\"https://www.amazon.in/\""
   ]
  },
  {
   "cell_type": "code",
   "execution_count": 750,
   "metadata": {},
   "outputs": [],
   "source": [
    "#opening the webpage through our driver\n",
    "driver.get(url)"
   ]
  },
  {
   "cell_type": "code",
   "execution_count": 751,
   "metadata": {},
   "outputs": [],
   "source": [
    "#interacting with the webpage\n",
    "driver.find_element_by_xpath('//*[@id=\"twotabsearchtextbox\"]').send_keys(\"Laptop\")\n",
    "driver.find_element_by_xpath('//*[@id=\"nav-search-submit-button\"]').click()"
   ]
  },
  {
   "cell_type": "code",
   "execution_count": 752,
   "metadata": {},
   "outputs": [],
   "source": [
    "#clicking on the \"Intel core i7\" filter\n",
    "driver.find_element_by_xpath('//*[@id=\"p_n_feature_thirteen_browse-bin/12598163031\"]/span/a/div/label/i').click()"
   ]
  },
  {
   "cell_type": "code",
   "execution_count": 753,
   "metadata": {},
   "outputs": [],
   "source": [
    "#clicking on the \"Intel core i9\" filter\n",
    "driver.find_element_by_xpath('//*[@id=\"p_n_feature_thirteen_browse-bin/16757432031\"]/span/a/div/label/i').click()"
   ]
  },
  {
   "cell_type": "code",
   "execution_count": 754,
   "metadata": {},
   "outputs": [],
   "source": [
    "#creating the empty lists\n",
    "Title=[]\n",
    "Ratings=[]\n",
    "Price=[]"
   ]
  },
  {
   "cell_type": "code",
   "execution_count": 756,
   "metadata": {},
   "outputs": [],
   "source": [
    "#getting the list of url of laptops\n",
    "URL=[]\n",
    "\n",
    "laptop=driver.find_elements_by_xpath(\"//h2[@class='a-size-mini a-spacing-none a-color-base s-line-clamp-2']\")\n",
    "for i in laptop:\n",
    "    laptop2=i.find_element_by_tag_name(\"a\")\n",
    "    URL.append(laptop2.get_attribute('href'))"
   ]
  },
  {
   "cell_type": "code",
   "execution_count": 757,
   "metadata": {},
   "outputs": [
    {
     "data": {
      "text/plain": [
       "['https://www.amazon.in/gp/slredirect/picassoRedirect.html/ref=pa_sp_atf_computers_sr_pg1_1?ie=UTF8&adId=A100773994I38JQKPQSQ&url=%2FHP-Pavilion-dh0045TX-i7-8565U-Graphics%2Fdp%2FB07NMSWFS4%2Fref%3Dsr_1_1_sspa%3Fdchild%3D1%26keywords%3DLaptop%26qid%3D1611411123%26refinements%3Dp_n_feature_thirteen_browse-bin%253A12598163031%257C16757432031%26rnid%3D12598141031%26s%3Dcomputers%26sr%3D1-1-spons%26psc%3D1&qualifier=1611411228&id=1167220191640979&widgetName=sp_atf',\n",
       " 'https://www.amazon.in/gp/slredirect/picassoRedirect.html/ref=pa_sp_atf_computers_sr_pg1_1?ie=UTF8&adId=A10152512FGHVX4AAZVBO&url=%2FNotebook-Horizon-i7-10510U-Graphics-XMA1904-AF%2Fdp%2FB089F2W1KW%2Fref%3Dsr_1_2_sspa%3Fdchild%3D1%26keywords%3DLaptop%26qid%3D1611411123%26refinements%3Dp_n_feature_thirteen_browse-bin%253A12598163031%257C16757432031%26rnid%3D12598141031%26s%3Dcomputers%26sr%3D1-2-spons%26psc%3D1&qualifier=1611411228&id=1167220191640979&widgetName=sp_atf',\n",
       " 'https://www.amazon.in/Renewed-MSI-Prestige-PE62-7RE-2024XIN/dp/B08SW2335L/ref=sr_1_3?dchild=1&keywords=Laptop&qid=1611411123&refinements=p_n_feature_thirteen_browse-bin%3A12598163031%7C16757432031&rnid=12598141031&s=computers&sr=1-3',\n",
       " 'https://www.amazon.in/Notebook-Horizon-i5-10210U-Graphics-XMA1904-AR/dp/B089F5JGM1/ref=sr_1_4?dchild=1&keywords=Laptop&qid=1611411123&refinements=p_n_feature_thirteen_browse-bin%3A12598163031%7C16757432031&rnid=12598141031&s=computers&sr=1-4',\n",
       " 'https://www.amazon.in/Dell-Latitude-E6420-Dedicated-Professional/dp/B07WVC8HW3/ref=sr_1_5?dchild=1&keywords=Laptop&qid=1611411123&refinements=p_n_feature_thirteen_browse-bin%3A12598163031%7C16757432031&rnid=12598141031&s=computers&sr=1-5',\n",
       " 'https://www.amazon.in/Lenovo-Laptop-Windows-Office-81RS00B0IN/dp/B08BSHBHZZ/ref=sr_1_6?dchild=1&keywords=Laptop&qid=1611411123&refinements=p_n_feature_thirteen_browse-bin%3A12598163031%7C16757432031&rnid=12598141031&s=computers&sr=1-6',\n",
       " 'https://www.amazon.in/HP-Pavilion-Touchscreen-i7-10510U-14-dh1180tu/dp/B08GD8LQTY/ref=sr_1_7?dchild=1&keywords=Laptop&qid=1611411123&refinements=p_n_feature_thirteen_browse-bin%3A12598163031%7C16757432031&rnid=12598141031&s=computers&sr=1-7',\n",
       " 'https://www.amazon.in/ASUS-Zephyrus-i7-10750H-RTX-2060-GU502LV-AZ173TS/dp/B08PFD26HJ/ref=sr_1_8?dchild=1&keywords=Laptop&qid=1611411123&refinements=p_n_feature_thirteen_browse-bin%3A12598163031%7C16757432031&rnid=12598141031&s=computers&sr=1-8',\n",
       " 'https://www.amazon.in/Lenovo-IdeaPad-15-6-inch-Windows-81Y400VAIN/dp/B08PV48PYW/ref=sr_1_9?dchild=1&keywords=Laptop&qid=1611411123&refinements=p_n_feature_thirteen_browse-bin%3A12598163031%7C16757432031&rnid=12598141031&s=computers&sr=1-9',\n",
       " 'https://www.amazon.in/Acer-Display-Graphics-Obisidian-AN515-55/dp/B08HQZN76N/ref=sr_1_10?dchild=1&keywords=Laptop&qid=1611411123&refinements=p_n_feature_thirteen_browse-bin%3A12598163031%7C16757432031&rnid=12598141031&s=computers&sr=1-10',\n",
       " 'https://www.amazon.in/HP-Laptop-i7-1065G7-Natural-14s-DR1010TU/dp/B08H2V92WV/ref=sr_1_11?dchild=1&keywords=Laptop&qid=1611411123&refinements=p_n_feature_thirteen_browse-bin%3A12598163031%7C16757432031&rnid=12598141031&s=computers&sr=1-11',\n",
       " 'https://www.amazon.in/Renewed-ASUS-G531GT-AL018T-Graphics-i7-9750H/dp/B08SW8YC3W/ref=sr_1_12?dchild=1&keywords=Laptop&qid=1611411123&refinements=p_n_feature_thirteen_browse-bin%3A12598163031%7C16757432031&rnid=12598141031&s=computers&sr=1-12',\n",
       " 'https://www.amazon.in/ASUS-i9-10980HK-Touchscreen-Celestial-UX581LV-H2035T/dp/B08CHDLVT1/ref=sr_1_13?dchild=1&keywords=Laptop&qid=1611411123&refinements=p_n_feature_thirteen_browse-bin%3A12598163031%7C16757432031&rnid=12598141031&s=computers&sr=1-13',\n",
       " 'https://www.amazon.in/HP-Pavilion-dh0045TX-i7-8565U-Graphics/dp/B07NMSWFS4/ref=sr_1_14?dchild=1&keywords=Laptop&qid=1611411123&refinements=p_n_feature_thirteen_browse-bin%3A12598163031%7C16757432031&rnid=12598141031&s=computers&sr=1-14',\n",
       " 'https://www.amazon.in/gp/slredirect/picassoRedirect.html/ref=pa_sp_mtf_computers_sr_pg1_1?ie=UTF8&adId=A00187342JS30FHK9WKLT&url=%2FRenewed-HP-Hybrid-Probook-Laptop%2Fdp%2FB08NCP32M8%2Fref%3Dsr_1_15_sspa%3Fdchild%3D1%26keywords%3DLaptop%26qid%3D1611411123%26refinements%3Dp_n_feature_thirteen_browse-bin%253A12598163031%257C16757432031%26rnid%3D12598141031%26s%3Dcomputers%26sr%3D1-15-spons%26psc%3D1&qualifier=1611411228&id=1167220191640979&widgetName=sp_mtf',\n",
       " 'https://www.amazon.in/gp/slredirect/picassoRedirect.html/ref=pa_sp_mtf_computers_sr_pg1_1?ie=UTF8&adId=A0028866DZQZWXWXB6CU&url=%2FRenewed-HP-Probook-Laptop-430G3%2Fdp%2FB08N58DMVQ%2Fref%3Dsr_1_16_sspa%3Fdchild%3D1%26keywords%3DLaptop%26qid%3D1611411123%26refinements%3Dp_n_feature_thirteen_browse-bin%253A12598163031%257C16757432031%26rnid%3D12598141031%26s%3Dcomputers%26sr%3D1-16-spons%26psc%3D1&qualifier=1611411228&id=1167220191640979&widgetName=sp_mtf',\n",
       " 'https://www.amazon.in/ASUS-i7-10870H-GTX-1650-Ti-Graphics-FX566LI-HN132T/dp/B08PFFBQ9L/ref=sr_1_17?dchild=1&keywords=Laptop&qid=1611411123&refinements=p_n_feature_thirteen_browse-bin%3A12598163031%7C16757432031&rnid=12598141031&s=computers&sr=1-17',\n",
       " 'https://www.amazon.in/ASUS-i7-1165G7-15-6-inch-Integrated-X513EA-EJ732TS/dp/B08M4Q2S8C/ref=sr_1_18?dchild=1&keywords=Laptop&qid=1611411123&refinements=p_n_feature_thirteen_browse-bin%3A12598163031%7C16757432031&rnid=12598141031&s=computers&sr=1-18',\n",
       " 'https://www.amazon.in/Inspiron-5584-15-6-inch-i7-8565U-Graphics/dp/B07XZHSXF9/ref=sr_1_19?dchild=1&keywords=Laptop&qid=1611411123&refinements=p_n_feature_thirteen_browse-bin%3A12598163031%7C16757432031&rnid=12598141031&s=computers&sr=1-19',\n",
       " 'https://www.amazon.in/Renewed-HP-Probook-Laptop-430G3/dp/B08N59WJX4/ref=sr_1_20?dchild=1&keywords=Laptop&qid=1611411123&refinements=p_n_feature_thirteen_browse-bin%3A12598163031%7C16757432031&rnid=12598141031&s=computers&sr=1-20',\n",
       " 'https://www.amazon.in/Renewed-Dell-Latitude-14-inch-Graphics/dp/B08RRZJ51J/ref=sr_1_21?dchild=1&keywords=Laptop&qid=1611411123&refinements=p_n_feature_thirteen_browse-bin%3A12598163031%7C16757432031&rnid=12598141031&s=computers&sr=1-21',\n",
       " 'https://www.amazon.in/Dell-Alienware-m15-R3-15-6-inch/dp/B08BZR715W/ref=sr_1_22?dchild=1&keywords=Laptop&qid=1611411123&refinements=p_n_feature_thirteen_browse-bin%3A12598163031%7C16757432031&rnid=12598141031&s=computers&sr=1-22',\n",
       " 'https://www.amazon.in/Renewed-Dell-Inspiron-i7-8550U-Touchscreen/dp/B07RQH545Q/ref=sr_1_23?dchild=1&keywords=Laptop&qid=1611411123&refinements=p_n_feature_thirteen_browse-bin%3A12598163031%7C16757432031&rnid=12598141031&s=computers&sr=1-23',\n",
       " 'https://www.amazon.in/Renewed-HP-Probook-Laptop-430G3/dp/B08N57LZ5V/ref=sr_1_24?dchild=1&keywords=Laptop&qid=1611411123&refinements=p_n_feature_thirteen_browse-bin%3A12598163031%7C16757432031&rnid=12598141031&s=computers&sr=1-24',\n",
       " 'https://www.amazon.in/ASUS-ZenBook-i7-1165G7-Graphics-UX425EA-BM701TS/dp/B08M4SWRR5/ref=sr_1_25?dchild=1&keywords=Laptop&qid=1611411123&refinements=p_n_feature_thirteen_browse-bin%3A12598163031%7C16757432031&rnid=12598141031&s=computers&sr=1-25',\n",
       " 'https://www.amazon.in/Dell-9570-15-6-inch-Infinity-Gen-Core/dp/B07H7RPH5H/ref=sr_1_26?dchild=1&keywords=Laptop&qid=1611411123&refinements=p_n_feature_thirteen_browse-bin%3A12598163031%7C16757432031&rnid=12598141031&s=computers&sr=1-26',\n",
       " 'https://www.amazon.in/Zephyrus-GU502GU-ES003T-15-6-inch-i7-9750H-Graphics/dp/B07WRMPY61/ref=sr_1_27?dchild=1&keywords=Laptop&qid=1611411123&refinements=p_n_feature_thirteen_browse-bin%3A12598163031%7C16757432031&rnid=12598141031&s=computers&sr=1-27',\n",
       " 'https://www.amazon.in/Dell-15-6inch-i7-10750H-Warranty-D560250WIN9BE/dp/B08HYPRST4/ref=sr_1_28?dchild=1&keywords=Laptop&qid=1611411123&refinements=p_n_feature_thirteen_browse-bin%3A12598163031%7C16757432031&rnid=12598141031&s=computers&sr=1-28']"
      ]
     },
     "execution_count": 757,
     "metadata": {},
     "output_type": "execute_result"
    }
   ],
   "source": [
    "URL"
   ]
  },
  {
   "cell_type": "code",
   "execution_count": 758,
   "metadata": {},
   "outputs": [
    {
     "data": {
      "text/plain": [
       "28"
      ]
     },
     "execution_count": 758,
     "metadata": {},
     "output_type": "execute_result"
    }
   ],
   "source": [
    "#checking the length of url's\n",
    "len(URL)"
   ]
  },
  {
   "cell_type": "code",
   "execution_count": 759,
   "metadata": {},
   "outputs": [],
   "source": [
    "#slicing to get url of first 10 laptop\n",
    "list_of_url=URL[0:10]"
   ]
  },
  {
   "cell_type": "code",
   "execution_count": 776,
   "metadata": {},
   "outputs": [],
   "source": [
    "#going to the url of first laptop through our driver\n",
    "driver.get(URL[0])"
   ]
  },
  {
   "cell_type": "code",
   "execution_count": 778,
   "metadata": {},
   "outputs": [
    {
     "name": "stderr",
     "output_type": "stream",
     "text": [
      "100%|██████████| 10/10 [01:36<00:00,  9.62s/it]\n"
     ]
    }
   ],
   "source": [
    "for i in tqdm(list_of_url):\n",
    "    driver.get(i)\n",
    "    try:\n",
    "        title=driver.find_element_by_xpath('//*[@id=\"productTitle\"]').text\n",
    "        Title.append(title)\n",
    "    except NoSuchElementException:\n",
    "        Title.append('Null')\n",
    "        \n",
    "    try:\n",
    "        price=driver.find_element_by_xpath('//*[@id=\"priceblock_dealprice\"]').text\n",
    "        Price.append(price)\n",
    "    except NoSuchElementException:\n",
    "        price1=driver.find_element_by_xpath('//*[@id=\"priceblock_ourprice\"]').text\n",
    "        Price.append(price1)\n",
    "    \n",
    "    try:\n",
    "        rating=driver.find_element_by_xpath('//*[@id=\"acrPopover\"]/span[1]/a/i[1]').click()\n",
    "        ratings=driver.find_element_by_xpath(\"//span[@class='a-size-medium a-color-base a-text-beside-button a-text-bold']\").text\n",
    "        Ratings.append(ratings)\n",
    "    except NoSuchElementException:\n",
    "        Ratings.append('Null')\n",
    "        \n",
    "    time.sleep(3)"
   ]
  },
  {
   "cell_type": "code",
   "execution_count": 779,
   "metadata": {
    "scrolled": false
   },
   "outputs": [
    {
     "data": {
      "text/plain": [
       "['HP Pavilion x360 Core i7 8th Gen 14-inch Touchscreen 2-in-1 FHD Thin and Light Laptop (16GB/512GB SSD/Windows 10/MS Office/2GB Graphics/Mineral Silver/1.59 kg), 14- dh0045TX',\n",
       " 'Mi Notebook Horizon Edition 14 Intel Core i7-10510U 10th Gen Thin and Light Laptop(8GB/512GB SSD/Windows 10/Nvidia MX350 2GB Graphics/Grey/1.35Kg), XMA1904-AF+Webcam',\n",
       " '(Renewed) MSI Prestige PE62 Core i7 7th Gen 15.6\" FHD Laptop Nvidia GeForce GTX 1050 Ti 4GB GDDR5 (8GB/1TB + 125 GB NVMe SSD/DOS OS/Silver/2.2Kg) 7RE-2024XIN',\n",
       " 'Mi Notebook Horizon Edition 14 Intel Core i5-10210U 10th Gen Thin and Light Laptop(8GB/512GB SSD/Windows 10/Nvidia MX350 2GB Graphics/Grey/1.35Kg), XMA1904-AR+Webcam',\n",
       " '(Renewed) Dell Latitude E6420 14 Inch Laptop (Core I7 2460M/8GB/1TB/Nvidia Dedicated Graphics/Windows Professional/MS Office), Dark Grey',\n",
       " 'Lenovo Yoga S740 Intel Core i7 10th Gen 14 inch UHD Ultra Thin and Light Laptop (16GB/1TB SSD/Windows/Office/NVIDIA MX250 2GB/Iron Grey/1.4Kg), 81RS00B0IN',\n",
       " 'HP Pavilion x360 Touchscreen 2-in-1 FHD 14-inch Laptop (10th Gen Core i7-10510U/8GB/512GB SSD/Windows 10 Home/MS Office/Mineral Silver/1.58 kg), 14-dh1180tu',\n",
       " 'ASUS ROG Zephyrus M15 (2020), 15.6\" FHD 240Hz/3ms, Intel Core i7-10750H 10th Gen, RTX 2060 6GB Graphics, Gaming Laptop (16GB/1TB SSD/Office 2019/Windows 10/Black/1.9 Kg), GU502LV-AZ173TS',\n",
       " 'Lenovo IdeaPad Gaming 3i 10th Gen Intel Core i7 15.6-inch FHD IPS Gaming Laptop (8GB/1TB HDD + 256 GB SSD/Windows 10/NVIDIA GTX 1650 4GB GDDR6/with M100 RGB Gaming Mouse/Onyx Black/2.2Kg), 81Y400VAIN',\n",
       " 'Acer Nitro 5 Intel Core i7 10750H 15.6\" FHD IPS 144Hz Display Thin and Light Gaming Laptop (8GB Ram/1TB HDD + 256 GB SSD/Windows 10 Home /GTX 1650Ti Graphics/Obisidian Black/2.3 kgs),AN515-55']"
      ]
     },
     "execution_count": 779,
     "metadata": {},
     "output_type": "execute_result"
    }
   ],
   "source": [
    "Title"
   ]
  },
  {
   "cell_type": "code",
   "execution_count": 780,
   "metadata": {},
   "outputs": [
    {
     "data": {
      "text/plain": [
       "['₹ 82,490.00',\n",
       " '₹ 57,999.00',\n",
       " '₹ 57,990.00',\n",
       " '₹ 51,999.00',\n",
       " '₹ 45,000.00',\n",
       " '₹ 97,700.00',\n",
       " '₹ 74,990.00',\n",
       " '₹ 1,42,990.00',\n",
       " '₹ 74,990.00',\n",
       " '₹ 78,990.00']"
      ]
     },
     "execution_count": 780,
     "metadata": {},
     "output_type": "execute_result"
    }
   ],
   "source": [
    "Price"
   ]
  },
  {
   "cell_type": "code",
   "execution_count": 781,
   "metadata": {},
   "outputs": [
    {
     "data": {
      "text/plain": [
       "['Null',\n",
       " '4.2 out of 5',\n",
       " 'Null',\n",
       " '4.2 out of 5',\n",
       " 'Null',\n",
       " 'Null',\n",
       " '3.6 out of 5',\n",
       " '5 out of 5',\n",
       " '4.4 out of 5',\n",
       " '4 out of 5']"
      ]
     },
     "execution_count": 781,
     "metadata": {},
     "output_type": "execute_result"
    }
   ],
   "source": [
    "Ratings"
   ]
  },
  {
   "cell_type": "code",
   "execution_count": 782,
   "metadata": {},
   "outputs": [
    {
     "name": "stdout",
     "output_type": "stream",
     "text": [
      "10 10 10\n"
     ]
    }
   ],
   "source": [
    "#printing length\n",
    "print(len(Title),len(Price),len(Ratings))"
   ]
  },
  {
   "cell_type": "code",
   "execution_count": 783,
   "metadata": {},
   "outputs": [],
   "source": [
    "#creating a dataframe\n",
    "\n",
    "Laptops=pd.DataFrame({})\n",
    "Laptops['Title']=Title\n",
    "Laptops['Price']=Price\n",
    "Laptops['Ratings']=Ratings"
   ]
  },
  {
   "cell_type": "code",
   "execution_count": 784,
   "metadata": {},
   "outputs": [
    {
     "data": {
      "text/html": [
       "<div>\n",
       "<style scoped>\n",
       "    .dataframe tbody tr th:only-of-type {\n",
       "        vertical-align: middle;\n",
       "    }\n",
       "\n",
       "    .dataframe tbody tr th {\n",
       "        vertical-align: top;\n",
       "    }\n",
       "\n",
       "    .dataframe thead th {\n",
       "        text-align: right;\n",
       "    }\n",
       "</style>\n",
       "<table border=\"1\" class=\"dataframe\">\n",
       "  <thead>\n",
       "    <tr style=\"text-align: right;\">\n",
       "      <th></th>\n",
       "      <th>Title</th>\n",
       "      <th>Price</th>\n",
       "      <th>Ratings</th>\n",
       "    </tr>\n",
       "  </thead>\n",
       "  <tbody>\n",
       "    <tr>\n",
       "      <th>0</th>\n",
       "      <td>HP Pavilion x360 Core i7 8th Gen 14-inch Touch...</td>\n",
       "      <td>₹ 82,490.00</td>\n",
       "      <td>Null</td>\n",
       "    </tr>\n",
       "    <tr>\n",
       "      <th>1</th>\n",
       "      <td>Mi Notebook Horizon Edition 14 Intel Core i7-1...</td>\n",
       "      <td>₹ 57,999.00</td>\n",
       "      <td>4.2 out of 5</td>\n",
       "    </tr>\n",
       "    <tr>\n",
       "      <th>2</th>\n",
       "      <td>(Renewed) MSI Prestige PE62 Core i7 7th Gen 15...</td>\n",
       "      <td>₹ 57,990.00</td>\n",
       "      <td>Null</td>\n",
       "    </tr>\n",
       "    <tr>\n",
       "      <th>3</th>\n",
       "      <td>Mi Notebook Horizon Edition 14 Intel Core i5-1...</td>\n",
       "      <td>₹ 51,999.00</td>\n",
       "      <td>4.2 out of 5</td>\n",
       "    </tr>\n",
       "    <tr>\n",
       "      <th>4</th>\n",
       "      <td>(Renewed) Dell Latitude E6420 14 Inch Laptop (...</td>\n",
       "      <td>₹ 45,000.00</td>\n",
       "      <td>Null</td>\n",
       "    </tr>\n",
       "    <tr>\n",
       "      <th>5</th>\n",
       "      <td>Lenovo Yoga S740 Intel Core i7 10th Gen 14 inc...</td>\n",
       "      <td>₹ 97,700.00</td>\n",
       "      <td>Null</td>\n",
       "    </tr>\n",
       "    <tr>\n",
       "      <th>6</th>\n",
       "      <td>HP Pavilion x360 Touchscreen 2-in-1 FHD 14-inc...</td>\n",
       "      <td>₹ 74,990.00</td>\n",
       "      <td>3.6 out of 5</td>\n",
       "    </tr>\n",
       "    <tr>\n",
       "      <th>7</th>\n",
       "      <td>ASUS ROG Zephyrus M15 (2020), 15.6\" FHD 240Hz/...</td>\n",
       "      <td>₹ 1,42,990.00</td>\n",
       "      <td>5 out of 5</td>\n",
       "    </tr>\n",
       "    <tr>\n",
       "      <th>8</th>\n",
       "      <td>Lenovo IdeaPad Gaming 3i 10th Gen Intel Core i...</td>\n",
       "      <td>₹ 74,990.00</td>\n",
       "      <td>4.4 out of 5</td>\n",
       "    </tr>\n",
       "    <tr>\n",
       "      <th>9</th>\n",
       "      <td>Acer Nitro 5 Intel Core i7 10750H 15.6\" FHD IP...</td>\n",
       "      <td>₹ 78,990.00</td>\n",
       "      <td>4 out of 5</td>\n",
       "    </tr>\n",
       "  </tbody>\n",
       "</table>\n",
       "</div>"
      ],
      "text/plain": [
       "                                               Title          Price  \\\n",
       "0  HP Pavilion x360 Core i7 8th Gen 14-inch Touch...    ₹ 82,490.00   \n",
       "1  Mi Notebook Horizon Edition 14 Intel Core i7-1...    ₹ 57,999.00   \n",
       "2  (Renewed) MSI Prestige PE62 Core i7 7th Gen 15...    ₹ 57,990.00   \n",
       "3  Mi Notebook Horizon Edition 14 Intel Core i5-1...    ₹ 51,999.00   \n",
       "4  (Renewed) Dell Latitude E6420 14 Inch Laptop (...    ₹ 45,000.00   \n",
       "5  Lenovo Yoga S740 Intel Core i7 10th Gen 14 inc...    ₹ 97,700.00   \n",
       "6  HP Pavilion x360 Touchscreen 2-in-1 FHD 14-inc...    ₹ 74,990.00   \n",
       "7  ASUS ROG Zephyrus M15 (2020), 15.6\" FHD 240Hz/...  ₹ 1,42,990.00   \n",
       "8  Lenovo IdeaPad Gaming 3i 10th Gen Intel Core i...    ₹ 74,990.00   \n",
       "9  Acer Nitro 5 Intel Core i7 10750H 15.6\" FHD IP...    ₹ 78,990.00   \n",
       "\n",
       "        Ratings  \n",
       "0          Null  \n",
       "1  4.2 out of 5  \n",
       "2          Null  \n",
       "3  4.2 out of 5  \n",
       "4          Null  \n",
       "5          Null  \n",
       "6  3.6 out of 5  \n",
       "7    5 out of 5  \n",
       "8  4.4 out of 5  \n",
       "9    4 out of 5  "
      ]
     },
     "execution_count": 784,
     "metadata": {},
     "output_type": "execute_result"
    }
   ],
   "source": [
    "Laptops"
   ]
  },
  {
   "cell_type": "code",
   "execution_count": null,
   "metadata": {},
   "outputs": [],
   "source": []
  }
 ],
 "metadata": {
  "kernelspec": {
   "display_name": "Python 3",
   "language": "python",
   "name": "python3"
  },
  "language_info": {
   "codemirror_mode": {
    "name": "ipython",
    "version": 3
   },
   "file_extension": ".py",
   "mimetype": "text/x-python",
   "name": "python",
   "nbconvert_exporter": "python",
   "pygments_lexer": "ipython3",
   "version": "3.8.3"
  }
 },
 "nbformat": 4,
 "nbformat_minor": 4
}
