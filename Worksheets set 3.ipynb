{
 "cells": [
  {
   "cell_type": "markdown",
   "metadata": {},
   "source": [
    "# STATISTICS WORKSHEET-3"
   ]
  },
  {
   "cell_type": "markdown",
   "metadata": {},
   "source": [
    "## Q1 to Q9 have only one correct answer. Choose the correct option to answer your question."
   ]
  },
  {
   "cell_type": "markdown",
   "metadata": {},
   "source": [
    "1. Which of the following is the correct formula for total variation?\n",
    "\n",
    "a) Total Variation = Residual Variation – Regression Variation\n",
    "b) Total Variation = Residual Variation + Regression Variation\n",
    "c) Total Variation = Residual Variation * Regression Variation\n",
    "d) All of the mentioned\n",
    "\n",
    "--> b) Total Variation = Residual Variation + Regression Variation"
   ]
  },
  {
   "cell_type": "markdown",
   "metadata": {},
   "source": [
    "2. Collection of exchangeable binary outcomes for the same covariate data are called outcomes.\n",
    "\n",
    "a) random\n",
    "b) direct\n",
    "c) binomial\n",
    "d) none of the mentioned\n",
    "\n",
    "--> c) binomial"
   ]
  },
  {
   "cell_type": "markdown",
   "metadata": {},
   "source": [
    "3. How many outcomes are possible with Bernoulli trial?\n",
    "\n",
    "a) 2\n",
    "b) 3\n",
    "c) 4\n",
    "d) None of the mentioned\n",
    "\n",
    "--> a) 2"
   ]
  },
  {
   "cell_type": "markdown",
   "metadata": {},
   "source": [
    "4. If Ho is true and we reject it is called\n",
    "\n",
    "a) Type-I error\n",
    "b) Type-II error\n",
    "c) Standard error\n",
    "d) Sampling error\n",
    "\n",
    "--> a) Type-I error"
   ]
  },
  {
   "cell_type": "markdown",
   "metadata": {},
   "source": [
    "5. Level of significance is also called:\n",
    "    \n",
    "a) Power of the test\n",
    "b) Size of the test\n",
    "c) Level of confidence\n",
    "d) Confidence coefficient\n",
    "\n",
    "--> d) Confidence coefficient"
   ]
  },
  {
   "cell_type": "markdown",
   "metadata": {},
   "source": [
    "6. The chance of rejecting a true hypothesis decreases when sample size is:\n",
    "    \n",
    "a) Decrease\n",
    "b) Increase\n",
    "c) Both of them\n",
    "d) None\n",
    "\n",
    "--> b) Increase"
   ]
  },
  {
   "cell_type": "markdown",
   "metadata": {},
   "source": [
    "7. Which of the following testing is concerned with making decisions using data?\n",
    "\n",
    "a) Probability\n",
    "b) Hypothesis\n",
    "c) Causal\n",
    "d) None of the mentioned\n",
    "\n",
    "--> b) Hypothesis"
   ]
  },
  {
   "cell_type": "markdown",
   "metadata": {},
   "source": [
    "8. What is the purpose of multiple testing in statistical inference?\n",
    "\n",
    "a) Minimize errors\n",
    "b) Minimize false positives\n",
    "c) Minimize false negatives\n",
    "d) All of the mentioned\n",
    "\n",
    "--> d) All of the mentioned"
   ]
  },
  {
   "cell_type": "markdown",
   "metadata": {},
   "source": [
    "9. Normalized data are centred at and have units equal to standard deviations of the original data\n",
    "\n",
    "a) 0\n",
    "b) 5\n",
    "c) 1\n",
    "d) 10\n",
    "\n",
    "--> a) 0"
   ]
  },
  {
   "cell_type": "markdown",
   "metadata": {},
   "source": [
    "## Q10and Q15 are subjective answer type questions, Answer them in your own words briefly."
   ]
  },
  {
   "cell_type": "code",
   "execution_count": null,
   "metadata": {},
   "outputs": [],
   "source": [
    "10. What Is Bayes' Theorem?\n",
    "\n",
    "--> Bayes' theorem, named after 18th-century British mathematician Thomas Bayes, is a mathematical formula for determining conditional probability. Conditional probability is the likelihood of an outcome occurring, based on a previous outcome occurring. Bayes' theorem provides a way to revise existing predictions or theories (update probabilities) given new or additional evidence. In finance, Bayes' theorem can be used to rate the risk of lending money to potential borrowers."
   ]
  }
 ],
 "metadata": {
  "kernelspec": {
   "display_name": "Python 3",
   "language": "python",
   "name": "python3"
  },
  "language_info": {
   "codemirror_mode": {
    "name": "ipython",
    "version": 3
   },
   "file_extension": ".py",
   "mimetype": "text/x-python",
   "name": "python",
   "nbconvert_exporter": "python",
   "pygments_lexer": "ipython3",
   "version": "3.8.3"
  }
 },
 "nbformat": 4,
 "nbformat_minor": 4
}
