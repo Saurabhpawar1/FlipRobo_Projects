{
 "cells": [
  {
   "cell_type": "code",
   "execution_count": 1,
   "metadata": {},
   "outputs": [],
   "source": [
    "#importing all the required libraries\n",
    "import selenium\n",
    "from selenium import webdriver\n",
    "import time\n",
    "import requests\n",
    "import json\n",
    "from bs4 import BeautifulSoup\n",
    "import os\n",
    "from PIL import Image\n",
    "import io\n",
    "import hashlib\n",
    "import pandas as pd\n",
    "from selenium.common.exceptions import StaleElementReferenceException, NoSuchElementException,ElementNotInteractableException,InvalidArgumentException,InvalidCookieDomainException"
   ]
  },
  {
   "cell_type": "markdown",
   "metadata": {},
   "source": [
    "### 1. Write a python program which searches all the product under a particular product vertical from www.amazon.in. The product verticals to be searched will be taken as input from user. For e.g. If user input is ‘guitar’. Then search for guitars."
   ]
  },
  {
   "cell_type": "code",
   "execution_count": 2,
   "metadata": {},
   "outputs": [],
   "source": [
    "#connecting to the webdriver\n",
    "driver = webdriver.Chrome(r\"C:\\Users\\saurabh\\Downloads\\chromedriver_win32\\chromedriver.exe\")"
   ]
  },
  {
   "cell_type": "code",
   "execution_count": 3,
   "metadata": {},
   "outputs": [],
   "source": [
    "#specifying the url of the webpage to be scraped\n",
    "url=\"https://www.amazon.in/\""
   ]
  },
  {
   "cell_type": "code",
   "execution_count": 4,
   "metadata": {},
   "outputs": [],
   "source": [
    "#opening the webpage through our driver\n",
    "driver.get(url)"
   ]
  },
  {
   "cell_type": "code",
   "execution_count": 46,
   "metadata": {},
   "outputs": [
    {
     "name": "stdout",
     "output_type": "stream",
     "text": [
      "Input the string you want to search for:Television\n"
     ]
    }
   ],
   "source": [
    "# Taking input from user \n",
    "search_string = input(\"Input the string you want to search for:\")\n",
    "\n",
    "#generate a url from search string\n",
    "url= driver.get(\"https://www.amazon.in/s?k=\" + search_string + \"&start=\")"
   ]
  },
  {
   "cell_type": "markdown",
   "metadata": {},
   "source": [
    "### 2. In the above question, now scrape the following details of each product listed in first 3 pages of your search results and save it in a dataframe and csv. In case if any product vertical has less than 3 pages in search results then scrape all the products available under that product vertical. Details to be scraped are: \"Brand Name\", \"Name of the Product\", \"Rating\", \"No. of Ratings\", \"Price\", \"Return/Exchange\", \"Expected Delivery\", \"Availability\", \"Other Details\" and “Product URL”. In case, if any of the details are missing for any of the product then replace it by “-“."
   ]
  },
  {
   "cell_type": "code",
   "execution_count": 50,
   "metadata": {},
   "outputs": [],
   "source": [
    "#getting the list of url of televisions\n",
    "TV_URL=[]\n",
    "\n",
    "for r in range(0,3):\n",
    "    television=driver.find_elements_by_xpath(\"//h2[@class='a-size-mini a-spacing-none a-color-base s-line-clamp-2']\")\n",
    "    for i in television:\n",
    "        television2=i.find_element_by_tag_name(\"a\")\n",
    "        TV_URL.append(television2.get_attribute('href'))\n",
    "try:        \n",
    "    driver.find_element_by_xpath('//*[@id=\"search\"]/div[1]/div[2]/div/span[3]/div[2]/div[27]/span/div/div/ul/li[3]/a').click()\n",
    "except NoSuchElementException:\n",
    "    driver.find_element_by_xpath('//*[@id=\"search\"]/div[1]/div[2]/div/span[3]/div[2]/div[25]/span/div/div/ul/li[4]/a').click()"
   ]
  },
  {
   "cell_type": "code",
   "execution_count": 51,
   "metadata": {},
   "outputs": [
    {
     "data": {
      "text/plain": [
       "['https://www.amazon.in/gp/slredirect/picassoRedirect.html/ref=pa_sp_atf_next_aps_sr_pg2_1?ie=UTF8&adId=A0720853R9IIRAIZ5A7S&url=%2FTCL-inches-Certified-Android-43P615%2Fdp%2FB08FD2VSD9%2Fref%3Dsr_1_17_sspa%3Fdchild%3D1%26keywords%3DTelevision%26qid%3D1612271859%26sr%3D8-17-spons%26psc%3D1&qualifier=1612271873&id=1126860968512705&widgetName=sp_atf_next',\n",
       " 'https://www.amazon.in/gp/slredirect/picassoRedirect.html/ref=pa_sp_atf_next_aps_sr_pg2_1?ie=UTF8&adId=A1011788PE2O1M5RBTM2&url=%2FSamsung-inches-Wondertainment-Ready-UA32TE40AAKBXL%2Fdp%2FB08PV1X771%2Fref%3Dsr_1_18_sspa%3Fdchild%3D1%26keywords%3DTelevision%26qid%3D1612271859%26sr%3D8-18-spons%26psc%3D1&qualifier=1612271873&id=1126860968512705&widgetName=sp_atf_next',\n",
       " 'https://www.amazon.in/TCL-100-3cm-inches-Android-Smart/dp/B07KCCWJTP/ref=sr_1_19?dchild=1&keywords=Television&qid=1612271859&sr=8-19',\n",
       " 'https://www.amazon.in/Shinco-Inches-Ready-SO32SF-Built/dp/B08QRDY1FD/ref=sr_1_20?dchild=1&keywords=Television&qid=1612271859&sr=8-20',\n",
       " 'https://www.amazon.in/TCL-inches-Certified-Android-43P615/dp/B08FD2VSD9/ref=sr_1_21?dchild=1&keywords=Television&qid=1612271859&sr=8-21',\n",
       " 'https://www.amazon.in/Kodak-Inches-Certified-Android-32HDX7XPRO/dp/B08CS3BT4L/ref=sr_1_17?dchild=1&keywords=Television&qid=1612271859&sr=8-17',\n",
       " 'https://www.amazon.in/inches-Ready-Smart-VW32PRO-Black/dp/B08PZ6HZLT/ref=sr_1_18?dchild=1&keywords=Television&qid=1612271859&sr=8-18',\n",
       " 'https://www.amazon.in/eAirtec-inches-Ready-32DJ-Black/dp/B07MNF89L2/ref=sr_1_19?dchild=1&keywords=Television&qid=1612271859&sr=8-19',\n",
       " 'https://www.amazon.in/MI-Inches-Android-Black-Saver/dp/B08RBZQJHC/ref=sr_1_20?dchild=1&keywords=Television&qid=1612271859&sr=8-20',\n",
       " 'https://www.amazon.in/Kevin-inches-Ready-K56U912-Black/dp/B072QD8QKL/ref=sr_1_21?dchild=1&keywords=Television&qid=1612271859&sr=8-21',\n",
       " 'https://www.amazon.in/gp/slredirect/picassoRedirect.html/ref=pa_sp_mtf_aps_sr_pg2_1?ie=UTF8&adId=A06200863BLHG3G782GKI&url=%2FPanasonic-inches-Certified-Android-TH-58HX450DX%2Fdp%2FB087K116SF%2Fref%3Dsr_1_22_sspa%3Fdchild%3D1%26keywords%3DTelevision%26qid%3D1612271859%26sr%3D8-22-spons%26psc%3D1&qualifier=1612271873&id=1126860968512705&widgetName=sp_mtf',\n",
       " 'https://www.amazon.in/gp/slredirect/picassoRedirect.html/ref=pa_sp_mtf_aps_sr_pg2_1?ie=UTF8&adId=A005190310CJPHCCBIRAI&url=%2FTCL-100-3cm-inches-Android-Smart%2Fdp%2FB07KCCWJTP%2Fref%3Dsr_1_23_sspa%3Fdchild%3D1%26keywords%3DTelevision%26qid%3D1612271859%26sr%3D8-23-spons%26psc%3D1&qualifier=1612271873&id=1126860968512705&widgetName=sp_mtf',\n",
       " 'https://www.amazon.in/Kevin-Inches-Ready-KN32A-Built/dp/B08QCJQQJ6/ref=sr_1_24?dchild=1&keywords=Television&qid=1612271859&sr=8-24',\n",
       " 'https://www.amazon.in/TCL-79-97cm-inches-Ready-Android/dp/B07MD8RJW3/ref=sr_1_25?dchild=1&keywords=Television&qid=1612271859&sr=8-25',\n",
       " 'https://www.amazon.in/inches-UltraAndroid-43GA-Black-Model/dp/B07XMD275S/ref=sr_1_26?dchild=1&keywords=Television&qid=1612271859&sr=8-26',\n",
       " 'https://www.amazon.in/Samsung-inches-Wondertainment-Ready-UA32TE40AAKBXL/dp/B08PV1X771/ref=sr_1_27?dchild=1&keywords=Television&qid=1612271859&sr=8-27',\n",
       " 'https://www.amazon.in/Sony-Bravia-inches-Smart-KDL-43W6603/dp/B086CGNG4T/ref=sr_1_28?dchild=1&keywords=Television&qid=1612271859&sr=8-28',\n",
       " 'https://www.amazon.in/Onida-108-Inches-Full-Smart/dp/B08171NJL9/ref=sr_1_29?dchild=1&keywords=Television&qid=1612271859&sr=8-29',\n",
       " 'https://www.amazon.in/AmazonBasics-108cm-inch-Full-Smart/dp/B087JY84QQ/ref=sr_1_30?dchild=1&keywords=Television&qid=1612271859&sr=8-30',\n",
       " 'https://www.amazon.in/Sanyo-inches-Certified-Android-XT-43FHD4S/dp/B08DY7GNJ8/ref=sr_1_31?dchild=1&keywords=Television&qid=1612271859&sr=8-31',\n",
       " 'https://www.amazon.in/gp/slredirect/picassoRedirect.html/ref=pa_sp_btf_aps_sr_pg2_1?ie=UTF8&adId=A0983687VYIY2M9F8Z57&url=%2Finches-UltraAndroid-43GA-Black-Model%2Fdp%2FB07XMD275S%2Fref%3Dsr_1_32_sspa%3Fdchild%3D1%26keywords%3DTelevision%26qid%3D1612271859%26sr%3D8-32-spons%26psc%3D1&qualifier=1612271873&id=1126860968512705&widgetName=sp_btf',\n",
       " 'https://www.amazon.in/gp/slredirect/picassoRedirect.html/ref=pa_sp_btf_aps_sr_pg2_1?ie=UTF8&adId=A0599667204N1X98UM43Q&url=%2FSanyo-inches-Certified-Android-XT-43FHD4S%2Fdp%2FB08DY7GNJ8%2Fref%3Dsr_1_33_sspa%3Fdchild%3D1%26keywords%3DTelevision%26qid%3D1612271859%26sr%3D8-33-spons%26psc%3D1&qualifier=1612271873&id=1126860968512705&widgetName=sp_btf',\n",
       " 'https://www.amazon.in/gp/slredirect/picassoRedirect.html/ref=pa_sp_atf_next_aps_sr_pg2_1?ie=UTF8&adId=A0720853R9IIRAIZ5A7S&url=%2FTCL-inches-Certified-Android-43P615%2Fdp%2FB08FD2VSD9%2Fref%3Dsr_1_17_sspa%3Fdchild%3D1%26keywords%3DTelevision%26qid%3D1612271859%26sr%3D8-17-spons%26psc%3D1&qualifier=1612271873&id=1126860968512705&widgetName=sp_atf_next',\n",
       " 'https://www.amazon.in/gp/slredirect/picassoRedirect.html/ref=pa_sp_atf_next_aps_sr_pg2_1?ie=UTF8&adId=A1011788PE2O1M5RBTM2&url=%2FSamsung-inches-Wondertainment-Ready-UA32TE40AAKBXL%2Fdp%2FB08PV1X771%2Fref%3Dsr_1_18_sspa%3Fdchild%3D1%26keywords%3DTelevision%26qid%3D1612271859%26sr%3D8-18-spons%26psc%3D1&qualifier=1612271873&id=1126860968512705&widgetName=sp_atf_next',\n",
       " 'https://www.amazon.in/TCL-100-3cm-inches-Android-Smart/dp/B07KCCWJTP/ref=sr_1_19?dchild=1&keywords=Television&qid=1612271859&sr=8-19',\n",
       " 'https://www.amazon.in/Shinco-Inches-Ready-SO32SF-Built/dp/B08QRDY1FD/ref=sr_1_20?dchild=1&keywords=Television&qid=1612271859&sr=8-20',\n",
       " 'https://www.amazon.in/TCL-inches-Certified-Android-43P615/dp/B08FD2VSD9/ref=sr_1_21?dchild=1&keywords=Television&qid=1612271859&sr=8-21',\n",
       " 'https://www.amazon.in/Kodak-Inches-Certified-Android-32HDX7XPRO/dp/B08CS3BT4L/ref=sr_1_17?dchild=1&keywords=Television&qid=1612271859&sr=8-17',\n",
       " 'https://www.amazon.in/inches-Ready-Smart-VW32PRO-Black/dp/B08PZ6HZLT/ref=sr_1_18?dchild=1&keywords=Television&qid=1612271859&sr=8-18',\n",
       " 'https://www.amazon.in/eAirtec-inches-Ready-32DJ-Black/dp/B07MNF89L2/ref=sr_1_19?dchild=1&keywords=Television&qid=1612271859&sr=8-19',\n",
       " 'https://www.amazon.in/MI-Inches-Android-Black-Saver/dp/B08RBZQJHC/ref=sr_1_20?dchild=1&keywords=Television&qid=1612271859&sr=8-20',\n",
       " 'https://www.amazon.in/Kevin-inches-Ready-K56U912-Black/dp/B072QD8QKL/ref=sr_1_21?dchild=1&keywords=Television&qid=1612271859&sr=8-21',\n",
       " 'https://www.amazon.in/gp/slredirect/picassoRedirect.html/ref=pa_sp_mtf_aps_sr_pg2_1?ie=UTF8&adId=A06200863BLHG3G782GKI&url=%2FPanasonic-inches-Certified-Android-TH-58HX450DX%2Fdp%2FB087K116SF%2Fref%3Dsr_1_22_sspa%3Fdchild%3D1%26keywords%3DTelevision%26qid%3D1612271859%26sr%3D8-22-spons%26psc%3D1&qualifier=1612271873&id=1126860968512705&widgetName=sp_mtf',\n",
       " 'https://www.amazon.in/gp/slredirect/picassoRedirect.html/ref=pa_sp_mtf_aps_sr_pg2_1?ie=UTF8&adId=A005190310CJPHCCBIRAI&url=%2FTCL-100-3cm-inches-Android-Smart%2Fdp%2FB07KCCWJTP%2Fref%3Dsr_1_23_sspa%3Fdchild%3D1%26keywords%3DTelevision%26qid%3D1612271859%26sr%3D8-23-spons%26psc%3D1&qualifier=1612271873&id=1126860968512705&widgetName=sp_mtf',\n",
       " 'https://www.amazon.in/Kevin-Inches-Ready-KN32A-Built/dp/B08QCJQQJ6/ref=sr_1_24?dchild=1&keywords=Television&qid=1612271859&sr=8-24',\n",
       " 'https://www.amazon.in/TCL-79-97cm-inches-Ready-Android/dp/B07MD8RJW3/ref=sr_1_25?dchild=1&keywords=Television&qid=1612271859&sr=8-25',\n",
       " 'https://www.amazon.in/inches-UltraAndroid-43GA-Black-Model/dp/B07XMD275S/ref=sr_1_26?dchild=1&keywords=Television&qid=1612271859&sr=8-26',\n",
       " 'https://www.amazon.in/Samsung-inches-Wondertainment-Ready-UA32TE40AAKBXL/dp/B08PV1X771/ref=sr_1_27?dchild=1&keywords=Television&qid=1612271859&sr=8-27',\n",
       " 'https://www.amazon.in/Sony-Bravia-inches-Smart-KDL-43W6603/dp/B086CGNG4T/ref=sr_1_28?dchild=1&keywords=Television&qid=1612271859&sr=8-28',\n",
       " 'https://www.amazon.in/Onida-108-Inches-Full-Smart/dp/B08171NJL9/ref=sr_1_29?dchild=1&keywords=Television&qid=1612271859&sr=8-29',\n",
       " 'https://www.amazon.in/AmazonBasics-108cm-inch-Full-Smart/dp/B087JY84QQ/ref=sr_1_30?dchild=1&keywords=Television&qid=1612271859&sr=8-30',\n",
       " 'https://www.amazon.in/Sanyo-inches-Certified-Android-XT-43FHD4S/dp/B08DY7GNJ8/ref=sr_1_31?dchild=1&keywords=Television&qid=1612271859&sr=8-31',\n",
       " 'https://www.amazon.in/gp/slredirect/picassoRedirect.html/ref=pa_sp_btf_aps_sr_pg2_1?ie=UTF8&adId=A0983687VYIY2M9F8Z57&url=%2Finches-UltraAndroid-43GA-Black-Model%2Fdp%2FB07XMD275S%2Fref%3Dsr_1_32_sspa%3Fdchild%3D1%26keywords%3DTelevision%26qid%3D1612271859%26sr%3D8-32-spons%26psc%3D1&qualifier=1612271873&id=1126860968512705&widgetName=sp_btf',\n",
       " 'https://www.amazon.in/gp/slredirect/picassoRedirect.html/ref=pa_sp_btf_aps_sr_pg2_1?ie=UTF8&adId=A0599667204N1X98UM43Q&url=%2FSanyo-inches-Certified-Android-XT-43FHD4S%2Fdp%2FB08DY7GNJ8%2Fref%3Dsr_1_33_sspa%3Fdchild%3D1%26keywords%3DTelevision%26qid%3D1612271859%26sr%3D8-33-spons%26psc%3D1&qualifier=1612271873&id=1126860968512705&widgetName=sp_btf',\n",
       " 'https://www.amazon.in/gp/slredirect/picassoRedirect.html/ref=pa_sp_atf_next_aps_sr_pg2_1?ie=UTF8&adId=A0720853R9IIRAIZ5A7S&url=%2FTCL-inches-Certified-Android-43P615%2Fdp%2FB08FD2VSD9%2Fref%3Dsr_1_17_sspa%3Fdchild%3D1%26keywords%3DTelevision%26qid%3D1612271859%26sr%3D8-17-spons%26psc%3D1&qualifier=1612271873&id=1126860968512705&widgetName=sp_atf_next',\n",
       " 'https://www.amazon.in/gp/slredirect/picassoRedirect.html/ref=pa_sp_atf_next_aps_sr_pg2_1?ie=UTF8&adId=A1011788PE2O1M5RBTM2&url=%2FSamsung-inches-Wondertainment-Ready-UA32TE40AAKBXL%2Fdp%2FB08PV1X771%2Fref%3Dsr_1_18_sspa%3Fdchild%3D1%26keywords%3DTelevision%26qid%3D1612271859%26sr%3D8-18-spons%26psc%3D1&qualifier=1612271873&id=1126860968512705&widgetName=sp_atf_next',\n",
       " 'https://www.amazon.in/TCL-100-3cm-inches-Android-Smart/dp/B07KCCWJTP/ref=sr_1_19?dchild=1&keywords=Television&qid=1612271859&sr=8-19',\n",
       " 'https://www.amazon.in/Shinco-Inches-Ready-SO32SF-Built/dp/B08QRDY1FD/ref=sr_1_20?dchild=1&keywords=Television&qid=1612271859&sr=8-20',\n",
       " 'https://www.amazon.in/TCL-inches-Certified-Android-43P615/dp/B08FD2VSD9/ref=sr_1_21?dchild=1&keywords=Television&qid=1612271859&sr=8-21',\n",
       " 'https://www.amazon.in/Kodak-Inches-Certified-Android-32HDX7XPRO/dp/B08CS3BT4L/ref=sr_1_17?dchild=1&keywords=Television&qid=1612271859&sr=8-17',\n",
       " 'https://www.amazon.in/inches-Ready-Smart-VW32PRO-Black/dp/B08PZ6HZLT/ref=sr_1_18?dchild=1&keywords=Television&qid=1612271859&sr=8-18',\n",
       " 'https://www.amazon.in/eAirtec-inches-Ready-32DJ-Black/dp/B07MNF89L2/ref=sr_1_19?dchild=1&keywords=Television&qid=1612271859&sr=8-19',\n",
       " 'https://www.amazon.in/MI-Inches-Android-Black-Saver/dp/B08RBZQJHC/ref=sr_1_20?dchild=1&keywords=Television&qid=1612271859&sr=8-20',\n",
       " 'https://www.amazon.in/Kevin-inches-Ready-K56U912-Black/dp/B072QD8QKL/ref=sr_1_21?dchild=1&keywords=Television&qid=1612271859&sr=8-21',\n",
       " 'https://www.amazon.in/gp/slredirect/picassoRedirect.html/ref=pa_sp_mtf_aps_sr_pg2_1?ie=UTF8&adId=A06200863BLHG3G782GKI&url=%2FPanasonic-inches-Certified-Android-TH-58HX450DX%2Fdp%2FB087K116SF%2Fref%3Dsr_1_22_sspa%3Fdchild%3D1%26keywords%3DTelevision%26qid%3D1612271859%26sr%3D8-22-spons%26psc%3D1&qualifier=1612271873&id=1126860968512705&widgetName=sp_mtf',\n",
       " 'https://www.amazon.in/gp/slredirect/picassoRedirect.html/ref=pa_sp_mtf_aps_sr_pg2_1?ie=UTF8&adId=A005190310CJPHCCBIRAI&url=%2FTCL-100-3cm-inches-Android-Smart%2Fdp%2FB07KCCWJTP%2Fref%3Dsr_1_23_sspa%3Fdchild%3D1%26keywords%3DTelevision%26qid%3D1612271859%26sr%3D8-23-spons%26psc%3D1&qualifier=1612271873&id=1126860968512705&widgetName=sp_mtf',\n",
       " 'https://www.amazon.in/Kevin-Inches-Ready-KN32A-Built/dp/B08QCJQQJ6/ref=sr_1_24?dchild=1&keywords=Television&qid=1612271859&sr=8-24',\n",
       " 'https://www.amazon.in/TCL-79-97cm-inches-Ready-Android/dp/B07MD8RJW3/ref=sr_1_25?dchild=1&keywords=Television&qid=1612271859&sr=8-25',\n",
       " 'https://www.amazon.in/inches-UltraAndroid-43GA-Black-Model/dp/B07XMD275S/ref=sr_1_26?dchild=1&keywords=Television&qid=1612271859&sr=8-26',\n",
       " 'https://www.amazon.in/Samsung-inches-Wondertainment-Ready-UA32TE40AAKBXL/dp/B08PV1X771/ref=sr_1_27?dchild=1&keywords=Television&qid=1612271859&sr=8-27',\n",
       " 'https://www.amazon.in/Sony-Bravia-inches-Smart-KDL-43W6603/dp/B086CGNG4T/ref=sr_1_28?dchild=1&keywords=Television&qid=1612271859&sr=8-28',\n",
       " 'https://www.amazon.in/Onida-108-Inches-Full-Smart/dp/B08171NJL9/ref=sr_1_29?dchild=1&keywords=Television&qid=1612271859&sr=8-29',\n",
       " 'https://www.amazon.in/AmazonBasics-108cm-inch-Full-Smart/dp/B087JY84QQ/ref=sr_1_30?dchild=1&keywords=Television&qid=1612271859&sr=8-30',\n",
       " 'https://www.amazon.in/Sanyo-inches-Certified-Android-XT-43FHD4S/dp/B08DY7GNJ8/ref=sr_1_31?dchild=1&keywords=Television&qid=1612271859&sr=8-31',\n",
       " 'https://www.amazon.in/gp/slredirect/picassoRedirect.html/ref=pa_sp_btf_aps_sr_pg2_1?ie=UTF8&adId=A0983687VYIY2M9F8Z57&url=%2Finches-UltraAndroid-43GA-Black-Model%2Fdp%2FB07XMD275S%2Fref%3Dsr_1_32_sspa%3Fdchild%3D1%26keywords%3DTelevision%26qid%3D1612271859%26sr%3D8-32-spons%26psc%3D1&qualifier=1612271873&id=1126860968512705&widgetName=sp_btf',\n",
       " 'https://www.amazon.in/gp/slredirect/picassoRedirect.html/ref=pa_sp_btf_aps_sr_pg2_1?ie=UTF8&adId=A0599667204N1X98UM43Q&url=%2FSanyo-inches-Certified-Android-XT-43FHD4S%2Fdp%2FB08DY7GNJ8%2Fref%3Dsr_1_33_sspa%3Fdchild%3D1%26keywords%3DTelevision%26qid%3D1612271859%26sr%3D8-33-spons%26psc%3D1&qualifier=1612271873&id=1126860968512705&widgetName=sp_btf']"
      ]
     },
     "execution_count": 51,
     "metadata": {},
     "output_type": "execute_result"
    }
   ],
   "source": [
    "TV_URL"
   ]
  },
  {
   "cell_type": "code",
   "execution_count": 52,
   "metadata": {},
   "outputs": [
    {
     "data": {
      "text/plain": [
       "66"
      ]
     },
     "execution_count": 52,
     "metadata": {},
     "output_type": "execute_result"
    }
   ],
   "source": [
    "#checking the length of tv url\n",
    "len(TV_URL)"
   ]
  },
  {
   "cell_type": "code",
   "execution_count": 53,
   "metadata": {},
   "outputs": [],
   "source": [
    "#going to the url of first television through our driver\n",
    "driver.get(TV_URL[0])"
   ]
  },
  {
   "cell_type": "code",
   "execution_count": 54,
   "metadata": {},
   "outputs": [],
   "source": [
    "#creating the empty lists\n",
    "Brand_name=[]\n",
    "Name_of_product=[]\n",
    "Rating=[]\n",
    "No_of_ratings=[]\n",
    "Price=[]\n",
    "Return_exchange=[]\n",
    "Expected_delivery=[]\n",
    "Availibility=[]\n",
    "Other_details=[]"
   ]
  },
  {
   "cell_type": "code",
   "execution_count": 55,
   "metadata": {},
   "outputs": [
    {
     "name": "stderr",
     "output_type": "stream",
     "text": [
      "100%|██████████| 66/66 [08:24<00:00,  7.65s/it]\n"
     ]
    }
   ],
   "source": [
    "#running a loop to extract all the required information from TV_URL\n",
    "\n",
    "from tqdm import tqdm\n",
    "for i in tqdm(TV_URL):\n",
    "    driver.get(i)\n",
    "    try:\n",
    "        brand=driver.find_element_by_xpath('//*[@id=\"bylineInfo\"]').text\n",
    "        Brand_name.append(brand)\n",
    "    except NoSuchElementException:\n",
    "        Brand_name.append('-')\n",
    "        \n",
    "    try:\n",
    "        product=driver.find_element_by_xpath('//*[@id=\"productTitle\"]').text\n",
    "        Name_of_product.append(product)\n",
    "    except NoSuchElementException:\n",
    "        Name_of_product.append('-')\n",
    "    \n",
    "    try:\n",
    "        rating_=driver.find_element_by_xpath(\"//span[@id='acrCustomerReviewText']\").click()\n",
    "        rating=driver.find_element_by_xpath(\"//span[@class='a-size-medium a-color-base']\").text\n",
    "        Rating.append(rating)\n",
    "    except NoSuchElementException as e:\n",
    "        Rating.append('-')\n",
    "        \n",
    "    try:\n",
    "        ratings=driver.find_element_by_xpath('//*[@id=\"acrCustomerReviewText\"]').text\n",
    "        No_of_ratings.append(ratings)\n",
    "    except NoSuchElementException:\n",
    "        No_of_ratings.append('-')\n",
    "        \n",
    "    try:\n",
    "        price=driver.find_element_by_xpath('//*[@id=\"priceblock_ourprice\"]').text\n",
    "        Price.append(price)\n",
    "    except NoSuchElementException:\n",
    "        Price.append('-')\n",
    "        \n",
    "    try:\n",
    "        exchange=driver.find_element_by_xpath('//*[@id=\"icon-farm-container\"]/div/div[1]/span/div[2]/a').text\n",
    "        Return_exchange.append(exchange)\n",
    "    except NoSuchElementException:\n",
    "        Return_exchange.append('-')\n",
    "        \n",
    "    try:\n",
    "        delivery=driver.find_element_by_xpath('//*[@id=\"ddmDeliveryMessage\"]/b').text\n",
    "        Expected_delivery.append(delivery)\n",
    "    except NoSuchElementException:\n",
    "        Expected_delivery.append('-')\n",
    "        \n",
    "    try:\n",
    "        availibility=driver.find_element_by_xpath('//*[@id=\"availability\"]/span').text\n",
    "        Availibility.append(availibility)\n",
    "    except NoSuchElementException:\n",
    "        Availibility.append('-')\n",
    "        \n",
    "    try:\n",
    "        details=driver.find_element_by_xpath('//*[@id=\"feature-bullets\"]/ul').text.replace(\"\\n\",\" \")\n",
    "        Other_details.append(details)\n",
    "    except NoSuchElementException:\n",
    "        Other_details.append('-')\n",
    "        \n",
    "    time.sleep(3)"
   ]
  },
  {
   "cell_type": "code",
   "execution_count": 56,
   "metadata": {},
   "outputs": [
    {
     "data": {
      "text/plain": [
       "['Visit the TCL Store',\n",
       " 'Visit the Samsung Store',\n",
       " 'Visit the TCL Store',\n",
       " 'Visit the Shinco Store',\n",
       " 'Visit the TCL Store',\n",
       " 'Visit the Kodak Store',\n",
       " 'Brand: Visio World',\n",
       " 'Visit the eAirtec Store',\n",
       " 'Brand: MI',\n",
       " 'Visit the Kevin Store',\n",
       " 'Visit the Panasonic Store',\n",
       " 'Visit the TCL Store',\n",
       " 'Visit the Kevin Store',\n",
       " 'Visit the TCL Store',\n",
       " 'Brand: VU',\n",
       " 'Visit the Samsung Store',\n",
       " 'Brand: Sony',\n",
       " 'Visit the Onida Store',\n",
       " 'Brand: AmazonBasics',\n",
       " 'Visit the Sanyo Store',\n",
       " 'Brand: VU',\n",
       " 'Visit the Sanyo Store',\n",
       " 'Visit the TCL Store',\n",
       " 'Visit the Samsung Store',\n",
       " 'Visit the TCL Store',\n",
       " 'Visit the Shinco Store',\n",
       " 'Visit the TCL Store',\n",
       " 'Visit the Kodak Store',\n",
       " 'Brand: Visio World',\n",
       " 'Visit the eAirtec Store',\n",
       " 'Brand: MI',\n",
       " 'Visit the Kevin Store',\n",
       " 'Visit the Panasonic Store',\n",
       " 'Visit the TCL Store',\n",
       " 'Visit the Kevin Store',\n",
       " 'Visit the TCL Store',\n",
       " 'Brand: VU',\n",
       " 'Visit the Samsung Store',\n",
       " 'Brand: Sony',\n",
       " 'Visit the Onida Store',\n",
       " 'Brand: AmazonBasics',\n",
       " 'Visit the Sanyo Store',\n",
       " 'Brand: VU',\n",
       " 'Visit the Sanyo Store',\n",
       " 'Visit the TCL Store',\n",
       " 'Visit the Samsung Store',\n",
       " 'Visit the TCL Store',\n",
       " 'Visit the Shinco Store',\n",
       " 'Visit the TCL Store',\n",
       " 'Visit the Kodak Store',\n",
       " 'Brand: Visio World',\n",
       " 'Visit the eAirtec Store',\n",
       " 'Brand: MI',\n",
       " 'Visit the Kevin Store',\n",
       " 'Visit the Panasonic Store',\n",
       " 'Visit the TCL Store',\n",
       " 'Visit the Kevin Store',\n",
       " 'Visit the TCL Store',\n",
       " 'Brand: VU',\n",
       " 'Visit the Samsung Store',\n",
       " 'Brand: Sony',\n",
       " 'Visit the Onida Store',\n",
       " 'Brand: AmazonBasics',\n",
       " 'Visit the Sanyo Store',\n",
       " 'Brand: VU',\n",
       " 'Visit the Sanyo Store']"
      ]
     },
     "execution_count": 56,
     "metadata": {},
     "output_type": "execute_result"
    }
   ],
   "source": [
    "Brand_name"
   ]
  },
  {
   "cell_type": "code",
   "execution_count": 57,
   "metadata": {},
   "outputs": [
    {
     "data": {
      "text/plain": [
       "['TCL 108 cm (43 inches) 4K Ultra HD Certified Android Smart LED TV 43P615 (Black) (2020 Model)',\n",
       " 'Samsung 80 cm (32 inches) Wondertainment Series HD Ready LED Smart TV UA32TE40AAKBXL (Titan Gray) (2021 model)',\n",
       " 'TCL 100 cm (40 inches) Full HD Certified Android Smart LED TV 40S6500FS (Black) (2020 Model)',\n",
       " 'Shinco 80 cm (32 Inches) HD Ready Smart LED TV SO32SF (Black) (2021 Model) | with Alexa Built-in',\n",
       " 'TCL 108 cm (43 inches) 4K Ultra HD Certified Android Smart LED TV 43P615 (Black) (2020 Model)',\n",
       " 'Kodak 80 cm (32 Inches) HD Certified Android LED TV 32HDX7XPRO (Black) (2020 Model)',\n",
       " 'VW 80 cm (32 inches) HD Ready LED Smart TV VW32PRO (Black) (2021 Model)',\n",
       " 'eAirtec 81 cm (32 inches) HD Ready LED TV 32DJ (Black) (2020 Model)',\n",
       " 'MI TV 4A 100 cm (40 Inches) Full HD Android LED TV (Black) | with Data Saver',\n",
       " 'Kevin 80 cm (32 Inches) HD Ready LED TV K56U912 (Black) (2021 Model)',\n",
       " 'Panasonic 147 cm (58 inches) 4K Ultra HD Certified Android Smart LED TV TH-58HX450DX (Black) (2020 Model)',\n",
       " 'TCL 100 cm (40 inches) Full HD Certified Android Smart LED TV 40S6500FS (Black) (2020 Model)',\n",
       " 'Kevin 80 cm (32 Inches) HD Ready Smart LED TV KN32A (Black) (2021 Model) | With Alexa Built-in',\n",
       " 'TCL 80 cm (32 inches) HD Ready Certified Android Smart LED TV 32S6500S (Black) (2020 Model)',\n",
       " 'Vu 108 cm (43 inches) Full HD UltraAndroid LED TV 43GA (Black) (2019 Model)',\n",
       " 'Samsung 80 cm (32 inches) Wondertainment Series HD Ready LED Smart TV UA32TE40AAKBXL (Titan Gray) (2021 model)',\n",
       " 'Sony Bravia 108 cm (43 inches) Full HD Smart LED TV KDL-43W6603 (Black) (2020 Model)',\n",
       " 'Onida 108 cm (43 Inches) Fire TV Edition Full HD Smart IPS LED TV 43FIF (Black) (2020 Model)',\n",
       " 'AmazonBasics 109cm (43 inches) Fire TV Edition Full HD Smart LED TV AB43E10DS (Black)',\n",
       " 'Sanyo 108 cm (43 inches) Kaizen Series Full HD Certified Android LED TV XT-43FHD4S (Black) (2020 Model)',\n",
       " 'Vu 108 cm (43 inches) Full HD UltraAndroid LED TV 43GA (Black) (2019 Model)',\n",
       " 'Sanyo 108 cm (43 inches) Kaizen Series Full HD Certified Android LED TV XT-43FHD4S (Black) (2020 Model)',\n",
       " 'TCL 108 cm (43 inches) 4K Ultra HD Certified Android Smart LED TV 43P615 (Black) (2020 Model)',\n",
       " 'Samsung 80 cm (32 inches) Wondertainment Series HD Ready LED Smart TV UA32TE40AAKBXL (Titan Gray) (2021 model)',\n",
       " 'TCL 100 cm (40 inches) Full HD Certified Android Smart LED TV 40S6500FS (Black) (2020 Model)',\n",
       " 'Shinco 80 cm (32 Inches) HD Ready Smart LED TV SO32SF (Black) (2021 Model) | with Alexa Built-in',\n",
       " 'TCL 108 cm (43 inches) 4K Ultra HD Certified Android Smart LED TV 43P615 (Black) (2020 Model)',\n",
       " 'Kodak 80 cm (32 Inches) HD Certified Android LED TV 32HDX7XPRO (Black) (2020 Model)',\n",
       " 'VW 80 cm (32 inches) HD Ready LED Smart TV VW32PRO (Black) (2021 Model)',\n",
       " 'eAirtec 81 cm (32 inches) HD Ready LED TV 32DJ (Black) (2020 Model)',\n",
       " 'MI TV 4A 100 cm (40 Inches) Full HD Android LED TV (Black) | with Data Saver',\n",
       " 'Kevin 80 cm (32 Inches) HD Ready LED TV K56U912 (Black) (2021 Model)',\n",
       " 'Panasonic 147 cm (58 inches) 4K Ultra HD Certified Android Smart LED TV TH-58HX450DX (Black) (2020 Model)',\n",
       " 'TCL 100 cm (40 inches) Full HD Certified Android Smart LED TV 40S6500FS (Black) (2020 Model)',\n",
       " 'Kevin 80 cm (32 Inches) HD Ready Smart LED TV KN32A (Black) (2021 Model) | With Alexa Built-in',\n",
       " 'TCL 80 cm (32 inches) HD Ready Certified Android Smart LED TV 32S6500S (Black) (2020 Model)',\n",
       " 'Vu 108 cm (43 inches) Full HD UltraAndroid LED TV 43GA (Black) (2019 Model)',\n",
       " 'Samsung 80 cm (32 inches) Wondertainment Series HD Ready LED Smart TV UA32TE40AAKBXL (Titan Gray) (2021 model)',\n",
       " 'Sony Bravia 108 cm (43 inches) Full HD Smart LED TV KDL-43W6603 (Black) (2020 Model)',\n",
       " 'Onida 108 cm (43 Inches) Fire TV Edition Full HD Smart IPS LED TV 43FIF (Black) (2020 Model)',\n",
       " 'AmazonBasics 109cm (43 inches) Fire TV Edition Full HD Smart LED TV AB43E10DS (Black)',\n",
       " 'Sanyo 108 cm (43 inches) Kaizen Series Full HD Certified Android LED TV XT-43FHD4S (Black) (2020 Model)',\n",
       " 'Vu 108 cm (43 inches) Full HD UltraAndroid LED TV 43GA (Black) (2019 Model)',\n",
       " 'Sanyo 108 cm (43 inches) Kaizen Series Full HD Certified Android LED TV XT-43FHD4S (Black) (2020 Model)',\n",
       " 'TCL 108 cm (43 inches) 4K Ultra HD Certified Android Smart LED TV 43P615 (Black) (2020 Model)',\n",
       " 'Samsung 80 cm (32 inches) Wondertainment Series HD Ready LED Smart TV UA32TE40AAKBXL (Titan Gray) (2021 model)',\n",
       " 'TCL 100 cm (40 inches) Full HD Certified Android Smart LED TV 40S6500FS (Black) (2020 Model)',\n",
       " 'Shinco 80 cm (32 Inches) HD Ready Smart LED TV SO32SF (Black) (2021 Model) | with Alexa Built-in',\n",
       " 'TCL 108 cm (43 inches) 4K Ultra HD Certified Android Smart LED TV 43P615 (Black) (2020 Model)',\n",
       " 'Kodak 80 cm (32 Inches) HD Certified Android LED TV 32HDX7XPRO (Black) (2020 Model)',\n",
       " 'VW 80 cm (32 inches) HD Ready LED Smart TV VW32PRO (Black) (2021 Model)',\n",
       " 'eAirtec 81 cm (32 inches) HD Ready LED TV 32DJ (Black) (2020 Model)',\n",
       " 'MI TV 4A 100 cm (40 Inches) Full HD Android LED TV (Black) | with Data Saver',\n",
       " 'Kevin 80 cm (32 Inches) HD Ready LED TV K56U912 (Black) (2021 Model)',\n",
       " 'Panasonic 147 cm (58 inches) 4K Ultra HD Certified Android Smart LED TV TH-58HX450DX (Black) (2020 Model)',\n",
       " 'TCL 100 cm (40 inches) Full HD Certified Android Smart LED TV 40S6500FS (Black) (2020 Model)',\n",
       " 'Kevin 80 cm (32 Inches) HD Ready Smart LED TV KN32A (Black) (2021 Model) | With Alexa Built-in',\n",
       " 'TCL 80 cm (32 inches) HD Ready Certified Android Smart LED TV 32S6500S (Black) (2020 Model)',\n",
       " 'Vu 108 cm (43 inches) Full HD UltraAndroid LED TV 43GA (Black) (2019 Model)',\n",
       " 'Samsung 80 cm (32 inches) Wondertainment Series HD Ready LED Smart TV UA32TE40AAKBXL (Titan Gray) (2021 model)',\n",
       " 'Sony Bravia 108 cm (43 inches) Full HD Smart LED TV KDL-43W6603 (Black) (2020 Model)',\n",
       " 'Onida 108 cm (43 Inches) Fire TV Edition Full HD Smart IPS LED TV 43FIF (Black) (2020 Model)',\n",
       " 'AmazonBasics 109cm (43 inches) Fire TV Edition Full HD Smart LED TV AB43E10DS (Black)',\n",
       " 'Sanyo 108 cm (43 inches) Kaizen Series Full HD Certified Android LED TV XT-43FHD4S (Black) (2020 Model)',\n",
       " 'Vu 108 cm (43 inches) Full HD UltraAndroid LED TV 43GA (Black) (2019 Model)',\n",
       " 'Sanyo 108 cm (43 inches) Kaizen Series Full HD Certified Android LED TV XT-43FHD4S (Black) (2020 Model)']"
      ]
     },
     "execution_count": 57,
     "metadata": {},
     "output_type": "execute_result"
    }
   ],
   "source": [
    "Name_of_product"
   ]
  },
  {
   "cell_type": "code",
   "execution_count": 58,
   "metadata": {},
   "outputs": [
    {
     "data": {
      "text/plain": [
       "['4.2 out of 5',\n",
       " '4.3 out of 5',\n",
       " '4.1 out of 5',\n",
       " '3.8 out of 5',\n",
       " '4.2 out of 5',\n",
       " '4.4 out of 5',\n",
       " '4.5 out of 5',\n",
       " '3.9 out of 5',\n",
       " '4.2 out of 5',\n",
       " '4.3 out of 5',\n",
       " '4.1 out of 5',\n",
       " '4.1 out of 5',\n",
       " '5 out of 5',\n",
       " '4.1 out of 5',\n",
       " '4.2 out of 5',\n",
       " '4.3 out of 5',\n",
       " '4.7 out of 5',\n",
       " '4.3 out of 5',\n",
       " '4.2 out of 5',\n",
       " '4.4 out of 5',\n",
       " '4.2 out of 5',\n",
       " '4.4 out of 5',\n",
       " '4.2 out of 5',\n",
       " '4.3 out of 5',\n",
       " '4.1 out of 5',\n",
       " '3.8 out of 5',\n",
       " '4.2 out of 5',\n",
       " '4.4 out of 5',\n",
       " '4.5 out of 5',\n",
       " '3.9 out of 5',\n",
       " '4.2 out of 5',\n",
       " '4.3 out of 5',\n",
       " '4.1 out of 5',\n",
       " '4.1 out of 5',\n",
       " '5 out of 5',\n",
       " '4.1 out of 5',\n",
       " '4.2 out of 5',\n",
       " '4.3 out of 5',\n",
       " '4.7 out of 5',\n",
       " '4.3 out of 5',\n",
       " '4.2 out of 5',\n",
       " '4.4 out of 5',\n",
       " '4.2 out of 5',\n",
       " '4.4 out of 5',\n",
       " '4.2 out of 5',\n",
       " '4.3 out of 5',\n",
       " '4.1 out of 5',\n",
       " '3.8 out of 5',\n",
       " '4.2 out of 5',\n",
       " '4.4 out of 5',\n",
       " '4.5 out of 5',\n",
       " '3.9 out of 5',\n",
       " '4.2 out of 5',\n",
       " '4.3 out of 5',\n",
       " '4.1 out of 5',\n",
       " '4.1 out of 5',\n",
       " '5 out of 5',\n",
       " '4.1 out of 5',\n",
       " '4.2 out of 5',\n",
       " '4.3 out of 5',\n",
       " '4.7 out of 5',\n",
       " '4.3 out of 5',\n",
       " '4.2 out of 5',\n",
       " '4.4 out of 5',\n",
       " '4.2 out of 5',\n",
       " '4.4 out of 5']"
      ]
     },
     "execution_count": 58,
     "metadata": {},
     "output_type": "execute_result"
    }
   ],
   "source": [
    "Rating"
   ]
  },
  {
   "cell_type": "code",
   "execution_count": 59,
   "metadata": {},
   "outputs": [
    {
     "data": {
      "text/plain": [
       "['289 ratings',\n",
       " '1,678 ratings',\n",
       " '823 ratings',\n",
       " '11 ratings',\n",
       " '289 ratings',\n",
       " '4,545 ratings',\n",
       " '33 ratings',\n",
       " '1,919 ratings',\n",
       " '29,917 ratings',\n",
       " '6,996 ratings',\n",
       " '151 ratings',\n",
       " '823 ratings',\n",
       " '9 ratings',\n",
       " '160 ratings',\n",
       " '8,181 ratings',\n",
       " '1,678 ratings',\n",
       " '2,819 ratings',\n",
       " '3,475 ratings',\n",
       " '45 ratings',\n",
       " '1,000 ratings',\n",
       " '8,181 ratings',\n",
       " '1,000 ratings',\n",
       " '289 ratings',\n",
       " '1,678 ratings',\n",
       " '823 ratings',\n",
       " '11 ratings',\n",
       " '289 ratings',\n",
       " '4,545 ratings',\n",
       " '33 ratings',\n",
       " '1,919 ratings',\n",
       " '29,917 ratings',\n",
       " '6,996 ratings',\n",
       " '151 ratings',\n",
       " '823 ratings',\n",
       " '9 ratings',\n",
       " '160 ratings',\n",
       " '8,181 ratings',\n",
       " '1,678 ratings',\n",
       " '2,819 ratings',\n",
       " '3,475 ratings',\n",
       " '45 ratings',\n",
       " '1,000 ratings',\n",
       " '8,181 ratings',\n",
       " '1,000 ratings',\n",
       " '289 ratings',\n",
       " '1,678 ratings',\n",
       " '823 ratings',\n",
       " '11 ratings',\n",
       " '289 ratings',\n",
       " '4,545 ratings',\n",
       " '33 ratings',\n",
       " '1,919 ratings',\n",
       " '29,920 ratings',\n",
       " '6,996 ratings',\n",
       " '151 ratings',\n",
       " '823 ratings',\n",
       " '9 ratings',\n",
       " '160 ratings',\n",
       " '8,181 ratings',\n",
       " '1,678 ratings',\n",
       " '2,819 ratings',\n",
       " '3,476 ratings',\n",
       " '45 ratings',\n",
       " '1,000 ratings',\n",
       " '8,181 ratings',\n",
       " '1,000 ratings']"
      ]
     },
     "execution_count": 59,
     "metadata": {},
     "output_type": "execute_result"
    }
   ],
   "source": [
    "No_of_ratings"
   ]
  },
  {
   "cell_type": "code",
   "execution_count": 60,
   "metadata": {},
   "outputs": [
    {
     "data": {
      "text/plain": [
       "['₹ 26,990.00',\n",
       " '₹ 17,290.00',\n",
       " '₹ 19,999.00',\n",
       " '₹ 12,499.00',\n",
       " '₹ 26,990.00',\n",
       " '₹ 13,499.00',\n",
       " '₹ 11,290.00',\n",
       " '₹ 9,500.00',\n",
       " '₹ 19,999.00',\n",
       " '₹ 9,999.00',\n",
       " '₹ 47,990.00',\n",
       " '₹ 19,999.00',\n",
       " '₹ 12,999.00',\n",
       " '-',\n",
       " '₹ 25,999.00',\n",
       " '₹ 17,290.00',\n",
       " '₹ 34,990.00',\n",
       " '₹ 23,149.00',\n",
       " '₹ 23,499.00',\n",
       " '₹ 23,499.00',\n",
       " '₹ 25,999.00',\n",
       " '₹ 23,499.00',\n",
       " '₹ 26,990.00',\n",
       " '₹ 17,290.00',\n",
       " '₹ 19,999.00',\n",
       " '₹ 12,499.00',\n",
       " '₹ 26,990.00',\n",
       " '₹ 13,499.00',\n",
       " '₹ 11,290.00',\n",
       " '₹ 9,500.00',\n",
       " '₹ 19,999.00',\n",
       " '₹ 9,999.00',\n",
       " '₹ 47,990.00',\n",
       " '₹ 19,999.00',\n",
       " '₹ 12,999.00',\n",
       " '-',\n",
       " '₹ 25,999.00',\n",
       " '₹ 17,290.00',\n",
       " '₹ 34,990.00',\n",
       " '₹ 23,149.00',\n",
       " '₹ 23,499.00',\n",
       " '₹ 23,499.00',\n",
       " '₹ 25,999.00',\n",
       " '₹ 23,499.00',\n",
       " '₹ 26,990.00',\n",
       " '₹ 17,290.00',\n",
       " '₹ 19,999.00',\n",
       " '₹ 12,499.00',\n",
       " '₹ 26,990.00',\n",
       " '₹ 13,499.00',\n",
       " '₹ 11,290.00',\n",
       " '₹ 9,500.00',\n",
       " '₹ 19,999.00',\n",
       " '₹ 9,999.00',\n",
       " '₹ 47,990.00',\n",
       " '₹ 19,999.00',\n",
       " '₹ 12,999.00',\n",
       " '-',\n",
       " '₹ 25,999.00',\n",
       " '₹ 17,290.00',\n",
       " '₹ 34,990.00',\n",
       " '₹ 23,149.00',\n",
       " '₹ 23,499.00',\n",
       " '₹ 23,499.00',\n",
       " '₹ 25,999.00',\n",
       " '₹ 23,499.00']"
      ]
     },
     "execution_count": 60,
     "metadata": {},
     "output_type": "execute_result"
    }
   ],
   "source": [
    "Price"
   ]
  },
  {
   "cell_type": "code",
   "execution_count": 61,
   "metadata": {},
   "outputs": [
    {
     "data": {
      "text/plain": [
       "['10 Days Replacement',\n",
       " '10 Days Replacement',\n",
       " '10 Days Replacement',\n",
       " '10 Days Replacement',\n",
       " '10 Days Replacement',\n",
       " '10 Days Replacement',\n",
       " '10 Days Replacement',\n",
       " '10 Days Replacement',\n",
       " '10 Days Replacement',\n",
       " '10 Days Replacement',\n",
       " '10 Days Replacement',\n",
       " '10 Days Replacement',\n",
       " '10 Days Replacement',\n",
       " '10 Days Replacement',\n",
       " '10 Days Replacement',\n",
       " '10 Days Replacement',\n",
       " '10 Days Replacement',\n",
       " '10 Days Replacement',\n",
       " '10 Days Replacement',\n",
       " '10 Days Replacement',\n",
       " '10 Days Replacement',\n",
       " '10 Days Replacement',\n",
       " '10 Days Replacement',\n",
       " '10 Days Replacement',\n",
       " '10 Days Replacement',\n",
       " '10 Days Replacement',\n",
       " '10 Days Replacement',\n",
       " '10 Days Replacement',\n",
       " '10 Days Replacement',\n",
       " '10 Days Replacement',\n",
       " '10 Days Replacement',\n",
       " '10 Days Replacement',\n",
       " '10 Days Replacement',\n",
       " '10 Days Replacement',\n",
       " '10 Days Replacement',\n",
       " '10 Days Replacement',\n",
       " '10 Days Replacement',\n",
       " '10 Days Replacement',\n",
       " '10 Days Replacement',\n",
       " '10 Days Replacement',\n",
       " '10 Days Replacement',\n",
       " '10 Days Replacement',\n",
       " '10 Days Replacement',\n",
       " '10 Days Replacement',\n",
       " '10 Days Replacement',\n",
       " '10 Days Replacement',\n",
       " '10 Days Replacement',\n",
       " '10 Days Replacement',\n",
       " '10 Days Replacement',\n",
       " '10 Days Replacement',\n",
       " '10 Days Replacement',\n",
       " '10 Days Replacement',\n",
       " '10 Days Replacement',\n",
       " '10 Days Replacement',\n",
       " '10 Days Replacement',\n",
       " '10 Days Replacement',\n",
       " '10 Days Replacement',\n",
       " '10 Days Replacement',\n",
       " '10 Days Replacement',\n",
       " '10 Days Replacement',\n",
       " '10 Days Replacement',\n",
       " '10 Days Replacement',\n",
       " '10 Days Replacement',\n",
       " '10 Days Replacement',\n",
       " '10 Days Replacement',\n",
       " '10 Days Replacement']"
      ]
     },
     "execution_count": 61,
     "metadata": {},
     "output_type": "execute_result"
    }
   ],
   "source": [
    "Return_exchange"
   ]
  },
  {
   "cell_type": "code",
   "execution_count": 62,
   "metadata": {},
   "outputs": [
    {
     "data": {
      "text/plain": [
       "['Thursday, Feb 4, 8AM-2PM',\n",
       " 'Thursday, Feb 4, 8AM-2PM',\n",
       " 'Saturday, Feb 6, 8AM-5PM',\n",
       " '-',\n",
       " 'Thursday, Feb 4, 8AM-2PM',\n",
       " 'Thursday, Feb 4, 8AM-2PM',\n",
       " '-',\n",
       " 'Thursday, Feb 4, 8AM-2PM',\n",
       " 'Thursday, Feb 4, 8AM-2PM',\n",
       " '-',\n",
       " 'Thursday, Feb 4, 8AM-2PM',\n",
       " 'Saturday, Feb 6, 8AM-5PM',\n",
       " 'Thursday, Feb 4, 8AM-2PM',\n",
       " '-',\n",
       " 'Thursday, Feb 4, 8AM-2PM',\n",
       " 'Thursday, Feb 4, 8AM-2PM',\n",
       " 'Thursday, Feb 4, 8AM-2PM',\n",
       " 'Thursday, Feb 4, 8AM-2PM',\n",
       " 'Thursday, Feb 4, 8AM-2PM',\n",
       " 'Thursday, Feb 4, 8AM-2PM',\n",
       " 'Thursday, Feb 4, 8AM-2PM',\n",
       " 'Thursday, Feb 4, 8AM-2PM',\n",
       " 'Thursday, Feb 4, 8AM-2PM',\n",
       " 'Thursday, Feb 4, 8AM-2PM',\n",
       " 'Saturday, Feb 6, 8AM-5PM',\n",
       " '-',\n",
       " 'Thursday, Feb 4, 8AM-2PM',\n",
       " 'Thursday, Feb 4, 8AM-2PM',\n",
       " '-',\n",
       " 'Thursday, Feb 4, 8AM-2PM',\n",
       " 'Thursday, Feb 4, 8AM-2PM',\n",
       " '-',\n",
       " 'Thursday, Feb 4, 8AM-2PM',\n",
       " 'Saturday, Feb 6, 8AM-5PM',\n",
       " 'Thursday, Feb 4, 8AM-2PM',\n",
       " '-',\n",
       " 'Thursday, Feb 4, 8AM-2PM',\n",
       " 'Thursday, Feb 4, 8AM-2PM',\n",
       " 'Thursday, Feb 4, 8AM-2PM',\n",
       " 'Thursday, Feb 4, 8AM-2PM',\n",
       " 'Thursday, Feb 4, 8AM-2PM',\n",
       " 'Thursday, Feb 4, 8AM-2PM',\n",
       " 'Thursday, Feb 4, 8AM-2PM',\n",
       " 'Thursday, Feb 4, 8AM-2PM',\n",
       " 'Thursday, Feb 4, 8AM-2PM',\n",
       " 'Thursday, Feb 4, 8AM-2PM',\n",
       " 'Saturday, Feb 6, 8AM-5PM',\n",
       " '-',\n",
       " 'Thursday, Feb 4, 8AM-2PM',\n",
       " 'Thursday, Feb 4, 8AM-2PM',\n",
       " '-',\n",
       " 'Thursday, Feb 4, 8AM-2PM',\n",
       " 'Thursday, Feb 4, 8AM-2PM',\n",
       " '-',\n",
       " 'Thursday, Feb 4, 8AM-2PM',\n",
       " 'Saturday, Feb 6, 8AM-5PM',\n",
       " 'Thursday, Feb 4, 8AM-2PM',\n",
       " '-',\n",
       " 'Thursday, Feb 4, 8AM-2PM',\n",
       " 'Thursday, Feb 4, 8AM-2PM',\n",
       " 'Thursday, Feb 4, 8AM-2PM',\n",
       " 'Thursday, Feb 4, 8AM-2PM',\n",
       " 'Thursday, Feb 4, 8AM-2PM',\n",
       " 'Thursday, Feb 4, 8AM-2PM',\n",
       " 'Thursday, Feb 4, 8AM-2PM',\n",
       " 'Thursday, Feb 4, 8AM-2PM']"
      ]
     },
     "execution_count": 62,
     "metadata": {},
     "output_type": "execute_result"
    }
   ],
   "source": [
    "Expected_delivery"
   ]
  },
  {
   "cell_type": "code",
   "execution_count": 63,
   "metadata": {},
   "outputs": [
    {
     "data": {
      "text/plain": [
       "['In stock.',\n",
       " 'In stock.',\n",
       " 'In stock.',\n",
       " 'In stock.',\n",
       " 'In stock.',\n",
       " 'In stock.',\n",
       " 'In stock.',\n",
       " 'In stock.',\n",
       " 'In stock.',\n",
       " 'In stock.',\n",
       " 'In stock.',\n",
       " 'In stock.',\n",
       " 'In stock.',\n",
       " 'Available from these sellers.',\n",
       " 'In stock.',\n",
       " 'In stock.',\n",
       " 'In stock.',\n",
       " 'In stock.',\n",
       " 'In stock.',\n",
       " 'In stock.',\n",
       " 'In stock.',\n",
       " 'In stock.',\n",
       " 'In stock.',\n",
       " 'In stock.',\n",
       " 'In stock.',\n",
       " 'In stock.',\n",
       " 'In stock.',\n",
       " 'In stock.',\n",
       " 'In stock.',\n",
       " 'In stock.',\n",
       " 'In stock.',\n",
       " 'In stock.',\n",
       " 'In stock.',\n",
       " 'In stock.',\n",
       " 'In stock.',\n",
       " 'Available from these sellers.',\n",
       " 'In stock.',\n",
       " 'In stock.',\n",
       " 'In stock.',\n",
       " 'In stock.',\n",
       " 'In stock.',\n",
       " 'In stock.',\n",
       " 'In stock.',\n",
       " 'In stock.',\n",
       " 'In stock.',\n",
       " 'In stock.',\n",
       " 'In stock.',\n",
       " 'In stock.',\n",
       " 'In stock.',\n",
       " 'In stock.',\n",
       " 'In stock.',\n",
       " 'In stock.',\n",
       " 'In stock.',\n",
       " 'In stock.',\n",
       " 'In stock.',\n",
       " 'In stock.',\n",
       " 'In stock.',\n",
       " 'Available from these sellers.',\n",
       " 'In stock.',\n",
       " 'In stock.',\n",
       " 'In stock.',\n",
       " 'In stock.',\n",
       " 'In stock.',\n",
       " 'In stock.',\n",
       " 'In stock.',\n",
       " 'In stock.']"
      ]
     },
     "execution_count": 63,
     "metadata": {},
     "output_type": "execute_result"
    }
   ],
   "source": [
    "Availibility"
   ]
  },
  {
   "cell_type": "code",
   "execution_count": 64,
   "metadata": {},
   "outputs": [
    {
     "data": {
      "text/plain": [
       "[\"Resolution: 4K Ultra HD (3860 x 2160) | Refresh Rate: 60 Hertz Connectivity : 3 HDMI ports to connect set top box, Blue Ray players | 1 USB ports to connect hard drives and other USB devices Sound: 24 Watts Output | Dolby Audio Power Speakers | Surround Virtualizer Smart TV Features : Built-In Wifi | Amazon Prime video | Hands free voice control |4K Android TV+HDR 10 |AI-Google Assistant | Certified Android P| Screen Cast+T-cast |2GB RAM - 16GB ROM |5000+ Apps YouTube, Netflix Display : A+ Grade Panel | UHD | HDR 10 | Full Screen | Slim Design Warranty: 18 Months comprehensive warranty provided by TCL from date of purchase Installation: Brand will contact for installation for this product once delivered. Contact TCL Support for assistance @ 1800-419-0622 and provide product's model name and seller's details mentioned on your invoice. The service center will allot you a convenient slot for the service Easy returns: This product is eligible for replacement within 10 days of delivery in case of any product defects, damage or features not matching the description provided\",\n",
       " \"Resolution: HD Ready (1366x768) | Refresh Rate: 60 hertz Connectivity: 2 HDMI ports to connect set top box, Blu Ray players, gaming console | 1 USB ports to connect hard drives and other USB devices Sound : 20 Watts Output | Dolby Digital Plus Smart TV Features : Voice Assistants | SmartThings App | Personal Computer | Home Cloud | Live Cast | Screen Share | Music System | Alexa Built-in: Voice control your TV and your day. Just ask Alexa to search for movies, play music, control smart home devices, get sports updates and more Display : LED Panel | Mega Contrast | PurColor | HD Picture Quality | Slim & Stylish Design Warranty Information: 1 year comprehensive and 1 year additional warranty on Panel by Samsung Installation: For requesting installation/wall mounting/demo of this product once delivered, please directly call Samsung support on [1800407267864/180057267864] and provide product's model name as well as seller's details mentioned on the invoice Easy returns: This product is eligible for replacement within 10 days of delivery in case of any product defects, damage or features not matching the description provided\",\n",
       " \"Resolution: Full HD (1920 x 1080) | Refresh Rate: 60 hertz Connectivity : 2 HDMI ports to connect set top box, Blu Ray players, gaming console | 1 USB port to connect hard drives and other USB devices Smart TV Features:: AI-IN | Built-in WiFi | Android 9 (Certified by Google) | Built-in Chromecast | Dual Core MALI 470 Graphics Processor | Prime video | Youtube | Netflix | Voice Search Sound: 20 Watts Output | 2 Channel speakers | Integrated Box Speakers | Dolby Audio Display: A+ LED Panel | HDR 10 | Micro Dimming | IPQ Engine Warranty Information: 18 months warranty provided by TCL from date of purchase Installation: Brand will contact for installation for this product once delivered. Contact TCL Support for assistance @ 1800-419-0622 and provide product's model name and seller's details mentioned on your invoice. The service center will allot you a convenient slot for the service Easy returns: This product is eligible for replacement within 10 days of delivery in case of any product defects, damage or features not matching the description provided\",\n",
       " \"Resolution: HD Ready (1366x768) | Refresh Rate: 60 Hertz | Viewing Angle: 178 degrees Connectivity: 3 HDMI ports to connect set top box, Blu Ray players, gaming console | 2 USB ports to connect hard drives and other USB devices | 1 Optical Output to connect high end soundbars, speakers | Bluetooth | Wifi | LAN (Ethernet) Sound : 20 Watts Output | Stereo Surround Sound | 5 Sound Modes Smart TV Features: Alexa Built-in | A-35 Quad Core Processor | Android 8.0 | Uniwall |2000000+ Hours of Content | Content Discovery Engine | Stream Live News | OTA Updates | 1GB RAM | 8GB ROM | E-Share for iOS and Android | 20000+ Free Movies from 16 different Languages with MOVIEBOX App Display: A+ Grade Panel | Quantum Luminit Technology with 16.7 million Colors | HRDP Technology | Digital Noise Reduction | Cinema Mode | Cricket Picture Mode Warranty Information: 1 year standard manufacturer warranty by Shinco From the date of Purchase Installation: For requesting installation/wall mounting/demo of this product once delivered, please directly call Shinco support on 8882569569 and provide product's model name as well as seller's details mentioned on the invoice\",\n",
       " \"Resolution: 4K Ultra HD (3860 x 2160) | Refresh Rate: 60 Hertz Connectivity : 3 HDMI ports to connect set top box, Blue Ray players | 1 USB ports to connect hard drives and other USB devices Sound: 24 Watts Output | Dolby Audio Power Speakers | Surround Virtualizer Smart TV Features : Built-In Wifi | Amazon Prime video | Hands free voice control |4K Android TV+HDR 10 |AI-Google Assistant | Certified Android P| Screen Cast+T-cast |2GB RAM - 16GB ROM |5000+ Apps YouTube, Netflix Display : A+ Grade Panel | UHD | HDR 10 | Full Screen | Slim Design Warranty: 18 Months comprehensive warranty provided by TCL from date of purchase Installation: Brand will contact for installation for this product once delivered. Contact TCL Support for assistance @ 1800-419-0622 and provide product's model name and seller's details mentioned on your invoice. The service center will allot you a convenient slot for the service Easy returns: This product is eligible for replacement within 10 days of delivery in case of any product defects, damage or features not matching the description provided\",\n",
       " \"Resolution: HD Ready (1366 x 768) | Refresh Rate: 60 hertz Connectivity: 3 HDMI ports to connect set top box, Blu Ray players, gaming console | 2 USB ports to connect hard drives and other USB devices Sound output: 24 Watts Output Smart TV Features: Android TV | Voice Search | Google Play | Chromecast | Amazon Prime Video Display : A+ Grade Panel | Superior Sleek | Slim and stylish design Warranty Information: 1 year standard manufacturer warranty by Kodak from the date of Purchase Installation: Brand will contact for installation for this product once delivered. Contact Kodak for assistance @ 1800-103-3036 and provide product's model name and seller's details mentioned on your invoice. The service center will allot you a convenient slot for the service Easy Returns: This product is eligible for replacement within 10 days of delivery in case of any product defects, damage or features not matching the description provided\",\n",
       " \"Resolution: HD Ready (1366x768) | Refresh Rate: 60 hertz | Viewing Angle: 178 degrees Connectivity: 2 HDMI ports to connect set top box, Blu Ray players, gaming console | 2 USB ports to connect hard drives and other USB devices Smart TV Features: Built-in WiFi | Android | Screen Mirroring | PC Connectivity | Wireless Headphone Control | EcoD Sound: 20 Watts Output | Power Audio | Music Equalizer Display: HRDD Techonology | Eco Vision | Cinema Mode | Cinema Zoom | Supports 16.7 million colours Installation: For requesting installation/wall mounting/demo of this product once delivered, please directly call VW support on 18001028471 and provide product's model name as well as seller's details mentioned on the invoice\",\n",
       " \"Resolution: HD Ready (1366 x 768p) | Refresh Rate: 60Hz Connectivity: 2 HDMI Ports to connect set top box, Blu Ray players, gaming console | 2 USB Ports to connect pen drives & hard disk drives | 1 VGA Port to connect to your laptop or computer as a monior | 1 Headphone (3.5mm) Port to connect headphones. Sound: 20 Watts Output (10 x 2) | Virtual Sorround Sound Display: A+ Grade IPS Panel | Premium Finish Design | Viewing Angle: 178 degrees Installation: For Installation/Wall Mounting/Demo Of This Product Once Delivered, Directly Contact e-Airtec At [1800-889-4181] And Provide Product's Model Name And Seller's Details Mentioned On Your Invoice. The Service Center Will Allot You A Convenient Slot For The Service\",\n",
       " 'Resolution : Full HD (1920x1080) | Refresh Rate: 60 hertz Connectivity: 3 HDMI ports to connect set top box, Blu Ray players, gaming console | 3 USB ports to connect hard drives and other USB devices Sound: 20 Watts Output | DTS-HD sound Smart TV Features :Built-In Wi-Fi | PatchWall | Netflix | Prime Video | Disney+Hotstar and more | Android TV 9.0 | Google Assistant | Data Saver Display : LED Panel | Vivid Picture engine Warranty Information: 1 year warranty on product and 1 year extra on Panel Installation/Wall mounting/demo will be arranged by Amazon Home Services or Xiaomi service partner. For more information, please call Mi support on 1800-103-6286 | Wall Mount is not included in the box and will be charged extra at the time of installation Easy returns: This product is eligible for replacement within 10 days of delivery in case of any product defects, damage or features not matching the description provided',\n",
       " \"Resolution: HD Ready (1366x768) | Refresh Rate: 60 Hertz | Viewing Angle: 178 degrees Connectivity: 2 HDMI ports to connect set top box, Blu Ray players, gaming console | 2 USB ports to connect hard drives and other USB devices Sound: 20 Watts Output | Power Audio Display: HRDD Technology | True Colour | Cinema Zoom | A+ Panel Warranty: 1 year standard manufacturer warranty by Kevin from the date of purchase Installation: Brand will contact for installation for this product once delivered. Contact Kevin for assistance @ 1800-102-0777 / 1800-102-8471 and provide product's model name and seller's details mentioned on your invoice. The service center will allot you a convenient slot for the service Easy returns: This product is eligible for replacement/refund within 10 days of delivery in case of any product defects, damage or features not matching the description provided\",\n",
       " \"Resolution: 4K Ultra HD (3840 x 2160) | Refresh Rate: 60 hertz Connectivity: 3 HDMI ports to connect set top box, Blu Ray players, gaming console | 2 USB port to connect hard drives and other USB devices Sound : 20 Watts Output| Audio Link| V-Audio |DTS TruSurround Smart TV Features : Android OS (Ver. 9.0) by Google | MT5660 Quad-Core 1.0GHz | Google Assistant Built-in | Netflix, Amazon Prime, Youtube and Many More| Chromecast Built-in Display: Dolby Vision | Vivid Digital PRO| Multi HDR| Adaptive Backlight Dimming Warranty Information: 1 Year Standard Manufacturer Warranty by Panasonic from the Date of Purchase Installation: For requesting installation/wall mounting/demo of this product once delivered, please directly call Panasonic support on 1800 108 1333 and provide product's model name as well as seller's details mentioned on the invoice Easy Returns: This product is eligible for replacement within 10 days of delivery in case of any product defects, damage or features not matching the description provided\",\n",
       " \"Resolution: Full HD (1920 x 1080) | Refresh Rate: 60 hertz Connectivity : 2 HDMI ports to connect set top box, Blu Ray players, gaming console | 1 USB port to connect hard drives and other USB devices Smart TV Features:: AI-IN | Built-in WiFi | Android 9 (Certified by Google) | Built-in Chromecast | Dual Core MALI 470 Graphics Processor | Prime video | Youtube | Netflix | Voice Search Sound: 20 Watts Output | 2 Channel speakers | Integrated Box Speakers | Dolby Audio Display: A+ LED Panel | HDR 10 | Micro Dimming | IPQ Engine Warranty Information: 18 months warranty provided by TCL from date of purchase Installation: Brand will contact for installation for this product once delivered. Contact TCL Support for assistance @ 1800-419-0622 and provide product's model name and seller's details mentioned on your invoice. The service center will allot you a convenient slot for the service Easy returns: This product is eligible for replacement within 10 days of delivery in case of any product defects, damage or features not matching the description provided\",\n",
       " \"Resolution: HD Ready (1366x768) | Refresh Rate: 60 hertz | Viewing Angle: 178 degrees Connectivity: 2 HDMI ports to connect set top box, Blu Ray players, gaming console | 2 USB ports to connect hard drives and other USB devices Smart TV Features: Built-in WiFi | Built-in Alexa |Android | Screen Mirroring | PC Connectivity | Wireless Headphone Control | EcoD Sound: 20 Watts Output | Power Audio | Music Equalizer Display: HRDD Techonology | Eco Vision | Cinema Mode | Cinema Zoom | Supports 16.7 million colours Warranty Information: 1-year warranty provided by the manufacturer from date of purchase Installation: Brand will contact for installation for this product once delivered. Contact Kevin for assistance @ 1800-102-0777 / 1800-102-8471 and provide product's model name and seller's details mentioned on your invoice. The service center will allot you a convenient slot for the service\",\n",
       " \"Resolution: HD Ready (1366 x 768) | Refresh Rate: 60 hertz Connectivity: 2 HDMI ports to connect set top box, Blu Ray players, gaming console | 1 USB ports to connect hard drives and other USB devices Sound output: 16 Watts Output | Integrated 2 speakers | Dolby Audio Smart TV Features: Built-in WiFi |Netflix | Google Play Store | YouTube | Google Play Games | Google cast | Media center | Smart Type: Google Certified Android LED HD TV | Remote: 1 Click Netflix Button | OS: Android O, Certified by Google Android TV | Storage: 8G Byte eMMC Memory | UI Style: Google Android TV UI & TCL TV+3.x UI Display: A+ Grade Panel | Micro Dimming | True Color | View Angle : 178 degree | 2K HDR10 | 16.7 Million(8bit) Warranty Information: 18 months warranty provided by TCL from date of purchase Installation: Brand will contact for installation for this product once delivered. Contact TCL Support for assistance @ 1800-419-0622 and provide product's model name and seller's details mentioned on your invoice. The service center will allot you a convenient slot for the service Easy returns: This product is eligible for replacement within 10 days of delivery in case of any product defects, damage or features not matching the description provided\",\n",
       " 'Resolution: Full HD (1920x1080) | Refresh Rate: 60 hertz Connectivity: 2 HDMI ports to connect set top box, Blue Ray players, gaming console | 2 USB ports to connect hard drives and other USB devices Sound : 24 Watts output | Dolby Audio | DTS Studio Sound Smart TV Features : Official Android Pie 9.0 | Google play store | Google Eco-system (Movie, TV, Music, Games) | Google Games | Chromecast Built In | Bluetooth 5.0 Display : A+ Grade LED Panel | High Brightness Panel | Adaptive contrast | MPEG Noise Reduction | PC and Game Mode Additional Features : Licensed Apps-YouTube, Netflix, Prime Video, Hotstar, Google Play Hotkeys on Remote Control | ARC and SPDIF port to connect external sound system Warranty Information: 1 year warranty provided by Vu from date of purchase',\n",
       " \"Resolution: HD Ready (1366x768) | Refresh Rate: 60 hertz Connectivity: 2 HDMI ports to connect set top box, Blu Ray players, gaming console | 1 USB ports to connect hard drives and other USB devices Sound : 20 Watts Output | Dolby Digital Plus Smart TV Features : Voice Assistants | SmartThings App | Personal Computer | Home Cloud | Live Cast | Screen Share | Music System | Alexa Built-in: Voice control your TV and your day. Just ask Alexa to search for movies, play music, control smart home devices, get sports updates and more Display : LED Panel | Mega Contrast | PurColor | HD Picture Quality | Slim & Stylish Design Warranty Information: 1 year comprehensive and 1 year additional warranty on Panel by Samsung Installation: For requesting installation/wall mounting/demo of this product once delivered, please directly call Samsung support on [1800407267864/180057267864] and provide product's model name as well as seller's details mentioned on the invoice Easy returns: This product is eligible for replacement within 10 days of delivery in case of any product defects, damage or features not matching the description provided\",\n",
       " \"Resolution: Full HD (1920x1080) | HDR Connectivity: 2 HDMI ports to connect set top box, Blu Ray players, gaming console | 2 USB ports to connect hard drives and other USB devices Sound : 20 Watts Output | Open Baffle Speaker | ClearAudio+ technology | TV MusicBox Smart TV Features: Smart TV | Screen Mirroring | Netflix | Amazon Prime Video | HDR Gaming Display: HDR | X-Reality Pro | Motionflow XR 100 Warranty Information : 1 year comprehensive warranty and 1 year additional warranty on panel provided by the manufacturer from date of purchase. Limited period offer valid from 1st Oct 2020 to 30th Nov 2020 Installation: Brand will contact for installation for this product once delivered. Contact Sony for assistance @ 18001037799 and provide product's model name as well as seller's details mentioned on the invoice Easy returns: This product is eligible for replacement within 10 days of delivery in case of any product defects, damage or features not matching the description provided\",\n",
       " \"Fire TV experience built-in brings together your favorite streaming content on the home screen. Choose from a vast catalog of movies and TV shows from Prime Video, Hotstar, Netflix, Zee5, Sony LIV and more Resolution : Full HD (1920x1080) | Refresh Rate: 60 hertz Connectivity: 3 HDMI ports to connect set top box, Blu-ray players, gaming console | 1 USB port to connect hard drives and other USB devices Sound: 16 Watts Output | Dolby Digital Plus | DTS TruSurround Smart TV features : Dual band Wi-Fi | Built-in Fire TV OS | Alexa Voice Control | Apps: YouTube, Prime Video, Netflix, Hotstar, Zee5, SonyLiv and more | Display Mirroring for compatible devices | Voice Remote with Alexa Warranty Information: 1 Year warranty provided by Onida from date of purchase Installation: For requesting installation/wall mounting/demo of this product once delivered, please directly call Onida support on 7490955555 and provide product's model name as well as seller's details mentioned on the invoice Easy returns: This product is eligible for replacement within 10 days of delivery in case of any product defects, damage or features not matching the description provided\",\n",
       " 'Resolution: Full HD (1920x1080) | Refresh Rate: 60 hertz | 178° wide viewing angle Connectivity: 2 HDMI ports to connect set top box, Blu-Ray players, gaming console | 2 USB ports to connect hard drives and other USB devices | IR Port to control connected devices like Soundbars, Receivers and Set top boxes Sound output: Inbuilt 20 Watts Powerful Speakers | Dolby Audio and DTS Tru Surround Smart TV Features: Fire TV OS | Built in Alexa and Alexa voice controls | DTH Set-Top Box Integration to switch between DTH TV Channels and OTT apps from home screen | Supported Apps: Prime Video | Netflix | Disney + Hotstar | YouTube | Apple TV | 5000+ apps from Fire OS Store | Display Mirroring | 1.5GHz Quad core processor | 1GB RAM/DDR | 8GB Flash Memory Display: A+ Grade LED panel | Amlogic 7th Generation Imaging Engine | Ultra bright screen | Advance picture processing | Anti-aliasing | Dynamic contrast | Dynamic backlight Warranty Information: 1 Year Comprehensive Warranty; additional 1 year Warranty on panel Installation/Wall mounting/demo will be arranged by Amazon Home Services. For warranty and device related issues, go to Your Orders on Amazon.in or Amazon shopping app > Locate your TV order > Select ‘Get Product Support’ and schedule a service. For any other information, please contact Amazon customer support',\n",
       " \"Resolution: Full HD (1920x1080) Refresh Rate: 60 hertz Connectivity: 3 HDMI ports to connect set top box, gaming consoles, streaming devices, 2 USB ports to connect hard drives and other USB devices, Headphone Out Sound: 20 Watts Output, Dolby Audio, Digital Sound Processing, Superior Audio Speakers, Two Way Audio Link Smart TV Features: Android 9.0 Bluetooth Remote with Voice Search Chromecast Built-in Netlix Amazon Prime Video 1.5 GB RAM + 8 GB Storage Quad Core CPU + Dual Core GPU Display: Super Bright Display 16.7 Million Colour Display Dot Noise Reduction Micro-Dimming Technology Warranty Information: 1 year brand warranty provided by Sanyo from date of purchase Installation: For requesting installation/wall mounting/demo of this product once delivered, please directly call Sanyo support on [1800-419-5088] and provide product's model name as well as seller's details mentioned on the invoice Easy returns: This product is eligible for replacement within 10 days of delivery in case of any product defects, damage or features not matching the description provided\",\n",
       " 'Resolution: Full HD (1920x1080) | Refresh Rate: 60 hertz Connectivity: 2 HDMI ports to connect set top box, Blue Ray players, gaming console | 2 USB ports to connect hard drives and other USB devices Sound : 24 Watts output | Dolby Audio | DTS Studio Sound Smart TV Features : Official Android Pie 9.0 | Google play store | Google Eco-system (Movie, TV, Music, Games) | Google Games | Chromecast Built In | Bluetooth 5.0 Display : A+ Grade LED Panel | High Brightness Panel | Adaptive contrast | MPEG Noise Reduction | PC and Game Mode Additional Features : Licensed Apps-YouTube, Netflix, Prime Video, Hotstar, Google Play Hotkeys on Remote Control | ARC and SPDIF port to connect external sound system Warranty Information: 1 year warranty provided by Vu from date of purchase',\n",
       " \"Resolution: Full HD (1920x1080) Refresh Rate: 60 hertz Connectivity: 3 HDMI ports to connect set top box, gaming consoles, streaming devices, 2 USB ports to connect hard drives and other USB devices, Headphone Out Sound: 20 Watts Output, Dolby Audio, Digital Sound Processing, Superior Audio Speakers, Two Way Audio Link Smart TV Features: Android 9.0 Bluetooth Remote with Voice Search Chromecast Built-in Netlix Amazon Prime Video 1.5 GB RAM + 8 GB Storage Quad Core CPU + Dual Core GPU Display: Super Bright Display 16.7 Million Colour Display Dot Noise Reduction Micro-Dimming Technology Warranty Information: 1 year brand warranty provided by Sanyo from date of purchase Installation: For requesting installation/wall mounting/demo of this product once delivered, please directly call Sanyo support on [1800-419-5088] and provide product's model name as well as seller's details mentioned on the invoice Easy returns: This product is eligible for replacement within 10 days of delivery in case of any product defects, damage or features not matching the description provided\",\n",
       " \"Resolution: 4K Ultra HD (3860 x 2160) | Refresh Rate: 60 Hertz Connectivity : 3 HDMI ports to connect set top box, Blue Ray players | 1 USB ports to connect hard drives and other USB devices Sound: 24 Watts Output | Dolby Audio Power Speakers | Surround Virtualizer Smart TV Features : Built-In Wifi | Amazon Prime video | Hands free voice control |4K Android TV+HDR 10 |AI-Google Assistant | Certified Android P| Screen Cast+T-cast |2GB RAM - 16GB ROM |5000+ Apps YouTube, Netflix Display : A+ Grade Panel | UHD | HDR 10 | Full Screen | Slim Design Warranty: 18 Months comprehensive warranty provided by TCL from date of purchase Installation: Brand will contact for installation for this product once delivered. Contact TCL Support for assistance @ 1800-419-0622 and provide product's model name and seller's details mentioned on your invoice. The service center will allot you a convenient slot for the service Easy returns: This product is eligible for replacement within 10 days of delivery in case of any product defects, damage or features not matching the description provided\",\n",
       " \"Resolution: HD Ready (1366x768) | Refresh Rate: 60 hertz Connectivity: 2 HDMI ports to connect set top box, Blu Ray players, gaming console | 1 USB ports to connect hard drives and other USB devices Sound : 20 Watts Output | Dolby Digital Plus Smart TV Features : Voice Assistants | SmartThings App | Personal Computer | Home Cloud | Live Cast | Screen Share | Music System | Alexa Built-in: Voice control your TV and your day. Just ask Alexa to search for movies, play music, control smart home devices, get sports updates and more Display : LED Panel | Mega Contrast | PurColor | HD Picture Quality | Slim & Stylish Design Warranty Information: 1 year comprehensive and 1 year additional warranty on Panel by Samsung Installation: For requesting installation/wall mounting/demo of this product once delivered, please directly call Samsung support on [1800407267864/180057267864] and provide product's model name as well as seller's details mentioned on the invoice Easy returns: This product is eligible for replacement within 10 days of delivery in case of any product defects, damage or features not matching the description provided\",\n",
       " \"Resolution: Full HD (1920 x 1080) | Refresh Rate: 60 hertz Connectivity : 2 HDMI ports to connect set top box, Blu Ray players, gaming console | 1 USB port to connect hard drives and other USB devices Smart TV Features:: AI-IN | Built-in WiFi | Android 9 (Certified by Google) | Built-in Chromecast | Dual Core MALI 470 Graphics Processor | Prime video | Youtube | Netflix | Voice Search Sound: 20 Watts Output | 2 Channel speakers | Integrated Box Speakers | Dolby Audio Display: A+ LED Panel | HDR 10 | Micro Dimming | IPQ Engine Warranty Information: 18 months warranty provided by TCL from date of purchase Installation: Brand will contact for installation for this product once delivered. Contact TCL Support for assistance @ 1800-419-0622 and provide product's model name and seller's details mentioned on your invoice. The service center will allot you a convenient slot for the service Easy returns: This product is eligible for replacement within 10 days of delivery in case of any product defects, damage or features not matching the description provided\",\n",
       " \"Resolution: HD Ready (1366x768) | Refresh Rate: 60 Hertz | Viewing Angle: 178 degrees Connectivity: 3 HDMI ports to connect set top box, Blu Ray players, gaming console | 2 USB ports to connect hard drives and other USB devices | 1 Optical Output to connect high end soundbars, speakers | Bluetooth | Wifi | LAN (Ethernet) Sound : 20 Watts Output | Stereo Surround Sound | 5 Sound Modes Smart TV Features: Alexa Built-in | A-35 Quad Core Processor | Android 8.0 | Uniwall |2000000+ Hours of Content | Content Discovery Engine | Stream Live News | OTA Updates | 1GB RAM | 8GB ROM | E-Share for iOS and Android | 20000+ Free Movies from 16 different Languages with MOVIEBOX App Display: A+ Grade Panel | Quantum Luminit Technology with 16.7 million Colors | HRDP Technology | Digital Noise Reduction | Cinema Mode | Cricket Picture Mode Warranty Information: 1 year standard manufacturer warranty by Shinco From the date of Purchase Installation: For requesting installation/wall mounting/demo of this product once delivered, please directly call Shinco support on 8882569569 and provide product's model name as well as seller's details mentioned on the invoice\",\n",
       " \"Resolution: 4K Ultra HD (3860 x 2160) | Refresh Rate: 60 Hertz Connectivity : 3 HDMI ports to connect set top box, Blue Ray players | 1 USB ports to connect hard drives and other USB devices Sound: 24 Watts Output | Dolby Audio Power Speakers | Surround Virtualizer Smart TV Features : Built-In Wifi | Amazon Prime video | Hands free voice control |4K Android TV+HDR 10 |AI-Google Assistant | Certified Android P| Screen Cast+T-cast |2GB RAM - 16GB ROM |5000+ Apps YouTube, Netflix Display : A+ Grade Panel | UHD | HDR 10 | Full Screen | Slim Design Warranty: 18 Months comprehensive warranty provided by TCL from date of purchase Installation: Brand will contact for installation for this product once delivered. Contact TCL Support for assistance @ 1800-419-0622 and provide product's model name and seller's details mentioned on your invoice. The service center will allot you a convenient slot for the service Easy returns: This product is eligible for replacement within 10 days of delivery in case of any product defects, damage or features not matching the description provided\",\n",
       " \"Resolution: HD Ready (1366 x 768) | Refresh Rate: 60 hertz Connectivity: 3 HDMI ports to connect set top box, Blu Ray players, gaming console | 2 USB ports to connect hard drives and other USB devices Sound output: 24 Watts Output Smart TV Features: Android TV | Voice Search | Google Play | Chromecast | Amazon Prime Video Display : A+ Grade Panel | Superior Sleek | Slim and stylish design Warranty Information: 1 year standard manufacturer warranty by Kodak from the date of Purchase Installation: Brand will contact for installation for this product once delivered. Contact Kodak for assistance @ 1800-103-3036 and provide product's model name and seller's details mentioned on your invoice. The service center will allot you a convenient slot for the service Easy Returns: This product is eligible for replacement within 10 days of delivery in case of any product defects, damage or features not matching the description provided\",\n",
       " \"Resolution: HD Ready (1366x768) | Refresh Rate: 60 hertz | Viewing Angle: 178 degrees Connectivity: 2 HDMI ports to connect set top box, Blu Ray players, gaming console | 2 USB ports to connect hard drives and other USB devices Smart TV Features: Built-in WiFi | Android | Screen Mirroring | PC Connectivity | Wireless Headphone Control | EcoD Sound: 20 Watts Output | Power Audio | Music Equalizer Display: HRDD Techonology | Eco Vision | Cinema Mode | Cinema Zoom | Supports 16.7 million colours Installation: For requesting installation/wall mounting/demo of this product once delivered, please directly call VW support on 18001028471 and provide product's model name as well as seller's details mentioned on the invoice\",\n",
       " \"Resolution: HD Ready (1366 x 768p) | Refresh Rate: 60Hz Connectivity: 2 HDMI Ports to connect set top box, Blu Ray players, gaming console | 2 USB Ports to connect pen drives & hard disk drives | 1 VGA Port to connect to your laptop or computer as a monior | 1 Headphone (3.5mm) Port to connect headphones. Sound: 20 Watts Output (10 x 2) | Virtual Sorround Sound Display: A+ Grade IPS Panel | Premium Finish Design | Viewing Angle: 178 degrees Installation: For Installation/Wall Mounting/Demo Of This Product Once Delivered, Directly Contact e-Airtec At [1800-889-4181] And Provide Product's Model Name And Seller's Details Mentioned On Your Invoice. The Service Center Will Allot You A Convenient Slot For The Service\",\n",
       " 'Resolution : Full HD (1920x1080) | Refresh Rate: 60 hertz Connectivity: 3 HDMI ports to connect set top box, Blu Ray players, gaming console | 3 USB ports to connect hard drives and other USB devices Sound: 20 Watts Output | DTS-HD sound Smart TV Features :Built-In Wi-Fi | PatchWall | Netflix | Prime Video | Disney+Hotstar and more | Android TV 9.0 | Google Assistant | Data Saver Display : LED Panel | Vivid Picture engine Warranty Information: 1 year warranty on product and 1 year extra on Panel Installation/Wall mounting/demo will be arranged by Amazon Home Services or Xiaomi service partner. For more information, please call Mi support on 1800-103-6286 | Wall Mount is not included in the box and will be charged extra at the time of installation Easy returns: This product is eligible for replacement within 10 days of delivery in case of any product defects, damage or features not matching the description provided',\n",
       " \"Resolution: HD Ready (1366x768) | Refresh Rate: 60 Hertz | Viewing Angle: 178 degrees Connectivity: 2 HDMI ports to connect set top box, Blu Ray players, gaming console | 2 USB ports to connect hard drives and other USB devices Sound: 20 Watts Output | Power Audio Display: HRDD Technology | True Colour | Cinema Zoom | A+ Panel Warranty: 1 year standard manufacturer warranty by Kevin from the date of purchase Installation: Brand will contact for installation for this product once delivered. Contact Kevin for assistance @ 1800-102-0777 / 1800-102-8471 and provide product's model name and seller's details mentioned on your invoice. The service center will allot you a convenient slot for the service Easy returns: This product is eligible for replacement/refund within 10 days of delivery in case of any product defects, damage or features not matching the description provided\",\n",
       " \"Resolution: 4K Ultra HD (3840 x 2160) | Refresh Rate: 60 hertz Connectivity: 3 HDMI ports to connect set top box, Blu Ray players, gaming console | 2 USB port to connect hard drives and other USB devices Sound : 20 Watts Output| Audio Link| V-Audio |DTS TruSurround Smart TV Features : Android OS (Ver. 9.0) by Google | MT5660 Quad-Core 1.0GHz | Google Assistant Built-in | Netflix, Amazon Prime, Youtube and Many More| Chromecast Built-in Display: Dolby Vision | Vivid Digital PRO| Multi HDR| Adaptive Backlight Dimming Warranty Information: 1 Year Standard Manufacturer Warranty by Panasonic from the Date of Purchase Installation: For requesting installation/wall mounting/demo of this product once delivered, please directly call Panasonic support on 1800 108 1333 and provide product's model name as well as seller's details mentioned on the invoice Easy Returns: This product is eligible for replacement within 10 days of delivery in case of any product defects, damage or features not matching the description provided\",\n",
       " \"Resolution: Full HD (1920 x 1080) | Refresh Rate: 60 hertz Connectivity : 2 HDMI ports to connect set top box, Blu Ray players, gaming console | 1 USB port to connect hard drives and other USB devices Smart TV Features:: AI-IN | Built-in WiFi | Android 9 (Certified by Google) | Built-in Chromecast | Dual Core MALI 470 Graphics Processor | Prime video | Youtube | Netflix | Voice Search Sound: 20 Watts Output | 2 Channel speakers | Integrated Box Speakers | Dolby Audio Display: A+ LED Panel | HDR 10 | Micro Dimming | IPQ Engine Warranty Information: 18 months warranty provided by TCL from date of purchase Installation: Brand will contact for installation for this product once delivered. Contact TCL Support for assistance @ 1800-419-0622 and provide product's model name and seller's details mentioned on your invoice. The service center will allot you a convenient slot for the service Easy returns: This product is eligible for replacement within 10 days of delivery in case of any product defects, damage or features not matching the description provided\",\n",
       " \"Resolution: HD Ready (1366x768) | Refresh Rate: 60 hertz | Viewing Angle: 178 degrees Connectivity: 2 HDMI ports to connect set top box, Blu Ray players, gaming console | 2 USB ports to connect hard drives and other USB devices Smart TV Features: Built-in WiFi | Built-in Alexa |Android | Screen Mirroring | PC Connectivity | Wireless Headphone Control | EcoD Sound: 20 Watts Output | Power Audio | Music Equalizer Display: HRDD Techonology | Eco Vision | Cinema Mode | Cinema Zoom | Supports 16.7 million colours Warranty Information: 1-year warranty provided by the manufacturer from date of purchase Installation: Brand will contact for installation for this product once delivered. Contact Kevin for assistance @ 1800-102-0777 / 1800-102-8471 and provide product's model name and seller's details mentioned on your invoice. The service center will allot you a convenient slot for the service\",\n",
       " \"Resolution: HD Ready (1366 x 768) | Refresh Rate: 60 hertz Connectivity: 2 HDMI ports to connect set top box, Blu Ray players, gaming console | 1 USB ports to connect hard drives and other USB devices Sound output: 16 Watts Output | Integrated 2 speakers | Dolby Audio Smart TV Features: Built-in WiFi |Netflix | Google Play Store | YouTube | Google Play Games | Google cast | Media center | Smart Type: Google Certified Android LED HD TV | Remote: 1 Click Netflix Button | OS: Android O, Certified by Google Android TV | Storage: 8G Byte eMMC Memory | UI Style: Google Android TV UI & TCL TV+3.x UI Display: A+ Grade Panel | Micro Dimming | True Color | View Angle : 178 degree | 2K HDR10 | 16.7 Million(8bit) Warranty Information: 18 months warranty provided by TCL from date of purchase Installation: Brand will contact for installation for this product once delivered. Contact TCL Support for assistance @ 1800-419-0622 and provide product's model name and seller's details mentioned on your invoice. The service center will allot you a convenient slot for the service Easy returns: This product is eligible for replacement within 10 days of delivery in case of any product defects, damage or features not matching the description provided\",\n",
       " 'Resolution: Full HD (1920x1080) | Refresh Rate: 60 hertz Connectivity: 2 HDMI ports to connect set top box, Blue Ray players, gaming console | 2 USB ports to connect hard drives and other USB devices Sound : 24 Watts output | Dolby Audio | DTS Studio Sound Smart TV Features : Official Android Pie 9.0 | Google play store | Google Eco-system (Movie, TV, Music, Games) | Google Games | Chromecast Built In | Bluetooth 5.0 Display : A+ Grade LED Panel | High Brightness Panel | Adaptive contrast | MPEG Noise Reduction | PC and Game Mode Additional Features : Licensed Apps-YouTube, Netflix, Prime Video, Hotstar, Google Play Hotkeys on Remote Control | ARC and SPDIF port to connect external sound system Warranty Information: 1 year warranty provided by Vu from date of purchase',\n",
       " \"Resolution: HD Ready (1366x768) | Refresh Rate: 60 hertz Connectivity: 2 HDMI ports to connect set top box, Blu Ray players, gaming console | 1 USB ports to connect hard drives and other USB devices Sound : 20 Watts Output | Dolby Digital Plus Smart TV Features : Voice Assistants | SmartThings App | Personal Computer | Home Cloud | Live Cast | Screen Share | Music System | Alexa Built-in: Voice control your TV and your day. Just ask Alexa to search for movies, play music, control smart home devices, get sports updates and more Display : LED Panel | Mega Contrast | PurColor | HD Picture Quality | Slim & Stylish Design Warranty Information: 1 year comprehensive and 1 year additional warranty on Panel by Samsung Installation: For requesting installation/wall mounting/demo of this product once delivered, please directly call Samsung support on [1800407267864/180057267864] and provide product's model name as well as seller's details mentioned on the invoice Easy returns: This product is eligible for replacement within 10 days of delivery in case of any product defects, damage or features not matching the description provided\",\n",
       " \"Resolution: Full HD (1920x1080) | HDR Connectivity: 2 HDMI ports to connect set top box, Blu Ray players, gaming console | 2 USB ports to connect hard drives and other USB devices Sound : 20 Watts Output | Open Baffle Speaker | ClearAudio+ technology | TV MusicBox Smart TV Features: Smart TV | Screen Mirroring | Netflix | Amazon Prime Video | HDR Gaming Display: HDR | X-Reality Pro | Motionflow XR 100 Warranty Information : 1 year comprehensive warranty and 1 year additional warranty on panel provided by the manufacturer from date of purchase. Limited period offer valid from 1st Oct 2020 to 30th Nov 2020 Installation: Brand will contact for installation for this product once delivered. Contact Sony for assistance @ 18001037799 and provide product's model name as well as seller's details mentioned on the invoice Easy returns: This product is eligible for replacement within 10 days of delivery in case of any product defects, damage or features not matching the description provided\",\n",
       " \"Fire TV experience built-in brings together your favorite streaming content on the home screen. Choose from a vast catalog of movies and TV shows from Prime Video, Hotstar, Netflix, Zee5, Sony LIV and more Resolution : Full HD (1920x1080) | Refresh Rate: 60 hertz Connectivity: 3 HDMI ports to connect set top box, Blu-ray players, gaming console | 1 USB port to connect hard drives and other USB devices Sound: 16 Watts Output | Dolby Digital Plus | DTS TruSurround Smart TV features : Dual band Wi-Fi | Built-in Fire TV OS | Alexa Voice Control | Apps: YouTube, Prime Video, Netflix, Hotstar, Zee5, SonyLiv and more | Display Mirroring for compatible devices | Voice Remote with Alexa Warranty Information: 1 Year warranty provided by Onida from date of purchase Installation: For requesting installation/wall mounting/demo of this product once delivered, please directly call Onida support on 7490955555 and provide product's model name as well as seller's details mentioned on the invoice Easy returns: This product is eligible for replacement within 10 days of delivery in case of any product defects, damage or features not matching the description provided\",\n",
       " 'Resolution: Full HD (1920x1080) | Refresh Rate: 60 hertz | 178° wide viewing angle Connectivity: 2 HDMI ports to connect set top box, Blu-Ray players, gaming console | 2 USB ports to connect hard drives and other USB devices | IR Port to control connected devices like Soundbars, Receivers and Set top boxes Sound output: Inbuilt 20 Watts Powerful Speakers | Dolby Audio and DTS Tru Surround Smart TV Features: Fire TV OS | Built in Alexa and Alexa voice controls | DTH Set-Top Box Integration to switch between DTH TV Channels and OTT apps from home screen | Supported Apps: Prime Video | Netflix | Disney + Hotstar | YouTube | Apple TV | 5000+ apps from Fire OS Store | Display Mirroring | 1.5GHz Quad core processor | 1GB RAM/DDR | 8GB Flash Memory Display: A+ Grade LED panel | Amlogic 7th Generation Imaging Engine | Ultra bright screen | Advance picture processing | Anti-aliasing | Dynamic contrast | Dynamic backlight Warranty Information: 1 Year Comprehensive Warranty; additional 1 year Warranty on panel Installation/Wall mounting/demo will be arranged by Amazon Home Services. For warranty and device related issues, go to Your Orders on Amazon.in or Amazon shopping app > Locate your TV order > Select ‘Get Product Support’ and schedule a service. For any other information, please contact Amazon customer support',\n",
       " \"Resolution: Full HD (1920x1080) Refresh Rate: 60 hertz Connectivity: 3 HDMI ports to connect set top box, gaming consoles, streaming devices, 2 USB ports to connect hard drives and other USB devices, Headphone Out Sound: 20 Watts Output, Dolby Audio, Digital Sound Processing, Superior Audio Speakers, Two Way Audio Link Smart TV Features: Android 9.0 Bluetooth Remote with Voice Search Chromecast Built-in Netlix Amazon Prime Video 1.5 GB RAM + 8 GB Storage Quad Core CPU + Dual Core GPU Display: Super Bright Display 16.7 Million Colour Display Dot Noise Reduction Micro-Dimming Technology Warranty Information: 1 year brand warranty provided by Sanyo from date of purchase Installation: For requesting installation/wall mounting/demo of this product once delivered, please directly call Sanyo support on [1800-419-5088] and provide product's model name as well as seller's details mentioned on the invoice Easy returns: This product is eligible for replacement within 10 days of delivery in case of any product defects, damage or features not matching the description provided\",\n",
       " 'Resolution: Full HD (1920x1080) | Refresh Rate: 60 hertz Connectivity: 2 HDMI ports to connect set top box, Blue Ray players, gaming console | 2 USB ports to connect hard drives and other USB devices Sound : 24 Watts output | Dolby Audio | DTS Studio Sound Smart TV Features : Official Android Pie 9.0 | Google play store | Google Eco-system (Movie, TV, Music, Games) | Google Games | Chromecast Built In | Bluetooth 5.0 Display : A+ Grade LED Panel | High Brightness Panel | Adaptive contrast | MPEG Noise Reduction | PC and Game Mode Additional Features : Licensed Apps-YouTube, Netflix, Prime Video, Hotstar, Google Play Hotkeys on Remote Control | ARC and SPDIF port to connect external sound system Warranty Information: 1 year warranty provided by Vu from date of purchase',\n",
       " \"Resolution: Full HD (1920x1080) Refresh Rate: 60 hertz Connectivity: 3 HDMI ports to connect set top box, gaming consoles, streaming devices, 2 USB ports to connect hard drives and other USB devices, Headphone Out Sound: 20 Watts Output, Dolby Audio, Digital Sound Processing, Superior Audio Speakers, Two Way Audio Link Smart TV Features: Android 9.0 Bluetooth Remote with Voice Search Chromecast Built-in Netlix Amazon Prime Video 1.5 GB RAM + 8 GB Storage Quad Core CPU + Dual Core GPU Display: Super Bright Display 16.7 Million Colour Display Dot Noise Reduction Micro-Dimming Technology Warranty Information: 1 year brand warranty provided by Sanyo from date of purchase Installation: For requesting installation/wall mounting/demo of this product once delivered, please directly call Sanyo support on [1800-419-5088] and provide product's model name as well as seller's details mentioned on the invoice Easy returns: This product is eligible for replacement within 10 days of delivery in case of any product defects, damage or features not matching the description provided\",\n",
       " \"Resolution: 4K Ultra HD (3860 x 2160) | Refresh Rate: 60 Hertz Connectivity : 3 HDMI ports to connect set top box, Blue Ray players | 1 USB ports to connect hard drives and other USB devices Sound: 24 Watts Output | Dolby Audio Power Speakers | Surround Virtualizer Smart TV Features : Built-In Wifi | Amazon Prime video | Hands free voice control |4K Android TV+HDR 10 |AI-Google Assistant | Certified Android P| Screen Cast+T-cast |2GB RAM - 16GB ROM |5000+ Apps YouTube, Netflix Display : A+ Grade Panel | UHD | HDR 10 | Full Screen | Slim Design Warranty: 18 Months comprehensive warranty provided by TCL from date of purchase Installation: Brand will contact for installation for this product once delivered. Contact TCL Support for assistance @ 1800-419-0622 and provide product's model name and seller's details mentioned on your invoice. The service center will allot you a convenient slot for the service Easy returns: This product is eligible for replacement within 10 days of delivery in case of any product defects, damage or features not matching the description provided\",\n",
       " \"Resolution: HD Ready (1366x768) | Refresh Rate: 60 hertz Connectivity: 2 HDMI ports to connect set top box, Blu Ray players, gaming console | 1 USB ports to connect hard drives and other USB devices Sound : 20 Watts Output | Dolby Digital Plus Smart TV Features : Voice Assistants | SmartThings App | Personal Computer | Home Cloud | Live Cast | Screen Share | Music System | Alexa Built-in: Voice control your TV and your day. Just ask Alexa to search for movies, play music, control smart home devices, get sports updates and more Display : LED Panel | Mega Contrast | PurColor | HD Picture Quality | Slim & Stylish Design Warranty Information: 1 year comprehensive and 1 year additional warranty on Panel by Samsung Installation: For requesting installation/wall mounting/demo of this product once delivered, please directly call Samsung support on [1800407267864/180057267864] and provide product's model name as well as seller's details mentioned on the invoice Easy returns: This product is eligible for replacement within 10 days of delivery in case of any product defects, damage or features not matching the description provided\",\n",
       " \"Resolution: Full HD (1920 x 1080) | Refresh Rate: 60 hertz Connectivity : 2 HDMI ports to connect set top box, Blu Ray players, gaming console | 1 USB port to connect hard drives and other USB devices Smart TV Features:: AI-IN | Built-in WiFi | Android 9 (Certified by Google) | Built-in Chromecast | Dual Core MALI 470 Graphics Processor | Prime video | Youtube | Netflix | Voice Search Sound: 20 Watts Output | 2 Channel speakers | Integrated Box Speakers | Dolby Audio Display: A+ LED Panel | HDR 10 | Micro Dimming | IPQ Engine Warranty Information: 18 months warranty provided by TCL from date of purchase Installation: Brand will contact for installation for this product once delivered. Contact TCL Support for assistance @ 1800-419-0622 and provide product's model name and seller's details mentioned on your invoice. The service center will allot you a convenient slot for the service Easy returns: This product is eligible for replacement within 10 days of delivery in case of any product defects, damage or features not matching the description provided\",\n",
       " \"Resolution: HD Ready (1366x768) | Refresh Rate: 60 Hertz | Viewing Angle: 178 degrees Connectivity: 3 HDMI ports to connect set top box, Blu Ray players, gaming console | 2 USB ports to connect hard drives and other USB devices | 1 Optical Output to connect high end soundbars, speakers | Bluetooth | Wifi | LAN (Ethernet) Sound : 20 Watts Output | Stereo Surround Sound | 5 Sound Modes Smart TV Features: Alexa Built-in | A-35 Quad Core Processor | Android 8.0 | Uniwall |2000000+ Hours of Content | Content Discovery Engine | Stream Live News | OTA Updates | 1GB RAM | 8GB ROM | E-Share for iOS and Android | 20000+ Free Movies from 16 different Languages with MOVIEBOX App Display: A+ Grade Panel | Quantum Luminit Technology with 16.7 million Colors | HRDP Technology | Digital Noise Reduction | Cinema Mode | Cricket Picture Mode Warranty Information: 1 year standard manufacturer warranty by Shinco From the date of Purchase Installation: For requesting installation/wall mounting/demo of this product once delivered, please directly call Shinco support on 8882569569 and provide product's model name as well as seller's details mentioned on the invoice\",\n",
       " \"Resolution: 4K Ultra HD (3860 x 2160) | Refresh Rate: 60 Hertz Connectivity : 3 HDMI ports to connect set top box, Blue Ray players | 1 USB ports to connect hard drives and other USB devices Sound: 24 Watts Output | Dolby Audio Power Speakers | Surround Virtualizer Smart TV Features : Built-In Wifi | Amazon Prime video | Hands free voice control |4K Android TV+HDR 10 |AI-Google Assistant | Certified Android P| Screen Cast+T-cast |2GB RAM - 16GB ROM |5000+ Apps YouTube, Netflix Display : A+ Grade Panel | UHD | HDR 10 | Full Screen | Slim Design Warranty: 18 Months comprehensive warranty provided by TCL from date of purchase Installation: Brand will contact for installation for this product once delivered. Contact TCL Support for assistance @ 1800-419-0622 and provide product's model name and seller's details mentioned on your invoice. The service center will allot you a convenient slot for the service Easy returns: This product is eligible for replacement within 10 days of delivery in case of any product defects, damage or features not matching the description provided\",\n",
       " \"Resolution: HD Ready (1366 x 768) | Refresh Rate: 60 hertz Connectivity: 3 HDMI ports to connect set top box, Blu Ray players, gaming console | 2 USB ports to connect hard drives and other USB devices Sound output: 24 Watts Output Smart TV Features: Android TV | Voice Search | Google Play | Chromecast | Amazon Prime Video Display : A+ Grade Panel | Superior Sleek | Slim and stylish design Warranty Information: 1 year standard manufacturer warranty by Kodak from the date of Purchase Installation: Brand will contact for installation for this product once delivered. Contact Kodak for assistance @ 1800-103-3036 and provide product's model name and seller's details mentioned on your invoice. The service center will allot you a convenient slot for the service Easy Returns: This product is eligible for replacement within 10 days of delivery in case of any product defects, damage or features not matching the description provided\",\n",
       " \"Resolution: HD Ready (1366x768) | Refresh Rate: 60 hertz | Viewing Angle: 178 degrees Connectivity: 2 HDMI ports to connect set top box, Blu Ray players, gaming console | 2 USB ports to connect hard drives and other USB devices Smart TV Features: Built-in WiFi | Android | Screen Mirroring | PC Connectivity | Wireless Headphone Control | EcoD Sound: 20 Watts Output | Power Audio | Music Equalizer Display: HRDD Techonology | Eco Vision | Cinema Mode | Cinema Zoom | Supports 16.7 million colours Installation: For requesting installation/wall mounting/demo of this product once delivered, please directly call VW support on 18001028471 and provide product's model name as well as seller's details mentioned on the invoice\",\n",
       " \"Resolution: HD Ready (1366 x 768p) | Refresh Rate: 60Hz Connectivity: 2 HDMI Ports to connect set top box, Blu Ray players, gaming console | 2 USB Ports to connect pen drives & hard disk drives | 1 VGA Port to connect to your laptop or computer as a monior | 1 Headphone (3.5mm) Port to connect headphones. Sound: 20 Watts Output (10 x 2) | Virtual Sorround Sound Display: A+ Grade IPS Panel | Premium Finish Design | Viewing Angle: 178 degrees Installation: For Installation/Wall Mounting/Demo Of This Product Once Delivered, Directly Contact e-Airtec At [1800-889-4181] And Provide Product's Model Name And Seller's Details Mentioned On Your Invoice. The Service Center Will Allot You A Convenient Slot For The Service\",\n",
       " 'Resolution : Full HD (1920x1080) | Refresh Rate: 60 hertz Connectivity: 3 HDMI ports to connect set top box, Blu Ray players, gaming console | 3 USB ports to connect hard drives and other USB devices Sound: 20 Watts Output | DTS-HD sound Smart TV Features :Built-In Wi-Fi | PatchWall | Netflix | Prime Video | Disney+Hotstar and more | Android TV 9.0 | Google Assistant | Data Saver Display : LED Panel | Vivid Picture engine Warranty Information: 1 year warranty on product and 1 year extra on Panel Installation/Wall mounting/demo will be arranged by Amazon Home Services or Xiaomi service partner. For more information, please call Mi support on 1800-103-6286 | Wall Mount is not included in the box and will be charged extra at the time of installation Easy returns: This product is eligible for replacement within 10 days of delivery in case of any product defects, damage or features not matching the description provided',\n",
       " \"Resolution: HD Ready (1366x768) | Refresh Rate: 60 Hertz | Viewing Angle: 178 degrees Connectivity: 2 HDMI ports to connect set top box, Blu Ray players, gaming console | 2 USB ports to connect hard drives and other USB devices Sound: 20 Watts Output | Power Audio Display: HRDD Technology | True Colour | Cinema Zoom | A+ Panel Warranty: 1 year standard manufacturer warranty by Kevin from the date of purchase Installation: Brand will contact for installation for this product once delivered. Contact Kevin for assistance @ 1800-102-0777 / 1800-102-8471 and provide product's model name and seller's details mentioned on your invoice. The service center will allot you a convenient slot for the service Easy returns: This product is eligible for replacement/refund within 10 days of delivery in case of any product defects, damage or features not matching the description provided\",\n",
       " \"Resolution: 4K Ultra HD (3840 x 2160) | Refresh Rate: 60 hertz Connectivity: 3 HDMI ports to connect set top box, Blu Ray players, gaming console | 2 USB port to connect hard drives and other USB devices Sound : 20 Watts Output| Audio Link| V-Audio |DTS TruSurround Smart TV Features : Android OS (Ver. 9.0) by Google | MT5660 Quad-Core 1.0GHz | Google Assistant Built-in | Netflix, Amazon Prime, Youtube and Many More| Chromecast Built-in Display: Dolby Vision | Vivid Digital PRO| Multi HDR| Adaptive Backlight Dimming Warranty Information: 1 Year Standard Manufacturer Warranty by Panasonic from the Date of Purchase Installation: For requesting installation/wall mounting/demo of this product once delivered, please directly call Panasonic support on 1800 108 1333 and provide product's model name as well as seller's details mentioned on the invoice Easy Returns: This product is eligible for replacement within 10 days of delivery in case of any product defects, damage or features not matching the description provided\",\n",
       " \"Resolution: Full HD (1920 x 1080) | Refresh Rate: 60 hertz Connectivity : 2 HDMI ports to connect set top box, Blu Ray players, gaming console | 1 USB port to connect hard drives and other USB devices Smart TV Features:: AI-IN | Built-in WiFi | Android 9 (Certified by Google) | Built-in Chromecast | Dual Core MALI 470 Graphics Processor | Prime video | Youtube | Netflix | Voice Search Sound: 20 Watts Output | 2 Channel speakers | Integrated Box Speakers | Dolby Audio Display: A+ LED Panel | HDR 10 | Micro Dimming | IPQ Engine Warranty Information: 18 months warranty provided by TCL from date of purchase Installation: Brand will contact for installation for this product once delivered. Contact TCL Support for assistance @ 1800-419-0622 and provide product's model name and seller's details mentioned on your invoice. The service center will allot you a convenient slot for the service Easy returns: This product is eligible for replacement within 10 days of delivery in case of any product defects, damage or features not matching the description provided\",\n",
       " \"Resolution: HD Ready (1366x768) | Refresh Rate: 60 hertz | Viewing Angle: 178 degrees Connectivity: 2 HDMI ports to connect set top box, Blu Ray players, gaming console | 2 USB ports to connect hard drives and other USB devices Smart TV Features: Built-in WiFi | Built-in Alexa |Android | Screen Mirroring | PC Connectivity | Wireless Headphone Control | EcoD Sound: 20 Watts Output | Power Audio | Music Equalizer Display: HRDD Techonology | Eco Vision | Cinema Mode | Cinema Zoom | Supports 16.7 million colours Warranty Information: 1-year warranty provided by the manufacturer from date of purchase Installation: Brand will contact for installation for this product once delivered. Contact Kevin for assistance @ 1800-102-0777 / 1800-102-8471 and provide product's model name and seller's details mentioned on your invoice. The service center will allot you a convenient slot for the service\",\n",
       " \"Resolution: HD Ready (1366 x 768) | Refresh Rate: 60 hertz Connectivity: 2 HDMI ports to connect set top box, Blu Ray players, gaming console | 1 USB ports to connect hard drives and other USB devices Sound output: 16 Watts Output | Integrated 2 speakers | Dolby Audio Smart TV Features: Built-in WiFi |Netflix | Google Play Store | YouTube | Google Play Games | Google cast | Media center | Smart Type: Google Certified Android LED HD TV | Remote: 1 Click Netflix Button | OS: Android O, Certified by Google Android TV | Storage: 8G Byte eMMC Memory | UI Style: Google Android TV UI & TCL TV+3.x UI Display: A+ Grade Panel | Micro Dimming | True Color | View Angle : 178 degree | 2K HDR10 | 16.7 Million(8bit) Warranty Information: 18 months warranty provided by TCL from date of purchase Installation: Brand will contact for installation for this product once delivered. Contact TCL Support for assistance @ 1800-419-0622 and provide product's model name and seller's details mentioned on your invoice. The service center will allot you a convenient slot for the service Easy returns: This product is eligible for replacement within 10 days of delivery in case of any product defects, damage or features not matching the description provided\",\n",
       " 'Resolution: Full HD (1920x1080) | Refresh Rate: 60 hertz Connectivity: 2 HDMI ports to connect set top box, Blue Ray players, gaming console | 2 USB ports to connect hard drives and other USB devices Sound : 24 Watts output | Dolby Audio | DTS Studio Sound Smart TV Features : Official Android Pie 9.0 | Google play store | Google Eco-system (Movie, TV, Music, Games) | Google Games | Chromecast Built In | Bluetooth 5.0 Display : A+ Grade LED Panel | High Brightness Panel | Adaptive contrast | MPEG Noise Reduction | PC and Game Mode Additional Features : Licensed Apps-YouTube, Netflix, Prime Video, Hotstar, Google Play Hotkeys on Remote Control | ARC and SPDIF port to connect external sound system Warranty Information: 1 year warranty provided by Vu from date of purchase',\n",
       " \"Resolution: HD Ready (1366x768) | Refresh Rate: 60 hertz Connectivity: 2 HDMI ports to connect set top box, Blu Ray players, gaming console | 1 USB ports to connect hard drives and other USB devices Sound : 20 Watts Output | Dolby Digital Plus Smart TV Features : Voice Assistants | SmartThings App | Personal Computer | Home Cloud | Live Cast | Screen Share | Music System | Alexa Built-in: Voice control your TV and your day. Just ask Alexa to search for movies, play music, control smart home devices, get sports updates and more Display : LED Panel | Mega Contrast | PurColor | HD Picture Quality | Slim & Stylish Design Warranty Information: 1 year comprehensive and 1 year additional warranty on Panel by Samsung Installation: For requesting installation/wall mounting/demo of this product once delivered, please directly call Samsung support on [1800407267864/180057267864] and provide product's model name as well as seller's details mentioned on the invoice Easy returns: This product is eligible for replacement within 10 days of delivery in case of any product defects, damage or features not matching the description provided\",\n",
       " \"Resolution: Full HD (1920x1080) | HDR Connectivity: 2 HDMI ports to connect set top box, Blu Ray players, gaming console | 2 USB ports to connect hard drives and other USB devices Sound : 20 Watts Output | Open Baffle Speaker | ClearAudio+ technology | TV MusicBox Smart TV Features: Smart TV | Screen Mirroring | Netflix | Amazon Prime Video | HDR Gaming Display: HDR | X-Reality Pro | Motionflow XR 100 Warranty Information : 1 year comprehensive warranty and 1 year additional warranty on panel provided by the manufacturer from date of purchase. Limited period offer valid from 1st Oct 2020 to 30th Nov 2020 Installation: Brand will contact for installation for this product once delivered. Contact Sony for assistance @ 18001037799 and provide product's model name as well as seller's details mentioned on the invoice Easy returns: This product is eligible for replacement within 10 days of delivery in case of any product defects, damage or features not matching the description provided\",\n",
       " \"Fire TV experience built-in brings together your favorite streaming content on the home screen. Choose from a vast catalog of movies and TV shows from Prime Video, Hotstar, Netflix, Zee5, Sony LIV and more Resolution : Full HD (1920x1080) | Refresh Rate: 60 hertz Connectivity: 3 HDMI ports to connect set top box, Blu-ray players, gaming console | 1 USB port to connect hard drives and other USB devices Sound: 16 Watts Output | Dolby Digital Plus | DTS TruSurround Smart TV features : Dual band Wi-Fi | Built-in Fire TV OS | Alexa Voice Control | Apps: YouTube, Prime Video, Netflix, Hotstar, Zee5, SonyLiv and more | Display Mirroring for compatible devices | Voice Remote with Alexa Warranty Information: 1 Year warranty provided by Onida from date of purchase Installation: For requesting installation/wall mounting/demo of this product once delivered, please directly call Onida support on 7490955555 and provide product's model name as well as seller's details mentioned on the invoice Easy returns: This product is eligible for replacement within 10 days of delivery in case of any product defects, damage or features not matching the description provided\",\n",
       " 'Resolution: Full HD (1920x1080) | Refresh Rate: 60 hertz | 178° wide viewing angle Connectivity: 2 HDMI ports to connect set top box, Blu-Ray players, gaming console | 2 USB ports to connect hard drives and other USB devices | IR Port to control connected devices like Soundbars, Receivers and Set top boxes Sound output: Inbuilt 20 Watts Powerful Speakers | Dolby Audio and DTS Tru Surround Smart TV Features: Fire TV OS | Built in Alexa and Alexa voice controls | DTH Set-Top Box Integration to switch between DTH TV Channels and OTT apps from home screen | Supported Apps: Prime Video | Netflix | Disney + Hotstar | YouTube | Apple TV | 5000+ apps from Fire OS Store | Display Mirroring | 1.5GHz Quad core processor | 1GB RAM/DDR | 8GB Flash Memory Display: A+ Grade LED panel | Amlogic 7th Generation Imaging Engine | Ultra bright screen | Advance picture processing | Anti-aliasing | Dynamic contrast | Dynamic backlight Warranty Information: 1 Year Comprehensive Warranty; additional 1 year Warranty on panel Installation/Wall mounting/demo will be arranged by Amazon Home Services. For warranty and device related issues, go to Your Orders on Amazon.in or Amazon shopping app > Locate your TV order > Select ‘Get Product Support’ and schedule a service. For any other information, please contact Amazon customer support',\n",
       " \"Resolution: Full HD (1920x1080) Refresh Rate: 60 hertz Connectivity: 3 HDMI ports to connect set top box, gaming consoles, streaming devices, 2 USB ports to connect hard drives and other USB devices, Headphone Out Sound: 20 Watts Output, Dolby Audio, Digital Sound Processing, Superior Audio Speakers, Two Way Audio Link Smart TV Features: Android 9.0 Bluetooth Remote with Voice Search Chromecast Built-in Netlix Amazon Prime Video 1.5 GB RAM + 8 GB Storage Quad Core CPU + Dual Core GPU Display: Super Bright Display 16.7 Million Colour Display Dot Noise Reduction Micro-Dimming Technology Warranty Information: 1 year brand warranty provided by Sanyo from date of purchase Installation: For requesting installation/wall mounting/demo of this product once delivered, please directly call Sanyo support on [1800-419-5088] and provide product's model name as well as seller's details mentioned on the invoice Easy returns: This product is eligible for replacement within 10 days of delivery in case of any product defects, damage or features not matching the description provided\",\n",
       " 'Resolution: Full HD (1920x1080) | Refresh Rate: 60 hertz Connectivity: 2 HDMI ports to connect set top box, Blue Ray players, gaming console | 2 USB ports to connect hard drives and other USB devices Sound : 24 Watts output | Dolby Audio | DTS Studio Sound Smart TV Features : Official Android Pie 9.0 | Google play store | Google Eco-system (Movie, TV, Music, Games) | Google Games | Chromecast Built In | Bluetooth 5.0 Display : A+ Grade LED Panel | High Brightness Panel | Adaptive contrast | MPEG Noise Reduction | PC and Game Mode Additional Features : Licensed Apps-YouTube, Netflix, Prime Video, Hotstar, Google Play Hotkeys on Remote Control | ARC and SPDIF port to connect external sound system Warranty Information: 1 year warranty provided by Vu from date of purchase',\n",
       " \"Resolution: Full HD (1920x1080) Refresh Rate: 60 hertz Connectivity: 3 HDMI ports to connect set top box, gaming consoles, streaming devices, 2 USB ports to connect hard drives and other USB devices, Headphone Out Sound: 20 Watts Output, Dolby Audio, Digital Sound Processing, Superior Audio Speakers, Two Way Audio Link Smart TV Features: Android 9.0 Bluetooth Remote with Voice Search Chromecast Built-in Netlix Amazon Prime Video 1.5 GB RAM + 8 GB Storage Quad Core CPU + Dual Core GPU Display: Super Bright Display 16.7 Million Colour Display Dot Noise Reduction Micro-Dimming Technology Warranty Information: 1 year brand warranty provided by Sanyo from date of purchase Installation: For requesting installation/wall mounting/demo of this product once delivered, please directly call Sanyo support on [1800-419-5088] and provide product's model name as well as seller's details mentioned on the invoice Easy returns: This product is eligible for replacement within 10 days of delivery in case of any product defects, damage or features not matching the description provided\"]"
      ]
     },
     "execution_count": 64,
     "metadata": {},
     "output_type": "execute_result"
    }
   ],
   "source": [
    "Other_details"
   ]
  },
  {
   "cell_type": "code",
   "execution_count": 65,
   "metadata": {},
   "outputs": [
    {
     "name": "stdout",
     "output_type": "stream",
     "text": [
      "66 66 66 66 66 66 66 66 66 66\n"
     ]
    }
   ],
   "source": [
    "#printing length\n",
    "print(len(Brand_name),len(Name_of_product),len(Rating),len(No_of_ratings),len(Price),len(Return_exchange),len(Expected_delivery),len(Availibility),len(Other_details),len(TV_URL))"
   ]
  },
  {
   "cell_type": "code",
   "execution_count": 66,
   "metadata": {},
   "outputs": [],
   "source": [
    "#creating a dataframe\n",
    "\n",
    "Televisions=pd.DataFrame({})\n",
    "Televisions['Brand_name']=Brand_name\n",
    "Televisions['Name_of_product']=Name_of_product\n",
    "Televisions['Rating']=Rating\n",
    "Televisions['No_of_ratings']=No_of_ratings\n",
    "Televisions['Price']=Price\n",
    "Televisions['Return_exchange']=Return_exchange\n",
    "Televisions['Expected_delivery']=Expected_delivery\n",
    "Televisions['Availibility']=Availibility\n",
    "Televisions['Other_details']=Other_details\n",
    "Televisions['Product_URL']=TV_URL"
   ]
  },
  {
   "cell_type": "code",
   "execution_count": 67,
   "metadata": {},
   "outputs": [
    {
     "data": {
      "text/html": [
       "<div>\n",
       "<style scoped>\n",
       "    .dataframe tbody tr th:only-of-type {\n",
       "        vertical-align: middle;\n",
       "    }\n",
       "\n",
       "    .dataframe tbody tr th {\n",
       "        vertical-align: top;\n",
       "    }\n",
       "\n",
       "    .dataframe thead th {\n",
       "        text-align: right;\n",
       "    }\n",
       "</style>\n",
       "<table border=\"1\" class=\"dataframe\">\n",
       "  <thead>\n",
       "    <tr style=\"text-align: right;\">\n",
       "      <th></th>\n",
       "      <th>Brand_name</th>\n",
       "      <th>Name_of_product</th>\n",
       "      <th>Rating</th>\n",
       "      <th>No_of_ratings</th>\n",
       "      <th>Price</th>\n",
       "      <th>Return_exchange</th>\n",
       "      <th>Expected_delivery</th>\n",
       "      <th>Availibility</th>\n",
       "      <th>Other_details</th>\n",
       "      <th>Product_URL</th>\n",
       "    </tr>\n",
       "  </thead>\n",
       "  <tbody>\n",
       "    <tr>\n",
       "      <th>0</th>\n",
       "      <td>Visit the TCL Store</td>\n",
       "      <td>TCL 108 cm (43 inches) 4K Ultra HD Certified A...</td>\n",
       "      <td>4.2 out of 5</td>\n",
       "      <td>289 ratings</td>\n",
       "      <td>₹ 26,990.00</td>\n",
       "      <td>10 Days Replacement</td>\n",
       "      <td>Thursday, Feb 4, 8AM-2PM</td>\n",
       "      <td>In stock.</td>\n",
       "      <td>Resolution: 4K Ultra HD (3860 x 2160) | Refres...</td>\n",
       "      <td>https://www.amazon.in/gp/slredirect/picassoRed...</td>\n",
       "    </tr>\n",
       "    <tr>\n",
       "      <th>1</th>\n",
       "      <td>Visit the Samsung Store</td>\n",
       "      <td>Samsung 80 cm (32 inches) Wondertainment Serie...</td>\n",
       "      <td>4.3 out of 5</td>\n",
       "      <td>1,678 ratings</td>\n",
       "      <td>₹ 17,290.00</td>\n",
       "      <td>10 Days Replacement</td>\n",
       "      <td>Thursday, Feb 4, 8AM-2PM</td>\n",
       "      <td>In stock.</td>\n",
       "      <td>Resolution: HD Ready (1366x768) | Refresh Rate...</td>\n",
       "      <td>https://www.amazon.in/gp/slredirect/picassoRed...</td>\n",
       "    </tr>\n",
       "    <tr>\n",
       "      <th>2</th>\n",
       "      <td>Visit the TCL Store</td>\n",
       "      <td>TCL 100 cm (40 inches) Full HD Certified Andro...</td>\n",
       "      <td>4.1 out of 5</td>\n",
       "      <td>823 ratings</td>\n",
       "      <td>₹ 19,999.00</td>\n",
       "      <td>10 Days Replacement</td>\n",
       "      <td>Saturday, Feb 6, 8AM-5PM</td>\n",
       "      <td>In stock.</td>\n",
       "      <td>Resolution: Full HD (1920 x 1080) | Refresh Ra...</td>\n",
       "      <td>https://www.amazon.in/TCL-100-3cm-inches-Andro...</td>\n",
       "    </tr>\n",
       "    <tr>\n",
       "      <th>3</th>\n",
       "      <td>Visit the Shinco Store</td>\n",
       "      <td>Shinco 80 cm (32 Inches) HD Ready Smart LED TV...</td>\n",
       "      <td>3.8 out of 5</td>\n",
       "      <td>11 ratings</td>\n",
       "      <td>₹ 12,499.00</td>\n",
       "      <td>10 Days Replacement</td>\n",
       "      <td>-</td>\n",
       "      <td>In stock.</td>\n",
       "      <td>Resolution: HD Ready (1366x768) | Refresh Rate...</td>\n",
       "      <td>https://www.amazon.in/Shinco-Inches-Ready-SO32...</td>\n",
       "    </tr>\n",
       "    <tr>\n",
       "      <th>4</th>\n",
       "      <td>Visit the TCL Store</td>\n",
       "      <td>TCL 108 cm (43 inches) 4K Ultra HD Certified A...</td>\n",
       "      <td>4.2 out of 5</td>\n",
       "      <td>289 ratings</td>\n",
       "      <td>₹ 26,990.00</td>\n",
       "      <td>10 Days Replacement</td>\n",
       "      <td>Thursday, Feb 4, 8AM-2PM</td>\n",
       "      <td>In stock.</td>\n",
       "      <td>Resolution: 4K Ultra HD (3860 x 2160) | Refres...</td>\n",
       "      <td>https://www.amazon.in/TCL-inches-Certified-And...</td>\n",
       "    </tr>\n",
       "    <tr>\n",
       "      <th>...</th>\n",
       "      <td>...</td>\n",
       "      <td>...</td>\n",
       "      <td>...</td>\n",
       "      <td>...</td>\n",
       "      <td>...</td>\n",
       "      <td>...</td>\n",
       "      <td>...</td>\n",
       "      <td>...</td>\n",
       "      <td>...</td>\n",
       "      <td>...</td>\n",
       "    </tr>\n",
       "    <tr>\n",
       "      <th>61</th>\n",
       "      <td>Visit the Onida Store</td>\n",
       "      <td>Onida 108 cm (43 Inches) Fire TV Edition Full ...</td>\n",
       "      <td>4.3 out of 5</td>\n",
       "      <td>3,476 ratings</td>\n",
       "      <td>₹ 23,149.00</td>\n",
       "      <td>10 Days Replacement</td>\n",
       "      <td>Thursday, Feb 4, 8AM-2PM</td>\n",
       "      <td>In stock.</td>\n",
       "      <td>Fire TV experience built-in brings together yo...</td>\n",
       "      <td>https://www.amazon.in/Onida-108-Inches-Full-Sm...</td>\n",
       "    </tr>\n",
       "    <tr>\n",
       "      <th>62</th>\n",
       "      <td>Brand: AmazonBasics</td>\n",
       "      <td>AmazonBasics 109cm (43 inches) Fire TV Edition...</td>\n",
       "      <td>4.2 out of 5</td>\n",
       "      <td>45 ratings</td>\n",
       "      <td>₹ 23,499.00</td>\n",
       "      <td>10 Days Replacement</td>\n",
       "      <td>Thursday, Feb 4, 8AM-2PM</td>\n",
       "      <td>In stock.</td>\n",
       "      <td>Resolution: Full HD (1920x1080) | Refresh Rate...</td>\n",
       "      <td>https://www.amazon.in/AmazonBasics-108cm-inch-...</td>\n",
       "    </tr>\n",
       "    <tr>\n",
       "      <th>63</th>\n",
       "      <td>Visit the Sanyo Store</td>\n",
       "      <td>Sanyo 108 cm (43 inches) Kaizen Series Full HD...</td>\n",
       "      <td>4.4 out of 5</td>\n",
       "      <td>1,000 ratings</td>\n",
       "      <td>₹ 23,499.00</td>\n",
       "      <td>10 Days Replacement</td>\n",
       "      <td>Thursday, Feb 4, 8AM-2PM</td>\n",
       "      <td>In stock.</td>\n",
       "      <td>Resolution: Full HD (1920x1080) Refresh Rate: ...</td>\n",
       "      <td>https://www.amazon.in/Sanyo-inches-Certified-A...</td>\n",
       "    </tr>\n",
       "    <tr>\n",
       "      <th>64</th>\n",
       "      <td>Brand: VU</td>\n",
       "      <td>Vu 108 cm (43 inches) Full HD UltraAndroid LED...</td>\n",
       "      <td>4.2 out of 5</td>\n",
       "      <td>8,181 ratings</td>\n",
       "      <td>₹ 25,999.00</td>\n",
       "      <td>10 Days Replacement</td>\n",
       "      <td>Thursday, Feb 4, 8AM-2PM</td>\n",
       "      <td>In stock.</td>\n",
       "      <td>Resolution: Full HD (1920x1080) | Refresh Rate...</td>\n",
       "      <td>https://www.amazon.in/gp/slredirect/picassoRed...</td>\n",
       "    </tr>\n",
       "    <tr>\n",
       "      <th>65</th>\n",
       "      <td>Visit the Sanyo Store</td>\n",
       "      <td>Sanyo 108 cm (43 inches) Kaizen Series Full HD...</td>\n",
       "      <td>4.4 out of 5</td>\n",
       "      <td>1,000 ratings</td>\n",
       "      <td>₹ 23,499.00</td>\n",
       "      <td>10 Days Replacement</td>\n",
       "      <td>Thursday, Feb 4, 8AM-2PM</td>\n",
       "      <td>In stock.</td>\n",
       "      <td>Resolution: Full HD (1920x1080) Refresh Rate: ...</td>\n",
       "      <td>https://www.amazon.in/gp/slredirect/picassoRed...</td>\n",
       "    </tr>\n",
       "  </tbody>\n",
       "</table>\n",
       "<p>66 rows × 10 columns</p>\n",
       "</div>"
      ],
      "text/plain": [
       "                 Brand_name  \\\n",
       "0       Visit the TCL Store   \n",
       "1   Visit the Samsung Store   \n",
       "2       Visit the TCL Store   \n",
       "3    Visit the Shinco Store   \n",
       "4       Visit the TCL Store   \n",
       "..                      ...   \n",
       "61    Visit the Onida Store   \n",
       "62      Brand: AmazonBasics   \n",
       "63    Visit the Sanyo Store   \n",
       "64                Brand: VU   \n",
       "65    Visit the Sanyo Store   \n",
       "\n",
       "                                      Name_of_product        Rating  \\\n",
       "0   TCL 108 cm (43 inches) 4K Ultra HD Certified A...  4.2 out of 5   \n",
       "1   Samsung 80 cm (32 inches) Wondertainment Serie...  4.3 out of 5   \n",
       "2   TCL 100 cm (40 inches) Full HD Certified Andro...  4.1 out of 5   \n",
       "3   Shinco 80 cm (32 Inches) HD Ready Smart LED TV...  3.8 out of 5   \n",
       "4   TCL 108 cm (43 inches) 4K Ultra HD Certified A...  4.2 out of 5   \n",
       "..                                                ...           ...   \n",
       "61  Onida 108 cm (43 Inches) Fire TV Edition Full ...  4.3 out of 5   \n",
       "62  AmazonBasics 109cm (43 inches) Fire TV Edition...  4.2 out of 5   \n",
       "63  Sanyo 108 cm (43 inches) Kaizen Series Full HD...  4.4 out of 5   \n",
       "64  Vu 108 cm (43 inches) Full HD UltraAndroid LED...  4.2 out of 5   \n",
       "65  Sanyo 108 cm (43 inches) Kaizen Series Full HD...  4.4 out of 5   \n",
       "\n",
       "    No_of_ratings        Price      Return_exchange         Expected_delivery  \\\n",
       "0     289 ratings  ₹ 26,990.00  10 Days Replacement  Thursday, Feb 4, 8AM-2PM   \n",
       "1   1,678 ratings  ₹ 17,290.00  10 Days Replacement  Thursday, Feb 4, 8AM-2PM   \n",
       "2     823 ratings  ₹ 19,999.00  10 Days Replacement  Saturday, Feb 6, 8AM-5PM   \n",
       "3      11 ratings  ₹ 12,499.00  10 Days Replacement                         -   \n",
       "4     289 ratings  ₹ 26,990.00  10 Days Replacement  Thursday, Feb 4, 8AM-2PM   \n",
       "..            ...          ...                  ...                       ...   \n",
       "61  3,476 ratings  ₹ 23,149.00  10 Days Replacement  Thursday, Feb 4, 8AM-2PM   \n",
       "62     45 ratings  ₹ 23,499.00  10 Days Replacement  Thursday, Feb 4, 8AM-2PM   \n",
       "63  1,000 ratings  ₹ 23,499.00  10 Days Replacement  Thursday, Feb 4, 8AM-2PM   \n",
       "64  8,181 ratings  ₹ 25,999.00  10 Days Replacement  Thursday, Feb 4, 8AM-2PM   \n",
       "65  1,000 ratings  ₹ 23,499.00  10 Days Replacement  Thursday, Feb 4, 8AM-2PM   \n",
       "\n",
       "   Availibility                                      Other_details  \\\n",
       "0     In stock.  Resolution: 4K Ultra HD (3860 x 2160) | Refres...   \n",
       "1     In stock.  Resolution: HD Ready (1366x768) | Refresh Rate...   \n",
       "2     In stock.  Resolution: Full HD (1920 x 1080) | Refresh Ra...   \n",
       "3     In stock.  Resolution: HD Ready (1366x768) | Refresh Rate...   \n",
       "4     In stock.  Resolution: 4K Ultra HD (3860 x 2160) | Refres...   \n",
       "..          ...                                                ...   \n",
       "61    In stock.  Fire TV experience built-in brings together yo...   \n",
       "62    In stock.  Resolution: Full HD (1920x1080) | Refresh Rate...   \n",
       "63    In stock.  Resolution: Full HD (1920x1080) Refresh Rate: ...   \n",
       "64    In stock.  Resolution: Full HD (1920x1080) | Refresh Rate...   \n",
       "65    In stock.  Resolution: Full HD (1920x1080) Refresh Rate: ...   \n",
       "\n",
       "                                          Product_URL  \n",
       "0   https://www.amazon.in/gp/slredirect/picassoRed...  \n",
       "1   https://www.amazon.in/gp/slredirect/picassoRed...  \n",
       "2   https://www.amazon.in/TCL-100-3cm-inches-Andro...  \n",
       "3   https://www.amazon.in/Shinco-Inches-Ready-SO32...  \n",
       "4   https://www.amazon.in/TCL-inches-Certified-And...  \n",
       "..                                                ...  \n",
       "61  https://www.amazon.in/Onida-108-Inches-Full-Sm...  \n",
       "62  https://www.amazon.in/AmazonBasics-108cm-inch-...  \n",
       "63  https://www.amazon.in/Sanyo-inches-Certified-A...  \n",
       "64  https://www.amazon.in/gp/slredirect/picassoRed...  \n",
       "65  https://www.amazon.in/gp/slredirect/picassoRed...  \n",
       "\n",
       "[66 rows x 10 columns]"
      ]
     },
     "execution_count": 67,
     "metadata": {},
     "output_type": "execute_result"
    }
   ],
   "source": [
    "Televisions"
   ]
  },
  {
   "cell_type": "code",
   "execution_count": 68,
   "metadata": {},
   "outputs": [],
   "source": [
    "#converting into csv format\n",
    "Televisions.to_csv(\"Televisions.csv\")"
   ]
  },
  {
   "cell_type": "code",
   "execution_count": 69,
   "metadata": {},
   "outputs": [],
   "source": [
    "#closing the driver\n",
    "driver.close()"
   ]
  },
  {
   "cell_type": "markdown",
   "metadata": {},
   "source": [
    "### 3. Write a python program to access the search bar and search button on images.google.com and scrape 100 images each for keywords ‘fruits’, ‘cars’ and ‘Machine Learning’."
   ]
  },
  {
   "cell_type": "code",
   "execution_count": 70,
   "metadata": {},
   "outputs": [
    {
     "name": "stdout",
     "output_type": "stream",
     "text": [
      "Found: 100 search results. Extracting links from 0:100\n",
      "Found: 101 image links, done!\n",
      "SUCCESS - saved https://www.verywellhealth.com/thmb/0mTCeKqywiovRWMiugc4mN99CGQ=/2880x1918/filters:fill(87E3EF,1)/fruits-to-avoid-if-you-have-diabetes-1087587-primary-recirc-3a95a09a48cb46b49d5632326f9405d3.jpg - as C:\\Users\\saurabh\\OneDrive\\Desktop\\New folder (3)\\fruits\\da85f7a89d.jpg\n",
      "SUCCESS - saved https://www.lalpathlabs.com/blog/wp-content/uploads/2019/01/Fruits-and-Vegetables.jpg - as C:\\Users\\saurabh\\OneDrive\\Desktop\\New folder (3)\\fruits\\b1c5795b43.jpg\n",
      "SUCCESS - saved https://encrypted-tbn0.gstatic.com/images?q=tbn:ANd9GcRhp8LkNwuxtHEr7Hdz2eEFp0pzUcpQZhkJDw&usqp=CAU - as C:\\Users\\saurabh\\OneDrive\\Desktop\\New folder (3)\\fruits\\096904f730.jpg\n",
      "SUCCESS - saved https://www.verywellfit.com/thmb/a4580FjTjbub9q4kI5m9X-Po-p0=/2002x1334/filters:no_upscale():max_bytes(150000):strip_icc()/Bananas-5c6a36a346e0fb0001f0e4a3.jpg - as C:\\Users\\saurabh\\OneDrive\\Desktop\\New folder (3)\\fruits\\865b67b8b6.jpg\n",
      "SUCCESS - saved https://www.eatforhealth.gov.au/sites/default/files/images/the_guidelines/fruit_selection_155265101_web.jpg - as C:\\Users\\saurabh\\OneDrive\\Desktop\\New folder (3)\\fruits\\7ada9e3e43.jpg\n",
      "SUCCESS - saved https://img.buzzfeed.com/store-an-image-prod-us-east-1/-dmUX_wTb.png?output-format=auto&output-quality=auto&downsize=500:* - as C:\\Users\\saurabh\\OneDrive\\Desktop\\New folder (3)\\fruits\\70b2de0461.jpg\n",
      "SUCCESS - saved http://www.aicr.org/wp-content/uploads/2017/02/43965686_s.jpg - as C:\\Users\\saurabh\\OneDrive\\Desktop\\New folder (3)\\fruits\\f41de118ec.jpg\n",
      "SUCCESS - saved https://images-na.ssl-images-amazon.com/images/I/51eB6A+NrwL._SX325_BO1,204,203,200_.jpg - as C:\\Users\\saurabh\\OneDrive\\Desktop\\New folder (3)\\fruits\\4cf36b9ce1.jpg\n",
      "SUCCESS - saved https://encrypted-tbn0.gstatic.com/images?q=tbn:ANd9GcSoGMXw8qL4lY4Lxbfk-dq6r-DELYghjEjItg&usqp=CAU - as C:\\Users\\saurabh\\OneDrive\\Desktop\\New folder (3)\\fruits\\aaef0d232e.jpg\n",
      "SUCCESS - saved https://www.theluxurysignature.com/wp-content/uploads/2015/03/Rambutan-Fruit.jpg - as C:\\Users\\saurabh\\OneDrive\\Desktop\\New folder (3)\\fruits\\9bf6cd61c8.jpg\n",
      "SUCCESS - saved https://encrypted-tbn0.gstatic.com/images?q=tbn:ANd9GcTDvcjadMATG9nKjIvUGMguAttZqJJyARSTOw&usqp=CAU - as C:\\Users\\saurabh\\OneDrive\\Desktop\\New folder (3)\\fruits\\c6151e469e.jpg\n",
      "SUCCESS - saved https://thumbor.thedailymeal.com/Bm3fFYuigHsPzID1JpnxP2uk5ks=//https://www.thedailymeal.com/sites/default/files/story/2018/iStock-636877252.jpg - as C:\\Users\\saurabh\\OneDrive\\Desktop\\New folder (3)\\fruits\\771362ab91.jpg\n",
      "SUCCESS - saved https://i.pinimg.com/originals/c2/2e/32/c22e324ceb7a7f5b1fc69152dd68d85b.jpg - as C:\\Users\\saurabh\\OneDrive\\Desktop\\New folder (3)\\fruits\\0b32758837.jpg\n",
      "SUCCESS - saved https://encrypted-tbn0.gstatic.com/images?q=tbn:ANd9GcSPn55JdgPiYYPztqlFqNfBgwQjL7VjheiL2Q&usqp=CAU - as C:\\Users\\saurabh\\OneDrive\\Desktop\\New folder (3)\\fruits\\3d4323b4fd.jpg\n",
      "SUCCESS - saved https://img.etimg.com/thumb/msid-69712122,width-640,resizemode-4,imgsize-1226932/eat-your-fruits-and-veggies-to-avoid-strokes.jpg - as C:\\Users\\saurabh\\OneDrive\\Desktop\\New folder (3)\\fruits\\043d7416fa.jpg\n",
      "SUCCESS - saved https://i.ytimg.com/vi/S0S1M9bKlYk/maxresdefault.jpg - as C:\\Users\\saurabh\\OneDrive\\Desktop\\New folder (3)\\fruits\\74f384c744.jpg\n",
      "SUCCESS - saved https://encrypted-tbn0.gstatic.com/images?q=tbn:ANd9GcQc65bNSDE9i7baVuF9ftpQkabn68R7FKCJyw&usqp=CAU - as C:\\Users\\saurabh\\OneDrive\\Desktop\\New folder (3)\\fruits\\444aa66864.jpg\n",
      "SUCCESS - saved https://www.byrdie.com/thmb/hMXOv368iHXLUS01JKeEVecgAyg=/1414x1414/smart/filters:no_upscale()/high-angle-view-of-fruit-salad-in-bowls-on-table-999008398-f229a5e02fb84dada1eee50a1db02108.jpg - as C:\\Users\\saurabh\\OneDrive\\Desktop\\New folder (3)\\fruits\\0fa2f61b85.jpg\n",
      "SUCCESS - saved https://encrypted-tbn0.gstatic.com/images?q=tbn:ANd9GcSW6-wcjHidZnmyRC49cGYPUHr8CVeOD5gTuA&usqp=CAU - as C:\\Users\\saurabh\\OneDrive\\Desktop\\New folder (3)\\fruits\\dd0d3aa6d6.jpg\n",
      "SUCCESS - saved https://images.everydayhealth.com/images/ordinary-fruits-with-amazing-health-benefits-05-1440x810.jpg - as C:\\Users\\saurabh\\OneDrive\\Desktop\\New folder (3)\\fruits\\9b2cd95089.jpg\n",
      "SUCCESS - saved https://encrypted-tbn0.gstatic.com/images?q=tbn:ANd9GcT9ziViKU04PnZP9xWczryYuzATVRs8JqOZzw&usqp=CAU - as C:\\Users\\saurabh\\OneDrive\\Desktop\\New folder (3)\\fruits\\e994b2809b.jpg\n",
      "SUCCESS - saved https://encrypted-tbn0.gstatic.com/images?q=tbn:ANd9GcS-pM2cVm5aP1LOpQmwK2y41Ohv81XUmeds5g&usqp=CAU - as C:\\Users\\saurabh\\OneDrive\\Desktop\\New folder (3)\\fruits\\2acaa34383.jpg\n",
      "SUCCESS - saved https://encrypted-tbn0.gstatic.com/images?q=tbn:ANd9GcR00HDenAZFZgNG4neq5qqGGOkCXrPuVmJdlg&usqp=CAU - as C:\\Users\\saurabh\\OneDrive\\Desktop\\New folder (3)\\fruits\\774a2a40b1.jpg\n",
      "SUCCESS - saved https://encrypted-tbn0.gstatic.com/images?q=tbn:ANd9GcS6p2mgoiBKnnIKR9AJ7j_Vn1dZdlbmSBK8zQ&usqp=CAU - as C:\\Users\\saurabh\\OneDrive\\Desktop\\New folder (3)\\fruits\\b1c9d81bf0.jpg\n",
      "SUCCESS - saved https://encrypted-tbn0.gstatic.com/images?q=tbn:ANd9GcQqLAeBdJ1DJrYU44TA01uFj-9wM-v5oFGA3w&usqp=CAU - as C:\\Users\\saurabh\\OneDrive\\Desktop\\New folder (3)\\fruits\\b7229286b8.jpg\n",
      "SUCCESS - saved https://encrypted-tbn0.gstatic.com/images?q=tbn:ANd9GcSyc4CaUnBYAr3StQYLP-PkhUBX9lfbbj0LGQ&usqp=CAU - as C:\\Users\\saurabh\\OneDrive\\Desktop\\New folder (3)\\fruits\\26ba7f7c79.jpg\n",
      "SUCCESS - saved https://static.toiimg.com/photo/76992342.cms - as C:\\Users\\saurabh\\OneDrive\\Desktop\\New folder (3)\\fruits\\eefd7ffd27.jpg\n",
      "SUCCESS - saved https://i0.wp.com/images-prod.healthline.com/hlcmsresource/images/topic_centers/2020-7/fruit-still-life-1296x728-header.jpg?w=1155&h=1528 - as C:\\Users\\saurabh\\OneDrive\\Desktop\\New folder (3)\\fruits\\2b28d9b725.jpg\n",
      "SUCCESS - saved https://encrypted-tbn0.gstatic.com/images?q=tbn:ANd9GcR70bh-DlLCwYctPZJ1karXSfbT6TOoXD4K4Q&usqp=CAU - as C:\\Users\\saurabh\\OneDrive\\Desktop\\New folder (3)\\fruits\\79b649fc22.jpg\n",
      "SUCCESS - saved https://encrypted-tbn0.gstatic.com/images?q=tbn:ANd9GcQD_-RQZAcVj0SS-pDVmBQPhFY9l-9JRp5mPg&usqp=CAU - as C:\\Users\\saurabh\\OneDrive\\Desktop\\New folder (3)\\fruits\\041b07c4fb.jpg\n",
      "SUCCESS - saved https://encrypted-tbn0.gstatic.com/images?q=tbn:ANd9GcQklhbQA6fYuUEoT_ArvqseD4o-notoEMdVSQ&usqp=CAU - as C:\\Users\\saurabh\\OneDrive\\Desktop\\New folder (3)\\fruits\\aa37b64055.jpg\n",
      "SUCCESS - saved https://encrypted-tbn0.gstatic.com/images?q=tbn:ANd9GcTAWGLaxP14syLHBBDlJFI61ZmBYqH6cakUHA&usqp=CAU - as C:\\Users\\saurabh\\OneDrive\\Desktop\\New folder (3)\\fruits\\cbee10afa8.jpg\n",
      "SUCCESS - saved https://encrypted-tbn0.gstatic.com/images?q=tbn:ANd9GcQCgaODLvI3SKjUwzQ9VosjA4VGZtGwyPuwiw&usqp=CAU - as C:\\Users\\saurabh\\OneDrive\\Desktop\\New folder (3)\\fruits\\a03896acdf.jpg\n",
      "SUCCESS - saved https://i.ytimg.com/vi/PY2OxP_jMZ0/maxresdefault.jpg - as C:\\Users\\saurabh\\OneDrive\\Desktop\\New folder (3)\\fruits\\287adb2d85.jpg\n",
      "SUCCESS - saved https://cdn1.sph.harvard.edu/wp-content/uploads/sites/30/2012/09/vegetables-and-fruits-farmers-market.jpg - as C:\\Users\\saurabh\\OneDrive\\Desktop\\New folder (3)\\fruits\\b58c2a0495.jpg\n",
      "SUCCESS - saved https://img.theweek.in/content/dam/week/news/sci-tech/2019/May/food-fruit-basket-vegetarian-fruits-eat-healthy-nature-shut.jpg - as C:\\Users\\saurabh\\OneDrive\\Desktop\\New folder (3)\\fruits\\a98f5dda73.jpg\n",
      "SUCCESS - saved https://i.pinimg.com/originals/7a/20/52/7a20521fb26ce2a45e635c4da4aa26f6.jpg - as C:\\Users\\saurabh\\OneDrive\\Desktop\\New folder (3)\\fruits\\6a71dbea0d.jpg\n",
      "SUCCESS - saved https://encrypted-tbn0.gstatic.com/images?q=tbn:ANd9GcRowukTZvxRVvrsIJQ06N0fySksDgt3GOy0yQ&usqp=CAU - as C:\\Users\\saurabh\\OneDrive\\Desktop\\New folder (3)\\fruits\\e478bbe6e1.jpg\n",
      "SUCCESS - saved https://www.healthyeating.org/images/default-source/home-0.0/nutrition-topics-2.0/general-nutrition-wellness/2-2-2-3foodgroups_fruits_detailfeature_thumb.jpg?sfvrsn=7abe71fe_4 - as C:\\Users\\saurabh\\OneDrive\\Desktop\\New folder (3)\\fruits\\32c197896f.jpg\n",
      "SUCCESS - saved https://assets.atlasobscura.com/media/W1siZiIsInVwbG9hZHMvYXNzZXRzL2NkOTBjYzJiLWI4MjQtNGNkNy1iYmI2LTQ3NjA4ODgxMjZhNTBlYjA1Njg0NDVlZWYyODcxM191bnVzdWFsIGZydWl0IGNvbGxhZ2UucG5nIl0sWyJwIiwiY29udmVydCIsIiJdLFsicCIsImNvbnZlcnQiLCItcXVhbGl0eSA4MSAtYXV0by1vcmllbnQiXSxbInAiLCJ0aHVtYiIsIjEyODB4PiJdXQ/unusual%20fruit%20collage.png - as C:\\Users\\saurabh\\OneDrive\\Desktop\\New folder (3)\\fruits\\8a441fe51d.jpg\n"
     ]
    },
    {
     "name": "stdout",
     "output_type": "stream",
     "text": [
      "SUCCESS - saved https://img.webmd.com/dtmcms/live/webmd/consumer_assets/site_images/articles/health_tools/exotic_fruit_slideshow/thinkstock_photo_of_grenadilla_passion_fruit.jpg - as C:\\Users\\saurabh\\OneDrive\\Desktop\\New folder (3)\\fruits\\f016a13f22.jpg\n",
      "SUCCESS - saved https://encrypted-tbn0.gstatic.com/images?q=tbn:ANd9GcQndGzs9OXvCv1BC4j550PhbxjG6jvEq0xFOQ&usqp=CAU - as C:\\Users\\saurabh\\OneDrive\\Desktop\\New folder (3)\\fruits\\52ed4e0a1f.jpg\n",
      "SUCCESS - saved https://i2.wp.com/www.vegrecipesofindia.com/wp-content/uploads/2014/12/Indian-Fruits-Names.jpg - as C:\\Users\\saurabh\\OneDrive\\Desktop\\New folder (3)\\fruits\\66f9b14e15.jpg\n",
      "SUCCESS - saved https://hips.hearstapps.com/hmg-prod/images/fruit-salad-horizontal-jpg-1522181219.jpg - as C:\\Users\\saurabh\\OneDrive\\Desktop\\New folder (3)\\fruits\\5dd8bf96d9.jpg\n",
      "SUCCESS - saved https://mk0foodfornetcoviwv0.kinstacdn.com/wp-content/uploads/exotic-fruits-from-around-the-world.png - as C:\\Users\\saurabh\\OneDrive\\Desktop\\New folder (3)\\fruits\\d54ee7151f.jpg\n"
     ]
    },
    {
     "name": "stderr",
     "output_type": "stream",
     "text": [
      "C:\\Users\\saurabh\\Anaconda3\\lib\\site-packages\\PIL\\Image.py:2929: UserWarning: image file could not be identified because WEBP support not installed\n",
      "  warnings.warn(message)\n"
     ]
    },
    {
     "name": "stdout",
     "output_type": "stream",
     "text": [
      "ERROR - Could not save https://www.mensjournal.com/wp-content/uploads/mf/_power_fruit_pomegranate_0.jpg?quality=86&strip=all - cannot identify image file <_io.BytesIO object at 0x000001FD7569F1D0>\n"
     ]
    },
    {
     "name": "stderr",
     "output_type": "stream",
     "text": [
      "C:\\Users\\saurabh\\Anaconda3\\lib\\site-packages\\PIL\\Image.py:960: UserWarning: Palette images with Transparency expressed in bytes should be converted to RGBA images\n",
      "  warnings.warn(\n"
     ]
    },
    {
     "name": "stdout",
     "output_type": "stream",
     "text": [
      "SUCCESS - saved https://www.diabete.qc.ca/wp-content/uploads/2014/08/Les-fruits-768x768.png - as C:\\Users\\saurabh\\OneDrive\\Desktop\\New folder (3)\\fruits\\e33a07e38c.jpg\n",
      "SUCCESS - saved https://img.etimg.com/thumb/width-1200,height-900,imgsize-322201,resizemode-1,msid-75714887/magazines/panache/doctors-suggest-having-fruits-could-help-keep-coronavirus-at-bay.jpg - as C:\\Users\\saurabh\\OneDrive\\Desktop\\New folder (3)\\fruits\\09d97eba7a.jpg\n",
      "SUCCESS - saved https://encrypted-tbn0.gstatic.com/images?q=tbn:ANd9GcQ01RgXcDAEeuaEoEN3SWnzBdaUGB2tTB2V6w&usqp=CAU - as C:\\Users\\saurabh\\OneDrive\\Desktop\\New folder (3)\\fruits\\6217d19779.jpg\n",
      "SUCCESS - saved https://www.luxuryvillasphuketthailand.com/wp-content/uploads/2018/01/Fruits-in-Phuket.jpg - as C:\\Users\\saurabh\\OneDrive\\Desktop\\New folder (3)\\fruits\\dda58dbc26.jpg\n",
      "SUCCESS - saved https://encrypted-tbn0.gstatic.com/images?q=tbn:ANd9GcQ6ikiQbCPFTkKjI_8w9JNDnzuGS4Ep2AB9tg&usqp=CAU - as C:\\Users\\saurabh\\OneDrive\\Desktop\\New folder (3)\\fruits\\494ba42d51.jpg\n",
      "SUCCESS - saved https://encrypted-tbn0.gstatic.com/images?q=tbn:ANd9GcRlGZABr8vUEACtDgP6dj8oONHSh52PVQzVXg&usqp=CAU - as C:\\Users\\saurabh\\OneDrive\\Desktop\\New folder (3)\\fruits\\51cc93ad2b.jpg\n",
      "SUCCESS - saved https://www.heart.org/-/media/aha/h4gm/article-images/fruit-and-vegetables.jpg - as C:\\Users\\saurabh\\OneDrive\\Desktop\\New folder (3)\\fruits\\a38f1b0b5a.jpg\n",
      "SUCCESS - saved https://i0.wp.com/cdn-prod.medicalnewstoday.com/content/images/articles/324/324431/healthiest-fruits-lemons.jpg?w=1155&h=1541 - as C:\\Users\\saurabh\\OneDrive\\Desktop\\New folder (3)\\fruits\\fa7ca01367.jpg\n",
      "SUCCESS - saved https://hips.hearstapps.com/hmg-prod.s3.amazonaws.com/images/assortment-of-colorful-ripe-tropical-fruits-top-royalty-free-image-995518546-1564092355.jpg?crop=0.657xw:0.983xh;0.191xw,0&resize=640:* - as C:\\Users\\saurabh\\OneDrive\\Desktop\\New folder (3)\\fruits\\427291141c.jpg\n",
      "SUCCESS - saved https://images-na.ssl-images-amazon.com/images/I/91WdMqaFL6L.jpg - as C:\\Users\\saurabh\\OneDrive\\Desktop\\New folder (3)\\fruits\\5362ee2500.jpg\n",
      "SUCCESS - saved https://post.healthline.com/wp-content/uploads/2020/09/healthy-fruits-fb-1200x628.jpg - as C:\\Users\\saurabh\\OneDrive\\Desktop\\New folder (3)\\fruits\\1eed0e8230.jpg\n",
      "SUCCESS - saved https://www.verywellfit.com/thmb/bC3Nh50AYXhVMkTpDs7mxABLl9w=/3000x2002/filters:fill(FFDB5D,1)/fruits-and-vegetables_crop-e2d484078f1d405cb2d08dd3fed7092a.jpg - as C:\\Users\\saurabh\\OneDrive\\Desktop\\New folder (3)\\fruits\\a24b62f8bf.jpg\n",
      "SUCCESS - saved https://encrypted-tbn0.gstatic.com/images?q=tbn:ANd9GcSzTJKmDoTZNw7GzHfX_b77fvd5qcCa1mgL1w&usqp=CAU - as C:\\Users\\saurabh\\OneDrive\\Desktop\\New folder (3)\\fruits\\874b52ca80.jpg\n",
      "SUCCESS - saved https://encrypted-tbn0.gstatic.com/images?q=tbn:ANd9GcT9R_WioFznlaoVg4XOSpNzAkeqIgdNpQzTyg&usqp=CAU - as C:\\Users\\saurabh\\OneDrive\\Desktop\\New folder (3)\\fruits\\eba46c9064.jpg\n",
      "SUCCESS - saved https://encrypted-tbn0.gstatic.com/images?q=tbn:ANd9GcRs6jAi_uzsZiWzYG4DETGAU0petUpZDmDC3A&usqp=CAU - as C:\\Users\\saurabh\\OneDrive\\Desktop\\New folder (3)\\fruits\\17d0bad2af.jpg\n",
      "SUCCESS - saved https://encrypted-tbn0.gstatic.com/images?q=tbn:ANd9GcSlPV8Go6ZznEVq5hHrCC4laguHXi8Dp515JQ&usqp=CAU - as C:\\Users\\saurabh\\OneDrive\\Desktop\\New folder (3)\\fruits\\a65fe3e185.jpg\n",
      "SUCCESS - saved https://encrypted-tbn0.gstatic.com/images?q=tbn:ANd9GcTw7tduEVdgN0Ato2FVDtEMNM4gMyTOdtPSUw&usqp=CAU - as C:\\Users\\saurabh\\OneDrive\\Desktop\\New folder (3)\\fruits\\ea98c99d85.jpg\n",
      "SUCCESS - saved https://www.dietdoctor.com/wp-content/uploads/2016/03/Low-Carb-Fruits-1-2400x1441-1.jpg - as C:\\Users\\saurabh\\OneDrive\\Desktop\\New folder (3)\\fruits\\1617f73578.jpg\n",
      "SUCCESS - saved https://encrypted-tbn0.gstatic.com/images?q=tbn:ANd9GcRQhV-djjjKbnDRM1-Z36es-Xlgk2gytTqANQ&usqp=CAU - as C:\\Users\\saurabh\\OneDrive\\Desktop\\New folder (3)\\fruits\\ca67676044.jpg\n",
      "SUCCESS - saved https://www.berries.com/blog/wp-content/uploads/2019/05/types-of-fruit-avocado.jpg - as C:\\Users\\saurabh\\OneDrive\\Desktop\\New folder (3)\\fruits\\5c4ba7be5b.jpg\n",
      "SUCCESS - saved https://encrypted-tbn0.gstatic.com/images?q=tbn:ANd9GcRSwzjFm-UsgXLiVlDr4H-Sxa8pqlejrn0K5Q&usqp=CAU - as C:\\Users\\saurabh\\OneDrive\\Desktop\\New folder (3)\\fruits\\5aa3109608.jpg\n",
      "SUCCESS - saved https://encrypted-tbn0.gstatic.com/images?q=tbn:ANd9GcSlm4p-MZGQWY2MjKSZQA05WRXL0ofCDsjkLQ&usqp=CAU - as C:\\Users\\saurabh\\OneDrive\\Desktop\\New folder (3)\\fruits\\36a7e67be3.jpg\n",
      "SUCCESS - saved https://img.onmanorama.com/content/dam/mm/en/food/foodie/images/2020/6/8/fruits-eat.jpg - as C:\\Users\\saurabh\\OneDrive\\Desktop\\New folder (3)\\fruits\\869f0710c2.jpg\n",
      "SUCCESS - saved https://encrypted-tbn0.gstatic.com/images?q=tbn:ANd9GcT8du_gAuo3Y0j4_RaF252JoUx1t2dAKEPIaw&usqp=CAU - as C:\\Users\\saurabh\\OneDrive\\Desktop\\New folder (3)\\fruits\\d72cbf48ca.jpg\n",
      "SUCCESS - saved https://img.etimg.com/thumb/width-640,height-480,imgsize-1339698,resizemode-1,msid-75370159/news/economy/agriculture/exotic-fruits-become-scarce-and-costlier-as-bottlenecks-in-transportation-emerge/mango-pti.jpg - as C:\\Users\\saurabh\\OneDrive\\Desktop\\New folder (3)\\fruits\\c8609cc083.jpg\n",
      "SUCCESS - saved https://miro.medium.com/max/601/1*CjEqlt11pvJQCRLTO_FTRw.png - as C:\\Users\\saurabh\\OneDrive\\Desktop\\New folder (3)\\fruits\\15059dcb7d.jpg\n",
      "SUCCESS - saved https://encrypted-tbn0.gstatic.com/images?q=tbn:ANd9GcSxv5mdTyzo3EYaUQQWrlD9wT8Y4wDCzh3GWQ&usqp=CAU - as C:\\Users\\saurabh\\OneDrive\\Desktop\\New folder (3)\\fruits\\417cfdf966.jpg\n",
      "SUCCESS - saved https://encrypted-tbn0.gstatic.com/images?q=tbn:ANd9GcRYtQ7VJ12OJGHpaF21VHfF3Vu-lF_9cQ32ug&usqp=CAU - as C:\\Users\\saurabh\\OneDrive\\Desktop\\New folder (3)\\fruits\\896c38a87e.jpg\n",
      "SUCCESS - saved https://encrypted-tbn0.gstatic.com/images?q=tbn:ANd9GcQW2p6mPA7FvDeNOsMp2tVWynUh6q5l6rwlkA&usqp=CAU - as C:\\Users\\saurabh\\OneDrive\\Desktop\\New folder (3)\\fruits\\520982a077.jpg\n",
      "SUCCESS - saved https://analyticsindiamag.com/wp-content/uploads/2020/06/Capture.png - as C:\\Users\\saurabh\\OneDrive\\Desktop\\New folder (3)\\fruits\\1948e6799d.jpg\n",
      "SUCCESS - saved https://static.toiimg.com/photo/77721447.cms - as C:\\Users\\saurabh\\OneDrive\\Desktop\\New folder (3)\\fruits\\c6a0f507be.jpg\n",
      "SUCCESS - saved https://encrypted-tbn0.gstatic.com/images?q=tbn:ANd9GcSc5Q549HP39SooAhlJU_jTIglqW3hBFDJ7RA&usqp=CAU - as C:\\Users\\saurabh\\OneDrive\\Desktop\\New folder (3)\\fruits\\0e8c6ec495.jpg\n",
      "SUCCESS - saved https://encrypted-tbn0.gstatic.com/images?q=tbn:ANd9GcSOIL6oD9Iybp0fMl0K9NxewLrx3O4W4woFfw&usqp=CAU - as C:\\Users\\saurabh\\OneDrive\\Desktop\\New folder (3)\\fruits\\1dd842c2fe.jpg\n",
      "SUCCESS - saved https://encrypted-tbn0.gstatic.com/images?q=tbn:ANd9GcT68b0O5wgNnMvg2hrPVjD4cRADRiFNcmXHvQ&usqp=CAU - as C:\\Users\\saurabh\\OneDrive\\Desktop\\New folder (3)\\fruits\\baa2372a9c.jpg\n",
      "SUCCESS - saved https://encrypted-tbn0.gstatic.com/images?q=tbn:ANd9GcSNqQ7dVfyV8ioTardoSBG6RE2ljMdgOA7uVQ&usqp=CAU - as C:\\Users\\saurabh\\OneDrive\\Desktop\\New folder (3)\\fruits\\3c10d7a65f.jpg\n",
      "SUCCESS - saved https://encrypted-tbn0.gstatic.com/images?q=tbn:ANd9GcT9BRF42oNd8kfrjxN4Sg0691moXXtclvx_mA&usqp=CAU - as C:\\Users\\saurabh\\OneDrive\\Desktop\\New folder (3)\\fruits\\6679fc1fe4.jpg\n",
      "SUCCESS - saved https://encrypted-tbn0.gstatic.com/images?q=tbn:ANd9GcROYH-uaHxJxZllD4i4p-a6Jx_gDHTAudnBxQ&usqp=CAU - as C:\\Users\\saurabh\\OneDrive\\Desktop\\New folder (3)\\fruits\\77e173cd49.jpg\n",
      "SUCCESS - saved https://encrypted-tbn0.gstatic.com/images?q=tbn:ANd9GcSKX95xS1GCGzpXGRK4VT0evog-F_lpfP0Z0Q&usqp=CAU - as C:\\Users\\saurabh\\OneDrive\\Desktop\\New folder (3)\\fruits\\a3866ccfdc.jpg\n",
      "SUCCESS - saved https://encrypted-tbn0.gstatic.com/images?q=tbn:ANd9GcRC3EMFP2cOQTYOAjHKt9m40ijoBH33g96eVg&usqp=CAU - as C:\\Users\\saurabh\\OneDrive\\Desktop\\New folder (3)\\fruits\\e9443132bd.jpg\n",
      "SUCCESS - saved https://static.onecms.io/wp-content/uploads/sites/23/2020/06/01/best-summer-fruits-2000.jpg - as C:\\Users\\saurabh\\OneDrive\\Desktop\\New folder (3)\\fruits\\353c023c01.jpg\n",
      "SUCCESS - saved https://encrypted-tbn0.gstatic.com/images?q=tbn:ANd9GcT9sfhdOnFssL3imlwqIZ6g04aRhO9VxiD10Q&usqp=CAU - as C:\\Users\\saurabh\\OneDrive\\Desktop\\New folder (3)\\fruits\\765bca3fbf.jpg\n",
      "SUCCESS - saved https://encrypted-tbn0.gstatic.com/images?q=tbn:ANd9GcRI2C2mp0oCS76i1PDcmFshBsSSRuW9Y7tvMg&usqp=CAU - as C:\\Users\\saurabh\\OneDrive\\Desktop\\New folder (3)\\fruits\\5fac2d578f.jpg\n",
      "SUCCESS - saved https://res.cloudinary.com/grohealth/image/upload/$wpsize_!_cld_full!,w_2100,h_1427,c_scale/v1588088840/iStock-467652436.jpg - as C:\\Users\\saurabh\\OneDrive\\Desktop\\New folder (3)\\fruits\\2cd8f66978.jpg\n",
      "SUCCESS - saved https://encrypted-tbn0.gstatic.com/images?q=tbn:ANd9GcSRaAoz740emDOo3f90QqDBckXUvmTVXx4K9g&usqp=CAU - as C:\\Users\\saurabh\\OneDrive\\Desktop\\New folder (3)\\fruits\\190eb09a2c.jpg\n"
     ]
    },
    {
     "name": "stdout",
     "output_type": "stream",
     "text": [
      "SUCCESS - saved https://media.npr.org/assets/img/2019/07/17/gettyimages-688974837_custom-05a1fe7c8ce05a3a307dc7aa2af024713745dfe2.jpg - as C:\\Users\\saurabh\\OneDrive\\Desktop\\New folder (3)\\fruits\\05a1fe7c8c.jpg\n",
      "SUCCESS - saved https://i.pinimg.com/originals/bd/d5/e9/bdd5e983743da88cd9028b4b87b7dd73.jpg - as C:\\Users\\saurabh\\OneDrive\\Desktop\\New folder (3)\\fruits\\aec3326141.jpg\n",
      "SUCCESS - saved https://encrypted-tbn0.gstatic.com/images?q=tbn:ANd9GcR2A9Pch7uvfGdKgfIznLJs2dqlyZTVij4jVw&usqp=CAU - as C:\\Users\\saurabh\\OneDrive\\Desktop\\New folder (3)\\fruits\\83d9bd3d47.jpg\n",
      "SUCCESS - saved https://static.scientificamerican.com/sciam/cache/file/528E0B49-CDD0-42D4-B5BAA3EBAEC01AE6_source.jpg?w=590&h=800&2BDA5AE7-F98A-493B-A10B4C078F76B21B - as C:\\Users\\saurabh\\OneDrive\\Desktop\\New folder (3)\\fruits\\8e61270ee8.jpg\n",
      "SUCCESS - saved https://imagesvc.meredithcorp.io/v3/mm/image?url=https%3A%2F%2Fstatic.onecms.io%2Fwp-content%2Fuploads%2Fsites%2F37%2F2019%2F09%2F10184935%2Fred-green-apples-leaves-6fb7c0ca.jpg - as C:\\Users\\saurabh\\OneDrive\\Desktop\\New folder (3)\\fruits\\c213e81e1c.jpg\n",
      "SUCCESS - saved https://encrypted-tbn0.gstatic.com/images?q=tbn:ANd9GcTeEBxrB3NgpLfbZZ_k2M9EBh3cfx_c-kCQtA&usqp=CAU - as C:\\Users\\saurabh\\OneDrive\\Desktop\\New folder (3)\\fruits\\df2d478cfe.jpg\n",
      "SUCCESS - saved https://encrypted-tbn0.gstatic.com/images?q=tbn:ANd9GcSwn7U3nC82GWK4aGz0Z0OW-YRvKXiyfpu0eA&usqp=CAU - as C:\\Users\\saurabh\\OneDrive\\Desktop\\New folder (3)\\fruits\\d601ae2ecf.jpg\n",
      "SUCCESS - saved https://encrypted-tbn0.gstatic.com/images?q=tbn:ANd9GcRV8-3ZxY8A0lZYKoI-AZi3BqT7gxhBnq9cGA&usqp=CAU - as C:\\Users\\saurabh\\OneDrive\\Desktop\\New folder (3)\\fruits\\2d99536997.jpg\n",
      "SUCCESS - saved https://encrypted-tbn0.gstatic.com/images?q=tbn:ANd9GcQ2o6PNjBMzNSFzx_isezetyh6wHLb0uR2JmQ&usqp=CAU - as C:\\Users\\saurabh\\OneDrive\\Desktop\\New folder (3)\\fruits\\714a7f2598.jpg\n",
      "SUCCESS - saved https://guardian.ng/wp-content/uploads/2020/02/Fruits-SteemKR.jpg - as C:\\Users\\saurabh\\OneDrive\\Desktop\\New folder (3)\\fruits\\f8525aa05c.jpg\n",
      "SUCCESS - saved https://cdn.cliqueinc.com/posts/281986/fruits-that-are-high-in-sugar-281986-1566362117724-main.700x0c.jpg - as C:\\Users\\saurabh\\OneDrive\\Desktop\\New folder (3)\\fruits\\96984da463.jpg\n",
      "Found: 100 search results. Extracting links from 0:100\n",
      "Found: 100 image links, done!\n",
      "SUCCESS - saved https://encrypted-tbn0.gstatic.com/images?q=tbn:ANd9GcQon8ctAdIzbccLnnxKfNCwtGzpylYQP3D0Mw&usqp=CAU - as C:\\Users\\saurabh\\OneDrive\\Desktop\\New folder (3)\\machine learning\\b4a596f389.jpg\n",
      "SUCCESS - saved https://miro.medium.com/max/1200/1*pzrsGTuIVROqhz6_pXHgLg.jpeg - as C:\\Users\\saurabh\\OneDrive\\Desktop\\New folder (3)\\machine learning\\d7989feb42.jpg\n",
      "SUCCESS - saved https://miro.medium.com/max/2400/1*c_fiB-YgbnMl6nntYGBMHQ.jpeg - as C:\\Users\\saurabh\\OneDrive\\Desktop\\New folder (3)\\machine learning\\dc53b7d074.jpg\n",
      "SUCCESS - saved https://bigdata-madesimple.com/wp-content/uploads/2018/10/Machine-Learning.jpg - as C:\\Users\\saurabh\\OneDrive\\Desktop\\New folder (3)\\machine learning\\2f3ce3d208.jpg\n",
      "SUCCESS - saved https://encrypted-tbn0.gstatic.com/images?q=tbn:ANd9GcRkh72MmGlzoYJ1NYfzzfEUYGoEzN4azEuQag&usqp=CAU - as C:\\Users\\saurabh\\OneDrive\\Desktop\\New folder (3)\\machine learning\\f346a472d7.jpg\n",
      "SUCCESS - saved https://encrypted-tbn0.gstatic.com/images?q=tbn:ANd9GcTlrRupcFP48cR8T8Lv0nmohh-nsuFWuKy90Q&usqp=CAU - as C:\\Users\\saurabh\\OneDrive\\Desktop\\New folder (3)\\machine learning\\6ee11ce46e.jpg\n",
      "SUCCESS - saved https://media.geeksforgeeks.org/wp-content/cdn-uploads/machineLearning3.png - as C:\\Users\\saurabh\\OneDrive\\Desktop\\New folder (3)\\machine learning\\81ba71393e.jpg\n",
      "SUCCESS - saved https://encrypted-tbn0.gstatic.com/images?q=tbn:ANd9GcSCzkUWgWwDhp8lkUGLmmcBf9ozABFh2KUXrA&usqp=CAU - as C:\\Users\\saurabh\\OneDrive\\Desktop\\New folder (3)\\machine learning\\4d6ad0a267.jpg\n",
      "SUCCESS - saved https://gblobscdn.gitbook.com/assets%2F-LvBP1svpACTB1R1x_U4%2F-LvI8vNq_N7u3RWVAPLk%2F-LvJChz-OpOFlobU-jSo%2FUntitled-1.jpg?alt=media&token=6fc5ef91-1916-404a-b5cc-7e73617082d1 - as C:\\Users\\saurabh\\OneDrive\\Desktop\\New folder (3)\\machine learning\\6c7175e50d.jpg\n",
      "SUCCESS - saved https://encrypted-tbn0.gstatic.com/images?q=tbn:ANd9GcTM0ArDHzcQKa6lyQV_7h6KqBtZ4JFio5ZfnA&usqp=CAU - as C:\\Users\\saurabh\\OneDrive\\Desktop\\New folder (3)\\machine learning\\b7adf8b549.jpg\n",
      "SUCCESS - saved https://i2.wp.com/semiengineering.com/wp-content/uploads/2018/01/MLvsDL.png?resize=733%2C405&ssl=1 - as C:\\Users\\saurabh\\OneDrive\\Desktop\\New folder (3)\\machine learning\\f5f66ec4e0.jpg\n",
      "SUCCESS - saved https://encrypted-tbn0.gstatic.com/images?q=tbn:ANd9GcSwaCZ6_QpUvnS_THKkPDee-66vO5FNpxpXAg&usqp=CAU - as C:\\Users\\saurabh\\OneDrive\\Desktop\\New folder (3)\\machine learning\\b4e929c69a.jpg\n",
      "SUCCESS - saved https://d39xr7ireu4fgp.cloudfront.net/main/image/resize?file=accounts%2F14342%2Ffiles%2F827.png&t=pzivyi&method=crop&crop%5Bx%5D=0&crop%5By%5D=0&crop%5Bwidth%5D=4000&crop%5Bheight%5D=2250&max_width=850 - as C:\\Users\\saurabh\\OneDrive\\Desktop\\New folder (3)\\machine learning\\adc08ca126.jpg\n",
      "SUCCESS - saved https://encrypted-tbn0.gstatic.com/images?q=tbn:ANd9GcRR7ip59DMFdyto74ZNzdZv82NKiI6AqwWz-w&usqp=CAU - as C:\\Users\\saurabh\\OneDrive\\Desktop\\New folder (3)\\machine learning\\555234ea45.jpg\n",
      "SUCCESS - saved https://www.cisco.com/c/dam/assets/swa/img/anchor-info/machine-learning-628x353.jpg - as C:\\Users\\saurabh\\OneDrive\\Desktop\\New folder (3)\\machine learning\\3f089c56d9.jpg\n",
      "SUCCESS - saved https://www.ceralytics.com/wp-content/uploads/2019/08/machine-learning-featured.jpg - as C:\\Users\\saurabh\\OneDrive\\Desktop\\New folder (3)\\machine learning\\278cf679e6.jpg\n",
      "SUCCESS - saved https://thumbor.forbes.com/thumbor/fit-in/1200x0/filters%3Aformat%28jpg%29/https%3A%2F%2Fspecials-images.forbesimg.com%2Fdam%2Fimageserve%2F1129869424%2F0x0.jpg%3Ffit%3Dscale - as C:\\Users\\saurabh\\OneDrive\\Desktop\\New folder (3)\\machine learning\\9e896a2b6f.jpg\n",
      "SUCCESS - saved https://www.nokia.com/sites/default/files/styles/nokia_blog_page_image/public/blog/nokia-analytics-banner.jpg - as C:\\Users\\saurabh\\OneDrive\\Desktop\\New folder (3)\\machine learning\\851e4b46b0.jpg\n",
      "SUCCESS - saved https://hazelcast.com/wp-content/uploads/2019/02/shutterstock_1214787442-1024x465-1000x454.jpg - as C:\\Users\\saurabh\\OneDrive\\Desktop\\New folder (3)\\machine learning\\61b1159ec6.jpg\n",
      "SUCCESS - saved https://encrypted-tbn0.gstatic.com/images?q=tbn:ANd9GcSMXdbr0PP5MW2sF7ReDd5yQ-fFQN8i9Q5IjA&usqp=CAU - as C:\\Users\\saurabh\\OneDrive\\Desktop\\New folder (3)\\machine learning\\b11ec94449.jpg\n",
      "SUCCESS - saved https://encrypted-tbn0.gstatic.com/images?q=tbn:ANd9GcQyk-rAWff8es4lJvIa_J3mIuveLfNztGCpLg&usqp=CAU - as C:\\Users\\saurabh\\OneDrive\\Desktop\\New folder (3)\\machine learning\\edc1d7bc91.jpg\n",
      "SUCCESS - saved https://assets.amazon.science/aa/d2/c6f68351463ca69dc25790152692/amazon-machine-learning-university.png - as C:\\Users\\saurabh\\OneDrive\\Desktop\\New folder (3)\\machine learning\\771810e592.jpg\n",
      "SUCCESS - saved https://encrypted-tbn0.gstatic.com/images?q=tbn:ANd9GcR4UDnFi4Y6eSyhdRMrXAcVJEhaFrFGNQw1Dw&usqp=CAU - as C:\\Users\\saurabh\\OneDrive\\Desktop\\New folder (3)\\machine learning\\72c0f3c939.jpg\n",
      "SUCCESS - saved https://encrypted-tbn0.gstatic.com/images?q=tbn:ANd9GcRl5Xu-T4-nc9bxvkM4n2o8a_KUFJBVbYXnNQ&usqp=CAU - as C:\\Users\\saurabh\\OneDrive\\Desktop\\New folder (3)\\machine learning\\f0243ace52.jpg\n",
      "SUCCESS - saved https://cdn.searchenginejournal.com/wp-content/uploads/2020/09/how-machine-learning-is-changing-seo-how-to-adapt-5f60c25878dfc-1520x800.png - as C:\\Users\\saurabh\\OneDrive\\Desktop\\New folder (3)\\machine learning\\eb7c51d3f3.jpg\n",
      "SUCCESS - saved https://miro.medium.com/freeze/max/1200/0*PuscwCsUr09xZ0SJ.gif - as C:\\Users\\saurabh\\OneDrive\\Desktop\\New folder (3)\\machine learning\\6c8bf01948.jpg\n",
      "SUCCESS - saved https://encrypted-tbn0.gstatic.com/images?q=tbn:ANd9GcQrT3TniqvNeIBy5HpWmHVNDtmn1TazaB45wA&usqp=CAU - as C:\\Users\\saurabh\\OneDrive\\Desktop\\New folder (3)\\machine learning\\d07eeedd23.jpg\n",
      "SUCCESS - saved https://encrypted-tbn0.gstatic.com/images?q=tbn:ANd9GcSA7bFLQ7QcfbfAlZAAuYghSBrVMXWxQJa6eQ&usqp=CAU - as C:\\Users\\saurabh\\OneDrive\\Desktop\\New folder (3)\\machine learning\\deb953fad4.jpg\n",
      "SUCCESS - saved https://encrypted-tbn0.gstatic.com/images?q=tbn:ANd9GcRoF6xz5BCF-dc06XrrhpKBYvBkFZaNx4GYjw&usqp=CAU - as C:\\Users\\saurabh\\OneDrive\\Desktop\\New folder (3)\\machine learning\\aa2971b61c.jpg\n"
     ]
    },
    {
     "name": "stdout",
     "output_type": "stream",
     "text": [
      "SUCCESS - saved https://www.healthcareitnews.com/sites/hitn/files/Immunai%20AI%20Architecture%20%281%29%20%281%29.png - as C:\\Users\\saurabh\\OneDrive\\Desktop\\New folder (3)\\machine learning\\09e74f9058.jpg\n",
      "SUCCESS - saved https://wp.technologyreview.com/wp-content/uploads/2018/11/algorithm2orange.1-9.jpg - as C:\\Users\\saurabh\\OneDrive\\Desktop\\New folder (3)\\machine learning\\6a1090c1ae.jpg\n",
      "SUCCESS - saved https://www.mrdbourke.com/content/images/2020/07/ml-roadmap-blog-post-header.png - as C:\\Users\\saurabh\\OneDrive\\Desktop\\New folder (3)\\machine learning\\a6f46f6bc2.jpg\n",
      "SUCCESS - saved https://encrypted-tbn0.gstatic.com/images?q=tbn:ANd9GcR5wWLyJTkF70j5wUSDzkxWLPrmYJzI_CHTGQ&usqp=CAU - as C:\\Users\\saurabh\\OneDrive\\Desktop\\New folder (3)\\machine learning\\fdddda4449.jpg\n",
      "SUCCESS - saved https://res.cloudinary.com/springboard-images/image/upload/q_auto,f_auto,fl_lossy/wordpress/2019/07/sb-blog-what-is-mle.png - as C:\\Users\\saurabh\\OneDrive\\Desktop\\New folder (3)\\machine learning\\8f71efc05e.jpg\n",
      "SUCCESS - saved https://encrypted-tbn0.gstatic.com/images?q=tbn:ANd9GcTVXeTwal8Qq-QnImTGfbuHxj4xBk8HqPMsvw&usqp=CAU - as C:\\Users\\saurabh\\OneDrive\\Desktop\\New folder (3)\\machine learning\\ac7ed8f4f5.jpg\n",
      "SUCCESS - saved https://community-cdn-digitalocean-com.global.ssl.fastly.net/variants/fR1fwLvJDeYDMNenxu3XokLs/035575f2985fe451d86e717d73691e533a1a00545d7230900ed786341dc3c882 - as C:\\Users\\saurabh\\OneDrive\\Desktop\\New folder (3)\\machine learning\\8526cd01ff.jpg\n",
      "SUCCESS - saved https://images.idgesg.net/images/article/2020/08/intro_ts_ai_ml_by-monsitj-getty-images_2400x1600-100853894-large.jpg - as C:\\Users\\saurabh\\OneDrive\\Desktop\\New folder (3)\\machine learning\\510a3a9d1e.jpg\n",
      "SUCCESS - saved https://www.iberdrola.com/wcorp/gc/prod/en_US/comunicacion/machine_learning_mult_1_res/machine_learning_746x419.jpg - as C:\\Users\\saurabh\\OneDrive\\Desktop\\New folder (3)\\machine learning\\db0907dc4a.jpg\n",
      "SUCCESS - saved https://encrypted-tbn0.gstatic.com/images?q=tbn:ANd9GcT6YrBPpqRmuNuIhW8oU9Lbo-IVNRUovnkh1g&usqp=CAU - as C:\\Users\\saurabh\\OneDrive\\Desktop\\New folder (3)\\machine learning\\1da066ab83.jpg\n",
      "SUCCESS - saved https://encrypted-tbn0.gstatic.com/images?q=tbn:ANd9GcQprN1YspfhTEdfHiP5TWdZTwlCPjPvhja-5Q&usqp=CAU - as C:\\Users\\saurabh\\OneDrive\\Desktop\\New folder (3)\\machine learning\\925dddbeb8.jpg\n",
      "SUCCESS - saved https://data-flair.training/blogs/wp-content/uploads/sites/2/2017/07/what-is-machine-learning-1200x675.jpg - as C:\\Users\\saurabh\\OneDrive\\Desktop\\New folder (3)\\machine learning\\3af442ab3f.jpg\n",
      "SUCCESS - saved https://encrypted-tbn0.gstatic.com/images?q=tbn:ANd9GcQ-3vR--FLpXYAYGo_sBr_XYAq6XQQdsp9BLQ&usqp=CAU - as C:\\Users\\saurabh\\OneDrive\\Desktop\\New folder (3)\\machine learning\\271ad058db.jpg\n",
      "SUCCESS - saved https://www.ie.edu/exponential-learning/blog/wp-content/uploads/2018/01/MachineLearninginMarketing-1621x1000.jpg - as C:\\Users\\saurabh\\OneDrive\\Desktop\\New folder (3)\\machine learning\\14904ce5fd.jpg\n",
      "SUCCESS - saved https://data-flair.training/blogs/wp-content/uploads/sites/2/2017/07/applications-of-machine-learning-2-1200x900.jpg - as C:\\Users\\saurabh\\OneDrive\\Desktop\\New folder (3)\\machine learning\\4311995dd0.jpg\n",
      "SUCCESS - saved https://www.disruptivestatic.com/wp-content/uploads/2018/05/machine-learning-ecommerce-blog-1.jpg - as C:\\Users\\saurabh\\OneDrive\\Desktop\\New folder (3)\\machine learning\\b904c695d1.jpg\n",
      "SUCCESS - saved https://serokell.io/files/zx/zxwju3ha.Machine-learning-vs-deep-learning.jpg - as C:\\Users\\saurabh\\OneDrive\\Desktop\\New folder (3)\\machine learning\\59cbf94e42.jpg\n",
      "SUCCESS - saved https://encrypted-tbn0.gstatic.com/images?q=tbn:ANd9GcQ-KGtKyTAliLTgKWIKxXyoaGskiPl75K_bZw&usqp=CAU - as C:\\Users\\saurabh\\OneDrive\\Desktop\\New folder (3)\\machine learning\\ba4a7d58af.jpg\n",
      "SUCCESS - saved https://encrypted-tbn0.gstatic.com/images?q=tbn:ANd9GcRSKwi3-uI9oPDkieemxW4lRAfO6TZMd5PCVw&usqp=CAU - as C:\\Users\\saurabh\\OneDrive\\Desktop\\New folder (3)\\machine learning\\66808f6226.jpg\n",
      "SUCCESS - saved https://coschedule.s3.amazonaws.com/106308/910af4fa-63fa-4346-a2f2-ef280e8a250f/1576687016462.png - as C:\\Users\\saurabh\\OneDrive\\Desktop\\New folder (3)\\machine learning\\28ccfa6772.jpg\n",
      "SUCCESS - saved https://encrypted-tbn0.gstatic.com/images?q=tbn:ANd9GcRu4Tmt8qt_vFEqIFkcbOfvjFRMWrClfwQhsQ&usqp=CAU - as C:\\Users\\saurabh\\OneDrive\\Desktop\\New folder (3)\\machine learning\\8abd89362d.jpg\n",
      "SUCCESS - saved https://appen.com/wp-content/uploads/2019/10/iStock-1181216327-750x422-1.jpg - as C:\\Users\\saurabh\\OneDrive\\Desktop\\New folder (3)\\machine learning\\6707521ac4.jpg\n",
      "SUCCESS - saved https://encrypted-tbn0.gstatic.com/images?q=tbn:ANd9GcQfUEEucOVV7_9J2TzhypLpcnD3IuoqAsHBSA&usqp=CAU - as C:\\Users\\saurabh\\OneDrive\\Desktop\\New folder (3)\\machine learning\\ecf230f9cf.jpg\n",
      "SUCCESS - saved https://encrypted-tbn0.gstatic.com/images?q=tbn:ANd9GcTqcn3Xn1l5E6gkH5YYc3BNEKIXYij9IOJb0w&usqp=CAU - as C:\\Users\\saurabh\\OneDrive\\Desktop\\New folder (3)\\machine learning\\724f241954.jpg\n",
      "SUCCESS - saved https://encrypted-tbn0.gstatic.com/images?q=tbn:ANd9GcRvrLOYzDpbFNPnpVcM10KGQWzibR5O9MAGcA&usqp=CAU - as C:\\Users\\saurabh\\OneDrive\\Desktop\\New folder (3)\\machine learning\\8f4299454a.jpg\n",
      "SUCCESS - saved https://encrypted-tbn0.gstatic.com/images?q=tbn:ANd9GcQfzcYFeL2xmrJJFojK5tDJIdrXQ8CdoGg-_g&usqp=CAU - as C:\\Users\\saurabh\\OneDrive\\Desktop\\New folder (3)\\machine learning\\5ffb8a7153.jpg\n",
      "SUCCESS - saved https://blog.bismart.com/hs-fs/hubfs/02-MachinelearningVSDeeplearning_Mesa%20de%20trabajo%201%20copia%202_Mesa%20de%20trabajo%201%20copia%202.jpg?width=3509&name=02-MachinelearningVSDeeplearning_Mesa%20de%20trabajo%201%20copia%202_Mesa%20de%20trabajo%201%20copia%202.jpg - as C:\\Users\\saurabh\\OneDrive\\Desktop\\New folder (3)\\machine learning\\d0e5022c0a.jpg\n",
      "SUCCESS - saved https://encrypted-tbn0.gstatic.com/images?q=tbn:ANd9GcT8V4AkmOolGDDvYp8wDz4AG7n50dI2gXT-jQ&usqp=CAU - as C:\\Users\\saurabh\\OneDrive\\Desktop\\New folder (3)\\machine learning\\dd3a6050e6.jpg\n",
      "SUCCESS - saved https://miro.medium.com/max/848/1*M9le42saJxWlOYyYvhKtPA.jpeg - as C:\\Users\\saurabh\\OneDrive\\Desktop\\New folder (3)\\machine learning\\574153b142.jpg\n",
      "SUCCESS - saved https://encrypted-tbn0.gstatic.com/images?q=tbn:ANd9GcRgooEjFqNB4VIHcKQr1SLt_M99asA6WtMbxQ&usqp=CAU - as C:\\Users\\saurabh\\OneDrive\\Desktop\\New folder (3)\\machine learning\\98d7d072e8.jpg\n",
      "SUCCESS - saved https://encrypted-tbn0.gstatic.com/images?q=tbn:ANd9GcSrRz46aBUHH4k31ax64El8Gw2VsFhEaPDsxw&usqp=CAU - as C:\\Users\\saurabh\\OneDrive\\Desktop\\New folder (3)\\machine learning\\0a77722c77.jpg\n",
      "SUCCESS - saved https://encrypted-tbn0.gstatic.com/images?q=tbn:ANd9GcTxVFK-XSgdT_lK95joMfDupTEhhpcMZ7590g&usqp=CAU - as C:\\Users\\saurabh\\OneDrive\\Desktop\\New folder (3)\\machine learning\\f04f1e4b70.jpg\n",
      "SUCCESS - saved https://encrypted-tbn0.gstatic.com/images?q=tbn:ANd9GcTPEJxpOi7DEQoXGhz8MfDzVOLK7qaGvn4Q9A&usqp=CAU - as C:\\Users\\saurabh\\OneDrive\\Desktop\\New folder (3)\\machine learning\\e6939e1e96.jpg\n",
      "SUCCESS - saved https://encrypted-tbn0.gstatic.com/images?q=tbn:ANd9GcQr7Wp91QpIBCJWAzTx-nPX1SyF4sMP3bl8fw&usqp=CAU - as C:\\Users\\saurabh\\OneDrive\\Desktop\\New folder (3)\\machine learning\\106df1a2a6.jpg\n",
      "SUCCESS - saved https://www.merkleinc.com/sites/default/files/inline-images/DL%20and%20ML1%20resized.jpg - as C:\\Users\\saurabh\\OneDrive\\Desktop\\New folder (3)\\machine learning\\3a14d7478f.jpg\n",
      "SUCCESS - saved https://cdn2.hubspot.net/hubfs/202339/machine%20learning.png - as C:\\Users\\saurabh\\OneDrive\\Desktop\\New folder (3)\\machine learning\\ed793697e1.jpg\n",
      "SUCCESS - saved https://encrypted-tbn0.gstatic.com/images?q=tbn:ANd9GcSuNpky9-vZMaNdPs9hWVY3EnvwODBQa_xcsQ&usqp=CAU - as C:\\Users\\saurabh\\OneDrive\\Desktop\\New folder (3)\\machine learning\\fd1f826921.jpg\n",
      "SUCCESS - saved https://encrypted-tbn0.gstatic.com/images?q=tbn:ANd9GcSo23F7idIiLLMzcINw13f7z3p6NE03r4b2EQ&usqp=CAU - as C:\\Users\\saurabh\\OneDrive\\Desktop\\New folder (3)\\machine learning\\1c2136fce7.jpg\n",
      "SUCCESS - saved https://thumbor.forbes.com/thumbor/960x0/https%3A%2F%2Fspecials-images.forbesimg.com%2Fdam%2Fimageserve%2F966248982%2F960x0.jpg%3Ffit%3Dscale - as C:\\Users\\saurabh\\OneDrive\\Desktop\\New folder (3)\\machine learning\\3b9d53eae6.jpg\n",
      "SUCCESS - saved https://encrypted-tbn0.gstatic.com/images?q=tbn:ANd9GcReEncPBo8m6K5aa9sjWDkIvrtZA36xhYNwuQ&usqp=CAU - as C:\\Users\\saurabh\\OneDrive\\Desktop\\New folder (3)\\machine learning\\82b371f65b.jpg\n"
     ]
    },
    {
     "name": "stdout",
     "output_type": "stream",
     "text": [
      "SUCCESS - saved https://encrypted-tbn0.gstatic.com/images?q=tbn:ANd9GcSxZZwCvSB5Xs37UOYvEKOZuGC8R3s40U3WDg&usqp=CAU - as C:\\Users\\saurabh\\OneDrive\\Desktop\\New folder (3)\\machine learning\\07a75b22ba.jpg\n",
      "SUCCESS - saved https://s27389.pcdn.co/wp-content/uploads/2020/10/how-kubernetes-extends-machine-learning-ml.jpeg - as C:\\Users\\saurabh\\OneDrive\\Desktop\\New folder (3)\\machine learning\\66b4894f81.jpg\n",
      "SUCCESS - saved https://encrypted-tbn0.gstatic.com/images?q=tbn:ANd9GcRmX2Ela9pLW2dmQHa4Rra6xFdcVPyhk8kJHg&usqp=CAU - as C:\\Users\\saurabh\\OneDrive\\Desktop\\New folder (3)\\machine learning\\1b383a015f.jpg\n",
      "SUCCESS - saved https://encrypted-tbn0.gstatic.com/images?q=tbn:ANd9GcQQdYjKvqIh60xvSFA41sdrmxntiPSwuWGl3g&usqp=CAU - as C:\\Users\\saurabh\\OneDrive\\Desktop\\New folder (3)\\machine learning\\f903377bb7.jpg\n",
      "SUCCESS - saved https://cdn.analyticsvidhya.com/wp-content/uploads/2020/03/04_thumb.jpg - as C:\\Users\\saurabh\\OneDrive\\Desktop\\New folder (3)\\machine learning\\203c39d593.jpg\n",
      "SUCCESS - saved https://encrypted-tbn0.gstatic.com/images?q=tbn:ANd9GcQ9oGLSqXl4ThqOLTrHvV887xhshSGUcaIyDw&usqp=CAU - as C:\\Users\\saurabh\\OneDrive\\Desktop\\New folder (3)\\machine learning\\d88cc59e6c.jpg\n",
      "SUCCESS - saved https://encrypted-tbn0.gstatic.com/images?q=tbn:ANd9GcSWgru6T-sgr3m-YtlRSCUFNhe32FASidvxYw&usqp=CAU - as C:\\Users\\saurabh\\OneDrive\\Desktop\\New folder (3)\\machine learning\\17321777e3.jpg\n",
      "SUCCESS - saved https://analyticsindiamag.com/wp-content/uploads/2020/01/Untitled-1114-01-scaled.jpg - as C:\\Users\\saurabh\\OneDrive\\Desktop\\New folder (3)\\machine learning\\e0c0f61f3d.jpg\n",
      "SUCCESS - saved https://encrypted-tbn0.gstatic.com/images?q=tbn:ANd9GcQPRh_bHRkCuP3PSyEYC_gw8mrKONs57eeBXw&usqp=CAU - as C:\\Users\\saurabh\\OneDrive\\Desktop\\New folder (3)\\machine learning\\ee382542a6.jpg\n",
      "SUCCESS - saved https://www.sas.com/en_in/insights/analytics/machine-learning/_jcr_content/par/styledcontainer_31e3/image.img.jpg/1552072303207.jpg - as C:\\Users\\saurabh\\OneDrive\\Desktop\\New folder (3)\\machine learning\\92feb3745f.jpg\n",
      "SUCCESS - saved https://encrypted-tbn0.gstatic.com/images?q=tbn:ANd9GcQ23TmEn4CuA0-i4dlSudWL6Mq_ddhVGBAKMQ&usqp=CAU - as C:\\Users\\saurabh\\OneDrive\\Desktop\\New folder (3)\\machine learning\\9f4b7b3093.jpg\n",
      "SUCCESS - saved https://it-novum.com/fileadmin/_processed_/csm_Machine_Learning_in_der_praxis_b6dc0befc0.jpg - as C:\\Users\\saurabh\\OneDrive\\Desktop\\New folder (3)\\machine learning\\97ace7ad64.jpg\n",
      "SUCCESS - saved https://encrypted-tbn0.gstatic.com/images?q=tbn:ANd9GcTolY6xPXK9bWaMdIh4PyzpPOVbuAdmnRLavA&usqp=CAU - as C:\\Users\\saurabh\\OneDrive\\Desktop\\New folder (3)\\machine learning\\8b889bd76b.jpg\n",
      "SUCCESS - saved https://assets.entrepreneur.com/content/3x2/2000/20190826134910-GettyImages-1132912604.jpeg - as C:\\Users\\saurabh\\OneDrive\\Desktop\\New folder (3)\\machine learning\\da28897530.jpg\n",
      "SUCCESS - saved https://encrypted-tbn0.gstatic.com/images?q=tbn:ANd9GcR7j4ASNxTH7SfD3heeO9eFXPxDPhF2_no5eA&usqp=CAU - as C:\\Users\\saurabh\\OneDrive\\Desktop\\New folder (3)\\machine learning\\19c1398559.jpg\n",
      "SUCCESS - saved https://encrypted-tbn0.gstatic.com/images?q=tbn:ANd9GcR9wpAMaeS-HvhvLAiZ4Vf0hE61O7TTmXStKw&usqp=CAU - as C:\\Users\\saurabh\\OneDrive\\Desktop\\New folder (3)\\machine learning\\f4df7c04fc.jpg\n",
      "SUCCESS - saved https://appen.com/wp-content/uploads/2018/09/machine-learning-wiki.jpg - as C:\\Users\\saurabh\\OneDrive\\Desktop\\New folder (3)\\machine learning\\0e8d88f437.jpg\n",
      "SUCCESS - saved https://encrypted-tbn0.gstatic.com/images?q=tbn:ANd9GcRn7H2VpgHCwX0H_obQrFAjk3LqSmAhHn3TVg&usqp=CAU - as C:\\Users\\saurabh\\OneDrive\\Desktop\\New folder (3)\\machine learning\\72b53c027d.jpg\n",
      "SUCCESS - saved https://www.expert.ai/wp-content/uploads/2017/03/machine-learning-definition.jpeg - as C:\\Users\\saurabh\\OneDrive\\Desktop\\New folder (3)\\machine learning\\b99c7e4276.jpg\n",
      "SUCCESS - saved https://encrypted-tbn0.gstatic.com/images?q=tbn:ANd9GcT5sN83LcL1q_Gs6wTuepkBYdRe5QcVDosaXw&usqp=CAU - as C:\\Users\\saurabh\\OneDrive\\Desktop\\New folder (3)\\machine learning\\2272fa6038.jpg\n",
      "SUCCESS - saved https://www.bbva.com/wp-content/uploads/2019/11/machine-learning-1920x1180.jpg - as C:\\Users\\saurabh\\OneDrive\\Desktop\\New folder (3)\\machine learning\\6cb376e521.jpg\n",
      "SUCCESS - saved https://encrypted-tbn0.gstatic.com/images?q=tbn:ANd9GcRzRJpakJ-RzdUbwbpV71yooEuc3JfEF1UT4g&usqp=CAU - as C:\\Users\\saurabh\\OneDrive\\Desktop\\New folder (3)\\machine learning\\5721be93ef.jpg\n",
      "SUCCESS - saved https://www.thermofisher.com/blog/connectedlab/wp-content/uploads/sites/14/2020/01/istock-962219860-2-scaled.jpg - as C:\\Users\\saurabh\\OneDrive\\Desktop\\New folder (3)\\machine learning\\562322d04b.jpg\n",
      "SUCCESS - saved https://encrypted-tbn0.gstatic.com/images?q=tbn:ANd9GcRzz65QTElWNGlIyro_M8oOZWm3DXYb9gtR5Q&usqp=CAU - as C:\\Users\\saurabh\\OneDrive\\Desktop\\New folder (3)\\machine learning\\1b19d11472.jpg\n",
      "SUCCESS - saved https://d1m75rqqgidzqn.cloudfront.net/2019/09/4-september-machine-learning-job-roles.jpg - as C:\\Users\\saurabh\\OneDrive\\Desktop\\New folder (3)\\machine learning\\b46a0e0326.jpg\n",
      "SUCCESS - saved https://miro.medium.com/max/2628/1*8wU0hfUY3UK_D8Y7tbIyFQ.png - as C:\\Users\\saurabh\\OneDrive\\Desktop\\New folder (3)\\machine learning\\4b4c004d7e.jpg\n",
      "SUCCESS - saved https://images.idgesg.net/images/article/2020/08/cso_ts_ai_ml_by-just_super-getty-images_2400x1600-100853892-large.jpg - as C:\\Users\\saurabh\\OneDrive\\Desktop\\New folder (3)\\machine learning\\4961c37a72.jpg\n",
      "SUCCESS - saved https://s3.amazonaws.com/prod-www-blackline-com/blog/wp-content/uploads/2019/01/29163118/A-Conversation-With-BlackLines-Machine-Learning-Experts.jpg - as C:\\Users\\saurabh\\OneDrive\\Desktop\\New folder (3)\\machine learning\\0c2428decd.jpg\n",
      "ERROR - Could not save https://lawtomated.com/wp-content/uploads/2019/04/MLvsDL.png - cannot identify image file <_io.BytesIO object at 0x000001FD75837B80>\n",
      "SUCCESS - saved https://home.sophos.com/en-us/medialibrary/Microsites/Home/SecurityCenter/ai-article-pic8.jpg - as C:\\Users\\saurabh\\OneDrive\\Desktop\\New folder (3)\\machine learning\\fc6b7194c7.jpg\n",
      "SUCCESS - saved https://encrypted-tbn0.gstatic.com/images?q=tbn:ANd9GcRaN312XqYdVjltYzam_pjIjF9apulVKt_IZQ&usqp=CAU - as C:\\Users\\saurabh\\OneDrive\\Desktop\\New folder (3)\\machine learning\\f6735a7d10.jpg\n"
     ]
    }
   ],
   "source": [
    "#Scraping images of fruits and machine learning\n",
    "\n",
    "\n",
    "#setting driver path\n",
    "DRIVER_PATH = r\"C:\\Users\\saurabh\\Downloads\\chromedriver_win32\\chromedriver.exe\"\n",
    "\n",
    "\n",
    "def fetch_image_urls(query:str, max_links_to_fetch:100, wd:webdriver, sleep_between_interactions:int=1):\n",
    "    def scroll_to_end(wd):\n",
    "        wd.execute_script(\"window.scrollTo(0, document.body.scrollHeight);\")\n",
    "        time.sleep(sleep_between_interactions)    \n",
    "    \n",
    "    # build the google query\n",
    "    search_url = \"https://www.google.com/search?safe=off&site=&tbm=isch&source=hp&q={q}&oq={q}&gs_l=img\"\n",
    "\n",
    "    # load the page\n",
    "    wd.get(search_url.format(q=query))\n",
    "\n",
    "    image_urls = set()\n",
    "    image_count = 0\n",
    "    results_start = 0\n",
    "    while image_count < max_links_to_fetch:\n",
    "        scroll_to_end(wd)\n",
    "\n",
    "        # get all image thumbnail results\n",
    "        thumbnail_results = wd.find_elements_by_css_selector(\"img.Q4LuWd\")\n",
    "        number_results = len(thumbnail_results)\n",
    "        \n",
    "        print(f\"Found: {number_results} search results. Extracting links from {results_start}:{number_results}\")\n",
    "        \n",
    "        for img in thumbnail_results[results_start:number_results]:\n",
    "            # try to click every thumbnail such that we can get the real image behind it\n",
    "            try:\n",
    "                img.click()\n",
    "                time.sleep(sleep_between_interactions)\n",
    "            except Exception:\n",
    "                continue\n",
    "\n",
    "            # extract image urls    \n",
    "            actual_images = wd.find_elements_by_css_selector('img.n3VNCb')\n",
    "            for actual_image in actual_images:\n",
    "                if actual_image.get_attribute('src') and 'http' in actual_image.get_attribute('src'):\n",
    "                    image_urls.add(actual_image.get_attribute('src'))\n",
    "\n",
    "            image_count = len(image_urls)\n",
    "\n",
    "            if len(image_urls) >= max_links_to_fetch:\n",
    "                print(f\"Found: {len(image_urls)} image links, done!\")\n",
    "                break\n",
    "        else:\n",
    "            print(\"Found:\", len(image_urls), \"image links, looking for more ...\")\n",
    "            time.sleep(30)\n",
    "            return\n",
    "            load_more_button = wd.find_element_by_css_selector(\".mye4qd\")\n",
    "            if load_more_button:\n",
    "                wd.execute_script(\"document.querySelector('.mye4qd').click();\")\n",
    "\n",
    "        # move the result startpoint further down\n",
    "        results_start = len(thumbnail_results)\n",
    "\n",
    "    return image_urls\n",
    "\n",
    "def persist_image(folder_path:str,file_name:str,url:str):\n",
    "    try:\n",
    "        image_content = requests.get(url).content\n",
    "\n",
    "    except Exception as e:\n",
    "        print(f\"ERROR - Could not download {url} - {e}\")\n",
    "\n",
    "    try:\n",
    "        image_file = io.BytesIO(image_content)\n",
    "        image = Image.open(image_file).convert('RGB')\n",
    "        folder_path = os.path.join(folder_path,file_name)\n",
    "        if os.path.exists(folder_path):\n",
    "            file_path = os.path.join(folder_path,hashlib.sha1(image_content).hexdigest()[:10] + '.jpg')\n",
    "        else:\n",
    "            os.mkdir(folder_path)\n",
    "            file_path = os.path.join(folder_path,hashlib.sha1(image_content).hexdigest()[:10] + '.jpg')\n",
    "        with open(file_path, 'wb') as f:\n",
    "            image.save(f, \"JPEG\", quality=85)\n",
    "        print(f\"SUCCESS - saved {url} - as {file_path}\")\n",
    "    except Exception as e:\n",
    "        print(f\"ERROR - Could not save {url} - {e}\")\n",
    "\n",
    "if __name__ == '__main__':\n",
    "    wd = webdriver.Chrome(executable_path=DRIVER_PATH)\n",
    "    queries = [\"fruits\",\"machine learning\"]  #set of querries\n",
    "    for query in queries:\n",
    "        wd.get('https://google.com')\n",
    "        search_box = wd.find_element_by_css_selector('input.gLFyf')\n",
    "        search_box.send_keys(query)\n",
    "        links = fetch_image_urls(query,100,wd)\n",
    "        #give images path\n",
    "        images_path = r'C:\\Users\\saurabh\\OneDrive\\Desktop\\New folder (3)'\n",
    "        for i in links:\n",
    "            persist_image(images_path,query,i)\n",
    "    wd.quit()"
   ]
  },
  {
   "cell_type": "code",
   "execution_count": 71,
   "metadata": {},
   "outputs": [
    {
     "name": "stdout",
     "output_type": "stream",
     "text": [
      "What are you looking for? cars\n",
      "How many images do you want download? 100\n",
      "Start searching.....\n",
      "Downloading 80 images....\n",
      "Done\n",
      "Done\n",
      "Done\n",
      "Done\n",
      "Done\n",
      "Done\n",
      "Done\n",
      "Done\n",
      "Done\n",
      "Done\n",
      "Done\n",
      "Done\n",
      "Done\n",
      "Done\n",
      "Done\n",
      "Done\n",
      "Done\n",
      "Done\n",
      "Done\n",
      "Done\n",
      "Done\n",
      "Done\n",
      "Done\n",
      "Done\n",
      "Done\n",
      "Done\n",
      "Done\n",
      "Done\n",
      "Done\n",
      "Done\n",
      "Done\n",
      "Done\n",
      "Done\n",
      "Done\n",
      "Done\n",
      "Done\n",
      "Done\n",
      "Done\n",
      "Done\n",
      "Done\n",
      "Done\n",
      "Done\n",
      "Done\n",
      "Done\n",
      "Done\n",
      "Done\n",
      "Done\n",
      "Done\n",
      "Done\n",
      "Done\n",
      "Done\n",
      "Done\n",
      "Done\n",
      "Done\n",
      "Done\n",
      "Done\n",
      "Done\n",
      "Done\n",
      "Done\n",
      "Done\n",
      "Done\n",
      "Done\n",
      "Done\n",
      "Done\n",
      "Done\n",
      "Done\n",
      "Done\n",
      "Done\n",
      "Done\n",
      "Done\n",
      "Done\n",
      "Done\n",
      "Done\n",
      "Done\n",
      "Done\n",
      "Done\n",
      "Done\n",
      "Done\n",
      "Done\n",
      "Done\n"
     ]
    }
   ],
   "source": [
    "#scraping images of cars\n",
    "\n",
    "# user can input a topic and a number\n",
    "# download first n images from google image search\n",
    "\n",
    "GOOGLE_IMAGE = \\\n",
    "    'https://www.google.com/search?site=&tbm=isch&source=hp&biw=1873&bih=990&'\n",
    "\n",
    "\n",
    "usr_agent = {\n",
    "    'User-Agent': 'Mozilla/5.0 (Windows NT 10.0; Win64; x64) AppleWebKit/537.36 (KHTML, like Gecko) Chrome/88.0.4324.104 Safari/537.36',\n",
    "    'Accept': 'text/html,application/xhtml+xml,application/xml;q=0.9,*/*;q=0.8',\n",
    "    'Accept-Charset': 'ISO-8859-1,utf-8;q=0.7,*;q=0.3',\n",
    "    'Accept-Encoding': 'none',\n",
    "    'Accept-Language': 'en-US,en;q=0.8',\n",
    "    'Connection': 'keep-alive',\n",
    "}\n",
    "\n",
    "SAVE_FOLDER = 'images'\n",
    "\n",
    "def main():\n",
    "    if not os.path.exists(SAVE_FOLDER):\n",
    "        os.mkdir(SAVE_FOLDER)\n",
    "    download_images()\n",
    "\n",
    "\n",
    "def download_images():\n",
    "    data = input('What are you looking for? ')\n",
    "    n_images = int(input('How many images do you want download? '))\n",
    "\n",
    "    print('Start searching.....')\n",
    "    searchurl = GOOGLE_IMAGE + 'q=' + data\n",
    "\n",
    "    # request url, without usr_agent, the permission gets denied\n",
    "    response = requests.get(searchurl, headers=usr_agent)\n",
    "\n",
    "    # find all divs where class='rg_meta'\n",
    "    soup = BeautifulSoup(response.text, 'html.parser')\n",
    "    results = soup.findAll('img', {'class': 'rg_i Q4LuWd'})\n",
    "\n",
    "    # gathering requested number of list of image links with data-src attribute\n",
    "    # continue the loop in case query fails for non-data-src attributes\n",
    "    count = 0\n",
    "    links = []\n",
    "    for res in results:\n",
    "        try:\n",
    "            link = res['data-src']\n",
    "            links.append(link)\n",
    "            count += 1\n",
    "            if (count >= n_images): break\n",
    "\n",
    "        except KeyError:\n",
    "            continue\n",
    "\n",
    "    print(f'Downloading {len(links)} images....')\n",
    "\n",
    "    # Access the data URI and download the image to a file\n",
    "    for i, link in enumerate(links):\n",
    "        response = requests.get(link)\n",
    "\n",
    "        image_name = SAVE_FOLDER + '/' + data + str(i + 1) + '.jpg'\n",
    "        with open(image_name, 'wb') as fh:\n",
    "            fh.write(response.content)\n",
    "            \n",
    "        print('Done')\n",
    "\n",
    "\n",
    "if __name__ == '__main__':\n",
    "    main()"
   ]
  },
  {
   "cell_type": "markdown",
   "metadata": {},
   "source": [
    "### 4. Write a python program to search for a smartphone(e.g.: Oneplus Nord, pixel 4A, etc.) on www.flipkart.com and scrape following details for all the search results displayed on 1st page.Details to be scraped: “Brand Name”, “Smartphone name”, “Colour”, “RAM”, “Storage(ROM)”, “Primary Camera”, “Secondary Camera”, “Display Size”, “Display Resolution”, “Processor”, “Processor Cores”, “Battery Capacity”, “Price”, “Product URL”. Incase if any of the details is missing then replace it by “- “. Save your results in a dataframe and CSV."
   ]
  },
  {
   "cell_type": "code",
   "execution_count": 79,
   "metadata": {},
   "outputs": [],
   "source": [
    "#connecting to the webdriver\n",
    "driver = webdriver.Chrome(r\"C:\\Users\\saurabh\\Downloads\\chromedriver_win32\\chromedriver.exe\")"
   ]
  },
  {
   "cell_type": "code",
   "execution_count": 80,
   "metadata": {},
   "outputs": [],
   "source": [
    "#specifying the url of the webpage to be scraped\n",
    "url=\"https://www.flipkart.com/\""
   ]
  },
  {
   "cell_type": "code",
   "execution_count": 81,
   "metadata": {},
   "outputs": [],
   "source": [
    "#opening the webpage through our driver\n",
    "driver.get(url)"
   ]
  },
  {
   "cell_type": "code",
   "execution_count": 82,
   "metadata": {},
   "outputs": [
    {
     "name": "stdout",
     "output_type": "stream",
     "text": [
      "Input the string you want to search for:samsung m31\n"
     ]
    }
   ],
   "source": [
    "# Taking input from user \n",
    "search_string = input(\"Input the string you want to search for:\")\n",
    "\n",
    "#generate a url from search string\n",
    "url= driver.get(\"https://www.flipkart.com/search?q=\"+search_string+\"&as=on&as-show=on&otracker=AS_Query_OrganicAutoSuggest_4_8_na_na_ps&otracker1=AS_Query_OrganicAutoSuggest_4_8_na_na_ps&as-pos=4&as-type=RECENT&suggestionId=samsung+m31&requestId=5c8b7098-e268-4146-b626-2617dd872a64&as-searchtext=samsung%20\")"
   ]
  },
  {
   "cell_type": "code",
   "execution_count": 84,
   "metadata": {},
   "outputs": [],
   "source": [
    "#getting the list of url of samsung m31\n",
    "Phone_URL=[]\n",
    "\n",
    "\n",
    "phone=driver.find_elements_by_xpath(\"//div[@class='_2kHMtA']\")\n",
    "for i in phone:\n",
    "    phone1=i.find_element_by_tag_name(\"a\")\n",
    "    Phone_URL.append(phone1.get_attribute('href'))"
   ]
  },
  {
   "cell_type": "code",
   "execution_count": 85,
   "metadata": {},
   "outputs": [
    {
     "data": {
      "text/plain": [
       "['https://www.flipkart.com/samsung-galaxy-m31-ocean-blue-128-gb/p/itm1d7db8f4e2fec?pid=MOBFPNPSZYJXQZCM&lid=LSTMOBFPNPSZYJXQZCMEJJKKJ&marketplace=FLIPKART&srno=s_1_1&otracker=AS_Query_OrganicAutoSuggest_4_8_na_na_ps&otracker1=AS_Query_OrganicAutoSuggest_4_8_na_na_ps&fm=organic&iid=defbae9d-b65e-41e7-9115-d627bb6c7a28.MOBFPNPSZYJXQZCM.SEARCH&ssid=5p3dg38bvk0000001612358914475&qH=72c0d4f69be69bf9',\n",
       " 'https://www.flipkart.com/samsung-galaxy-m31-space-black-128-gb/p/itmeb29fb2c00580?pid=MOBFPNPS6QGTKBQB&lid=LSTMOBFPNPS6QGTKBQBH8ECKJ&marketplace=FLIPKART&srno=s_1_2&otracker=AS_Query_OrganicAutoSuggest_4_8_na_na_ps&otracker1=AS_Query_OrganicAutoSuggest_4_8_na_na_ps&fm=organic&iid=defbae9d-b65e-41e7-9115-d627bb6c7a28.MOBFPNPS6QGTKBQB.SEARCH&ssid=5p3dg38bvk0000001612358914475&qH=72c0d4f69be69bf9',\n",
       " 'https://www.flipkart.com/samsung-galaxy-m31-iceberg-blue-128-gb/p/itmed6043337ac0e?pid=MOBFYZ8Y9VJNACEM&lid=LSTMOBFYZ8Y9VJNACEMEBJFED&marketplace=FLIPKART&srno=s_1_3&otracker=AS_Query_OrganicAutoSuggest_4_8_na_na_ps&otracker1=AS_Query_OrganicAutoSuggest_4_8_na_na_ps&fm=organic&iid=defbae9d-b65e-41e7-9115-d627bb6c7a28.MOBFYZ8Y9VJNACEM.SEARCH&ssid=5p3dg38bvk0000001612358914475&qH=72c0d4f69be69bf9',\n",
       " 'https://www.flipkart.com/samsung-galaxy-m31-space-black-64-gb/p/itme0c5a25c1e64a?pid=MOBFPNPSZWQ7YKGH&lid=LSTMOBFPNPSZWQ7YKGHJVDEYX&marketplace=FLIPKART&srno=s_1_4&otracker=AS_Query_OrganicAutoSuggest_4_8_na_na_ps&otracker1=AS_Query_OrganicAutoSuggest_4_8_na_na_ps&fm=organic&iid=defbae9d-b65e-41e7-9115-d627bb6c7a28.MOBFPNPSZWQ7YKGH.SEARCH&ssid=5p3dg38bvk0000001612358914475&qH=72c0d4f69be69bf9',\n",
       " 'https://www.flipkart.com/samsung-galaxy-m31s-mirage-blue-128-gb/p/itmad022b9abd4b6?pid=MOBFUYMQUW5EKE7R&lid=LSTMOBFUYMQUW5EKE7RLIUFCT&marketplace=FLIPKART&srno=s_1_5&otracker=AS_Query_OrganicAutoSuggest_4_8_na_na_ps&otracker1=AS_Query_OrganicAutoSuggest_4_8_na_na_ps&fm=organic&iid=defbae9d-b65e-41e7-9115-d627bb6c7a28.MOBFUYMQUW5EKE7R.SEARCH&ssid=5p3dg38bvk0000001612358914475&qH=72c0d4f69be69bf9',\n",
       " 'https://www.flipkart.com/samsung-galaxy-m31s-mirage-black-128-gb/p/itmb9b4be5c16ee2?pid=MOBFV25HNQP3VNGP&lid=LSTMOBFV25HNQP3VNGP4KHXN1&marketplace=FLIPKART&srno=s_1_6&otracker=AS_Query_OrganicAutoSuggest_4_8_na_na_ps&otracker1=AS_Query_OrganicAutoSuggest_4_8_na_na_ps&fm=organic&iid=defbae9d-b65e-41e7-9115-d627bb6c7a28.MOBFV25HNQP3VNGP.SEARCH&ssid=5p3dg38bvk0000001612358914475&qH=72c0d4f69be69bf9',\n",
       " 'https://www.flipkart.com/samsung-galaxy-m31-ocean-blue-128-gb/p/itm1e7ce328b07b6?pid=MOBFUYQTFBAYCFKG&lid=LSTMOBFUYQTFBAYCFKGG98HR9&marketplace=FLIPKART&srno=s_1_7&otracker=AS_Query_OrganicAutoSuggest_4_8_na_na_ps&otracker1=AS_Query_OrganicAutoSuggest_4_8_na_na_ps&fm=organic&iid=defbae9d-b65e-41e7-9115-d627bb6c7a28.MOBFUYQTFBAYCFKG.SEARCH&ssid=5p3dg38bvk0000001612358914475&qH=72c0d4f69be69bf9',\n",
       " 'https://www.flipkart.com/samsung-galaxy-m31-ocean-blue-64-gb/p/itm1268b57512fb8?pid=MOBFPNPS6GTGZHE4&lid=LSTMOBFPNPS6GTGZHE4EW3YIZ&marketplace=FLIPKART&srno=s_1_8&otracker=AS_Query_OrganicAutoSuggest_4_8_na_na_ps&otracker1=AS_Query_OrganicAutoSuggest_4_8_na_na_ps&fm=organic&iid=defbae9d-b65e-41e7-9115-d627bb6c7a28.MOBFPNPS6GTGZHE4.SEARCH&ssid=5p3dg38bvk0000001612358914475&qH=72c0d4f69be69bf9',\n",
       " 'https://www.flipkart.com/samsung-galaxy-m31-space-black-128-gb/p/itma3f6d335a52e8?pid=MOBFUYQTCWZVMGEK&lid=LSTMOBFUYQTCWZVMGEKQKS2NP&marketplace=FLIPKART&srno=s_1_9&otracker=AS_Query_OrganicAutoSuggest_4_8_na_na_ps&otracker1=AS_Query_OrganicAutoSuggest_4_8_na_na_ps&fm=organic&iid=defbae9d-b65e-41e7-9115-d627bb6c7a28.MOBFUYQTCWZVMGEK.SEARCH&ssid=5p3dg38bvk0000001612358914475&qH=72c0d4f69be69bf9',\n",
       " 'https://www.flipkart.com/samsung-galaxy-m31s-mirage-black-128-gb/p/itm34ee37ee1d8a0?pid=MOBFVWCTZYMFQH3J&lid=LSTMOBFVWCTZYMFQH3JUFV46U&marketplace=FLIPKART&srno=s_1_10&otracker=AS_Query_OrganicAutoSuggest_4_8_na_na_ps&otracker1=AS_Query_OrganicAutoSuggest_4_8_na_na_ps&fm=organic&iid=defbae9d-b65e-41e7-9115-d627bb6c7a28.MOBFVWCTZYMFQH3J.SEARCH&ssid=5p3dg38bvk0000001612358914475&qH=72c0d4f69be69bf9',\n",
       " 'https://www.flipkart.com/samsung-m31-prime-space-black-128-gb/p/itm665ecf78db868?pid=MOBFX77NDJXMDZZY&lid=LSTMOBFX77NDJXMDZZY68Q6PN&marketplace=FLIPKART&srno=s_1_11&otracker=AS_Query_OrganicAutoSuggest_4_8_na_na_ps&otracker1=AS_Query_OrganicAutoSuggest_4_8_na_na_ps&fm=organic&iid=defbae9d-b65e-41e7-9115-d627bb6c7a28.MOBFX77NDJXMDZZY.SEARCH&ssid=5p3dg38bvk0000001612358914475&qH=72c0d4f69be69bf9',\n",
       " 'https://www.flipkart.com/samsung-galaxy-a31-prism-crush-black-128-gb/p/itm629da21d10cba?pid=MOBFRZZHWPX3YG2J&lid=LSTMOBFRZZHWPX3YG2JP5DVNQ&marketplace=FLIPKART&srno=s_1_12&otracker=AS_Query_OrganicAutoSuggest_4_8_na_na_ps&otracker1=AS_Query_OrganicAutoSuggest_4_8_na_na_ps&fm=organic&iid=defbae9d-b65e-41e7-9115-d627bb6c7a28.MOBFRZZHWPX3YG2J.SEARCH&ssid=5p3dg38bvk0000001612358914475&qH=72c0d4f69be69bf9',\n",
       " 'https://www.flipkart.com/samsung-m31-prime-ocean-blue-128-gb/p/itm7c94a171225f2?pid=MOBFWVNZNW8D8BJK&lid=LSTMOBFWVNZNW8D8BJKEWSC3C&marketplace=FLIPKART&srno=s_1_13&otracker=AS_Query_OrganicAutoSuggest_4_8_na_na_ps&otracker1=AS_Query_OrganicAutoSuggest_4_8_na_na_ps&fm=organic&iid=defbae9d-b65e-41e7-9115-d627bb6c7a28.MOBFWVNZNW8D8BJK.SEARCH&ssid=5p3dg38bvk0000001612358914475&qH=72c0d4f69be69bf9',\n",
       " 'https://www.flipkart.com/samsung-m31s-mirage-blue-128-gb/p/itm3c444f9c5c566?pid=MOBFUZYBUZWNKB6G&lid=LSTMOBFUZYBUZWNKB6GMMORRN&marketplace=FLIPKART&srno=s_1_14&otracker=AS_Query_OrganicAutoSuggest_4_8_na_na_ps&otracker1=AS_Query_OrganicAutoSuggest_4_8_na_na_ps&fm=organic&iid=defbae9d-b65e-41e7-9115-d627bb6c7a28.MOBFUZYBUZWNKB6G.SEARCH&ssid=5p3dg38bvk0000001612358914475&qH=72c0d4f69be69bf9',\n",
       " 'https://www.flipkart.com/samsung-m31-prime-iceberg-blue-128-gb/p/itmf7ad901340407?pid=MOBFWVRYQ8DRGQEB&lid=LSTMOBFWVRYQ8DRGQEBH0SNGJ&marketplace=FLIPKART&srno=s_1_15&otracker=AS_Query_OrganicAutoSuggest_4_8_na_na_ps&otracker1=AS_Query_OrganicAutoSuggest_4_8_na_na_ps&fm=organic&iid=defbae9d-b65e-41e7-9115-d627bb6c7a28.MOBFWVRYQ8DRGQEB.SEARCH&ssid=5p3dg38bvk0000001612358914475&qH=72c0d4f69be69bf9',\n",
       " 'https://www.flipkart.com/samsung-m31-prime-iceberg-blue-64-gb/p/itmac5ff891a3a91?pid=MOBFWS6DVDFRXWDV&lid=LSTMOBFWS6DVDFRXWDVS4WLO1&marketplace=FLIPKART&srno=s_1_16&otracker=AS_Query_OrganicAutoSuggest_4_8_na_na_ps&otracker1=AS_Query_OrganicAutoSuggest_4_8_na_na_ps&fm=organic&iid=defbae9d-b65e-41e7-9115-d627bb6c7a28.MOBFWS6DVDFRXWDV.SEARCH&ssid=5p3dg38bvk0000001612358914475&qH=72c0d4f69be69bf9',\n",
       " 'https://www.flipkart.com/samsung-m31-prime-ocean-blue-64-gb/p/itmbbba42d2d32d6?pid=MOBFWS622SPGF23H&lid=LSTMOBFWS622SPGF23HP187RH&marketplace=FLIPKART&srno=s_1_17&otracker=AS_Query_OrganicAutoSuggest_4_8_na_na_ps&otracker1=AS_Query_OrganicAutoSuggest_4_8_na_na_ps&fm=organic&iid=defbae9d-b65e-41e7-9115-d627bb6c7a28.MOBFWS622SPGF23H.SEARCH&ssid=5p3dg38bvk0000001612358914475&qH=72c0d4f69be69bf9',\n",
       " 'https://www.flipkart.com/samsung-galaxy-a31-prism-crush-blue-128-gb/p/itmca37dc47f1c6a?pid=MOBFRZZHH4WHKZCW&lid=LSTMOBFRZZHH4WHKZCWSOSBOT&marketplace=FLIPKART&srno=s_1_18&otracker=AS_Query_OrganicAutoSuggest_4_8_na_na_ps&otracker1=AS_Query_OrganicAutoSuggest_4_8_na_na_ps&fm=organic&iid=defbae9d-b65e-41e7-9115-d627bb6c7a28.MOBFRZZHH4WHKZCW.SEARCH&ssid=5p3dg38bvk0000001612358914475&qH=72c0d4f69be69bf9',\n",
       " 'https://www.flipkart.com/samsung-galaxy-a31-prism-crush-white-128-gb/p/itma110137399bdc?pid=MOBFRZZHFMBJC4A6&lid=LSTMOBFRZZHFMBJC4A67RUS3Y&marketplace=FLIPKART&srno=s_1_19&otracker=AS_Query_OrganicAutoSuggest_4_8_na_na_ps&otracker1=AS_Query_OrganicAutoSuggest_4_8_na_na_ps&fm=organic&iid=defbae9d-b65e-41e7-9115-d627bb6c7a28.MOBFRZZHFMBJC4A6.SEARCH&ssid=5p3dg38bvk0000001612358914475&qH=72c0d4f69be69bf9',\n",
       " 'https://www.flipkart.com/samsung-m01-core-blue-16-gb/p/itma9e257004962e?pid=MOBFUAEBBSAWG6HG&lid=LSTMOBFUAEBBSAWG6HGZVOKCN&marketplace=FLIPKART&srno=s_1_20&otracker=AS_Query_OrganicAutoSuggest_4_8_na_na_ps&otracker1=AS_Query_OrganicAutoSuggest_4_8_na_na_ps&fm=organic&iid=defbae9d-b65e-41e7-9115-d627bb6c7a28.MOBFUAEBBSAWG6HG.SEARCH&ssid=5p3dg38bvk0000001612358914475&qH=72c0d4f69be69bf9',\n",
       " 'https://www.flipkart.com/samsung-m01-core-black-16-gb/p/itmcc59efe93b40b?pid=MOBFUAEBGZKRFGHX&lid=LSTMOBFUAEBGZKRFGHXPIX4RG&marketplace=FLIPKART&srno=s_1_21&otracker=AS_Query_OrganicAutoSuggest_4_8_na_na_ps&otracker1=AS_Query_OrganicAutoSuggest_4_8_na_na_ps&fm=organic&iid=defbae9d-b65e-41e7-9115-d627bb6c7a28.MOBFUAEBGZKRFGHX.SEARCH&ssid=5p3dg38bvk0000001612358914475&qH=72c0d4f69be69bf9',\n",
       " 'https://www.flipkart.com/samsung-m01-core-red-16-gb/p/itmc0e7614fd579e?pid=MOBFUAGV5QW3MMZW&lid=LSTMOBFUAGV5QW3MMZWDVFGXG&marketplace=FLIPKART&srno=s_1_22&otracker=AS_Query_OrganicAutoSuggest_4_8_na_na_ps&otracker1=AS_Query_OrganicAutoSuggest_4_8_na_na_ps&fm=organic&iid=defbae9d-b65e-41e7-9115-d627bb6c7a28.MOBFUAGV5QW3MMZW.SEARCH&ssid=5p3dg38bvk0000001612358914475&qH=72c0d4f69be69bf9',\n",
       " 'https://www.flipkart.com/samsung-galaxy-j7-nxt-black-16-gb/p/itmevyzyxnggkza6?pid=MOBEVYZYWYEQVJK7&lid=LSTMOBEVYZYWYEQVJK7W2JP1X&marketplace=FLIPKART&srno=s_1_23&otracker=AS_Query_OrganicAutoSuggest_4_8_na_na_ps&otracker1=AS_Query_OrganicAutoSuggest_4_8_na_na_ps&fm=organic&iid=defbae9d-b65e-41e7-9115-d627bb6c7a28.MOBEVYZYWYEQVJK7.SEARCH&ssid=5p3dg38bvk0000001612358914475&qH=72c0d4f69be69bf9',\n",
       " 'https://www.flipkart.com/samsung-galaxy-j2-core-gold-16-gb/p/itma146cca7fb396?pid=MOBFQ29NNU5T5BCB&lid=LSTMOBFQ29NNU5T5BCBQFXU8I&marketplace=FLIPKART&srno=s_1_24&otracker=AS_Query_OrganicAutoSuggest_4_8_na_na_ps&otracker1=AS_Query_OrganicAutoSuggest_4_8_na_na_ps&fm=organic&iid=defbae9d-b65e-41e7-9115-d627bb6c7a28.MOBFQ29NNU5T5BCB.SEARCH&ssid=5p3dg38bvk0000001612358914475&qH=72c0d4f69be69bf9']"
      ]
     },
     "execution_count": 85,
     "metadata": {},
     "output_type": "execute_result"
    }
   ],
   "source": [
    "Phone_URL"
   ]
  },
  {
   "cell_type": "code",
   "execution_count": 86,
   "metadata": {},
   "outputs": [
    {
     "data": {
      "text/plain": [
       "24"
      ]
     },
     "execution_count": 86,
     "metadata": {},
     "output_type": "execute_result"
    }
   ],
   "source": [
    "#checking the length\n",
    "len(Phone_URL)"
   ]
  },
  {
   "cell_type": "code",
   "execution_count": 169,
   "metadata": {},
   "outputs": [],
   "source": [
    "#going to the url of first phone through our driver\n",
    "driver.get(Phone_URL[0])"
   ]
  },
  {
   "cell_type": "code",
   "execution_count": 170,
   "metadata": {},
   "outputs": [],
   "source": [
    "#creating empty lists\n",
    "\n",
    "brand_name=[]\n",
    "smartphone_name=[]\n",
    "colour=[]\n",
    "ram=[]\n",
    "rom=[]\n",
    "primary_camera=[]\n",
    "secondary_camera=[]\n",
    "display_size=[]\n",
    "display_resolution=[]\n",
    "processor=[]\n",
    "processor_cores=[]\n",
    "battery_capacity=[]\n",
    "price=[]"
   ]
  },
  {
   "cell_type": "code",
   "execution_count": 171,
   "metadata": {},
   "outputs": [
    {
     "name": "stderr",
     "output_type": "stream",
     "text": [
      "100%|██████████| 24/24 [02:35<00:00,  6.48s/it]\n"
     ]
    }
   ],
   "source": [
    "#running a loop to extract all the required information from the Phone_URL\n",
    "from selenium.webdriver.common.by import By\n",
    "from selenium.webdriver.support.ui import WebDriverWait\n",
    "from selenium.webdriver.support import expected_conditions as EC\n",
    "from tqdm import tqdm\n",
    "for i in tqdm(Phone_URL):\n",
    "    driver.get(i)\n",
    "    \n",
    "    #try:\n",
    "    #driver.find_element_by_link_text('Read More').click()\n",
    "    #except NoSuchElementException:\n",
    "        #driver.find_element_by_css_selector('#container > div > div._2c7YLP.UtUXW0._6t1WkM._3HqJxg > div._1YokD2._2GoDe3 > div._1YokD2._3Mn1Gg.col-8-12 > div._1YokD2._3Mn1Gg > div:nth-child(4) > div > div:nth-child(2) > button').click()\n",
    "    WebDriverWait(driver, 10).until(EC.presence_of_element_located((By.XPATH, '//button[text()=\"Read More\"]'))).click()\n",
    "    \n",
    "    try:\n",
    "        phone=driver.find_element_by_xpath('//*[@id=\"container\"]/div/div[3]/div[1]/div[2]/div[2]/div/div[1]/h1/span').text\n",
    "        smartphone_name.append(phone)\n",
    "    except NoSuchElementException:\n",
    "        smartphone_name.append(\"-\")\n",
    "    try:\n",
    "        Colour=driver.find_element_by_css_selector('#container > div > div._2c7YLP.UtUXW0._6t1WkM._3HqJxg > div._1YokD2._2GoDe3 > div._1YokD2._3Mn1Gg.col-8-12 > div._1YokD2._3Mn1Gg > div:nth-child(4) > div > div:nth-child(2) > div._1UhVsV > div:nth-child(1) > table > tbody > tr:nth-child(4) > td.URwL2w.col.col-9-12 > ul > li').text\n",
    "        colour.append(Colour)\n",
    "    except NoSuchElementException:\n",
    "        colour.append(\"-\")\n",
    "    try:\n",
    "        RAM=driver.find_element_by_css_selector('#container > div > div._2c7YLP.UtUXW0._6t1WkM._3HqJxg > div._1YokD2._2GoDe3 > div._1YokD2._3Mn1Gg.col-8-12 > div._1YokD2._3Mn1Gg > div:nth-child(4) > div > div:nth-child(2) > div._1UhVsV > div:nth-child(4) > table > tbody > tr:nth-child(2) > td.URwL2w.col.col-9-12 > ul > li').text\n",
    "        ram.append(RAM)\n",
    "    except NoSuchElementException:\n",
    "        ram.append(\"-\")\n",
    "        \n",
    "    try:\n",
    "        ROM=driver.find_element_by_css_selector('#container > div > div._2c7YLP.UtUXW0._6t1WkM._3HqJxg > div._1YokD2._2GoDe3 > div._1YokD2._3Mn1Gg.col-8-12 > div._1YokD2._3Mn1Gg > div:nth-child(4) > div > div:nth-child(2) > div._1UhVsV > div:nth-child(4) > table > tbody > tr:nth-child(1) > td.URwL2w.col.col-9-12 > ul > li').text\n",
    "        rom.append(ROM)\n",
    "    except NoSuchElementException:\n",
    "        rom.append(\"-\")\n",
    "        \n",
    "    try:\n",
    "        Camera=driver.find_element_by_css_selector('#container > div > div._2c7YLP.UtUXW0._6t1WkM._3HqJxg > div._1YokD2._2GoDe3 > div._1YokD2._3Mn1Gg.col-8-12 > div._1YokD2._3Mn1Gg > div:nth-child(4) > div > div:nth-child(2) > div._1UhVsV > div:nth-child(5) > table > tbody > tr:nth-child(2) > td.URwL2w.col.col-9-12 > ul > li').text\n",
    "        primary_camera.append(Camera)\n",
    "    except NoSuchElementException:\n",
    "        primary_camera.append(\"-\")\n",
    "        \n",
    "    try:\n",
    "        Camera_=driver.find_element_by_css_selector('#container > div > div._2c7YLP.UtUXW0._6t1WkM._3HqJxg > div._1YokD2._2GoDe3 > div._1YokD2._3Mn1Gg.col-8-12 > div._1YokD2._3Mn1Gg > div:nth-child(4) > div > div:nth-child(2) > div._1UhVsV > div:nth-child(5) > table > tbody > tr:nth-child(5) > td.URwL2w.col.col-9-12 > ul > li').text\n",
    "        secondary_camera.append(Camera_)\n",
    "    except NoSuchElementException:\n",
    "        secondary_camera.append(\"-\")\n",
    "        \n",
    "    try:\n",
    "        Display=driver.find_element_by_css_selector('#container > div > div._2c7YLP.UtUXW0._6t1WkM._3HqJxg > div._1YokD2._2GoDe3 > div._1YokD2._3Mn1Gg.col-8-12 > div._1YokD2._3Mn1Gg > div:nth-child(4) > div > div:nth-child(2) > div._1UhVsV > div:nth-child(2) > table > tbody > tr:nth-child(1) > td.URwL2w.col.col-9-12 > ul > li').text\n",
    "        display_size.append(Display)\n",
    "    except NoSuchElementException:\n",
    "        display_size.append(\"-\")\n",
    "        \n",
    "    try:\n",
    "        Display_=driver.find_element_by_css_selector('#container > div > div._2c7YLP.UtUXW0._6t1WkM._3HqJxg > div._1YokD2._2GoDe3 > div._1YokD2._3Mn1Gg.col-8-12 > div._1YokD2._3Mn1Gg > div:nth-child(4) > div > div:nth-child(2) > div._1UhVsV > div:nth-child(2) > table > tbody > tr:nth-child(2) > td.URwL2w.col.col-9-12 > ul > li').text\n",
    "        display_resolution.append(Display_)\n",
    "    except NoSuchElementException:\n",
    "        display_resolution.append(\"-\")\n",
    "        \n",
    "    try:\n",
    "        Processor=driver.find_element_by_css_selector('#container > div > div._2c7YLP.UtUXW0._6t1WkM._3HqJxg > div._1YokD2._2GoDe3 > div._1YokD2._3Mn1Gg.col-8-12 > div._1YokD2._3Mn1Gg > div:nth-child(4) > div > div:nth-child(2) > div._1UhVsV > div:nth-child(3) > table > tbody > tr:nth-child(2) > td.URwL2w.col.col-9-12 > ul > li').text\n",
    "        processor.append(Processor)\n",
    "    except NoSuchElementException:\n",
    "        processor.append(\"-\")\n",
    "        \n",
    "    try:\n",
    "        Cores=driver.find_element_by_css_selector('#container > div > div._2c7YLP.UtUXW0._6t1WkM._3HqJxg > div._1YokD2._2GoDe3 > div._1YokD2._3Mn1Gg.col-8-12 > div._1YokD2._3Mn1Gg > div:nth-child(4) > div > div:nth-child(2) > div._1UhVsV > div:nth-child(3) > table > tbody > tr:nth-child(3) > td.URwL2w.col.col-9-12 > ul > li').text\n",
    "        processor_cores.append(Cores)\n",
    "    except NoSuchElementException:\n",
    "        processor_cores.append(\"-\")\n",
    "        \n",
    "    try:\n",
    "        Battery=driver.find_element_by_css_selector('#container > div > div._2c7YLP.UtUXW0._6t1WkM._3HqJxg > div._1YokD2._2GoDe3 > div._1YokD2._3Mn1Gg.col-8-12 > div._1YokD2._3Mn1Gg > div:nth-child(4) > div > div:nth-child(2) > div._1UhVsV > div:nth-child(9) > table > tbody > tr:nth-child(1) > td.URwL2w.col.col-9-12 > ul > li').text\n",
    "        battery_capacity.append(Battery)\n",
    "    except NoSuchElementException:\n",
    "        battery_capacity.append(\"-\")\n",
    "        \n",
    "    try:\n",
    "        Price_=driver.find_element_by_css_selector('#container > div > div._2c7YLP.UtUXW0._6t1WkM._3HqJxg > div._1YokD2._2GoDe3 > div._1YokD2._3Mn1Gg.col-8-12 > div:nth-child(2) > div > div.dyC4hf > div.CEmiEU > div > div').text\n",
    "        price.append(Price_)\n",
    "    except NoSuchElementException:\n",
    "        price.append(\"-\")\n",
    "        \n",
    "    time.sleep(5)"
   ]
  },
  {
   "cell_type": "code",
   "execution_count": 172,
   "metadata": {},
   "outputs": [
    {
     "data": {
      "text/plain": [
       "['Samsung Galaxy M31 (Ocean Blue, 128 GB)  (6 GB RAM)',\n",
       " 'Samsung Galaxy M31 (Space Black, 128 GB)  (6 GB RAM)',\n",
       " 'Samsung Galaxy M31 (Iceberg blue, 128 GB)  (6 GB RAM)',\n",
       " 'Samsung Galaxy M31 (Space Black, 64 GB)  (6 GB RAM)',\n",
       " 'Samsung Galaxy M31s (Mirage Blue, 128 GB)  (6 GB RAM)',\n",
       " 'Samsung Galaxy M31s (Mirage Black, 128 GB)  (6 GB RAM)',\n",
       " 'Samsung Galaxy M31 (Ocean Blue, 128 GB)  (8 GB RAM)',\n",
       " 'Samsung Galaxy M31 (Ocean Blue, 64 GB)  (6 GB RAM)',\n",
       " 'Samsung Galaxy M31 (Space Black, 128 GB)  (8 GB RAM)',\n",
       " 'Samsung GALAXY M31S (Mirage Black, 128 GB)  (8 GB RAM)',\n",
       " 'Samsung M31 Prime (Space Black, 128 GB)  (6 GB RAM)',\n",
       " 'Samsung Galaxy A31 (Prism Crush Black, 128 GB)  (6 GB RAM)',\n",
       " 'Samsung M31 Prime (Ocean Blue, 128 GB)  (6 GB RAM)',\n",
       " 'Samsung M31s (Mirage Blue, 128 GB)  (8 GB RAM)',\n",
       " 'Samsung M31 Prime (IceBerg Blue, 128 GB)  (6 GB RAM)',\n",
       " 'Samsung M31 Prime (IceBerg Blue, 64 GB)  (6 GB RAM)',\n",
       " 'Samsung M31 Prime (Ocean Blue, 64 GB)  (6 GB RAM)',\n",
       " 'Samsung Galaxy A31 (Prism Crush Blue, 128 GB)  (6 GB RAM)',\n",
       " 'Samsung Galaxy A31 (Prism Crush White, 128 GB)  (6 GB RAM)',\n",
       " 'Samsung M01 core (Blue, 16 GB)  (1 GB RAM)',\n",
       " 'Samsung M01 core (Black, 16 GB)  (1 GB RAM)',\n",
       " 'Samsung M01 core (Red, 16 GB)  (1 GB RAM)',\n",
       " 'Samsung Galaxy J7 Nxt (Black, 16 GB)  (2 GB RAM)',\n",
       " 'Samsung Galaxy J2 Core (Gold, 16 GB)  (1 GB RAM)']"
      ]
     },
     "execution_count": 172,
     "metadata": {},
     "output_type": "execute_result"
    }
   ],
   "source": [
    "smartphone_name"
   ]
  },
  {
   "cell_type": "code",
   "execution_count": 173,
   "metadata": {},
   "outputs": [
    {
     "data": {
      "text/plain": [
       "['Ocean Blue',\n",
       " 'Space Black',\n",
       " 'Iceberg blue',\n",
       " 'Space Black',\n",
       " 'Mirage Blue',\n",
       " '-',\n",
       " 'Ocean Blue',\n",
       " 'Ocean Blue',\n",
       " 'Space Black',\n",
       " 'Mirage Black',\n",
       " 'Space Black',\n",
       " '-',\n",
       " 'Ocean Blue',\n",
       " 'Mirage Blue',\n",
       " 'IceBerg Blue',\n",
       " '-',\n",
       " '-',\n",
       " '-',\n",
       " '-',\n",
       " 'Blue',\n",
       " 'Black',\n",
       " 'Red',\n",
       " 'Black',\n",
       " 'Gold']"
      ]
     },
     "execution_count": 173,
     "metadata": {},
     "output_type": "execute_result"
    }
   ],
   "source": [
    "colour"
   ]
  },
  {
   "cell_type": "code",
   "execution_count": 174,
   "metadata": {},
   "outputs": [
    {
     "data": {
      "text/plain": [
       "['6 GB',\n",
       " '6 GB',\n",
       " '6 GB',\n",
       " '6 GB',\n",
       " '6 GB',\n",
       " '-',\n",
       " '8 GB',\n",
       " '6 GB',\n",
       " '8 GB',\n",
       " '8 GB',\n",
       " '6 GB',\n",
       " '-',\n",
       " '6 GB',\n",
       " '8 GB',\n",
       " '6 GB',\n",
       " '-',\n",
       " '-',\n",
       " '-',\n",
       " '-',\n",
       " '1 GB',\n",
       " '1 GB',\n",
       " '1 GB',\n",
       " '2 GB',\n",
       " '1 GB']"
      ]
     },
     "execution_count": 174,
     "metadata": {},
     "output_type": "execute_result"
    }
   ],
   "source": [
    "ram"
   ]
  },
  {
   "cell_type": "code",
   "execution_count": 175,
   "metadata": {},
   "outputs": [
    {
     "data": {
      "text/plain": [
       "['128 GB',\n",
       " '128 GB',\n",
       " '128 GB',\n",
       " '64 GB',\n",
       " '128 GB',\n",
       " '-',\n",
       " '128 GB',\n",
       " '64 GB',\n",
       " '128 GB',\n",
       " '128 GB',\n",
       " '128 GB',\n",
       " '-',\n",
       " '128 GB',\n",
       " '128 GB',\n",
       " '128 GB',\n",
       " '-',\n",
       " '-',\n",
       " '-',\n",
       " '-',\n",
       " '16 GB',\n",
       " '16 GB',\n",
       " '16 GB',\n",
       " '16 GB',\n",
       " '16 GB']"
      ]
     },
     "execution_count": 175,
     "metadata": {},
     "output_type": "execute_result"
    }
   ],
   "source": [
    "rom"
   ]
  },
  {
   "cell_type": "code",
   "execution_count": 176,
   "metadata": {},
   "outputs": [
    {
     "data": {
      "text/plain": [
       "['64MP + 8MP + 5MP + 5MP',\n",
       " '64MP + 8MP + 5MP + 5MP',\n",
       " '64MP + 8MP + 5MP + 5MP',\n",
       " '64MP + 8MP + 5MP + 5MP',\n",
       " 'Primary Camera',\n",
       " '-',\n",
       " '64MP + 8MP + 5MP + 5MP',\n",
       " '64MP + 8MP + 5MP + 5MP',\n",
       " '64MP + 8MP + 5MP + 5MP',\n",
       " 'Primary Camera',\n",
       " 'Primary Camera',\n",
       " '-',\n",
       " 'Primary Camera',\n",
       " '64MP + 12MP',\n",
       " 'Primary Camera',\n",
       " '-',\n",
       " '-',\n",
       " '-',\n",
       " '-',\n",
       " '8MP Rear Camera',\n",
       " '8MP Rear Camera',\n",
       " '8MP Rear Camera',\n",
       " '13MP Rear Camera',\n",
       " '8MP Rear Camera']"
      ]
     },
     "execution_count": 176,
     "metadata": {},
     "output_type": "execute_result"
    }
   ],
   "source": [
    "primary_camera"
   ]
  },
  {
   "cell_type": "code",
   "execution_count": 177,
   "metadata": {},
   "outputs": [
    {
     "data": {
      "text/plain": [
       "['32MP Front Camera',\n",
       " '32MP Front Camera',\n",
       " '32MP Front Camera',\n",
       " '32MP Front Camera',\n",
       " '-',\n",
       " '-',\n",
       " '32MP Front Camera',\n",
       " '32MP Front Camera',\n",
       " '32MP Front Camera',\n",
       " '-',\n",
       " '-',\n",
       " '-',\n",
       " '-',\n",
       " '32MP Front Camera',\n",
       " '-',\n",
       " '-',\n",
       " '-',\n",
       " '-',\n",
       " '-',\n",
       " 'Yes',\n",
       " 'Yes',\n",
       " 'Yes',\n",
       " '5MP Front Camera',\n",
       " 'Rear Flash']"
      ]
     },
     "execution_count": 177,
     "metadata": {},
     "output_type": "execute_result"
    }
   ],
   "source": [
    "secondary_camera"
   ]
  },
  {
   "cell_type": "code",
   "execution_count": 178,
   "metadata": {},
   "outputs": [
    {
     "data": {
      "text/plain": [
       "['16.26 cm (6.4 inch)',\n",
       " '16.26 cm (6.4 inch)',\n",
       " '16.26 cm (6.4 inch)',\n",
       " '16.26 cm (6.4 inch)',\n",
       " '16.51 cm (6.5 inch)',\n",
       " '-',\n",
       " '16.26 cm (6.4 inch)',\n",
       " '16.26 cm (6.4 inch)',\n",
       " '16.26 cm (6.4 inch)',\n",
       " '16.51 cm (6.5 inch)',\n",
       " '16.26 cm (6.4 inch)',\n",
       " '-',\n",
       " '16.26 cm (6.4 inch)',\n",
       " '16.51 cm (6.5 inch)',\n",
       " '16.26 cm (6.4 inch)',\n",
       " '-',\n",
       " '-',\n",
       " '-',\n",
       " '-',\n",
       " '13.46 cm (5.3 inch)',\n",
       " '13.46 cm (5.3 inch)',\n",
       " '13.46 cm (5.3 inch)',\n",
       " '13.97 cm (5.5 inch)',\n",
       " '12.7 cm (5 inch)']"
      ]
     },
     "execution_count": 178,
     "metadata": {},
     "output_type": "execute_result"
    }
   ],
   "source": [
    "display_size"
   ]
  },
  {
   "cell_type": "code",
   "execution_count": 179,
   "metadata": {},
   "outputs": [
    {
     "data": {
      "text/plain": [
       "['2340 x 1080$$pixel',\n",
       " '2340 x 1080$$pixel',\n",
       " '2340 x 1080$$pixel',\n",
       " '2340 x 1080$$pixel',\n",
       " '1080 x 2400$$pixel',\n",
       " '-',\n",
       " '2340 x 1080$$pixel',\n",
       " '2340 x 1080$$pixel',\n",
       " '2340 x 1080$$pixel',\n",
       " '1080 x 2400$$pixel',\n",
       " '2340 x 1080$$pixel',\n",
       " '-',\n",
       " '2340 x 1080$$pixel',\n",
       " '1080 x 2400$$pixel',\n",
       " '2340 x 1080$$pixel',\n",
       " '-',\n",
       " '-',\n",
       " '-',\n",
       " '-',\n",
       " '1480 x 720$$pixel',\n",
       " '1480 x 720$$pixel',\n",
       " '1480 x 720$$pixel ',\n",
       " '1280 x 720 Pixels',\n",
       " '960 x 540 Pixels']"
      ]
     },
     "execution_count": 179,
     "metadata": {},
     "output_type": "execute_result"
    }
   ],
   "source": [
    "display_resolution"
   ]
  },
  {
   "cell_type": "code",
   "execution_count": 180,
   "metadata": {},
   "outputs": [
    {
     "data": {
      "text/plain": [
       "['Samsung Exynos 9 Octa 9611',\n",
       " 'Samsung Exynos 9 Octa 9611',\n",
       " 'Samsung Exynos 9 Octa 9611',\n",
       " 'Samsung Exynos 9 Octa 9611',\n",
       " 'Octa Core',\n",
       " '-',\n",
       " 'Samsung Exynos 9 Octa 9611',\n",
       " 'Samsung Exynos 9 Octa 9611',\n",
       " 'Samsung Exynos 9 Octa 9611',\n",
       " 'Octa Core',\n",
       " 'Deca Core',\n",
       " '-',\n",
       " 'Deca Core',\n",
       " 'Exynos 9611 octa core processor',\n",
       " 'Deca Core',\n",
       " '-',\n",
       " '-',\n",
       " '-',\n",
       " '-',\n",
       " 'MediaTek | MT6739WW quad core ',\n",
       " 'MediaTek | MT6739WW quad core ',\n",
       " 'MediaTek | MT6739WW quad core ',\n",
       " 'Exynos Octa-Core 1.6GHz',\n",
       " 'Qualcomm MSM8917']"
      ]
     },
     "execution_count": 180,
     "metadata": {},
     "output_type": "execute_result"
    }
   ],
   "source": [
    "processor"
   ]
  },
  {
   "cell_type": "code",
   "execution_count": 181,
   "metadata": {},
   "outputs": [
    {
     "data": {
      "text/plain": [
       "['Octa Core',\n",
       " 'Octa Core',\n",
       " 'Octa Core',\n",
       " 'Octa Core',\n",
       " '2.3 GHz',\n",
       " '-',\n",
       " 'Octa Core',\n",
       " 'Octa Core',\n",
       " 'Octa Core',\n",
       " '2.3 GHz',\n",
       " '1.7 GHz',\n",
       " '-',\n",
       " '1.7 GHz',\n",
       " 'Octa Core',\n",
       " '1.7 GHz',\n",
       " '-',\n",
       " '-',\n",
       " '-',\n",
       " '-',\n",
       " 'Octa Core',\n",
       " 'Octa Core',\n",
       " 'Octa Core',\n",
       " 'Octa Core',\n",
       " 'Quad Core']"
      ]
     },
     "execution_count": 181,
     "metadata": {},
     "output_type": "execute_result"
    }
   ],
   "source": [
    "processor_cores"
   ]
  },
  {
   "cell_type": "code",
   "execution_count": 182,
   "metadata": {},
   "outputs": [
    {
     "data": {
      "text/plain": [
       "['6000 mAh',\n",
       " '6000 mAh',\n",
       " '6000 mAh',\n",
       " '6000 mAh',\n",
       " '-',\n",
       " '-',\n",
       " '6000 mAh',\n",
       " '6000 mAh',\n",
       " '6000 mAh',\n",
       " '-',\n",
       " '-',\n",
       " '-',\n",
       " '-',\n",
       " 'MP3, M4A, 3GA, AAC, OGG, OGA, WAV, WMA, AMR, AWB, FLAC, MID, MIDI, XMF, MXMF, IMY, RTTTL, RTX, OTA',\n",
       " '-',\n",
       " '-',\n",
       " '-',\n",
       " '-',\n",
       " '-',\n",
       " 'MP3, M4A, 3GA, AAC, OGG, WAV, AMR, AWB, FLAC, MID, XMF, MXMF, IMY, RTTTL, RTX, OTA',\n",
       " 'MP3, M4A, 3GA, AAC, OGG, WAV, AMR, AWB, FLAC, MID, XMF, MXMF, IMY, RTTTL, RTX, OTA',\n",
       " 'MP3, M4A, 3GA, AAC, OGG, WAV, AMR, AWB, FLAC, MID, XMF, MXMF, IMY, RTTTL, RTX, OTA',\n",
       " '3000 mAh',\n",
       " '2600 mAh']"
      ]
     },
     "execution_count": 182,
     "metadata": {},
     "output_type": "execute_result"
    }
   ],
   "source": [
    "battery_capacity"
   ]
  },
  {
   "cell_type": "code",
   "execution_count": 183,
   "metadata": {},
   "outputs": [
    {
     "data": {
      "text/plain": [
       "['₹17,800',\n",
       " '₹17,499',\n",
       " '₹17,994',\n",
       " '₹15,950',\n",
       " '₹21,995',\n",
       " '₹21,990',\n",
       " '₹19,399',\n",
       " '₹15,990',\n",
       " '₹19,377',\n",
       " '₹22,490',\n",
       " '₹17,340',\n",
       " '₹17,999',\n",
       " '₹17,998',\n",
       " '₹21,880',\n",
       " '₹18,490',\n",
       " '₹18,699',\n",
       " '₹18,699',\n",
       " '₹17,999',\n",
       " '₹17,999',\n",
       " '₹5,382',\n",
       " '₹5,386',\n",
       " '₹5,499',\n",
       " '₹10,990',\n",
       " '₹7,700']"
      ]
     },
     "execution_count": 183,
     "metadata": {},
     "output_type": "execute_result"
    }
   ],
   "source": [
    "price"
   ]
  },
  {
   "cell_type": "code",
   "execution_count": 184,
   "metadata": {},
   "outputs": [],
   "source": [
    "#extracting brand_name from smartphone_name\n",
    "brand_name = [i.split(maxsplit=1)[0] for i in smartphone_name]"
   ]
  },
  {
   "cell_type": "code",
   "execution_count": 185,
   "metadata": {},
   "outputs": [
    {
     "data": {
      "text/plain": [
       "['Samsung',\n",
       " 'Samsung',\n",
       " 'Samsung',\n",
       " 'Samsung',\n",
       " 'Samsung',\n",
       " 'Samsung',\n",
       " 'Samsung',\n",
       " 'Samsung',\n",
       " 'Samsung',\n",
       " 'Samsung',\n",
       " 'Samsung',\n",
       " 'Samsung',\n",
       " 'Samsung',\n",
       " 'Samsung',\n",
       " 'Samsung',\n",
       " 'Samsung',\n",
       " 'Samsung',\n",
       " 'Samsung',\n",
       " 'Samsung',\n",
       " 'Samsung',\n",
       " 'Samsung',\n",
       " 'Samsung',\n",
       " 'Samsung',\n",
       " 'Samsung']"
      ]
     },
     "execution_count": 185,
     "metadata": {},
     "output_type": "execute_result"
    }
   ],
   "source": [
    "brand_name"
   ]
  },
  {
   "cell_type": "code",
   "execution_count": 186,
   "metadata": {},
   "outputs": [
    {
     "name": "stdout",
     "output_type": "stream",
     "text": [
      "24 24 24 24 24 24 24 24 24 24 24 24 24 24\n"
     ]
    }
   ],
   "source": [
    "#printing lengths\n",
    "print(len(brand_name),len(smartphone_name),len(colour),len(ram),len(rom),len(primary_camera),len(secondary_camera),len(display_size),len(display_resolution),len(processor),len(processor_cores),len(battery_capacity),len(price),len(Phone_URL))"
   ]
  },
  {
   "cell_type": "code",
   "execution_count": 187,
   "metadata": {},
   "outputs": [],
   "source": [
    "#creating a dataframe\n",
    "\n",
    "Smartphone=pd.DataFrame({})\n",
    "Smartphone['brand_name']=brand_name\n",
    "Smartphone['smartphone_name']=smartphone_name\n",
    "Smartphone['colour']=colour\n",
    "Smartphone['Ram']=ram\n",
    "Smartphone['Rom']=rom\n",
    "Smartphone['primary_camera']=primary_camera\n",
    "Smartphone['secondary_camera']=secondary_camera\n",
    "Smartphone['display_size']=display_size\n",
    "Smartphone['display_resolution']=display_resolution\n",
    "Smartphone['processor']=processor\n",
    "Smartphone['processor_cores']=processor_cores\n",
    "Smartphone['battery_capacity']=battery_capacity\n",
    "Smartphone['price']=price\n",
    "Smartphone['Phone_URL']=Phone_URL"
   ]
  },
  {
   "cell_type": "code",
   "execution_count": 188,
   "metadata": {},
   "outputs": [
    {
     "data": {
      "text/html": [
       "<div>\n",
       "<style scoped>\n",
       "    .dataframe tbody tr th:only-of-type {\n",
       "        vertical-align: middle;\n",
       "    }\n",
       "\n",
       "    .dataframe tbody tr th {\n",
       "        vertical-align: top;\n",
       "    }\n",
       "\n",
       "    .dataframe thead th {\n",
       "        text-align: right;\n",
       "    }\n",
       "</style>\n",
       "<table border=\"1\" class=\"dataframe\">\n",
       "  <thead>\n",
       "    <tr style=\"text-align: right;\">\n",
       "      <th></th>\n",
       "      <th>brand_name</th>\n",
       "      <th>smartphone_name</th>\n",
       "      <th>colour</th>\n",
       "      <th>Ram</th>\n",
       "      <th>Rom</th>\n",
       "      <th>primary_camera</th>\n",
       "      <th>secondary_camera</th>\n",
       "      <th>display_size</th>\n",
       "      <th>display_resolution</th>\n",
       "      <th>processor</th>\n",
       "      <th>processor_cores</th>\n",
       "      <th>battery_capacity</th>\n",
       "      <th>price</th>\n",
       "      <th>Phone_URL</th>\n",
       "    </tr>\n",
       "  </thead>\n",
       "  <tbody>\n",
       "    <tr>\n",
       "      <th>0</th>\n",
       "      <td>Samsung</td>\n",
       "      <td>Samsung Galaxy M31 (Ocean Blue, 128 GB)  (6 GB...</td>\n",
       "      <td>Ocean Blue</td>\n",
       "      <td>6 GB</td>\n",
       "      <td>128 GB</td>\n",
       "      <td>64MP + 8MP + 5MP + 5MP</td>\n",
       "      <td>32MP Front Camera</td>\n",
       "      <td>16.26 cm (6.4 inch)</td>\n",
       "      <td>2340 x 1080$$pixel</td>\n",
       "      <td>Samsung Exynos 9 Octa 9611</td>\n",
       "      <td>Octa Core</td>\n",
       "      <td>6000 mAh</td>\n",
       "      <td>₹17,800</td>\n",
       "      <td>https://www.flipkart.com/samsung-galaxy-m31-oc...</td>\n",
       "    </tr>\n",
       "    <tr>\n",
       "      <th>1</th>\n",
       "      <td>Samsung</td>\n",
       "      <td>Samsung Galaxy M31 (Space Black, 128 GB)  (6 G...</td>\n",
       "      <td>Space Black</td>\n",
       "      <td>6 GB</td>\n",
       "      <td>128 GB</td>\n",
       "      <td>64MP + 8MP + 5MP + 5MP</td>\n",
       "      <td>32MP Front Camera</td>\n",
       "      <td>16.26 cm (6.4 inch)</td>\n",
       "      <td>2340 x 1080$$pixel</td>\n",
       "      <td>Samsung Exynos 9 Octa 9611</td>\n",
       "      <td>Octa Core</td>\n",
       "      <td>6000 mAh</td>\n",
       "      <td>₹17,499</td>\n",
       "      <td>https://www.flipkart.com/samsung-galaxy-m31-sp...</td>\n",
       "    </tr>\n",
       "    <tr>\n",
       "      <th>2</th>\n",
       "      <td>Samsung</td>\n",
       "      <td>Samsung Galaxy M31 (Iceberg blue, 128 GB)  (6 ...</td>\n",
       "      <td>Iceberg blue</td>\n",
       "      <td>6 GB</td>\n",
       "      <td>128 GB</td>\n",
       "      <td>64MP + 8MP + 5MP + 5MP</td>\n",
       "      <td>32MP Front Camera</td>\n",
       "      <td>16.26 cm (6.4 inch)</td>\n",
       "      <td>2340 x 1080$$pixel</td>\n",
       "      <td>Samsung Exynos 9 Octa 9611</td>\n",
       "      <td>Octa Core</td>\n",
       "      <td>6000 mAh</td>\n",
       "      <td>₹17,994</td>\n",
       "      <td>https://www.flipkart.com/samsung-galaxy-m31-ic...</td>\n",
       "    </tr>\n",
       "    <tr>\n",
       "      <th>3</th>\n",
       "      <td>Samsung</td>\n",
       "      <td>Samsung Galaxy M31 (Space Black, 64 GB)  (6 GB...</td>\n",
       "      <td>Space Black</td>\n",
       "      <td>6 GB</td>\n",
       "      <td>64 GB</td>\n",
       "      <td>64MP + 8MP + 5MP + 5MP</td>\n",
       "      <td>32MP Front Camera</td>\n",
       "      <td>16.26 cm (6.4 inch)</td>\n",
       "      <td>2340 x 1080$$pixel</td>\n",
       "      <td>Samsung Exynos 9 Octa 9611</td>\n",
       "      <td>Octa Core</td>\n",
       "      <td>6000 mAh</td>\n",
       "      <td>₹15,950</td>\n",
       "      <td>https://www.flipkart.com/samsung-galaxy-m31-sp...</td>\n",
       "    </tr>\n",
       "    <tr>\n",
       "      <th>4</th>\n",
       "      <td>Samsung</td>\n",
       "      <td>Samsung Galaxy M31s (Mirage Blue, 128 GB)  (6 ...</td>\n",
       "      <td>Mirage Blue</td>\n",
       "      <td>6 GB</td>\n",
       "      <td>128 GB</td>\n",
       "      <td>Primary Camera</td>\n",
       "      <td>-</td>\n",
       "      <td>16.51 cm (6.5 inch)</td>\n",
       "      <td>1080 x 2400$$pixel</td>\n",
       "      <td>Octa Core</td>\n",
       "      <td>2.3 GHz</td>\n",
       "      <td>-</td>\n",
       "      <td>₹21,995</td>\n",
       "      <td>https://www.flipkart.com/samsung-galaxy-m31s-m...</td>\n",
       "    </tr>\n",
       "    <tr>\n",
       "      <th>5</th>\n",
       "      <td>Samsung</td>\n",
       "      <td>Samsung Galaxy M31s (Mirage Black, 128 GB)  (6...</td>\n",
       "      <td>-</td>\n",
       "      <td>-</td>\n",
       "      <td>-</td>\n",
       "      <td>-</td>\n",
       "      <td>-</td>\n",
       "      <td>-</td>\n",
       "      <td>-</td>\n",
       "      <td>-</td>\n",
       "      <td>-</td>\n",
       "      <td>-</td>\n",
       "      <td>₹21,990</td>\n",
       "      <td>https://www.flipkart.com/samsung-galaxy-m31s-m...</td>\n",
       "    </tr>\n",
       "    <tr>\n",
       "      <th>6</th>\n",
       "      <td>Samsung</td>\n",
       "      <td>Samsung Galaxy M31 (Ocean Blue, 128 GB)  (8 GB...</td>\n",
       "      <td>Ocean Blue</td>\n",
       "      <td>8 GB</td>\n",
       "      <td>128 GB</td>\n",
       "      <td>64MP + 8MP + 5MP + 5MP</td>\n",
       "      <td>32MP Front Camera</td>\n",
       "      <td>16.26 cm (6.4 inch)</td>\n",
       "      <td>2340 x 1080$$pixel</td>\n",
       "      <td>Samsung Exynos 9 Octa 9611</td>\n",
       "      <td>Octa Core</td>\n",
       "      <td>6000 mAh</td>\n",
       "      <td>₹19,399</td>\n",
       "      <td>https://www.flipkart.com/samsung-galaxy-m31-oc...</td>\n",
       "    </tr>\n",
       "    <tr>\n",
       "      <th>7</th>\n",
       "      <td>Samsung</td>\n",
       "      <td>Samsung Galaxy M31 (Ocean Blue, 64 GB)  (6 GB ...</td>\n",
       "      <td>Ocean Blue</td>\n",
       "      <td>6 GB</td>\n",
       "      <td>64 GB</td>\n",
       "      <td>64MP + 8MP + 5MP + 5MP</td>\n",
       "      <td>32MP Front Camera</td>\n",
       "      <td>16.26 cm (6.4 inch)</td>\n",
       "      <td>2340 x 1080$$pixel</td>\n",
       "      <td>Samsung Exynos 9 Octa 9611</td>\n",
       "      <td>Octa Core</td>\n",
       "      <td>6000 mAh</td>\n",
       "      <td>₹15,990</td>\n",
       "      <td>https://www.flipkart.com/samsung-galaxy-m31-oc...</td>\n",
       "    </tr>\n",
       "    <tr>\n",
       "      <th>8</th>\n",
       "      <td>Samsung</td>\n",
       "      <td>Samsung Galaxy M31 (Space Black, 128 GB)  (8 G...</td>\n",
       "      <td>Space Black</td>\n",
       "      <td>8 GB</td>\n",
       "      <td>128 GB</td>\n",
       "      <td>64MP + 8MP + 5MP + 5MP</td>\n",
       "      <td>32MP Front Camera</td>\n",
       "      <td>16.26 cm (6.4 inch)</td>\n",
       "      <td>2340 x 1080$$pixel</td>\n",
       "      <td>Samsung Exynos 9 Octa 9611</td>\n",
       "      <td>Octa Core</td>\n",
       "      <td>6000 mAh</td>\n",
       "      <td>₹19,377</td>\n",
       "      <td>https://www.flipkart.com/samsung-galaxy-m31-sp...</td>\n",
       "    </tr>\n",
       "    <tr>\n",
       "      <th>9</th>\n",
       "      <td>Samsung</td>\n",
       "      <td>Samsung GALAXY M31S (Mirage Black, 128 GB)  (8...</td>\n",
       "      <td>Mirage Black</td>\n",
       "      <td>8 GB</td>\n",
       "      <td>128 GB</td>\n",
       "      <td>Primary Camera</td>\n",
       "      <td>-</td>\n",
       "      <td>16.51 cm (6.5 inch)</td>\n",
       "      <td>1080 x 2400$$pixel</td>\n",
       "      <td>Octa Core</td>\n",
       "      <td>2.3 GHz</td>\n",
       "      <td>-</td>\n",
       "      <td>₹22,490</td>\n",
       "      <td>https://www.flipkart.com/samsung-galaxy-m31s-m...</td>\n",
       "    </tr>\n",
       "    <tr>\n",
       "      <th>10</th>\n",
       "      <td>Samsung</td>\n",
       "      <td>Samsung M31 Prime (Space Black, 128 GB)  (6 GB...</td>\n",
       "      <td>Space Black</td>\n",
       "      <td>6 GB</td>\n",
       "      <td>128 GB</td>\n",
       "      <td>Primary Camera</td>\n",
       "      <td>-</td>\n",
       "      <td>16.26 cm (6.4 inch)</td>\n",
       "      <td>2340 x 1080$$pixel</td>\n",
       "      <td>Deca Core</td>\n",
       "      <td>1.7 GHz</td>\n",
       "      <td>-</td>\n",
       "      <td>₹17,340</td>\n",
       "      <td>https://www.flipkart.com/samsung-m31-prime-spa...</td>\n",
       "    </tr>\n",
       "    <tr>\n",
       "      <th>11</th>\n",
       "      <td>Samsung</td>\n",
       "      <td>Samsung Galaxy A31 (Prism Crush Black, 128 GB)...</td>\n",
       "      <td>-</td>\n",
       "      <td>-</td>\n",
       "      <td>-</td>\n",
       "      <td>-</td>\n",
       "      <td>-</td>\n",
       "      <td>-</td>\n",
       "      <td>-</td>\n",
       "      <td>-</td>\n",
       "      <td>-</td>\n",
       "      <td>-</td>\n",
       "      <td>₹17,999</td>\n",
       "      <td>https://www.flipkart.com/samsung-galaxy-a31-pr...</td>\n",
       "    </tr>\n",
       "    <tr>\n",
       "      <th>12</th>\n",
       "      <td>Samsung</td>\n",
       "      <td>Samsung M31 Prime (Ocean Blue, 128 GB)  (6 GB ...</td>\n",
       "      <td>Ocean Blue</td>\n",
       "      <td>6 GB</td>\n",
       "      <td>128 GB</td>\n",
       "      <td>Primary Camera</td>\n",
       "      <td>-</td>\n",
       "      <td>16.26 cm (6.4 inch)</td>\n",
       "      <td>2340 x 1080$$pixel</td>\n",
       "      <td>Deca Core</td>\n",
       "      <td>1.7 GHz</td>\n",
       "      <td>-</td>\n",
       "      <td>₹17,998</td>\n",
       "      <td>https://www.flipkart.com/samsung-m31-prime-oce...</td>\n",
       "    </tr>\n",
       "    <tr>\n",
       "      <th>13</th>\n",
       "      <td>Samsung</td>\n",
       "      <td>Samsung M31s (Mirage Blue, 128 GB)  (8 GB RAM)</td>\n",
       "      <td>Mirage Blue</td>\n",
       "      <td>8 GB</td>\n",
       "      <td>128 GB</td>\n",
       "      <td>64MP + 12MP</td>\n",
       "      <td>32MP Front Camera</td>\n",
       "      <td>16.51 cm (6.5 inch)</td>\n",
       "      <td>1080 x 2400$$pixel</td>\n",
       "      <td>Exynos 9611 octa core processor</td>\n",
       "      <td>Octa Core</td>\n",
       "      <td>MP3, M4A, 3GA, AAC, OGG, OGA, WAV, WMA, AMR, A...</td>\n",
       "      <td>₹21,880</td>\n",
       "      <td>https://www.flipkart.com/samsung-m31s-mirage-b...</td>\n",
       "    </tr>\n",
       "    <tr>\n",
       "      <th>14</th>\n",
       "      <td>Samsung</td>\n",
       "      <td>Samsung M31 Prime (IceBerg Blue, 128 GB)  (6 G...</td>\n",
       "      <td>IceBerg Blue</td>\n",
       "      <td>6 GB</td>\n",
       "      <td>128 GB</td>\n",
       "      <td>Primary Camera</td>\n",
       "      <td>-</td>\n",
       "      <td>16.26 cm (6.4 inch)</td>\n",
       "      <td>2340 x 1080$$pixel</td>\n",
       "      <td>Deca Core</td>\n",
       "      <td>1.7 GHz</td>\n",
       "      <td>-</td>\n",
       "      <td>₹18,490</td>\n",
       "      <td>https://www.flipkart.com/samsung-m31-prime-ice...</td>\n",
       "    </tr>\n",
       "    <tr>\n",
       "      <th>15</th>\n",
       "      <td>Samsung</td>\n",
       "      <td>Samsung M31 Prime (IceBerg Blue, 64 GB)  (6 GB...</td>\n",
       "      <td>-</td>\n",
       "      <td>-</td>\n",
       "      <td>-</td>\n",
       "      <td>-</td>\n",
       "      <td>-</td>\n",
       "      <td>-</td>\n",
       "      <td>-</td>\n",
       "      <td>-</td>\n",
       "      <td>-</td>\n",
       "      <td>-</td>\n",
       "      <td>₹18,699</td>\n",
       "      <td>https://www.flipkart.com/samsung-m31-prime-ice...</td>\n",
       "    </tr>\n",
       "    <tr>\n",
       "      <th>16</th>\n",
       "      <td>Samsung</td>\n",
       "      <td>Samsung M31 Prime (Ocean Blue, 64 GB)  (6 GB RAM)</td>\n",
       "      <td>-</td>\n",
       "      <td>-</td>\n",
       "      <td>-</td>\n",
       "      <td>-</td>\n",
       "      <td>-</td>\n",
       "      <td>-</td>\n",
       "      <td>-</td>\n",
       "      <td>-</td>\n",
       "      <td>-</td>\n",
       "      <td>-</td>\n",
       "      <td>₹18,699</td>\n",
       "      <td>https://www.flipkart.com/samsung-m31-prime-oce...</td>\n",
       "    </tr>\n",
       "    <tr>\n",
       "      <th>17</th>\n",
       "      <td>Samsung</td>\n",
       "      <td>Samsung Galaxy A31 (Prism Crush Blue, 128 GB) ...</td>\n",
       "      <td>-</td>\n",
       "      <td>-</td>\n",
       "      <td>-</td>\n",
       "      <td>-</td>\n",
       "      <td>-</td>\n",
       "      <td>-</td>\n",
       "      <td>-</td>\n",
       "      <td>-</td>\n",
       "      <td>-</td>\n",
       "      <td>-</td>\n",
       "      <td>₹17,999</td>\n",
       "      <td>https://www.flipkart.com/samsung-galaxy-a31-pr...</td>\n",
       "    </tr>\n",
       "    <tr>\n",
       "      <th>18</th>\n",
       "      <td>Samsung</td>\n",
       "      <td>Samsung Galaxy A31 (Prism Crush White, 128 GB)...</td>\n",
       "      <td>-</td>\n",
       "      <td>-</td>\n",
       "      <td>-</td>\n",
       "      <td>-</td>\n",
       "      <td>-</td>\n",
       "      <td>-</td>\n",
       "      <td>-</td>\n",
       "      <td>-</td>\n",
       "      <td>-</td>\n",
       "      <td>-</td>\n",
       "      <td>₹17,999</td>\n",
       "      <td>https://www.flipkart.com/samsung-galaxy-a31-pr...</td>\n",
       "    </tr>\n",
       "    <tr>\n",
       "      <th>19</th>\n",
       "      <td>Samsung</td>\n",
       "      <td>Samsung M01 core (Blue, 16 GB)  (1 GB RAM)</td>\n",
       "      <td>Blue</td>\n",
       "      <td>1 GB</td>\n",
       "      <td>16 GB</td>\n",
       "      <td>8MP Rear Camera</td>\n",
       "      <td>Yes</td>\n",
       "      <td>13.46 cm (5.3 inch)</td>\n",
       "      <td>1480 x 720$$pixel</td>\n",
       "      <td>MediaTek | MT6739WW quad core</td>\n",
       "      <td>Octa Core</td>\n",
       "      <td>MP3, M4A, 3GA, AAC, OGG, WAV, AMR, AWB, FLAC, ...</td>\n",
       "      <td>₹5,382</td>\n",
       "      <td>https://www.flipkart.com/samsung-m01-core-blue...</td>\n",
       "    </tr>\n",
       "    <tr>\n",
       "      <th>20</th>\n",
       "      <td>Samsung</td>\n",
       "      <td>Samsung M01 core (Black, 16 GB)  (1 GB RAM)</td>\n",
       "      <td>Black</td>\n",
       "      <td>1 GB</td>\n",
       "      <td>16 GB</td>\n",
       "      <td>8MP Rear Camera</td>\n",
       "      <td>Yes</td>\n",
       "      <td>13.46 cm (5.3 inch)</td>\n",
       "      <td>1480 x 720$$pixel</td>\n",
       "      <td>MediaTek | MT6739WW quad core</td>\n",
       "      <td>Octa Core</td>\n",
       "      <td>MP3, M4A, 3GA, AAC, OGG, WAV, AMR, AWB, FLAC, ...</td>\n",
       "      <td>₹5,386</td>\n",
       "      <td>https://www.flipkart.com/samsung-m01-core-blac...</td>\n",
       "    </tr>\n",
       "    <tr>\n",
       "      <th>21</th>\n",
       "      <td>Samsung</td>\n",
       "      <td>Samsung M01 core (Red, 16 GB)  (1 GB RAM)</td>\n",
       "      <td>Red</td>\n",
       "      <td>1 GB</td>\n",
       "      <td>16 GB</td>\n",
       "      <td>8MP Rear Camera</td>\n",
       "      <td>Yes</td>\n",
       "      <td>13.46 cm (5.3 inch)</td>\n",
       "      <td>1480 x 720$$pixel</td>\n",
       "      <td>MediaTek | MT6739WW quad core</td>\n",
       "      <td>Octa Core</td>\n",
       "      <td>MP3, M4A, 3GA, AAC, OGG, WAV, AMR, AWB, FLAC, ...</td>\n",
       "      <td>₹5,499</td>\n",
       "      <td>https://www.flipkart.com/samsung-m01-core-red-...</td>\n",
       "    </tr>\n",
       "    <tr>\n",
       "      <th>22</th>\n",
       "      <td>Samsung</td>\n",
       "      <td>Samsung Galaxy J7 Nxt (Black, 16 GB)  (2 GB RAM)</td>\n",
       "      <td>Black</td>\n",
       "      <td>2 GB</td>\n",
       "      <td>16 GB</td>\n",
       "      <td>13MP Rear Camera</td>\n",
       "      <td>5MP Front Camera</td>\n",
       "      <td>13.97 cm (5.5 inch)</td>\n",
       "      <td>1280 x 720 Pixels</td>\n",
       "      <td>Exynos Octa-Core 1.6GHz</td>\n",
       "      <td>Octa Core</td>\n",
       "      <td>3000 mAh</td>\n",
       "      <td>₹10,990</td>\n",
       "      <td>https://www.flipkart.com/samsung-galaxy-j7-nxt...</td>\n",
       "    </tr>\n",
       "    <tr>\n",
       "      <th>23</th>\n",
       "      <td>Samsung</td>\n",
       "      <td>Samsung Galaxy J2 Core (Gold, 16 GB)  (1 GB RAM)</td>\n",
       "      <td>Gold</td>\n",
       "      <td>1 GB</td>\n",
       "      <td>16 GB</td>\n",
       "      <td>8MP Rear Camera</td>\n",
       "      <td>Rear Flash</td>\n",
       "      <td>12.7 cm (5 inch)</td>\n",
       "      <td>960 x 540 Pixels</td>\n",
       "      <td>Qualcomm MSM8917</td>\n",
       "      <td>Quad Core</td>\n",
       "      <td>2600 mAh</td>\n",
       "      <td>₹7,700</td>\n",
       "      <td>https://www.flipkart.com/samsung-galaxy-j2-cor...</td>\n",
       "    </tr>\n",
       "  </tbody>\n",
       "</table>\n",
       "</div>"
      ],
      "text/plain": [
       "   brand_name                                    smartphone_name  \\\n",
       "0     Samsung  Samsung Galaxy M31 (Ocean Blue, 128 GB)  (6 GB...   \n",
       "1     Samsung  Samsung Galaxy M31 (Space Black, 128 GB)  (6 G...   \n",
       "2     Samsung  Samsung Galaxy M31 (Iceberg blue, 128 GB)  (6 ...   \n",
       "3     Samsung  Samsung Galaxy M31 (Space Black, 64 GB)  (6 GB...   \n",
       "4     Samsung  Samsung Galaxy M31s (Mirage Blue, 128 GB)  (6 ...   \n",
       "5     Samsung  Samsung Galaxy M31s (Mirage Black, 128 GB)  (6...   \n",
       "6     Samsung  Samsung Galaxy M31 (Ocean Blue, 128 GB)  (8 GB...   \n",
       "7     Samsung  Samsung Galaxy M31 (Ocean Blue, 64 GB)  (6 GB ...   \n",
       "8     Samsung  Samsung Galaxy M31 (Space Black, 128 GB)  (8 G...   \n",
       "9     Samsung  Samsung GALAXY M31S (Mirage Black, 128 GB)  (8...   \n",
       "10    Samsung  Samsung M31 Prime (Space Black, 128 GB)  (6 GB...   \n",
       "11    Samsung  Samsung Galaxy A31 (Prism Crush Black, 128 GB)...   \n",
       "12    Samsung  Samsung M31 Prime (Ocean Blue, 128 GB)  (6 GB ...   \n",
       "13    Samsung     Samsung M31s (Mirage Blue, 128 GB)  (8 GB RAM)   \n",
       "14    Samsung  Samsung M31 Prime (IceBerg Blue, 128 GB)  (6 G...   \n",
       "15    Samsung  Samsung M31 Prime (IceBerg Blue, 64 GB)  (6 GB...   \n",
       "16    Samsung  Samsung M31 Prime (Ocean Blue, 64 GB)  (6 GB RAM)   \n",
       "17    Samsung  Samsung Galaxy A31 (Prism Crush Blue, 128 GB) ...   \n",
       "18    Samsung  Samsung Galaxy A31 (Prism Crush White, 128 GB)...   \n",
       "19    Samsung         Samsung M01 core (Blue, 16 GB)  (1 GB RAM)   \n",
       "20    Samsung        Samsung M01 core (Black, 16 GB)  (1 GB RAM)   \n",
       "21    Samsung          Samsung M01 core (Red, 16 GB)  (1 GB RAM)   \n",
       "22    Samsung   Samsung Galaxy J7 Nxt (Black, 16 GB)  (2 GB RAM)   \n",
       "23    Samsung   Samsung Galaxy J2 Core (Gold, 16 GB)  (1 GB RAM)   \n",
       "\n",
       "          colour   Ram     Rom          primary_camera   secondary_camera  \\\n",
       "0     Ocean Blue  6 GB  128 GB  64MP + 8MP + 5MP + 5MP  32MP Front Camera   \n",
       "1    Space Black  6 GB  128 GB  64MP + 8MP + 5MP + 5MP  32MP Front Camera   \n",
       "2   Iceberg blue  6 GB  128 GB  64MP + 8MP + 5MP + 5MP  32MP Front Camera   \n",
       "3    Space Black  6 GB   64 GB  64MP + 8MP + 5MP + 5MP  32MP Front Camera   \n",
       "4    Mirage Blue  6 GB  128 GB          Primary Camera                  -   \n",
       "5              -     -       -                       -                  -   \n",
       "6     Ocean Blue  8 GB  128 GB  64MP + 8MP + 5MP + 5MP  32MP Front Camera   \n",
       "7     Ocean Blue  6 GB   64 GB  64MP + 8MP + 5MP + 5MP  32MP Front Camera   \n",
       "8    Space Black  8 GB  128 GB  64MP + 8MP + 5MP + 5MP  32MP Front Camera   \n",
       "9   Mirage Black  8 GB  128 GB          Primary Camera                  -   \n",
       "10   Space Black  6 GB  128 GB          Primary Camera                  -   \n",
       "11             -     -       -                       -                  -   \n",
       "12    Ocean Blue  6 GB  128 GB          Primary Camera                  -   \n",
       "13   Mirage Blue  8 GB  128 GB             64MP + 12MP  32MP Front Camera   \n",
       "14  IceBerg Blue  6 GB  128 GB          Primary Camera                  -   \n",
       "15             -     -       -                       -                  -   \n",
       "16             -     -       -                       -                  -   \n",
       "17             -     -       -                       -                  -   \n",
       "18             -     -       -                       -                  -   \n",
       "19          Blue  1 GB   16 GB         8MP Rear Camera                Yes   \n",
       "20         Black  1 GB   16 GB         8MP Rear Camera                Yes   \n",
       "21           Red  1 GB   16 GB         8MP Rear Camera                Yes   \n",
       "22         Black  2 GB   16 GB        13MP Rear Camera   5MP Front Camera   \n",
       "23          Gold  1 GB   16 GB         8MP Rear Camera         Rear Flash   \n",
       "\n",
       "           display_size  display_resolution                        processor  \\\n",
       "0   16.26 cm (6.4 inch)  2340 x 1080$$pixel       Samsung Exynos 9 Octa 9611   \n",
       "1   16.26 cm (6.4 inch)  2340 x 1080$$pixel       Samsung Exynos 9 Octa 9611   \n",
       "2   16.26 cm (6.4 inch)  2340 x 1080$$pixel       Samsung Exynos 9 Octa 9611   \n",
       "3   16.26 cm (6.4 inch)  2340 x 1080$$pixel       Samsung Exynos 9 Octa 9611   \n",
       "4   16.51 cm (6.5 inch)  1080 x 2400$$pixel                        Octa Core   \n",
       "5                     -                   -                                -   \n",
       "6   16.26 cm (6.4 inch)  2340 x 1080$$pixel       Samsung Exynos 9 Octa 9611   \n",
       "7   16.26 cm (6.4 inch)  2340 x 1080$$pixel       Samsung Exynos 9 Octa 9611   \n",
       "8   16.26 cm (6.4 inch)  2340 x 1080$$pixel       Samsung Exynos 9 Octa 9611   \n",
       "9   16.51 cm (6.5 inch)  1080 x 2400$$pixel                        Octa Core   \n",
       "10  16.26 cm (6.4 inch)  2340 x 1080$$pixel                        Deca Core   \n",
       "11                    -                   -                                -   \n",
       "12  16.26 cm (6.4 inch)  2340 x 1080$$pixel                        Deca Core   \n",
       "13  16.51 cm (6.5 inch)  1080 x 2400$$pixel  Exynos 9611 octa core processor   \n",
       "14  16.26 cm (6.4 inch)  2340 x 1080$$pixel                        Deca Core   \n",
       "15                    -                   -                                -   \n",
       "16                    -                   -                                -   \n",
       "17                    -                   -                                -   \n",
       "18                    -                   -                                -   \n",
       "19  13.46 cm (5.3 inch)   1480 x 720$$pixel   MediaTek | MT6739WW quad core    \n",
       "20  13.46 cm (5.3 inch)   1480 x 720$$pixel   MediaTek | MT6739WW quad core    \n",
       "21  13.46 cm (5.3 inch)  1480 x 720$$pixel    MediaTek | MT6739WW quad core    \n",
       "22  13.97 cm (5.5 inch)   1280 x 720 Pixels          Exynos Octa-Core 1.6GHz   \n",
       "23     12.7 cm (5 inch)    960 x 540 Pixels                 Qualcomm MSM8917   \n",
       "\n",
       "   processor_cores                                   battery_capacity  \\\n",
       "0        Octa Core                                           6000 mAh   \n",
       "1        Octa Core                                           6000 mAh   \n",
       "2        Octa Core                                           6000 mAh   \n",
       "3        Octa Core                                           6000 mAh   \n",
       "4          2.3 GHz                                                  -   \n",
       "5                -                                                  -   \n",
       "6        Octa Core                                           6000 mAh   \n",
       "7        Octa Core                                           6000 mAh   \n",
       "8        Octa Core                                           6000 mAh   \n",
       "9          2.3 GHz                                                  -   \n",
       "10         1.7 GHz                                                  -   \n",
       "11               -                                                  -   \n",
       "12         1.7 GHz                                                  -   \n",
       "13       Octa Core  MP3, M4A, 3GA, AAC, OGG, OGA, WAV, WMA, AMR, A...   \n",
       "14         1.7 GHz                                                  -   \n",
       "15               -                                                  -   \n",
       "16               -                                                  -   \n",
       "17               -                                                  -   \n",
       "18               -                                                  -   \n",
       "19       Octa Core  MP3, M4A, 3GA, AAC, OGG, WAV, AMR, AWB, FLAC, ...   \n",
       "20       Octa Core  MP3, M4A, 3GA, AAC, OGG, WAV, AMR, AWB, FLAC, ...   \n",
       "21       Octa Core  MP3, M4A, 3GA, AAC, OGG, WAV, AMR, AWB, FLAC, ...   \n",
       "22       Octa Core                                           3000 mAh   \n",
       "23       Quad Core                                           2600 mAh   \n",
       "\n",
       "      price                                          Phone_URL  \n",
       "0   ₹17,800  https://www.flipkart.com/samsung-galaxy-m31-oc...  \n",
       "1   ₹17,499  https://www.flipkart.com/samsung-galaxy-m31-sp...  \n",
       "2   ₹17,994  https://www.flipkart.com/samsung-galaxy-m31-ic...  \n",
       "3   ₹15,950  https://www.flipkart.com/samsung-galaxy-m31-sp...  \n",
       "4   ₹21,995  https://www.flipkart.com/samsung-galaxy-m31s-m...  \n",
       "5   ₹21,990  https://www.flipkart.com/samsung-galaxy-m31s-m...  \n",
       "6   ₹19,399  https://www.flipkart.com/samsung-galaxy-m31-oc...  \n",
       "7   ₹15,990  https://www.flipkart.com/samsung-galaxy-m31-oc...  \n",
       "8   ₹19,377  https://www.flipkart.com/samsung-galaxy-m31-sp...  \n",
       "9   ₹22,490  https://www.flipkart.com/samsung-galaxy-m31s-m...  \n",
       "10  ₹17,340  https://www.flipkart.com/samsung-m31-prime-spa...  \n",
       "11  ₹17,999  https://www.flipkart.com/samsung-galaxy-a31-pr...  \n",
       "12  ₹17,998  https://www.flipkart.com/samsung-m31-prime-oce...  \n",
       "13  ₹21,880  https://www.flipkart.com/samsung-m31s-mirage-b...  \n",
       "14  ₹18,490  https://www.flipkart.com/samsung-m31-prime-ice...  \n",
       "15  ₹18,699  https://www.flipkart.com/samsung-m31-prime-ice...  \n",
       "16  ₹18,699  https://www.flipkart.com/samsung-m31-prime-oce...  \n",
       "17  ₹17,999  https://www.flipkart.com/samsung-galaxy-a31-pr...  \n",
       "18  ₹17,999  https://www.flipkart.com/samsung-galaxy-a31-pr...  \n",
       "19   ₹5,382  https://www.flipkart.com/samsung-m01-core-blue...  \n",
       "20   ₹5,386  https://www.flipkart.com/samsung-m01-core-blac...  \n",
       "21   ₹5,499  https://www.flipkart.com/samsung-m01-core-red-...  \n",
       "22  ₹10,990  https://www.flipkart.com/samsung-galaxy-j7-nxt...  \n",
       "23   ₹7,700  https://www.flipkart.com/samsung-galaxy-j2-cor...  "
      ]
     },
     "execution_count": 188,
     "metadata": {},
     "output_type": "execute_result"
    }
   ],
   "source": [
    "Smartphone"
   ]
  },
  {
   "cell_type": "code",
   "execution_count": 189,
   "metadata": {},
   "outputs": [],
   "source": [
    "#converting into csv format\n",
    "Smartphone.to_csv(\"Smartphone.csv\")"
   ]
  },
  {
   "cell_type": "code",
   "execution_count": 190,
   "metadata": {},
   "outputs": [],
   "source": [
    "#closing the driver\n",
    "driver.close()"
   ]
  },
  {
   "cell_type": "markdown",
   "metadata": {},
   "source": [
    "### 5. Write a program to scrap geospatial coordinates (latitude, longitude) of a city searched on google maps."
   ]
  },
  {
   "cell_type": "code",
   "execution_count": 191,
   "metadata": {},
   "outputs": [],
   "source": [
    "driver = webdriver.Chrome(r\"C:\\Users\\saurabh\\Downloads\\chromedriver_win32\\chromedriver.exe\")"
   ]
  },
  {
   "cell_type": "code",
   "execution_count": 192,
   "metadata": {},
   "outputs": [
    {
     "name": "stdout",
     "output_type": "stream",
     "text": [
      "[('12.9539974', '77.6309395'), ('12.9539974', '77.6309395')]\n"
     ]
    }
   ],
   "source": [
    "from selenium import webdriver\n",
    "from bs4 import BeautifulSoup as bs\n",
    "import re\n",
    "\n",
    "sentence = \"Bengaluru\"\n",
    "url = 'https://www.google.com/maps/search/{}'.format(sentence)\n",
    "\n",
    "driver.get(url)\n",
    "r = re.compile(r'center=(-?\\d+\\.\\d+)%2C(-?\\d+\\.\\d+)')\n",
    "lat_long = r.findall(driver.page_source)\n",
    "\n",
    "\n",
    "print(lat_long)\n",
    "\n",
    "driver.quit()"
   ]
  },
  {
   "cell_type": "code",
   "execution_count": 193,
   "metadata": {},
   "outputs": [
    {
     "data": {
      "text/plain": [
       "[('12.9539974', '77.6309395')]"
      ]
     },
     "execution_count": 193,
     "metadata": {},
     "output_type": "execute_result"
    }
   ],
   "source": [
    "coordinates=lat_long[0:1]\n",
    "coordinates"
   ]
  },
  {
   "cell_type": "markdown",
   "metadata": {},
   "source": [
    "### 6. Write a program to scrap details of all the funding deals for second quarter (i.e. July 20 – September 20) from trak.in"
   ]
  },
  {
   "cell_type": "code",
   "execution_count": 194,
   "metadata": {},
   "outputs": [],
   "source": [
    "#connecting to the webdriver\n",
    "driver = webdriver.Chrome(r\"C:\\Users\\saurabh\\Downloads\\chromedriver_win32\\chromedriver.exe\")"
   ]
  },
  {
   "cell_type": "code",
   "execution_count": 195,
   "metadata": {},
   "outputs": [],
   "source": [
    "#specifying the url of the webpage to be scraped\n",
    "url = \"https://trak.in/\""
   ]
  },
  {
   "cell_type": "code",
   "execution_count": 196,
   "metadata": {},
   "outputs": [],
   "source": [
    "#opening the url through our driver\n",
    "driver.get(url)"
   ]
  },
  {
   "cell_type": "code",
   "execution_count": 197,
   "metadata": {},
   "outputs": [],
   "source": [
    "#clicking on funding deals\n",
    "driver.find_element_by_xpath('//*[@id=\"menu-item-51510\"]/a').click()"
   ]
  },
  {
   "cell_type": "code",
   "execution_count": 218,
   "metadata": {},
   "outputs": [],
   "source": [
    "#creating empty lists\n",
    "\n",
    "Date=[]\n",
    "Startup_name=[]\n",
    "Vertical=[]\n",
    "Sub_vertical=[]\n",
    "Location=[]\n",
    "Investors_name=[]\n",
    "Investment_type=[]\n",
    "Amount=[]"
   ]
  },
  {
   "cell_type": "code",
   "execution_count": 219,
   "metadata": {},
   "outputs": [
    {
     "data": {
      "text/plain": [
       "[<selenium.webdriver.remote.webelement.WebElement (session=\"12440e94b6be5c6d722c0220a5ec7f60\", element=\"6efabc6d-747a-49bb-ae6e-34ff69489327\")>,\n",
       " <selenium.webdriver.remote.webelement.WebElement (session=\"12440e94b6be5c6d722c0220a5ec7f60\", element=\"c62fac2c-e0ce-4c86-bd76-ba13640f4834\")>,\n",
       " <selenium.webdriver.remote.webelement.WebElement (session=\"12440e94b6be5c6d722c0220a5ec7f60\", element=\"e00df8b6-89ea-421a-8345-6690a71de393\")>]"
      ]
     },
     "execution_count": 219,
     "metadata": {},
     "output_type": "execute_result"
    }
   ],
   "source": [
    "#finding all the date tags between July 20 - September 20\n",
    "date = driver.find_elements_by_xpath(\"//td[@class='column-2']\")[34:67]\n",
    "date[0:3]"
   ]
  },
  {
   "cell_type": "code",
   "execution_count": 220,
   "metadata": {},
   "outputs": [
    {
     "data": {
      "text/plain": [
       "['08/09/2020',\n",
       " '12/09/2020',\n",
       " '09/09/2020',\n",
       " '02/09/2020',\n",
       " '09/09/2020',\n",
       " '07/09/2020',\n",
       " '07/09/2020',\n",
       " '31/08/2020',\n",
       " '31/08/2020',\n",
       " '03/09/2020',\n",
       " '08/09/2020',\n",
       " '15/08/2020',\n",
       " '13/08/2020',\n",
       " '13/08/2020',\n",
       " '04/08/2020',\n",
       " '11/08/2020',\n",
       " '12/08/2020',\n",
       " '14/08/2020',\n",
       " '10/08/2020',\n",
       " '07/08/2020',\n",
       " '13/08/2020',\n",
       " '03/08/2020',\n",
       " '04/08/2020',\n",
       " '15/07/2020',\n",
       " '16/07/2020',\n",
       " '16/07/2020',\n",
       " '14/07/2020',\n",
       " '13/07/2020',\n",
       " '09/07/2020',\n",
       " '10/07/2020',\n",
       " '15/07/2020',\n",
       " '14/07/2020',\n",
       " '13/07/2020']"
      ]
     },
     "execution_count": 220,
     "metadata": {},
     "output_type": "execute_result"
    }
   ],
   "source": [
    "#scraping date from date tags\n",
    "for i in date:\n",
    "    dates=i.text.replace(\"\\n\",\" \")\n",
    "    Date.append(dates)\n",
    "Date"
   ]
  },
  {
   "cell_type": "code",
   "execution_count": 221,
   "metadata": {},
   "outputs": [
    {
     "data": {
      "text/plain": [
       "[<selenium.webdriver.remote.webelement.WebElement (session=\"12440e94b6be5c6d722c0220a5ec7f60\", element=\"44efae18-cab7-45a3-b91d-8f54af3af770\")>,\n",
       " <selenium.webdriver.remote.webelement.WebElement (session=\"12440e94b6be5c6d722c0220a5ec7f60\", element=\"e7897280-9eb9-4830-96c1-0909fba49950\")>,\n",
       " <selenium.webdriver.remote.webelement.WebElement (session=\"12440e94b6be5c6d722c0220a5ec7f60\", element=\"9ee534cb-e15f-4b4c-97ae-21f395f2347a\")>]"
      ]
     },
     "execution_count": 221,
     "metadata": {},
     "output_type": "execute_result"
    }
   ],
   "source": [
    "#finding all the startup_name tags between July 20 - September 20\n",
    "startup = driver.find_elements_by_xpath(\"//td[@class='column-3']/a\")[34:67]\n",
    "startup[0:3]"
   ]
  },
  {
   "cell_type": "code",
   "execution_count": 222,
   "metadata": {},
   "outputs": [
    {
     "data": {
      "text/plain": [
       "['Byju’s',\n",
       " 'mCaffeine',\n",
       " 'Qshala',\n",
       " 'Winzo',\n",
       " 'Hippo Video',\n",
       " 'Melorra',\n",
       " '1mg',\n",
       " 'mfine',\n",
       " 'Apna',\n",
       " 'Railofy',\n",
       " 'Cell Propulsion',\n",
       " 'Practo',\n",
       " 'Medlife',\n",
       " 'HungerBox',\n",
       " 'Dunzo',\n",
       " 'Terra.do',\n",
       " 'Classplus',\n",
       " 'Niyo',\n",
       " 'ZestMoney',\n",
       " 'FreshToHome',\n",
       " 'Eduvanz',\n",
       " 'CrowdPouch',\n",
       " 'DrinkPrime',\n",
       " 'Flipkart',\n",
       " 'Vedantu',\n",
       " 'Crio',\n",
       " 'goDutch',\n",
       " 'Mystifly',\n",
       " 'JetSynthesys',\n",
       " 'gigIndia',\n",
       " 'PumPumPum',\n",
       " 'FLYX',\n",
       " 'Open Appliances Pvt. Ltd.']"
      ]
     },
     "execution_count": 222,
     "metadata": {},
     "output_type": "execute_result"
    }
   ],
   "source": [
    "#scraping startup_name from tags\n",
    "for i in startup:\n",
    "    startups=i.text.replace(\"\\n\",\" \")\n",
    "    Startup_name.append(startups)\n",
    "Startup_name"
   ]
  },
  {
   "cell_type": "code",
   "execution_count": 223,
   "metadata": {},
   "outputs": [
    {
     "data": {
      "text/plain": [
       "[<selenium.webdriver.remote.webelement.WebElement (session=\"12440e94b6be5c6d722c0220a5ec7f60\", element=\"47b1ff26-402f-459f-9591-bc17d1ab6aa6\")>,\n",
       " <selenium.webdriver.remote.webelement.WebElement (session=\"12440e94b6be5c6d722c0220a5ec7f60\", element=\"4512cca6-54ea-4bb5-bca5-c10ae933201f\")>,\n",
       " <selenium.webdriver.remote.webelement.WebElement (session=\"12440e94b6be5c6d722c0220a5ec7f60\", element=\"fb1698d9-3cfc-4114-b4e4-ad802e020757\")>]"
      ]
     },
     "execution_count": 223,
     "metadata": {},
     "output_type": "execute_result"
    }
   ],
   "source": [
    "#finding all the Vertical tags between July 20 - September 20\n",
    "vertical = driver.find_elements_by_xpath(\"//td[@class='column-4']\")[34:67]\n",
    "vertical[0:3]"
   ]
  },
  {
   "cell_type": "code",
   "execution_count": 224,
   "metadata": {},
   "outputs": [
    {
     "data": {
      "text/plain": [
       "['EduTech',\n",
       " 'Personal Care',\n",
       " 'EduTech',\n",
       " 'Online Gaming',\n",
       " 'Video Customer Experience(CX) Platform',\n",
       " 'E-commerce',\n",
       " 'E-commerce',\n",
       " 'HealthTech',\n",
       " 'Human Resources',\n",
       " 'Transportation',\n",
       " 'Automobile',\n",
       " 'HealthTech',\n",
       " 'E-commerce',\n",
       " 'FoodTech',\n",
       " 'Hyper-local Logistics',\n",
       " 'EduTech',\n",
       " 'EduTech',\n",
       " 'FinTech',\n",
       " 'FinTech',\n",
       " 'E-commerce',\n",
       " 'FinTech',\n",
       " 'FinTech',\n",
       " 'Water Purification',\n",
       " 'E-commerce',\n",
       " 'EduTech',\n",
       " 'EduTech',\n",
       " 'FinTech',\n",
       " 'Airfare Marketplace',\n",
       " 'Gaming and Entertainment',\n",
       " 'Marketplace',\n",
       " 'Automotive Rental',\n",
       " 'OTT Player',\n",
       " 'Information Technology']"
      ]
     },
     "execution_count": 224,
     "metadata": {},
     "output_type": "execute_result"
    }
   ],
   "source": [
    "#scraping Vertical from tags\n",
    "for i in vertical:\n",
    "    verticals=i.text.replace(\"\\n\",\" \")\n",
    "    Vertical.append(verticals)\n",
    "Vertical"
   ]
  },
  {
   "cell_type": "code",
   "execution_count": 225,
   "metadata": {},
   "outputs": [
    {
     "data": {
      "text/plain": [
       "[<selenium.webdriver.remote.webelement.WebElement (session=\"12440e94b6be5c6d722c0220a5ec7f60\", element=\"68afae78-0cb6-42eb-a074-02f70a5fa90d\")>,\n",
       " <selenium.webdriver.remote.webelement.WebElement (session=\"12440e94b6be5c6d722c0220a5ec7f60\", element=\"5632c736-902e-40c6-99fb-0db5cc3b360d\")>,\n",
       " <selenium.webdriver.remote.webelement.WebElement (session=\"12440e94b6be5c6d722c0220a5ec7f60\", element=\"71f57055-0490-4fff-9ecd-eb507ca07702\")>]"
      ]
     },
     "execution_count": 225,
     "metadata": {},
     "output_type": "execute_result"
    }
   ],
   "source": [
    "#finding all the Sub_vertical tags between July 20 - September 20\n",
    "sub_vertical = driver.find_elements_by_xpath(\"//td[@class='column-5']\")[34:67]\n",
    "sub_vertical[0:3]"
   ]
  },
  {
   "cell_type": "code",
   "execution_count": 226,
   "metadata": {},
   "outputs": [
    {
     "data": {
      "text/plain": [
       "['Online Tutoring',\n",
       " 'Skincare & Haircare',\n",
       " 'Online Curiosity Platform for Kids',\n",
       " 'Online Gaming',\n",
       " 'Video Customer Experience(CX) Platform',\n",
       " 'Online Jewelry Store',\n",
       " 'Online Pharmacy',\n",
       " 'On-Demand Healthcare Services',\n",
       " 'Recruitment Platform',\n",
       " 'WL & RAC protection platform',\n",
       " 'Electric Mobility Solutions',\n",
       " 'Health care and Wellness',\n",
       " 'Online Pharmacy',\n",
       " 'Online Food Delivery Service',\n",
       " 'Online Delivery Services',\n",
       " 'Online Climate School, E-learning',\n",
       " 'E-learning, Online Tutoring',\n",
       " 'Financial Services',\n",
       " 'Financial Services',\n",
       " 'Food Delivery',\n",
       " 'Financial Services',\n",
       " 'Financial Services',\n",
       " 'Water Purification',\n",
       " 'E-commerce',\n",
       " 'Online Tutoring',\n",
       " 'Learning Platform for Developers',\n",
       " 'Group Payments',\n",
       " 'Ticketing, Airline Retailing, and Post-Ticketing Services',\n",
       " 'Gaming and Entertainment',\n",
       " 'Crowd Sourcing, Freelance',\n",
       " 'Used Car-leasing platform',\n",
       " 'Streaming Social Network',\n",
       " 'Internet-of-Things Security Solutions']"
      ]
     },
     "execution_count": 226,
     "metadata": {},
     "output_type": "execute_result"
    }
   ],
   "source": [
    "#scraping Sub_vertical from tags\n",
    "for i in sub_vertical:\n",
    "    sub_verticals=i.text.replace(\"\\n\",\" \")\n",
    "    Sub_vertical.append(sub_verticals)\n",
    "Sub_vertical"
   ]
  },
  {
   "cell_type": "code",
   "execution_count": 227,
   "metadata": {},
   "outputs": [
    {
     "data": {
      "text/plain": [
       "[<selenium.webdriver.remote.webelement.WebElement (session=\"12440e94b6be5c6d722c0220a5ec7f60\", element=\"94272e21-a072-40bb-a91c-e085683b69c8\")>,\n",
       " <selenium.webdriver.remote.webelement.WebElement (session=\"12440e94b6be5c6d722c0220a5ec7f60\", element=\"2362c846-4446-4cb0-8dbc-545cb73bc360\")>,\n",
       " <selenium.webdriver.remote.webelement.WebElement (session=\"12440e94b6be5c6d722c0220a5ec7f60\", element=\"8101f392-3500-4fa4-9c22-cca5d4b88635\")>]"
      ]
     },
     "execution_count": 227,
     "metadata": {},
     "output_type": "execute_result"
    }
   ],
   "source": [
    "#finding all the location tags between July 20 - September 20\n",
    "location = driver.find_elements_by_xpath(\"//td[@class='column-6']\")[34:67]\n",
    "location[0:3]"
   ]
  },
  {
   "cell_type": "code",
   "execution_count": 228,
   "metadata": {},
   "outputs": [
    {
     "data": {
      "text/plain": [
       "['Bangalore',\n",
       " 'Mumbai',\n",
       " 'Bangalore',\n",
       " 'New Delhi',\n",
       " 'Newark, Delaware, United States of Amercia',\n",
       " 'Bangalore',\n",
       " 'Gurgaon',\n",
       " 'Bangalore',\n",
       " 'Bangalore',\n",
       " 'Mumbai',\n",
       " 'Bangalore',\n",
       " 'Bangalore',\n",
       " 'Bangalore',\n",
       " 'Bangalore',\n",
       " 'Bangalore',\n",
       " 'Stanford, California,',\n",
       " 'Noida',\n",
       " 'Bangalore',\n",
       " 'Bangalore',\n",
       " 'Bangalore',\n",
       " 'Mumbai',\n",
       " 'Bangalore',\n",
       " 'Bangalore',\n",
       " 'Bangalore',\n",
       " 'Bangalore',\n",
       " 'Bangalore',\n",
       " 'Mumbai',\n",
       " 'Singapore and Bangalore',\n",
       " 'Pune',\n",
       " 'Pune',\n",
       " 'Gurgaon',\n",
       " 'New York and Delhi',\n",
       " 'Bangalore']"
      ]
     },
     "execution_count": 228,
     "metadata": {},
     "output_type": "execute_result"
    }
   ],
   "source": [
    "#scraping Location from tags\n",
    "for i in location:\n",
    "    locations=i.text.replace(\"\\n\",\" \")\n",
    "    Location.append(locations)\n",
    "Location"
   ]
  },
  {
   "cell_type": "code",
   "execution_count": 229,
   "metadata": {},
   "outputs": [
    {
     "data": {
      "text/plain": [
       "[<selenium.webdriver.remote.webelement.WebElement (session=\"12440e94b6be5c6d722c0220a5ec7f60\", element=\"a41c68d4-6f30-4d0c-ae97-a7b3098f590c\")>,\n",
       " <selenium.webdriver.remote.webelement.WebElement (session=\"12440e94b6be5c6d722c0220a5ec7f60\", element=\"1eb62d4c-df38-44da-a433-5ebbb73b8df8\")>,\n",
       " <selenium.webdriver.remote.webelement.WebElement (session=\"12440e94b6be5c6d722c0220a5ec7f60\", element=\"27911501-8770-40d5-b342-a2630a51025d\")>]"
      ]
     },
     "execution_count": 229,
     "metadata": {},
     "output_type": "execute_result"
    }
   ],
   "source": [
    "#finding all the investors_name tags between July 20 - September 20\n",
    "investors_name = driver.find_elements_by_xpath(\"//td[@class='column-7']\")[34:67]\n",
    "investors_name[0:3]"
   ]
  },
  {
   "cell_type": "code",
   "execution_count": 230,
   "metadata": {},
   "outputs": [
    {
     "data": {
      "text/plain": [
       "['Silver Lake, Tiger Global, General Atlantic and Owl Ventures',\n",
       " 'Amicus Capital Private Equity I LLP, Amicus Capital Partners India Fund I and RP-SG Venture Fund 1',\n",
       " 'Rainmatter Capital',\n",
       " 'Kalaari Capital Partners, IndigoEdge Management Consultancy',\n",
       " 'Alpha Wave Incubation, Exfinity Venture Partners and existing backers.',\n",
       " 'Shadow Holdings, Lightbox.',\n",
       " 'Gaja Capital, Tata Capital, Partners Group',\n",
       " 'Caretech Pte Inc',\n",
       " 'Lightspeed India and Sequoia Capital India',\n",
       " 'Chiratae Ventures',\n",
       " 'growX Ventures and Micelio',\n",
       " 'A1A Company',\n",
       " 'Prasid Uno Family Trust and SC Credit Fund',\n",
       " 'One97, Sabre Partners Trust, Pratithi Investment Trust, and Srihari Kumar',\n",
       " 'Existing Backers',\n",
       " 'Stanford Angels and Entrepreneurs (India), BEENEXT Emerging Asia, Rainmatter Capital',\n",
       " 'Falcon Edge',\n",
       " 'Niyo Solutions Inc.',\n",
       " 'Primrose Hills Ventures',\n",
       " 'Ascent Capital',\n",
       " 'Sequoia India, Unitus',\n",
       " 'Elina Investments Pvt. Ltd',\n",
       " 'Sequoia Surge, ON Mauritius',\n",
       " 'Walmart Inc',\n",
       " 'Coatue Management',\n",
       " '021 Capital',\n",
       " 'Matrix India,Y Combinator, Global Founders Capital, Soma Capital, and VentureSouq.',\n",
       " 'Recruit Co. Ltd.',\n",
       " 'Adar Poonawalla and Kris Gopalakrishnan.',\n",
       " 'Incubate Fund India and Beyond Next Ventures',\n",
       " 'Early Adapters Syndicate',\n",
       " 'Raj Mishra, founder of AIT Global Inc',\n",
       " 'Unicorn India Ventures']"
      ]
     },
     "execution_count": 230,
     "metadata": {},
     "output_type": "execute_result"
    }
   ],
   "source": [
    "#scraping Investors_name from tags\n",
    "for i in investors_name:\n",
    "    investors_names=i.text.replace(\"\\n\",\" \")\n",
    "    Investors_name.append(investors_names)\n",
    "Investors_name"
   ]
  },
  {
   "cell_type": "code",
   "execution_count": 231,
   "metadata": {},
   "outputs": [
    {
     "data": {
      "text/plain": [
       "[<selenium.webdriver.remote.webelement.WebElement (session=\"12440e94b6be5c6d722c0220a5ec7f60\", element=\"3d677732-a74f-431b-8edf-2647d666ad1d\")>,\n",
       " <selenium.webdriver.remote.webelement.WebElement (session=\"12440e94b6be5c6d722c0220a5ec7f60\", element=\"4a3c5fd3-0628-4f45-95c5-2389e11fd808\")>,\n",
       " <selenium.webdriver.remote.webelement.WebElement (session=\"12440e94b6be5c6d722c0220a5ec7f60\", element=\"48aef6e9-ec45-43db-b8fe-277c9e2ce7d3\")>]"
      ]
     },
     "execution_count": 231,
     "metadata": {},
     "output_type": "execute_result"
    }
   ],
   "source": [
    "#finding all the investment_type tags between July 20 - September 20\n",
    "investment_type = driver.find_elements_by_xpath(\"//td[@class='column-8']\")[34:67]\n",
    "investment_type[0:3]"
   ]
  },
  {
   "cell_type": "code",
   "execution_count": 232,
   "metadata": {},
   "outputs": [
    {
     "data": {
      "text/plain": [
       "['Private Equity',\n",
       " 'Series B',\n",
       " 'Angel',\n",
       " 'Series B',\n",
       " 'Series A',\n",
       " 'Debt Financing',\n",
       " 'In Progress',\n",
       " 'Series B',\n",
       " 'Series A',\n",
       " 'Seed',\n",
       " 'pre-Series A',\n",
       " 'Series F',\n",
       " '',\n",
       " 'Series D1',\n",
       " 'In Progress',\n",
       " 'Seed',\n",
       " 'In Progress',\n",
       " '',\n",
       " '',\n",
       " 'Venture',\n",
       " 'Series A',\n",
       " 'Angel',\n",
       " 'Pre-Series A',\n",
       " 'M&A',\n",
       " 'Series D',\n",
       " 'pre-Series A',\n",
       " 'Seed',\n",
       " 'pre-Series B',\n",
       " 'Venture-Series Unknown',\n",
       " 'pre-Series A',\n",
       " 'Seed',\n",
       " 'pre-Seed',\n",
       " 'Venture-Series Unknown']"
      ]
     },
     "execution_count": 232,
     "metadata": {},
     "output_type": "execute_result"
    }
   ],
   "source": [
    "#scraping Investment_type from tags\n",
    "for i in investment_type:\n",
    "    investment_types=i.text.replace(\"\\n\",\" \")\n",
    "    Investment_type.append(investment_types)\n",
    "Investment_type"
   ]
  },
  {
   "cell_type": "code",
   "execution_count": 245,
   "metadata": {},
   "outputs": [
    {
     "data": {
      "text/plain": [
       "[<selenium.webdriver.remote.webelement.WebElement (session=\"12440e94b6be5c6d722c0220a5ec7f60\", element=\"0c7a6bc4-035f-4747-b61c-c38115a88667\")>,\n",
       " <selenium.webdriver.remote.webelement.WebElement (session=\"12440e94b6be5c6d722c0220a5ec7f60\", element=\"b4789240-435a-4b9b-b459-b3b45e41b0f1\")>,\n",
       " <selenium.webdriver.remote.webelement.WebElement (session=\"12440e94b6be5c6d722c0220a5ec7f60\", element=\"08348d4e-fd18-4e85-bdf4-e16315ce607a\")>]"
      ]
     },
     "execution_count": 245,
     "metadata": {},
     "output_type": "execute_result"
    }
   ],
   "source": [
    "#finding all the amount tags between July 20 - September 20\n",
    "amount = driver.find_elements_by_xpath(\"//td[@class='column-9']\")[34:67]\n",
    "amount[0:3]"
   ]
  },
  {
   "cell_type": "code",
   "execution_count": 246,
   "metadata": {},
   "outputs": [
    {
     "data": {
      "text/plain": [
       "['500,000,000',\n",
       " '3,000,000',\n",
       " '370,000',\n",
       " '15,500,000',\n",
       " '4,500,000',\n",
       " 'upto 8,900,000',\n",
       " '100,000,000',\n",
       " '5,400,000',\n",
       " '8,000,000',\n",
       " '950,000',\n",
       " 'NA',\n",
       " '32,000,000',\n",
       " '23,000,000',\n",
       " '1,560,000',\n",
       " '30,000,000',\n",
       " '1,400,000',\n",
       " 'upto 15,000,000',\n",
       " '6,000,000',\n",
       " '10,670,000',\n",
       " '16,200,000',\n",
       " '5,000,000',\n",
       " 'NA',\n",
       " '2,880,000',\n",
       " '1,200,000,000',\n",
       " '100,000,000',\n",
       " '934,160',\n",
       " '1,700,000',\n",
       " '3,300,000',\n",
       " '400,000',\n",
       " '974,200',\n",
       " '292,800',\n",
       " '200,000',\n",
       " '500,000']"
      ]
     },
     "execution_count": 246,
     "metadata": {},
     "output_type": "execute_result"
    }
   ],
   "source": [
    "#scraping Amount from tags\n",
    "for i in amount:\n",
    "    amounts=i.text.replace(\"\\n\",\" \")\n",
    "    Amount.append(amounts)\n",
    "Amount"
   ]
  },
  {
   "cell_type": "code",
   "execution_count": 247,
   "metadata": {},
   "outputs": [
    {
     "name": "stdout",
     "output_type": "stream",
     "text": [
      "33 33 33 33 33 33 33 33\n"
     ]
    }
   ],
   "source": [
    "#printing lengths\n",
    "print(len(Date),len(Startup_name),len(Vertical),len(Sub_vertical),len(Location),len(Investors_name),len(Investment_type),len(Amount))"
   ]
  },
  {
   "cell_type": "code",
   "execution_count": 249,
   "metadata": {},
   "outputs": [],
   "source": [
    "#creating a dataframe\n",
    "\n",
    "Funding_deals=pd.DataFrame({})\n",
    "Funding_deals['Date']=Date\n",
    "Funding_deals['Startup_name']=Startup_name\n",
    "Funding_deals['Vertical']=Vertical\n",
    "Funding_deals['Sub_vertical']=Sub_vertical\n",
    "Funding_deals['Location']=Location\n",
    "Funding_deals['Investors_name']=Investors_name\n",
    "Funding_deals['Investment_type']=Investment_type\n",
    "Funding_deals['Amount']=Amount"
   ]
  },
  {
   "cell_type": "code",
   "execution_count": 250,
   "metadata": {},
   "outputs": [
    {
     "data": {
      "text/html": [
       "<div>\n",
       "<style scoped>\n",
       "    .dataframe tbody tr th:only-of-type {\n",
       "        vertical-align: middle;\n",
       "    }\n",
       "\n",
       "    .dataframe tbody tr th {\n",
       "        vertical-align: top;\n",
       "    }\n",
       "\n",
       "    .dataframe thead th {\n",
       "        text-align: right;\n",
       "    }\n",
       "</style>\n",
       "<table border=\"1\" class=\"dataframe\">\n",
       "  <thead>\n",
       "    <tr style=\"text-align: right;\">\n",
       "      <th></th>\n",
       "      <th>Date</th>\n",
       "      <th>Startup_name</th>\n",
       "      <th>Vertical</th>\n",
       "      <th>Sub_vertical</th>\n",
       "      <th>Location</th>\n",
       "      <th>Investors_name</th>\n",
       "      <th>Investment_type</th>\n",
       "      <th>Amount</th>\n",
       "    </tr>\n",
       "  </thead>\n",
       "  <tbody>\n",
       "    <tr>\n",
       "      <th>0</th>\n",
       "      <td>08/09/2020</td>\n",
       "      <td>Byju’s</td>\n",
       "      <td>EduTech</td>\n",
       "      <td>Online Tutoring</td>\n",
       "      <td>Bangalore</td>\n",
       "      <td>Silver Lake, Tiger Global, General Atlantic an...</td>\n",
       "      <td>Private Equity</td>\n",
       "      <td>500,000,000</td>\n",
       "    </tr>\n",
       "    <tr>\n",
       "      <th>1</th>\n",
       "      <td>12/09/2020</td>\n",
       "      <td>mCaffeine</td>\n",
       "      <td>Personal Care</td>\n",
       "      <td>Skincare &amp; Haircare</td>\n",
       "      <td>Mumbai</td>\n",
       "      <td>Amicus Capital Private Equity I LLP, Amicus Ca...</td>\n",
       "      <td>Series B</td>\n",
       "      <td>3,000,000</td>\n",
       "    </tr>\n",
       "    <tr>\n",
       "      <th>2</th>\n",
       "      <td>09/09/2020</td>\n",
       "      <td>Qshala</td>\n",
       "      <td>EduTech</td>\n",
       "      <td>Online Curiosity Platform for Kids</td>\n",
       "      <td>Bangalore</td>\n",
       "      <td>Rainmatter Capital</td>\n",
       "      <td>Angel</td>\n",
       "      <td>370,000</td>\n",
       "    </tr>\n",
       "    <tr>\n",
       "      <th>3</th>\n",
       "      <td>02/09/2020</td>\n",
       "      <td>Winzo</td>\n",
       "      <td>Online Gaming</td>\n",
       "      <td>Online Gaming</td>\n",
       "      <td>New Delhi</td>\n",
       "      <td>Kalaari Capital Partners, IndigoEdge Managemen...</td>\n",
       "      <td>Series B</td>\n",
       "      <td>15,500,000</td>\n",
       "    </tr>\n",
       "    <tr>\n",
       "      <th>4</th>\n",
       "      <td>09/09/2020</td>\n",
       "      <td>Hippo Video</td>\n",
       "      <td>Video Customer Experience(CX) Platform</td>\n",
       "      <td>Video Customer Experience(CX) Platform</td>\n",
       "      <td>Newark, Delaware, United States of Amercia</td>\n",
       "      <td>Alpha Wave Incubation, Exfinity Venture Partne...</td>\n",
       "      <td>Series A</td>\n",
       "      <td>4,500,000</td>\n",
       "    </tr>\n",
       "    <tr>\n",
       "      <th>5</th>\n",
       "      <td>07/09/2020</td>\n",
       "      <td>Melorra</td>\n",
       "      <td>E-commerce</td>\n",
       "      <td>Online Jewelry Store</td>\n",
       "      <td>Bangalore</td>\n",
       "      <td>Shadow Holdings, Lightbox.</td>\n",
       "      <td>Debt Financing</td>\n",
       "      <td>upto 8,900,000</td>\n",
       "    </tr>\n",
       "    <tr>\n",
       "      <th>6</th>\n",
       "      <td>07/09/2020</td>\n",
       "      <td>1mg</td>\n",
       "      <td>E-commerce</td>\n",
       "      <td>Online Pharmacy</td>\n",
       "      <td>Gurgaon</td>\n",
       "      <td>Gaja Capital, Tata Capital, Partners Group</td>\n",
       "      <td>In Progress</td>\n",
       "      <td>100,000,000</td>\n",
       "    </tr>\n",
       "    <tr>\n",
       "      <th>7</th>\n",
       "      <td>31/08/2020</td>\n",
       "      <td>mfine</td>\n",
       "      <td>HealthTech</td>\n",
       "      <td>On-Demand Healthcare Services</td>\n",
       "      <td>Bangalore</td>\n",
       "      <td>Caretech Pte Inc</td>\n",
       "      <td>Series B</td>\n",
       "      <td>5,400,000</td>\n",
       "    </tr>\n",
       "    <tr>\n",
       "      <th>8</th>\n",
       "      <td>31/08/2020</td>\n",
       "      <td>Apna</td>\n",
       "      <td>Human Resources</td>\n",
       "      <td>Recruitment Platform</td>\n",
       "      <td>Bangalore</td>\n",
       "      <td>Lightspeed India and Sequoia Capital India</td>\n",
       "      <td>Series A</td>\n",
       "      <td>8,000,000</td>\n",
       "    </tr>\n",
       "    <tr>\n",
       "      <th>9</th>\n",
       "      <td>03/09/2020</td>\n",
       "      <td>Railofy</td>\n",
       "      <td>Transportation</td>\n",
       "      <td>WL &amp; RAC protection platform</td>\n",
       "      <td>Mumbai</td>\n",
       "      <td>Chiratae Ventures</td>\n",
       "      <td>Seed</td>\n",
       "      <td>950,000</td>\n",
       "    </tr>\n",
       "    <tr>\n",
       "      <th>10</th>\n",
       "      <td>08/09/2020</td>\n",
       "      <td>Cell Propulsion</td>\n",
       "      <td>Automobile</td>\n",
       "      <td>Electric Mobility Solutions</td>\n",
       "      <td>Bangalore</td>\n",
       "      <td>growX Ventures and Micelio</td>\n",
       "      <td>pre-Series A</td>\n",
       "      <td>NA</td>\n",
       "    </tr>\n",
       "    <tr>\n",
       "      <th>11</th>\n",
       "      <td>15/08/2020</td>\n",
       "      <td>Practo</td>\n",
       "      <td>HealthTech</td>\n",
       "      <td>Health care and Wellness</td>\n",
       "      <td>Bangalore</td>\n",
       "      <td>A1A Company</td>\n",
       "      <td>Series F</td>\n",
       "      <td>32,000,000</td>\n",
       "    </tr>\n",
       "    <tr>\n",
       "      <th>12</th>\n",
       "      <td>13/08/2020</td>\n",
       "      <td>Medlife</td>\n",
       "      <td>E-commerce</td>\n",
       "      <td>Online Pharmacy</td>\n",
       "      <td>Bangalore</td>\n",
       "      <td>Prasid Uno Family Trust and SC Credit Fund</td>\n",
       "      <td></td>\n",
       "      <td>23,000,000</td>\n",
       "    </tr>\n",
       "    <tr>\n",
       "      <th>13</th>\n",
       "      <td>13/08/2020</td>\n",
       "      <td>HungerBox</td>\n",
       "      <td>FoodTech</td>\n",
       "      <td>Online Food Delivery Service</td>\n",
       "      <td>Bangalore</td>\n",
       "      <td>One97, Sabre Partners Trust, Pratithi Investme...</td>\n",
       "      <td>Series D1</td>\n",
       "      <td>1,560,000</td>\n",
       "    </tr>\n",
       "    <tr>\n",
       "      <th>14</th>\n",
       "      <td>04/08/2020</td>\n",
       "      <td>Dunzo</td>\n",
       "      <td>Hyper-local Logistics</td>\n",
       "      <td>Online Delivery Services</td>\n",
       "      <td>Bangalore</td>\n",
       "      <td>Existing Backers</td>\n",
       "      <td>In Progress</td>\n",
       "      <td>30,000,000</td>\n",
       "    </tr>\n",
       "    <tr>\n",
       "      <th>15</th>\n",
       "      <td>11/08/2020</td>\n",
       "      <td>Terra.do</td>\n",
       "      <td>EduTech</td>\n",
       "      <td>Online Climate School, E-learning</td>\n",
       "      <td>Stanford, California,</td>\n",
       "      <td>Stanford Angels and Entrepreneurs (India), BEE...</td>\n",
       "      <td>Seed</td>\n",
       "      <td>1,400,000</td>\n",
       "    </tr>\n",
       "    <tr>\n",
       "      <th>16</th>\n",
       "      <td>12/08/2020</td>\n",
       "      <td>Classplus</td>\n",
       "      <td>EduTech</td>\n",
       "      <td>E-learning, Online Tutoring</td>\n",
       "      <td>Noida</td>\n",
       "      <td>Falcon Edge</td>\n",
       "      <td>In Progress</td>\n",
       "      <td>upto 15,000,000</td>\n",
       "    </tr>\n",
       "    <tr>\n",
       "      <th>17</th>\n",
       "      <td>14/08/2020</td>\n",
       "      <td>Niyo</td>\n",
       "      <td>FinTech</td>\n",
       "      <td>Financial Services</td>\n",
       "      <td>Bangalore</td>\n",
       "      <td>Niyo Solutions Inc.</td>\n",
       "      <td></td>\n",
       "      <td>6,000,000</td>\n",
       "    </tr>\n",
       "    <tr>\n",
       "      <th>18</th>\n",
       "      <td>10/08/2020</td>\n",
       "      <td>ZestMoney</td>\n",
       "      <td>FinTech</td>\n",
       "      <td>Financial Services</td>\n",
       "      <td>Bangalore</td>\n",
       "      <td>Primrose Hills Ventures</td>\n",
       "      <td></td>\n",
       "      <td>10,670,000</td>\n",
       "    </tr>\n",
       "    <tr>\n",
       "      <th>19</th>\n",
       "      <td>07/08/2020</td>\n",
       "      <td>FreshToHome</td>\n",
       "      <td>E-commerce</td>\n",
       "      <td>Food Delivery</td>\n",
       "      <td>Bangalore</td>\n",
       "      <td>Ascent Capital</td>\n",
       "      <td>Venture</td>\n",
       "      <td>16,200,000</td>\n",
       "    </tr>\n",
       "    <tr>\n",
       "      <th>20</th>\n",
       "      <td>13/08/2020</td>\n",
       "      <td>Eduvanz</td>\n",
       "      <td>FinTech</td>\n",
       "      <td>Financial Services</td>\n",
       "      <td>Mumbai</td>\n",
       "      <td>Sequoia India, Unitus</td>\n",
       "      <td>Series A</td>\n",
       "      <td>5,000,000</td>\n",
       "    </tr>\n",
       "    <tr>\n",
       "      <th>21</th>\n",
       "      <td>03/08/2020</td>\n",
       "      <td>CrowdPouch</td>\n",
       "      <td>FinTech</td>\n",
       "      <td>Financial Services</td>\n",
       "      <td>Bangalore</td>\n",
       "      <td>Elina Investments Pvt. Ltd</td>\n",
       "      <td>Angel</td>\n",
       "      <td>NA</td>\n",
       "    </tr>\n",
       "    <tr>\n",
       "      <th>22</th>\n",
       "      <td>04/08/2020</td>\n",
       "      <td>DrinkPrime</td>\n",
       "      <td>Water Purification</td>\n",
       "      <td>Water Purification</td>\n",
       "      <td>Bangalore</td>\n",
       "      <td>Sequoia Surge, ON Mauritius</td>\n",
       "      <td>Pre-Series A</td>\n",
       "      <td>2,880,000</td>\n",
       "    </tr>\n",
       "    <tr>\n",
       "      <th>23</th>\n",
       "      <td>15/07/2020</td>\n",
       "      <td>Flipkart</td>\n",
       "      <td>E-commerce</td>\n",
       "      <td>E-commerce</td>\n",
       "      <td>Bangalore</td>\n",
       "      <td>Walmart Inc</td>\n",
       "      <td>M&amp;A</td>\n",
       "      <td>1,200,000,000</td>\n",
       "    </tr>\n",
       "    <tr>\n",
       "      <th>24</th>\n",
       "      <td>16/07/2020</td>\n",
       "      <td>Vedantu</td>\n",
       "      <td>EduTech</td>\n",
       "      <td>Online Tutoring</td>\n",
       "      <td>Bangalore</td>\n",
       "      <td>Coatue Management</td>\n",
       "      <td>Series D</td>\n",
       "      <td>100,000,000</td>\n",
       "    </tr>\n",
       "    <tr>\n",
       "      <th>25</th>\n",
       "      <td>16/07/2020</td>\n",
       "      <td>Crio</td>\n",
       "      <td>EduTech</td>\n",
       "      <td>Learning Platform for Developers</td>\n",
       "      <td>Bangalore</td>\n",
       "      <td>021 Capital</td>\n",
       "      <td>pre-Series A</td>\n",
       "      <td>934,160</td>\n",
       "    </tr>\n",
       "    <tr>\n",
       "      <th>26</th>\n",
       "      <td>14/07/2020</td>\n",
       "      <td>goDutch</td>\n",
       "      <td>FinTech</td>\n",
       "      <td>Group Payments</td>\n",
       "      <td>Mumbai</td>\n",
       "      <td>Matrix India,Y Combinator, Global Founders Cap...</td>\n",
       "      <td>Seed</td>\n",
       "      <td>1,700,000</td>\n",
       "    </tr>\n",
       "    <tr>\n",
       "      <th>27</th>\n",
       "      <td>13/07/2020</td>\n",
       "      <td>Mystifly</td>\n",
       "      <td>Airfare Marketplace</td>\n",
       "      <td>Ticketing, Airline Retailing, and Post-Ticketi...</td>\n",
       "      <td>Singapore and Bangalore</td>\n",
       "      <td>Recruit Co. Ltd.</td>\n",
       "      <td>pre-Series B</td>\n",
       "      <td>3,300,000</td>\n",
       "    </tr>\n",
       "    <tr>\n",
       "      <th>28</th>\n",
       "      <td>09/07/2020</td>\n",
       "      <td>JetSynthesys</td>\n",
       "      <td>Gaming and Entertainment</td>\n",
       "      <td>Gaming and Entertainment</td>\n",
       "      <td>Pune</td>\n",
       "      <td>Adar Poonawalla and Kris Gopalakrishnan.</td>\n",
       "      <td>Venture-Series Unknown</td>\n",
       "      <td>400,000</td>\n",
       "    </tr>\n",
       "    <tr>\n",
       "      <th>29</th>\n",
       "      <td>10/07/2020</td>\n",
       "      <td>gigIndia</td>\n",
       "      <td>Marketplace</td>\n",
       "      <td>Crowd Sourcing, Freelance</td>\n",
       "      <td>Pune</td>\n",
       "      <td>Incubate Fund India and Beyond Next Ventures</td>\n",
       "      <td>pre-Series A</td>\n",
       "      <td>974,200</td>\n",
       "    </tr>\n",
       "    <tr>\n",
       "      <th>30</th>\n",
       "      <td>15/07/2020</td>\n",
       "      <td>PumPumPum</td>\n",
       "      <td>Automotive Rental</td>\n",
       "      <td>Used Car-leasing platform</td>\n",
       "      <td>Gurgaon</td>\n",
       "      <td>Early Adapters Syndicate</td>\n",
       "      <td>Seed</td>\n",
       "      <td>292,800</td>\n",
       "    </tr>\n",
       "    <tr>\n",
       "      <th>31</th>\n",
       "      <td>14/07/2020</td>\n",
       "      <td>FLYX</td>\n",
       "      <td>OTT Player</td>\n",
       "      <td>Streaming Social Network</td>\n",
       "      <td>New York and Delhi</td>\n",
       "      <td>Raj Mishra, founder of AIT Global Inc</td>\n",
       "      <td>pre-Seed</td>\n",
       "      <td>200,000</td>\n",
       "    </tr>\n",
       "    <tr>\n",
       "      <th>32</th>\n",
       "      <td>13/07/2020</td>\n",
       "      <td>Open Appliances Pvt. Ltd.</td>\n",
       "      <td>Information Technology</td>\n",
       "      <td>Internet-of-Things Security Solutions</td>\n",
       "      <td>Bangalore</td>\n",
       "      <td>Unicorn India Ventures</td>\n",
       "      <td>Venture-Series Unknown</td>\n",
       "      <td>500,000</td>\n",
       "    </tr>\n",
       "  </tbody>\n",
       "</table>\n",
       "</div>"
      ],
      "text/plain": [
       "          Date               Startup_name  \\\n",
       "0   08/09/2020                     Byju’s   \n",
       "1   12/09/2020                  mCaffeine   \n",
       "2   09/09/2020                     Qshala   \n",
       "3   02/09/2020                      Winzo   \n",
       "4   09/09/2020                Hippo Video   \n",
       "5   07/09/2020                    Melorra   \n",
       "6   07/09/2020                        1mg   \n",
       "7   31/08/2020                      mfine   \n",
       "8   31/08/2020                       Apna   \n",
       "9   03/09/2020                    Railofy   \n",
       "10  08/09/2020            Cell Propulsion   \n",
       "11  15/08/2020                     Practo   \n",
       "12  13/08/2020                    Medlife   \n",
       "13  13/08/2020                  HungerBox   \n",
       "14  04/08/2020                      Dunzo   \n",
       "15  11/08/2020                   Terra.do   \n",
       "16  12/08/2020                  Classplus   \n",
       "17  14/08/2020                       Niyo   \n",
       "18  10/08/2020                  ZestMoney   \n",
       "19  07/08/2020                FreshToHome   \n",
       "20  13/08/2020                    Eduvanz   \n",
       "21  03/08/2020                 CrowdPouch   \n",
       "22  04/08/2020                 DrinkPrime   \n",
       "23  15/07/2020                   Flipkart   \n",
       "24  16/07/2020                    Vedantu   \n",
       "25  16/07/2020                       Crio   \n",
       "26  14/07/2020                    goDutch   \n",
       "27  13/07/2020                   Mystifly   \n",
       "28  09/07/2020               JetSynthesys   \n",
       "29  10/07/2020                   gigIndia   \n",
       "30  15/07/2020                  PumPumPum   \n",
       "31  14/07/2020                       FLYX   \n",
       "32  13/07/2020  Open Appliances Pvt. Ltd.   \n",
       "\n",
       "                                  Vertical  \\\n",
       "0                                  EduTech   \n",
       "1                            Personal Care   \n",
       "2                                  EduTech   \n",
       "3                            Online Gaming   \n",
       "4   Video Customer Experience(CX) Platform   \n",
       "5                               E-commerce   \n",
       "6                               E-commerce   \n",
       "7                               HealthTech   \n",
       "8                          Human Resources   \n",
       "9                           Transportation   \n",
       "10                              Automobile   \n",
       "11                              HealthTech   \n",
       "12                              E-commerce   \n",
       "13                                FoodTech   \n",
       "14                   Hyper-local Logistics   \n",
       "15                                 EduTech   \n",
       "16                                 EduTech   \n",
       "17                                 FinTech   \n",
       "18                                 FinTech   \n",
       "19                              E-commerce   \n",
       "20                                 FinTech   \n",
       "21                                 FinTech   \n",
       "22                      Water Purification   \n",
       "23                              E-commerce   \n",
       "24                                 EduTech   \n",
       "25                                 EduTech   \n",
       "26                                 FinTech   \n",
       "27                     Airfare Marketplace   \n",
       "28                Gaming and Entertainment   \n",
       "29                             Marketplace   \n",
       "30                       Automotive Rental   \n",
       "31                              OTT Player   \n",
       "32                  Information Technology   \n",
       "\n",
       "                                         Sub_vertical  \\\n",
       "0                                     Online Tutoring   \n",
       "1                                 Skincare & Haircare   \n",
       "2                  Online Curiosity Platform for Kids   \n",
       "3                                       Online Gaming   \n",
       "4              Video Customer Experience(CX) Platform   \n",
       "5                                Online Jewelry Store   \n",
       "6                                     Online Pharmacy   \n",
       "7                       On-Demand Healthcare Services   \n",
       "8                                Recruitment Platform   \n",
       "9                        WL & RAC protection platform   \n",
       "10                        Electric Mobility Solutions   \n",
       "11                           Health care and Wellness   \n",
       "12                                    Online Pharmacy   \n",
       "13                       Online Food Delivery Service   \n",
       "14                           Online Delivery Services   \n",
       "15                  Online Climate School, E-learning   \n",
       "16                        E-learning, Online Tutoring   \n",
       "17                                 Financial Services   \n",
       "18                                 Financial Services   \n",
       "19                                      Food Delivery   \n",
       "20                                 Financial Services   \n",
       "21                                 Financial Services   \n",
       "22                                 Water Purification   \n",
       "23                                         E-commerce   \n",
       "24                                    Online Tutoring   \n",
       "25                   Learning Platform for Developers   \n",
       "26                                     Group Payments   \n",
       "27  Ticketing, Airline Retailing, and Post-Ticketi...   \n",
       "28                           Gaming and Entertainment   \n",
       "29                          Crowd Sourcing, Freelance   \n",
       "30                          Used Car-leasing platform   \n",
       "31                           Streaming Social Network   \n",
       "32              Internet-of-Things Security Solutions   \n",
       "\n",
       "                                      Location  \\\n",
       "0                                    Bangalore   \n",
       "1                                       Mumbai   \n",
       "2                                    Bangalore   \n",
       "3                                    New Delhi   \n",
       "4   Newark, Delaware, United States of Amercia   \n",
       "5                                    Bangalore   \n",
       "6                                      Gurgaon   \n",
       "7                                    Bangalore   \n",
       "8                                    Bangalore   \n",
       "9                                       Mumbai   \n",
       "10                                   Bangalore   \n",
       "11                                   Bangalore   \n",
       "12                                   Bangalore   \n",
       "13                                   Bangalore   \n",
       "14                                   Bangalore   \n",
       "15                       Stanford, California,   \n",
       "16                                       Noida   \n",
       "17                                   Bangalore   \n",
       "18                                   Bangalore   \n",
       "19                                   Bangalore   \n",
       "20                                      Mumbai   \n",
       "21                                   Bangalore   \n",
       "22                                   Bangalore   \n",
       "23                                   Bangalore   \n",
       "24                                   Bangalore   \n",
       "25                                   Bangalore   \n",
       "26                                      Mumbai   \n",
       "27                     Singapore and Bangalore   \n",
       "28                                        Pune   \n",
       "29                                        Pune   \n",
       "30                                     Gurgaon   \n",
       "31                          New York and Delhi   \n",
       "32                                   Bangalore   \n",
       "\n",
       "                                       Investors_name         Investment_type  \\\n",
       "0   Silver Lake, Tiger Global, General Atlantic an...          Private Equity   \n",
       "1   Amicus Capital Private Equity I LLP, Amicus Ca...                Series B   \n",
       "2                                  Rainmatter Capital                   Angel   \n",
       "3   Kalaari Capital Partners, IndigoEdge Managemen...                Series B   \n",
       "4   Alpha Wave Incubation, Exfinity Venture Partne...                Series A   \n",
       "5                          Shadow Holdings, Lightbox.          Debt Financing   \n",
       "6          Gaja Capital, Tata Capital, Partners Group             In Progress   \n",
       "7                                    Caretech Pte Inc                Series B   \n",
       "8          Lightspeed India and Sequoia Capital India                Series A   \n",
       "9                                   Chiratae Ventures                    Seed   \n",
       "10                         growX Ventures and Micelio            pre-Series A   \n",
       "11                                        A1A Company                Series F   \n",
       "12         Prasid Uno Family Trust and SC Credit Fund                           \n",
       "13  One97, Sabre Partners Trust, Pratithi Investme...               Series D1   \n",
       "14                                   Existing Backers             In Progress   \n",
       "15  Stanford Angels and Entrepreneurs (India), BEE...                    Seed   \n",
       "16                                        Falcon Edge             In Progress   \n",
       "17                                Niyo Solutions Inc.                           \n",
       "18                            Primrose Hills Ventures                           \n",
       "19                                     Ascent Capital                 Venture   \n",
       "20                              Sequoia India, Unitus                Series A   \n",
       "21                         Elina Investments Pvt. Ltd                   Angel   \n",
       "22                        Sequoia Surge, ON Mauritius            Pre-Series A   \n",
       "23                                        Walmart Inc                     M&A   \n",
       "24                                  Coatue Management                Series D   \n",
       "25                                        021 Capital            pre-Series A   \n",
       "26  Matrix India,Y Combinator, Global Founders Cap...                    Seed   \n",
       "27                                   Recruit Co. Ltd.            pre-Series B   \n",
       "28           Adar Poonawalla and Kris Gopalakrishnan.  Venture-Series Unknown   \n",
       "29       Incubate Fund India and Beyond Next Ventures            pre-Series A   \n",
       "30                           Early Adapters Syndicate                    Seed   \n",
       "31              Raj Mishra, founder of AIT Global Inc                pre-Seed   \n",
       "32                             Unicorn India Ventures  Venture-Series Unknown   \n",
       "\n",
       "             Amount  \n",
       "0       500,000,000  \n",
       "1         3,000,000  \n",
       "2           370,000  \n",
       "3        15,500,000  \n",
       "4         4,500,000  \n",
       "5    upto 8,900,000  \n",
       "6       100,000,000  \n",
       "7         5,400,000  \n",
       "8         8,000,000  \n",
       "9           950,000  \n",
       "10               NA  \n",
       "11       32,000,000  \n",
       "12       23,000,000  \n",
       "13        1,560,000  \n",
       "14       30,000,000  \n",
       "15        1,400,000  \n",
       "16  upto 15,000,000  \n",
       "17        6,000,000  \n",
       "18       10,670,000  \n",
       "19       16,200,000  \n",
       "20        5,000,000  \n",
       "21               NA  \n",
       "22        2,880,000  \n",
       "23    1,200,000,000  \n",
       "24      100,000,000  \n",
       "25          934,160  \n",
       "26        1,700,000  \n",
       "27        3,300,000  \n",
       "28          400,000  \n",
       "29          974,200  \n",
       "30          292,800  \n",
       "31          200,000  \n",
       "32          500,000  "
      ]
     },
     "execution_count": 250,
     "metadata": {},
     "output_type": "execute_result"
    }
   ],
   "source": [
    "Funding_deals"
   ]
  },
  {
   "cell_type": "code",
   "execution_count": 251,
   "metadata": {},
   "outputs": [],
   "source": [
    "#converting into csv format\n",
    "Funding_deals.to_csv(\"Funding_deals.csv\")"
   ]
  },
  {
   "cell_type": "code",
   "execution_count": 252,
   "metadata": {},
   "outputs": [],
   "source": [
    "#closing the driver\n",
    "driver.close()"
   ]
  },
  {
   "cell_type": "markdown",
   "metadata": {},
   "source": [
    "### 7. Write a program to scrap all the available details of top 10 gaming laptops from digit.in. "
   ]
  },
  {
   "cell_type": "code",
   "execution_count": 371,
   "metadata": {},
   "outputs": [],
   "source": [
    "#connecting to the webdriver\n",
    "driver = webdriver.Chrome(r\"C:\\Users\\saurabh\\Downloads\\chromedriver_win32\\chromedriver.exe\")"
   ]
  },
  {
   "cell_type": "code",
   "execution_count": 372,
   "metadata": {},
   "outputs": [],
   "source": [
    "#specifying the url of the webpage to be scraped\n",
    "url = \"https://www.digit.in/top-products/best-gaming-laptops-40.html\""
   ]
  },
  {
   "cell_type": "code",
   "execution_count": 373,
   "metadata": {},
   "outputs": [],
   "source": [
    "#opening the url through our driver\n",
    "driver.get(url)"
   ]
  },
  {
   "cell_type": "code",
   "execution_count": 264,
   "metadata": {},
   "outputs": [
    {
     "data": {
      "text/plain": [
       "[<selenium.webdriver.remote.webelement.WebElement (session=\"aecf65ebe92ba67e47aa0ced53a29fd8\", element=\"9134b591-0031-4cb2-a974-ced2d62d6b39\")>,\n",
       " <selenium.webdriver.remote.webelement.WebElement (session=\"aecf65ebe92ba67e47aa0ced53a29fd8\", element=\"a34bb9ac-7075-472f-b211-8773fb9c6e07\")>,\n",
       " <selenium.webdriver.remote.webelement.WebElement (session=\"aecf65ebe92ba67e47aa0ced53a29fd8\", element=\"e17f0c68-355c-4c7b-916c-d2d35158e3f6\")>]"
      ]
     },
     "execution_count": 264,
     "metadata": {},
     "output_type": "execute_result"
    }
   ],
   "source": [
    "#finding all the seller tags\n",
    "seller = driver.find_elements_by_class_name(\"smmerchant\")\n",
    "seller[0:3]"
   ]
  },
  {
   "cell_type": "code",
   "execution_count": 265,
   "metadata": {},
   "outputs": [
    {
     "data": {
      "text/plain": [
       "['N/A',\n",
       " 'amazon',\n",
       " 'Tatacliq',\n",
       " 'amazon',\n",
       " 'flipkart',\n",
       " 'flipkart',\n",
       " 'amazon',\n",
       " 'N/A',\n",
       " 'amazon',\n",
       " 'amazon']"
      ]
     },
     "execution_count": 265,
     "metadata": {},
     "output_type": "execute_result"
    }
   ],
   "source": [
    "#scraping Seller from seller tags\n",
    "Seller=[]\n",
    "for i in seller:\n",
    "    sellers=i.text.replace(\"\\n\",\" \")\n",
    "    Seller.append(sellers)\n",
    "Seller"
   ]
  },
  {
   "cell_type": "code",
   "execution_count": 266,
   "metadata": {},
   "outputs": [
    {
     "data": {
      "text/plain": [
       "[<selenium.webdriver.remote.webelement.WebElement (session=\"aecf65ebe92ba67e47aa0ced53a29fd8\", element=\"11230b81-5f70-404f-9bc7-0b1bf4dac90d\")>,\n",
       " <selenium.webdriver.remote.webelement.WebElement (session=\"aecf65ebe92ba67e47aa0ced53a29fd8\", element=\"cfde6849-cc71-4492-9fc7-c3ff66e42da3\")>,\n",
       " <selenium.webdriver.remote.webelement.WebElement (session=\"aecf65ebe92ba67e47aa0ced53a29fd8\", element=\"8c80d1e8-213a-4b03-be58-52eb1d6dce77\")>]"
      ]
     },
     "execution_count": 266,
     "metadata": {},
     "output_type": "execute_result"
    }
   ],
   "source": [
    "#finding all the price tags\n",
    "price = driver.find_elements_by_class_name(\"smprice\")\n",
    "price[0:3]"
   ]
  },
  {
   "cell_type": "code",
   "execution_count": 267,
   "metadata": {},
   "outputs": [
    {
     "data": {
      "text/plain": [
       "['₹379990',\n",
       " '₹489909',\n",
       " '₹117790',\n",
       " '₹164990',\n",
       " '₹79990',\n",
       " '₹79990',\n",
       " '₹146000',\n",
       " '₹349990',\n",
       " '₹268990',\n",
       " '₹61990']"
      ]
     },
     "execution_count": 267,
     "metadata": {},
     "output_type": "execute_result"
    }
   ],
   "source": [
    "#scraping price from price tags\n",
    "PRICE=[]\n",
    "for i in price:\n",
    "    prices=i.text.replace(\"\\n\",\" \")\n",
    "    PRICE.append(prices)\n",
    "PRICE"
   ]
  },
  {
   "cell_type": "code",
   "execution_count": 271,
   "metadata": {},
   "outputs": [
    {
     "data": {
      "text/plain": [
       "[<selenium.webdriver.remote.webelement.WebElement (session=\"aecf65ebe92ba67e47aa0ced53a29fd8\", element=\"7e16b5de-bb3c-4da1-a7d0-d95e29af19c5\")>,\n",
       " <selenium.webdriver.remote.webelement.WebElement (session=\"aecf65ebe92ba67e47aa0ced53a29fd8\", element=\"7f0266f3-815d-4d32-87d4-f801732e2611\")>,\n",
       " <selenium.webdriver.remote.webelement.WebElement (session=\"aecf65ebe92ba67e47aa0ced53a29fd8\", element=\"acec5f3b-43dc-42a1-8e26-d331e154b3fe\")>]"
      ]
     },
     "execution_count": 271,
     "metadata": {},
     "output_type": "execute_result"
    }
   ],
   "source": [
    "#finding all the os tags\n",
    "os = driver.find_elements_by_xpath(\"//*[contains(text(), 'OS')]\")\n",
    "os[0:3]"
   ]
  },
  {
   "cell_type": "code",
   "execution_count": 273,
   "metadata": {},
   "outputs": [
    {
     "data": {
      "text/plain": [
       "['',\n",
       " 'OS WINDOWS 10 PRO',\n",
       " 'OS',\n",
       " 'OS WINDOWS 10 PRO',\n",
       " 'OS',\n",
       " 'OS WINDOWS 10 HOME',\n",
       " 'OS',\n",
       " 'OS WINDOWS 10 HOME',\n",
       " 'OS',\n",
       " 'OS WINDOWS 10 HOME',\n",
       " 'OS',\n",
       " 'OS WINDOWS 10 HOME',\n",
       " 'OS',\n",
       " 'OS WINDOWS 10 HOME',\n",
       " 'OS',\n",
       " 'OS WINDOWS 10 HOME 64 BIT',\n",
       " 'OS',\n",
       " 'OS WINDOWS 10',\n",
       " 'OS',\n",
       " 'OS WINDOWS 10 HOME PLUS',\n",
       " 'OS']"
      ]
     },
     "execution_count": 273,
     "metadata": {},
     "output_type": "execute_result"
    }
   ],
   "source": [
    "#scraping os from tags\n",
    "OS=[]\n",
    "for i in os:\n",
    "    os_=i.text.replace(\"\\n\",\" \")\n",
    "    OS.append(os_)\n",
    "OS"
   ]
  },
  {
   "cell_type": "code",
   "execution_count": 275,
   "metadata": {},
   "outputs": [
    {
     "data": {
      "text/plain": [
       "['OS WINDOWS 10 PRO',\n",
       " 'OS WINDOWS 10 PRO',\n",
       " 'OS WINDOWS 10 HOME',\n",
       " 'OS WINDOWS 10 HOME',\n",
       " 'OS WINDOWS 10 HOME',\n",
       " 'OS WINDOWS 10 HOME',\n",
       " 'OS WINDOWS 10 HOME',\n",
       " 'OS WINDOWS 10 HOME 64 BIT',\n",
       " 'OS WINDOWS 10',\n",
       " 'OS WINDOWS 10 HOME PLUS']"
      ]
     },
     "execution_count": 275,
     "metadata": {},
     "output_type": "execute_result"
    }
   ],
   "source": [
    "#slicing only odd elements from list\n",
    "OS_ = OS[1::2]\n",
    "OS_"
   ]
  },
  {
   "cell_type": "code",
   "execution_count": 289,
   "metadata": {},
   "outputs": [
    {
     "data": {
      "text/plain": [
       "['WINDOWS 10 PRO',\n",
       " 'WINDOWS 10 PRO',\n",
       " 'WINDOWS 10 HOME',\n",
       " 'WINDOWS 10 HOME',\n",
       " 'WINDOWS 10 HOME',\n",
       " 'WINDOWS 10 HOME',\n",
       " 'WINDOWS 10 HOME',\n",
       " 'WINDOWS 10 HOME 64 BIT',\n",
       " 'WINDOWS 10',\n",
       " 'WINDOWS 10 HOME PLUS']"
      ]
     },
     "execution_count": 289,
     "metadata": {},
     "output_type": "execute_result"
    }
   ],
   "source": [
    "Operating_system = list(map(lambda x: x.replace('OS ',''),OS_))\n",
    "Operating_system"
   ]
  },
  {
   "cell_type": "code",
   "execution_count": 290,
   "metadata": {},
   "outputs": [
    {
     "data": {
      "text/plain": [
       "[<selenium.webdriver.remote.webelement.WebElement (session=\"aecf65ebe92ba67e47aa0ced53a29fd8\", element=\"34ba396b-0a50-4263-89e5-63572481976f\")>,\n",
       " <selenium.webdriver.remote.webelement.WebElement (session=\"aecf65ebe92ba67e47aa0ced53a29fd8\", element=\"64d91a2f-86cd-48be-b536-fb00e1da8c84\")>,\n",
       " <selenium.webdriver.remote.webelement.WebElement (session=\"aecf65ebe92ba67e47aa0ced53a29fd8\", element=\"511a325e-a769-478a-a649-65dd94549bbf\")>]"
      ]
     },
     "execution_count": 290,
     "metadata": {},
     "output_type": "execute_result"
    }
   ],
   "source": [
    "#finding all the display tags\n",
    "display = driver.find_elements_by_xpath(\"//*[contains(text(), 'Display')]\")\n",
    "display[0:3]"
   ]
  },
  {
   "cell_type": "code",
   "execution_count": 294,
   "metadata": {},
   "outputs": [
    {
     "data": {
      "text/plain": [
       "['DISPLAY 17.3\" (UHD 3840X2160)',\n",
       " 'Display',\n",
       " 'DISPLAY 17.3\" (FHD (1920 X 1080))',\n",
       " 'Display',\n",
       " 'DISPLAY 15.6\" (1920 X 1080)',\n",
       " 'Display',\n",
       " 'DISPLAY 14\" (1920 X 1080)',\n",
       " 'Display',\n",
       " 'DISPLAY 15.6\" (1920 X 1080)',\n",
       " 'Display',\n",
       " 'DISPLAY 15.6\" (1920 X 1080)',\n",
       " 'Display could use more colour',\n",
       " 'Display',\n",
       " 'DISPLAY 15.6\" (1920 X 1080)',\n",
       " 'Display',\n",
       " 'DISPLAY 18.4\" (1920 X 1080)',\n",
       " 'Display',\n",
       " 'DISPLAY 15.6\" (3840 X 1100)',\n",
       " 'Display',\n",
       " 'DISPLAY 15.6 MP | NA',\n",
       " 'Display',\n",
       " '']"
      ]
     },
     "execution_count": 294,
     "metadata": {},
     "output_type": "execute_result"
    }
   ],
   "source": [
    "#scraping os from tags\n",
    "Display=[]\n",
    "for i in display:\n",
    "    display_=i.text.replace(\"\\n\",\" \")\n",
    "    Display.append(display_)\n",
    "Display"
   ]
  },
  {
   "cell_type": "code",
   "execution_count": 295,
   "metadata": {},
   "outputs": [
    {
     "data": {
      "text/plain": [
       "['DISPLAY 17.3\" (UHD 3840X2160)',\n",
       " 'DISPLAY 17.3\" (FHD (1920 X 1080))',\n",
       " 'DISPLAY 15.6\" (1920 X 1080)',\n",
       " 'DISPLAY 14\" (1920 X 1080)',\n",
       " 'DISPLAY 15.6\" (1920 X 1080)',\n",
       " 'DISPLAY 15.6\" (1920 X 1080)',\n",
       " 'DISPLAY 15.6\" (1920 X 1080)',\n",
       " 'DISPLAY 18.4\" (1920 X 1080)',\n",
       " 'DISPLAY 15.6\" (3840 X 1100)',\n",
       " 'DISPLAY 15.6 MP | NA']"
      ]
     },
     "execution_count": 295,
     "metadata": {},
     "output_type": "execute_result"
    }
   ],
   "source": [
    "#poping unwanted elements\n",
    "indices = 1,3,5,7,9,11,12,14,16,18,20,21\n",
    "Display = [i for j, i in enumerate(Display) if j not in indices]\n",
    "Display"
   ]
  },
  {
   "cell_type": "code",
   "execution_count": 296,
   "metadata": {},
   "outputs": [
    {
     "data": {
      "text/plain": [
       "['17.3\" (UHD 3840X2160)',\n",
       " '17.3\" (FHD (1920 X 1080))',\n",
       " '15.6\" (1920 X 1080)',\n",
       " '14\" (1920 X 1080)',\n",
       " '15.6\" (1920 X 1080)',\n",
       " '15.6\" (1920 X 1080)',\n",
       " '15.6\" (1920 X 1080)',\n",
       " '18.4\" (1920 X 1080)',\n",
       " '15.6\" (3840 X 1100)',\n",
       " '15.6 MP | NA']"
      ]
     },
     "execution_count": 296,
     "metadata": {},
     "output_type": "execute_result"
    }
   ],
   "source": [
    "Display = list(map(lambda x: x.replace('DISPLAY ',''),Display))\n",
    "Display"
   ]
  },
  {
   "cell_type": "code",
   "execution_count": 297,
   "metadata": {},
   "outputs": [
    {
     "data": {
      "text/plain": [
       "[<selenium.webdriver.remote.webelement.WebElement (session=\"aecf65ebe92ba67e47aa0ced53a29fd8\", element=\"66e486dd-205c-4c60-a5eb-242d972cb00e\")>,\n",
       " <selenium.webdriver.remote.webelement.WebElement (session=\"aecf65ebe92ba67e47aa0ced53a29fd8\", element=\"89cba721-f3ea-472f-ab6d-982c57ac063e\")>,\n",
       " <selenium.webdriver.remote.webelement.WebElement (session=\"aecf65ebe92ba67e47aa0ced53a29fd8\", element=\"82ae3e23-8e86-4a2f-9580-4c7977f6e015\")>]"
      ]
     },
     "execution_count": 297,
     "metadata": {},
     "output_type": "execute_result"
    }
   ],
   "source": [
    "#finding all the processor tags\n",
    "processor = driver.find_elements_by_xpath(\"//*[contains(text(), 'Processor')]\")\n",
    "processor[0:3]"
   ]
  },
  {
   "cell_type": "code",
   "execution_count": 298,
   "metadata": {},
   "outputs": [
    {
     "data": {
      "text/plain": [
       "['PROCESSOR INTEL 9TH GEN CORE I9-9900K | 5000 MHZ',\n",
       " 'Processor',\n",
       " 'Graphics Processor',\n",
       " 'PROCESSOR INTEL 9TH GEN CORE I9-9900K | 5000 MHZ',\n",
       " 'Processor',\n",
       " 'Graphics Processor',\n",
       " 'PROCESSOR INTEL I7-10750H 10TH GEN | 1.6GHZ',\n",
       " 'Processor',\n",
       " 'Graphics Processor',\n",
       " 'PROCESSOR AMD 3RD GENERATION RYZEN 9 | 3.3 GHZ',\n",
       " 'Processor',\n",
       " 'Graphics Processor',\n",
       " 'PROCESSOR 9TH GENERATION CORE INTEL I7-9750H | 2.6 GHZ',\n",
       " 'Processor',\n",
       " 'Graphics Processor',\n",
       " 'PROCESSOR AMD RYZEN 7 QUAD CORE 3750H | 2.3 GHZ',\n",
       " 'Processor',\n",
       " 'Graphics Processor',\n",
       " 'PROCESSOR 9TH GEN INTEL CORE I7-8750H | 2.2 GHZ',\n",
       " 'Processor',\n",
       " 'Graphics Processor',\n",
       " 'PROCESSOR INTEL CM238 CORE I7-7820HK+CM238 7TH GEN | 3.5GHZ',\n",
       " 'Processor',\n",
       " 'Graphics Processor',\n",
       " 'PROCESSOR INTEL CORE I7 10TH GEN 10875H | NA',\n",
       " 'Processor',\n",
       " 'Graphics Processor',\n",
       " 'PROCESSOR 8TH GENERATION INTEL® CORE™ I7-8750H | NA',\n",
       " 'Processor',\n",
       " 'Graphics Processor',\n",
       " 'Best Laptops with Intel Core i5 Processor']"
      ]
     },
     "execution_count": 298,
     "metadata": {},
     "output_type": "execute_result"
    }
   ],
   "source": [
    "#scraping processor from tags\n",
    "Processor=[]\n",
    "for i in processor:\n",
    "    processor_=i.text.replace(\"\\n\",\" \")\n",
    "    Processor.append(processor_)\n",
    "Processor"
   ]
  },
  {
   "cell_type": "code",
   "execution_count": 302,
   "metadata": {},
   "outputs": [
    {
     "data": {
      "text/plain": [
       "['PROCESSOR INTEL 9TH GEN CORE I9-9900K | 5000 MHZ',\n",
       " 'PROCESSOR INTEL 9TH GEN CORE I9-9900K | 5000 MHZ',\n",
       " 'PROCESSOR INTEL I7-10750H 10TH GEN | 1.6GHZ',\n",
       " 'PROCESSOR AMD 3RD GENERATION RYZEN 9 | 3.3 GHZ',\n",
       " 'PROCESSOR 9TH GENERATION CORE INTEL I7-9750H | 2.6 GHZ',\n",
       " 'PROCESSOR AMD RYZEN 7 QUAD CORE 3750H | 2.3 GHZ',\n",
       " 'PROCESSOR 9TH GEN INTEL CORE I7-8750H | 2.2 GHZ',\n",
       " 'PROCESSOR INTEL CM238 CORE I7-7820HK+CM238 7TH GEN | 3.5GHZ',\n",
       " 'PROCESSOR INTEL CORE I7 10TH GEN 10875H | NA',\n",
       " 'PROCESSOR 8TH GENERATION INTEL® CORE™ I7-8750H | NA']"
      ]
     },
     "execution_count": 302,
     "metadata": {},
     "output_type": "execute_result"
    }
   ],
   "source": [
    "#keeping required elements\n",
    "indices=[0,3,6,9,12,15,18,21,24,27]\n",
    "Processor = [ Processor[index] for index in indices ]\n",
    "Processor"
   ]
  },
  {
   "cell_type": "code",
   "execution_count": 303,
   "metadata": {},
   "outputs": [
    {
     "data": {
      "text/plain": [
       "['INTEL 9TH GEN CORE I9-9900K | 5000 MHZ',\n",
       " 'INTEL 9TH GEN CORE I9-9900K | 5000 MHZ',\n",
       " 'INTEL I7-10750H 10TH GEN | 1.6GHZ',\n",
       " 'AMD 3RD GENERATION RYZEN 9 | 3.3 GHZ',\n",
       " '9TH GENERATION CORE INTEL I7-9750H | 2.6 GHZ',\n",
       " 'AMD RYZEN 7 QUAD CORE 3750H | 2.3 GHZ',\n",
       " '9TH GEN INTEL CORE I7-8750H | 2.2 GHZ',\n",
       " 'INTEL CM238 CORE I7-7820HK+CM238 7TH GEN | 3.5GHZ',\n",
       " 'INTEL CORE I7 10TH GEN 10875H | NA',\n",
       " '8TH GENERATION INTEL® CORE™ I7-8750H | NA']"
      ]
     },
     "execution_count": 303,
     "metadata": {},
     "output_type": "execute_result"
    }
   ],
   "source": [
    "Processor = list(map(lambda x: x.replace('PROCESSOR ',''),Processor))\n",
    "Processor"
   ]
  },
  {
   "cell_type": "code",
   "execution_count": 304,
   "metadata": {},
   "outputs": [
    {
     "data": {
      "text/plain": [
       "[<selenium.webdriver.remote.webelement.WebElement (session=\"aecf65ebe92ba67e47aa0ced53a29fd8\", element=\"eb8ed93e-d41b-4f18-85d8-221b210b4b08\")>,\n",
       " <selenium.webdriver.remote.webelement.WebElement (session=\"aecf65ebe92ba67e47aa0ced53a29fd8\", element=\"582c6826-579d-44f4-96af-9542558d7df9\")>,\n",
       " <selenium.webdriver.remote.webelement.WebElement (session=\"aecf65ebe92ba67e47aa0ced53a29fd8\", element=\"75dade24-b982-416e-af76-ea3a8125ee43\")>]"
      ]
     },
     "execution_count": 304,
     "metadata": {},
     "output_type": "execute_result"
    }
   ],
   "source": [
    "#finding all the Memory tags\n",
    "memory = driver.find_elements_by_xpath(\"//*[contains(text(), 'Memory')]\")\n",
    "memory[0:3]"
   ]
  },
  {
   "cell_type": "code",
   "execution_count": 306,
   "metadata": {},
   "outputs": [
    {
     "data": {
      "text/plain": [
       "['MEMORY 1 TB HDD/64 GBGB DDR4',\n",
       " 'Memory',\n",
       " 'MEMORY 1 TB PCIE SSD/32GB DDR4',\n",
       " 'Memory',\n",
       " 'MEMORY 512 GB SSD/16 GBGB DDR4',\n",
       " 'Memory',\n",
       " 'MEMORY 1 TB SSD/16 GBGB DDR4',\n",
       " 'Memory',\n",
       " 'MEMORY 1 TB SSD/8GB DDR4',\n",
       " 'Memory',\n",
       " 'MEMORY 512 GB SSD/16GB DDR4',\n",
       " 'Memory',\n",
       " 'MEMORY 512GB SSD/16 GBGB DDR4',\n",
       " 'Memory',\n",
       " 'MEMORY 1.5 TB SATA/64GB DDR4',\n",
       " 'Memory',\n",
       " 'MEMORY 512 GB SSD/4 GBGB DDR4',\n",
       " 'Memory',\n",
       " 'MEMORY 256 + 1 TB SSD + SATA/16GB DDR4',\n",
       " 'Memory']"
      ]
     },
     "execution_count": 306,
     "metadata": {},
     "output_type": "execute_result"
    }
   ],
   "source": [
    "#scraping Memory from tags\n",
    "Memory=[]\n",
    "for i in memory:\n",
    "    memory_=i.text.replace(\"\\n\",\" \")\n",
    "    Memory.append(memory_)\n",
    "Memory"
   ]
  },
  {
   "cell_type": "code",
   "execution_count": 314,
   "metadata": {},
   "outputs": [
    {
     "data": {
      "text/plain": [
       "['MEMORY 1 TB HDD/64 GBGB DDR4',\n",
       " 'MEMORY 1 TB PCIE SSD/32GB DDR4',\n",
       " 'MEMORY 512 GB SSD/16 GBGB DDR4',\n",
       " 'MEMORY 1 TB SSD/16 GBGB DDR4',\n",
       " 'MEMORY 1 TB SSD/8GB DDR4',\n",
       " 'MEMORY 512 GB SSD/16GB DDR4',\n",
       " 'MEMORY 512GB SSD/16 GBGB DDR4',\n",
       " 'MEMORY 1.5 TB SATA/64GB DDR4',\n",
       " 'MEMORY 512 GB SSD/4 GBGB DDR4',\n",
       " 'MEMORY 256 + 1 TB SSD + SATA/16GB DDR4']"
      ]
     },
     "execution_count": 314,
     "metadata": {},
     "output_type": "execute_result"
    }
   ],
   "source": [
    "#keeping required elements\n",
    "\n",
    "indices=[0,2,4,6,8,10,12,14,16,18]\n",
    "Memory = [ Memory[index] for index in indices ]\n",
    "Memory"
   ]
  },
  {
   "cell_type": "code",
   "execution_count": 315,
   "metadata": {},
   "outputs": [
    {
     "data": {
      "text/plain": [
       "['1 TB HDD/64 GBGB DDR4',\n",
       " '1 TB PCIE SSD/32GB DDR4',\n",
       " '512 GB SSD/16 GBGB DDR4',\n",
       " '1 TB SSD/16 GBGB DDR4',\n",
       " '1 TB SSD/8GB DDR4',\n",
       " '512 GB SSD/16GB DDR4',\n",
       " '512GB SSD/16 GBGB DDR4',\n",
       " '1.5 TB SATA/64GB DDR4',\n",
       " '512 GB SSD/4 GBGB DDR4',\n",
       " '256 + 1 TB SSD + SATA/16GB DDR4']"
      ]
     },
     "execution_count": 315,
     "metadata": {},
     "output_type": "execute_result"
    }
   ],
   "source": [
    "Memory = list(map(lambda x: x.replace('MEMORY ',''),Memory))\n",
    "Memory"
   ]
  },
  {
   "cell_type": "code",
   "execution_count": 322,
   "metadata": {},
   "outputs": [
    {
     "data": {
      "text/plain": [
       "[<selenium.webdriver.remote.webelement.WebElement (session=\"aecf65ebe92ba67e47aa0ced53a29fd8\", element=\"a23bf756-156c-453e-9ad2-480e61d2ae2a\")>,\n",
       " <selenium.webdriver.remote.webelement.WebElement (session=\"aecf65ebe92ba67e47aa0ced53a29fd8\", element=\"6f4da642-9851-4f27-9bf3-cacde70038f1\")>,\n",
       " <selenium.webdriver.remote.webelement.WebElement (session=\"aecf65ebe92ba67e47aa0ced53a29fd8\", element=\"6a982d59-9a96-453c-82d5-48924e10b17e\")>]"
      ]
     },
     "execution_count": 322,
     "metadata": {},
     "output_type": "execute_result"
    }
   ],
   "source": [
    "#finding all the Weight tags\n",
    "weight = driver.find_elements_by_xpath(\"//div[@class='Spcs-details']/table/tbody/tr[7]/td[3]\")\n",
    "weight[0:3]"
   ]
  },
  {
   "cell_type": "code",
   "execution_count": 323,
   "metadata": {},
   "outputs": [
    {
     "data": {
      "text/plain": [
       "['4.2 kg',\n",
       " '3.87 Kg',\n",
       " '5.40',\n",
       " '1.65',\n",
       " '2.3',\n",
       " '2.2',\n",
       " '2.1',\n",
       " '5.5',\n",
       " '2.4',\n",
       " '2.53']"
      ]
     },
     "execution_count": 323,
     "metadata": {},
     "output_type": "execute_result"
    }
   ],
   "source": [
    "#scraping Weight from tags\n",
    "Weight=[]\n",
    "for i in weight:\n",
    "    weight_=i.text.replace(\"\\n\",\" \")\n",
    "    Weight.append(weight_)\n",
    "Weight"
   ]
  },
  {
   "cell_type": "code",
   "execution_count": 332,
   "metadata": {},
   "outputs": [
    {
     "data": {
      "text/plain": [
       "[<selenium.webdriver.remote.webelement.WebElement (session=\"aecf65ebe92ba67e47aa0ced53a29fd8\", element=\"2dd4c36c-b61d-49d4-8b5d-c182a7853e05\")>,\n",
       " <selenium.webdriver.remote.webelement.WebElement (session=\"aecf65ebe92ba67e47aa0ced53a29fd8\", element=\"6fc6cf8b-2ba2-4904-b441-acd73a04a538\")>,\n",
       " <selenium.webdriver.remote.webelement.WebElement (session=\"aecf65ebe92ba67e47aa0ced53a29fd8\", element=\"12768e47-d394-4a18-ba5e-6a8e7cd8fd17\")>]"
      ]
     },
     "execution_count": 332,
     "metadata": {},
     "output_type": "execute_result"
    }
   ],
   "source": [
    "#finding all the dimension tags\n",
    "graphics = driver.find_elements_by_xpath(\"//*[contains(text(), 'TX')]\")\n",
    "graphics[0:3]"
   ]
  },
  {
   "cell_type": "code",
   "execution_count": 333,
   "metadata": {},
   "outputs": [
    {
     "data": {
      "text/plain": [
       "['',\n",
       " 'Sporting a desktop graphics Intel Core i9-9900K coupled with an RTX 2080, the MSI GT76 TITAN 9SG has the same configuration as the Alienware Area-51m. Both machines use massive power bricks which when plugged in trigger an automatic factory overclock of 32-33% for the processors. Even the graphics cards are the same RTX 2080 but MSI has a slightly higher base clock of 1575 MHz whereas the Alienware unit has that set to 1515 MHz. Boost clocks are also different with the MSI unit clocked at 1755 MHz and the Alienware at 1720 MHz. So performance wise, these two are nearly similar until you consider the next two important things in a computer, the RAM and the SSD boot drives. MSI’s gaming laptop has RAM clocked at 2666 MHz and uses two NVMe SSDs in RAID 0 for the boot drive.',\n",
       " 'NVIDIA GeForce RTX 2080',\n",
       " 'The Alienware Area-51m was certainly the first of its kind to have the desktop grade Intel Core i9-9900K coupled with NVIDIA’s RTX 2080. However, as time goes by competitors brought similar configurations with slightly improved features. When powered on, the Area-51m automatically sets the processor to a 32% overclock which helps out with some video games and a lot more in high-compute tasks. The built-in Control Centre has made it even simpler to push the processor clocks higher should you need it.',\n",
       " 'NVIDIA GeForce RTX 2080',\n",
       " 'The new HP Omen 15 comes in both 10th generation Intel core and AMD Ryzen 4000 flavours. The company offers the choice of high refresh rate displays going up to 144Hz and also GPU options going up to an Nvidia GeForce RTX 2070 Super Max-Q. You also get a significantly improved thermals management system that actually manages to keep the laptop super cool even under heavy loads.',\n",
       " 'Nvidia GTX 1650Ti feels a little out of place in this config.',\n",
       " 'Nvidia GeForce GTX 1650Ti',\n",
       " 'The Asus Zephyrus G14 is a first-of-its-kind gaming laptop, featuring a high-power 8-core CPU in a 14-inch chassis. Powered by the AMD Ryzen 4000 series processors going all the way up to Ryzen 9 4900HS and an Nvidia GeForce RTX 2060, the AMD Zephyrus G14 is a perfect laptop for those kind of people who like to game and create, but put a priority on doing so using a light-weight machine.',\n",
       " 'NVIDIA GeForce RTX 2060',\n",
       " 'The Lenovo Legion Y540 is powered by an Intel Core i7-9750H, 16GB of RAM and an Nvidia GeForce RTX 2060 with 6GB of video RAM. The laptop also comes with up to a 1TB Samsung PCIe NVMe solid-state drive, and users looking to expand storage get the option of adding a 2.5-inch hard drive. The display is an IPS pane with a 144Hz refresh rate, but the real highlight of the Legion Y540, besides its performance, is its stealth looks that allows the laptop to blend into an office environment as easily as it would into a LAN party.',\n",
       " 'NVIDIA® GeForce RTX™ 2060',\n",
       " 'The Ryzen 7 3750H powered Asus ROG Zephyrus G is a budget-friendly gaming laptop that offers just enough fire power to get you into the world of PC gaming. The Nvidia GeForce GTX 1660Ti takes care of all your gaming needs, driving the 120Hz IPS panel with relative ease',\n",
       " 'NVIDIA Geforce GTX 1660 Ti',\n",
       " 'NVIDIA® GeForce RTX™ 2070 (Max-Q)',\n",
       " \"MSI does not have a dual GTX 1080 gaming laptop. Instead, it has the next best thing for roughly half the price of the two flagships. The GT83VR 7RE Titan SLI packs two GTX 1070 GPUs in SLI along with the Intel Core i7 7820HK. It also has a massive 18.4-inch IPS display and 32 GB of RAM. Performance wise it isn't that far behind since games can hardly make use of all the firepower it has, but synthetic benchmarks put it way behind the two flagships mentioned here.\",\n",
       " 'Dual GTX1070',\n",
       " 'The machine is powered by an Intel Core i7-10875H processor, offering 8 cores and 16 threads. So, you can leave behind all your concerns around the CPU bottlenecking the overall performance during gaming. With an Nvidia GeForce RTX 2070 Max-Q, this laptop can manage pretty much anything game you throw at it and then some more. The star of the show however is the awesome 300Hz refresh rate capable, 1080p IPS panel on this gaming laptop. Yes, you read that correctly, 300Hz, which means you can get silky smooth, brag-worthy 300FPS on e-sports centric games on this machine.',\n",
       " 'NVIDIA GeForce RTX 2070 Max-Q',\n",
       " \"The Dell G3 is a capable entry-level gaming laptop in an Inspiron's clothes. It has a 9th-gen Intel Core i5 CPU, up to 8GB of RAM, and an NVIDIA GeForce GTX 1650 with 4GB of GDDR5 video RAM. For storage, it's got a 512GB PCIe NVMe SSD. It plays games like Doom on high graphics settings at 60fps without any stutters.\",\n",
       " 'NVIDIA® GeForce® GTX']"
      ]
     },
     "execution_count": 333,
     "metadata": {},
     "output_type": "execute_result"
    }
   ],
   "source": [
    "#scraping dimension from tags\n",
    "Graphics=[]\n",
    "for i in graphics:\n",
    "    graphics_=i.text.replace(\"\\n\",\" \")\n",
    "    Graphics.append(graphics_)\n",
    "Graphics"
   ]
  },
  {
   "cell_type": "code",
   "execution_count": 334,
   "metadata": {},
   "outputs": [
    {
     "data": {
      "text/plain": [
       "['NVIDIA GeForce RTX 2080',\n",
       " 'NVIDIA GeForce RTX 2080',\n",
       " 'Nvidia GeForce GTX 1650Ti',\n",
       " 'NVIDIA GeForce RTX 2060',\n",
       " 'NVIDIA® GeForce RTX™ 2060',\n",
       " 'NVIDIA Geforce GTX 1660 Ti',\n",
       " 'NVIDIA® GeForce RTX™ 2070 (Max-Q)',\n",
       " 'Dual GTX1070',\n",
       " 'NVIDIA GeForce RTX 2070 Max-Q',\n",
       " 'NVIDIA® GeForce® GTX']"
      ]
     },
     "execution_count": 334,
     "metadata": {},
     "output_type": "execute_result"
    }
   ],
   "source": [
    "#keeping required elements\n",
    "\n",
    "indices=[2,4,7,9,11,13,14,16,18,20]\n",
    "Graphics = [ Graphics[index] for index in indices ]\n",
    "Graphics"
   ]
  },
  {
   "cell_type": "code",
   "execution_count": 374,
   "metadata": {},
   "outputs": [
    {
     "data": {
      "text/plain": [
       "[<selenium.webdriver.remote.webelement.WebElement (session=\"f4f1074a2471c2390df4a88c6ccd997c\", element=\"4df62c9e-a389-4762-80d2-c66f1378173a\")>,\n",
       " <selenium.webdriver.remote.webelement.WebElement (session=\"f4f1074a2471c2390df4a88c6ccd997c\", element=\"1684a9cb-5539-4f23-ba0e-851a70221dd4\")>,\n",
       " <selenium.webdriver.remote.webelement.WebElement (session=\"f4f1074a2471c2390df4a88c6ccd997c\", element=\"29bac300-1a8f-4c85-a876-00e651ff9cfe\")>]"
      ]
     },
     "execution_count": 374,
     "metadata": {},
     "output_type": "execute_result"
    }
   ],
   "source": [
    "#finding all the description tags\n",
    "description = driver.find_elements_by_xpath(\"//div[@class='Section-center']/p\")\n",
    "description[0:3]"
   ]
  },
  {
   "cell_type": "code",
   "execution_count": 375,
   "metadata": {},
   "outputs": [
    {
     "data": {
      "text/plain": [
       "['Sporting a desktop graphics Intel Core i9-9900K coupled with an RTX 2080, the MSI GT76 TITAN 9SG has the same configuration as the Alienware Area-51m. Both machines use massive power bricks which when plugged in trigger an automatic factory overclock of 32-33% for the processors. Even the graphics cards are the same RTX 2080 but MSI has a slightly higher base clock of 1575 MHz whereas the Alienware unit has that set to 1515 MHz. Boost clocks are also different with the MSI unit clocked at 1755 MHz and the Alienware at 1720 MHz. So performance wise, these two are nearly similar until you consider the next two important things in a computer, the RAM and the SSD boot drives. MSI’s gaming laptop has RAM clocked at 2666 MHz and uses two NVMe SSDs in RAID 0 for the boot drive.',\n",
       " 'The Alienware Area-51m was certainly the first of its kind to have the desktop grade Intel Core i9-9900K coupled with NVIDIA’s RTX 2080. However, as time goes by competitors brought similar configurations with slightly improved features. When powered on, the Area-51m automatically sets the processor to a 32% overclock which helps out with some video games and a lot more in high-compute tasks. The built-in Control Centre has made it even simpler to push the processor clocks higher should you need it.',\n",
       " 'The new HP Omen 15 comes in both 10th generation Intel core and AMD Ryzen 4000 flavours. The company offers the choice of high refresh rate displays going up to 144Hz and also GPU options going up to an Nvidia GeForce RTX 2070 Super Max-Q. You also get a significantly improved thermals management system that actually manages to keep the laptop super cool even under heavy loads.',\n",
       " 'The Asus Zephyrus G14 is a first-of-its-kind gaming laptop, featuring a high-power 8-core CPU in a 14-inch chassis. Powered by the AMD Ryzen 4000 series processors going all the way up to Ryzen 9 4900HS and an Nvidia GeForce RTX 2060, the AMD Zephyrus G14 is a perfect laptop for those kind of people who like to game and create, but put a priority on doing so using a light-weight machine.',\n",
       " 'The Lenovo Legion Y540 is powered by an Intel Core i7-9750H, 16GB of RAM and an Nvidia GeForce RTX 2060 with 6GB of video RAM. The laptop also comes with up to a 1TB Samsung PCIe NVMe solid-state drive, and users looking to expand storage get the option of adding a 2.5-inch hard drive. The display is an IPS pane with a 144Hz refresh rate, but the real highlight of the Legion Y540, besides its performance, is its stealth looks that allows the laptop to blend into an office environment as easily as it would into a LAN party.',\n",
       " 'The Ryzen 7 3750H powered Asus ROG Zephyrus G is a budget-friendly gaming laptop that offers just enough fire power to get you into the world of PC gaming. The Nvidia GeForce GTX 1660Ti takes care of all your gaming needs, driving the 120Hz IPS panel with relative ease',\n",
       " 'The Asus Zephyrus S (GX531) manages to get a few things very right. It packs a very powerful set of components into a slim chassis, ideal for those who like to carry their gaming or editing machines around. The Pantone validated 144Hz display is great right out of the box. the keyboard will take plenty of getting used to, but the trackpad is definitely a strong point. All this aside, the GX531 is also a pretty great gaming machine.',\n",
       " \"MSI does not have a dual GTX 1080 gaming laptop. Instead, it has the next best thing for roughly half the price of the two flagships. The GT83VR 7RE Titan SLI packs two GTX 1070 GPUs in SLI along with the Intel Core i7 7820HK. It also has a massive 18.4-inch IPS display and 32 GB of RAM. Performance wise it isn't that far behind since games can hardly make use of all the firepower it has, but synthetic benchmarks put it way behind the two flagships mentioned here.\",\n",
       " 'The machine is powered by an Intel Core i7-10875H processor, offering 8 cores and 16 threads. So, you can leave behind all your concerns around the CPU bottlenecking the overall performance during gaming. With an Nvidia GeForce RTX 2070 Max-Q, this laptop can manage pretty much anything game you throw at it and then some more. The star of the show however is the awesome 300Hz refresh rate capable, 1080p IPS panel on this gaming laptop. Yes, you read that correctly, 300Hz, which means you can get silky smooth, brag-worthy 300FPS on e-sports centric games on this machine.',\n",
       " \"The Dell G3 is a capable entry-level gaming laptop in an Inspiron's clothes. It has a 9th-gen Intel Core i5 CPU, up to 8GB of RAM, and an NVIDIA GeForce GTX 1650 with 4GB of GDDR5 video RAM. For storage, it's got a 512GB PCIe NVMe SSD. It plays games like Doom on high graphics settings at 60fps without any stutters.\"]"
      ]
     },
     "execution_count": 375,
     "metadata": {},
     "output_type": "execute_result"
    }
   ],
   "source": [
    "#scraping description from tags\n",
    "Description=[]\n",
    "for i in description:\n",
    "    description_=i.text.replace(\"\\n\",\" \")\n",
    "    Description.append(description_)\n",
    "Description"
   ]
  },
  {
   "cell_type": "code",
   "execution_count": 377,
   "metadata": {},
   "outputs": [
    {
     "data": {
      "text/plain": [
       "[<selenium.webdriver.remote.webelement.WebElement (session=\"f4f1074a2471c2390df4a88c6ccd997c\", element=\"c0e5b083-671e-41ff-a3b4-c1fc593720df\")>,\n",
       " <selenium.webdriver.remote.webelement.WebElement (session=\"f4f1074a2471c2390df4a88c6ccd997c\", element=\"1bc5d2d9-1ff1-485b-910a-4d6a6a016bcb\")>,\n",
       " <selenium.webdriver.remote.webelement.WebElement (session=\"f4f1074a2471c2390df4a88c6ccd997c\", element=\"c41e8705-d701-458b-9fe0-596e66f8822c\")>]"
      ]
     },
     "execution_count": 377,
     "metadata": {},
     "output_type": "execute_result"
    }
   ],
   "source": [
    "#finding all the laptop_name tags\n",
    "laptop = driver.find_elements_by_xpath(\"//div[@class='right-container']/div/a/h3\")\n",
    "laptop[0:3]"
   ]
  },
  {
   "cell_type": "code",
   "execution_count": 378,
   "metadata": {},
   "outputs": [
    {
     "data": {
      "text/plain": [
       "['MSI GT76 TITAN DT 9SG',\n",
       " 'ALIENWARE 17 AREA-51M',\n",
       " 'HP OMEN 15 2020',\n",
       " 'ASUS ZEPHYRUS G14',\n",
       " 'LENOVO LEGION Y540',\n",
       " 'ASUS ROG ZEPHYRUS G GA502',\n",
       " 'ASUS ROG ZEPHYRUS S GX531',\n",
       " 'MSI GT83VR 7RE TITAN SLI',\n",
       " 'ASUS ROG ZEPHYRUS DUO 15',\n",
       " 'DELL G3']"
      ]
     },
     "execution_count": 378,
     "metadata": {},
     "output_type": "execute_result"
    }
   ],
   "source": [
    "#scraping laptop_name from tags\n",
    "Laptop_name=[]\n",
    "for i in laptop:\n",
    "    laptop_=i.text.replace(\"\\n\",\" \")\n",
    "    Laptop_name.append(laptop_)\n",
    "Laptop_name"
   ]
  },
  {
   "cell_type": "code",
   "execution_count": 335,
   "metadata": {},
   "outputs": [],
   "source": [
    "#getting the list of url of laptops\n",
    "Laptop_URL=[]\n",
    "\n",
    "\n",
    "laptop=driver.find_elements_by_xpath(\"//div[@class='TopNumbeHeading active sticky-footer']\")\n",
    "for i in laptop:\n",
    "    laptop1=i.find_element_by_tag_name(\"a\")\n",
    "    Laptop_URL.append(laptop1.get_attribute('href'))"
   ]
  },
  {
   "cell_type": "code",
   "execution_count": 336,
   "metadata": {},
   "outputs": [
    {
     "data": {
      "text/plain": [
       "['https://www.digit.in/laptops/msi-gt76-titan-dt-9sg-price-193526.html',\n",
       " 'https://www.digit.in/laptops/alienware-area-51m-core-i9-9900k-rtx-2080-price-193540.html',\n",
       " 'https://www.digit.in/laptops/hp-omen-15-2020-price-207633.html',\n",
       " 'https://www.digit.in/laptops/asus-rog-zephyrus-g14-price-209173.html',\n",
       " 'https://www.digit.in/laptops/lenovo-legion-y540-price-184975.html',\n",
       " 'https://www.digit.in/laptops/asus-rog-zephyrus-g-ga502-price-187290.html',\n",
       " 'https://www.digit.in/laptops/asus-rog-zephyrus-s-gx531-price-183275.html',\n",
       " 'https://www.digit.in/laptops/msi-gt83vr-7re-titan-sli-price-55229.html',\n",
       " 'https://www.digit.in/laptops/asus-rog-zephyrus-duo-15-price-215799.html',\n",
       " 'https://www.digit.in/laptops/dell-g3-15-price-172543.html']"
      ]
     },
     "execution_count": 336,
     "metadata": {},
     "output_type": "execute_result"
    }
   ],
   "source": [
    "Laptop_URL"
   ]
  },
  {
   "cell_type": "code",
   "execution_count": 379,
   "metadata": {},
   "outputs": [],
   "source": [
    "#going to the url of first laptop through our driver\n",
    "driver.get(Laptop_URL[0])"
   ]
  },
  {
   "cell_type": "code",
   "execution_count": 380,
   "metadata": {},
   "outputs": [],
   "source": [
    "#creating empty lists\n",
    "Market_status=[]\n",
    "Release_date=[]\n",
    "Official_website=[]\n",
    "Display_rating=[]\n",
    "CPU_rating=[]\n",
    "GPU_rating=[]\n",
    "RAM_rating=[]\n",
    "Storage_rating=[]\n",
    "Overall_rating=[]\n",
    "Availibility=[]\n",
    "Digit_rating=[]\n",
    "User_rating=[]\n",
    "Pros=[]\n",
    "Cons=[]"
   ]
  },
  {
   "cell_type": "code",
   "execution_count": 381,
   "metadata": {},
   "outputs": [
    {
     "name": "stderr",
     "output_type": "stream",
     "text": [
      "100%|██████████| 10/10 [01:53<00:00, 11.33s/it]\n"
     ]
    }
   ],
   "source": [
    "#running a loop to extract all the required information from the Laptop_URL\n",
    "\n",
    "for i in tqdm(Laptop_URL):\n",
    "    driver.get(i)\n",
    "    \n",
    "    try:\n",
    "        market=driver.find_element_by_css_selector('body > div.Center-block > div > div > div.moz-fixed > div > div.col-sm-8.only-desktop > div.status-bar.only-desktop > div:nth-child(1) > b').text\n",
    "        Market_status.append(market)\n",
    "    except NoSuchElementException:\n",
    "        Market_status.append(\"-\")\n",
    "    try:\n",
    "        release=driver.find_element_by_css_selector('body > div.Center-block > div > div > div.moz-fixed > div > div.col-sm-8.only-desktop > div.status-bar.only-desktop > div:nth-child(2) > b').text\n",
    "        Release_date.append(release)\n",
    "    except NoSuchElementException:\n",
    "        Release_date.append(\"-\")\n",
    "        \n",
    "    try:\n",
    "        website=driver.find_element_by_css_selector('body > div.Center-block > div > div > div.moz-fixed > div > div.col-sm-8.only-desktop > div.status-bar.only-desktop > div:nth-child(3) > b').text\n",
    "        Official_website.append(website)\n",
    "    except NoSuchElementException:\n",
    "        Official_website.append(\"-\")\n",
    "        \n",
    "    try:\n",
    "        display=driver.find_element_by_css_selector('body > div.Center-block > div > div > div.Key-specs > div:nth-child(2) > div > span').text\n",
    "        Display_rating.append(display)\n",
    "    except NoSuchElementException:\n",
    "        Display_rating.append(\"-\")\n",
    "        \n",
    "    try:\n",
    "        cpu=driver.find_element_by_css_selector('body > div.Center-block > div > div > div.Key-specs > div:nth-child(3) > div > span').text\n",
    "        CPU_rating.append(cpu)\n",
    "    except NoSuchElementException:\n",
    "        CPU_rating.append(\"-\")\n",
    "        \n",
    "    try:\n",
    "        gpu=driver.find_element_by_css_selector('body > div.Center-block > div > div > div.Key-specs > div:nth-child(4) > div > span').text\n",
    "        GPU_rating.append(gpu)\n",
    "    except NoSuchElementException:\n",
    "        GPU_rating.append(\"-\")\n",
    "        \n",
    "    try:\n",
    "        ram=driver.find_element_by_css_selector('body > div.Center-block > div > div > div.Key-specs > div:nth-child(5) > div > span').text\n",
    "        RAM_rating.append(ram)\n",
    "    except NoSuchElementException:\n",
    "        RAM_rating.append(\"-\")\n",
    "        \n",
    "    try:\n",
    "        storage=driver.find_element_by_css_selector('body > div.Center-block > div > div > div.Key-specs > div:nth-child(6) > div > span').text\n",
    "        Storage_rating.append(storage)\n",
    "    except NoSuchElementException:\n",
    "        Storage_rating.append(\"-\")\n",
    "        \n",
    "    try:\n",
    "        overall=driver.find_element_by_css_selector('body > div.Center-block > div > div > div.Key-specs > div:nth-child(7) > div > span').text\n",
    "        Overall_rating.append(overall)\n",
    "    except NoSuchElementException:\n",
    "        Overall_rating.append(\"-\")\n",
    "        \n",
    "        \n",
    "    try:\n",
    "        availibility=driver.find_element_by_css_selector('#price > div > table > tbody > tr:nth-child(2) > td:nth-child(2) > strong').text\n",
    "        Availibility.append(availibility)\n",
    "    except NoSuchElementException:\n",
    "        Availibility.append(\"-\")\n",
    "        \n",
    "    try:\n",
    "        digit=driver.find_element_by_css_selector('body > div.Center-block > div > div > div.moz-fixed > div > div.col-sm-8.only-desktop > div.score-Bar > ul > li:nth-child(1) > p').text\n",
    "        Digit_rating.append(digit)\n",
    "    except NoSuchElementException:\n",
    "        Digit_rating.append(\"-\")\n",
    "        \n",
    "    try:\n",
    "        user=driver.find_element_by_css_selector('body > div.Center-block > div > div > div.moz-fixed > div > div.col-sm-8.only-desktop > div.score-Bar > ul > li:nth-child(2) > p').text\n",
    "        User_rating.append(user)\n",
    "    except NoSuchElementException:\n",
    "        User_rating.append(\"-\")\n",
    "        \n",
    "    try:\n",
    "        pros=driver.find_element_by_css_selector('body > div.Center-block > div > div > div.wrap-rat > div > div.col-md-4 > div > ul:nth-child(1)').text.replace(\"\\n\", \" \")\n",
    "        Pros.append(pros)\n",
    "    except NoSuchElementException:\n",
    "        Pros.append(\"-\")\n",
    "        \n",
    "    try:\n",
    "        cons=driver.find_element_by_css_selector('body > div.Center-block > div > div > div.wrap-rat > div > div.col-md-4 > div > ul:nth-child(2)').text.replace(\"\\n\", \" \")\n",
    "        Cons.append(cons)\n",
    "    except NoSuchElementException:\n",
    "        Cons.append(\"-\")\n",
    "        \n",
    "    time.sleep(10)"
   ]
  },
  {
   "cell_type": "code",
   "execution_count": 382,
   "metadata": {},
   "outputs": [
    {
     "data": {
      "text/plain": [
       "['LAUNCHED',\n",
       " 'LAUNCHED',\n",
       " 'LAUNCHED',\n",
       " 'LAUNCHED',\n",
       " 'LAUNCHED',\n",
       " 'LAUNCHED',\n",
       " 'LAUNCHED',\n",
       " 'LAUNCHED',\n",
       " 'LAUNCHED',\n",
       " 'LAUNCHED']"
      ]
     },
     "execution_count": 382,
     "metadata": {},
     "output_type": "execute_result"
    }
   ],
   "source": [
    "Market_status"
   ]
  },
  {
   "cell_type": "code",
   "execution_count": 383,
   "metadata": {},
   "outputs": [
    {
     "data": {
      "text/plain": [
       "['10-Aug-2019',\n",
       " '01-Dec-2019',\n",
       " '21-Jul-2020',\n",
       " '12-Aug-2020',\n",
       " '15-Jul-2019',\n",
       " '30-Aug-2019',\n",
       " '31-May-2019',\n",
       " '08-Jan-2017',\n",
       " '20-Nov-2020',\n",
       " '23-Oct-2018']"
      ]
     },
     "execution_count": 383,
     "metadata": {},
     "output_type": "execute_result"
    }
   ],
   "source": [
    "Release_date"
   ]
  },
  {
   "cell_type": "code",
   "execution_count": 384,
   "metadata": {},
   "outputs": [
    {
     "data": {
      "text/plain": [
       "['MSI', 'Dell', 'HP', 'Asus', 'Lenovo', 'Asus', 'Asus', 'MSI', 'Asus', 'Dell']"
      ]
     },
     "execution_count": 384,
     "metadata": {},
     "output_type": "execute_result"
    }
   ],
   "source": [
    "Official_website"
   ]
  },
  {
   "cell_type": "code",
   "execution_count": 385,
   "metadata": {},
   "outputs": [
    {
     "data": {
      "text/plain": [
       "['85', '85', '85', '-', '85', '-', '85', '85', '-', '85']"
      ]
     },
     "execution_count": 385,
     "metadata": {},
     "output_type": "execute_result"
    }
   ],
   "source": [
    "Display_rating"
   ]
  },
  {
   "cell_type": "code",
   "execution_count": 386,
   "metadata": {},
   "outputs": [
    {
     "data": {
      "text/plain": [
       "['82', '82', '65', '-', '64', '-', '59', '52', '-', '59']"
      ]
     },
     "execution_count": 386,
     "metadata": {},
     "output_type": "execute_result"
    }
   ],
   "source": [
    "CPU_rating"
   ]
  },
  {
   "cell_type": "code",
   "execution_count": 387,
   "metadata": {},
   "outputs": [
    {
     "data": {
      "text/plain": [
       "['51', '51', '38', '-', '41', '-', '51', '51', '-', '28']"
      ]
     },
     "execution_count": 387,
     "metadata": {},
     "output_type": "execute_result"
    }
   ],
   "source": [
    "GPU_rating"
   ]
  },
  {
   "cell_type": "code",
   "execution_count": 388,
   "metadata": {},
   "outputs": [
    {
     "data": {
      "text/plain": [
       "['96', '142', '92', '-', '116', '-', '75', '142', '-', '92']"
      ]
     },
     "execution_count": 388,
     "metadata": {},
     "output_type": "execute_result"
    }
   ],
   "source": [
    "RAM_rating"
   ]
  },
  {
   "cell_type": "code",
   "execution_count": 389,
   "metadata": {},
   "outputs": [
    {
     "data": {
      "text/plain": [
       "['45', '45', '30', '-', '65', '-', '59', '75', '-', '56']"
      ]
     },
     "execution_count": 389,
     "metadata": {},
     "output_type": "execute_result"
    }
   ],
   "source": [
    "Storage_rating"
   ]
  },
  {
   "cell_type": "code",
   "execution_count": 390,
   "metadata": {},
   "outputs": [
    {
     "data": {
      "text/plain": [
       "['72', '81', '72', '-', '57', '-', '66', '81', '-', '74']"
      ]
     },
     "execution_count": 390,
     "metadata": {},
     "output_type": "execute_result"
    }
   ],
   "source": [
    "Overall_rating"
   ]
  },
  {
   "cell_type": "code",
   "execution_count": 391,
   "metadata": {},
   "outputs": [
    {
     "data": {
      "text/plain": [
       "['-',\n",
       " 'Available',\n",
       " 'Available',\n",
       " 'Available',\n",
       " 'Out of Stock',\n",
       " 'Out of Stock',\n",
       " 'Available',\n",
       " '-',\n",
       " 'Available',\n",
       " 'Available']"
      ]
     },
     "execution_count": 391,
     "metadata": {},
     "output_type": "execute_result"
    }
   ],
   "source": [
    "Availibility"
   ]
  },
  {
   "cell_type": "code",
   "execution_count": 392,
   "metadata": {},
   "outputs": [
    {
     "data": {
      "text/plain": [
       "['-', '-', '77', '71', '74', '82', '3.2', '-', '-', '67']"
      ]
     },
     "execution_count": 392,
     "metadata": {},
     "output_type": "execute_result"
    }
   ],
   "source": [
    "Digit_rating"
   ]
  },
  {
   "cell_type": "code",
   "execution_count": 393,
   "metadata": {},
   "outputs": [
    {
     "data": {
      "text/plain": [
       "['-', '-', '3.4', '4.6', '4.3', '4.8', '-', '-', '-', '4.4']"
      ]
     },
     "execution_count": 393,
     "metadata": {},
     "output_type": "execute_result"
    }
   ],
   "source": [
    "User_rating"
   ]
  },
  {
   "cell_type": "code",
   "execution_count": 394,
   "metadata": {},
   "outputs": [
    {
     "data": {
      "text/plain": [
       "['-',\n",
       " '-',\n",
       " 'Pros + Impressive thermals. + Performs well for gamers and content creators. + The display is crisp and colour accurate',\n",
       " 'Pros + Impressive performance for the form-factor. + Anime Matrix display is a very well implemented gimmick. + Truly one-of-a-kind machine at the moment.',\n",
       " 'Pros + Sturdy build, clean look + Top performance (incl. gaming) + Decent audio quality',\n",
       " 'Pros + Noteworthy performance + Comfortable keyboard + Surprisingly good audio',\n",
       " '-',\n",
       " '-',\n",
       " '-',\n",
       " 'Pros + Seriously fast fingerprint scanner + Speakers are quite loud + Stays cool when clock rates rise']"
      ]
     },
     "execution_count": 394,
     "metadata": {},
     "output_type": "execute_result"
    }
   ],
   "source": [
    "Pros"
   ]
  },
  {
   "cell_type": "code",
   "execution_count": 395,
   "metadata": {},
   "outputs": [
    {
     "data": {
      "text/plain": [
       "['-',\n",
       " '-',\n",
       " 'Cons - The lid wobbles and flexes. - Nvidia GTX 1650Ti feels a little out of place in this config.',\n",
       " 'Cons - Heat makes the keyboard unusable. - Uses a mid-range SSD. - No Pg Up or Pg Dn keys',\n",
       " 'Cons - Abysmally short battery life - Oddly placed keys - Rear ports are inconvenient',\n",
       " 'Cons - Noisy fans can distract - Display could use more colour - No inbuilt webcam',\n",
       " '-',\n",
       " '-',\n",
       " '-',\n",
       " 'Cons - Bulky at 2.53 kilogrammes - Keys lack sufficient travel - Colours appear washed out']"
      ]
     },
     "execution_count": 395,
     "metadata": {},
     "output_type": "execute_result"
    }
   ],
   "source": [
    "Cons"
   ]
  },
  {
   "cell_type": "code",
   "execution_count": 397,
   "metadata": {},
   "outputs": [
    {
     "name": "stdout",
     "output_type": "stream",
     "text": [
      "10 10 10 10 10 10 10 10 10 10 10 10 10 10 10 10 10 10 10 10 10 10 10 10 10\n"
     ]
    }
   ],
   "source": [
    "#printing lengths\n",
    "print(len(Laptop_name),len(Seller),len(PRICE),len(Operating_system),len(Display),len(Processor),len(Memory),len(Weight),len(Graphics),len(Description),len(Market_status),len(Release_date),len(Official_website),len(Display_rating),len(CPU_rating),len(GPU_rating),len(RAM_rating),len(Storage_rating),len(Overall_rating),len(Availibility),len(Digit_rating),len(User_rating),len(Pros),len(Cons),len(Laptop_URL))"
   ]
  },
  {
   "cell_type": "code",
   "execution_count": 398,
   "metadata": {},
   "outputs": [],
   "source": [
    "#creating a dataframe\n",
    "\n",
    "Top10_Laptops=pd.DataFrame({})\n",
    "Top10_Laptops['Laptop_name']=Laptop_name\n",
    "Top10_Laptops['Seller']=Seller\n",
    "Top10_Laptops['Price']=PRICE\n",
    "Top10_Laptops['Operating_system']=Operating_system\n",
    "Top10_Laptops['Display']=Display\n",
    "Top10_Laptops['Processor']=Processor\n",
    "Top10_Laptops['Memory']=Memory\n",
    "Top10_Laptops['Weight']=Weight\n",
    "Top10_Laptops['Graphics']=Graphics\n",
    "Top10_Laptops['Description']=Description\n",
    "Top10_Laptops['Market_status']=Market_status\n",
    "Top10_Laptops['Release_date']=Release_date\n",
    "Top10_Laptops['Official_website']=Official_website\n",
    "Top10_Laptops['Display_rating']=Display_rating\n",
    "Top10_Laptops['CPU_rating']=CPU_rating\n",
    "Top10_Laptops['GPU_rating']=GPU_rating\n",
    "Top10_Laptops['RAM_rating']=RAM_rating\n",
    "Top10_Laptops['Storage_rating']=Storage_rating\n",
    "Top10_Laptops['Overall_rating']=Overall_rating\n",
    "Top10_Laptops['Availibility']=Availibility\n",
    "Top10_Laptops['Digit_rating']=Digit_rating\n",
    "Top10_Laptops['User_rating']=User_rating\n",
    "Top10_Laptops['Pros']=Pros\n",
    "Top10_Laptops['Cons']=Cons\n",
    "Top10_Laptops['Laptop_URL']=Laptop_URL"
   ]
  },
  {
   "cell_type": "code",
   "execution_count": 400,
   "metadata": {},
   "outputs": [],
   "source": [
    "#to display full dataframe\n",
    "pd.set_option(\"display.max_rows\", None, \"display.max_columns\", None)"
   ]
  },
  {
   "cell_type": "code",
   "execution_count": 401,
   "metadata": {},
   "outputs": [
    {
     "data": {
      "text/html": [
       "<div>\n",
       "<style scoped>\n",
       "    .dataframe tbody tr th:only-of-type {\n",
       "        vertical-align: middle;\n",
       "    }\n",
       "\n",
       "    .dataframe tbody tr th {\n",
       "        vertical-align: top;\n",
       "    }\n",
       "\n",
       "    .dataframe thead th {\n",
       "        text-align: right;\n",
       "    }\n",
       "</style>\n",
       "<table border=\"1\" class=\"dataframe\">\n",
       "  <thead>\n",
       "    <tr style=\"text-align: right;\">\n",
       "      <th></th>\n",
       "      <th>Laptop_name</th>\n",
       "      <th>Seller</th>\n",
       "      <th>Price</th>\n",
       "      <th>Operating_system</th>\n",
       "      <th>Display</th>\n",
       "      <th>Processor</th>\n",
       "      <th>Memory</th>\n",
       "      <th>Weight</th>\n",
       "      <th>Graphics</th>\n",
       "      <th>Description</th>\n",
       "      <th>Market_status</th>\n",
       "      <th>Release_date</th>\n",
       "      <th>Official_website</th>\n",
       "      <th>Display_rating</th>\n",
       "      <th>CPU_rating</th>\n",
       "      <th>GPU_rating</th>\n",
       "      <th>RAM_rating</th>\n",
       "      <th>Storage_rating</th>\n",
       "      <th>Overall_rating</th>\n",
       "      <th>Availibility</th>\n",
       "      <th>Digit_rating</th>\n",
       "      <th>User_rating</th>\n",
       "      <th>Pros</th>\n",
       "      <th>Cons</th>\n",
       "      <th>Laptop_URL</th>\n",
       "    </tr>\n",
       "  </thead>\n",
       "  <tbody>\n",
       "    <tr>\n",
       "      <th>0</th>\n",
       "      <td>MSI GT76 TITAN DT 9SG</td>\n",
       "      <td>N/A</td>\n",
       "      <td>₹379990</td>\n",
       "      <td>WINDOWS 10 PRO</td>\n",
       "      <td>17.3\" (UHD 3840X2160)</td>\n",
       "      <td>INTEL 9TH GEN CORE I9-9900K | 5000 MHZ</td>\n",
       "      <td>1 TB HDD/64 GBGB DDR4</td>\n",
       "      <td>4.2 kg</td>\n",
       "      <td>NVIDIA GeForce RTX 2080</td>\n",
       "      <td>Sporting a desktop graphics Intel Core i9-9900...</td>\n",
       "      <td>LAUNCHED</td>\n",
       "      <td>10-Aug-2019</td>\n",
       "      <td>MSI</td>\n",
       "      <td>85</td>\n",
       "      <td>82</td>\n",
       "      <td>51</td>\n",
       "      <td>96</td>\n",
       "      <td>45</td>\n",
       "      <td>72</td>\n",
       "      <td>-</td>\n",
       "      <td>-</td>\n",
       "      <td>-</td>\n",
       "      <td>-</td>\n",
       "      <td>-</td>\n",
       "      <td>https://www.digit.in/laptops/msi-gt76-titan-dt...</td>\n",
       "    </tr>\n",
       "    <tr>\n",
       "      <th>1</th>\n",
       "      <td>ALIENWARE 17 AREA-51M</td>\n",
       "      <td>amazon</td>\n",
       "      <td>₹489909</td>\n",
       "      <td>WINDOWS 10 PRO</td>\n",
       "      <td>17.3\" (FHD (1920 X 1080))</td>\n",
       "      <td>INTEL 9TH GEN CORE I9-9900K | 5000 MHZ</td>\n",
       "      <td>1 TB PCIE SSD/32GB DDR4</td>\n",
       "      <td>3.87 Kg</td>\n",
       "      <td>NVIDIA GeForce RTX 2080</td>\n",
       "      <td>The Alienware Area-51m was certainly the first...</td>\n",
       "      <td>LAUNCHED</td>\n",
       "      <td>01-Dec-2019</td>\n",
       "      <td>Dell</td>\n",
       "      <td>85</td>\n",
       "      <td>82</td>\n",
       "      <td>51</td>\n",
       "      <td>142</td>\n",
       "      <td>45</td>\n",
       "      <td>81</td>\n",
       "      <td>Available</td>\n",
       "      <td>-</td>\n",
       "      <td>-</td>\n",
       "      <td>-</td>\n",
       "      <td>-</td>\n",
       "      <td>https://www.digit.in/laptops/alienware-area-51...</td>\n",
       "    </tr>\n",
       "    <tr>\n",
       "      <th>2</th>\n",
       "      <td>HP OMEN 15 2020</td>\n",
       "      <td>Tatacliq</td>\n",
       "      <td>₹117790</td>\n",
       "      <td>WINDOWS 10 HOME</td>\n",
       "      <td>15.6\" (1920 X 1080)</td>\n",
       "      <td>INTEL I7-10750H 10TH GEN | 1.6GHZ</td>\n",
       "      <td>512 GB SSD/16 GBGB DDR4</td>\n",
       "      <td>5.40</td>\n",
       "      <td>Nvidia GeForce GTX 1650Ti</td>\n",
       "      <td>The new HP Omen 15 comes in both 10th generati...</td>\n",
       "      <td>LAUNCHED</td>\n",
       "      <td>21-Jul-2020</td>\n",
       "      <td>HP</td>\n",
       "      <td>85</td>\n",
       "      <td>65</td>\n",
       "      <td>38</td>\n",
       "      <td>92</td>\n",
       "      <td>30</td>\n",
       "      <td>72</td>\n",
       "      <td>Available</td>\n",
       "      <td>77</td>\n",
       "      <td>3.4</td>\n",
       "      <td>Pros + Impressive thermals. + Performs well fo...</td>\n",
       "      <td>Cons - The lid wobbles and flexes. - Nvidia GT...</td>\n",
       "      <td>https://www.digit.in/laptops/hp-omen-15-2020-p...</td>\n",
       "    </tr>\n",
       "    <tr>\n",
       "      <th>3</th>\n",
       "      <td>ASUS ZEPHYRUS G14</td>\n",
       "      <td>amazon</td>\n",
       "      <td>₹164990</td>\n",
       "      <td>WINDOWS 10 HOME</td>\n",
       "      <td>14\" (1920 X 1080)</td>\n",
       "      <td>AMD 3RD GENERATION RYZEN 9 | 3.3 GHZ</td>\n",
       "      <td>1 TB SSD/16 GBGB DDR4</td>\n",
       "      <td>1.65</td>\n",
       "      <td>NVIDIA GeForce RTX 2060</td>\n",
       "      <td>The Asus Zephyrus G14 is a first-of-its-kind g...</td>\n",
       "      <td>LAUNCHED</td>\n",
       "      <td>12-Aug-2020</td>\n",
       "      <td>Asus</td>\n",
       "      <td>-</td>\n",
       "      <td>-</td>\n",
       "      <td>-</td>\n",
       "      <td>-</td>\n",
       "      <td>-</td>\n",
       "      <td>-</td>\n",
       "      <td>Available</td>\n",
       "      <td>71</td>\n",
       "      <td>4.6</td>\n",
       "      <td>Pros + Impressive performance for the form-fac...</td>\n",
       "      <td>Cons - Heat makes the keyboard unusable. - Use...</td>\n",
       "      <td>https://www.digit.in/laptops/asus-rog-zephyrus...</td>\n",
       "    </tr>\n",
       "    <tr>\n",
       "      <th>4</th>\n",
       "      <td>LENOVO LEGION Y540</td>\n",
       "      <td>flipkart</td>\n",
       "      <td>₹79990</td>\n",
       "      <td>WINDOWS 10 HOME</td>\n",
       "      <td>15.6\" (1920 X 1080)</td>\n",
       "      <td>9TH GENERATION CORE INTEL I7-9750H | 2.6 GHZ</td>\n",
       "      <td>1 TB SSD/8GB DDR4</td>\n",
       "      <td>2.3</td>\n",
       "      <td>NVIDIA® GeForce RTX™ 2060</td>\n",
       "      <td>The Lenovo Legion Y540 is powered by an Intel ...</td>\n",
       "      <td>LAUNCHED</td>\n",
       "      <td>15-Jul-2019</td>\n",
       "      <td>Lenovo</td>\n",
       "      <td>85</td>\n",
       "      <td>64</td>\n",
       "      <td>41</td>\n",
       "      <td>116</td>\n",
       "      <td>65</td>\n",
       "      <td>57</td>\n",
       "      <td>Out of Stock</td>\n",
       "      <td>74</td>\n",
       "      <td>4.3</td>\n",
       "      <td>Pros + Sturdy build, clean look + Top performa...</td>\n",
       "      <td>Cons - Abysmally short battery life - Oddly pl...</td>\n",
       "      <td>https://www.digit.in/laptops/lenovo-legion-y54...</td>\n",
       "    </tr>\n",
       "    <tr>\n",
       "      <th>5</th>\n",
       "      <td>ASUS ROG ZEPHYRUS G GA502</td>\n",
       "      <td>flipkart</td>\n",
       "      <td>₹79990</td>\n",
       "      <td>WINDOWS 10 HOME</td>\n",
       "      <td>15.6\" (1920 X 1080)</td>\n",
       "      <td>AMD RYZEN 7 QUAD CORE 3750H | 2.3 GHZ</td>\n",
       "      <td>512 GB SSD/16GB DDR4</td>\n",
       "      <td>2.2</td>\n",
       "      <td>NVIDIA Geforce GTX 1660 Ti</td>\n",
       "      <td>The Ryzen 7 3750H powered Asus ROG Zephyrus G ...</td>\n",
       "      <td>LAUNCHED</td>\n",
       "      <td>30-Aug-2019</td>\n",
       "      <td>Asus</td>\n",
       "      <td>-</td>\n",
       "      <td>-</td>\n",
       "      <td>-</td>\n",
       "      <td>-</td>\n",
       "      <td>-</td>\n",
       "      <td>-</td>\n",
       "      <td>Out of Stock</td>\n",
       "      <td>82</td>\n",
       "      <td>4.8</td>\n",
       "      <td>Pros + Noteworthy performance + Comfortable ke...</td>\n",
       "      <td>Cons - Noisy fans can distract - Display could...</td>\n",
       "      <td>https://www.digit.in/laptops/asus-rog-zephyrus...</td>\n",
       "    </tr>\n",
       "    <tr>\n",
       "      <th>6</th>\n",
       "      <td>ASUS ROG ZEPHYRUS S GX531</td>\n",
       "      <td>amazon</td>\n",
       "      <td>₹146000</td>\n",
       "      <td>WINDOWS 10 HOME</td>\n",
       "      <td>15.6\" (1920 X 1080)</td>\n",
       "      <td>9TH GEN INTEL CORE I7-8750H | 2.2 GHZ</td>\n",
       "      <td>512GB SSD/16 GBGB DDR4</td>\n",
       "      <td>2.1</td>\n",
       "      <td>NVIDIA® GeForce RTX™ 2070 (Max-Q)</td>\n",
       "      <td>The Asus Zephyrus S (GX531) manages to get a f...</td>\n",
       "      <td>LAUNCHED</td>\n",
       "      <td>31-May-2019</td>\n",
       "      <td>Asus</td>\n",
       "      <td>85</td>\n",
       "      <td>59</td>\n",
       "      <td>51</td>\n",
       "      <td>75</td>\n",
       "      <td>59</td>\n",
       "      <td>66</td>\n",
       "      <td>Available</td>\n",
       "      <td>3.2</td>\n",
       "      <td>-</td>\n",
       "      <td>-</td>\n",
       "      <td>-</td>\n",
       "      <td>https://www.digit.in/laptops/asus-rog-zephyrus...</td>\n",
       "    </tr>\n",
       "    <tr>\n",
       "      <th>7</th>\n",
       "      <td>MSI GT83VR 7RE TITAN SLI</td>\n",
       "      <td>N/A</td>\n",
       "      <td>₹349990</td>\n",
       "      <td>WINDOWS 10 HOME 64 BIT</td>\n",
       "      <td>18.4\" (1920 X 1080)</td>\n",
       "      <td>INTEL CM238 CORE I7-7820HK+CM238 7TH GEN | 3.5GHZ</td>\n",
       "      <td>1.5 TB SATA/64GB DDR4</td>\n",
       "      <td>5.5</td>\n",
       "      <td>Dual GTX1070</td>\n",
       "      <td>MSI does not have a dual GTX 1080 gaming lapto...</td>\n",
       "      <td>LAUNCHED</td>\n",
       "      <td>08-Jan-2017</td>\n",
       "      <td>MSI</td>\n",
       "      <td>85</td>\n",
       "      <td>52</td>\n",
       "      <td>51</td>\n",
       "      <td>142</td>\n",
       "      <td>75</td>\n",
       "      <td>81</td>\n",
       "      <td>-</td>\n",
       "      <td>-</td>\n",
       "      <td>-</td>\n",
       "      <td>-</td>\n",
       "      <td>-</td>\n",
       "      <td>https://www.digit.in/laptops/msi-gt83vr-7re-ti...</td>\n",
       "    </tr>\n",
       "    <tr>\n",
       "      <th>8</th>\n",
       "      <td>ASUS ROG ZEPHYRUS DUO 15</td>\n",
       "      <td>amazon</td>\n",
       "      <td>₹268990</td>\n",
       "      <td>WINDOWS 10</td>\n",
       "      <td>15.6\" (3840 X 1100)</td>\n",
       "      <td>INTEL CORE I7 10TH GEN 10875H | NA</td>\n",
       "      <td>512 GB SSD/4 GBGB DDR4</td>\n",
       "      <td>2.4</td>\n",
       "      <td>NVIDIA GeForce RTX 2070 Max-Q</td>\n",
       "      <td>The machine is powered by an Intel Core i7-108...</td>\n",
       "      <td>LAUNCHED</td>\n",
       "      <td>20-Nov-2020</td>\n",
       "      <td>Asus</td>\n",
       "      <td>-</td>\n",
       "      <td>-</td>\n",
       "      <td>-</td>\n",
       "      <td>-</td>\n",
       "      <td>-</td>\n",
       "      <td>-</td>\n",
       "      <td>Available</td>\n",
       "      <td>-</td>\n",
       "      <td>-</td>\n",
       "      <td>-</td>\n",
       "      <td>-</td>\n",
       "      <td>https://www.digit.in/laptops/asus-rog-zephyrus...</td>\n",
       "    </tr>\n",
       "    <tr>\n",
       "      <th>9</th>\n",
       "      <td>DELL G3</td>\n",
       "      <td>amazon</td>\n",
       "      <td>₹61990</td>\n",
       "      <td>WINDOWS 10 HOME PLUS</td>\n",
       "      <td>15.6 MP | NA</td>\n",
       "      <td>8TH GENERATION INTEL® CORE™ I7-8750H | NA</td>\n",
       "      <td>256 + 1 TB SSD + SATA/16GB DDR4</td>\n",
       "      <td>2.53</td>\n",
       "      <td>NVIDIA® GeForce® GTX</td>\n",
       "      <td>The Dell G3 is a capable entry-level gaming la...</td>\n",
       "      <td>LAUNCHED</td>\n",
       "      <td>23-Oct-2018</td>\n",
       "      <td>Dell</td>\n",
       "      <td>85</td>\n",
       "      <td>59</td>\n",
       "      <td>28</td>\n",
       "      <td>92</td>\n",
       "      <td>56</td>\n",
       "      <td>74</td>\n",
       "      <td>Available</td>\n",
       "      <td>67</td>\n",
       "      <td>4.4</td>\n",
       "      <td>Pros + Seriously fast fingerprint scanner + Sp...</td>\n",
       "      <td>Cons - Bulky at 2.53 kilogrammes - Keys lack s...</td>\n",
       "      <td>https://www.digit.in/laptops/dell-g3-15-price-...</td>\n",
       "    </tr>\n",
       "  </tbody>\n",
       "</table>\n",
       "</div>"
      ],
      "text/plain": [
       "                 Laptop_name    Seller    Price        Operating_system  \\\n",
       "0      MSI GT76 TITAN DT 9SG       N/A  ₹379990          WINDOWS 10 PRO   \n",
       "1      ALIENWARE 17 AREA-51M    amazon  ₹489909          WINDOWS 10 PRO   \n",
       "2            HP OMEN 15 2020  Tatacliq  ₹117790         WINDOWS 10 HOME   \n",
       "3          ASUS ZEPHYRUS G14    amazon  ₹164990         WINDOWS 10 HOME   \n",
       "4         LENOVO LEGION Y540  flipkart   ₹79990         WINDOWS 10 HOME   \n",
       "5  ASUS ROG ZEPHYRUS G GA502  flipkart   ₹79990         WINDOWS 10 HOME   \n",
       "6  ASUS ROG ZEPHYRUS S GX531    amazon  ₹146000         WINDOWS 10 HOME   \n",
       "7   MSI GT83VR 7RE TITAN SLI       N/A  ₹349990  WINDOWS 10 HOME 64 BIT   \n",
       "8   ASUS ROG ZEPHYRUS DUO 15    amazon  ₹268990              WINDOWS 10   \n",
       "9                    DELL G3    amazon   ₹61990    WINDOWS 10 HOME PLUS   \n",
       "\n",
       "                     Display  \\\n",
       "0      17.3\" (UHD 3840X2160)   \n",
       "1  17.3\" (FHD (1920 X 1080))   \n",
       "2        15.6\" (1920 X 1080)   \n",
       "3          14\" (1920 X 1080)   \n",
       "4        15.6\" (1920 X 1080)   \n",
       "5        15.6\" (1920 X 1080)   \n",
       "6        15.6\" (1920 X 1080)   \n",
       "7        18.4\" (1920 X 1080)   \n",
       "8        15.6\" (3840 X 1100)   \n",
       "9               15.6 MP | NA   \n",
       "\n",
       "                                           Processor  \\\n",
       "0             INTEL 9TH GEN CORE I9-9900K | 5000 MHZ   \n",
       "1             INTEL 9TH GEN CORE I9-9900K | 5000 MHZ   \n",
       "2                  INTEL I7-10750H 10TH GEN | 1.6GHZ   \n",
       "3               AMD 3RD GENERATION RYZEN 9 | 3.3 GHZ   \n",
       "4       9TH GENERATION CORE INTEL I7-9750H | 2.6 GHZ   \n",
       "5              AMD RYZEN 7 QUAD CORE 3750H | 2.3 GHZ   \n",
       "6              9TH GEN INTEL CORE I7-8750H | 2.2 GHZ   \n",
       "7  INTEL CM238 CORE I7-7820HK+CM238 7TH GEN | 3.5GHZ   \n",
       "8                 INTEL CORE I7 10TH GEN 10875H | NA   \n",
       "9          8TH GENERATION INTEL® CORE™ I7-8750H | NA   \n",
       "\n",
       "                            Memory   Weight  \\\n",
       "0            1 TB HDD/64 GBGB DDR4   4.2 kg   \n",
       "1          1 TB PCIE SSD/32GB DDR4  3.87 Kg   \n",
       "2          512 GB SSD/16 GBGB DDR4     5.40   \n",
       "3            1 TB SSD/16 GBGB DDR4     1.65   \n",
       "4                1 TB SSD/8GB DDR4      2.3   \n",
       "5             512 GB SSD/16GB DDR4      2.2   \n",
       "6           512GB SSD/16 GBGB DDR4      2.1   \n",
       "7            1.5 TB SATA/64GB DDR4      5.5   \n",
       "8           512 GB SSD/4 GBGB DDR4      2.4   \n",
       "9  256 + 1 TB SSD + SATA/16GB DDR4     2.53   \n",
       "\n",
       "                            Graphics  \\\n",
       "0            NVIDIA GeForce RTX 2080   \n",
       "1            NVIDIA GeForce RTX 2080   \n",
       "2          Nvidia GeForce GTX 1650Ti   \n",
       "3            NVIDIA GeForce RTX 2060   \n",
       "4          NVIDIA® GeForce RTX™ 2060   \n",
       "5         NVIDIA Geforce GTX 1660 Ti   \n",
       "6  NVIDIA® GeForce RTX™ 2070 (Max-Q)   \n",
       "7                       Dual GTX1070   \n",
       "8      NVIDIA GeForce RTX 2070 Max-Q   \n",
       "9               NVIDIA® GeForce® GTX   \n",
       "\n",
       "                                         Description Market_status  \\\n",
       "0  Sporting a desktop graphics Intel Core i9-9900...      LAUNCHED   \n",
       "1  The Alienware Area-51m was certainly the first...      LAUNCHED   \n",
       "2  The new HP Omen 15 comes in both 10th generati...      LAUNCHED   \n",
       "3  The Asus Zephyrus G14 is a first-of-its-kind g...      LAUNCHED   \n",
       "4  The Lenovo Legion Y540 is powered by an Intel ...      LAUNCHED   \n",
       "5  The Ryzen 7 3750H powered Asus ROG Zephyrus G ...      LAUNCHED   \n",
       "6  The Asus Zephyrus S (GX531) manages to get a f...      LAUNCHED   \n",
       "7  MSI does not have a dual GTX 1080 gaming lapto...      LAUNCHED   \n",
       "8  The machine is powered by an Intel Core i7-108...      LAUNCHED   \n",
       "9  The Dell G3 is a capable entry-level gaming la...      LAUNCHED   \n",
       "\n",
       "  Release_date Official_website Display_rating CPU_rating GPU_rating  \\\n",
       "0  10-Aug-2019              MSI             85         82         51   \n",
       "1  01-Dec-2019             Dell             85         82         51   \n",
       "2  21-Jul-2020               HP             85         65         38   \n",
       "3  12-Aug-2020             Asus              -          -          -   \n",
       "4  15-Jul-2019           Lenovo             85         64         41   \n",
       "5  30-Aug-2019             Asus              -          -          -   \n",
       "6  31-May-2019             Asus             85         59         51   \n",
       "7  08-Jan-2017              MSI             85         52         51   \n",
       "8  20-Nov-2020             Asus              -          -          -   \n",
       "9  23-Oct-2018             Dell             85         59         28   \n",
       "\n",
       "  RAM_rating Storage_rating Overall_rating  Availibility Digit_rating  \\\n",
       "0         96             45             72             -            -   \n",
       "1        142             45             81     Available            -   \n",
       "2         92             30             72     Available           77   \n",
       "3          -              -              -     Available           71   \n",
       "4        116             65             57  Out of Stock           74   \n",
       "5          -              -              -  Out of Stock           82   \n",
       "6         75             59             66     Available          3.2   \n",
       "7        142             75             81             -            -   \n",
       "8          -              -              -     Available            -   \n",
       "9         92             56             74     Available           67   \n",
       "\n",
       "  User_rating                                               Pros  \\\n",
       "0           -                                                  -   \n",
       "1           -                                                  -   \n",
       "2         3.4  Pros + Impressive thermals. + Performs well fo...   \n",
       "3         4.6  Pros + Impressive performance for the form-fac...   \n",
       "4         4.3  Pros + Sturdy build, clean look + Top performa...   \n",
       "5         4.8  Pros + Noteworthy performance + Comfortable ke...   \n",
       "6           -                                                  -   \n",
       "7           -                                                  -   \n",
       "8           -                                                  -   \n",
       "9         4.4  Pros + Seriously fast fingerprint scanner + Sp...   \n",
       "\n",
       "                                                Cons  \\\n",
       "0                                                  -   \n",
       "1                                                  -   \n",
       "2  Cons - The lid wobbles and flexes. - Nvidia GT...   \n",
       "3  Cons - Heat makes the keyboard unusable. - Use...   \n",
       "4  Cons - Abysmally short battery life - Oddly pl...   \n",
       "5  Cons - Noisy fans can distract - Display could...   \n",
       "6                                                  -   \n",
       "7                                                  -   \n",
       "8                                                  -   \n",
       "9  Cons - Bulky at 2.53 kilogrammes - Keys lack s...   \n",
       "\n",
       "                                          Laptop_URL  \n",
       "0  https://www.digit.in/laptops/msi-gt76-titan-dt...  \n",
       "1  https://www.digit.in/laptops/alienware-area-51...  \n",
       "2  https://www.digit.in/laptops/hp-omen-15-2020-p...  \n",
       "3  https://www.digit.in/laptops/asus-rog-zephyrus...  \n",
       "4  https://www.digit.in/laptops/lenovo-legion-y54...  \n",
       "5  https://www.digit.in/laptops/asus-rog-zephyrus...  \n",
       "6  https://www.digit.in/laptops/asus-rog-zephyrus...  \n",
       "7  https://www.digit.in/laptops/msi-gt83vr-7re-ti...  \n",
       "8  https://www.digit.in/laptops/asus-rog-zephyrus...  \n",
       "9  https://www.digit.in/laptops/dell-g3-15-price-...  "
      ]
     },
     "execution_count": 401,
     "metadata": {},
     "output_type": "execute_result"
    }
   ],
   "source": [
    "Top10_Laptops"
   ]
  },
  {
   "cell_type": "code",
   "execution_count": 402,
   "metadata": {},
   "outputs": [],
   "source": [
    "#converting into csv format\n",
    "Top10_Laptops.to_csv(\"Top10_Laptops.csv\")"
   ]
  },
  {
   "cell_type": "code",
   "execution_count": 403,
   "metadata": {},
   "outputs": [],
   "source": [
    "#closing the driver\n",
    "driver.close()"
   ]
  },
  {
   "cell_type": "code",
   "execution_count": null,
   "metadata": {},
   "outputs": [],
   "source": []
  }
 ],
 "metadata": {
  "kernelspec": {
   "display_name": "Python 3",
   "language": "python",
   "name": "python3"
  },
  "language_info": {
   "codemirror_mode": {
    "name": "ipython",
    "version": 3
   },
   "file_extension": ".py",
   "mimetype": "text/x-python",
   "name": "python",
   "nbconvert_exporter": "python",
   "pygments_lexer": "ipython3",
   "version": "3.8.3"
  }
 },
 "nbformat": 4,
 "nbformat_minor": 4
}
