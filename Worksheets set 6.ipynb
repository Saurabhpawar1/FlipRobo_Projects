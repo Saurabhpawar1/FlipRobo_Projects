{
 "cells": [
  {
   "cell_type": "markdown",
   "metadata": {},
   "source": [
    "# STATISTICS WORKSHEET- 6"
   ]
  },
  {
   "cell_type": "markdown",
   "metadata": {},
   "source": [
    "## Q1 to Q9 have only one correct answer. Choose the correct option to answer your question."
   ]
  },
  {
   "cell_type": "markdown",
   "metadata": {},
   "source": [
    "1. Which of the following can be considered as random variable?\n",
    "\n",
    "a) The outcome from the roll of a die\n",
    "b) The outcome of flip of a coin\n",
    "c) The outcome of exam\n",
    "d) All of the mentioned\n",
    "\n",
    "--> d) All of the mentioned"
   ]
  },
  {
   "cell_type": "markdown",
   "metadata": {},
   "source": [
    "2. Which of the following random variable that take on only a countable number of possibilities?\n",
    "\n",
    "a) Discrete\n",
    "b) Non Discrete\n",
    "c) Continuous\n",
    "d) All of the mentioned\n",
    "\n",
    "--> a) Discrete"
   ]
  },
  {
   "cell_type": "markdown",
   "metadata": {},
   "source": [
    "3. Which of the following function is associated with a continuous random variable?\n",
    "\n",
    "a) pdf\n",
    "b) pmv\n",
    "c) pmf\n",
    "d) all of the mentioned\n",
    "\n",
    "--> a) pdf"
   ]
  },
  {
   "cell_type": "markdown",
   "metadata": {},
   "source": [
    "4. The expected value or _______ of a random variable is the center of its distribution.\n",
    "\n",
    "a) mode\n",
    "b) median\n",
    "c) mean\n",
    "d) bayesian inference\n",
    "\n",
    "--> c) mean"
   ]
  },
  {
   "cell_type": "markdown",
   "metadata": {},
   "source": [
    "5. Which of the following of a random variable is not a measure of spread?\n",
    "\n",
    "a) variance\n",
    "b) standard deviation\n",
    "c) empirical mean\n",
    "d) all of the mentioned\n",
    "\n",
    "--> c) empirical mean"
   ]
  },
  {
   "cell_type": "markdown",
   "metadata": {},
   "source": [
    "6. The _________ of the Chi-squared distribution is twice the degrees of freedom.\n",
    "\n",
    "a) variance\n",
    "b) standard deviation\n",
    "c) mode\n",
    "d) none of the mentioned\n",
    "\n",
    "--> a) variance"
   ]
  },
  {
   "cell_type": "markdown",
   "metadata": {},
   "source": [
    "7. The beta distribution is the default prior for parameters between ____________\n",
    "\n",
    "a) 0 and 10\n",
    "b) 1 and 2\n",
    "c) 0 and 1\n",
    "d) None of the mentioned\n",
    "\n",
    "--> c) 0 and 1"
   ]
  },
  {
   "cell_type": "markdown",
   "metadata": {},
   "source": [
    "8. Which of the following tool is used for constructing confidence intervals and calculating standard errors for \n",
    "difficult statistics?\n",
    "\n",
    "a) baggyer\n",
    "b) bootstrap\n",
    "c) jacknife\n",
    "d) none of the mentioned\n",
    "\n",
    "--> b) bootstrap"
   ]
  },
  {
   "cell_type": "markdown",
   "metadata": {},
   "source": [
    "9. Data that summarize all observations in a category are called __________ data.\n",
    "\n",
    "a) frequency\n",
    "b) summarized\n",
    "c) raw\n",
    "d) none of the mentioned\n",
    "\n",
    "--> b) summarized"
   ]
  },
  {
   "cell_type": "markdown",
   "metadata": {},
   "source": [
    "## Q10and Q15 are subjective answer type questions, Answer them in your own words briefly."
   ]
  },
  {
   "cell_type": "markdown",
   "metadata": {},
   "source": [
    "10. What is the difference between a boxplot and histogram?\n",
    "\n",
    "--> Histograms and box plots are graphical representations for the frequency of numeric data values. They aim to describe the data and explore the central tendency and variability before using advanced statistical analysis techniques.\n",
    "\n",
    "Both histograms and box plots are used to explore and present the data in an easy and understandable manner. Histograms are preferred to determine the underlying probability distribution of a data. Box plots on the other hand are more useful when comparing between several data sets. They are less detailed than histograms and take up less space."
   ]
  },
  {
   "cell_type": "markdown",
   "metadata": {},
   "source": [
    "11. How to select metrics?\n",
    "\n",
    "--> Step 1 Why is the measurement required?\n",
    "\n",
    "Step 2 What needs to be measured?\n",
    "\n",
    "Step 3 What is the precision of measurement required?\n",
    "\n",
    "Step 4 How will it be measured?\n",
    "\n",
    "Step 5 What use will the measurement be put to? By whom?"
   ]
  },
  {
   "cell_type": "markdown",
   "metadata": {},
   "source": [
    "12. How do you assess the statistical significance of an insight?\n",
    "\n",
    "--> Statistical significance can be accessed using hypothesis testing:\n",
    "– Stating a null hypothesis which is usually the opposite of what we wish to test (classifiers A and B perform equivalently, Treatment A is equal of treatment B)\n",
    "– Then, we choose a suitable statistical test and statistics used to reject the null hypothesis\n",
    "– Also, we choose a critical region for the statistics to lie in that is extreme enough for the null hypothesis to be rejected (p-value)\n",
    "– We calculate the observed test statistics from the data and check whether it lies in the critical region\n",
    "Common tests:\n",
    "\n",
    "– One sample Z test\n",
    "– Two-sample Z test\n",
    "– One sample t-test\n",
    "– paired t-test\n",
    "– Two sample pooled equal variances t-test\n",
    "– Two sample unpooled unequal variances t-test and unequal sample sizes (Welch’s t-test)\n",
    "– Chi-squared test for variances\n",
    "– Chi-squared test for goodness of fit\n",
    "– Anova (for instance: are the two regression models equals? F-test)\n",
    "– Regression F-test (i.e: is at least one of the predictor useful in predicting the response?)"
   ]
  },
  {
   "cell_type": "markdown",
   "metadata": {},
   "source": [
    "13. Give examples of data that doesnot have a Gaussian distribution, nor log-normal.\n",
    "\n",
    "--> life table is example of exponential distribution, wind speed is Weibull distribution, surgery patient's stay in hospital is gamma distribution"
   ]
  },
  {
   "cell_type": "markdown",
   "metadata": {},
   "source": [
    "14. Give an example where the median is a better measure than the mean.\n",
    "\n",
    "--> The median is usually preferred to other measures of central tendency when your data set is skewed (i.e., forms a skewed distribution) or you are dealing with ordinal data.\n",
    "\n",
    "For example, suppose you want to calculate the amount of money an average citizen in a town earns here the data may be baised as some people might be earning way too much or way too less so here median would be a good measure to calculate central tendancy than mean."
   ]
  },
  {
   "cell_type": "markdown",
   "metadata": {},
   "source": [
    "15. What is the Likelihood?\n",
    "\n",
    "--> In statistics, the likelihood function (often simply called the likelihood) measures the goodness of fit of a statistical model to a sample of data for given values of the unknown parameters. It is formed from the joint probability distribution of the sample, but viewed and used as a function of the parameters only, thus treating the random variables as fixed at the observed values."
   ]
  },
  {
   "cell_type": "markdown",
   "metadata": {},
   "source": [
    "# WORKSHEET 6 SQL"
   ]
  },
  {
   "cell_type": "markdown",
   "metadata": {},
   "source": [
    "## Q1 and Q2 have one or more correct answer. Choose all the correct option to answer your question."
   ]
  },
  {
   "cell_type": "markdown",
   "metadata": {},
   "source": [
    "1. Which of the following are TCL commands?\n",
    "\n",
    "A. Commit\n",
    "B. Select\n",
    "C. Rollback\n",
    "D. Savepoint\n",
    "\n",
    "--> A. Commit\n",
    "\n",
    "C. Rollback\n",
    "\n",
    "D. Savepoint"
   ]
  },
  {
   "cell_type": "markdown",
   "metadata": {},
   "source": [
    "2. Which of the following are DDL commands?\n",
    "\n",
    "A. Create\n",
    "B. Select\n",
    "C. Drop\n",
    "D. Alter\n",
    "\n",
    "--> A. Create\n",
    "\n",
    "C. Drop\n",
    "\n",
    "D. Alter"
   ]
  },
  {
   "cell_type": "markdown",
   "metadata": {},
   "source": [
    "## Q3 to Q10 have only one correct answer. Choose the correct option to answer your question."
   ]
  },
  {
   "cell_type": "markdown",
   "metadata": {},
   "source": [
    "3. Which of the following is a legal expression in SQL?\n",
    "\n",
    "A. SELECT NULL FROM SALES;\n",
    "B. SELECT NAME FROM SALES;\n",
    "C. SELECT * FROM SALES WHEN PRICE = NULL;\n",
    "D. SELECT # FROM SALES;\n",
    "\n",
    "--> B. SELECT NAME FROM SALES;"
   ]
  },
  {
   "cell_type": "markdown",
   "metadata": {},
   "source": [
    "4. DCL provides commands to perform actions like\u0002\n",
    "\n",
    "A. Change the structure of Tables\n",
    "B. Insert, Update or Delete Records and Values\n",
    "C. Authorizing Access and other control over Database\n",
    "D. None of the above\n",
    "\n",
    "--> C. Authorizing Access and other control over Database"
   ]
  },
  {
   "cell_type": "markdown",
   "metadata": {},
   "source": [
    "5. Which of the following should be enclosed in double quotes?\n",
    "\n",
    "A. Dates\n",
    "B. Column Alias\n",
    "C. String\n",
    "D. All of the mentioned\n",
    "\n",
    "--> B. Column Alias"
   ]
  },
  {
   "cell_type": "markdown",
   "metadata": {},
   "source": [
    "6. Which of the following command makes the updates performed by the transaction permanent in the database?\n",
    "\n",
    "A. ROLLBACK\n",
    "B. COMMIT\n",
    "C. TRUNCATE\n",
    "D. DELETE\n",
    "\n",
    "--> B. COMMIT"
   ]
  },
  {
   "cell_type": "markdown",
   "metadata": {},
   "source": [
    "7. A subquery in an SQL Select statement is enclosed in:\n",
    "\n",
    "A. Parenthesis - (...).\n",
    "B. brackets - [...].\n",
    "C. CAPITAL LETTERS.\n",
    "D. braces - {...}.\n",
    "\n",
    "--> A. Parenthesis - (...)."
   ]
  },
  {
   "cell_type": "markdown",
   "metadata": {},
   "source": [
    "8. The result of a SQL SELECT statement is a :-\n",
    "    \n",
    "A. FILE\n",
    "B. REPORT\n",
    "C. TABLE\n",
    "D. FORM\n",
    "\n",
    "--> C. TABLE"
   ]
  },
  {
   "cell_type": "markdown",
   "metadata": {},
   "source": [
    "9. Which of the following do you need to consider when you make a table in a SQL?\n",
    "\n",
    "A. Data types\n",
    "B. Primary keys\n",
    "C. Default values\n",
    "D. All of the mentioned\n",
    "\n",
    "--> D. All of the mentioned"
   ]
  },
  {
   "cell_type": "markdown",
   "metadata": {},
   "source": [
    "10. If you don’t specify ASC and DESC after a SQL ORDER BY clause, the following is used by___?\n",
    "\n",
    "A. ASC\n",
    "B. DESC\n",
    "C. There is no default value\n",
    "D. None of the mentioned\n",
    "\n",
    "--> A. ASC"
   ]
  },
  {
   "cell_type": "markdown",
   "metadata": {},
   "source": [
    "## Q11 to Q15 are subjective answer type questions, Answer them briefly."
   ]
  },
  {
   "cell_type": "markdown",
   "metadata": {},
   "source": [
    "11. What is denormalization?\n",
    "\n",
    "--> Denormalization is a strategy that database managers use to increase the performance of a database infrastructure. It involves adding redundant data to a normalized database to reduce certain types of problems with database queries that combine data from various tables into a single table. The definition of denormalization is dependent on the definition of normalization, which is defined as the process of organizing a database into tables correctly to promote a given use."
   ]
  },
  {
   "cell_type": "markdown",
   "metadata": {},
   "source": [
    "12. What is a database cursor?\n",
    "\n",
    "--> A database cursor can be thought of as a pointer to a specific row within a query result.  The pointer can be moved from one row to the next.  Depending on the type of cursor, you may be even able to move it to the previous row.\n",
    "\n",
    "Think of it this way:  a SQL result is like a bag, you get to hold a whole bunch of rows at once, but not any of them individually; whereas, a cursor is like a pair of tweezers.  With it, you can reach into the bag and grab a row, and then move onto the next."
   ]
  },
  {
   "cell_type": "markdown",
   "metadata": {},
   "source": [
    "13. What are the different types of the queries?\n",
    "\n",
    "--> Here are five types of widely used SQL queries.\n",
    "\n",
    "Data Definition Language (DDL)\n",
    "\n",
    "Data Manipulation Language (DML)\n",
    "\n",
    "Data Control Language(DCL)\n",
    "\n",
    "Transaction Control Language(TCL)\n",
    "\n",
    "Data Query Language (DQL)"
   ]
  },
  {
   "cell_type": "markdown",
   "metadata": {},
   "source": [
    "14. Define constraint?\n",
    "\n",
    "--> Constraints are the rules enforced on the data columns of a table. These are used to limit the type of data that can go into a table. This ensures the accuracy and reliability of the data in the database.\n",
    "\n",
    "Constraints could be either on a column level or a table level. The column level constraints are applied only to one column, whereas the table level constraints are applied to the whole table."
   ]
  },
  {
   "cell_type": "markdown",
   "metadata": {},
   "source": [
    "15. What is auto increment?\n",
    "\n",
    "--> Auto-increment allows a unique number to be generated automatically when a new record is inserted into a table.\n",
    "\n",
    "Often this is the primary key field that we would like to be created automatically every time a new record is inserted."
   ]
  },
  {
   "cell_type": "markdown",
   "metadata": {},
   "source": [
    "# MACHINE LEARNING"
   ]
  },
  {
   "cell_type": "markdown",
   "metadata": {},
   "source": [
    "## In Q1 to Q5, only one option is correct, Choose the correct option:"
   ]
  },
  {
   "cell_type": "markdown",
   "metadata": {},
   "source": [
    "1. In which of the following you can say that the model is overfitting?\n",
    "\n",
    "A) High R-squared value for train-set and High R-squared value for test-set.\n",
    "B) Low R-squared value for train-set and High R-squared value for test-set.\n",
    "C) High R-squared value for train-set and Low R-squared value for test-set.\n",
    "D) None of the above\n",
    "\n",
    "--> C) High R-squared value for train-set and Low R-squared value for test-set."
   ]
  },
  {
   "cell_type": "markdown",
   "metadata": {},
   "source": [
    "2. Which among the following is a disadvantage of decision trees?\n",
    "\n",
    "A) Decision trees are prone to outliers.\n",
    "B) Decision trees are highly prone to overfitting.\n",
    "C) Decision trees are not easy to interpret\n",
    "D) None of the above.\n",
    "\n",
    "--> B) Decision trees are highly prone to overfitting."
   ]
  },
  {
   "cell_type": "markdown",
   "metadata": {},
   "source": [
    "3. Which of the following is an ensemble technique?\n",
    "\n",
    " A) SVM B) Logistic Regression\n",
    "C) Random Forest D) Decision tree\n",
    "\n",
    "--> C) Random Forest"
   ]
  },
  {
   "cell_type": "markdown",
   "metadata": {},
   "source": [
    "4. Suppose you are building a classification model for detection of a fatal disease where detection of \n",
    "the disease is most important. In this case which of the following metrics you would focus on?\n",
    "\n",
    "A) Accuracy B) Sensitivity\n",
    "C) Precision D) None of the above.\n",
    "\n",
    "--> B) Sensitivity"
   ]
  },
  {
   "cell_type": "markdown",
   "metadata": {},
   "source": [
    "5. The value of AUC (Area under Curve) value for ROC curve of model A is 0.70 and of model B is \n",
    "0.85. Which of these two models is doing better job in classification?\n",
    "\n",
    "A) Model A B) Model B\n",
    "C) both are performing equal D) Data Insufficient\n",
    "\n",
    "--> B) Model B"
   ]
  },
  {
   "cell_type": "markdown",
   "metadata": {},
   "source": [
    "## In Q6 to Q9, more than one options are correct, Choose all the correct options:"
   ]
  },
  {
   "cell_type": "markdown",
   "metadata": {},
   "source": [
    "6. Which of the following are the regularization technique in Linear Regression??\n",
    "\n",
    "A) Ridge B) R-squared\n",
    "C) MSE D) Lasso\n",
    "    \n",
    "--> A) Ridge\n",
    "\n",
    "D) Lasso"
   ]
  },
  {
   "cell_type": "markdown",
   "metadata": {},
   "source": [
    "7. Which of the following is not an example of boosting technique?\n",
    "\n",
    "A) Adaboost B) Decision Tree\n",
    "C) Random Forest D) Xgboost.\n",
    "\n",
    "--> B) Decision Tree\n",
    "\n",
    "C) Random Forest"
   ]
  },
  {
   "cell_type": "markdown",
   "metadata": {},
   "source": [
    "8. Which of the techniques are used for regularization of Decision Trees?\n",
    "\n",
    "A) Pruning B) L2 regularization\n",
    "C) Restricting the max depth of the tree D) All of the above\n",
    "\n",
    "--> A) Pruning\n",
    "\n",
    "C) Restricting the max depth of the tree"
   ]
  },
  {
   "cell_type": "markdown",
   "metadata": {},
   "source": [
    "9. Which of the following statements is true regarding the Adaboost technique?\n",
    "\n",
    "A) We initialize the probabilities of the distribution as 1/n, where n is the number of data-points\n",
    "B) A tree in the ensemble focuses more on the data points on which the previous tree was not \n",
    "performing well\n",
    "C) It is example of bagging technique\n",
    "D) None of the above\n",
    "\n",
    "--> A) We initialize the probabilities of the distribution as 1/n, where n is the number of data-points\n",
    "\n",
    "B) A tree in the ensemble focuses more on the data points on which the previous tree was not \n",
    "performing well"
   ]
  },
  {
   "cell_type": "markdown",
   "metadata": {},
   "source": [
    "## Q10 to Q15 are subjective answer type questions, Answer them briefly."
   ]
  },
  {
   "cell_type": "markdown",
   "metadata": {},
   "source": [
    "10. Explain how does the adjusted R-squared penalize the presence of unnecessary predictors in the\n",
    "model?\n",
    "\n",
    "--> The adjusted R-squared is a modified version of R-squared that has been adjusted for the number of predictors in the model. The adjusted R-squared increases only if the new term improves the model more than would be expected by chance. It decreases when a predictor improves the model by less than expected by chance. The adjusted R-squared can be negative, but it’s usually not.  It is always lower than the R-squared."
   ]
  },
  {
   "cell_type": "markdown",
   "metadata": {},
   "source": [
    "11. Differentiate between Ridge and Lasso Regression.\n",
    "\n",
    "--> Ridge and Lasso regression uses two different penalty functions. Ridge uses l2 where as lasso go with l1. In ridge regression, the penalty is the sum of the squares of the coefficients and for the Lasso, it’s the sum of the absolute values of the coefficients. It’s a shrinkage towards zero using an absolute value (l1 penalty) rather than a sum of squares(l2 penalty).\n",
    "\n",
    "As we know that ridge regression can’t zero coefficients. Here, you either select all the coefficients or none of them whereas LASSO does both parameter shrinkage and variable selection automatically because it zero out the co-efficients of collinear variables. Here it helps to select the variables out of given n variables while performing lasso regression."
   ]
  },
  {
   "cell_type": "markdown",
   "metadata": {},
   "source": [
    "12. What is VIF? What is the suitable value of a VIF for a feature to be included in a regression \n",
    "modelling?\n",
    "\n",
    "--> Variance inflation factor (VIF) is a measure of the amount of multicollinearity in a set of multiple regression variables. Mathematically, the VIF for a regression model variable is equal to the ratio of the overall model variance to the variance of a model that includes only that single independent variable.\n",
    "\n",
    "In general, a VIF above 10 indicates high correlation and is cause for concern. Some authors suggest a more conservative level of 2.5 or above. Sometimes a high VIF is no cause for concern at all. For example, you can get a high VIF by including products or powers from other variables in your regression, like x and x2."
   ]
  },
  {
   "cell_type": "markdown",
   "metadata": {},
   "source": [
    "13. Why do we need to scale the data before feeding it to the train the model?\n",
    "\n",
    "--> To ensure that the gradient descent moves smoothly towards the minima and that the steps for gradient descent are updated at the same rate for all the features, we scale the data before feeding it to the model. Having features on a similar scale can help the gradient descent converge more quickly towards the minima."
   ]
  },
  {
   "cell_type": "markdown",
   "metadata": {},
   "source": [
    "14. What are the different metrics which are used to check the goodness of fit in linear regression?\n",
    "\n",
    "--> These (R Squared, Adjusted R Squared, F Statistics , RMSE / MSE / MAE ) are some metrics which are used to check the goodness of fit in linear regression."
   ]
  },
  {
   "cell_type": "markdown",
   "metadata": {},
   "source": [
    "15. From the following confusion matrix calculate sensitivity, specificity, precision, recall and accuracy.\n",
    "\n",
    "--> Sensitivity\t= TPR = TP / (TP + FN) = 0.8000\n",
    "\n",
    "Specificity\t= SPC = TN / (FP + TN) = 0.9600\n",
    "\n",
    "Precision =\tPPV = TP / (TP + FP) = 0.9524\n",
    "\n",
    "Recall\t= TPR = TP / (TP + FN) = 0.8000\n",
    "\n",
    "Accuracy =\tACC = (TP + TN) / (P + N) = 0.8800"
   ]
  },
  {
   "cell_type": "code",
   "execution_count": null,
   "metadata": {},
   "outputs": [],
   "source": []
  }
 ],
 "metadata": {
  "kernelspec": {
   "display_name": "Python 3",
   "language": "python",
   "name": "python3"
  },
  "language_info": {
   "codemirror_mode": {
    "name": "ipython",
    "version": 3
   },
   "file_extension": ".py",
   "mimetype": "text/x-python",
   "name": "python",
   "nbconvert_exporter": "python",
   "pygments_lexer": "ipython3",
   "version": "3.8.3"
  }
 },
 "nbformat": 4,
 "nbformat_minor": 4
}
