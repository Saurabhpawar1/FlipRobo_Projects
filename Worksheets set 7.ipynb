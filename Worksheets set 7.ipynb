{
 "cells": [
  {
   "cell_type": "markdown",
   "metadata": {},
   "source": [
    "# STATISTICS WORKSHEET-7"
   ]
  },
  {
   "cell_type": "markdown",
   "metadata": {},
   "source": [
    "1. A die is thrown 1402 times. The frequencies for the outcomes 1, 2, 3, 4, 5 and 6 are given in the following \n",
    "table: \n",
    "Outcome 1 2 3 4 5 6\n",
    "Frequency 400 300 157 180 175 190\n",
    "Find the probability of getting 6 as outcome:\n",
    "    \n",
    "a) 0.34 \n",
    "b) 0.135\n",
    "c) 0.45\n",
    "d) 0.78\n",
    "\n",
    "--> b) 0.135 "
   ]
  },
  {
   "cell_type": "markdown",
   "metadata": {},
   "source": [
    "2. A telephone directory page has 400 telephone numbers. The frequency distribution of their unit place digit (for \n",
    "example, in the number 25827689, the unit place digit is 9 is given in table below: \n",
    "First row refers to the digits \n",
    "Second row to their frequencies.\n",
    " \n",
    "0 1 2 3 4 5 6 7 8 9\n",
    "\n",
    "44 52 44 44 40 20 28 56 32 40\n",
    "What will be the probability of getting a digit with unit place digit odd number that is 1, 3,5,7,9?\n",
    "                                                                                                               \n",
    "a) 0.67\n",
    "b) 0.60 \n",
    "c) 0.45\n",
    "d) 0.53\n",
    "\n",
    "--> d) 0.53"
   ]
  },
  {
   "cell_type": "markdown",
   "metadata": {},
   "source": [
    "3. A tyre manufacturing company which keeps a record of the distance covered before a tyre needed to be \n",
    "replaced. The table below shows the results of 1100 cases. \n",
    "Distance \n",
    "(miles)\n",
    "<4000 4000-9000 9001-14000 >14000\n",
    "Frequency 20 260 375 445\n",
    "If we buy a new tyre of this company, what is the probability that the tyre will last more than 9000 \n",
    "miles?\n",
    "\n",
    "a) 0.67\n",
    "b) 0.459 \n",
    "c) 0.745\n",
    "d) 0.73\n",
    "\n",
    "--> c) 0.745"
   ]
  },
  {
   "cell_type": "markdown",
   "metadata": {},
   "source": [
    "4. Please refer to the case and table given in the question No. 3 and determine what is the probability that if we buy \n",
    "a new tyre then it will last in the interval [4000-14000] miles?\n",
    "\n",
    "a) 0.56\n",
    "b) 0.577 \n",
    "c) 0.745 \n",
    "d) 0.73\n",
    "\n",
    "--> b) 0.577"
   ]
  },
  {
   "cell_type": "markdown",
   "metadata": {},
   "source": [
    "5. We have a box containing cards numbered from 0 to 9. We draw a card randomly from the box. If it is told to \n",
    "you that the card drawn is greater than 4 what is the probability that the card is odd?\n",
    "\n",
    "a) 0.5\n",
    "b) 0.8 \n",
    "c) 0.6\n",
    "d) 0.7\n",
    "\n",
    "--> a) 0.5"
   ]
  },
  {
   "cell_type": "markdown",
   "metadata": {},
   "source": [
    "6. We have a box containing cards numbered from 1 to 8. We draw a card randomly from the box. If it is told to \n",
    "you that the card drawn is less than 4 what is the probability that the card is even?\n",
    "\n",
    "a) 0.33\n",
    "b) 0.40 \n",
    "c) 0.56 \n",
    "d) 0.89\n",
    "\n",
    "--> a) 0.33"
   ]
  },
  {
   "cell_type": "markdown",
   "metadata": {},
   "source": [
    "7. A die is thrown twice and the sum of the numbers appearing is observed to be 7. What is the conditional \n",
    "probability that the number 6 has appeared at least on one of the die?\n",
    "\n",
    "a) 0.45 \n",
    "b) 0.37 \n",
    "c) 0.33 \n",
    "d) 0.89\n",
    "\n",
    "--> c) 0.33"
   ]
  },
  {
   "cell_type": "markdown",
   "metadata": {},
   "source": [
    "8. Consider the experiment of tossing a coin. If the coin shows tail, toss it again but if it shows head, then throw a \n",
    "die. Find the conditional probability of the event that ‘the die shows a number greater than 4’ given that ‘there is \n",
    "at least one Head’.\n",
    "\n",
    "a) 0.1 \n",
    "b) 0.22 \n",
    "c) 0.38\n",
    "d) 0.45\n",
    "\n",
    "--> b) 0.22 "
   ]
  },
  {
   "cell_type": "markdown",
   "metadata": {},
   "source": [
    "9. There are three persons Evan, Ross and Michelle. These people lined up randomly for a picture. What is the \n",
    "probability of Ross being at one of the ends of the line?\n",
    "\n",
    "a) 0.66\n",
    "b) 0.45 \n",
    "c) 0.23 \n",
    "d) 0.56\n",
    "\n",
    "--> a) 0.66"
   ]
  },
  {
   "cell_type": "markdown",
   "metadata": {},
   "source": [
    "10. Let us make an assumption that each born child is equally likely to be a boy or a girl. Now suppose, if a family \n",
    "has two children, what is the conditional probability that both are girls given that at least one of them is a girl?\n",
    "\n",
    "a) 0.33 \n",
    "b) 0.45 \n",
    "c) 0.56 \n",
    "d) 0.26\n",
    "\n",
    "--> a) 0.33 "
   ]
  },
  {
   "cell_type": "markdown",
   "metadata": {},
   "source": [
    "11. Consider the same case as in the question no. 10. It is given that elder child is a boy. What is the conditional \n",
    "probability that both children are boys?\n",
    "\n",
    "a) 0.33\n",
    "b) 0.23 \n",
    "c) 0.5 \n",
    "d) 0.76\n",
    "\n",
    "--> c) 0.5"
   ]
  },
  {
   "cell_type": "markdown",
   "metadata": {},
   "source": [
    "12. We toss a coin. If we get head, we toss a coin again and if we get tail we throw a die. What is the probability of \n",
    "getting a number greater than 4 on die?\n",
    "\n",
    "a) 0.166 \n",
    "b) 0.34 \n",
    "c) 0.78 \n",
    "d) 0.34\n",
    "\n",
    "--> a) 0.166"
   ]
  },
  {
   "cell_type": "markdown",
   "metadata": {},
   "source": [
    "13. We toss a coin. If we get head, we toss a coin again and if we get tail we throw a die. What is the probability of \n",
    "getting an odd number on die?\n",
    "\n",
    "a) 0.345\n",
    "b) 0.79 \n",
    "c) 0.2 \n",
    "d) 0.25\n",
    "\n",
    "--> d) 0.25"
   ]
  },
  {
   "cell_type": "markdown",
   "metadata": {},
   "source": [
    "14. Suppose we throw two dice together. What is the conditional probability of getting sum of two numbers found on \n",
    "the two die after throwing is less than 4, provided that the two numbers found on the two die are different?\n",
    "\n",
    "a) 0.3 \n",
    "b) 0.56 \n",
    "c) 0.24\n",
    "d) 0.06\n",
    "\n",
    "--> d) 0.06 "
   ]
  },
  {
   "cell_type": "markdown",
   "metadata": {},
   "source": [
    "15. A box contains three coins: two regular coins and one fake two-headed coin, you pick a coin at random and toss \n",
    "it. What is the probability that it lands heads up?\n",
    "\n",
    "a) 1/3 \n",
    "b) 2/3 \n",
    "c) 1/2\n",
    "d) 3/4\n",
    "\n",
    "--> b) 2/3"
   ]
  },
  {
   "cell_type": "markdown",
   "metadata": {},
   "source": [
    "# WORKSHEET 7 SQL"
   ]
  },
  {
   "cell_type": "markdown",
   "metadata": {},
   "source": [
    "### Q1 and Q2 have one or more correct answer. Choose all the correct option to answer your question."
   ]
  },
  {
   "cell_type": "markdown",
   "metadata": {},
   "source": [
    "1. The primary key is selected from the\n",
    "\n",
    "A. Composite keys\n",
    "B. Candidate keys\n",
    "C. Foreign keys\n",
    "D. Determinants\n",
    "\n",
    "--> B. Candidate keys"
   ]
  },
  {
   "cell_type": "markdown",
   "metadata": {},
   "source": [
    "2. Which is/are correct statements about primary key of a table?\n",
    "\n",
    "A. Primary keys can contain NULL values.\n",
    "B. Primary keys cannot contain NULL values…\n",
    "C. A table can have only one primary key with single or multiple fields….\n",
    "D. A table can have multiple primary keys with single or multiple fields.\n",
    "\n",
    "--> B. Primary keys cannot contain NULL values…\n",
    "\n",
    "C. A table can have only one primary key with single or multiple fields…."
   ]
  },
  {
   "cell_type": "markdown",
   "metadata": {},
   "source": [
    "### Q3 to Q10 have only one correct answer. Choose the correct option to answer your question."
   ]
  },
  {
   "cell_type": "markdown",
   "metadata": {},
   "source": [
    "3. Which SQL command is used to insert a row in a table?\n",
    "\n",
    "A. Select\n",
    "B. Create\n",
    "C. Insert\n",
    "D. Drop\n",
    "\n",
    "--> C. Insert"
   ]
  },
  {
   "cell_type": "markdown",
   "metadata": {},
   "source": [
    "4. Which one of the following sorts rows in SQL?\n",
    "\n",
    "A. SORTBY\n",
    "B. ALIGNBY\n",
    "C. ORDERBY\n",
    "D. GROUPBY\n",
    "\n",
    "--> C. ORDERBY"
   ]
  },
  {
   "cell_type": "markdown",
   "metadata": {},
   "source": [
    "5. The SQL statement that queries or reads data from a table is\n",
    "\n",
    "A. QUERY\n",
    "B. READ\n",
    "C. SELECT\n",
    "D. QUERY\n",
    "\n",
    "--> C. SELECT"
   ]
  },
  {
   "cell_type": "markdown",
   "metadata": {},
   "source": [
    "6. Which normal form is considered adequate for relational database design?\n",
    "\n",
    "A. 1NF\n",
    "B. 2NF\n",
    "C. 3NF\n",
    "D. 4NF\n",
    "\n",
    "--> C. 3NF"
   ]
  },
  {
   "cell_type": "markdown",
   "metadata": {},
   "source": [
    "7. SQL can be used to\n",
    "\n",
    "A. Create database structures only\n",
    "B. Modify database data only\n",
    "C. All of the above can be done by SQL\n",
    "D. Query database data only\n",
    "\n",
    "--> C. All of the above can be done by SQL"
   ]
  },
  {
   "cell_type": "markdown",
   "metadata": {},
   "source": [
    "8. SQL query and modification commands make up\n",
    "\n",
    "A. DDL\n",
    "B. DML\n",
    "C. HTML\n",
    "D. XML\n",
    "\n",
    "--> D. XML"
   ]
  },
  {
   "cell_type": "markdown",
   "metadata": {},
   "source": [
    "9. The result of a SQL SELECT statement is a(n).\n",
    "\n",
    "A. File\n",
    "B. Table\n",
    "C. Report\n",
    "D. Form\n",
    "\n",
    "--> B. Table"
   ]
  },
  {
   "cell_type": "markdown",
   "metadata": {},
   "source": [
    "10. Second normal form should meet all the rules for\n",
    "\n",
    "A. 1 NF\n",
    "B. 2 NF\n",
    "C. 3 NF\n",
    "D. 4 NF\n",
    "\n",
    "--> A. 1 NF"
   ]
  },
  {
   "cell_type": "markdown",
   "metadata": {},
   "source": [
    "### Q11 to Q15 are subjective answer type questions, Answer them briefly."
   ]
  },
  {
   "cell_type": "markdown",
   "metadata": {},
   "source": [
    "11. What are joins in SQL?\n",
    "\n",
    "--> The SQL Joins clause is used to combine records from two or more tables in a database. A JOIN is a means for combining fields from two tables by using values common to each."
   ]
  },
  {
   "cell_type": "markdown",
   "metadata": {},
   "source": [
    "12. What are the different types of joins in SQL?\n",
    "\n",
    "--> Here are the different types of the JOINs in SQL:\n",
    "\n",
    "(INNER) JOIN: Returns records that have matching values in both tables\n",
    "\n",
    "LEFT (OUTER) JOIN: Returns all records from the left table, and the matched records from the right table\n",
    "\n",
    "RIGHT (OUTER) JOIN: Returns all records from the right table, and the matched records from the left table\n",
    "\n",
    "FULL (OUTER) JOIN: Returns all records when there is a match in either left or right table"
   ]
  },
  {
   "cell_type": "markdown",
   "metadata": {},
   "source": [
    "13. What is SQL Server?\n",
    "\n",
    "--> It is a software, developed by Microsoft, which is implemented from the specification of RDBMS.\n",
    "\n",
    "It is also an ORDBMS.\n",
    "\n",
    "It is platform dependent.\n",
    "\n",
    "It is both GUI and command based software.\n",
    "\n",
    "It supports SQL (SEQUEL) language which is an IBM product, non-procedural, common database and case insensitive language."
   ]
  },
  {
   "cell_type": "markdown",
   "metadata": {},
   "source": [
    "14. What is primary key in SQL?\n",
    "\n",
    "--> The PRIMARY KEY constraint uniquely identifies each record in a table.\n",
    "\n",
    "Primary keys must contain UNIQUE values, and cannot contain NULL values.\n",
    "\n",
    "A table can have only ONE primary key; and in the table, this primary key can consist of single or multiple columns (fields)."
   ]
  },
  {
   "cell_type": "markdown",
   "metadata": {},
   "source": [
    "15. What is ETL in SQL?\n",
    "\n",
    "--> ETL stands for Extract, Transform and Load, which is a process used to collect data from various sources, transform the data depending on business rules/needs and load the data into a destination database."
   ]
  },
  {
   "cell_type": "markdown",
   "metadata": {},
   "source": [
    "# MACHINE LEARNING"
   ]
  },
  {
   "cell_type": "markdown",
   "metadata": {},
   "source": [
    "1. Which of the following in sk-learn library is used for hyper parameter tuning?\n",
    "\n",
    "A) GridSearchCV() B) RandomizedCV()\n",
    "C) K-fold Cross Validation D) All of the above\n",
    "\n",
    "--> D) All of the above"
   ]
  },
  {
   "cell_type": "markdown",
   "metadata": {},
   "source": [
    "2. In which of the below ensemble techniques trees are trained in parallel?\n",
    "\n",
    "A) Random forest B) Adaboost\n",
    "C) Gradient Boosting D) All of the above\n",
    "\n",
    "--> A) Random forest"
   ]
  },
  {
   "cell_type": "markdown",
   "metadata": {},
   "source": [
    "3. In machine learning, if in the below line of code:\n",
    " sklearn.svm.SVC (C=1.0, kernel='rbf', degree=3)\n",
    "we increasing the C hyper parameter, what will happen?\n",
    "\n",
    "A) The regularization will increase B) The regularization will decrease\n",
    "C) No effect on regularization D) kernel will be changed to linear\n",
    "\n",
    "--> B) The regularization will decrease"
   ]
  },
  {
   "cell_type": "markdown",
   "metadata": {},
   "source": [
    "4. Check the below line of code and answer the following questions:\n",
    "sklearn.tree.DecisionTreeClassifier(*criterion='gini',splitter='best',max_depth=None,\n",
    "min_samples_split=2)\n",
    "Which of the following is true regarding max_depth hyper parameter?\n",
    "\n",
    "A) It regularizes the decision tree by limiting the maximum depth up to which a tree can be grown.\n",
    "B) It denotes the number of children a node can have.\n",
    "C) both A & B\n",
    "D) None of the above\n",
    "\n",
    "--> C) both A & B"
   ]
  },
  {
   "cell_type": "markdown",
   "metadata": {},
   "source": [
    "5. Which of the following is true regarding Random Forests?\n",
    "\n",
    "A) It's an ensemble of weak learners.\n",
    "B) The component trees are trained in series\n",
    "C) In case of classification problem, the prediction is made by taking mode of the class labels \n",
    "predicted by the component trees.\n",
    "D) None of the above\n",
    "\n",
    "--> D) None of the above"
   ]
  },
  {
   "cell_type": "markdown",
   "metadata": {},
   "source": [
    "6. What can be the disadvantage if the learning rate is very high in gradient descent?\n",
    "\n",
    "A) Gradient Descent algorithm can diverge from the optimal solution.\n",
    "B) Gradient Descent algorithm can keep oscillating around the optimal solution and may not settle.\n",
    "C) Both of them\n",
    "D) None of them\n",
    "\n",
    "--> C) Both of them"
   ]
  },
  {
   "cell_type": "markdown",
   "metadata": {},
   "source": [
    "7. As the model complexity increases, what will happen?\n",
    "\n",
    "A) Bias will increase, Variance decrease B) Bias will decrease, Variance increase\n",
    "C)both bias and variance increase D) Both bias and variance decrease.\n",
    "\n",
    "--> B) Bias will decrease, Variance increase"
   ]
  },
  {
   "cell_type": "markdown",
   "metadata": {},
   "source": [
    "8. Suppose I have a linear regression model which is performing as follows:\n",
    " Train accuracy=0.95 and Test accuracy=0.75\n",
    "Which of the following is true regarding the model?\n",
    "\n",
    "A) model is underfitting B) model is overfitting\n",
    "C) model is performing good D) None of the above\n",
    "\n",
    "--> B) model is overfitting"
   ]
  },
  {
   "cell_type": "markdown",
   "metadata": {},
   "source": [
    "### Q9 to Q15 are subjective answer type questions, Answer them briefly."
   ]
  },
  {
   "cell_type": "markdown",
   "metadata": {},
   "source": [
    "9. Suppose we have a dataset which have two classes A and B. The percentage of class A is 40% and \n",
    "percentage of class B is 60%. Calculate the Gini index and entropy of the dataset.\n",
    "\n",
    "--> Gini index = 0.28\n",
    "\n",
    "    Entropy = 0.97"
   ]
  },
  {
   "cell_type": "markdown",
   "metadata": {},
   "source": [
    "10. What are the advantages of Random Forests over Decision Tree?\n",
    "\n",
    "--> It reduces overfitting in decision trees and helps to improve the accuracy.\n",
    "\n",
    "\n",
    "It works well with both categorical and continuous values.\n",
    "\n",
    "It automates missing values present in the data.\n",
    "\n",
    "Normalising of data is not required as it uses a rule-based approach.\n",
    "\n",
    "It is Robust to outliers.\n",
    "\n",
    "It Works well with non-linear data.\n",
    "\n",
    "It runs efficiently on a large dataset.\n",
    "\n",
    "Better accuracy than Decision tree."
   ]
  },
  {
   "cell_type": "markdown",
   "metadata": {},
   "source": [
    "11. What is the need of scaling all numerical features in a dataset? Name any two techniques used for \n",
    "scaling.\n",
    "\n",
    "--> Feature scaling is essential for machine learning algorithms that calculate distances between data. If not scale, the feature with a higher value range starts dominating when calculating distances.\n",
    "\n",
    "Two techniques used for scaling:-\n",
    "\n",
    "1) Min Max Scaler\n",
    "\n",
    "2) Standard Scaler"
   ]
  },
  {
   "cell_type": "markdown",
   "metadata": {},
   "source": [
    "12. Write down some advantages which scaling provides in optimization using gradient descent \n",
    "algorithm.\n",
    "\n",
    "--> It makes the training faster.\n",
    "\n",
    "It prevents the optimization from getting stuck in local optima.\n",
    "\n",
    "It gives a better error surface shape.\n",
    "\n",
    "Weight decay and Bayes optimization can be done more conveniently.\n",
    "\n",
    "It's also important to apply feature scaling if regularization is used as part of the loss function so that coefficients are penalized appropriately."
   ]
  },
  {
   "cell_type": "markdown",
   "metadata": {},
   "source": [
    "13. In case of a highly imbalanced dataset for a classification problem, is accuracy a good metric to \n",
    "measure the performance of the model. If not, why?\n",
    "\n",
    "--> In case of a highly imbalanced dataset for a classification problem accuracy is not at all good metric to measure the performance of the model.\n",
    "\n",
    "Achieving 90 percent classification accuracy, or even 99 percent classification accuracy, may be trivial on an imbalanced classification problem.\n",
    "\n",
    "This means that intuitions for classification accuracy developed on balanced class distributions will be applied and will be wrong, misleading the practitioner into thinking that a model has good or even excellent performance when it, in fact, does not."
   ]
  },
  {
   "cell_type": "markdown",
   "metadata": {},
   "source": [
    "14. What is “f-score\" metric? Write its mathematical formula.\n",
    "\n",
    "--> In statistical analysis of binary classification, the F-score or F-measure is a measure of a test's accuracy. It is calculated from the precision and recall of the test, where the precision is the number of true positive results divided by the number of all positive results, including those not identified correctly, and the recall is the number of true positive results divided by the number of all samples that should have been identified as positive.\n",
    "\n",
    "F score = 2 * (precision * recall) / (precision + recall)"
   ]
  },
  {
   "cell_type": "markdown",
   "metadata": {},
   "source": [
    "15. What is the difference between fit(), transform() and fit_transform() ?\n",
    "\n",
    "--> fit() :\n",
    "In the fit() method, where we use the required formula and perform the calculation on the feature values of input data and fit this calculation to the transformer. For applying the fit() method we have to use .fit() in front of the transformer object.\n",
    "\n",
    "Suppose we initialize the StandardScaler object O and we do .fit() then what will it do that, it takes the feature F and it will just compute the mean (μ) and standard deviation (σ) of feature F. That has happened in the fit method.\n",
    "\n",
    "transform() :\n",
    "For changing the data we probably do transform, in the transform() method, where we apply the calculations that we have calculated in fit() to every data point in feature F. We have to use .transform() in front of a fit object because we transform the fit calculations.\n",
    "\n",
    "We use the example that is used above section when we create an object of the fit method then we just put it in front of the .transform and transform method uses those calculations to transform the scale of the data points, and the output will we get is always in the form of sparse matrix or array.\n",
    "\n",
    "fit_transform():\n",
    "This fit_transform() method is basically the combination of fit method and transform method, it is equivalent to fit().transform(). This method performs fit and transform on the input data at a single time and converts the data points. If we use fit and transform separate when we need both then it will decrease the efficiency of the model so we use fit_transform() which will do both the work.\n",
    "\n",
    "Suppose, we create the StandarScaler object, and then we perform .fit_transform() then it will calculate the mean(μ) and standard deviation(σ) of the feature F at a time it will transform the data points of the feature F."
   ]
  },
  {
   "cell_type": "code",
   "execution_count": null,
   "metadata": {},
   "outputs": [],
   "source": []
  }
 ],
 "metadata": {
  "kernelspec": {
   "display_name": "Python 3",
   "language": "python",
   "name": "python3"
  },
  "language_info": {
   "codemirror_mode": {
    "name": "ipython",
    "version": 3
   },
   "file_extension": ".py",
   "mimetype": "text/x-python",
   "name": "python",
   "nbconvert_exporter": "python",
   "pygments_lexer": "ipython3",
   "version": "3.8.3"
  }
 },
 "nbformat": 4,
 "nbformat_minor": 4
}
